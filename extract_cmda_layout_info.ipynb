{
 "cells": [
  {
   "cell_type": "code",
   "execution_count": 1,
   "id": "9f5b13e4",
   "metadata": {},
   "outputs": [],
   "source": [
    "import requests\n",
    "import re\n",
    "import pdfplumber\n",
    "import pandas as pd\n",
    "import os\n",
    "import io\n",
    "import asyncio\n",
    "import aiohttp\n",
    "from bs4 import BeautifulSoup\n",
    "import warnings\n",
    "\n",
    "warnings.filterwarnings(\"ignore\", message=\"CropBox missing from /Page, defaulting to MediaBox\")\n"
   ]
  },
  {
   "cell_type": "code",
   "execution_count": 2,
   "id": "05329eaf",
   "metadata": {},
   "outputs": [],
   "source": [
    "# get df with all links\n",
    "year = 2024\n",
    "mainurl = f'https://www.cmdachennai.gov.in/ApprovedLayout/{year}.htm'\n",
    "df = pd.read_html(mainurl)[0]\n",
    "df = df.iloc[:-1,:-1]\n",
    "\n",
    "\n",
    "resp = requests.get(mainurl)\n",
    "resp.raise_for_status()\n",
    "soup = BeautifulSoup(resp.text, 'html.parser')\n",
    "pdflist = soup.find_all('a')\n",
    "pdflist = [i for i in pdflist if i.get('href').endswith('.pdf')]\n",
    "df['bs4'] = pdflist\n",
    "\n",
    "def extractpplfromurl(url):\n",
    "    return url.split('/')[-1][:-4].replace('-','/')\n",
    "\n",
    "df['url'] = df.bs4.apply(lambda x: 'https://www.cmdachennai.gov.in/' + x.get('href'))\n",
    "df['extracted_ppl'] = df.url.apply(extractpplfromurl)\n",
    "df['pdf_savepath'] = df.extracted_ppl.apply(lambda x: x.split('/')[-1] +'/'+ x.split('/')[0] + '.pdf' )\n"
   ]
  },
  {
   "cell_type": "code",
   "execution_count": 7,
   "id": "7a105de2",
   "metadata": {},
   "outputs": [
    {
     "data": {
      "text/plain": [
       "0    True\n",
       "dtype: bool"
      ]
     },
     "execution_count": 7,
     "metadata": {},
     "output_type": "execute_result"
    }
   ],
   "source": [
    "# verify layout numbers match\n",
    "pd.DataFrame(df.iloc[:,1] == df.iloc[:,-2]).all()\n",
    "\n"
   ]
  },
  {
   "cell_type": "code",
   "execution_count": null,
   "id": "209f778b",
   "metadata": {},
   "outputs": [],
   "source": [
    "async def downlaod_and_extract_pdf(session, df_row, x_start_ratio=0.4):\n",
    "    pdf_url, savepath = df_row['url'], 'data/' + df_row['pdf_savepath']\n",
    "    try:\n",
    "        all_text = []\n",
    "        savedtodisk = False\n",
    "        # Use aiohttp for async HTTP requests\n",
    "        async with session.get(pdf_url, ssl=False) as response:\n",
    "            response.raise_for_status()\n",
    "            content = await response.read()\n",
    "            \n",
    "            # Read PDF\n",
    "            pdf_file = io.BytesIO(content)\n",
    "            # save the pdf file\n",
    "            os.makedirs(os.path.dirname(os.path.abspath(savepath)), exist_ok=True)\n",
    "            with open(savepath, 'wb') as fh:\n",
    "                fh.write(content)\n",
    "                savedtodisk = True\n",
    "                print(f\"Saved PDF to disk: {savepath}\")\n",
    "\n",
    "            with pdfplumber.open(pdf_file) as pdf:\n",
    "                for page in pdf.pages:\n",
    "                    width = page.width\n",
    "                    height = page.height\n",
    "                    \n",
    "                    # Dynamically compute the crop box based on width\n",
    "                    # Adjust the start ratio (0.4 or 0.5) as needed\n",
    "                    crop = page.within_bbox((width * x_start_ratio, 0, width, height))\n",
    "                    text = crop.extract_text()\n",
    "                    if text:\n",
    "                        all_text.append(text)\n",
    "        return \"\\n\".join(all_text), savedtodisk\n",
    "    except Exception as e:\n",
    "        return f\"ERROR: {e}\", False\n",
    "    \n",
    "\n",
    "def extract_multiple_patterns(text: str) -> dict[str|None]:\n",
    "    \"\"\"\n",
    "    Extract multiple patterns from PDF text\n",
    "    \n",
    "    Returns:\n",
    "        Dictionary with pattern matches\n",
    "    \"\"\"\n",
    "    # Define patterns with descriptive keys\n",
    "    patterns = {\n",
    "        'total_no_plots': [\n",
    "            r'NO\\.?\\s*OF\\.?\\s*PLOTS\\s*[=:]\\s*(\\d+)',\n",
    "            r'No\\.?\\s*of\\s*[Pp]lots\\s*[=:]\\s*(\\d+)',\n",
    "            r'TOTAL\\s*PLOTS?\\s*[=:]\\s*(\\d+)'\n",
    "        ],\n",
    "        'ews': [\n",
    "            r'(?i)\\bE\\.?W\\.?S\\.?\\s+(?:Provided|Plots)\\b[^\\n]*[:=]\\s*(\\d+)\\s*Nos\\.?\\b'\n",
    "        ],\n",
    "        'regular':[\n",
    "            r'(?i)REGULAR PLOTS.\\s*[^\\n]*?[:=]\\s*(\\d+)\\s*No'\n",
    "        ],\n",
    "        'date': [\n",
    "            r'DATE\\s*[=:]\\s*(\\d{1,2}\\s?[-\\/]\\s?\\d{2}\\s?[-\\/]\\s?\\d{4})',\n",
    "            r'Date\\s*:\\s*(\\d{1,2}(?:st|nd|rd|th)?\\s+(?:Jan(?:uary)?|Feb(?:ruary)?|Mar(?:ch)?|Apr(?:il)?|May|Jun(?:e)?|Jul(?:y)?|Aug(?:ust)?|Sep(?:tember)?|Oct(?:ober)?|Nov(?:ember)?|Dec(?:ember)?)\\s+\\d{4})',\n",
    "            r'(\\d{4}-\\d{2}-\\d{2})'\n",
    "        ],\n",
    "        'reference_number': [\n",
    "            r'REF(?:ERENCE)?\\s*NO\\.?\\s*[=:]\\s*([A-Z0-9-/]+)',\n",
    "            r'File\\s*No\\.?\\s*[=:]\\s*([A-Z0-9-/]+)',\n",
    "            r'Application\\s*No\\.?\\s*[=:]\\s*([A-Z0-9-/]+)'\n",
    "        ]\n",
    "    }\n",
    "\n",
    "    try:\n",
    "        \n",
    "        # Dictionary to store results\n",
    "        results = {}\n",
    "        \n",
    "        # Search for each pattern category\n",
    "        for category, pattern_list in patterns.items():\n",
    "            results[category] = None\n",
    "            for pattern in pattern_list:\n",
    "                matches = re.findall(pattern, text, re.IGNORECASE)\n",
    "                if matches:\n",
    "                    results[category] = matches[0]\n",
    "                    break\n",
    "        \n",
    "        return results\n",
    "        \n",
    "    except Exception as e:\n",
    "        print(f\"Error processing URL {text}: {str(e)}\")\n",
    "        return {key: None for key in patterns.keys()}, text\n"
   ]
  },
  {
   "cell_type": "code",
   "execution_count": 32,
   "id": "4e31f46d",
   "metadata": {},
   "outputs": [
    {
     "name": "stderr",
     "output_type": "stream",
     "text": [
      "CropBox missing from /Page, defaulting to MediaBox\n"
     ]
    },
    {
     "name": "stdout",
     "output_type": "stream",
     "text": [
      "Saved PDF to disk: data/2024/97.pdf\n"
     ]
    },
    {
     "name": "stderr",
     "output_type": "stream",
     "text": [
      "CropBox missing from /Page, defaulting to MediaBox\n",
      "CropBox missing from /Page, defaulting to MediaBox\n",
      "CropBox missing from /Page, defaulting to MediaBox\n",
      "CropBox missing from /Page, defaulting to MediaBox\n"
     ]
    },
    {
     "name": "stdout",
     "output_type": "stream",
     "text": [
      "Saved PDF to disk: data/2024/75.pdf\n",
      "Saved PDF to disk: data/2024/47.pdf\n"
     ]
    },
    {
     "name": "stderr",
     "output_type": "stream",
     "text": [
      "CropBox missing from /Page, defaulting to MediaBox\n",
      "CropBox missing from /Page, defaulting to MediaBox\n"
     ]
    },
    {
     "name": "stdout",
     "output_type": "stream",
     "text": [
      "Saved PDF to disk: data/2024/93.pdf\n"
     ]
    },
    {
     "name": "stderr",
     "output_type": "stream",
     "text": [
      "CropBox missing from /Page, defaulting to MediaBox\n",
      "CropBox missing from /Page, defaulting to MediaBox\n",
      "CropBox missing from /Page, defaulting to MediaBox\n",
      "CropBox missing from /Page, defaulting to MediaBox\n"
     ]
    },
    {
     "name": "stdout",
     "output_type": "stream",
     "text": [
      "Saved PDF to disk: data/2024/36.pdf\n",
      "Saved PDF to disk: data/2024/44.pdf\n"
     ]
    },
    {
     "name": "stderr",
     "output_type": "stream",
     "text": [
      "CropBox missing from /Page, defaulting to MediaBox\n",
      "CropBox missing from /Page, defaulting to MediaBox\n",
      "CropBox missing from /Page, defaulting to MediaBox\n",
      "CropBox missing from /Page, defaulting to MediaBox\n"
     ]
    },
    {
     "name": "stdout",
     "output_type": "stream",
     "text": [
      "Saved PDF to disk: data/2024/21.pdf\n",
      "Saved PDF to disk: data/2024/56.pdf\n"
     ]
    },
    {
     "name": "stderr",
     "output_type": "stream",
     "text": [
      "CropBox missing from /Page, defaulting to MediaBox\n",
      "CropBox missing from /Page, defaulting to MediaBox\n"
     ]
    },
    {
     "name": "stdout",
     "output_type": "stream",
     "text": [
      "Saved PDF to disk: data/2024/83.pdf\n"
     ]
    },
    {
     "name": "stderr",
     "output_type": "stream",
     "text": [
      "CropBox missing from /Page, defaulting to MediaBox\n",
      "CropBox missing from /Page, defaulting to MediaBox\n",
      "CropBox missing from /Page, defaulting to MediaBox\n",
      "CropBox missing from /Page, defaulting to MediaBox\n"
     ]
    },
    {
     "name": "stdout",
     "output_type": "stream",
     "text": [
      "Saved PDF to disk: data/2024/87.pdf\n",
      "Saved PDF to disk: data/2024/89.pdf\n"
     ]
    },
    {
     "name": "stderr",
     "output_type": "stream",
     "text": [
      "CropBox missing from /Page, defaulting to MediaBox\n",
      "CropBox missing from /Page, defaulting to MediaBox\n",
      "CropBox missing from /Page, defaulting to MediaBox\n",
      "CropBox missing from /Page, defaulting to MediaBox\n"
     ]
    },
    {
     "name": "stdout",
     "output_type": "stream",
     "text": [
      "Saved PDF to disk: data/2024/74.pdf\n",
      "Saved PDF to disk: data/2024/12.pdf\n"
     ]
    },
    {
     "name": "stderr",
     "output_type": "stream",
     "text": [
      "CropBox missing from /Page, defaulting to MediaBox\n",
      "CropBox missing from /Page, defaulting to MediaBox\n"
     ]
    },
    {
     "name": "stdout",
     "output_type": "stream",
     "text": [
      "Saved PDF to disk: data/2024/20.pdf\n"
     ]
    },
    {
     "name": "stderr",
     "output_type": "stream",
     "text": [
      "CropBox missing from /Page, defaulting to MediaBox\n",
      "CropBox missing from /Page, defaulting to MediaBox\n",
      "CropBox missing from /Page, defaulting to MediaBox\n",
      "CropBox missing from /Page, defaulting to MediaBox\n"
     ]
    },
    {
     "name": "stdout",
     "output_type": "stream",
     "text": [
      "Saved PDF to disk: data/2024/39.pdf\n",
      "Saved PDF to disk: data/2024/27.pdf\n"
     ]
    },
    {
     "name": "stderr",
     "output_type": "stream",
     "text": [
      "CropBox missing from /Page, defaulting to MediaBox\n",
      "CropBox missing from /Page, defaulting to MediaBox\n"
     ]
    },
    {
     "name": "stdout",
     "output_type": "stream",
     "text": [
      "Saved PDF to disk: data/2024/13.pdf\n"
     ]
    },
    {
     "name": "stderr",
     "output_type": "stream",
     "text": [
      "CropBox missing from /Page, defaulting to MediaBox\n",
      "CropBox missing from /Page, defaulting to MediaBox\n",
      "CropBox missing from /Page, defaulting to MediaBox\n",
      "CropBox missing from /Page, defaulting to MediaBox\n"
     ]
    },
    {
     "name": "stdout",
     "output_type": "stream",
     "text": [
      "Saved PDF to disk: data/2024/33.pdf\n",
      "Saved PDF to disk: data/2024/79.pdf\n"
     ]
    },
    {
     "name": "stderr",
     "output_type": "stream",
     "text": [
      "CropBox missing from /Page, defaulting to MediaBox\n",
      "CropBox missing from /Page, defaulting to MediaBox\n",
      "CropBox missing from /Page, defaulting to MediaBox\n",
      "CropBox missing from /Page, defaulting to MediaBox\n"
     ]
    },
    {
     "name": "stdout",
     "output_type": "stream",
     "text": [
      "Saved PDF to disk: data/2024/82.pdf\n",
      "Saved PDF to disk: data/2024/19.pdf\n"
     ]
    },
    {
     "name": "stderr",
     "output_type": "stream",
     "text": [
      "CropBox missing from /Page, defaulting to MediaBox\n",
      "CropBox missing from /Page, defaulting to MediaBox\n"
     ]
    },
    {
     "name": "stdout",
     "output_type": "stream",
     "text": [
      "Saved PDF to disk: data/2024/30.pdf\n"
     ]
    },
    {
     "name": "stderr",
     "output_type": "stream",
     "text": [
      "CropBox missing from /Page, defaulting to MediaBox\n",
      "CropBox missing from /Page, defaulting to MediaBox\n"
     ]
    },
    {
     "name": "stdout",
     "output_type": "stream",
     "text": [
      "Saved PDF to disk: data/2024/58.pdf\n"
     ]
    },
    {
     "name": "stderr",
     "output_type": "stream",
     "text": [
      "CropBox missing from /Page, defaulting to MediaBox\n",
      "CropBox missing from /Page, defaulting to MediaBox\n",
      "CropBox missing from /Page, defaulting to MediaBox\n",
      "CropBox missing from /Page, defaulting to MediaBox\n"
     ]
    },
    {
     "name": "stdout",
     "output_type": "stream",
     "text": [
      "Saved PDF to disk: data/2024/23.pdf\n",
      "Saved PDF to disk: data/2024/41.pdf\n"
     ]
    },
    {
     "name": "stderr",
     "output_type": "stream",
     "text": [
      "CropBox missing from /Page, defaulting to MediaBox\n",
      "CropBox missing from /Page, defaulting to MediaBox\n"
     ]
    },
    {
     "name": "stdout",
     "output_type": "stream",
     "text": [
      "Saved PDF to disk: data/2024/24.pdf\n"
     ]
    },
    {
     "name": "stderr",
     "output_type": "stream",
     "text": [
      "CropBox missing from /Page, defaulting to MediaBox\n",
      "CropBox missing from /Page, defaulting to MediaBox\n"
     ]
    },
    {
     "name": "stdout",
     "output_type": "stream",
     "text": [
      "Saved PDF to disk: data/2024/29.pdf\n"
     ]
    },
    {
     "name": "stderr",
     "output_type": "stream",
     "text": [
      "CropBox missing from /Page, defaulting to MediaBox\n",
      "CropBox missing from /Page, defaulting to MediaBox\n",
      "CropBox missing from /Page, defaulting to MediaBox\n",
      "CropBox missing from /Page, defaulting to MediaBox\n"
     ]
    },
    {
     "name": "stdout",
     "output_type": "stream",
     "text": [
      "Saved PDF to disk: data/2024/102.pdf\n",
      "Saved PDF to disk: data/2024/10.pdf\n"
     ]
    },
    {
     "name": "stderr",
     "output_type": "stream",
     "text": [
      "CropBox missing from /Page, defaulting to MediaBox\n",
      "CropBox missing from /Page, defaulting to MediaBox\n"
     ]
    },
    {
     "name": "stdout",
     "output_type": "stream",
     "text": [
      "Saved PDF to disk: data/2024/78.pdf\n"
     ]
    },
    {
     "name": "stderr",
     "output_type": "stream",
     "text": [
      "CropBox missing from /Page, defaulting to MediaBox\n",
      "CropBox missing from /Page, defaulting to MediaBox\n",
      "CropBox missing from /Page, defaulting to MediaBox\n",
      "CropBox missing from /Page, defaulting to MediaBox\n"
     ]
    },
    {
     "name": "stdout",
     "output_type": "stream",
     "text": [
      "Saved PDF to disk: data/2024/84.pdf\n",
      "Saved PDF to disk: data/2024/40.pdf\n"
     ]
    },
    {
     "name": "stderr",
     "output_type": "stream",
     "text": [
      "CropBox missing from /Page, defaulting to MediaBox\n",
      "CropBox missing from /Page, defaulting to MediaBox\n"
     ]
    },
    {
     "name": "stdout",
     "output_type": "stream",
     "text": [
      "Saved PDF to disk: data/2024/67.pdf\n"
     ]
    },
    {
     "name": "stderr",
     "output_type": "stream",
     "text": [
      "CropBox missing from /Page, defaulting to MediaBox\n",
      "CropBox missing from /Page, defaulting to MediaBox\n"
     ]
    },
    {
     "name": "stdout",
     "output_type": "stream",
     "text": [
      "Saved PDF to disk: data/2024/43.pdf\n"
     ]
    },
    {
     "name": "stderr",
     "output_type": "stream",
     "text": [
      "CropBox missing from /Page, defaulting to MediaBox\n",
      "CropBox missing from /Page, defaulting to MediaBox\n",
      "CropBox missing from /Page, defaulting to MediaBox\n",
      "CropBox missing from /Page, defaulting to MediaBox\n"
     ]
    },
    {
     "name": "stdout",
     "output_type": "stream",
     "text": [
      "Saved PDF to disk: data/2024/31.pdf\n",
      "Saved PDF to disk: data/2024/32.pdf\n"
     ]
    },
    {
     "name": "stderr",
     "output_type": "stream",
     "text": [
      "CropBox missing from /Page, defaulting to MediaBox\n",
      "CropBox missing from /Page, defaulting to MediaBox\n"
     ]
    },
    {
     "name": "stdout",
     "output_type": "stream",
     "text": [
      "Saved PDF to disk: data/2024/77.pdf\n"
     ]
    },
    {
     "name": "stderr",
     "output_type": "stream",
     "text": [
      "CropBox missing from /Page, defaulting to MediaBox\n",
      "CropBox missing from /Page, defaulting to MediaBox\n"
     ]
    },
    {
     "name": "stdout",
     "output_type": "stream",
     "text": [
      "Saved PDF to disk: data/2024/26.pdf\n"
     ]
    },
    {
     "name": "stderr",
     "output_type": "stream",
     "text": [
      "CropBox missing from /Page, defaulting to MediaBox\n",
      "CropBox missing from /Page, defaulting to MediaBox\n"
     ]
    },
    {
     "name": "stdout",
     "output_type": "stream",
     "text": [
      "Saved PDF to disk: data/2024/62.pdf\n"
     ]
    },
    {
     "name": "stderr",
     "output_type": "stream",
     "text": [
      "CropBox missing from /Page, defaulting to MediaBox\n",
      "CropBox missing from /Page, defaulting to MediaBox\n"
     ]
    },
    {
     "name": "stdout",
     "output_type": "stream",
     "text": [
      "Saved PDF to disk: data/2024/14.pdf\n"
     ]
    },
    {
     "name": "stderr",
     "output_type": "stream",
     "text": [
      "CropBox missing from /Page, defaulting to MediaBox\n",
      "CropBox missing from /Page, defaulting to MediaBox\n"
     ]
    },
    {
     "name": "stdout",
     "output_type": "stream",
     "text": [
      "Saved PDF to disk: data/2024/53.pdf\n"
     ]
    },
    {
     "name": "stderr",
     "output_type": "stream",
     "text": [
      "CropBox missing from /Page, defaulting to MediaBox\n",
      "CropBox missing from /Page, defaulting to MediaBox\n"
     ]
    },
    {
     "name": "stdout",
     "output_type": "stream",
     "text": [
      "Saved PDF to disk: data/2024/16.pdf\n"
     ]
    },
    {
     "name": "stderr",
     "output_type": "stream",
     "text": [
      "CropBox missing from /Page, defaulting to MediaBox\n",
      "CropBox missing from /Page, defaulting to MediaBox\n"
     ]
    },
    {
     "name": "stdout",
     "output_type": "stream",
     "text": [
      "Saved PDF to disk: data/2024/90.pdf\n"
     ]
    },
    {
     "name": "stderr",
     "output_type": "stream",
     "text": [
      "CropBox missing from /Page, defaulting to MediaBox\n",
      "CropBox missing from /Page, defaulting to MediaBox\n"
     ]
    },
    {
     "name": "stdout",
     "output_type": "stream",
     "text": [
      "Saved PDF to disk: data/2024/52.pdf\n"
     ]
    },
    {
     "name": "stderr",
     "output_type": "stream",
     "text": [
      "CropBox missing from /Page, defaulting to MediaBox\n",
      "CropBox missing from /Page, defaulting to MediaBox\n",
      "CropBox missing from /Page, defaulting to MediaBox\n",
      "CropBox missing from /Page, defaulting to MediaBox\n"
     ]
    },
    {
     "name": "stdout",
     "output_type": "stream",
     "text": [
      "Saved PDF to disk: data/2024/60.pdf\n",
      "Saved PDF to disk: data/2024/73.pdf\n"
     ]
    },
    {
     "name": "stderr",
     "output_type": "stream",
     "text": [
      "CropBox missing from /Page, defaulting to MediaBox\n",
      "CropBox missing from /Page, defaulting to MediaBox\n",
      "CropBox missing from /Page, defaulting to MediaBox\n",
      "CropBox missing from /Page, defaulting to MediaBox\n"
     ]
    },
    {
     "name": "stdout",
     "output_type": "stream",
     "text": [
      "Saved PDF to disk: data/2024/25.pdf\n",
      "Saved PDF to disk: data/2024/03.pdf\n"
     ]
    },
    {
     "name": "stderr",
     "output_type": "stream",
     "text": [
      "CropBox missing from /Page, defaulting to MediaBox\n",
      "CropBox missing from /Page, defaulting to MediaBox\n",
      "CropBox missing from /Page, defaulting to MediaBox\n",
      "CropBox missing from /Page, defaulting to MediaBox\n"
     ]
    },
    {
     "name": "stdout",
     "output_type": "stream",
     "text": [
      "Saved PDF to disk: data/2024/103.pdf\n",
      "Saved PDF to disk: data/2024/15.pdf\n"
     ]
    },
    {
     "name": "stderr",
     "output_type": "stream",
     "text": [
      "CropBox missing from /Page, defaulting to MediaBox\n",
      "CropBox missing from /Page, defaulting to MediaBox\n",
      "CropBox missing from /Page, defaulting to MediaBox\n",
      "CropBox missing from /Page, defaulting to MediaBox\n"
     ]
    },
    {
     "name": "stdout",
     "output_type": "stream",
     "text": [
      "Saved PDF to disk: data/2024/100.pdf\n",
      "Saved PDF to disk: data/2024/22.pdf\n"
     ]
    },
    {
     "name": "stderr",
     "output_type": "stream",
     "text": [
      "CropBox missing from /Page, defaulting to MediaBox\n",
      "CropBox missing from /Page, defaulting to MediaBox\n",
      "CropBox missing from /Page, defaulting to MediaBox\n",
      "CropBox missing from /Page, defaulting to MediaBox\n"
     ]
    },
    {
     "name": "stdout",
     "output_type": "stream",
     "text": [
      "Saved PDF to disk: data/2024/72.pdf\n",
      "Saved PDF to disk: data/2024/80.pdf\n"
     ]
    },
    {
     "name": "stderr",
     "output_type": "stream",
     "text": [
      "CropBox missing from /Page, defaulting to MediaBox\n",
      "CropBox missing from /Page, defaulting to MediaBox\n",
      "CropBox missing from /Page, defaulting to MediaBox\n",
      "CropBox missing from /Page, defaulting to MediaBox\n"
     ]
    },
    {
     "name": "stdout",
     "output_type": "stream",
     "text": [
      "Saved PDF to disk: data/2024/05.pdf\n",
      "Saved PDF to disk: data/2024/69.pdf\n"
     ]
    },
    {
     "name": "stderr",
     "output_type": "stream",
     "text": [
      "CropBox missing from /Page, defaulting to MediaBox\n",
      "CropBox missing from /Page, defaulting to MediaBox\n"
     ]
    },
    {
     "name": "stdout",
     "output_type": "stream",
     "text": [
      "Saved PDF to disk: data/2024/57.pdf\n"
     ]
    },
    {
     "name": "stderr",
     "output_type": "stream",
     "text": [
      "CropBox missing from /Page, defaulting to MediaBox\n",
      "CropBox missing from /Page, defaulting to MediaBox\n",
      "CropBox missing from /Page, defaulting to MediaBox\n",
      "CropBox missing from /Page, defaulting to MediaBox\n"
     ]
    },
    {
     "name": "stdout",
     "output_type": "stream",
     "text": [
      "Saved PDF to disk: data/2024/99.pdf\n",
      "Saved PDF to disk: data/2024/02.pdf\n"
     ]
    },
    {
     "name": "stderr",
     "output_type": "stream",
     "text": [
      "CropBox missing from /Page, defaulting to MediaBox\n",
      "CropBox missing from /Page, defaulting to MediaBox\n",
      "CropBox missing from /Page, defaulting to MediaBox\n",
      "CropBox missing from /Page, defaulting to MediaBox\n"
     ]
    },
    {
     "name": "stdout",
     "output_type": "stream",
     "text": [
      "Saved PDF to disk: data/2024/46.pdf\n",
      "Saved PDF to disk: data/2024/49.pdf\n"
     ]
    },
    {
     "name": "stderr",
     "output_type": "stream",
     "text": [
      "CropBox missing from /Page, defaulting to MediaBox\n",
      "CropBox missing from /Page, defaulting to MediaBox\n"
     ]
    },
    {
     "name": "stdout",
     "output_type": "stream",
     "text": [
      "Saved PDF to disk: data/2024/34.pdf\n"
     ]
    },
    {
     "name": "stderr",
     "output_type": "stream",
     "text": [
      "CropBox missing from /Page, defaulting to MediaBox\n",
      "CropBox missing from /Page, defaulting to MediaBox\n",
      "CropBox missing from /Page, defaulting to MediaBox\n",
      "CropBox missing from /Page, defaulting to MediaBox\n"
     ]
    },
    {
     "name": "stdout",
     "output_type": "stream",
     "text": [
      "Saved PDF to disk: data/2024/06.pdf\n",
      "Saved PDF to disk: data/2024/51.pdf\n"
     ]
    },
    {
     "name": "stderr",
     "output_type": "stream",
     "text": [
      "CropBox missing from /Page, defaulting to MediaBox\n",
      "CropBox missing from /Page, defaulting to MediaBox\n"
     ]
    },
    {
     "name": "stdout",
     "output_type": "stream",
     "text": [
      "Saved PDF to disk: data/2024/65.pdf\n"
     ]
    },
    {
     "name": "stderr",
     "output_type": "stream",
     "text": [
      "CropBox missing from /Page, defaulting to MediaBox\n",
      "CropBox missing from /Page, defaulting to MediaBox\n",
      "CropBox missing from /Page, defaulting to MediaBox\n",
      "CropBox missing from /Page, defaulting to MediaBox\n"
     ]
    },
    {
     "name": "stdout",
     "output_type": "stream",
     "text": [
      "Saved PDF to disk: data/2024/106.pdf\n",
      "Saved PDF to disk: data/2024/50.pdf\n"
     ]
    },
    {
     "name": "stderr",
     "output_type": "stream",
     "text": [
      "CropBox missing from /Page, defaulting to MediaBox\n",
      "CropBox missing from /Page, defaulting to MediaBox\n",
      "CropBox missing from /Page, defaulting to MediaBox\n",
      "CropBox missing from /Page, defaulting to MediaBox\n"
     ]
    },
    {
     "name": "stdout",
     "output_type": "stream",
     "text": [
      "Saved PDF to disk: data/2024/18.pdf\n",
      "Saved PDF to disk: data/2024/116.pdf\n"
     ]
    },
    {
     "name": "stderr",
     "output_type": "stream",
     "text": [
      "CropBox missing from /Page, defaulting to MediaBox\n",
      "CropBox missing from /Page, defaulting to MediaBox\n"
     ]
    },
    {
     "name": "stdout",
     "output_type": "stream",
     "text": [
      "Saved PDF to disk: data/2024/61.pdf\n"
     ]
    },
    {
     "name": "stderr",
     "output_type": "stream",
     "text": [
      "CropBox missing from /Page, defaulting to MediaBox\n",
      "CropBox missing from /Page, defaulting to MediaBox\n"
     ]
    },
    {
     "name": "stdout",
     "output_type": "stream",
     "text": [
      "Saved PDF to disk: data/2024/88.pdf\n"
     ]
    },
    {
     "name": "stderr",
     "output_type": "stream",
     "text": [
      "CropBox missing from /Page, defaulting to MediaBox\n",
      "CropBox missing from /Page, defaulting to MediaBox\n"
     ]
    },
    {
     "name": "stdout",
     "output_type": "stream",
     "text": [
      "Saved PDF to disk: data/2024/91.pdf\n"
     ]
    },
    {
     "name": "stderr",
     "output_type": "stream",
     "text": [
      "CropBox missing from /Page, defaulting to MediaBox\n",
      "CropBox missing from /Page, defaulting to MediaBox\n",
      "CropBox missing from /Page, defaulting to MediaBox\n",
      "CropBox missing from /Page, defaulting to MediaBox\n"
     ]
    },
    {
     "name": "stdout",
     "output_type": "stream",
     "text": [
      "Saved PDF to disk: data/2024/107.pdf\n",
      "Saved PDF to disk: data/2024/108.pdf\n"
     ]
    },
    {
     "name": "stderr",
     "output_type": "stream",
     "text": [
      "CropBox missing from /Page, defaulting to MediaBox\n",
      "CropBox missing from /Page, defaulting to MediaBox\n",
      "CropBox missing from /Page, defaulting to MediaBox\n",
      "CropBox missing from /Page, defaulting to MediaBox\n"
     ]
    },
    {
     "name": "stdout",
     "output_type": "stream",
     "text": [
      "Saved PDF to disk: data/2024/109.pdf\n",
      "Saved PDF to disk: data/2024/110.pdf\n"
     ]
    },
    {
     "name": "stderr",
     "output_type": "stream",
     "text": [
      "CropBox missing from /Page, defaulting to MediaBox\n",
      "CropBox missing from /Page, defaulting to MediaBox\n",
      "CropBox missing from /Page, defaulting to MediaBox\n",
      "CropBox missing from /Page, defaulting to MediaBox\n"
     ]
    },
    {
     "name": "stdout",
     "output_type": "stream",
     "text": [
      "Saved PDF to disk: data/2024/111.pdf\n",
      "Saved PDF to disk: data/2024/112.pdf\n"
     ]
    },
    {
     "name": "stderr",
     "output_type": "stream",
     "text": [
      "CropBox missing from /Page, defaulting to MediaBox\n",
      "CropBox missing from /Page, defaulting to MediaBox\n"
     ]
    },
    {
     "name": "stdout",
     "output_type": "stream",
     "text": [
      "Saved PDF to disk: data/2024/113.pdf\n"
     ]
    },
    {
     "name": "stderr",
     "output_type": "stream",
     "text": [
      "CropBox missing from /Page, defaulting to MediaBox\n",
      "CropBox missing from /Page, defaulting to MediaBox\n"
     ]
    },
    {
     "name": "stdout",
     "output_type": "stream",
     "text": [
      "Saved PDF to disk: data/2024/114.pdf\n"
     ]
    },
    {
     "name": "stderr",
     "output_type": "stream",
     "text": [
      "CropBox missing from /Page, defaulting to MediaBox\n",
      "CropBox missing from /Page, defaulting to MediaBox\n"
     ]
    },
    {
     "name": "stdout",
     "output_type": "stream",
     "text": [
      "Saved PDF to disk: data/2024/115.pdf\n"
     ]
    },
    {
     "name": "stderr",
     "output_type": "stream",
     "text": [
      "CropBox missing from /Page, defaulting to MediaBox\n",
      "CropBox missing from /Page, defaulting to MediaBox\n",
      "CropBox missing from /Page, defaulting to MediaBox\n",
      "CropBox missing from /Page, defaulting to MediaBox\n"
     ]
    },
    {
     "name": "stdout",
     "output_type": "stream",
     "text": [
      "Saved PDF to disk: data/2024/117.pdf\n",
      "Saved PDF to disk: data/2024/118.pdf\n"
     ]
    },
    {
     "name": "stderr",
     "output_type": "stream",
     "text": [
      "CropBox missing from /Page, defaulting to MediaBox\n",
      "CropBox missing from /Page, defaulting to MediaBox\n",
      "CropBox missing from /Page, defaulting to MediaBox\n",
      "CropBox missing from /Page, defaulting to MediaBox\n"
     ]
    },
    {
     "name": "stdout",
     "output_type": "stream",
     "text": [
      "Saved PDF to disk: data/2024/119.pdf\n",
      "Saved PDF to disk: data/2024/120.pdf\n"
     ]
    },
    {
     "name": "stderr",
     "output_type": "stream",
     "text": [
      "CropBox missing from /Page, defaulting to MediaBox\n",
      "CropBox missing from /Page, defaulting to MediaBox\n"
     ]
    },
    {
     "name": "stdout",
     "output_type": "stream",
     "text": [
      "Saved PDF to disk: data/2024/122.pdf\n"
     ]
    },
    {
     "name": "stderr",
     "output_type": "stream",
     "text": [
      "CropBox missing from /Page, defaulting to MediaBox\n",
      "CropBox missing from /Page, defaulting to MediaBox\n"
     ]
    },
    {
     "name": "stdout",
     "output_type": "stream",
     "text": [
      "Saved PDF to disk: data/2024/35.pdf\n"
     ]
    },
    {
     "name": "stderr",
     "output_type": "stream",
     "text": [
      "CropBox missing from /Page, defaulting to MediaBox\n",
      "CropBox missing from /Page, defaulting to MediaBox\n"
     ]
    },
    {
     "name": "stdout",
     "output_type": "stream",
     "text": [
      "Saved PDF to disk: data/2024/01.pdf\n"
     ]
    },
    {
     "name": "stderr",
     "output_type": "stream",
     "text": [
      "CropBox missing from /Page, defaulting to MediaBox\n",
      "CropBox missing from /Page, defaulting to MediaBox\n"
     ]
    },
    {
     "name": "stdout",
     "output_type": "stream",
     "text": [
      "Saved PDF to disk: data/2024/121.pdf\n"
     ]
    },
    {
     "name": "stderr",
     "output_type": "stream",
     "text": [
      "CropBox missing from /Page, defaulting to MediaBox\n",
      "CropBox missing from /Page, defaulting to MediaBox\n"
     ]
    },
    {
     "name": "stdout",
     "output_type": "stream",
     "text": [
      "Saved PDF to disk: data/2024/38.pdf\n"
     ]
    },
    {
     "name": "stderr",
     "output_type": "stream",
     "text": [
      "CropBox missing from /Page, defaulting to MediaBox\n",
      "CropBox missing from /Page, defaulting to MediaBox\n"
     ]
    },
    {
     "name": "stdout",
     "output_type": "stream",
     "text": [
      "Saved PDF to disk: data/2024/96.pdf\n"
     ]
    },
    {
     "name": "stderr",
     "output_type": "stream",
     "text": [
      "CropBox missing from /Page, defaulting to MediaBox\n",
      "CropBox missing from /Page, defaulting to MediaBox\n"
     ]
    },
    {
     "name": "stdout",
     "output_type": "stream",
     "text": [
      "Saved PDF to disk: data/2024/54.pdf\n"
     ]
    },
    {
     "name": "stderr",
     "output_type": "stream",
     "text": [
      "CropBox missing from /Page, defaulting to MediaBox\n",
      "CropBox missing from /Page, defaulting to MediaBox\n",
      "CropBox missing from /Page, defaulting to MediaBox\n",
      "CropBox missing from /Page, defaulting to MediaBox\n"
     ]
    },
    {
     "name": "stdout",
     "output_type": "stream",
     "text": [
      "Saved PDF to disk: data/2024/101.pdf\n",
      "Saved PDF to disk: data/2024/71.pdf\n"
     ]
    },
    {
     "name": "stderr",
     "output_type": "stream",
     "text": [
      "CropBox missing from /Page, defaulting to MediaBox\n",
      "CropBox missing from /Page, defaulting to MediaBox\n",
      "CropBox missing from /Page, defaulting to MediaBox\n",
      "CropBox missing from /Page, defaulting to MediaBox\n"
     ]
    },
    {
     "name": "stdout",
     "output_type": "stream",
     "text": [
      "Saved PDF to disk: data/2024/04.pdf\n",
      "Saved PDF to disk: data/2024/48.pdf\n"
     ]
    },
    {
     "name": "stderr",
     "output_type": "stream",
     "text": [
      "CropBox missing from /Page, defaulting to MediaBox\n",
      "CropBox missing from /Page, defaulting to MediaBox\n",
      "CropBox missing from /Page, defaulting to MediaBox\n",
      "CropBox missing from /Page, defaulting to MediaBox\n"
     ]
    },
    {
     "name": "stdout",
     "output_type": "stream",
     "text": [
      "Saved PDF to disk: data/2024/123.pdf\n",
      "Saved PDF to disk: data/2024/66.pdf\n"
     ]
    },
    {
     "name": "stderr",
     "output_type": "stream",
     "text": [
      "CropBox missing from /Page, defaulting to MediaBox\n",
      "CropBox missing from /Page, defaulting to MediaBox\n"
     ]
    },
    {
     "name": "stdout",
     "output_type": "stream",
     "text": [
      "Saved PDF to disk: data/2024/104.pdf\n"
     ]
    },
    {
     "name": "stderr",
     "output_type": "stream",
     "text": [
      "CropBox missing from /Page, defaulting to MediaBox\n",
      "CropBox missing from /Page, defaulting to MediaBox\n",
      "CropBox missing from /Page, defaulting to MediaBox\n"
     ]
    },
    {
     "name": "stdout",
     "output_type": "stream",
     "text": [
      "Saved PDF to disk: data/2024/63.pdf\n"
     ]
    },
    {
     "name": "stderr",
     "output_type": "stream",
     "text": [
      "CropBox missing from /Page, defaulting to MediaBox\n"
     ]
    },
    {
     "name": "stdout",
     "output_type": "stream",
     "text": [
      "Saved PDF to disk: data/2024/68.pdf\n"
     ]
    },
    {
     "name": "stderr",
     "output_type": "stream",
     "text": [
      "CropBox missing from /Page, defaulting to MediaBox\n",
      "CropBox missing from /Page, defaulting to MediaBox\n",
      "CropBox missing from /Page, defaulting to MediaBox\n",
      "CropBox missing from /Page, defaulting to MediaBox\n"
     ]
    },
    {
     "name": "stdout",
     "output_type": "stream",
     "text": [
      "Saved PDF to disk: data/2024/11.pdf\n",
      "Saved PDF to disk: data/2024/09.pdf\n"
     ]
    },
    {
     "name": "stderr",
     "output_type": "stream",
     "text": [
      "CropBox missing from /Page, defaulting to MediaBox\n",
      "CropBox missing from /Page, defaulting to MediaBox\n"
     ]
    },
    {
     "name": "stdout",
     "output_type": "stream",
     "text": [
      "Saved PDF to disk: data/2024/92.pdf\n"
     ]
    },
    {
     "name": "stderr",
     "output_type": "stream",
     "text": [
      "CropBox missing from /Page, defaulting to MediaBox\n",
      "CropBox missing from /Page, defaulting to MediaBox\n"
     ]
    },
    {
     "name": "stdout",
     "output_type": "stream",
     "text": [
      "Saved PDF to disk: data/2024/42.pdf\n"
     ]
    },
    {
     "name": "stderr",
     "output_type": "stream",
     "text": [
      "CropBox missing from /Page, defaulting to MediaBox\n",
      "CropBox missing from /Page, defaulting to MediaBox\n"
     ]
    },
    {
     "name": "stdout",
     "output_type": "stream",
     "text": [
      "Saved PDF to disk: data/2024/98.pdf\n"
     ]
    },
    {
     "name": "stderr",
     "output_type": "stream",
     "text": [
      "CropBox missing from /Page, defaulting to MediaBox\n",
      "CropBox missing from /Page, defaulting to MediaBox\n",
      "CropBox missing from /Page, defaulting to MediaBox\n",
      "CropBox missing from /Page, defaulting to MediaBox\n"
     ]
    },
    {
     "name": "stdout",
     "output_type": "stream",
     "text": [
      "Saved PDF to disk: data/2024/105.pdf\n",
      "Saved PDF to disk: data/2024/45.pdf\n"
     ]
    },
    {
     "name": "stderr",
     "output_type": "stream",
     "text": [
      "CropBox missing from /Page, defaulting to MediaBox\n",
      "CropBox missing from /Page, defaulting to MediaBox\n"
     ]
    },
    {
     "name": "stdout",
     "output_type": "stream",
     "text": [
      "Saved PDF to disk: data/2024/28.pdf\n"
     ]
    },
    {
     "name": "stderr",
     "output_type": "stream",
     "text": [
      "CropBox missing from /Page, defaulting to MediaBox\n",
      "CropBox missing from /Page, defaulting to MediaBox\n"
     ]
    },
    {
     "name": "stdout",
     "output_type": "stream",
     "text": [
      "Saved PDF to disk: data/2024/76.pdf\n"
     ]
    },
    {
     "name": "stderr",
     "output_type": "stream",
     "text": [
      "CropBox missing from /Page, defaulting to MediaBox\n",
      "CropBox missing from /Page, defaulting to MediaBox\n"
     ]
    },
    {
     "name": "stdout",
     "output_type": "stream",
     "text": [
      "Saved PDF to disk: data/2024/85.pdf\n"
     ]
    },
    {
     "name": "stderr",
     "output_type": "stream",
     "text": [
      "CropBox missing from /Page, defaulting to MediaBox\n",
      "CropBox missing from /Page, defaulting to MediaBox\n"
     ]
    },
    {
     "name": "stdout",
     "output_type": "stream",
     "text": [
      "Saved PDF to disk: data/2024/08.pdf\n"
     ]
    },
    {
     "name": "stderr",
     "output_type": "stream",
     "text": [
      "CropBox missing from /Page, defaulting to MediaBox\n",
      "CropBox missing from /Page, defaulting to MediaBox\n",
      "CropBox missing from /Page, defaulting to MediaBox\n",
      "CropBox missing from /Page, defaulting to MediaBox\n"
     ]
    },
    {
     "name": "stdout",
     "output_type": "stream",
     "text": [
      "Saved PDF to disk: data/2024/86.pdf\n",
      "Saved PDF to disk: data/2024/59.pdf\n"
     ]
    },
    {
     "name": "stderr",
     "output_type": "stream",
     "text": [
      "CropBox missing from /Page, defaulting to MediaBox\n",
      "CropBox missing from /Page, defaulting to MediaBox\n",
      "CropBox missing from /Page, defaulting to MediaBox\n",
      "CropBox missing from /Page, defaulting to MediaBox\n"
     ]
    },
    {
     "name": "stdout",
     "output_type": "stream",
     "text": [
      "Saved PDF to disk: data/2024/55.pdf\n",
      "Saved PDF to disk: data/2024/64.pdf\n"
     ]
    },
    {
     "name": "stderr",
     "output_type": "stream",
     "text": [
      "CropBox missing from /Page, defaulting to MediaBox\n",
      "CropBox missing from /Page, defaulting to MediaBox\n",
      "CropBox missing from /Page, defaulting to MediaBox\n",
      "CropBox missing from /Page, defaulting to MediaBox\n"
     ]
    },
    {
     "name": "stdout",
     "output_type": "stream",
     "text": [
      "Saved PDF to disk: data/2024/136.pdf\n",
      "Saved PDF to disk: data/2024/138.pdf\n"
     ]
    },
    {
     "name": "stderr",
     "output_type": "stream",
     "text": [
      "CropBox missing from /Page, defaulting to MediaBox\n",
      "CropBox missing from /Page, defaulting to MediaBox\n"
     ]
    },
    {
     "name": "stdout",
     "output_type": "stream",
     "text": [
      "Saved PDF to disk: data/2024/243.pdf\n"
     ]
    },
    {
     "name": "stderr",
     "output_type": "stream",
     "text": [
      "CropBox missing from /Page, defaulting to MediaBox\n",
      "CropBox missing from /Page, defaulting to MediaBox\n",
      "CropBox missing from /Page, defaulting to MediaBox\n",
      "CropBox missing from /Page, defaulting to MediaBox\n"
     ]
    },
    {
     "name": "stdout",
     "output_type": "stream",
     "text": [
      "Saved PDF to disk: data/2024/231.pdf\n",
      "Saved PDF to disk: data/2024/192.pdf\n"
     ]
    },
    {
     "name": "stderr",
     "output_type": "stream",
     "text": [
      "CropBox missing from /Page, defaulting to MediaBox\n",
      "CropBox missing from /Page, defaulting to MediaBox\n"
     ]
    },
    {
     "name": "stdout",
     "output_type": "stream",
     "text": [
      "Saved PDF to disk: data/2024/176.pdf\n"
     ]
    },
    {
     "name": "stderr",
     "output_type": "stream",
     "text": [
      "CropBox missing from /Page, defaulting to MediaBox\n",
      "CropBox missing from /Page, defaulting to MediaBox\n",
      "CropBox missing from /Page, defaulting to MediaBox\n",
      "CropBox missing from /Page, defaulting to MediaBox\n"
     ]
    },
    {
     "name": "stdout",
     "output_type": "stream",
     "text": [
      "Saved PDF to disk: data/2024/198.pdf\n",
      "Saved PDF to disk: data/2024/197.pdf\n"
     ]
    },
    {
     "name": "stderr",
     "output_type": "stream",
     "text": [
      "CropBox missing from /Page, defaulting to MediaBox\n",
      "CropBox missing from /Page, defaulting to MediaBox\n",
      "CropBox missing from /Page, defaulting to MediaBox\n",
      "CropBox missing from /Page, defaulting to MediaBox\n"
     ]
    },
    {
     "name": "stdout",
     "output_type": "stream",
     "text": [
      "Saved PDF to disk: data/2024/214.pdf\n",
      "Saved PDF to disk: data/2024/137.pdf\n"
     ]
    },
    {
     "name": "stderr",
     "output_type": "stream",
     "text": [
      "CropBox missing from /Page, defaulting to MediaBox\n",
      "CropBox missing from /Page, defaulting to MediaBox\n",
      "CropBox missing from /Page, defaulting to MediaBox\n",
      "CropBox missing from /Page, defaulting to MediaBox\n"
     ]
    },
    {
     "name": "stdout",
     "output_type": "stream",
     "text": [
      "Saved PDF to disk: data/2024/177.pdf\n",
      "Saved PDF to disk: data/2024/139.pdf\n"
     ]
    },
    {
     "name": "stderr",
     "output_type": "stream",
     "text": [
      "CropBox missing from /Page, defaulting to MediaBox\n",
      "CropBox missing from /Page, defaulting to MediaBox\n",
      "CropBox missing from /Page, defaulting to MediaBox\n",
      "CropBox missing from /Page, defaulting to MediaBox\n"
     ]
    },
    {
     "name": "stdout",
     "output_type": "stream",
     "text": [
      "Saved PDF to disk: data/2024/147.pdf\n",
      "Saved PDF to disk: data/2024/151.pdf\n"
     ]
    },
    {
     "name": "stderr",
     "output_type": "stream",
     "text": [
      "CropBox missing from /Page, defaulting to MediaBox\n",
      "CropBox missing from /Page, defaulting to MediaBox\n"
     ]
    },
    {
     "name": "stdout",
     "output_type": "stream",
     "text": [
      "Saved PDF to disk: data/2024/179.pdf\n"
     ]
    },
    {
     "name": "stderr",
     "output_type": "stream",
     "text": [
      "CropBox missing from /Page, defaulting to MediaBox\n",
      "CropBox missing from /Page, defaulting to MediaBox\n"
     ]
    },
    {
     "name": "stdout",
     "output_type": "stream",
     "text": [
      "Saved PDF to disk: data/2024/148.pdf\n"
     ]
    },
    {
     "name": "stderr",
     "output_type": "stream",
     "text": [
      "CropBox missing from /Page, defaulting to MediaBox\n",
      "CropBox missing from /Page, defaulting to MediaBox\n",
      "CropBox missing from /Page, defaulting to MediaBox\n",
      "CropBox missing from /Page, defaulting to MediaBox\n"
     ]
    },
    {
     "name": "stdout",
     "output_type": "stream",
     "text": [
      "Saved PDF to disk: data/2024/174.pdf\n",
      "Saved PDF to disk: data/2024/159.pdf\n"
     ]
    },
    {
     "name": "stderr",
     "output_type": "stream",
     "text": [
      "CropBox missing from /Page, defaulting to MediaBox\n",
      "CropBox missing from /Page, defaulting to MediaBox\n"
     ]
    },
    {
     "name": "stdout",
     "output_type": "stream",
     "text": [
      "Saved PDF to disk: data/2024/222.pdf\n"
     ]
    },
    {
     "name": "stderr",
     "output_type": "stream",
     "text": [
      "CropBox missing from /Page, defaulting to MediaBox\n",
      "CropBox missing from /Page, defaulting to MediaBox\n"
     ]
    },
    {
     "name": "stdout",
     "output_type": "stream",
     "text": [
      "Saved PDF to disk: data/2024/191.pdf\n"
     ]
    },
    {
     "name": "stderr",
     "output_type": "stream",
     "text": [
      "CropBox missing from /Page, defaulting to MediaBox\n",
      "CropBox missing from /Page, defaulting to MediaBox\n",
      "CropBox missing from /Page, defaulting to MediaBox\n",
      "CropBox missing from /Page, defaulting to MediaBox\n"
     ]
    },
    {
     "name": "stdout",
     "output_type": "stream",
     "text": [
      "Saved PDF to disk: data/2024/245.pdf\n",
      "Saved PDF to disk: data/2024/190.pdf\n"
     ]
    },
    {
     "name": "stderr",
     "output_type": "stream",
     "text": [
      "CropBox missing from /Page, defaulting to MediaBox\n",
      "CropBox missing from /Page, defaulting to MediaBox\n"
     ]
    },
    {
     "name": "stdout",
     "output_type": "stream",
     "text": [
      "Saved PDF to disk: data/2024/173.pdf\n"
     ]
    },
    {
     "name": "stderr",
     "output_type": "stream",
     "text": [
      "CropBox missing from /Page, defaulting to MediaBox\n",
      "CropBox missing from /Page, defaulting to MediaBox\n"
     ]
    },
    {
     "name": "stdout",
     "output_type": "stream",
     "text": [
      "Saved PDF to disk: data/2024/172.pdf\n"
     ]
    },
    {
     "name": "stderr",
     "output_type": "stream",
     "text": [
      "CropBox missing from /Page, defaulting to MediaBox\n",
      "CropBox missing from /Page, defaulting to MediaBox\n"
     ]
    },
    {
     "name": "stdout",
     "output_type": "stream",
     "text": [
      "Saved PDF to disk: data/2024/145.pdf\n"
     ]
    },
    {
     "name": "stderr",
     "output_type": "stream",
     "text": [
      "CropBox missing from /Page, defaulting to MediaBox\n",
      "CropBox missing from /Page, defaulting to MediaBox\n"
     ]
    },
    {
     "name": "stdout",
     "output_type": "stream",
     "text": [
      "Saved PDF to disk: data/2024/166.pdf\n"
     ]
    },
    {
     "name": "stderr",
     "output_type": "stream",
     "text": [
      "CropBox missing from /Page, defaulting to MediaBox\n",
      "CropBox missing from /Page, defaulting to MediaBox\n"
     ]
    },
    {
     "name": "stdout",
     "output_type": "stream",
     "text": [
      "Saved PDF to disk: data/2024/170.pdf\n"
     ]
    },
    {
     "name": "stderr",
     "output_type": "stream",
     "text": [
      "CropBox missing from /Page, defaulting to MediaBox\n",
      "CropBox missing from /Page, defaulting to MediaBox\n",
      "CropBox missing from /Page, defaulting to MediaBox\n",
      "CropBox missing from /Page, defaulting to MediaBox\n"
     ]
    },
    {
     "name": "stdout",
     "output_type": "stream",
     "text": [
      "Saved PDF to disk: data/2024/184.pdf\n",
      "Saved PDF to disk: data/2024/158.pdf\n"
     ]
    },
    {
     "name": "stderr",
     "output_type": "stream",
     "text": [
      "CropBox missing from /Page, defaulting to MediaBox\n",
      "CropBox missing from /Page, defaulting to MediaBox\n"
     ]
    },
    {
     "name": "stdout",
     "output_type": "stream",
     "text": [
      "Saved PDF to disk: data/2024/163.pdf\n"
     ]
    },
    {
     "name": "stderr",
     "output_type": "stream",
     "text": [
      "CropBox missing from /Page, defaulting to MediaBox\n",
      "CropBox missing from /Page, defaulting to MediaBox\n"
     ]
    },
    {
     "name": "stdout",
     "output_type": "stream",
     "text": [
      "Saved PDF to disk: data/2024/154.pdf\n"
     ]
    },
    {
     "name": "stderr",
     "output_type": "stream",
     "text": [
      "CropBox missing from /Page, defaulting to MediaBox\n",
      "CropBox missing from /Page, defaulting to MediaBox\n"
     ]
    },
    {
     "name": "stdout",
     "output_type": "stream",
     "text": [
      "Saved PDF to disk: data/2024/144.pdf\n"
     ]
    },
    {
     "name": "stderr",
     "output_type": "stream",
     "text": [
      "CropBox missing from /Page, defaulting to MediaBox\n",
      "CropBox missing from /Page, defaulting to MediaBox\n",
      "CropBox missing from /Page, defaulting to MediaBox\n",
      "CropBox missing from /Page, defaulting to MediaBox\n"
     ]
    },
    {
     "name": "stdout",
     "output_type": "stream",
     "text": [
      "Saved PDF to disk: data/2024/164.pdf\n",
      "Saved PDF to disk: data/2024/153.pdf\n"
     ]
    },
    {
     "name": "stderr",
     "output_type": "stream",
     "text": [
      "CropBox missing from /Page, defaulting to MediaBox\n",
      "CropBox missing from /Page, defaulting to MediaBox\n"
     ]
    },
    {
     "name": "stdout",
     "output_type": "stream",
     "text": [
      "Saved PDF to disk: data/2024/175.pdf\n"
     ]
    },
    {
     "name": "stderr",
     "output_type": "stream",
     "text": [
      "CropBox missing from /Page, defaulting to MediaBox\n",
      "CropBox missing from /Page, defaulting to MediaBox\n",
      "CropBox missing from /Page, defaulting to MediaBox\n",
      "CropBox missing from /Page, defaulting to MediaBox\n"
     ]
    },
    {
     "name": "stdout",
     "output_type": "stream",
     "text": [
      "Saved PDF to disk: data/2024/182.pdf\n",
      "Saved PDF to disk: data/2024/160.pdf\n"
     ]
    },
    {
     "name": "stderr",
     "output_type": "stream",
     "text": [
      "CropBox missing from /Page, defaulting to MediaBox\n",
      "CropBox missing from /Page, defaulting to MediaBox\n",
      "CropBox missing from /Page, defaulting to MediaBox\n"
     ]
    },
    {
     "name": "stdout",
     "output_type": "stream",
     "text": [
      "Saved PDF to disk: data/2024/152.pdf\n"
     ]
    },
    {
     "name": "stderr",
     "output_type": "stream",
     "text": [
      "CropBox missing from /Page, defaulting to MediaBox\n",
      "CropBox missing from /Page, defaulting to MediaBox\n",
      "CropBox missing from /Page, defaulting to MediaBox\n"
     ]
    },
    {
     "name": "stdout",
     "output_type": "stream",
     "text": [
      "Saved PDF to disk: data/2024/235.pdf\n",
      "Saved PDF to disk: data/2024/187.pdf\n"
     ]
    },
    {
     "name": "stderr",
     "output_type": "stream",
     "text": [
      "CropBox missing from /Page, defaulting to MediaBox\n",
      "CropBox missing from /Page, defaulting to MediaBox\n"
     ]
    },
    {
     "name": "stdout",
     "output_type": "stream",
     "text": [
      "Saved PDF to disk: data/2024/155.pdf\n"
     ]
    },
    {
     "name": "stderr",
     "output_type": "stream",
     "text": [
      "CropBox missing from /Page, defaulting to MediaBox\n",
      "CropBox missing from /Page, defaulting to MediaBox\n"
     ]
    },
    {
     "name": "stdout",
     "output_type": "stream",
     "text": [
      "Saved PDF to disk: data/2024/180.pdf\n"
     ]
    },
    {
     "name": "stderr",
     "output_type": "stream",
     "text": [
      "CropBox missing from /Page, defaulting to MediaBox\n",
      "CropBox missing from /Page, defaulting to MediaBox\n"
     ]
    },
    {
     "name": "stdout",
     "output_type": "stream",
     "text": [
      "Saved PDF to disk: data/2024/186.pdf\n"
     ]
    },
    {
     "name": "stderr",
     "output_type": "stream",
     "text": [
      "CropBox missing from /Page, defaulting to MediaBox\n",
      "CropBox missing from /Page, defaulting to MediaBox\n"
     ]
    },
    {
     "name": "stdout",
     "output_type": "stream",
     "text": [
      "Saved PDF to disk: data/2024/228.pdf\n"
     ]
    },
    {
     "name": "stderr",
     "output_type": "stream",
     "text": [
      "CropBox missing from /Page, defaulting to MediaBox\n",
      "CropBox missing from /Page, defaulting to MediaBox\n"
     ]
    },
    {
     "name": "stdout",
     "output_type": "stream",
     "text": [
      "Saved PDF to disk: data/2024/207.pdf\n"
     ]
    },
    {
     "name": "stderr",
     "output_type": "stream",
     "text": [
      "CropBox missing from /Page, defaulting to MediaBox\n",
      "CropBox missing from /Page, defaulting to MediaBox\n",
      "CropBox missing from /Page, defaulting to MediaBox\n",
      "CropBox missing from /Page, defaulting to MediaBox\n"
     ]
    },
    {
     "name": "stdout",
     "output_type": "stream",
     "text": [
      "Saved PDF to disk: data/2024/195.pdf\n",
      "Saved PDF to disk: data/2024/223.pdf\n"
     ]
    },
    {
     "name": "stderr",
     "output_type": "stream",
     "text": [
      "CropBox missing from /Page, defaulting to MediaBox\n",
      "CropBox missing from /Page, defaulting to MediaBox\n"
     ]
    },
    {
     "name": "stdout",
     "output_type": "stream",
     "text": [
      "Saved PDF to disk: data/2024/157.pdf\n"
     ]
    },
    {
     "name": "stderr",
     "output_type": "stream",
     "text": [
      "CropBox missing from /Page, defaulting to MediaBox\n",
      "CropBox missing from /Page, defaulting to MediaBox\n"
     ]
    },
    {
     "name": "stdout",
     "output_type": "stream",
     "text": [
      "Saved PDF to disk: data/2024/149.pdf\n"
     ]
    },
    {
     "name": "stderr",
     "output_type": "stream",
     "text": [
      "CropBox missing from /Page, defaulting to MediaBox\n",
      "CropBox missing from /Page, defaulting to MediaBox\n"
     ]
    },
    {
     "name": "stdout",
     "output_type": "stream",
     "text": [
      "Saved PDF to disk: data/2024/165.pdf\n"
     ]
    },
    {
     "name": "stderr",
     "output_type": "stream",
     "text": [
      "CropBox missing from /Page, defaulting to MediaBox\n",
      "CropBox missing from /Page, defaulting to MediaBox\n"
     ]
    },
    {
     "name": "stdout",
     "output_type": "stream",
     "text": [
      "Saved PDF to disk: data/2024/203.pdf\n"
     ]
    },
    {
     "name": "stderr",
     "output_type": "stream",
     "text": [
      "CropBox missing from /Page, defaulting to MediaBox\n",
      "CropBox missing from /Page, defaulting to MediaBox\n",
      "CropBox missing from /Page, defaulting to MediaBox\n",
      "CropBox missing from /Page, defaulting to MediaBox\n"
     ]
    },
    {
     "name": "stdout",
     "output_type": "stream",
     "text": [
      "Saved PDF to disk: data/2024/188.pdf\n",
      "Saved PDF to disk: data/2024/189.pdf\n"
     ]
    },
    {
     "name": "stderr",
     "output_type": "stream",
     "text": [
      "CropBox missing from /Page, defaulting to MediaBox\n",
      "CropBox missing from /Page, defaulting to MediaBox\n",
      "CropBox missing from /Page, defaulting to MediaBox\n",
      "CropBox missing from /Page, defaulting to MediaBox\n"
     ]
    },
    {
     "name": "stdout",
     "output_type": "stream",
     "text": [
      "Saved PDF to disk: data/2024/171.pdf\n",
      "Saved PDF to disk: data/2024/208.pdf\n"
     ]
    },
    {
     "name": "stderr",
     "output_type": "stream",
     "text": [
      "CropBox missing from /Page, defaulting to MediaBox\n",
      "CropBox missing from /Page, defaulting to MediaBox\n"
     ]
    },
    {
     "name": "stdout",
     "output_type": "stream",
     "text": [
      "Saved PDF to disk: data/2024/226.pdf\n"
     ]
    },
    {
     "name": "stderr",
     "output_type": "stream",
     "text": [
      "CropBox missing from /Page, defaulting to MediaBox\n",
      "CropBox missing from /Page, defaulting to MediaBox\n"
     ]
    },
    {
     "name": "stdout",
     "output_type": "stream",
     "text": [
      "Saved PDF to disk: data/2024/220.pdf\n"
     ]
    },
    {
     "name": "stderr",
     "output_type": "stream",
     "text": [
      "CropBox missing from /Page, defaulting to MediaBox\n",
      "CropBox missing from /Page, defaulting to MediaBox\n"
     ]
    },
    {
     "name": "stdout",
     "output_type": "stream",
     "text": [
      "Saved PDF to disk: data/2024/140.pdf\n"
     ]
    },
    {
     "name": "stderr",
     "output_type": "stream",
     "text": [
      "CropBox missing from /Page, defaulting to MediaBox\n",
      "CropBox missing from /Page, defaulting to MediaBox\n",
      "CropBox missing from /Page, defaulting to MediaBox\n",
      "CropBox missing from /Page, defaulting to MediaBox\n"
     ]
    },
    {
     "name": "stdout",
     "output_type": "stream",
     "text": [
      "Saved PDF to disk: data/2024/143.pdf\n",
      "Saved PDF to disk: data/2024/141.pdf\n"
     ]
    },
    {
     "name": "stderr",
     "output_type": "stream",
     "text": [
      "CropBox missing from /Page, defaulting to MediaBox\n",
      "CropBox missing from /Page, defaulting to MediaBox\n"
     ]
    },
    {
     "name": "stdout",
     "output_type": "stream",
     "text": [
      "Saved PDF to disk: data/2024/150.pdf\n"
     ]
    },
    {
     "name": "stderr",
     "output_type": "stream",
     "text": [
      "CropBox missing from /Page, defaulting to MediaBox\n",
      "CropBox missing from /Page, defaulting to MediaBox\n",
      "CropBox missing from /Page, defaulting to MediaBox\n",
      "CropBox missing from /Page, defaulting to MediaBox\n"
     ]
    },
    {
     "name": "stdout",
     "output_type": "stream",
     "text": [
      "Saved PDF to disk: data/2024/194.pdf\n",
      "Saved PDF to disk: data/2024/161.pdf\n"
     ]
    },
    {
     "name": "stderr",
     "output_type": "stream",
     "text": [
      "CropBox missing from /Page, defaulting to MediaBox\n",
      "CropBox missing from /Page, defaulting to MediaBox\n"
     ]
    },
    {
     "name": "stdout",
     "output_type": "stream",
     "text": [
      "Saved PDF to disk: data/2024/156.pdf\n"
     ]
    },
    {
     "name": "stderr",
     "output_type": "stream",
     "text": [
      "CropBox missing from /Page, defaulting to MediaBox\n",
      "CropBox missing from /Page, defaulting to MediaBox\n",
      "CropBox missing from /Page, defaulting to MediaBox\n",
      "CropBox missing from /Page, defaulting to MediaBox\n"
     ]
    },
    {
     "name": "stdout",
     "output_type": "stream",
     "text": [
      "Saved PDF to disk: data/2024/183.pdf\n",
      "Saved PDF to disk: data/2024/247.pdf\n"
     ]
    },
    {
     "name": "stderr",
     "output_type": "stream",
     "text": [
      "CropBox missing from /Page, defaulting to MediaBox\n",
      "CropBox missing from /Page, defaulting to MediaBox\n",
      "CropBox missing from /Page, defaulting to MediaBox\n",
      "CropBox missing from /Page, defaulting to MediaBox\n"
     ]
    },
    {
     "name": "stdout",
     "output_type": "stream",
     "text": [
      "Saved PDF to disk: data/2024/221.pdf\n",
      "Saved PDF to disk: data/2024/202.pdf\n"
     ]
    },
    {
     "name": "stderr",
     "output_type": "stream",
     "text": [
      "CropBox missing from /Page, defaulting to MediaBox\n",
      "CropBox missing from /Page, defaulting to MediaBox\n"
     ]
    },
    {
     "name": "stdout",
     "output_type": "stream",
     "text": [
      "Saved PDF to disk: data/2024/146.pdf\n"
     ]
    },
    {
     "name": "stderr",
     "output_type": "stream",
     "text": [
      "CropBox missing from /Page, defaulting to MediaBox\n",
      "CropBox missing from /Page, defaulting to MediaBox\n",
      "CropBox missing from /Page, defaulting to MediaBox\n",
      "CropBox missing from /Page, defaulting to MediaBox\n"
     ]
    },
    {
     "name": "stdout",
     "output_type": "stream",
     "text": [
      "Saved PDF to disk: data/2024/248.pdf\n",
      "Saved PDF to disk: data/2024/249.pdf\n"
     ]
    },
    {
     "name": "stderr",
     "output_type": "stream",
     "text": [
      "CropBox missing from /Page, defaulting to MediaBox\n",
      "CropBox missing from /Page, defaulting to MediaBox\n",
      "CropBox missing from /Page, defaulting to MediaBox\n",
      "CropBox missing from /Page, defaulting to MediaBox\n"
     ]
    },
    {
     "name": "stdout",
     "output_type": "stream",
     "text": [
      "Saved PDF to disk: data/2024/250.pdf\n",
      "Saved PDF to disk: data/2024/251.pdf\n"
     ]
    },
    {
     "name": "stderr",
     "output_type": "stream",
     "text": [
      "CropBox missing from /Page, defaulting to MediaBox\n",
      "CropBox missing from /Page, defaulting to MediaBox\n",
      "CropBox missing from /Page, defaulting to MediaBox\n",
      "CropBox missing from /Page, defaulting to MediaBox\n"
     ]
    },
    {
     "name": "stdout",
     "output_type": "stream",
     "text": [
      "Saved PDF to disk: data/2024/252.pdf\n",
      "Saved PDF to disk: data/2024/253.pdf\n"
     ]
    },
    {
     "name": "stderr",
     "output_type": "stream",
     "text": [
      "CropBox missing from /Page, defaulting to MediaBox\n",
      "CropBox missing from /Page, defaulting to MediaBox\n"
     ]
    },
    {
     "name": "stdout",
     "output_type": "stream",
     "text": [
      "Saved PDF to disk: data/2024/255.pdf\n"
     ]
    },
    {
     "name": "stderr",
     "output_type": "stream",
     "text": [
      "CropBox missing from /Page, defaulting to MediaBox\n",
      "CropBox missing from /Page, defaulting to MediaBox\n"
     ]
    },
    {
     "name": "stdout",
     "output_type": "stream",
     "text": [
      "Saved PDF to disk: data/2024/257.pdf\n"
     ]
    },
    {
     "name": "stderr",
     "output_type": "stream",
     "text": [
      "CropBox missing from /Page, defaulting to MediaBox\n",
      "CropBox missing from /Page, defaulting to MediaBox\n",
      "CropBox missing from /Page, defaulting to MediaBox\n",
      "CropBox missing from /Page, defaulting to MediaBox\n"
     ]
    },
    {
     "name": "stdout",
     "output_type": "stream",
     "text": [
      "Saved PDF to disk: data/2024/258.pdf\n",
      "Saved PDF to disk: data/2024/256.pdf\n"
     ]
    },
    {
     "name": "stderr",
     "output_type": "stream",
     "text": [
      "CropBox missing from /Page, defaulting to MediaBox\n",
      "CropBox missing from /Page, defaulting to MediaBox\n",
      "CropBox missing from /Page, defaulting to MediaBox\n",
      "CropBox missing from /Page, defaulting to MediaBox\n"
     ]
    },
    {
     "name": "stdout",
     "output_type": "stream",
     "text": [
      "Saved PDF to disk: data/2024/259.pdf\n",
      "Saved PDF to disk: data/2024/260.pdf\n"
     ]
    },
    {
     "name": "stderr",
     "output_type": "stream",
     "text": [
      "CropBox missing from /Page, defaulting to MediaBox\n",
      "CropBox missing from /Page, defaulting to MediaBox\n"
     ]
    },
    {
     "name": "stdout",
     "output_type": "stream",
     "text": [
      "Saved PDF to disk: data/2024/262.pdf\n"
     ]
    },
    {
     "name": "stderr",
     "output_type": "stream",
     "text": [
      "CropBox missing from /Page, defaulting to MediaBox\n",
      "CropBox missing from /Page, defaulting to MediaBox\n"
     ]
    },
    {
     "name": "stdout",
     "output_type": "stream",
     "text": [
      "Saved PDF to disk: data/2024/185.pdf\n"
     ]
    },
    {
     "name": "stderr",
     "output_type": "stream",
     "text": [
      "CropBox missing from /Page, defaulting to MediaBox\n",
      "CropBox missing from /Page, defaulting to MediaBox\n"
     ]
    },
    {
     "name": "stdout",
     "output_type": "stream",
     "text": [
      "Saved PDF to disk: data/2024/168.pdf\n"
     ]
    },
    {
     "name": "stderr",
     "output_type": "stream",
     "text": [
      "CropBox missing from /Page, defaulting to MediaBox\n",
      "CropBox missing from /Page, defaulting to MediaBox\n"
     ]
    },
    {
     "name": "stdout",
     "output_type": "stream",
     "text": [
      "Saved PDF to disk: data/2024/234.pdf\n"
     ]
    },
    {
     "name": "stderr",
     "output_type": "stream",
     "text": [
      "CropBox missing from /Page, defaulting to MediaBox\n",
      "CropBox missing from /Page, defaulting to MediaBox\n",
      "CropBox missing from /Page, defaulting to MediaBox\n",
      "CropBox missing from /Page, defaulting to MediaBox\n"
     ]
    },
    {
     "name": "stdout",
     "output_type": "stream",
     "text": [
      "Saved PDF to disk: data/2024/254.pdf\n",
      "Saved PDF to disk: data/2024/261.pdf\n"
     ]
    },
    {
     "name": "stderr",
     "output_type": "stream",
     "text": [
      "CropBox missing from /Page, defaulting to MediaBox\n",
      "CropBox missing from /Page, defaulting to MediaBox\n",
      "CropBox missing from /Page, defaulting to MediaBox\n",
      "CropBox missing from /Page, defaulting to MediaBox\n"
     ]
    },
    {
     "name": "stdout",
     "output_type": "stream",
     "text": [
      "Saved PDF to disk: data/2024/263.pdf\n",
      "Saved PDF to disk: data/2024/264.pdf\n"
     ]
    },
    {
     "name": "stderr",
     "output_type": "stream",
     "text": [
      "CropBox missing from /Page, defaulting to MediaBox\n",
      "CropBox missing from /Page, defaulting to MediaBox\n",
      "CropBox missing from /Page, defaulting to MediaBox\n",
      "CropBox missing from /Page, defaulting to MediaBox\n"
     ]
    },
    {
     "name": "stdout",
     "output_type": "stream",
     "text": [
      "Saved PDF to disk: data/2024/265.pdf\n",
      "Saved PDF to disk: data/2024/266.pdf\n"
     ]
    },
    {
     "name": "stderr",
     "output_type": "stream",
     "text": [
      "CropBox missing from /Page, defaulting to MediaBox\n",
      "CropBox missing from /Page, defaulting to MediaBox\n"
     ]
    },
    {
     "name": "stdout",
     "output_type": "stream",
     "text": [
      "Saved PDF to disk: data/2024/242.pdf\n"
     ]
    },
    {
     "name": "stderr",
     "output_type": "stream",
     "text": [
      "CropBox missing from /Page, defaulting to MediaBox\n",
      "CropBox missing from /Page, defaulting to MediaBox\n",
      "CropBox missing from /Page, defaulting to MediaBox\n",
      "CropBox missing from /Page, defaulting to MediaBox\n"
     ]
    },
    {
     "name": "stdout",
     "output_type": "stream",
     "text": [
      "Saved PDF to disk: data/2024/241.pdf\n",
      "Saved PDF to disk: data/2024/240.pdf\n"
     ]
    },
    {
     "name": "stderr",
     "output_type": "stream",
     "text": [
      "CropBox missing from /Page, defaulting to MediaBox\n",
      "CropBox missing from /Page, defaulting to MediaBox\n"
     ]
    },
    {
     "name": "stdout",
     "output_type": "stream",
     "text": [
      "Saved PDF to disk: data/2024/237.pdf\n"
     ]
    },
    {
     "name": "stderr",
     "output_type": "stream",
     "text": [
      "CropBox missing from /Page, defaulting to MediaBox\n",
      "CropBox missing from /Page, defaulting to MediaBox\n",
      "CropBox missing from /Page, defaulting to MediaBox\n",
      "CropBox missing from /Page, defaulting to MediaBox\n"
     ]
    },
    {
     "name": "stdout",
     "output_type": "stream",
     "text": [
      "Saved PDF to disk: data/2024/217.pdf\n",
      "Saved PDF to disk: data/2024/204.pdf\n"
     ]
    },
    {
     "name": "stderr",
     "output_type": "stream",
     "text": [
      "CropBox missing from /Page, defaulting to MediaBox\n",
      "CropBox missing from /Page, defaulting to MediaBox\n"
     ]
    },
    {
     "name": "stdout",
     "output_type": "stream",
     "text": [
      "Saved PDF to disk: data/2024/210.pdf\n"
     ]
    },
    {
     "name": "stderr",
     "output_type": "stream",
     "text": [
      "CropBox missing from /Page, defaulting to MediaBox\n",
      "CropBox missing from /Page, defaulting to MediaBox\n"
     ]
    },
    {
     "name": "stdout",
     "output_type": "stream",
     "text": [
      "Saved PDF to disk: data/2024/211.pdf\n"
     ]
    },
    {
     "name": "stderr",
     "output_type": "stream",
     "text": [
      "CropBox missing from /Page, defaulting to MediaBox\n",
      "CropBox missing from /Page, defaulting to MediaBox\n",
      "CropBox missing from /Page, defaulting to MediaBox\n",
      "CropBox missing from /Page, defaulting to MediaBox\n"
     ]
    },
    {
     "name": "stdout",
     "output_type": "stream",
     "text": [
      "Saved PDF to disk: data/2024/238.pdf\n",
      "Saved PDF to disk: data/2024/216.pdf\n"
     ]
    },
    {
     "name": "stderr",
     "output_type": "stream",
     "text": [
      "CropBox missing from /Page, defaulting to MediaBox\n",
      "CropBox missing from /Page, defaulting to MediaBox\n",
      "CropBox missing from /Page, defaulting to MediaBox\n",
      "CropBox missing from /Page, defaulting to MediaBox\n"
     ]
    },
    {
     "name": "stdout",
     "output_type": "stream",
     "text": [
      "Saved PDF to disk: data/2024/200.pdf\n",
      "Saved PDF to disk: data/2024/232.pdf\n"
     ]
    },
    {
     "name": "stderr",
     "output_type": "stream",
     "text": [
      "CropBox missing from /Page, defaulting to MediaBox\n",
      "CropBox missing from /Page, defaulting to MediaBox\n"
     ]
    },
    {
     "name": "stdout",
     "output_type": "stream",
     "text": [
      "Saved PDF to disk: data/2024/199.pdf\n"
     ]
    },
    {
     "name": "stderr",
     "output_type": "stream",
     "text": [
      "CropBox missing from /Page, defaulting to MediaBox\n",
      "CropBox missing from /Page, defaulting to MediaBox\n"
     ]
    },
    {
     "name": "stdout",
     "output_type": "stream",
     "text": [
      "Saved PDF to disk: data/2024/215.pdf\n"
     ]
    },
    {
     "name": "stderr",
     "output_type": "stream",
     "text": [
      "CropBox missing from /Page, defaulting to MediaBox\n",
      "CropBox missing from /Page, defaulting to MediaBox\n"
     ]
    },
    {
     "name": "stdout",
     "output_type": "stream",
     "text": [
      "Saved PDF to disk: data/2024/212.pdf\n"
     ]
    },
    {
     "name": "stderr",
     "output_type": "stream",
     "text": [
      "CropBox missing from /Page, defaulting to MediaBox\n",
      "CropBox missing from /Page, defaulting to MediaBox\n"
     ]
    },
    {
     "name": "stdout",
     "output_type": "stream",
     "text": [
      "Saved PDF to disk: data/2024/219.pdf\n"
     ]
    },
    {
     "name": "stderr",
     "output_type": "stream",
     "text": [
      "CropBox missing from /Page, defaulting to MediaBox\n",
      "CropBox missing from /Page, defaulting to MediaBox\n"
     ]
    },
    {
     "name": "stdout",
     "output_type": "stream",
     "text": [
      "Saved PDF to disk: data/2024/213.pdf\n"
     ]
    },
    {
     "name": "stderr",
     "output_type": "stream",
     "text": [
      "CropBox missing from /Page, defaulting to MediaBox\n",
      "CropBox missing from /Page, defaulting to MediaBox\n"
     ]
    },
    {
     "name": "stdout",
     "output_type": "stream",
     "text": [
      "Saved PDF to disk: data/2024/209.pdf\n"
     ]
    },
    {
     "name": "stderr",
     "output_type": "stream",
     "text": [
      "CropBox missing from /Page, defaulting to MediaBox\n",
      "CropBox missing from /Page, defaulting to MediaBox\n",
      "CropBox missing from /Page, defaulting to MediaBox\n",
      "CropBox missing from /Page, defaulting to MediaBox\n"
     ]
    },
    {
     "name": "stdout",
     "output_type": "stream",
     "text": [
      "Saved PDF to disk: data/2024/233.pdf\n",
      "Saved PDF to disk: data/2024/201.pdf\n"
     ]
    },
    {
     "name": "stderr",
     "output_type": "stream",
     "text": [
      "CropBox missing from /Page, defaulting to MediaBox\n",
      "CropBox missing from /Page, defaulting to MediaBox\n"
     ]
    },
    {
     "name": "stdout",
     "output_type": "stream",
     "text": [
      "Saved PDF to disk: data/2024/229.pdf\n"
     ]
    },
    {
     "name": "stderr",
     "output_type": "stream",
     "text": [
      "CropBox missing from /Page, defaulting to MediaBox\n",
      "CropBox missing from /Page, defaulting to MediaBox\n"
     ]
    },
    {
     "name": "stdout",
     "output_type": "stream",
     "text": [
      "Saved PDF to disk: data/2024/227.pdf\n"
     ]
    },
    {
     "name": "stderr",
     "output_type": "stream",
     "text": [
      "CropBox missing from /Page, defaulting to MediaBox\n",
      "CropBox missing from /Page, defaulting to MediaBox\n"
     ]
    },
    {
     "name": "stdout",
     "output_type": "stream",
     "text": [
      "Saved PDF to disk: data/2024/225.pdf\n"
     ]
    },
    {
     "name": "stderr",
     "output_type": "stream",
     "text": [
      "CropBox missing from /Page, defaulting to MediaBox\n",
      "CropBox missing from /Page, defaulting to MediaBox\n"
     ]
    },
    {
     "name": "stdout",
     "output_type": "stream",
     "text": [
      "Saved PDF to disk: data/2024/244.pdf\n"
     ]
    },
    {
     "name": "stderr",
     "output_type": "stream",
     "text": [
      "CropBox missing from /Page, defaulting to MediaBox\n",
      "CropBox missing from /Page, defaulting to MediaBox\n",
      "CropBox missing from /Page, defaulting to MediaBox\n"
     ]
    },
    {
     "name": "stdout",
     "output_type": "stream",
     "text": [
      "Saved PDF to disk: data/2024/246.pdf\n"
     ]
    },
    {
     "name": "stderr",
     "output_type": "stream",
     "text": [
      "CropBox missing from /Page, defaulting to MediaBox\n",
      "CropBox missing from /Page, defaulting to MediaBox\n",
      "CropBox missing from /Page, defaulting to MediaBox\n"
     ]
    },
    {
     "name": "stdout",
     "output_type": "stream",
     "text": [
      "Saved PDF to disk: data/2024/293.pdf\n",
      "Saved PDF to disk: data/2024/129.pdf\n"
     ]
    },
    {
     "name": "stderr",
     "output_type": "stream",
     "text": [
      "CropBox missing from /Page, defaulting to MediaBox\n",
      "CropBox missing from /Page, defaulting to MediaBox\n"
     ]
    },
    {
     "name": "stdout",
     "output_type": "stream",
     "text": [
      "Saved PDF to disk: data/2024/126.pdf\n"
     ]
    },
    {
     "name": "stderr",
     "output_type": "stream",
     "text": [
      "CropBox missing from /Page, defaulting to MediaBox\n",
      "CropBox missing from /Page, defaulting to MediaBox\n",
      "CropBox missing from /Page, defaulting to MediaBox\n",
      "CropBox missing from /Page, defaulting to MediaBox\n"
     ]
    },
    {
     "name": "stdout",
     "output_type": "stream",
     "text": [
      "Saved PDF to disk: data/2024/308.pdf\n",
      "Saved PDF to disk: data/2024/287.pdf\n"
     ]
    },
    {
     "name": "stderr",
     "output_type": "stream",
     "text": [
      "CropBox missing from /Page, defaulting to MediaBox\n",
      "CropBox missing from /Page, defaulting to MediaBox\n",
      "CropBox missing from /Page, defaulting to MediaBox\n",
      "CropBox missing from /Page, defaulting to MediaBox\n"
     ]
    },
    {
     "name": "stdout",
     "output_type": "stream",
     "text": [
      "Saved PDF to disk: data/2024/277.pdf\n",
      "Saved PDF to disk: data/2024/274.pdf\n"
     ]
    },
    {
     "name": "stderr",
     "output_type": "stream",
     "text": [
      "CropBox missing from /Page, defaulting to MediaBox\n",
      "CropBox missing from /Page, defaulting to MediaBox\n",
      "CropBox missing from /Page, defaulting to MediaBox\n"
     ]
    },
    {
     "name": "stdout",
     "output_type": "stream",
     "text": [
      "Saved PDF to disk: data/2024/304.pdf\n"
     ]
    },
    {
     "name": "stderr",
     "output_type": "stream",
     "text": [
      "CropBox missing from /Page, defaulting to MediaBox\n"
     ]
    },
    {
     "name": "stdout",
     "output_type": "stream",
     "text": [
      "Saved PDF to disk: data/2024/127.pdf\n"
     ]
    },
    {
     "name": "stderr",
     "output_type": "stream",
     "text": [
      "CropBox missing from /Page, defaulting to MediaBox\n",
      "CropBox missing from /Page, defaulting to MediaBox\n"
     ]
    },
    {
     "name": "stdout",
     "output_type": "stream",
     "text": [
      "Saved PDF to disk: data/2024/278.pdf\n"
     ]
    },
    {
     "name": "stderr",
     "output_type": "stream",
     "text": [
      "CropBox missing from /Page, defaulting to MediaBox\n",
      "CropBox missing from /Page, defaulting to MediaBox\n"
     ]
    },
    {
     "name": "stdout",
     "output_type": "stream",
     "text": [
      "Saved PDF to disk: data/2024/283.pdf\n"
     ]
    },
    {
     "name": "stderr",
     "output_type": "stream",
     "text": [
      "CropBox missing from /Page, defaulting to MediaBox\n",
      "CropBox missing from /Page, defaulting to MediaBox\n"
     ]
    },
    {
     "name": "stdout",
     "output_type": "stream",
     "text": [
      "Saved PDF to disk: data/2024/282.pdf\n"
     ]
    },
    {
     "name": "stderr",
     "output_type": "stream",
     "text": [
      "CropBox missing from /Page, defaulting to MediaBox\n",
      "CropBox missing from /Page, defaulting to MediaBox\n"
     ]
    },
    {
     "name": "stdout",
     "output_type": "stream",
     "text": [
      "Saved PDF to disk: data/2024/267.pdf\n"
     ]
    },
    {
     "name": "stderr",
     "output_type": "stream",
     "text": [
      "CropBox missing from /Page, defaulting to MediaBox\n",
      "CropBox missing from /Page, defaulting to MediaBox\n"
     ]
    },
    {
     "name": "stdout",
     "output_type": "stream",
     "text": [
      "Saved PDF to disk: data/2024/300.pdf\n"
     ]
    },
    {
     "name": "stderr",
     "output_type": "stream",
     "text": [
      "CropBox missing from /Page, defaulting to MediaBox\n",
      "CropBox missing from /Page, defaulting to MediaBox\n",
      "CropBox missing from /Page, defaulting to MediaBox\n",
      "CropBox missing from /Page, defaulting to MediaBox\n"
     ]
    },
    {
     "name": "stdout",
     "output_type": "stream",
     "text": [
      "Saved PDF to disk: data/2024/309.pdf\n",
      "Saved PDF to disk: data/2024/270.pdf\n"
     ]
    },
    {
     "name": "stderr",
     "output_type": "stream",
     "text": [
      "CropBox missing from /Page, defaulting to MediaBox\n",
      "CropBox missing from /Page, defaulting to MediaBox\n",
      "CropBox missing from /Page, defaulting to MediaBox\n",
      "CropBox missing from /Page, defaulting to MediaBox\n"
     ]
    },
    {
     "name": "stdout",
     "output_type": "stream",
     "text": [
      "Saved PDF to disk: data/2024/295.pdf\n",
      "Saved PDF to disk: data/2024/280.pdf\n"
     ]
    },
    {
     "name": "stderr",
     "output_type": "stream",
     "text": [
      "CropBox missing from /Page, defaulting to MediaBox\n",
      "CropBox missing from /Page, defaulting to MediaBox\n",
      "CropBox missing from /Page, defaulting to MediaBox\n",
      "CropBox missing from /Page, defaulting to MediaBox\n",
      "CropBox missing from /Page, defaulting to MediaBox\n",
      "CropBox missing from /Page, defaulting to MediaBox\n"
     ]
    },
    {
     "name": "stdout",
     "output_type": "stream",
     "text": [
      "Saved PDF to disk: data/2024/307.pdf\n",
      "Saved PDF to disk: data/2024/279.pdf\n",
      "Saved PDF to disk: data/2024/298.pdf\n"
     ]
    },
    {
     "name": "stderr",
     "output_type": "stream",
     "text": [
      "CropBox missing from /Page, defaulting to MediaBox\n",
      "CropBox missing from /Page, defaulting to MediaBox\n"
     ]
    },
    {
     "name": "stdout",
     "output_type": "stream",
     "text": [
      "Saved PDF to disk: data/2024/275.pdf\n"
     ]
    },
    {
     "name": "stderr",
     "output_type": "stream",
     "text": [
      "CropBox missing from /Page, defaulting to MediaBox\n",
      "CropBox missing from /Page, defaulting to MediaBox\n",
      "CropBox missing from /Page, defaulting to MediaBox\n",
      "CropBox missing from /Page, defaulting to MediaBox\n"
     ]
    },
    {
     "name": "stdout",
     "output_type": "stream",
     "text": [
      "Saved PDF to disk: data/2024/125.pdf\n",
      "Saved PDF to disk: data/2024/286.pdf\n"
     ]
    },
    {
     "name": "stderr",
     "output_type": "stream",
     "text": [
      "CropBox missing from /Page, defaulting to MediaBox\n",
      "CropBox missing from /Page, defaulting to MediaBox\n"
     ]
    },
    {
     "name": "stdout",
     "output_type": "stream",
     "text": [
      "Saved PDF to disk: data/2024/291.pdf\n"
     ]
    },
    {
     "name": "stderr",
     "output_type": "stream",
     "text": [
      "CropBox missing from /Page, defaulting to MediaBox\n",
      "CropBox missing from /Page, defaulting to MediaBox\n",
      "CropBox missing from /Page, defaulting to MediaBox\n",
      "CropBox missing from /Page, defaulting to MediaBox\n"
     ]
    },
    {
     "name": "stdout",
     "output_type": "stream",
     "text": [
      "Saved PDF to disk: data/2024/124.pdf\n",
      "Saved PDF to disk: data/2024/268.pdf\n"
     ]
    },
    {
     "name": "stderr",
     "output_type": "stream",
     "text": [
      "CropBox missing from /Page, defaulting to MediaBox\n",
      "CropBox missing from /Page, defaulting to MediaBox\n",
      "CropBox missing from /Page, defaulting to MediaBox\n",
      "CropBox missing from /Page, defaulting to MediaBox\n"
     ]
    },
    {
     "name": "stdout",
     "output_type": "stream",
     "text": [
      "Saved PDF to disk: data/2024/292.pdf\n",
      "Saved PDF to disk: data/2024/303.pdf\n"
     ]
    },
    {
     "name": "stderr",
     "output_type": "stream",
     "text": [
      "CropBox missing from /Page, defaulting to MediaBox\n",
      "CropBox missing from /Page, defaulting to MediaBox\n"
     ]
    },
    {
     "name": "stdout",
     "output_type": "stream",
     "text": [
      "Saved PDF to disk: data/2024/301.pdf\n"
     ]
    },
    {
     "name": "stderr",
     "output_type": "stream",
     "text": [
      "CropBox missing from /Page, defaulting to MediaBox\n",
      "CropBox missing from /Page, defaulting to MediaBox\n",
      "CropBox missing from /Page, defaulting to MediaBox\n",
      "CropBox missing from /Page, defaulting to MediaBox\n"
     ]
    },
    {
     "name": "stdout",
     "output_type": "stream",
     "text": [
      "Saved PDF to disk: data/2024/281.pdf\n",
      "Saved PDF to disk: data/2024/162.pdf\n"
     ]
    },
    {
     "name": "stderr",
     "output_type": "stream",
     "text": [
      "CropBox missing from /Page, defaulting to MediaBox\n",
      "CropBox missing from /Page, defaulting to MediaBox\n"
     ]
    },
    {
     "name": "stdout",
     "output_type": "stream",
     "text": [
      "Saved PDF to disk: data/2024/289.pdf\n"
     ]
    },
    {
     "name": "stderr",
     "output_type": "stream",
     "text": [
      "CropBox missing from /Page, defaulting to MediaBox\n",
      "CropBox missing from /Page, defaulting to MediaBox\n"
     ]
    },
    {
     "name": "stdout",
     "output_type": "stream",
     "text": [
      "Saved PDF to disk: data/2024/269.pdf\n"
     ]
    },
    {
     "name": "stderr",
     "output_type": "stream",
     "text": [
      "CropBox missing from /Page, defaulting to MediaBox\n",
      "CropBox missing from /Page, defaulting to MediaBox\n",
      "CropBox missing from /Page, defaulting to MediaBox\n",
      "CropBox missing from /Page, defaulting to MediaBox\n"
     ]
    },
    {
     "name": "stdout",
     "output_type": "stream",
     "text": [
      "Saved PDF to disk: data/2024/273.pdf\n",
      "Saved PDF to disk: data/2024/288.pdf\n"
     ]
    },
    {
     "name": "stderr",
     "output_type": "stream",
     "text": [
      "CropBox missing from /Page, defaulting to MediaBox\n",
      "CropBox missing from /Page, defaulting to MediaBox\n"
     ]
    },
    {
     "name": "stdout",
     "output_type": "stream",
     "text": [
      "Saved PDF to disk: data/2024/302.pdf\n"
     ]
    },
    {
     "name": "stderr",
     "output_type": "stream",
     "text": [
      "CropBox missing from /Page, defaulting to MediaBox\n",
      "CropBox missing from /Page, defaulting to MediaBox\n",
      "CropBox missing from /Page, defaulting to MediaBox\n",
      "CropBox missing from /Page, defaulting to MediaBox\n"
     ]
    },
    {
     "name": "stdout",
     "output_type": "stream",
     "text": [
      "Saved PDF to disk: data/2024/193.pdf\n",
      "Saved PDF to disk: data/2024/167.pdf\n"
     ]
    },
    {
     "name": "stderr",
     "output_type": "stream",
     "text": [
      "CropBox missing from /Page, defaulting to MediaBox\n",
      "CropBox missing from /Page, defaulting to MediaBox\n"
     ]
    },
    {
     "name": "stdout",
     "output_type": "stream",
     "text": [
      "Saved PDF to disk: data/2024/169.pdf\n"
     ]
    },
    {
     "name": "stderr",
     "output_type": "stream",
     "text": [
      "CropBox missing from /Page, defaulting to MediaBox\n",
      "CropBox missing from /Page, defaulting to MediaBox\n"
     ]
    },
    {
     "name": "stdout",
     "output_type": "stream",
     "text": [
      "Saved PDF to disk: data/2024/181.pdf\n"
     ]
    },
    {
     "name": "stderr",
     "output_type": "stream",
     "text": [
      "CropBox missing from /Page, defaulting to MediaBox\n",
      "CropBox missing from /Page, defaulting to MediaBox\n"
     ]
    },
    {
     "name": "stdout",
     "output_type": "stream",
     "text": [
      "Saved PDF to disk: data/2024/276.pdf\n"
     ]
    },
    {
     "name": "stderr",
     "output_type": "stream",
     "text": [
      "CropBox missing from /Page, defaulting to MediaBox\n",
      "CropBox missing from /Page, defaulting to MediaBox\n",
      "CropBox missing from /Page, defaulting to MediaBox\n"
     ]
    },
    {
     "name": "stdout",
     "output_type": "stream",
     "text": [
      "Saved PDF to disk: data/2024/178.pdf\n",
      "Successfully saved 275 of 309 PDFs\n"
     ]
    }
   ],
   "source": [
    "# Now populate the columns from the extracted patterns\n",
    "def extract_and_expand(text):\n",
    "    if text and not isinstance(text, str) or (isinstance(text, str) and not text.startswith(\"ERROR:\")):\n",
    "        patterns = extract_multiple_patterns(text)\n",
    "        return patterns\n",
    "    return {key: None for key in ['total_no_plots', 'ews', 'regular', 'date', 'reference_number']}\n",
    "\n",
    "# Usage with asyncio\n",
    "async def process_df(df):\n",
    "    results_text = []\n",
    "    results_saved = []\n",
    "    async with aiohttp.ClientSession() as session:\n",
    "        tasks = [downlaod_and_extract_pdf(session, row) for _, row in df.iterrows()]\n",
    "        batch_results = await asyncio.gather(*tasks)\n",
    "        \n",
    "        # Unpack results\n",
    "        batch_text, batch_saved = zip(*batch_results)\n",
    "        results_text.extend(batch_text)\n",
    "        results_saved.extend(batch_saved)\n",
    "        \n",
    "    result_df = df.copy()\n",
    "    result_df['extracted_text'] = results_text\n",
    "    result_df['saved_to_disk'] = results_saved\n",
    "    return result_df\n",
    "\n",
    "\n",
    "async def main():\n",
    "    # Process first 20 rows as an example\n",
    "    result_df = await process_df(df)\n",
    "    \n",
    "    # Now you can use the DataFrame as usual\n",
    "    print(f\"Successfully saved {result_df['saved_to_disk'].sum()} of {len(result_df)} PDFs\")\n",
    "    \n",
    "    # Apply pattern extraction to the extracted text and expand into separate columns\n",
    "    for key in ['total_no_plots', 'ews', 'regular', 'date', 'reference_number']:\n",
    "        result_df[key] = None  # Initialize columns\n",
    "\n",
    "\n",
    "    # Apply the extraction function\n",
    "    pattern_dicts = result_df['extracted_text'].apply(extract_and_expand)\n",
    "\n",
    "    # Expand the dictionaries into separate columns\n",
    "    for key in ['total_no_plots', 'ews', 'regular', 'date', 'reference_number']:\n",
    "        result_df[key] = pattern_dicts.apply(lambda x: x.get(key))\n",
    "    \n",
    "    return result_df\n",
    "\n",
    "# Run the async function\n",
    "result_df = await main()"
   ]
  },
  {
   "cell_type": "code",
   "execution_count": 35,
   "id": "b4d1e975",
   "metadata": {},
   "outputs": [],
   "source": [
    "pqdf = result_df.drop(columns='bs4')\n",
    "pqdf.to_parquet('./2024extract.parquet')"
   ]
  },
  {
   "cell_type": "code",
   "execution_count": 2,
   "id": "461a6659",
   "metadata": {},
   "outputs": [
    {
     "data": {
      "application/vnd.microsoft.datawrangler.viewer.v0+json": {
       "columns": [
        {
         "name": "index",
         "rawType": "int64",
         "type": "integer"
        },
        {
         "name": "SNo.",
         "rawType": "object",
         "type": "string"
        },
        {
         "name": "Approval No. PPD/L.O. No.",
         "rawType": "object",
         "type": "string"
        },
        {
         "name": "Localbody",
         "rawType": "object",
         "type": "string"
        },
        {
         "name": "Village",
         "rawType": "object",
         "type": "string"
        },
        {
         "name": "url",
         "rawType": "object",
         "type": "string"
        },
        {
         "name": "extracted_ppl",
         "rawType": "object",
         "type": "string"
        },
        {
         "name": "pdf_savepath",
         "rawType": "object",
         "type": "string"
        },
        {
         "name": "extracted_text",
         "rawType": "object",
         "type": "string"
        },
        {
         "name": "saved_to_disk",
         "rawType": "bool",
         "type": "boolean"
        },
        {
         "name": "total_no_plots",
         "rawType": "object",
         "type": "unknown"
        },
        {
         "name": "ews",
         "rawType": "object",
         "type": "unknown"
        },
        {
         "name": "regular",
         "rawType": "object",
         "type": "unknown"
        },
        {
         "name": "date",
         "rawType": "object",
         "type": "unknown"
        },
        {
         "name": "reference_number",
         "rawType": "object",
         "type": "unknown"
        }
       ],
       "conversionMethod": "pd.DataFrame",
       "ref": "c1d6c831-3894-46da-9e36-2f9bb193d558",
       "rows": [
        [
         "6",
         "7",
         "07/2024",
         "Thiruverkadu MP",
         "Noombal",
         "https://www.cmdachennai.gov.in/pdfs/layouts/2024/07-2024.pdf",
         "07/2024",
         "2024/07.pdf",
         "ERROR: 503, message='Service Unavailable', url='https://www.cmdachennai.gov.in/pdfs/layouts/2024/07-2024.pdf'",
         "False",
         null,
         null,
         null,
         null,
         null
        ],
        [
         "16",
         "17",
         "17/2024",
         "Sholavaram PU",
         "Nayar II",
         "https://www.cmdachennai.gov.in/pdfs/layouts/2024/17-2024.pdf",
         "17/2024",
         "2024/17.pdf",
         "ERROR: 503, message='Service Unavailable', url='https://www.cmdachennai.gov.in/pdfs/layouts/2024/17-2024.pdf'",
         "False",
         null,
         null,
         null,
         null,
         null
        ],
        [
         "36",
         "37",
         "37/2024",
         "St.Thomas Mount PU",
         "Kaspapuram",
         "https://www.cmdachennai.gov.in/pdfs/layouts/2024/37-2024.pdf",
         "37/2024",
         "2024/37.pdf",
         "ERROR: 503, message='Service Unavailable', url='https://www.cmdachennai.gov.in/pdfs/layouts/2024/37-2024.pdf'",
         "False",
         null,
         null,
         null,
         null,
         null
        ],
        [
         "69",
         "70",
         "70/2024",
         "Kundrathur PU",
         "Kulathuvancheri",
         "https://www.cmdachennai.gov.in/pdfs/layouts/2024/70-2024.pdf",
         "70/2024",
         "2024/70.pdf",
         "ERROR: 503, message='Service Unavailable', url='https://www.cmdachennai.gov.in/pdfs/layouts/2024/70-2024.pdf'",
         "False",
         null,
         null,
         null,
         null,
         null
        ],
        [
         "80",
         "81",
         "81/2024",
         "Kundrathur PU",
         "Kovur",
         "https://www.cmdachennai.gov.in/pdfs/layouts/2024/81-2024.pdf",
         "81/2024",
         "2024/81.pdf",
         "ERROR: 503, message='Service Unavailable', url='https://www.cmdachennai.gov.in/pdfs/layouts/2024/81-2024.pdf'",
         "False",
         null,
         null,
         null,
         null,
         null
        ],
        [
         "93",
         "94",
         "94/2024",
         "Poonamallee PU",
         "Sithukkadu,",
         "https://www.cmdachennai.gov.in/pdfs/layouts/2024/94-2024.pdf",
         "94/2024",
         "2024/94.pdf",
         "ERROR: 503, message='Service Unavailable', url='https://www.cmdachennai.gov.in/pdfs/layouts/2024/94-2024.pdf'",
         "False",
         null,
         null,
         null,
         null,
         null
        ],
        [
         "94",
         "95",
         "95/2024",
         "St.Thomas Mount PU",
         "Agaramthen",
         "https://www.cmdachennai.gov.in/pdfs/layouts/2024/95-2024.pdf",
         "95/2024",
         "2024/95.pdf",
         "ERROR: 503, message='Service Unavailable', url='https://www.cmdachennai.gov.in/pdfs/layouts/2024/95-2024.pdf'",
         "False",
         null,
         null,
         null,
         null,
         null
        ],
        [
         "127",
         "128",
         "128/2024",
         "St.Thomas Mount PU",
         "Vengambakkam",
         "https://www.cmdachennai.gov.in/pdfs/layouts/2024/128-2024.pdf",
         "128/2024",
         "2024/128.pdf",
         "ERROR: 503, message='Service Unavailable', url='https://www.cmdachennai.gov.in/pdfs/layouts/2024/128-2024.pdf'",
         "False",
         null,
         null,
         null,
         null,
         null
        ],
        [
         "129",
         "130",
         "130/2024",
         "Puzhal PU",
         "Vilangadupakkam",
         "https://www.cmdachennai.gov.in/pdfs/layouts/2024/130-2024.pdf",
         "130/2024",
         "2024/130.pdf",
         "ERROR: 503, message='Service Unavailable', url='https://www.cmdachennai.gov.in/pdfs/layouts/2024/130-2024.pdf'",
         "False",
         null,
         null,
         null,
         null,
         null
        ],
        [
         "130",
         "131",
         "131/2024",
         "St.Thomas Mount PU",
         "Arasankazhani",
         "https://www.cmdachennai.gov.in/pdfs/layouts/2024/131-2024.pdf",
         "131/2024",
         "2024/131.pdf",
         "ERROR: 503, message='Service Unavailable', url='https://www.cmdachennai.gov.in/pdfs/layouts/2024/131-2024.pdf'",
         "False",
         null,
         null,
         null,
         null,
         null
        ],
        [
         "131",
         "132",
         "132/2024",
         "Tambaram Corporation",
         "Selaiyur",
         "https://www.cmdachennai.gov.in/pdfs/layouts/2024/132-2024.pdf",
         "132/2024",
         "2024/132.pdf",
         "ERROR: Connection timeout to host https://www.cmdachennai.gov.in/pdfs/layouts/2024/132-2024.pdf",
         "False",
         null,
         null,
         null,
         null,
         null
        ],
        [
         "132",
         "133",
         "133/2024",
         "Kundrathur PU",
         "Gerugambakkam",
         "https://www.cmdachennai.gov.in/pdfs/layouts/2024/133-2024.pdf",
         "133/2024",
         "2024/133.pdf",
         "ERROR: Connection timeout to host https://www.cmdachennai.gov.in/pdfs/layouts/2024/133-2024.pdf",
         "False",
         null,
         null,
         null,
         null,
         null
        ],
        [
         "133",
         "134",
         "134/2024",
         "Poonamallee PU",
         "Nemam-B",
         "https://www.cmdachennai.gov.in/pdfs/layouts/2024/134-2024.pdf",
         "134/2024",
         "2024/134.pdf",
         "ERROR: Connection timeout to host https://www.cmdachennai.gov.in/pdfs/layouts/2024/134-2024.pdf",
         "False",
         null,
         null,
         null,
         null,
         null
        ],
        [
         "134",
         "135",
         "135/2024",
         "Tambaram Corporation",
         "Anakaputhur",
         "https://www.cmdachennai.gov.in/pdfs/layouts/2024/135-2024.pdf",
         "135/2024",
         "2024/135.pdf",
         "ERROR: Connection timeout to host https://www.cmdachennai.gov.in/pdfs/layouts/2024/135-2024.pdf",
         "False",
         null,
         null,
         null,
         null,
         null
        ],
        [
         "141",
         "142",
         "142/2024",
         "Kattankolathur PU",
         "Nedungundram",
         "https://www.cmdachennai.gov.in/pdfs/layouts/2024/142-2024.pdf",
         "142/2024",
         "2024/142.pdf",
         "ERROR: 503, message='Service Unavailable', url='https://www.cmdachennai.gov.in/pdfs/layouts/2024/142-2024.pdf'",
         "False",
         null,
         null,
         null,
         null,
         null
        ],
        [
         "195",
         "196",
         "196/2024",
         "Sholavaram PU",
         "Mafuskhanpet",
         "https://www.cmdachennai.gov.in/pdfs/layouts/2024/196-2024.pdf",
         "196/2024",
         "2024/196.pdf",
         "ERROR: 503, message='Service Unavailable', url='https://www.cmdachennai.gov.in/pdfs/layouts/2024/196-2024.pdf'",
         "False",
         null,
         null,
         null,
         null,
         null
        ],
        [
         "204",
         "205",
         "205/2024",
         "Villivakkam PU",
         "Ayapakkam",
         "https://www.cmdachennai.gov.in/pdfs/layouts/2024/205-2024.pdf",
         "205/2024",
         "2024/205.pdf",
         "ERROR: 503, message='Service Unavailable', url='https://www.cmdachennai.gov.in/pdfs/layouts/2024/205-2024.pdf'",
         "False",
         null,
         null,
         null,
         null,
         null
        ],
        [
         "205",
         "206",
         "206/2024",
         "St.Thomas Mount PU",
         "Arasankazhani",
         "https://www.cmdachennai.gov.in/pdfs/layouts/2024/206-2024.pdf",
         "206/2024",
         "2024/206.pdf",
         "ERROR: 503, message='Service Unavailable', url='https://www.cmdachennai.gov.in/pdfs/layouts/2024/206-2024.pdf'",
         "False",
         null,
         null,
         null,
         null,
         null
        ],
        [
         "217",
         "218",
         "218/2024",
         "Kundrathur PU",
         "Varadharajapuram",
         "https://www.cmdachennai.gov.in/pdfs/layouts/2024/218-2024.pdf",
         "218/2024",
         "2024/218.pdf",
         "ERROR: 503, message='Service Unavailable', url='https://www.cmdachennai.gov.in/pdfs/layouts/2024/218-2024.pdf'",
         "False",
         null,
         null,
         null,
         null,
         null
        ],
        [
         "223",
         "224",
         "224/2024",
         "Tambaram Corporation",
         "Tambaram",
         "https://www.cmdachennai.gov.in/pdfs/layouts/2024/224-2024.pdf",
         "224/2024",
         "2024/224.pdf",
         "ERROR: 503, message='Service Unavailable', url='https://www.cmdachennai.gov.in/pdfs/layouts/2024/224-2024.pdf'",
         "False",
         null,
         null,
         null,
         null,
         null
        ],
        [
         "229",
         "230",
         "230/2024",
         "Tiruvallur PU",
         "Pakkam",
         "https://www.cmdachennai.gov.in/pdfs/layouts/2024/230-2024.pdf",
         "230/2024",
         "2024/230.pdf",
         "ERROR: 503, message='Service Unavailable', url='https://www.cmdachennai.gov.in/pdfs/layouts/2024/230-2024.pdf'",
         "False",
         null,
         null,
         null,
         null,
         null
        ],
        [
         "235",
         "236",
         "236/2024",
         "Poonamallee PU",
         "Sorancheri - A",
         "https://www.cmdachennai.gov.in/pdfs/layouts/2024/236-2024.pdf",
         "236/2024",
         "2024/236.pdf",
         "ERROR: 503, message='Service Unavailable', url='https://www.cmdachennai.gov.in/pdfs/layouts/2024/236-2024.pdf'",
         "False",
         null,
         null,
         null,
         null,
         null
        ],
        [
         "238",
         "239",
         "239/2024",
         "Kattankolathur PU",
         "Puthur",
         "https://www.cmdachennai.gov.in/pdfs/layouts/2024/239-2024.pdf",
         "239/2024",
         "2024/239.pdf",
         "ERROR: 503, message='Service Unavailable', url='https://www.cmdachennai.gov.in/pdfs/layouts/2024/239-2024.pdf'",
         "False",
         null,
         null,
         null,
         null,
         null
        ],
        [
         "270",
         "271",
         "271/2024",
         "Poonamallee PU",
         "Kilmanambedu",
         "https://www.cmdachennai.gov.in/pdfs/layouts/2024/271-2024.pdf",
         "271/2024",
         "2024/271.pdf",
         "ERROR: 503, message='Service Unavailable', url='https://www.cmdachennai.gov.in/pdfs/layouts/2024/271-2024.pdf'",
         "False",
         null,
         null,
         null,
         null,
         null
        ],
        [
         "271",
         "272",
         "272/2024",
         "St.Thomas Mount PU",
         "Kaspapuram",
         "https://www.cmdachennai.gov.in/pdfs/layouts/2024/272-2024.pdf",
         "272/2024",
         "2024/272.pdf",
         "ERROR: 503, message='Service Unavailable', url='https://www.cmdachennai.gov.in/pdfs/layouts/2024/272-2024.pdf'",
         "False",
         null,
         null,
         null,
         null,
         null
        ],
        [
         "283",
         "284",
         "284/2024",
         "St.Thomas Mount PU",
         "Medavakkam",
         "https://www.cmdachennai.gov.in/pdfs/layouts/2024/284-2024.pdf",
         "284/2024",
         "2024/284.pdf",
         "ERROR: 503, message='Service Unavailable', url='https://www.cmdachennai.gov.in/pdfs/layouts/2024/284-2024.pdf'",
         "False",
         null,
         null,
         null,
         null,
         null
        ],
        [
         "284",
         "285",
         "285/2024",
         "Kundrathur PU",
         "Malayambakkam",
         "https://www.cmdachennai.gov.in/pdfs/layouts/2024/285-2024.pdf",
         "285/2024",
         "2024/285.pdf",
         "ERROR: 503, message='Service Unavailable', url='https://www.cmdachennai.gov.in/pdfs/layouts/2024/285-2024.pdf'",
         "False",
         null,
         null,
         null,
         null,
         null
        ],
        [
         "289",
         "290",
         "290/2024",
         "Tambaram Corporation",
         "Madambakkam",
         "https://www.cmdachennai.gov.in/pdfs/layouts/2024/290-2024.pdf",
         "290/2024",
         "2024/290.pdf",
         "ERROR: 503, message='Service Unavailable', url='https://www.cmdachennai.gov.in/pdfs/layouts/2024/290-2024.pdf'",
         "False",
         null,
         null,
         null,
         null,
         null
        ],
        [
         "293",
         "294",
         "294/2024",
         "Minjur TP",
         "Minjur",
         "https://www.cmdachennai.gov.in/pdfs/layouts/2024/294-2024.pdf",
         "294/2024",
         "2024/294.pdf",
         "ERROR: 503, message='Service Unavailable', url='https://www.cmdachennai.gov.in/pdfs/layouts/2024/294-2024.pdf'",
         "False",
         null,
         null,
         null,
         null,
         null
        ],
        [
         "295",
         "296",
         "296/2024",
         "Minjur TP",
         "Minjur",
         "https://www.cmdachennai.gov.in/pdfs/layouts/2024/296-2024.pdf",
         "296/2024",
         "2024/296.pdf",
         "ERROR: 503, message='Service Unavailable', url='https://www.cmdachennai.gov.in/pdfs/layouts/2024/296-2024.pdf'",
         "False",
         null,
         null,
         null,
         null,
         null
        ],
        [
         "296",
         "297",
         "297/2024",
         "Poonamallee PU",
         "Kuthambakkam",
         "https://www.cmdachennai.gov.in/pdfs/layouts/2024/297-2024.pdf",
         "297/2024",
         "2024/297.pdf",
         "ERROR: 503, message='Service Unavailable', url='https://www.cmdachennai.gov.in/pdfs/layouts/2024/297-2024.pdf'",
         "False",
         null,
         null,
         null,
         null,
         null
        ],
        [
         "298",
         "299",
         "299/2024",
         "Poonamallee PU",
         "Kannapalayam",
         "https://www.cmdachennai.gov.in/pdfs/layouts/2024/299-2024.pdf",
         "299/2024",
         "2024/299.pdf",
         "ERROR: 503, message='Service Unavailable', url='https://www.cmdachennai.gov.in/pdfs/layouts/2024/299-2024.pdf'",
         "False",
         null,
         null,
         null,
         null,
         null
        ],
        [
         "304",
         "305",
         "305/2024",
         "Poonamallee PU",
         "Parivakkam",
         "https://www.cmdachennai.gov.in/pdfs/layouts/2024/305-2024.pdf",
         "305/2024",
         "2024/305.pdf",
         "ERROR: 503, message='Service Unavailable', url='https://www.cmdachennai.gov.in/pdfs/layouts/2024/305-2024.pdf'",
         "False",
         null,
         null,
         null,
         null,
         null
        ],
        [
         "305",
         "306",
         "306/2024",
         "Poonamallee PU",
         "Chokkanallur",
         "https://www.cmdachennai.gov.in/pdfs/layouts/2024/306-2024.pdf",
         "306/2024",
         "2024/306.pdf",
         "ERROR: 503, message='Service Unavailable', url='https://www.cmdachennai.gov.in/pdfs/layouts/2024/306-2024.pdf'",
         "False",
         null,
         null,
         null,
         null,
         null
        ]
       ],
       "shape": {
        "columns": 14,
        "rows": 34
       }
      },
      "text/html": [
       "<div>\n",
       "<style scoped>\n",
       "    .dataframe tbody tr th:only-of-type {\n",
       "        vertical-align: middle;\n",
       "    }\n",
       "\n",
       "    .dataframe tbody tr th {\n",
       "        vertical-align: top;\n",
       "    }\n",
       "\n",
       "    .dataframe thead th {\n",
       "        text-align: right;\n",
       "    }\n",
       "</style>\n",
       "<table border=\"1\" class=\"dataframe\">\n",
       "  <thead>\n",
       "    <tr style=\"text-align: right;\">\n",
       "      <th></th>\n",
       "      <th>SNo.</th>\n",
       "      <th>Approval No. PPD/L.O. No.</th>\n",
       "      <th>Localbody</th>\n",
       "      <th>Village</th>\n",
       "      <th>url</th>\n",
       "      <th>extracted_ppl</th>\n",
       "      <th>pdf_savepath</th>\n",
       "      <th>extracted_text</th>\n",
       "      <th>saved_to_disk</th>\n",
       "      <th>total_no_plots</th>\n",
       "      <th>ews</th>\n",
       "      <th>regular</th>\n",
       "      <th>date</th>\n",
       "      <th>reference_number</th>\n",
       "    </tr>\n",
       "  </thead>\n",
       "  <tbody>\n",
       "    <tr>\n",
       "      <th>6</th>\n",
       "      <td>7</td>\n",
       "      <td>07/2024</td>\n",
       "      <td>Thiruverkadu MP</td>\n",
       "      <td>Noombal</td>\n",
       "      <td>https://www.cmdachennai.gov.in/pdfs/layouts/20...</td>\n",
       "      <td>07/2024</td>\n",
       "      <td>2024/07.pdf</td>\n",
       "      <td>ERROR: 503, message='Service Unavailable', url...</td>\n",
       "      <td>False</td>\n",
       "      <td>None</td>\n",
       "      <td>None</td>\n",
       "      <td>None</td>\n",
       "      <td>None</td>\n",
       "      <td>None</td>\n",
       "    </tr>\n",
       "    <tr>\n",
       "      <th>16</th>\n",
       "      <td>17</td>\n",
       "      <td>17/2024</td>\n",
       "      <td>Sholavaram PU</td>\n",
       "      <td>Nayar II</td>\n",
       "      <td>https://www.cmdachennai.gov.in/pdfs/layouts/20...</td>\n",
       "      <td>17/2024</td>\n",
       "      <td>2024/17.pdf</td>\n",
       "      <td>ERROR: 503, message='Service Unavailable', url...</td>\n",
       "      <td>False</td>\n",
       "      <td>None</td>\n",
       "      <td>None</td>\n",
       "      <td>None</td>\n",
       "      <td>None</td>\n",
       "      <td>None</td>\n",
       "    </tr>\n",
       "    <tr>\n",
       "      <th>36</th>\n",
       "      <td>37</td>\n",
       "      <td>37/2024</td>\n",
       "      <td>St.Thomas Mount PU</td>\n",
       "      <td>Kaspapuram</td>\n",
       "      <td>https://www.cmdachennai.gov.in/pdfs/layouts/20...</td>\n",
       "      <td>37/2024</td>\n",
       "      <td>2024/37.pdf</td>\n",
       "      <td>ERROR: 503, message='Service Unavailable', url...</td>\n",
       "      <td>False</td>\n",
       "      <td>None</td>\n",
       "      <td>None</td>\n",
       "      <td>None</td>\n",
       "      <td>None</td>\n",
       "      <td>None</td>\n",
       "    </tr>\n",
       "    <tr>\n",
       "      <th>69</th>\n",
       "      <td>70</td>\n",
       "      <td>70/2024</td>\n",
       "      <td>Kundrathur PU</td>\n",
       "      <td>Kulathuvancheri</td>\n",
       "      <td>https://www.cmdachennai.gov.in/pdfs/layouts/20...</td>\n",
       "      <td>70/2024</td>\n",
       "      <td>2024/70.pdf</td>\n",
       "      <td>ERROR: 503, message='Service Unavailable', url...</td>\n",
       "      <td>False</td>\n",
       "      <td>None</td>\n",
       "      <td>None</td>\n",
       "      <td>None</td>\n",
       "      <td>None</td>\n",
       "      <td>None</td>\n",
       "    </tr>\n",
       "    <tr>\n",
       "      <th>80</th>\n",
       "      <td>81</td>\n",
       "      <td>81/2024</td>\n",
       "      <td>Kundrathur PU</td>\n",
       "      <td>Kovur</td>\n",
       "      <td>https://www.cmdachennai.gov.in/pdfs/layouts/20...</td>\n",
       "      <td>81/2024</td>\n",
       "      <td>2024/81.pdf</td>\n",
       "      <td>ERROR: 503, message='Service Unavailable', url...</td>\n",
       "      <td>False</td>\n",
       "      <td>None</td>\n",
       "      <td>None</td>\n",
       "      <td>None</td>\n",
       "      <td>None</td>\n",
       "      <td>None</td>\n",
       "    </tr>\n",
       "    <tr>\n",
       "      <th>93</th>\n",
       "      <td>94</td>\n",
       "      <td>94/2024</td>\n",
       "      <td>Poonamallee PU</td>\n",
       "      <td>Sithukkadu,</td>\n",
       "      <td>https://www.cmdachennai.gov.in/pdfs/layouts/20...</td>\n",
       "      <td>94/2024</td>\n",
       "      <td>2024/94.pdf</td>\n",
       "      <td>ERROR: 503, message='Service Unavailable', url...</td>\n",
       "      <td>False</td>\n",
       "      <td>None</td>\n",
       "      <td>None</td>\n",
       "      <td>None</td>\n",
       "      <td>None</td>\n",
       "      <td>None</td>\n",
       "    </tr>\n",
       "    <tr>\n",
       "      <th>94</th>\n",
       "      <td>95</td>\n",
       "      <td>95/2024</td>\n",
       "      <td>St.Thomas Mount PU</td>\n",
       "      <td>Agaramthen</td>\n",
       "      <td>https://www.cmdachennai.gov.in/pdfs/layouts/20...</td>\n",
       "      <td>95/2024</td>\n",
       "      <td>2024/95.pdf</td>\n",
       "      <td>ERROR: 503, message='Service Unavailable', url...</td>\n",
       "      <td>False</td>\n",
       "      <td>None</td>\n",
       "      <td>None</td>\n",
       "      <td>None</td>\n",
       "      <td>None</td>\n",
       "      <td>None</td>\n",
       "    </tr>\n",
       "    <tr>\n",
       "      <th>127</th>\n",
       "      <td>128</td>\n",
       "      <td>128/2024</td>\n",
       "      <td>St.Thomas Mount PU</td>\n",
       "      <td>Vengambakkam</td>\n",
       "      <td>https://www.cmdachennai.gov.in/pdfs/layouts/20...</td>\n",
       "      <td>128/2024</td>\n",
       "      <td>2024/128.pdf</td>\n",
       "      <td>ERROR: 503, message='Service Unavailable', url...</td>\n",
       "      <td>False</td>\n",
       "      <td>None</td>\n",
       "      <td>None</td>\n",
       "      <td>None</td>\n",
       "      <td>None</td>\n",
       "      <td>None</td>\n",
       "    </tr>\n",
       "    <tr>\n",
       "      <th>129</th>\n",
       "      <td>130</td>\n",
       "      <td>130/2024</td>\n",
       "      <td>Puzhal PU</td>\n",
       "      <td>Vilangadupakkam</td>\n",
       "      <td>https://www.cmdachennai.gov.in/pdfs/layouts/20...</td>\n",
       "      <td>130/2024</td>\n",
       "      <td>2024/130.pdf</td>\n",
       "      <td>ERROR: 503, message='Service Unavailable', url...</td>\n",
       "      <td>False</td>\n",
       "      <td>None</td>\n",
       "      <td>None</td>\n",
       "      <td>None</td>\n",
       "      <td>None</td>\n",
       "      <td>None</td>\n",
       "    </tr>\n",
       "    <tr>\n",
       "      <th>130</th>\n",
       "      <td>131</td>\n",
       "      <td>131/2024</td>\n",
       "      <td>St.Thomas Mount PU</td>\n",
       "      <td>Arasankazhani</td>\n",
       "      <td>https://www.cmdachennai.gov.in/pdfs/layouts/20...</td>\n",
       "      <td>131/2024</td>\n",
       "      <td>2024/131.pdf</td>\n",
       "      <td>ERROR: 503, message='Service Unavailable', url...</td>\n",
       "      <td>False</td>\n",
       "      <td>None</td>\n",
       "      <td>None</td>\n",
       "      <td>None</td>\n",
       "      <td>None</td>\n",
       "      <td>None</td>\n",
       "    </tr>\n",
       "    <tr>\n",
       "      <th>131</th>\n",
       "      <td>132</td>\n",
       "      <td>132/2024</td>\n",
       "      <td>Tambaram Corporation</td>\n",
       "      <td>Selaiyur</td>\n",
       "      <td>https://www.cmdachennai.gov.in/pdfs/layouts/20...</td>\n",
       "      <td>132/2024</td>\n",
       "      <td>2024/132.pdf</td>\n",
       "      <td>ERROR: Connection timeout to host https://www....</td>\n",
       "      <td>False</td>\n",
       "      <td>None</td>\n",
       "      <td>None</td>\n",
       "      <td>None</td>\n",
       "      <td>None</td>\n",
       "      <td>None</td>\n",
       "    </tr>\n",
       "    <tr>\n",
       "      <th>132</th>\n",
       "      <td>133</td>\n",
       "      <td>133/2024</td>\n",
       "      <td>Kundrathur PU</td>\n",
       "      <td>Gerugambakkam</td>\n",
       "      <td>https://www.cmdachennai.gov.in/pdfs/layouts/20...</td>\n",
       "      <td>133/2024</td>\n",
       "      <td>2024/133.pdf</td>\n",
       "      <td>ERROR: Connection timeout to host https://www....</td>\n",
       "      <td>False</td>\n",
       "      <td>None</td>\n",
       "      <td>None</td>\n",
       "      <td>None</td>\n",
       "      <td>None</td>\n",
       "      <td>None</td>\n",
       "    </tr>\n",
       "    <tr>\n",
       "      <th>133</th>\n",
       "      <td>134</td>\n",
       "      <td>134/2024</td>\n",
       "      <td>Poonamallee PU</td>\n",
       "      <td>Nemam-B</td>\n",
       "      <td>https://www.cmdachennai.gov.in/pdfs/layouts/20...</td>\n",
       "      <td>134/2024</td>\n",
       "      <td>2024/134.pdf</td>\n",
       "      <td>ERROR: Connection timeout to host https://www....</td>\n",
       "      <td>False</td>\n",
       "      <td>None</td>\n",
       "      <td>None</td>\n",
       "      <td>None</td>\n",
       "      <td>None</td>\n",
       "      <td>None</td>\n",
       "    </tr>\n",
       "    <tr>\n",
       "      <th>134</th>\n",
       "      <td>135</td>\n",
       "      <td>135/2024</td>\n",
       "      <td>Tambaram Corporation</td>\n",
       "      <td>Anakaputhur</td>\n",
       "      <td>https://www.cmdachennai.gov.in/pdfs/layouts/20...</td>\n",
       "      <td>135/2024</td>\n",
       "      <td>2024/135.pdf</td>\n",
       "      <td>ERROR: Connection timeout to host https://www....</td>\n",
       "      <td>False</td>\n",
       "      <td>None</td>\n",
       "      <td>None</td>\n",
       "      <td>None</td>\n",
       "      <td>None</td>\n",
       "      <td>None</td>\n",
       "    </tr>\n",
       "    <tr>\n",
       "      <th>141</th>\n",
       "      <td>142</td>\n",
       "      <td>142/2024</td>\n",
       "      <td>Kattankolathur PU</td>\n",
       "      <td>Nedungundram</td>\n",
       "      <td>https://www.cmdachennai.gov.in/pdfs/layouts/20...</td>\n",
       "      <td>142/2024</td>\n",
       "      <td>2024/142.pdf</td>\n",
       "      <td>ERROR: 503, message='Service Unavailable', url...</td>\n",
       "      <td>False</td>\n",
       "      <td>None</td>\n",
       "      <td>None</td>\n",
       "      <td>None</td>\n",
       "      <td>None</td>\n",
       "      <td>None</td>\n",
       "    </tr>\n",
       "    <tr>\n",
       "      <th>195</th>\n",
       "      <td>196</td>\n",
       "      <td>196/2024</td>\n",
       "      <td>Sholavaram PU</td>\n",
       "      <td>Mafuskhanpet</td>\n",
       "      <td>https://www.cmdachennai.gov.in/pdfs/layouts/20...</td>\n",
       "      <td>196/2024</td>\n",
       "      <td>2024/196.pdf</td>\n",
       "      <td>ERROR: 503, message='Service Unavailable', url...</td>\n",
       "      <td>False</td>\n",
       "      <td>None</td>\n",
       "      <td>None</td>\n",
       "      <td>None</td>\n",
       "      <td>None</td>\n",
       "      <td>None</td>\n",
       "    </tr>\n",
       "    <tr>\n",
       "      <th>204</th>\n",
       "      <td>205</td>\n",
       "      <td>205/2024</td>\n",
       "      <td>Villivakkam PU</td>\n",
       "      <td>Ayapakkam</td>\n",
       "      <td>https://www.cmdachennai.gov.in/pdfs/layouts/20...</td>\n",
       "      <td>205/2024</td>\n",
       "      <td>2024/205.pdf</td>\n",
       "      <td>ERROR: 503, message='Service Unavailable', url...</td>\n",
       "      <td>False</td>\n",
       "      <td>None</td>\n",
       "      <td>None</td>\n",
       "      <td>None</td>\n",
       "      <td>None</td>\n",
       "      <td>None</td>\n",
       "    </tr>\n",
       "    <tr>\n",
       "      <th>205</th>\n",
       "      <td>206</td>\n",
       "      <td>206/2024</td>\n",
       "      <td>St.Thomas Mount PU</td>\n",
       "      <td>Arasankazhani</td>\n",
       "      <td>https://www.cmdachennai.gov.in/pdfs/layouts/20...</td>\n",
       "      <td>206/2024</td>\n",
       "      <td>2024/206.pdf</td>\n",
       "      <td>ERROR: 503, message='Service Unavailable', url...</td>\n",
       "      <td>False</td>\n",
       "      <td>None</td>\n",
       "      <td>None</td>\n",
       "      <td>None</td>\n",
       "      <td>None</td>\n",
       "      <td>None</td>\n",
       "    </tr>\n",
       "    <tr>\n",
       "      <th>217</th>\n",
       "      <td>218</td>\n",
       "      <td>218/2024</td>\n",
       "      <td>Kundrathur PU</td>\n",
       "      <td>Varadharajapuram</td>\n",
       "      <td>https://www.cmdachennai.gov.in/pdfs/layouts/20...</td>\n",
       "      <td>218/2024</td>\n",
       "      <td>2024/218.pdf</td>\n",
       "      <td>ERROR: 503, message='Service Unavailable', url...</td>\n",
       "      <td>False</td>\n",
       "      <td>None</td>\n",
       "      <td>None</td>\n",
       "      <td>None</td>\n",
       "      <td>None</td>\n",
       "      <td>None</td>\n",
       "    </tr>\n",
       "    <tr>\n",
       "      <th>223</th>\n",
       "      <td>224</td>\n",
       "      <td>224/2024</td>\n",
       "      <td>Tambaram Corporation</td>\n",
       "      <td>Tambaram</td>\n",
       "      <td>https://www.cmdachennai.gov.in/pdfs/layouts/20...</td>\n",
       "      <td>224/2024</td>\n",
       "      <td>2024/224.pdf</td>\n",
       "      <td>ERROR: 503, message='Service Unavailable', url...</td>\n",
       "      <td>False</td>\n",
       "      <td>None</td>\n",
       "      <td>None</td>\n",
       "      <td>None</td>\n",
       "      <td>None</td>\n",
       "      <td>None</td>\n",
       "    </tr>\n",
       "    <tr>\n",
       "      <th>229</th>\n",
       "      <td>230</td>\n",
       "      <td>230/2024</td>\n",
       "      <td>Tiruvallur PU</td>\n",
       "      <td>Pakkam</td>\n",
       "      <td>https://www.cmdachennai.gov.in/pdfs/layouts/20...</td>\n",
       "      <td>230/2024</td>\n",
       "      <td>2024/230.pdf</td>\n",
       "      <td>ERROR: 503, message='Service Unavailable', url...</td>\n",
       "      <td>False</td>\n",
       "      <td>None</td>\n",
       "      <td>None</td>\n",
       "      <td>None</td>\n",
       "      <td>None</td>\n",
       "      <td>None</td>\n",
       "    </tr>\n",
       "    <tr>\n",
       "      <th>235</th>\n",
       "      <td>236</td>\n",
       "      <td>236/2024</td>\n",
       "      <td>Poonamallee PU</td>\n",
       "      <td>Sorancheri - A</td>\n",
       "      <td>https://www.cmdachennai.gov.in/pdfs/layouts/20...</td>\n",
       "      <td>236/2024</td>\n",
       "      <td>2024/236.pdf</td>\n",
       "      <td>ERROR: 503, message='Service Unavailable', url...</td>\n",
       "      <td>False</td>\n",
       "      <td>None</td>\n",
       "      <td>None</td>\n",
       "      <td>None</td>\n",
       "      <td>None</td>\n",
       "      <td>None</td>\n",
       "    </tr>\n",
       "    <tr>\n",
       "      <th>238</th>\n",
       "      <td>239</td>\n",
       "      <td>239/2024</td>\n",
       "      <td>Kattankolathur PU</td>\n",
       "      <td>Puthur</td>\n",
       "      <td>https://www.cmdachennai.gov.in/pdfs/layouts/20...</td>\n",
       "      <td>239/2024</td>\n",
       "      <td>2024/239.pdf</td>\n",
       "      <td>ERROR: 503, message='Service Unavailable', url...</td>\n",
       "      <td>False</td>\n",
       "      <td>None</td>\n",
       "      <td>None</td>\n",
       "      <td>None</td>\n",
       "      <td>None</td>\n",
       "      <td>None</td>\n",
       "    </tr>\n",
       "    <tr>\n",
       "      <th>270</th>\n",
       "      <td>271</td>\n",
       "      <td>271/2024</td>\n",
       "      <td>Poonamallee PU</td>\n",
       "      <td>Kilmanambedu</td>\n",
       "      <td>https://www.cmdachennai.gov.in/pdfs/layouts/20...</td>\n",
       "      <td>271/2024</td>\n",
       "      <td>2024/271.pdf</td>\n",
       "      <td>ERROR: 503, message='Service Unavailable', url...</td>\n",
       "      <td>False</td>\n",
       "      <td>None</td>\n",
       "      <td>None</td>\n",
       "      <td>None</td>\n",
       "      <td>None</td>\n",
       "      <td>None</td>\n",
       "    </tr>\n",
       "    <tr>\n",
       "      <th>271</th>\n",
       "      <td>272</td>\n",
       "      <td>272/2024</td>\n",
       "      <td>St.Thomas Mount PU</td>\n",
       "      <td>Kaspapuram</td>\n",
       "      <td>https://www.cmdachennai.gov.in/pdfs/layouts/20...</td>\n",
       "      <td>272/2024</td>\n",
       "      <td>2024/272.pdf</td>\n",
       "      <td>ERROR: 503, message='Service Unavailable', url...</td>\n",
       "      <td>False</td>\n",
       "      <td>None</td>\n",
       "      <td>None</td>\n",
       "      <td>None</td>\n",
       "      <td>None</td>\n",
       "      <td>None</td>\n",
       "    </tr>\n",
       "    <tr>\n",
       "      <th>283</th>\n",
       "      <td>284</td>\n",
       "      <td>284/2024</td>\n",
       "      <td>St.Thomas Mount PU</td>\n",
       "      <td>Medavakkam</td>\n",
       "      <td>https://www.cmdachennai.gov.in/pdfs/layouts/20...</td>\n",
       "      <td>284/2024</td>\n",
       "      <td>2024/284.pdf</td>\n",
       "      <td>ERROR: 503, message='Service Unavailable', url...</td>\n",
       "      <td>False</td>\n",
       "      <td>None</td>\n",
       "      <td>None</td>\n",
       "      <td>None</td>\n",
       "      <td>None</td>\n",
       "      <td>None</td>\n",
       "    </tr>\n",
       "    <tr>\n",
       "      <th>284</th>\n",
       "      <td>285</td>\n",
       "      <td>285/2024</td>\n",
       "      <td>Kundrathur PU</td>\n",
       "      <td>Malayambakkam</td>\n",
       "      <td>https://www.cmdachennai.gov.in/pdfs/layouts/20...</td>\n",
       "      <td>285/2024</td>\n",
       "      <td>2024/285.pdf</td>\n",
       "      <td>ERROR: 503, message='Service Unavailable', url...</td>\n",
       "      <td>False</td>\n",
       "      <td>None</td>\n",
       "      <td>None</td>\n",
       "      <td>None</td>\n",
       "      <td>None</td>\n",
       "      <td>None</td>\n",
       "    </tr>\n",
       "    <tr>\n",
       "      <th>289</th>\n",
       "      <td>290</td>\n",
       "      <td>290/2024</td>\n",
       "      <td>Tambaram Corporation</td>\n",
       "      <td>Madambakkam</td>\n",
       "      <td>https://www.cmdachennai.gov.in/pdfs/layouts/20...</td>\n",
       "      <td>290/2024</td>\n",
       "      <td>2024/290.pdf</td>\n",
       "      <td>ERROR: 503, message='Service Unavailable', url...</td>\n",
       "      <td>False</td>\n",
       "      <td>None</td>\n",
       "      <td>None</td>\n",
       "      <td>None</td>\n",
       "      <td>None</td>\n",
       "      <td>None</td>\n",
       "    </tr>\n",
       "    <tr>\n",
       "      <th>293</th>\n",
       "      <td>294</td>\n",
       "      <td>294/2024</td>\n",
       "      <td>Minjur TP</td>\n",
       "      <td>Minjur</td>\n",
       "      <td>https://www.cmdachennai.gov.in/pdfs/layouts/20...</td>\n",
       "      <td>294/2024</td>\n",
       "      <td>2024/294.pdf</td>\n",
       "      <td>ERROR: 503, message='Service Unavailable', url...</td>\n",
       "      <td>False</td>\n",
       "      <td>None</td>\n",
       "      <td>None</td>\n",
       "      <td>None</td>\n",
       "      <td>None</td>\n",
       "      <td>None</td>\n",
       "    </tr>\n",
       "    <tr>\n",
       "      <th>295</th>\n",
       "      <td>296</td>\n",
       "      <td>296/2024</td>\n",
       "      <td>Minjur TP</td>\n",
       "      <td>Minjur</td>\n",
       "      <td>https://www.cmdachennai.gov.in/pdfs/layouts/20...</td>\n",
       "      <td>296/2024</td>\n",
       "      <td>2024/296.pdf</td>\n",
       "      <td>ERROR: 503, message='Service Unavailable', url...</td>\n",
       "      <td>False</td>\n",
       "      <td>None</td>\n",
       "      <td>None</td>\n",
       "      <td>None</td>\n",
       "      <td>None</td>\n",
       "      <td>None</td>\n",
       "    </tr>\n",
       "    <tr>\n",
       "      <th>296</th>\n",
       "      <td>297</td>\n",
       "      <td>297/2024</td>\n",
       "      <td>Poonamallee PU</td>\n",
       "      <td>Kuthambakkam</td>\n",
       "      <td>https://www.cmdachennai.gov.in/pdfs/layouts/20...</td>\n",
       "      <td>297/2024</td>\n",
       "      <td>2024/297.pdf</td>\n",
       "      <td>ERROR: 503, message='Service Unavailable', url...</td>\n",
       "      <td>False</td>\n",
       "      <td>None</td>\n",
       "      <td>None</td>\n",
       "      <td>None</td>\n",
       "      <td>None</td>\n",
       "      <td>None</td>\n",
       "    </tr>\n",
       "    <tr>\n",
       "      <th>298</th>\n",
       "      <td>299</td>\n",
       "      <td>299/2024</td>\n",
       "      <td>Poonamallee PU</td>\n",
       "      <td>Kannapalayam</td>\n",
       "      <td>https://www.cmdachennai.gov.in/pdfs/layouts/20...</td>\n",
       "      <td>299/2024</td>\n",
       "      <td>2024/299.pdf</td>\n",
       "      <td>ERROR: 503, message='Service Unavailable', url...</td>\n",
       "      <td>False</td>\n",
       "      <td>None</td>\n",
       "      <td>None</td>\n",
       "      <td>None</td>\n",
       "      <td>None</td>\n",
       "      <td>None</td>\n",
       "    </tr>\n",
       "    <tr>\n",
       "      <th>304</th>\n",
       "      <td>305</td>\n",
       "      <td>305/2024</td>\n",
       "      <td>Poonamallee PU</td>\n",
       "      <td>Parivakkam</td>\n",
       "      <td>https://www.cmdachennai.gov.in/pdfs/layouts/20...</td>\n",
       "      <td>305/2024</td>\n",
       "      <td>2024/305.pdf</td>\n",
       "      <td>ERROR: 503, message='Service Unavailable', url...</td>\n",
       "      <td>False</td>\n",
       "      <td>None</td>\n",
       "      <td>None</td>\n",
       "      <td>None</td>\n",
       "      <td>None</td>\n",
       "      <td>None</td>\n",
       "    </tr>\n",
       "    <tr>\n",
       "      <th>305</th>\n",
       "      <td>306</td>\n",
       "      <td>306/2024</td>\n",
       "      <td>Poonamallee PU</td>\n",
       "      <td>Chokkanallur</td>\n",
       "      <td>https://www.cmdachennai.gov.in/pdfs/layouts/20...</td>\n",
       "      <td>306/2024</td>\n",
       "      <td>2024/306.pdf</td>\n",
       "      <td>ERROR: 503, message='Service Unavailable', url...</td>\n",
       "      <td>False</td>\n",
       "      <td>None</td>\n",
       "      <td>None</td>\n",
       "      <td>None</td>\n",
       "      <td>None</td>\n",
       "      <td>None</td>\n",
       "    </tr>\n",
       "  </tbody>\n",
       "</table>\n",
       "</div>"
      ],
      "text/plain": [
       "    SNo. Approval No. PPD/L.O. No.             Localbody           Village  \\\n",
       "6      7                   07/2024       Thiruverkadu MP           Noombal   \n",
       "16    17                   17/2024         Sholavaram PU          Nayar II   \n",
       "36    37                   37/2024    St.Thomas Mount PU        Kaspapuram   \n",
       "69    70                   70/2024         Kundrathur PU   Kulathuvancheri   \n",
       "80    81                   81/2024         Kundrathur PU             Kovur   \n",
       "93    94                   94/2024        Poonamallee PU       Sithukkadu,   \n",
       "94    95                   95/2024    St.Thomas Mount PU        Agaramthen   \n",
       "127  128                  128/2024    St.Thomas Mount PU      Vengambakkam   \n",
       "129  130                  130/2024             Puzhal PU   Vilangadupakkam   \n",
       "130  131                  131/2024    St.Thomas Mount PU     Arasankazhani   \n",
       "131  132                  132/2024  Tambaram Corporation          Selaiyur   \n",
       "132  133                  133/2024         Kundrathur PU     Gerugambakkam   \n",
       "133  134                  134/2024        Poonamallee PU           Nemam-B   \n",
       "134  135                  135/2024  Tambaram Corporation       Anakaputhur   \n",
       "141  142                  142/2024     Kattankolathur PU      Nedungundram   \n",
       "195  196                  196/2024         Sholavaram PU      Mafuskhanpet   \n",
       "204  205                  205/2024        Villivakkam PU         Ayapakkam   \n",
       "205  206                  206/2024    St.Thomas Mount PU     Arasankazhani   \n",
       "217  218                  218/2024         Kundrathur PU  Varadharajapuram   \n",
       "223  224                  224/2024  Tambaram Corporation          Tambaram   \n",
       "229  230                  230/2024         Tiruvallur PU            Pakkam   \n",
       "235  236                  236/2024        Poonamallee PU    Sorancheri - A   \n",
       "238  239                  239/2024     Kattankolathur PU            Puthur   \n",
       "270  271                  271/2024        Poonamallee PU      Kilmanambedu   \n",
       "271  272                  272/2024    St.Thomas Mount PU        Kaspapuram   \n",
       "283  284                  284/2024    St.Thomas Mount PU        Medavakkam   \n",
       "284  285                  285/2024         Kundrathur PU     Malayambakkam   \n",
       "289  290                  290/2024  Tambaram Corporation       Madambakkam   \n",
       "293  294                  294/2024             Minjur TP            Minjur   \n",
       "295  296                  296/2024             Minjur TP            Minjur   \n",
       "296  297                  297/2024        Poonamallee PU      Kuthambakkam   \n",
       "298  299                  299/2024        Poonamallee PU      Kannapalayam   \n",
       "304  305                  305/2024        Poonamallee PU        Parivakkam   \n",
       "305  306                  306/2024        Poonamallee PU      Chokkanallur   \n",
       "\n",
       "                                                   url extracted_ppl  \\\n",
       "6    https://www.cmdachennai.gov.in/pdfs/layouts/20...       07/2024   \n",
       "16   https://www.cmdachennai.gov.in/pdfs/layouts/20...       17/2024   \n",
       "36   https://www.cmdachennai.gov.in/pdfs/layouts/20...       37/2024   \n",
       "69   https://www.cmdachennai.gov.in/pdfs/layouts/20...       70/2024   \n",
       "80   https://www.cmdachennai.gov.in/pdfs/layouts/20...       81/2024   \n",
       "93   https://www.cmdachennai.gov.in/pdfs/layouts/20...       94/2024   \n",
       "94   https://www.cmdachennai.gov.in/pdfs/layouts/20...       95/2024   \n",
       "127  https://www.cmdachennai.gov.in/pdfs/layouts/20...      128/2024   \n",
       "129  https://www.cmdachennai.gov.in/pdfs/layouts/20...      130/2024   \n",
       "130  https://www.cmdachennai.gov.in/pdfs/layouts/20...      131/2024   \n",
       "131  https://www.cmdachennai.gov.in/pdfs/layouts/20...      132/2024   \n",
       "132  https://www.cmdachennai.gov.in/pdfs/layouts/20...      133/2024   \n",
       "133  https://www.cmdachennai.gov.in/pdfs/layouts/20...      134/2024   \n",
       "134  https://www.cmdachennai.gov.in/pdfs/layouts/20...      135/2024   \n",
       "141  https://www.cmdachennai.gov.in/pdfs/layouts/20...      142/2024   \n",
       "195  https://www.cmdachennai.gov.in/pdfs/layouts/20...      196/2024   \n",
       "204  https://www.cmdachennai.gov.in/pdfs/layouts/20...      205/2024   \n",
       "205  https://www.cmdachennai.gov.in/pdfs/layouts/20...      206/2024   \n",
       "217  https://www.cmdachennai.gov.in/pdfs/layouts/20...      218/2024   \n",
       "223  https://www.cmdachennai.gov.in/pdfs/layouts/20...      224/2024   \n",
       "229  https://www.cmdachennai.gov.in/pdfs/layouts/20...      230/2024   \n",
       "235  https://www.cmdachennai.gov.in/pdfs/layouts/20...      236/2024   \n",
       "238  https://www.cmdachennai.gov.in/pdfs/layouts/20...      239/2024   \n",
       "270  https://www.cmdachennai.gov.in/pdfs/layouts/20...      271/2024   \n",
       "271  https://www.cmdachennai.gov.in/pdfs/layouts/20...      272/2024   \n",
       "283  https://www.cmdachennai.gov.in/pdfs/layouts/20...      284/2024   \n",
       "284  https://www.cmdachennai.gov.in/pdfs/layouts/20...      285/2024   \n",
       "289  https://www.cmdachennai.gov.in/pdfs/layouts/20...      290/2024   \n",
       "293  https://www.cmdachennai.gov.in/pdfs/layouts/20...      294/2024   \n",
       "295  https://www.cmdachennai.gov.in/pdfs/layouts/20...      296/2024   \n",
       "296  https://www.cmdachennai.gov.in/pdfs/layouts/20...      297/2024   \n",
       "298  https://www.cmdachennai.gov.in/pdfs/layouts/20...      299/2024   \n",
       "304  https://www.cmdachennai.gov.in/pdfs/layouts/20...      305/2024   \n",
       "305  https://www.cmdachennai.gov.in/pdfs/layouts/20...      306/2024   \n",
       "\n",
       "     pdf_savepath                                     extracted_text  \\\n",
       "6     2024/07.pdf  ERROR: 503, message='Service Unavailable', url...   \n",
       "16    2024/17.pdf  ERROR: 503, message='Service Unavailable', url...   \n",
       "36    2024/37.pdf  ERROR: 503, message='Service Unavailable', url...   \n",
       "69    2024/70.pdf  ERROR: 503, message='Service Unavailable', url...   \n",
       "80    2024/81.pdf  ERROR: 503, message='Service Unavailable', url...   \n",
       "93    2024/94.pdf  ERROR: 503, message='Service Unavailable', url...   \n",
       "94    2024/95.pdf  ERROR: 503, message='Service Unavailable', url...   \n",
       "127  2024/128.pdf  ERROR: 503, message='Service Unavailable', url...   \n",
       "129  2024/130.pdf  ERROR: 503, message='Service Unavailable', url...   \n",
       "130  2024/131.pdf  ERROR: 503, message='Service Unavailable', url...   \n",
       "131  2024/132.pdf  ERROR: Connection timeout to host https://www....   \n",
       "132  2024/133.pdf  ERROR: Connection timeout to host https://www....   \n",
       "133  2024/134.pdf  ERROR: Connection timeout to host https://www....   \n",
       "134  2024/135.pdf  ERROR: Connection timeout to host https://www....   \n",
       "141  2024/142.pdf  ERROR: 503, message='Service Unavailable', url...   \n",
       "195  2024/196.pdf  ERROR: 503, message='Service Unavailable', url...   \n",
       "204  2024/205.pdf  ERROR: 503, message='Service Unavailable', url...   \n",
       "205  2024/206.pdf  ERROR: 503, message='Service Unavailable', url...   \n",
       "217  2024/218.pdf  ERROR: 503, message='Service Unavailable', url...   \n",
       "223  2024/224.pdf  ERROR: 503, message='Service Unavailable', url...   \n",
       "229  2024/230.pdf  ERROR: 503, message='Service Unavailable', url...   \n",
       "235  2024/236.pdf  ERROR: 503, message='Service Unavailable', url...   \n",
       "238  2024/239.pdf  ERROR: 503, message='Service Unavailable', url...   \n",
       "270  2024/271.pdf  ERROR: 503, message='Service Unavailable', url...   \n",
       "271  2024/272.pdf  ERROR: 503, message='Service Unavailable', url...   \n",
       "283  2024/284.pdf  ERROR: 503, message='Service Unavailable', url...   \n",
       "284  2024/285.pdf  ERROR: 503, message='Service Unavailable', url...   \n",
       "289  2024/290.pdf  ERROR: 503, message='Service Unavailable', url...   \n",
       "293  2024/294.pdf  ERROR: 503, message='Service Unavailable', url...   \n",
       "295  2024/296.pdf  ERROR: 503, message='Service Unavailable', url...   \n",
       "296  2024/297.pdf  ERROR: 503, message='Service Unavailable', url...   \n",
       "298  2024/299.pdf  ERROR: 503, message='Service Unavailable', url...   \n",
       "304  2024/305.pdf  ERROR: 503, message='Service Unavailable', url...   \n",
       "305  2024/306.pdf  ERROR: 503, message='Service Unavailable', url...   \n",
       "\n",
       "     saved_to_disk total_no_plots   ews regular  date reference_number  \n",
       "6            False           None  None    None  None             None  \n",
       "16           False           None  None    None  None             None  \n",
       "36           False           None  None    None  None             None  \n",
       "69           False           None  None    None  None             None  \n",
       "80           False           None  None    None  None             None  \n",
       "93           False           None  None    None  None             None  \n",
       "94           False           None  None    None  None             None  \n",
       "127          False           None  None    None  None             None  \n",
       "129          False           None  None    None  None             None  \n",
       "130          False           None  None    None  None             None  \n",
       "131          False           None  None    None  None             None  \n",
       "132          False           None  None    None  None             None  \n",
       "133          False           None  None    None  None             None  \n",
       "134          False           None  None    None  None             None  \n",
       "141          False           None  None    None  None             None  \n",
       "195          False           None  None    None  None             None  \n",
       "204          False           None  None    None  None             None  \n",
       "205          False           None  None    None  None             None  \n",
       "217          False           None  None    None  None             None  \n",
       "223          False           None  None    None  None             None  \n",
       "229          False           None  None    None  None             None  \n",
       "235          False           None  None    None  None             None  \n",
       "238          False           None  None    None  None             None  \n",
       "270          False           None  None    None  None             None  \n",
       "271          False           None  None    None  None             None  \n",
       "283          False           None  None    None  None             None  \n",
       "284          False           None  None    None  None             None  \n",
       "289          False           None  None    None  None             None  \n",
       "293          False           None  None    None  None             None  \n",
       "295          False           None  None    None  None             None  \n",
       "296          False           None  None    None  None             None  \n",
       "298          False           None  None    None  None             None  \n",
       "304          False           None  None    None  None             None  \n",
       "305          False           None  None    None  None             None  "
      ]
     },
     "execution_count": 2,
     "metadata": {},
     "output_type": "execute_result"
    }
   ],
   "source": [
    "pqdf = pd.read_parquet('./2024extract.parquet')\n",
    "pqdf[pqdf.extracted_text.str.startswith(\"ERROR\")]"
   ]
  },
  {
   "cell_type": "code",
   "execution_count": 4,
   "id": "87cef57a",
   "metadata": {},
   "outputs": [
    {
     "data": {
      "application/vnd.microsoft.datawrangler.viewer.v0+json": {
       "columns": [
        {
         "name": "index",
         "rawType": "int64",
         "type": "integer"
        },
        {
         "name": "SNo.",
         "rawType": "object",
         "type": "string"
        },
        {
         "name": "Approval No. PPD/L.O. No.",
         "rawType": "object",
         "type": "string"
        },
        {
         "name": "Localbody",
         "rawType": "object",
         "type": "string"
        },
        {
         "name": "Village",
         "rawType": "object",
         "type": "string"
        },
        {
         "name": "url",
         "rawType": "object",
         "type": "string"
        },
        {
         "name": "extracted_ppl",
         "rawType": "object",
         "type": "string"
        },
        {
         "name": "pdf_savepath",
         "rawType": "object",
         "type": "string"
        },
        {
         "name": "extracted_text",
         "rawType": "object",
         "type": "string"
        },
        {
         "name": "saved_to_disk",
         "rawType": "bool",
         "type": "boolean"
        },
        {
         "name": "total_no_plots",
         "rawType": "object",
         "type": "unknown"
        },
        {
         "name": "ews",
         "rawType": "object",
         "type": "unknown"
        },
        {
         "name": "regular",
         "rawType": "object",
         "type": "unknown"
        },
        {
         "name": "date",
         "rawType": "object",
         "type": "string"
        },
        {
         "name": "reference_number",
         "rawType": "object",
         "type": "unknown"
        }
       ],
       "conversionMethod": "pd.DataFrame",
       "ref": "7429cf8a-279d-4724-82ab-b73a89a56f6e",
       "rows": [
        [
         "35",
         "36",
         "36/2024",
         "Poonamallee PU",
         "Vellavedu",
         "https://www.cmdachennai.gov.in/pdfs/layouts/2024/36-2024.pdf",
         "36/2024",
         "2024/36.pdf",
         "FILE NO: LAYOUT-1 / 0221 / 2023\nNT = 2347SQ.M\n(AS PER DOCUMENT)\nEA = 661SQ.M\nURPOSE PROVIDED (1 & 2) = 20 SQ.M\nVER TO THE LOCAL BODY (0.5% AREA : 10.0 SQ.M)\nVER TO THE TANGEDCO (0.5% AREA : 10.0 SQ.M)\nOTS = 19 Nos\nENCE SHOP = 1 No\n.5M x 1.5M\nMENTS ARE INDICATED EXCLUDING SPLAY DIMENSIONS\nOAD AREA\nUBLIC PURPOSE AREA-1 WERE HANDED OVER TO THE LOCAL BODY VIDE GIFT DEED\nESERVED FOR LOCAL BODY)\nDOC. NO: 635 / 2024, DATED: 02.02.2024 @ SRO, POONAMALLEE\nUBLIC PURPOSE AREA-2\nESERVED FOR TANGEDCO)\nS:\n019 RULE NO: 47 (8) IN G.O.(Ms) No.18, MAWS DEPARTMENT DATED 04.02.2019 & AMENDMENTS APPROVED IN G.O.Ms.No.16, MAWS (MAI) DEPARTMENT DATED 31.01.2020 AND PUBLISHED IN\nNo.41.DATED 31.01.2020\nT OF LAYOUT AREA EXCLUDING ROAD, ADDITIONALLY, SHALL BE RESERVED FOR \"PUBLIC PURPOSE\". WITHIN THE ABOVE CEILING 0.5% OF AREA SHALL BE TRANSFERRED TO THE LOCAL\n.5% OF AREA SHALL BE TRANSFERRED TO THE TANGEDCO OR TO THE LOCAL BODY FREE OF COST THROUGH A REGISTERED GIFT DEED BEFORE THE ACTUAL SANCTION OF THE LAYOUT.\n2019, RULE NO: 47 (11)\nF LAYING IMPROVEMENTS TO THE SYSTEMS IN RESPECT OF ROAD, WATER SUPPLY, SEWERAGE, DRAINAGE OR ELECTRIC POWER SUPPLY THAT MAY BE REQUIRED AS ASSESSED BY THE\nAUTHORITY, NAMELY, THE LOCAL BODY AND TAMIL NADU ELECTRICITY BOARD, SHALL BE BORNE BY THE APPLICANT.\nLICANT IS RESPONSIBLE FOR THE SHAPE, SIZE & DIMENSIONS OF THE SITE UNDER REFERENCE.\nRY SPACE FOR BUILDING LINE TO BE LEFT AS PER THE RULE IN FORCE WHILE TAKING UP DEVELOPMENT.\nBOUNDARY\nD GIFTED TO LOCAL BODY\nCONDITIONS:\nTING ROAD\nIC PURPOSE - 1 GIFTED TO LOCAL BODY THE LAYOUT APPROVED IS VALID SUBJECT\nTO OBTAINING SANCTION FROM THE LOCAL\nIC PURPOSE - 2 GIFTED TO LOCAL BODY (FOR TANGEDCO)\nBODY CONCERNED.\nVENIENCE SHOP\nP.P.D 36\nNO :\nL.O 2024\nAPPROVED\nVIDE LETTER NO : LAYOUT-1 / 0221 / 2023\nDATE : 21 / 02 / 2024\nThis Planning Permission Issued under New Rule OFFICE COPY\nTNCDBR.2019 is subject to final outcome of the\nW.P(MD) No.8948 of 2019 and WMP (MD)\nNos. 6912 & 6913 of 2019.\nFOR CHIEF PLANNER (LAYOUT)\nCHENNAI METROPOLITAN\nDEVELOPMENT AUTHORITY\nIMIT\nAVEDU VILLAGE.",
         "True",
         null,
         null,
         null,
         "21 / 02 / 2024",
         "LAYOUT-1"
        ],
        [
         "37",
         "38",
         "38/2024",
         "Poonamallee PU",
         "Kannapalayam",
         "https://www.cmdachennai.gov.in/pdfs/layouts/2024/38-2024.pdf",
         "38/2024",
         "2024/38.pdf",
         ": 3075 SQ.M\n(AS PER PATTA)\n: 1279 SQ.M\nOSE PROVIDED (1%) : 28 SQ.M\nO THE LOCAL BODY (0.5%) : 11.0 SQ.M\nO THE TANGEDCO (0.5%) : 17.0 SQ.M\n: 20 Nos.\nINDICATED EXCLUDING SPLAY DIMENSIONS\nWERE HANDED OVER TO THE LOCAL BODY VIDE GIFT DEED\nOSE-1 (0.5%)\nDOC.NO: 2321/2024, DATED:14.02.2024 @ SRO, KUNDRATHUR.\nOSE-2 (0.5%)\nLD FOLLOW THE CONDITIONS MENTIONED BY THE CE, PWD/WRD, CHENNAI REGION, CHEPAUK, CHENNAI-5 IN LETTER NO.DB/T3(3)/F- 8215KANNAPALAYAM VILLAGE 10086 / 2023 / DATED.15.12.2023, WHICH ARE TO BE COMPLIED BY THE\nING OF THE LAYOUT APPROVAL BY THE COMPETENT AUTHORITY (LOCAL BODY)\nbe filled with earth filling with proper compaction to the minimum Level of (+)22.810m (i.e) 0.21m below the weir crest level of Melpakkam Tank is (+)23.020m, to protect the site from inundation during floods. The process of earth filling and compaction should be done in layers of\nth to achieve required degree of compaction for the depth varying from 1.25 m to 1.77m depending upon the existing field levels. Also, the applicants should provide emergency pumping operation for the seepage water, if it is proposed to have basement floor and as well as dewatering\nriods. The All round pavement level within the site should not be less than (+)22.810 m. The applicant is suggested not to have regular habitation below MFL since the existing field level is below MFL.\ny demarcate the boundary of their land before commencement of any developmental activities in the presence of Revenue, Local body and WRD authorities concerned without fail and should not encroach the Water body (SF No.311) on Western side of applicant site as per FMB and\nthe applicant at their own cost. The Government Land should be maintained without encroachments as per Revenue records. The necessary setback distance should be provided as per the norms in existence and as per the rules in force of CMDA.\ne applicants, should not be altered / modified/ changed to any others. Based on the records submitted by the applicants, the permission is granted. If any documents seem to be fake / manipulated / fabricated, in future the above permission will be cancelled without any correspondence.\nly responsible of genuinety of the documents submitted.\ne allowed to inspect the site at any time, during execution and thereafter, if necessary. Advance intimation should be given to the WRD officers concerned before commencement of work.\nby the rules and regulation of the WRD from time to time. The applicants should also abide court of law of both State & Central Government from time to time.\nin connection with the inundation aspect and does not deliver any rights to the applicants to encroach the WRD/ Government Lands / channel. The NOC for this site from the WRD is purely issued on the basis of inundation point of view.\nject at any time for the maintenance work / improvements work of the tank which is proposed to be carried out by WRD. The applicant should give an undertaking in writing to the effect that the above proposal will not obstruct in case any maintenance / improvements / development\n(FMB), which are proposed to be carried out by WRD / Local body in future periodically.\nnstruct any cross masonry across the water body area without obtaining prior permission from WRD. If any damaged to the water body should be restored by the applicant at their own cost.\nare the layout proposal by considering the suitable internal storm water drainage network drain as micro drain of suitable size as per prevailing site conditions within the site. The same should be connected to the local drain/channel, rainwater harvesting, roads with road side drain and\nsposal and garbages/debris and other solid waste management as per norms in existence within the applicants' land according to existing rules in force and should get proper approval from competent authority without fail.\nc drainage (Treated or Untreated) should not be let into drain / channel / course at any cost and the debris and other materials should not be dumped into the drain / surplus course obstructing free flow of water. The applicants should make drainage network, at their own cost and the\nural storm water drainage / channel. There should not be any hindrance to the free flow of internal drain to downstream.\nide necessary setback distance especially on West side within the site as per site condition as per the norms in existence and as per the rules in force of CMDA (as per the circular issued by the office of the Commissioner of Town & Country Planning, Chennai-2 vide Roc. No.\n3.2019) during development and there should not be any construction activities in the setback areas in future also. The CMDA should issue completion certificate only after obtaining completion certificate NOC from WRD\neems to be Ryotwari land which would be classified as Wet lands. Hence, these lands are to be converted into other zone from the agricultural zone by the competent authority. The applicants should get clearance certificate for this site from the Revenue department to make sure that\nroperty from the water body as well as confirming this proposed site boundaries.\ne applicants' land should not let into the drain and for the disposal of the sewage water, suitable arrangements should be made for the same by the applicants, and as well as the construction materials / debris / garbages should not be dumped into the River/Eri/Channel / Pond at any cost.\nshould not be let into River / Eri / Channel / Pond, and the garbages, debris and construction materials should not be dumped into the River/Eri/Channel / Pond restricting the free flow of water.\neceived from the applicants in respect to the ownership is purely of applicants' responsibility and it is only for reference purpose to this department. The legal validity of this document should be verified by the Development / Revenue authorities. The specific remarks on inundation are\nunds in respect to the physical location of land.\nthe above conditions, WRD reserves rights to withdraw the Technical opinion on inundation point of view to the above proposed site and in event, the applicants shall not be eligible for any compensation whatsoever and as well as legal entity.\nO: 47 (8) & AMENDMENTS APPROVED IN G.O.Ms.No.16, MAWS (MA1) DEPARTMENT DATED 31.1.2020 AND PUBLISHED IN TNGG ISSUE No.41 DATED:31.01.2020.\nT AREA EXCLUDING ROAD, ADDITIONALLY, SHALL BE RESERVED FOR \"PUBLIC PURPOSE\". WITHIN THE ABOVE CEILING 0.5% OF AREA SHALL BE TRANSFERRED TO THE LOCAL BODY AND 0.5% OF AREA SHALL BE TRANSFERRED TO THE\nOCAL BODY FREE OF COST THROUGH A REGISTERED GIFT DEED BEOFRE THE ACTUAL SANCTION OF THE LAYOUT.\nNO: 47 (11)\nPROVEMENTS TO THE SYSTEMS IN RESPECT OF ROAD, WATER SUPPLY, SEWERAGE, DRAINAGE OR ELECTRIC POWER SUPPLY THAT MAY BE REQUIRED AS ASSESSED BY THE CONCERNED AUTHORITY, NAMELY, THE LOCAL BODY AND\nY BOARD, SHALL BE BORNE BY THE APPLICANT.\nD ENSURE COMPLIANCE OF ALL THE CONDITIONS STIPULATED BY PWD IN THEIR LETTER NO.DB/T5(3)/F- 8215KANNAPALAYAM VILLAGE10086 / 2023 / DATED 15.12.2023, AND SHALL OBTAIN A LETTER FROM\nMPLIANCE OF THE CONDITIONS BEFORE THE SANCTION AND RELEASE OF THE LAYOUT.\nSPONSIBLE FOR THE SHAPE,SIZE & DIMENSIONS OF THE SITE UNDER REFERENCE.\nR BUILDING LINE TO BE LEFT AS PER THE RULE IN FORCE WHILE TAKING UP DEVELOPMENT\nLOCAL BODY\nCONDITIONS:\nGIFTED TO LOCAL BODY\nTHE LAYOUT APPROVED IS VALID SUBJECT\nIFTED TO LOCAL BODY (FOR TANGEDCO) TO OBTAINING SANCTION FROM THE LOCAL\nBODY CONCERNED.\nP.P.D 38\nNO :\nL.O 2024\nAPPROVED\nThis Planning Permission Issued under New Rule\nVIDE LETTER NO : LAYOUT-1 / 0211 / 2023\nTNCDBR.2019 is subject to final outcome of the\nW.P(MD) No.8948 of 2019 and WMP (MD)\nDATE : 23 / 02 / 2024\nNos. 6912 & 6913 of 2019.\nOFFICE COPY\nFOR CHIEF PLANNER (LAYOUT)\nCHENNAI METROPOLITAN\nION DEVELOPMENT AUTHORITY\nANNAPALAYAM VILLAGE.",
         "True",
         null,
         null,
         null,
         "23 / 02 / 2024",
         null
        ],
        [
         "42",
         "43",
         "43/2024",
         "Sholavaram PU",
         "Angadu",
         "https://www.cmdachennai.gov.in/pdfs/layouts/2024/43-2024.pdf",
         "43/2024",
         "2024/43.pdf",
         "= 2300SQ.M FILE NO: LAYOUT-1 / 0230 / 2022\n= 840SQ.M\n& 2) = 18 SQ.M\n: 9 SQ.M)\n9 SQ.M)\n= 13NOS.\nING SPLAY DIMENSIONS\nERE HANDED OVER TO THE LOCAL BODY VIDE GIFT DEED\nOC. NO: 1730 / 2024, DATED: 16.02.2024 @ SRO, REDHILLS\nNS OF PWD VIDE THE CE, WRD, CHENNAI REGION, CHEPAUK, CHENNAI-5. LETTER NO.DB / T5(3) / F-00162 / NOC - ANGADU VILLAGE 002398 / 2023 / DATED 10.04.2023 ARE TO BE COMPLIED BY THE APPLICANT BEFORE ISSUING OF THE\nTHORITY (LOCAL BODY)\nrth filling with proper compaction to the minimum level of (+)12.500m [(i.e.) 0.450m above the Boodur Tank Crest Level is (+)12.050m] to protect the site from inundation during floods. The process of earth filling and compaction should be done in layers of not more than\nmpaction for the depth from 0.920m to 0.980m depending upon the existing field levels. Also, the applicants should provide emergency pumping operation for the seepage water, if it is proposed to have basement floor and as well as dewatering arrangements during flood\nshould not be less than (+)12.500m. The applicants should prepare the layout proposal by considering the suitable internal storm water drainage network drain as micro drain of suitable size as per prevailing site conditions within the site. The same should be connected to the\nith road side drain and sewerage treatment and its disposal and garbages / debris and other solid waste management as per norms in existence within the applicants' land according to existing rules in force and should get proper approval from competent authority without fail.\nated or Untreated) should not be let into drain / channel / course at any cost and the debris and other materials should not be dumped into the drain / surplus course obstructing free flow of water. The applicants should make drainage network, at their own cost and the same is\nannel. There should not be any hindrance to the free flow of internal drain to downstream.\nack distance especially on West within the site as per site condition as per the norms in existence and as per the rules in force of CMDA (as per the circular issued by the office of the Commissioner of Town & Country Planning, Chennai- 2 vide Roc. No. 4367 /\nt and there should not be any construction activities in the setback areas in future also. The CMDA should issue completion certificate only after obtaining compliance certificate NOG from WRD.\nboundary of their land before commencement of any developmental activities in the presence of Revenue local body and WRD authorities concerned without fail and should not encroach the Government land / water body and the same should be maintained as it is in the\no the channel, the same should be restored to its original condition at his own cost.\nshould not be altered / modified / changed to any others. Based on the records submitted by the applicants, the permission is granted. If any documents seem to be fake / manipulated / fabricated, in future the above permission will be cancelled without any correspondence.\ninety of the documents submitted.\nect the site at any time, during execution and thereafter, if necessary. Advance intimation should be given to the WRD officers concerned before commencement of work.\nregulation of the WRD from time to time. The applicants should also abide court of law of both State & Central Government from time to time.\nshould not let into the drain and for the disposal of the sewage water, suitable arrangements should be made for the same by the applicants, and as well as the construction materials / debris / garbages should not be dumped into the River / Eri / Channel / Pond at any cost.\ne let into River / Eri / Channel / Pond, and the garbages, debris and construction materials should not be dumped into the River / Eri / Channel / Pond restricting the free flow of water.\nte for this site from the Revenue department to make sure that the site is not an encroached property from the water body as well as confirming this proposed site boundaries.\nith the inundation aspect and does not deliver any rights to the applicants to encroach the WRD / Government Lands / river.\ned on the basis of inundation point of view.\nh is classified as (Channel) as per Revenue records and abutting the applicant site should be marked as per FMB and monitored and maintained by the applicant at their own cost. The width of the channel should be maintained without encroachments as per Revenue records and\nld be maintained. The applicants should make necessary periodical arrangements for free flow of water through the existing channel to the downside area along the proposed site. Also the applicants should de-silt the channel periodically and remove the obstruction then and\nat their own cost within the proposed land, even after the completion of project also.\ne boundary of applicants land should be completely de-silted and re-sectioned by constructing retaining wall on either sides as wed as bed lining concrete of the drain as per the FMB at the applicant's own cost. The bed level of the above course should be ascertained and\nity in the presence of the concerned WRD Executive Engineer. Moreover the width of entire field drain as per Revenue records (FMB) along & within the stretch of applicant's land should be maintained properly without any change and no encroachments.\nme for the maintenance work / improvements work of the channel which is proposed to be carried out by WRD / Local body. The applicant should give an undertaking in writing to the effect that the above proposal will not obstruct in case any maintenance / improvements /\n, which are proposed to be carried out by WRD / Local body in future periodically.\ne applicants in respect to the ownership is purely of applicants' responsibility and it is only for reference purpose to this department. The legal validity of this document should be verified by the Development / Revenue authorities. The specific remarks on inundation are purely\nal location of land.\nditions, WRD reserves rights to withdraw the Technical opinion on inundation point of view to the above proposed site and in event, the applicants shall not be eligible for any compensation whatsoever and as well as legal entity.\nIANCE OF ALL THE CONDITIONS STIPULATED BY PWD IN THEIR LETTER NO.DB / T5(3) / F-00162 / NOC - ANGADU VILLAGE 002398 / 2023 / DATED 10.04.2023. OBTAIN A LETTER FROM PWD CONFIRMING THE COMPLIANCE OF THE CONDITIONS\nHE LAYOUT.\ns) No.18,MAWS DEPARTMENT DATED:04.02.2019 & AMENDMENTS APPROVED IN G.O.Ms.No.16, MAWS (MA1 DEPARTMENT DATED 31.1.2020 AND PUBLISHED IN TNGG ISSUE No.41 DATED:31.01.2020.\nG ROAD, ADDITIONALLY, SHALL BE RESERVED FOR \"PUBLIC PURPOSE\". WITHIN THE ABOVE CEILING 0.5% OF AREA SHALL BE TRANSFERRED TO THE LOCAL BODY AND 0.5% OF AREA SHALL BE TRANSFERRED TO THE TANGEDCO OR TO\nA REGISTERED GIFT DEED BEFORE THE ACTUAL SANCTION OF THE LAYOUT\nTHE SYSTEMS IN RESPECT OF ROAD, WATER SUPPLY, SEWERAGE, DRAINAGE OR ELECTRIC POWER SUPPLY THAT MAY BE REQUIRED AS ASSESSED BY THE CONCERNED AUTHORITY, NAMELY, THE LOCAL BODY AND TAMIL NADU\nHE APPLICANT.\nE SHAPE,SIZE & DIMENSIONS OF THE SITE UNDER REFERENCE. CONDITIONS:\nO BE LEFT AS PER THE RULE IN FORCE WHILE TAKING UP DEVELOPMENT\nTHE LAYOUT APPROVED IS VALID SUBJECT\nTO OBTAINING SANCTION FROM THE LOCAL\nBODY CONCERNED.\nP.P.D 43\nNO :\nL.O 2024\nBODY\nAPPROVED\nBODY (FOR TANGEDCO)\nVIDE LETTER NO : LAYOUT-1 / 0230 / 2022\nDATE : 28 / 02 / 2024\nThis Planning Permission Issued under New Rule\nTNCDBR.2019 is subject to final outcome of the OFFICE COPY\nW.P(MD) No.8948 of 2019 and WMP (MD)\nNos. 6912 & 6913 of 2019.\nFOR CHIEF PLANNER (LAYOUT)\nCHENNAI METROPOLITAN\nDEVELOPMENT AUTHORITY\n.",
         "True",
         null,
         null,
         null,
         "28 / 02 / 2024",
         "LAYOUT-1"
        ],
        [
         "49",
         "50",
         "50/2024",
         "Kundrathur PU",
         "Tharapakkam",
         "https://www.cmdachennai.gov.in/pdfs/layouts/2024/50-2024.pdf",
         "50/2024",
         "2024/50.pdf",
         "FILE NO: LAYOUT-1 / 0158 / 2023\n(cid:54)IT(cid:40) (cid:40)(cid:59)T(cid:40)NT (cid:32) 5220(cid:54)(cid:52).(cid:48)\n(cid:11)A(cid:54) P(cid:40)R DOCU(cid:48)(cid:40)NT(cid:12)\nROAD AR(cid:40)A (cid:32) 1020(cid:54)(cid:52).(cid:48)\nPU(cid:37)(cid:47)IC PURPO(cid:54)(cid:40) PRO(cid:57)ID(cid:40)D (cid:32) 45 (cid:54)(cid:52).(cid:48)\nP.P - 1 HANDED OVER TO THE LOCAL BODY (0.5% AREA : 22.5 SQ.M)\nP.P - 2 HANDED OVER TO THE TANGEDCO (0.5% AREA : 22.5 SQ.M)\nNO.O(cid:41) P(cid:47)OT(cid:54) (cid:32) 18 N(cid:82)(cid:86)\nCONVENIENCE SHOP (cid:32) 1 N(cid:82)\nNOTE:\n1. SPLAY - 1.5M x 1.5M\n2. MEASUREMENTS ARE INDICATED EXCLUDING SPLAY DIMENSIONS\n3. ROAD AREA\nPUBLIC PURPOSE AREA-1\nWERE HANDED OVER TO THE LOCAL BODY VIDE GIFT DEED\n(RESERVED FOR LOCAL BODY)\nDOC. NO: 1533 / 2024, DATED: 24.02.2024 @ SRO, PAMMAL\nPUBLIC PURPOSE AREA-2\n(RESERVED FOR TANGEDCO)\nCONDITIONS:\n(I) TNCDBR-2019 RULE NO: 47 (8) IN G.O.(Ms) No.18, MAWS DEPARTMENT DATED 04.02.2019 & AMENDMENTS APPROVED IN G.O.Ms.No.16, MAWS (MAI) DEPARTMENT DATED\n31.01.2020 AND PUBLISHED IN TNGG ISSUE No.41.DATED 31.01.2020\nONE PERCENT OF LAYOUT AREA EXCLUDING ROAD, ADDITIONALLY, SHALL BE RESERVED FOR \"PUBLIC PURPOSE\". WITHIN THE ABOVE CEILING 0.5% OF AREA SHALL BE\nTRANSFERRED TO THE LOCAL BODY AND 0.5% OF AREA SHALL BE TRANSFERRED TO THE TANGEDCO OR TO THE LOCAL BODY FREE OF COST THROUGH A REGISTERED GIFT\nDEED BEFORE THE ACTUAL SANCTION OF THE LAYOUT.\n(II) TNCDBR-2019, RULE NO: 47 (11)\nTHE COST OF LAYING IMPROVEMENTS TO THE SYSTEMS IN RESPECT OF ROAD, WATER SUPPLY, SEWERAGE, DRAINAGE OR ELECTRIC POWER SUPPLY THAT MAY BE\nREQUIRED AS ASSESSED BY THE CONCERNED AUTHORITY, NAMELY, THE LOCAL BODY AND TAMIL NADU ELECTRICITY BOARD, SHALL BE BORNE BY THE APPLICANT.\n(III) THE APPLICANT IS RESPONSIBLE FOR THE SHAPE, SIZE & DIMENSIONS OF THE SITE UNDER REFERENCE.\nNECESSARY SPACE FOR BUILDING LINE TO BE LEFT AS PER THE RULE IN FORCE WHILE TAKING UP DEVELOPMENT.\n/1 LEGEND:\nSITE BOUNDARY\nROAD GIFTED TO LOCAL BODY\nEXISTING ROAD\nPUBLIC PURPOSE - 1 GIFTED TO LOCAL BODY\nPUBLIC PURPOSE - 2 GIFTED TO LOCAL BODY (FOR TANGEDCO)\nCONVENIENCE SHOP\nCONDITIONS:\nTHE LAYOUT APPROVED IS VALID SUBJECT\nTO OBTAINING SANCTION FROM THE LOCAL\nBODY CONCERNED.\nP.P.D 50\nNO :\nL.O 2024\nAPPROVED\nVIDE LETTER NO : LAYOUT-1 / 0158 / 2023\nDATE : 11 / 03 / 2024\nThis Planning Permission Issued under New Rule\nTNCDBR.2019 is subject to final outcome of the OFFICE COPY\nW.P(MD) No.8948 of 2019 and WMP (MD)\nNos. 6912 & 6913 of 2019.\nFOR CHIEF PLANNER (LAYOUT)\nCHENNAI METROPOLITAN\nDEVELOPMENT AUTHORITY\nAKKAM VILLAGE.",
         "True",
         null,
         null,
         null,
         "11 / 03 / 2024",
         "LAYOUT-1"
        ],
        [
         "55",
         "56",
         "56/2024",
         "St.Thomas Mount PU",
         "Thiruvanchery",
         "https://www.cmdachennai.gov.in/pdfs/layouts/2024/56-2024.pdf",
         "56/2024",
         "2024/56.pdf",
         "FILE NO: LAYOUT-1 / 0187 / 2023\nTENT = 2590SQ.M\n(AS PER DOCUMENT)\nREA = 853SQ.M\nPURPOSE PROVIDED (1 & 2) = 26 SQ.M\nED OVER TO THE LOCAL BODY (0.5% AREA : 13.0SQ.M)\nED OVER TO THE TANGEDCO (0.5% AREA : 13.0 SQ.M)\nPLOTS = 17NOS.\nNIENCE SHOP = 1NO.\n- 1.5M x 1.5M\nREMENTS ARE INDICATED EXCLUDING SPLAY DIMENSIONS\nROAD AREA\nPUBLIC PURPOSE AREA-1 WERE HANDED OVER TO THE LOCAL BODY VIDE GIFT DEED\n(RESERVED FOR LOCAL BODY)\nDOC. NO: 960 / 2024, DATED: 07.02.2024 @ SRO, PALLAVARAM\nPUBLIC PURPOSE AREA-2\n(RESERVED FOR TANGEDCO)\nONS:\nR-2019 RULE NO: 47 (8) IN G.O.(Ms) No.18, MAWS DEPARTMENT DATED 04.02.2019 & AMENDMENTS APPROVED IN G.O.Ms.No.16, MAWS (MAI) DEPARTMENT DATED 31.01.2020\nLISHED IN TNGG ISSUE No.41.DATED 31.01.2020\nCENT OF LAYOUT AREA EXCLUDING ROAD, ADDITIONALLY, SHALL BE RESERVED FOR \"PUBLIC PURPOSE\". WITHIN THE ABOVE CEILING 0.5% OF AREA SHALL BE\nRRED TO THE LOCAL BODY AND 0.5% OF AREA SHALL BE TRANSFERRED TO THE TANGEDCO OR TO THE LOCAL BODY FREE OF COST THROUGH A REGISTERED GIFT DEED\nTHE ACTUAL SANCTION OF THE LAYOUT.\nR-2019, RULE NO: 47 (11)\nT OF LAYING IMPROVEMENTS TO THE SYSTEMS IN RESPECT OF ROAD, WATER SUPPLY, SEWERAGE, DRAINAGE OR ELECTRIC POWER SUPPLY THAT MAY BE REQUIRED AS\nD BY THE CONCERNED AUTHORITY, NAMELY, THE LOCAL BODY AND TAMIL NADU ELECTRICITY BOARD, SHALL BE BORNE BY THE APPLICANT.\nAPPLICANT IS RESPONSIBLE FOR THE SHAPE, SIZE & DIMENSIONS OF THE SITE UNDER REFERENCE.\nSARY SPACE FOR BUILDING LINE TO BE LEFT AS PER THE RULE IN FORCE WHILE TAKING UP DEVELOPMENT.\n:\nITE BOUNDARY\nOAD GIFTED TO LOCAL BODY\nXISTING ROAD\nCONDITIONS:\nUBLIC PURPOSE - 1 GIFTED TO LOCAL BODY\nUBLIC PURPOSE - 2 GIFTED TO LOCAL BODY THE LAYOUT APPROVED IS VALID SUBJECT\nFOR TANGEDCO)\nTO OBTAINING SANCTION FROM THE LOCAL\nONVENIENCE SHOP\nBODY CONCERNED.\nP.P.D 56\nNO :\nL.O 2024\nAPPROVED\nVIDE LETTER NO : LAYOUT-1 / 0187 / 2023\nDATE : 12 / 03 / 2024\nThis Planning Permission Issued under New Rule\nTNCDBR.2019 is subject to final outcome of the OFFICE COPY\nW.P(MD) No.8948 of 2019 and WMP (MD)\nNos. 6912 & 6913 of 2019.\nFOR CHIEF PLANNER (LAYOUT)\nCHENNAI METROPOLITAN\nDEVELOPMENT AUTHORITY\nIT\nVANCHERRI VILLAGE.",
         "True",
         null,
         null,
         null,
         "12 / 03 / 2024",
         "LAYOUT-1"
        ],
        [
         "56",
         "57",
         "57/2024",
         "Poonamallee PU",
         "Ayalchari",
         "https://www.cmdachennai.gov.in/pdfs/layouts/2024/57-2024.pdf",
         "57/2024",
         "2024/57.pdf",
         "FILE NO: LAYOUT-1 / 0269 / 2022\n(cid:54)ITE E(cid:59)TENT (cid:32) (cid:26)(cid:25)(cid:21)(cid:25)(cid:54)(cid:52)(cid:17)M\n(cid:11)A(cid:54) PE(cid:53) PATTA(cid:12)\n(cid:53)OA(cid:39) A(cid:53)EA (cid:32) (cid:20)(cid:28)(cid:24)(cid:20)(cid:54)(cid:52)(cid:17)M\nPU(cid:37)LIC PU(cid:53)PO(cid:54)E P(cid:53)O(cid:57)I(cid:39)E(cid:39) (cid:32) (cid:24)(cid:27) (cid:54)(cid:52)(cid:17)M\nP.P - 1 HANDED OVER TO THE LOCAL BODY (0.5% AREA : 29.0SQ.M)\nP.P - 2 HANDED OVER TO THE TANGEDCO (0.5% AREA : 29.0 SQ.M)\nNO(cid:17)O(cid:41) PLOT(cid:54) (cid:32) (cid:24)(cid:22) N(cid:82)(cid:86)\nNOTE:\n1. SPLAY - 1.5M x 1.5M\n2. MEASUREMENTS ARE INDICATED EXCLUDING SPLAY DIMENSIONS\n3. ROAD AREA\nPUBLIC PURPOSE AREA-1 WERE HANDED OVER TO THE LOCAL BODY VIDE GIFT DEED\n(RESERVED FOR LOCAL BODY)\nDOC. NO: 3150 / 2024, DATED: 05.03.2024 @ SRO, AVADI\nPUBLIC PURPOSE AREA-2\n(RESERVED FOR TANGEDCO)\nCONDITIONS:\n(I) TNCDBR-2019 RULE NO: 47 (8) IN G.O.(Ms) No.18, MAWS DEPARTMENT DATED 04.02.2019 & AMENDMENTS APPROVED IN G.O.Ms.No.16, MAWS (MAI) DEPARTMENT\nDATED 31.01.2020 AND PUBLISHED IN TNGG ISSUE No.41.DATED 31.01.2020\nONE PERCENT OF LAYOUT AREA EXCLUDING ROAD, ADDITIONALLY, SHALL BE RESERVED FOR \"PUBLIC PURPOSE\". WITHIN THE ABOVE CEILING 0.5% OF AREA SHALL\nBE TRANSFERRED TO THE LOCAL BODY AND 0.5% OF AREA SHALL BE TRANSFERRED TO THE TANGEDCO OR TO THE LOCAL BODY FREE OF COST THROUGH A\nREGISTERED GIFT DEED BEFORE THE ACTUAL SANCTION OF THE LAYOUT.\n(II) TNCDBR-2019, RULE NO: 47 (11)\nTHE COST OF LAYING IMPROVEMENTS TO THE SYSTEMS IN RESPECT OF ROAD, WATER SUPPLY, SEWERAGE, DRAINAGE OR ELECTRIC POWER SUPPLY THAT MAY BE\nREQUIRED AS ASSESSED BY THE CONCERNED AUTHORITY, NAMELY, THE LOCAL BODY AND TAMIL NADU ELECTRICITY BOARD, SHALL BE BORNE BY THE APPLICANT.\n(III) THE APPLICANT IS RESPONSIBLE FOR THE SHAPE, SIZE & DIMENSIONS OF THE SITE UNDER REFERENCE.\n(IV) AS PER CSO MINUTES DATED:21.06.2023\nTHE PERSPECTIVE OWNERS IN THE SITE UNDER REFERENCE SHALL NOT CAUSE ANY DISTURBANCE TO THE EXISTING BRICK KILN IN THE NEAR BY LOCATIONS.\nNECESSARY SPACE FOR BUILDING LINE TO BE LEFT AS PER THE RULE IN FORCE WHILE TAKING UP DEVELOPMENT.\nLEGEND:\nSITE BOUNDARY\nROAD GIFTED TO LOCAL BODY\nEXISTING ROAD\nPUBLIC PURPOSE - 1 GIFTED TO LOCAL BODY\nPUBLIC PURPOSE - 2 GIFTED TO LOCAL BODY (FOR TANGEDCO)\nCONDITIONS:\nTHE LAYOUT APPROVED IS VALID SUBJECT\nTO OBTAINING SANCTION FROM THE LOCAL\nBODY CONCERNED.\nP.P.D 57\nNO :\nL.O 2024\nAPPROVED\nVIDE LETTER NO : LAYOUT-1 / 0269 / 2022\nDATE : 12 / 03 / 2024\nThis Planning Permission Issued under New Rule\nTNCDBR.2019 is subject to final outcome of the OFFICE COPY\nW.P(MD) No.8948 of 2019 and WMP (MD)\nNos. 6912 & 6913 of 2019.\nFOR CHIEF PLANNER (LAYOUT)\nCHENNAI METROPOLITAN\nDEVELOPMENT AUTHORITY\nVILLAGE (AS PER SMP),",
         "True",
         null,
         null,
         null,
         "12 / 03 / 2024",
         "LAYOUT-1"
        ],
        [
         "57",
         "58",
         "58/2024",
         "Thirumazhisai TP",
         "Thirumazhisai",
         "https://www.cmdachennai.gov.in/pdfs/layouts/2024/58-2024.pdf",
         "58/2024",
         "2024/58.pdf",
         "= 4694SQ.M FILE NO: LAYOUT-1 / 0134 / 2023\n= 981SQ.M\n= 40SQ.M\n0.0SQ.M)\n0 SQ.M)\n= 24 NOS\nSPLAY DIMENSIONS\nE HANDED OVER TO THE LOCAL BODY VIDE GIFT DEED\n. NO: 472 / 2024, DATED: 29.01.2024 @ SRO, POONAMALLEE\nDITIONS MENTIONED BY THE CE, PWD., WRD., CHENNAI REGION, CHEPAUK , CHENNAI -5. LETTER NO.DB/T5(3)/F.004840 NOC-THIRUMAZHISAI VILLAGE 007464/2023/DATED:08.09.2023 ARE TO BE COMPLIED BY THE APPLICANT BEFORE ISSUING OF THE LAYOUT\n(LOCAL BODY)\nlling with proper compaction to the minimum level of (+)28.250m (i.e.) 0.190m above Weir Crest Level of Thirumazhisai Tank is (+)28.060m to protect the site from inundation during floods. The process of earth filling and compaction should be done in layers of not more than 0.30 metre depth to\nfrom (+)0.970m to (+)1.060m depending upon the existing field levels. Also, the applicants should provide emergency pumping operation for the seepage water, if it is proposed to have basement floor and as well as dewatering arrangements during flood periods. The all-round pavement level\nd the regular habitation should not be below MFL.\nndary of their land before commencement of any developmental activities in the presence of Revenue, Local body and WRD authorities concerned without fail and should not encroach the Channel in S. F. Nos. 107 on the Northern side of applicant site as per FMB and monitored and maintained\nand should be maintained without encroachments as per Revenue records and the applicants should make necessary periodical arrangements for free flow of water through the existing Government Land to the downside area along the proposed site.\nnot be altered / modified/ changed to any others. Based on the records submitted by the applicants, the permission is granted. If any documents seem to be fake / manipulated / fabricated, in future the above permission will be cancelled without any correspondence. Hence, the applicants are\nmitted.\nhe site at any time, during execution and thereafter, if necessary. Advance intimation should be given to the WRD officers concerned before commencement of work.\nulation of the WRD from time to time. The applicants should also abide court of law of both State & Central Government from time to time.\ne inundation aspect and does not deliver any rights to the applicants to encroach the WRD / Government Lands / river. The NOC for this site from the WRD is purely issued on the basis of inundation point of view.\nge stretch abutting to the applicant boundary should be marked as per FMB and monitored and maintained by the applicant at their own cost. The width of the channel should be maintained without encroachments as per Revenue records and the hydraulic parameters of the field channel should\nry periodical arrangements for free flow of water through the existing channel to the downside area along the proposed site. Also, the applicants should de-silt the channel periodically and remove the obstruction then and there, without any hindrance for free flow of water at their own cost within\nct also.\nllage of the applicant's land should be completely de-silted and re-sectioned by constructing retaining wall on Northern side as well as bed lining concrete of the drain as per the FMB at the applicant's own cost. The bed level of the above course should be ascertained and restored before\nof the concerned WRD Executive Engineer. Moreover, the width of entire field drain as per Revenue records (FMB) along & within the stretch of applicant's land should be maintained properly without any change and no encroachments.\ne maintenance work / improvements work of the channel which is proposed to be carried out by WRD. The applicant should give an undertaking in writing to the effect that the above proposal will not obstruct in case any maintenance / improvements / development works as per Revenue records\n/ Local body in future periodically.\nasonry across the water body area without obtaining prior permission from WRD. If any damaged to the water body should be restored by the applicant at their own cost.\nl by considering the suitable internal storm water drainage network as micro drain of suitable size as per prevailing site conditions within the site. The same connected to the local drain / channel, rainwater harvesting, roads with road side drain and sewerage treatment plant and its disposal &\ndisposal as per norms in existence within the applicants' land according to the existing rules in force and should get proper approval from the competent authority without fail.\nated) should not be let into drain/channel/course at any cost and the debris and other materials should not be dumped into the drain/surplus course obstructing free flow of water. The applicants should make drain networks at their own cost and the same is to be connected to natural storm water\ne to the free flow of internal drain to downstream.\ndistance especially on North side within the site according to the site condition as per the norms in existence and as per the rules in force of CMDA (as per the circular issued by the office of the Commissioner of Town & Country Planning. Chennai-2 vide Roc.No.4367 / 2019-BA2 / Dated\nt be any construction activities in setback areas in future also. The CMDA should issue completion certificate only after obtaining compliance certificate NOC from WRD.\nr this site from the Revenue department to make sure that the site is not an encroached property from the water body as well as confirming this proposed site boundaries.\nld not let into the drains and for the disposal of the sewage water, suitable arrangements should be made for the same by the applicant and as well as the construction materials/debris/garbage should not be dumped into the channel / river / Eri / Pond at any cost.\nriver / Eri / channel / Pond, and the garbage. debris and construction materials should not be dumped into the channel/river/Eri/Pond restricting the free flow of water.\nnts in respect to the ownership is purely of applicant's responsibility and it is only for reference purpose to this department. The legal validity of this document should be verified by the Development / Revenue authorities. The specific remarks on inundation are purely issued on technical grounds\ns, WRD reserves rights to withdraw the technical opinion on inundation point of view to the above proposed site and in event, the applicant shall not be eligible for any compensation whatsoever and as well as legal entity.\nOF ALL THE CONDITIONS STIPULATE BY WRD, PWD IN THEIR LETTER NO.DB/T5(3)/F.004840 NOC-THIRUMAZHISAI VILLAGE 007464/2023/DATED:08.09.2023, AND SHALL OBTAIN A LETTER FROM WRD CONFIRMING THE COMPLIANCE OF THE CONDITIONS BEFORE THE\n.18, MAWS DEPARTMENT DATED 04.02.2019 & AMENDMENTS APPROVED IN G.O.Ms.NO.16, MAWS (MAI) DEPARTMENT DATED 31.01.2020 AND PUBLISHED IN TNGG ISSUE No.41, DATED:31.01.2020:\nAD, ADDITIONALLY, SHALL BE RESERVED FOR \"PUBLIC PURPOSE\". WITHIN THE ABOVE CEILING 0.5% OF AREA SHALL BE TRANSFERRED TO THE LOCAL BODY AND 0.5% OF AREA SHALL BE TRANSFERRED TO THE TANGEDCO OR TO THE LOCAL BODY FREE OF COST\nHE ACTUAL SANCTION OF THE LAYOUT.\nYSTEMS IN RESPECT OF ROAD, WATER SUPPLY, SEWERAGE, DRAINAGE OR ELECTRIC POWER SUPPLY THAT MAY BE REQUIRED AS ASSESSED BY THE CONCERNED AUTHORITY, NAMELY, THE LOCAL BODY AND TAMIL NADU ELECTRICITY BOARD, SHALL BE BORNE BY\nHAPE, SIZE & DIMENSIONS OF THE SITE UNDER REFERENCE.\nBE LEFT AS PER THE RULE IN FORCE WHILE TAKING UP DEVELOPMENT IN EVERY PLOT.\nCONDITIONS:\nTHE LAYOUT APPROVED IS VALID SUBJECT\nTO OBTAINING SANCTION FROM THE LOCAL\nBODY CONCERNED.\nP.P.D 58\nNO :\n(FOR TANGEDCO) L.O 2024\nAPPROVED\nVIDE LETTER NO : LAYOUT-1 / 0134 / 2023\nDATE : 14 / 03 / 2024\nThis Planning Permission Issued under New Rule\nTNCDBR.2019 is subject to final outcome of the OFFICE COPY\nW.P(MD) No.8948 of 2019 and WMP (MD)\nNos. 6912 & 6913 of 2019.\nFOR CHIEF PLANNER (LAYOUT)\nCHENNAI METROPOLITAN\nDEVELOPMENT AUTHORITY",
         "True",
         null,
         null,
         null,
         "14 / 03 / 2024",
         "LAYOUT-1"
        ],
        [
         "61",
         "62",
         "62/2024",
         "Tambaram Corporation",
         "Tambaram",
         "https://www.cmdachennai.gov.in/pdfs/layouts/2024/62-2024.pdf",
         "62/2024",
         "2024/62.pdf",
         "FILE NO.L1/ 249/2023\nTAL EXTENT (AS PER PATTA) : 3042 SQ.M\nAD AREA : 246 SQ.M\nLIC PURPOSE AREA (1%) : 28 SQ.M\n1 HANDED OVER TO THE LOCAL BODY 0.5% AREA : 13.0 SQ.M )\n2 HANDED OVER TO THE TANGEDCO 0.5% AREA : 15.0 SQ.M )\n.OF.PLOTS : 21 Nos\nTE:\nLAY-1.5MX1.5M\nEASUREMENTS ARE INDICATED EXCLUDING SPLAY DIMENSION\nROAD AREA WERE HANDED OVER TO THE LOCAL BODY VIDE GIFT DEED\nPUBLIC PURPO S E A R E A - 1 DOCUMENT NO. 1953/2024, DATED: 16.03.2024, @ SRO TAMBARAM JOINT 1\nPUBLIC PURPOSE AREA-2\n(RESERVED FOR TANGEDCO)\nDITIONS:\nE FOLLOWING CONDITIONS OF THE PWD VIDE THE CE, PWD/WRD, CHENNAI REGION, CHEPAUK, CHENNAI-5, IN LETTER NO.DB / T5(3) / F.8212 TAMBARAM\nAGE 0321 / 2024 / DATED:01.02.2024, WHICH ARE TO BE COMPLIED BY THE APPLICANT BEFORE ISSUING OF THE LAYOUT APPROVAL BY THE COMPETENT\nHORITY (LOCAL BODY)\ne applicants' land should be filled with earth filling with proper compaction to the minimum level of (+)15.220m(i.e.) 3.300m above Weir Crest Level of old existing SubbulakshmiAnicut (at\nent Damaged Condition) is (+)11.920m to protect the site from inundation during floods. The process of earth filling and compaction should be done In layers of not more than 0.30 metre\nh to achieve required degree of compaction for the depth from (+)1.090m to (+)1.170m depending upon the existing field levels. Also, the applicants should provide emergency pumping\nation for the seepage water, if it is proposed to have basement floor and as well as dewatering arrangements during flood periods. The all round pavement level within the site should not be\nthan (+)15.220m and the regular habitation should not be below MFL 17,790m.\ne applicants should clearly demarcate boundary of their land before commencement of any developmental activities in the presence of Revenue, Local body and WRD authorities concerned\nout fail and should not encroach the Government land and the same should be maintained as it is in the Revenue records. The Government Land should be maintained without\noachments as per Revenue records and the applicants should make necessary periodical arrangements for free flow of water through the existing Government Land to the downside area\ng the proposed site.\ne permission granted to the applicants, should not be altered /modified/ changed to any others. Based on the records submitted by the applicants, the permission is granted. If any\nments seem to be fake / manipulated / fabricated, in future the above permission will be cancelled without any correspondence. Hence the applicants are solely responsible of genuinely of\nocumentssubmitted.\ne WRD officers should be allowed to inspect the site at any time, during execution and thereafter, if necessary. Advance intimation should be given to the WRD officers concerned before\nencement of work.\ne applicants should abide by the rules and regulation of the WRD from time to time. The applicants should also abide court of law of both State & Central Government from time to time.\nRD is giving opinion only in connection with the inundation aspect and does not deliver any rights to the applicants to encroach the WRD / Government Lands / river. The NOC for this site\nthe WRD is purely issued on the basis of inundation point of view.\ne applicant should not object at any time for the maintenance work/ improvements work of the channel which is proposed to be carried out by WRD. The applicant should give an\nrtaking in writing to the effect that the above proposal will not obstruct in case any maintenance / improvements / development works as per Revenue records (FMB), which are proposed\ncarried out by WRD / Local body in future periodically.\ne Pappan Channel in SF.No.95 of Tambaram village stretch on Western side the applicant boundary should be marked as per FMB and monitored and maintained by the applicant at his own\n. The width of the channel should be maintained without encroachments as per Revenue records and the hydraulic parameters of the field channel should be maintained. The applicant\nld make necessary periodical arrangements for free flow of water through the existing channel to the downside area within the proposed layout site. Also, the applicant should de-silt the\nnel periodically and remove the obstruction then and there without any hindrance for free flow of water at his own cost within the proposed land, after the completion of project also,\ne applicants should not construct any cross masonry across the water body area without obtaining prior permission from WRD. If any damaged to the water body should be restored by the\nicant at their own cost.\nhnical Suggestion:\nThe applicants should prepare the layout proposal by considering the suitable internal storm water drainage network drain as micro drain ie. Peripheral drain of size not less than\nmx0.90m as well as lateral drain of suitable size as per prevailing site conditions within the site. The same should be connected to the local drain / channel rainwater harvesting, roads with\nside drain and sewerage treatment and its disposal and garbages/ debris and other solid waste management as per norms in existence within the applicants' land according to existing rules\nrce and should get proper approval from competent authority without fail.\nhe sewage or any unhygienic drainage (Treated or Untreated) should not be let into drain / channel / course at any cost and the debris and other materials should not be dumped into the\nn / surplus course obstructing free flow of water. The applicants should make drainage network, at their own cost and the same is to be connected to natural storm water drainage / channel.\nre should not be any hindrance to the free flow of internal drain to downstream.\nhe applicant should provide necessary setback distance not less than 3.00m especially on Western side within the site as per site condition as per the norms in existence and as per the rules\nrce of CMDA (as per the circular issued by the office of the Commissioner of Town & Country Planning, Chennai-2 vide Roc, No. 4367 / 2019 - BA2 / Dated: 13.03.2019) during development\nthere should not be any construction activities in the setback areas in future also. The CMDA should issue completion certificate only after obtaining completion certificate NOC from WRD.\nhe applicants should get clearance certificate for this site from the Revenue department to make sure that the site is not an encroached property from the water body as well as confirming\nproposed site boundaries.\nThe sewage water from the applicants' land should not let into the drain and for the disposal of the sewage water, suitable arrangements should be made for the same by the applicants, and\nell as the construction materials / debris / garbages should not be dumped into the River / Eri / Channel / Pond at any cost.\nt any cost, sewage / sullage should not be let into River / Eri / Channel / Pond, and the garbages, debris and construction materials should not be dumped into the River / Eri / Channel /\nrestricting the free flow of water.\nhe owner of the document received from the applicants in respect to the ownership is purely of applicants' responsibility and it is only for reference purpose to this department. The legal\nity of this document should be verified by the Development / Revenue authorities. The specific remarks on inundation are purely issued on technical grounds in respect to the physical\ntion of land.\nailing to comply with any of the above conditions, WRD reserves rights to withdraw the Technical opinion on inundation point of view to the above proposed site and in event, the applicants\nl not be eligible for any compensation whatsoever and as well as legal entity.\nNCDBR RULE NO: 47 (11)\nCOST OF LAYING IMPROVEMENTS TO THE SYSTEMS IN RESPECT OF ROAD, WATER SUPPLY, SEWERAGE, DRAINAGE OR ELECTRIC POWER SUPPLY THAT MAY BE REQUIRED AS ASSESSED BY\nCONCERNED AUTHORITY, NAMELY, THE LOCAL BODY AND TAMIL NADU ELECTRICITY BOARD, SHALL BE BORNE BY THE APPLICANT.\nOCAL BODY SHOULD ENSURE COMPLIANCE OF ALL THE CONDTIONS STIPULATED BY PWD IN THEIR LETTER NO.DB / T5(3) / F.8212 TAMBARAM VILLAGE 0321/2024/ DATED:01.02.2024\nSHALL OBTAIN A LETTER FROM PWD CONFIRMING THE COMPLIANCE OF THE CONDITIONS BEFORE THE SANCTION AND RELEASE OF THE LAYOUT.\nTHE APPLICANT IS RESPONSIBLE FOR THE SHAPE,SIZE & DIMENSIONS OF THE SITE UNDER REFERENCE.\nECESSARY SPACE FOR BUILDING LINE TO BE LEFT AS PER THE RULE IN FORCE WHILE TAKING UP DEVELOPMENT IN EVERY PLOT\nEND:\nSITE BOUNDARY\nROADS GIFTED TO LOCAL BODY\nEXISTING ROAD\nPUBLIC PURPOSE-1 GIFTED TO LOCAL BODY\nPUBLIC PURPOSE-2 GIFTED TO LOCAL BODY (FOR TANGEDCO) CONDITION:\nCHANNEL\nTHE LAYOUT APPROVED IS VALID SUBJECT TO\nOBTAINING SANCTION FROM THE LOCAL BODY\nCONCERNED.\nP.P.D 62\nNO :\nL.O 2024\nAPPROVED\nThis Planning Permission Issued under New Rule\nTNCDBR.2019 is subject to final outcome of the\nW.P(MD) No.8948 of 2019 and WMP (MD) VIDE LETTER NO : LAYOUT-1 / 0249 / 2023\nNos. 6912 & 6913 of 2019.\nDATE : 20 / 03 / 2024\nOFFICE COPY\nFOR CHEIF PLANNER (LAYOUT)\nCHENNAI METROPOLITAN\nDEVELOPMENT AUTHORITY\nS.No.84/1 & 84/2) BLOCK No.7",
         "True",
         null,
         null,
         null,
         "20 / 03 / 2024",
         null
        ],
        [
         "66",
         "67",
         "67/2024",
         "Poonamallee PU",
         "Korattur",
         "https://www.cmdachennai.gov.in/pdfs/layouts/2024/67-2024.pdf",
         "67/2024",
         "2024/67.pdf",
         "FILE NO.L1/0306/2023\nAL EXTENT (AS PER DOCUENT) : 4452 SQ.M\nD AREA : 1204 SQ.M\nLIC PURPOSE AREA (1%) : 34 SQ.M\nHANDED OVER TO THE LOCAL BODY 0.5% AREA : 17 SQ.M)\nHANDED OVER TO THE TANGEDCO 0.5% AREA : 17 SQ.M)\nF.PLOTS : 18 Nos.\nMERCIAL SITE : 3 Nos.\nTE:\nLAY-1.5MX1.5M\nEASUREMENTS ARE INDICATED EXCLUDING SPLAY DIMENSION\nROAD AREA WERE HANDED OVER TO THE LOCAL BODY VIDE GIFT DEED DOCUMENT NO. 4501/2024, DATED: 27.03.2024, @ SRO AVADI.\nPUBLIC PURPOSE AREA-1\nPUBLIC PURPOSE AREA-2\n(RESERVED FOR TANGEDCO)\nNDITIONS:\nHE APPLICANT SHOULD FOLLOW THE CONDITIONS MENTIONED BY THE CE, PWD/WRD, CHENNAI REGION, CHEPAUK, CHENNAI-5 IN LETTER NO.DB/T5(3)/F-10459 KORATTUR VILLAGE /\n1/2024/DATED.20.02.2024, WHICH ARE TO BE COMPLIED BY THE APPLICANT BEFORE ISSUING OF THE LAYOUT APPROVAL BY THE COMPETENT AUTHORITY (LOCAL BODY)\ne existing ground level of the site should be raised to minimum level of (+) 32.540m (i.e) 2.23m above the still level of Korattur head sluice as (+) 30.310m, with filling varies from 0.62m to 0.65m with layers of not more than 0.30metre\nth to achieve required degree of compaction to the entire area of the applicant land to avoid inundation during the heavy rains. The all-around pavement level within site should not be less than (+) 32.540m. The regular habitation should\nbe below MFL. Also, the applicant should provide emergency pumping operation for the seepage water, if it is proposed to have basement floor and as well as dewatering arrangements during flood periods.\ne applicant should clearly demarcate the boundary of their land before commencement of any developmental activities in the presence of Revenue authorities and WRD authorities . The applicant should also maintain the measurement of\nRevenue records without any encroachments and should be maintained as per Revenue records (FMB).\ne permission granted to the applicants, should not be altered/modified/changed to any others. Based on the records submitted by the applicants, the permission is granted. If any documents seem to be fake/manipulated/fabricated in\nre the above permission will be cancelled without any correspondence. Hence the applicants are solely responsible of genuinety of the documents submitted.\ne WRD officers should be allowed to inspect the site at any time, during execution and thereafter, if necessary. Advance intimation should be given to the WRD officers concerned before commencement of work.\ne applicants should abide by the rules and regulation of the WRD from time to time. The applicants should also abide court of law of both state & Central Government from time to time.\nRD is giving opinion only in connection with the inundation aspect and does not deliver any rights to the applicants to encroach the WRD/Government Lands/ river. The NOC for this site from the WRD is purely issued on the basis of\ndation point of view.\nhnical suggestion :\ne applicant should prepare the layout proposal by considering the suitable internal storm water drainage network drain as micro drains of suitable size within the site as per site condition. The same should be connected to the local drain/\nnel. Rainwater harvesting, roads with road side drain and sewerage treatment and its disposal and garbages/debris and other solid waste management as per norms in existence within the applicant's land according to existing rules in\ne and should get proper approval from competent authority without fail.\nThe sewage or any unhygienic drainage(Treated or untreated) should not be let into drain/ channel/course at any cost and the debris and other materials should not be dumped into the drain/surplus course obstructing free flow of\nr. The applicants should make drainage network, at their own cost and the same is to be connected to natural storm water drainage/channel. There should not be any hindrance to the free flow of internal drain to downstream.\ne necessary setback distance as per site condition as per the norms in existence and as per the rules in force of CMDA (as per the circular issued by the office of the Commissioner of Town & Country planning. Chennai -2 vide Roc\n367/2019-BA2 dated 13.03.2019) during development and there should not be any construction activities in future also, the CMDA should issue completion certificate only after obtaining compliance certificate NOC from WRD.\ne applicants should get clearance certificate for this site from the Revenue Department to make sure that the site is not an encroached properly from the water body as well as confirming this proposed site boundaries.\ne sewage water from the applicant's land should not let into the drain and for the disposal of the sewage water, suitable arrangements should be made for the same by the applicants, and as well as the construction\nerials/debris\\/garbages should not be dumped into the River/Eri/Channel/Pond at any cost.\nAt any cost, sewage/sullage should not be let into River/Eri/Channel/Pond and the garbages, debris and construction materials should not be dumped into the River/Eri/Channel/Pond restricting the free flow of water.\nThe owner of the document received from the applicants in respect to the ownership is purely of applicants responsibility and it is only for reference purpose to this department. The legal validity of this document should be verified\ne Development/Revenue authorities. The specific remarks on inundation are purely issued on technical grounds in respect to the physical location of land.\nFailing to comply with any of the above conditions, WRD reserves rights to withdraw the Technical opinion on inundation point of view to the above proposed site and in event, the applicants shall not be eligible for any\npensation whatsoever and as well as legal entity.\nTNCDBR RULE NO: 47 (11)\nCOST OF LAYING IMPROVEMENTS TO THE SYSTEMS IN RESPECT OF ROAD, WATER SUPPLY, SEWERAGE, DRAINAGE OR ELECTRIC POWER SUPPLY THAT MAY BE REQUIRED AS ASSESSED BY THE CONCERNED\nHORITY, NAMELY, THE LOCAL BODY AND TAMIL NADU ELECTRICITY BOARD, SHALL BE BORNE BY THE APPLICANT.\nLOCAL BODY SHOULD ENSURE COMPLIANCE OF ALL THE CONDITIONS STIPULATED BY PWD IN THEIR LETTER NO.LETTER NO.DB/T5(3)/F-10459 KORATTUR VILLAGE /1081/2024/DATED.20.02.2024\nSHALL OBTAIN A LETTER FROM PWD CONFIRMING THE COMPLIANCE OF THE CONDITIONS BEFORE THE SANCTION AND RELEASE OF THE LAYOUT.\n) THE APPLICANT IS RESPONSIBLE FOR THE SHAPE,SIZE & DIMENSIONS OF THE SITE UNDER REFERENCE.\nECESSARY SPACE FOR BUILDING LINE TO BE LEFT AS PER THE RULE IN FORCE WHILE TAKING UP DEVELOPMENT IN EVERY PLOT.\nEND:\nSITE BOUNDARY\nROADS GIFTED TO LOCAL BODY\nEXISTING ROAD\nPUBLIC PURPOSE-1 GIFTED TO LOCAL BODY\nPUBLIC PURPOSE-2 GIFTED TO LOCAL BODY (FOR TANGEDCO)\nCOMMERCIAL\nCONDITION:\nTHE LAYOUT APPROVED IS VALID SUBJECT TO\nOBTAINING SANCTION FROM THE LOCAL BODY\nCONCERNED.\nP.P.D 67\nNO :\nL.O 2024\nAPPROVED\nThis Planning Permission Issued under New Rule\nTNCDBR.2019 is subject to final outcome of the\nW.P(MD) No.8948 of 2019 and WMP (MD) VIDE LETTER NO : LAYOUT-1 / 0306 / 2023\nNos. 6912 & 6913 of 2019.\nDATE : 05 / 04 / 2024\nOFFICE COPY\nFOR CHEIF PLANNER (LAYOUT)\nCHENNAI METROPOLITAN\nDEVELOPMENT AUTHORITY\nNION\n4B1, 4B2, 5A & 5D OF",
         "True",
         null,
         null,
         null,
         "05 / 04 / 2024",
         null
        ],
        [
         "70",
         "71",
         "71/2024",
         "Villivakkam PU",
         "Palavedu",
         "https://www.cmdachennai.gov.in/pdfs/layouts/2024/71-2024.pdf",
         "71/2024",
         "2024/71.pdf",
         "T : 1200 SQ.M\n(AS PER PATTA)\n: 32 SQ.M\nS : 7 Nos\nM\nRE INDICATED EXCLUDING SPLAY DIMENSIONS\nA WAS HANDED OVER TO THE LOCAL BODY VIDE GIFT DEED\nDOC.NO:4182/2024, DATED:21.03.2024 @ SRO, AVADI.\n:\nG CONDITIONS OF PWD VIDE THE CE,WRD,CHENNAI REGION, CHEPAUK , CHENNAI -5. LETTER NO.DB / T5(3) / F- 008317 PALAVEDU VILLAGE000178 / 2024 / DATED. 22.01.2024, ARE TO BE COMPLIED BY THE\nISSUING OF THE LAYOUT APPROVAL BY THE COMPETENT AUTHORITY (LOCAL BODY)\nhould be filled with earth filling with proper compaction to the minimum level of (+)30.810m (i.e.,) i.e.0.63m above the FTL of Palavedu tank (+).30.180m. To protect the site from inundation during floods, the process of earth filling and compaction should be\nre than 0.30 metre depth to achieve required degree of compaction for the depth from 1.26m to 1.33m depending upon the existing field level. Also, the applicants should provide emergency pumping operation for the seepage water, if it is proposed to have\nell as dewatering arrangements during flood periods. The all round pavement level within the site should not be less than (+)30.81m and the regular habitation should not be below MFL.\nclearly demarcate the boundary of their land before commencement of any developmental activities in the presence of Revenue, Local body and WRD authorities concerned without fail and should not encroach the Government land / water body and the same\nit is in the Revenue records.\ned to the applicants, should not be altered / modified / changed to any others. Based on the records submitted by the applicants, the permission is granted. If any documents seem to be fake / manipulated / fabricated, in future the above permission will be\nrrespondence. Hence, the applicants are solely responsible of genuinety of the documents submitted.\nould be allowed to inspect the site at any time, during execution and thereafter, if necessary. Advance intimation should be given to the WRD officers concerned before commencement of work.\nabide by the rules and regulation of the WRD from time to time. The applicants should also abide court of law of both State & Central Government from time to time.\nn only in connection with the inundation aspect and does not deliver any rights to the applicants to encroach the WRD / Government Lands / river. The NOC for this site from the WRD is purely issued on the basis of inundation point of view.\nprepare the layout proposal by considering the suitable internal storm water drainage network drain as micro drain of suitable size as per prevailing site conditions within the site. The same should be connected to the local drain / channel, rainwater harvesting,\nin and sewerage treatment and its disposal and garbages / debris and other solid waste management as per norms in existence within the applicants' land according to existing rules in force and should get proper approval from competent authority without fail.\nygienic drainage (Treated or Untreated) should not be let into drain/channel/course at any cost and the debris and other materials should not be dumped into the drain / surplus course obstructing free flow of water. The applicants should make drainage network,\nsame is to be connected to natural storm water drainage / channel. There should not be any hindrance to the free flow of internal drain to downstream.\nk distance should be provided with in the site as per site condition as per the norms in existence and as per the rules in force of CMDA (as per the circular issued by the office of the Commissioner of Town & Country Planning, Chennai - 2 vide Roc. No.\n13.03.2019) during development and there should not be any construction activities in setback area in future also, the CMDA should issue completion certificate only after obtaining compliance certificate NOC from WRD.\nget clearance certificate for this site from the Revenue department to make sure that the site is not an encroached property from the water body as well as confirming this proposed site boundaries.\nom the applicant land should not let into the drain and for the disposal of the sewage water, suitable arrangements should be made for the same by the applicants, and as well as the construction materials/debris/garbages should not be dumped into the\ncost.\n/sullage should not be let into channel/river, and the garbages, debris and construction materials should not be dumped into the channel/river restricting the free flow of water\ncument received from the applicants in respect to the ownership is purely of applicant's responsibility and it is only for reference purpose to this department. The legal validity of this document should be verified by the Development / Revenue authorities. The\ndation are purely issued on technical grounds in respect to the physical location of land\nth any of the above conditions, WRD reserves rights to withdraw the Technical opinion on inundation point of view to the above proposed site and in event, the applicants shall not be eligible for any compensation whatsoever and as well as legal entity.\nE NO: 47 (11)\nIMPROVEMENTS TO THE SYSTEMS IN RESPECT OF ROAD, WATER SUPPLY, SEWERAGE, DRAINAGE OR ELECTRIC POWER SUPPLY THAT MAY BE REQUIRED AS ASSESSED BY THE CONCERNED AUTHORITY, NAMELY, THE LOCAL\nDU ELECTRICITY BOARD, SHALL BE BORNE BY THE APPLICANT.\nOULD ENSURE COMPLIANCE OF ALL THE CONDITIONS STIPULATED BY PWD IN THEIR LETTER NO.DB/T5(3) / F- 008317 PALAVEDU VILLAGE000178 / 2024 / DATED: 22.01.2024, AND SHALL OBTAIN A LETTER FROM PWD CONFIRMING THE\nCONDITIONS BEFORE THE SANCTION AND RELEASE OF THE LAYOUT.\nRESPONSIBLE FOR THE SHAPE,SIZE & DIMENSIONS OF THE SITE UNDER REFERENCE.\nE FOR BUILDING LINE TO BE LEFT AS PER THE RULE IN FORCE WHILE TAKING UP DEVELOPMENT IN EVERY PLOT.\nARY\nD TO LOCAL BODY\nOAD\nCONDITIONS:\nTHE SUB-DIVISION APPROVED IS VALID\nSUBJECT TO OBTAINING SANCTION FROM\nTHE LOCAL BODY CONCERNED.\nP.P.D 71\nNO :\nL.O 2024\nAPPROVED\nVIDE LETTER NO : LAYOUT-1 / 0260 / 2023\nThis Planning Permission Issued under New Rule\nTNCDBR.2019 is subject to final outcome of the\nDATE : 08 / 04 / 2024\nW.P(MD) No.8948 of 2019 and WMP (MD)\nNos. 6912 & 6913 of 2019.\nOFFICE COPY\nFOR CHIEF PLANNER (LAYOUT)\nUNION\nCHENNAI METROPOLITAN\nDEVELOPMENT AUTHORITY\nOF PALAVEDU VILLAGE.\n2B2",
         "True",
         null,
         null,
         null,
         "08 / 04 / 2024",
         null
        ],
        [
         "72",
         "73",
         "73/2024",
         "Avadi Corporation",
         "Thirumullaivoyal",
         "https://www.cmdachennai.gov.in/pdfs/layouts/2024/73-2024.pdf",
         "73/2024",
         "2024/73.pdf",
         "FILE NO.L1-0003-2023\nD\nA\nO\nR TOTAL EXTENT (AS PER PATTA) : 50577 SQ.M\nT.S.No:40 G\nN\nVACANT LAND TI ROAD AREA : 14452 SQ.M\nS\n(cid:59)I\nPARK AREA : 3623 SQ.M\n6\n4\n. 0\n7\n9\n5\n2 . 2 0 7 7 6 7\n20 15 8 2 .0 07\n2\n5\n06\n8. 5 2. 2\n4\n1 .\n.\n1 6\n4\n.\n1\n5\n66\n1\n.0\n4 2 . 0 5 5 8 2 .0 04 8 2 .0 03 202 1 3. 5 201 T.S.No:3 1\n0.\n9\n0 M E\n( (\nP\nP P . .\nU\nP P - - 2 1\nB\nH H\nL\nA A N N\nI\nD D\nC\nE E D D\nP\nO O\nU\nV V E\nR\nE R R\nP\nT T\nO\nO O T T\nS\nH H\nE\nE E T L\nA\nA O N C\nR\nG A\nE\nE L D\nA\nB C O O D\n(\nY 0\n1\n. 5 0\n%\n% .5% A\n)\nR A E R A E A : : 1 1 8 8 9 4 . . 0 0 S S Q Q . . M M ) )\n: 373 SQ.M\nN 8 . 1 1 5 8 8 3 1 8 . 2 . 5 o 1 0 . 3 1 . 1 0 2 0 . : 1 0 0 1 1 0 1 8 2 M . 5 7 9 2 5 . / 3 8 2 0 . 1 . 1 1 0 1 0 1 4 0 . 6 3 0 8 8 . 9 1 . 8 . 5 8 1 0 2 . 5 2 0 . 2 . 0 1 0 1 0 1 . 2 8 . 6 0 . 6 0 9 5 1 3 . 1 6 8 1 5 1 5 2 6 1 5 . 8 . 0 . 1 9 8 7 . 3 0 1 8 . 7 2 3 0 . 8 . 8 1 6 1 . 0 2 1 1 0 . M 1 . . 5 1 8 0 2 2 0 . 1 0 . 0 1 0 1 8 3 . 6 5 5 0 8 . 6 . 8 1 6 0 5 7 . 1 . 1 0 2 8 1 1 . 0 3 2 8 3 . . 2 8 6 4 . 0 0 5 1 0 . 0 M . 1 . 0 8 9 0 5 0 8 1 8 . 1 4 1 . 0 3 1 2 8 0 . 5 1 1 8 0 7 . 1 5 2 0 1 8 . 8 0 8 1 8 8 9 1 . 5 . 1 0 7 . 8 9 . 2 0 1 6 8 1 0 0 2 9 1 0 8 . . 0 6 0 0 . 3 2 5 5 3 0 . 1 . 8 8 M 0 1 3 2 . . 1 8 4 0 9 . 1 8 1 0 1 1 . 9 2 8 1 2 . 0 8 2 . 3 8 1 0 9 6 0 7 1 8 . 6 . 8 . 0 0 6 8 . 1 0 0 7 . 1 3 8 2 . 1 0 2 . . 0 1 1 9 8 0 . 2 1 3 8 . 1 0 1 5 2 0 8 . 1 9 0 . 1 7 2 3 0 . 8 8 0 7 8 1 . 8 7 1 2 8 . 4 1 . 7 . 1 0 1 6 1 8 0 M 2 0 2 . 1 . . 0 8 8 0 0 0 2 4 . 5 1 0 . 1 8 0 0 1 3. 8 2 1 0 . 1 8 1 0 1 . 1 1 2 8 9 2 . 0 8 2 . 5 8 0 0 9 8 6 1 . 8 5 1 . 6 . 0 1 8 0 5 0 3 7 . . 7 0 3 8 . 0 6 . 1 0 . 1 1 7 . 0 0 . 2 0 . 2 8 4 0 1 5 1 0 8 1 M . 1 2 1 1 0 . 8 8 0 8 8 5 9 9 1 1 8 . 6 . 9 1 . 0 4 6 1 8 0 2 0 7 . . 1 8 9 9 0 0 . 4 . 4 6 0 5 0 . 1 3 1 8 2 2 0 . 8 8 0 0 . 2 1 . 1 1 7 0 . 1 2 . . 1 0 8 8 2 0 7 0 2 1 . 0 8 0 6 8 . 7 1 . 4 7 . 0 2 2 8 . 0 5 . 8 0 5 1 0 M . 9 1 1 . 0 1 2 4 . 8 0 1 3 8 4 . 0 1 8 8 0 3 . 8 9 2 9 0 . . 8 0 0 1 9 8 1 2 3 1 . 8 1 2 2 1 0 1 6 . 1 8 0 3 2 . 4 7 . . 1 8 . 0 0 6 0 4 . . 0 1 4 0 . 7 4 0 1 4 8 8 2 1 1 0 8 . 1 . . 2 8 0 0 8 0 . 1 1 . 2 1 0 3 8 1 . 9 2 0 0 6 0 8 2 . 7 . 1 8 1 2 0 0 7 . . 3 4 0 . 1 0 0 8 7 2 4 1 9 . . 1 1 8 5 9 0 . 2 1 . 1 1 0 1 6 8 . 0 0 9 8 7 . 8 8 2 0 1 9 . . 1 2 0 . 2 1 7 . 0 1 0 8 M 2 4 1 . 2 . 0 8 6 9 0 1 1 . 1 . 8 1 2 7 0 0 9 . 6 . 7 1 0 1 8 9 . 1 5 1 3. 8 0 9 2 . 1 7 .1 0 M 2 0 . 1 8 1 2 2 0 1 . 9 2 . 3 7 . 0 . 0 7 0 0 2 7. 1 . 3 9 1 7. 3 3 1 2 9 1 3. 0 1 4 4 1 2 1 M 5 . . 9 2 1 0 0 . 7 2 4 5 1 . . 9 0 3 2. 6 1 2 2 0 0. 1 M 1 . 0 0 .0 R T E ( 2 1 3 O C T S N ( T M ( C I I . . I . H I O E H I N ) O . E O I M S A ) T O W ) I A T E E P T T L W N T E G N T L L H N I O N P A C N E L A S C . E C W E A U S D S D G : D Y ( B R D U L M B N . L B - L E C I 0 B O P R P 1 P R R E P A . R T E . R U U 5 P A E C A 5 O - R 1 - N % N 2 E L - M B I M B R 2 A ( A 2 0 O D R R R T O 0 L L K 0 L 1 o X E O O D E 1 M R E 1 I I 9 N S O 9 . 1 C N F C B 9 P , E A O P I , T D . T F A , O 5 A S R R A P P R S R R E S M L S V R D R U U S U F L R U E V U I E A E : T Y A R L B R E O A L D . E L A M R E P A P L P Y E ( F F L E O E O T E 3 O O E R L O S N N N S S R N I 7 U I E H S P N N E E O O O O T E T E T 0 A D A : T R A O 8 A D L T : N 4 : A I H C ( L 7 G R F R A 4 O R 4 S S E 7 A E E E ( T 7 R 1 B C E 1 D Q T A A C E ( E O A ( 1 C P E T D A - - ) 8 9 O S R 1 2 T . D E S ) T M ) O O ) 3 R X E 1 E I T M A N C . X O 1 ) H N 2 O L . C F 2 R G S ( 4 U T W D 0 L O F E . E D 2 4 2 O U O E W U E 0 R I ( ) 4 D R C R N M G A S S R 5 I E U G H N N s H P E ) M G L T D A H D A R N O E L O A S P O o T R N T L P U A . N O E 1 S L T S B D 8 G D . 3 A T E , L , M I N E 0 H Y L S I A D S O A T L 4 E D D H E W . ) T L O I D E 3 R M H O S 9 D V I E T 2 E C E E D D 9 I I N A E O R N / E G S L W 2 N P T I I T 0 A O A F B S N 2 O T R O 4 N L G P , T L D D L T G D M Y O Y H E A I , E T E S E A T S : : D S N S : E H N U L T O B D A D O E N E : D L C 0 N 2 O L A L A . 7 Y o 5 F T . . 0 % L B R 4 E F 3 3 E 2 1 E B D . O O 2 O 0 4 6 D T : R 0 R F 0 2 D 4 A H 4 0 E 4 E A 4 T E Y . S , 0 W N N N R E E @ 2 A V E R D S . o o o 2 C I S A V D : 0 P R 3 s s T s 1 E U E S 1 . O . . U 9 D . H R 0 A G A & 1 A P F L . I O M L 2 F O A S 0 S L T B R 2 M A E A B D 0 . N \" E . E T N E P C N T E U O T T D U D B R I C M O R L A O . N E I N C N N S O V T P F F E U S E T R R R A H S R P P I E O E O P D S L R N E A O T O \" Y V O . R O W E T A D U I H T M T I E H . N A T I L N G A G . N T O A G H . M M E E A s D . A N T C B I o O O O . 1 N O V 6 , R E\n1 92 8.0 9.7 M THE COST OF LAYING IMPROVEMENTS TO THE SYSTEMS IN RESPECT OF ROAD, WATER SUPPLY, SEWERAGE, DRAINAGE OR ELECTRIC\n93 8.0\n94\n7.\n6 8.0 2.2 POWER SUPPLY THAT MAY BE REQUIRED AS ASSESSED BY THE CONCERNED AUTHORITY, NAMELY, THE LOCAL BODY AND TAMIL\n1\n80\n1\n7. 6\n79\n1 95\n96\n1\n7. 6\n13.3\n2 . 1\nNADU ELECTRICITY BOARD, SHALL BE BORNE BY THE APPLICANT.\n8.0\n78 97 (IV) THE APPLICANT IS RESPONSIBLE FOR THE SHAPE,SIZE & DIMENSIONS OF THE SITE UNDER REFERENCE.\n8\n1\n.\n0\n5\n.\n9\n0\n8\n2\nM 9\n.\n.\n0\n8\n5.7\n8.0\n8.0\n77\n1\n7. 6\n8.0\n76\n8.0\n75\n1\n7. 6\n74\n3 2. 3 1\nM\n0.0 NECESSARY SPACE FOR BUILDING LINE TO BE LEFT AS PER THE RULE IN FORCE WHILE TAKING UP DEVELOPMENT IN EVERY PLOT\n69\n8.5 11.7 T.S.No:39 LEGEND:\n8\n59\n1\n3. 0\n68 1 3\n6\n. 0\n0\n67 8.5\n66\n8\n1\n3\n.\n.\n5\n0\n65\n8.5\n64 2 . 1\n2.2\n1 3\n8. 8\nVACANT LAND\nR\nE\nS\nP\nI\nU\nX\nO\nT\nB\nI\nA\nE\nS\nL\nD\nT\nI\nB\nS\nI\nC\nN\nO\nG\nP\nG\nU\nI\nU\nF\nN\nR\nR\nT\nD\nO\nP\nE\nA\nO\nD\nA\nR\nS\nD\nT\nY\nE\nO\n-1\nL\nG\nO\nI\nC\nF\nA\nT\nL\nE D\nB O\nT\nD\nO\nY\nLOCAL BODY\n8\n4\n.5\n8.5\n8.5\n8\n7 4\n.\n.\n5\n8 2 . M 1 8.\n6\n5\n1 1 3. 0\n8.5\n62\n7.6 63\n9.5\n2\n3. 0\n1 M 0.0 P\nP\nE A\nU\nW R\nB\nS\nL\nK\nI\nG\nC\nI\nP\nF\nU\nT\nR\nE\nP\nD\nO\nT\nS\nO\nE -\nL\n2\nO\nG\nC\nI\nA\nF\nL\nT E\nB\nD\nO D\nT\nY\nO LOCAL BODY (FOR TANGEDCO)\n33 8.5 2.1\nSINGLE POLE L.T.LINE\n32\n8.5\n31\n7.3 2\n.\n1\n26 30\n4\n8\n7\n. 4 5\n.\n7\n6\n.7\n7.2\n8\nM\n. 2 5 7\n8.\n2\n5\n8\n6.7\n29 2 1. 0 1\nM\n0.0\n8.5 2.1\n20 8.5\n19\n2.\n0 6.6 2 .\n1\n1 18\n16 1 2. 0 17 2 1. 0 10.0\n8.5 M\n6.0\n2.2\n8.5\n2\n0 .\n2. 0\n1 6\n0\n9. 0 CONDITION:\n4.\n9\n0\n9.\n3.\n010.0 THE LAYOUT APPROVED IS VALID SUBJECT TO\n5 OBTAINING SANCTION FROM THE LOCAL BODY\nM\nCONCERNED.\nP.P.D 73\nNO :\nL.O 2024\nAPPROVED\nThis Planning Permission Issued under New Rule\nTNCDBR.2019 is subject to final outcome of the\nW.P(MD) No.8948 of 2019 and WMP (MD) VIDE LETTER NO : LAYOUT-1 / 0003 / 2024\nNos. 6912 & 6913 of 2019.\no:47 DATE : 08 / 04 / 2024\nOFFICE COPY\nFOR MEMBER SECRETARY\nCHENNAI METROPOLITAN\nDEVELOPMENT AUTHORITY\nS.No.209/2pt) BLOCK No.46, WARD No.D/16 OF",
         "True",
         null,
         null,
         null,
         "08 / 04 / 2024",
         null
        ],
        [
         "74",
         "75",
         "75/2024",
         "Kundrathur PU",
         "Kolapakkam",
         "https://www.cmdachennai.gov.in/pdfs/layouts/2024/75-2024.pdf",
         "75/2024",
         "2024/75.pdf",
         "FILE NO: LAYOUT-1 / 0011 / 2024\n= 2833SQ.M\n(AS PER DOCUMENT)\n= 694SQ.M\nOSE PROVIDED (1 & 2) = 21 SQ.M\nO THE LOCAL BODY (0.5% AREA : 10.5SQ.M)\nO THE TANGEDCO (0.5% AREA : 10.5 SQ.M)\n= 23NOS.\n.5M\nARE INDICATED EXCLUDING SPLAY DIMENSIONS\nREA\nPURPOSE AREA-1 WERE HANDED OVER TO THE LOCAL BODY VIDE GIFT DEED\nED FOR LOCAL BODY)\nDOC. NO: 2367 / 2024, DATED: 20.03.2024 @ SRO, PAMMAL\nPURPOSE AREA-2\nED FOR TANGEDCO)\nLE NO: 47 (8) IN G.O.(Ms) No.18, MAWS DEPARTMENT DATED 04.02.2019 & AMENDMENTS APPROVED IN G.O.Ms.No.16, MAWS (MAI) DEPARTMENT DATED 31.01.2020 AND PUBLISHED IN TNGG\n31.01.2020\nAYOUT AREA EXCLUDING ROAD, ADDITIONALLY, SHALL BE RESERVED FOR \"PUBLIC PURPOSE\". WITHIN THE ABOVE CEILING 0.5% OF AREA SHALL BE TRANSFERRED TO THE LOCAL BODY\nSHALL BE TRANSFERRED TO THE TANGEDCO OR TO THE LOCAL BODY FREE OF COST THROUGH A REGISTERED GIFT DEED BEFORE THE ACTUAL SANCTION OF THE LAYOUT.\nULE NO: 47 (11)\nNG IMPROVEMENTS TO THE SYSTEMS IN RESPECT OF ROAD, WATER SUPPLY, SEWERAGE, DRAINAGE OR ELECTRIC POWER SUPPLY THAT MAY BE REQUIRED AS ASSESSED BY THE\nRITY, NAMELY, THE LOCAL BODY AND TAMIL NADU ELECTRICITY BOARD, SHALL BE BORNE BY THE APPLICANT.\nIS RESPONSIBLE FOR THE SHAPE, SIZE & DIMENSIONS OF THE SITE UNDER REFERENCE.\nCE FOR BUILDING LINE TO BE LEFT AS PER THE RULE IN FORCE WHILE TAKING UP DEVELOPMENT.\nARY\nTO LOCAL BODY\nAD\nCONDITIONS:\nOSE - 1 GIFTED TO LOCAL BODY\nOSE - 2 GIFTED TO TANGEDCO\nTHE LAYOUT APPROVED IS VALID SUBJECT\nTO OBTAINING SANCTION FROM THE LOCAL\nBODY CONCERNED.\nP.P.D 75\nNO :\nL.O 2024\nAPPROVED\nVIDE LETTER NO : LAYOUT-1 / 0011 / 2024\nDATE : 08 / 04 / 2024\nThis Planning Permission Issued under New Rule\nTNCDBR.2019 is subject to final outcome of the\nW.P(MD) No.8948 of 2019 and WMP (MD) OFFICE COPY\nNos. 6912 & 6913 of 2019.\nFOR CHIEF PLANNER (LAYOUT)\nCHENNAI METROPOLITAN\nDEVELOPMENT AUTHORITY\n.",
         "True",
         null,
         null,
         null,
         "08 / 04 / 2024",
         "LAYOUT-1"
        ],
        [
         "76",
         "77",
         "77/2024",
         "Kattankolathur PU",
         "Mannivakkam",
         "https://www.cmdachennai.gov.in/pdfs/layouts/2024/77-2024.pdf",
         "77/2024",
         "2024/77.pdf",
         "T : 4330 SQ.M\n(AS PER DOCUMENT)\n: 1586 SQ.M\nPOSE PROVIDED (1%) : 33 SQ.M\nTO THE LOCAL BODY (0.5%) = 16.0 SQ.M\nTO THE TANGEDCO (0.5%) = 17.0 SQ.M\nS : 27 Nos\nRE INDICATED EXCLUDING SPLAY DIMENSIONS\nA\nR P O S E - 1 WERE HANDED OVER TO THE LOCAL BODY VIDE GIFT DEED\nR P O S E - 2 DOC.NO: 4070/2024, DATED:14.03.2024 @ SRO, GOODUVANCHERI.\nR TANGEDCo)\nNS:\nSHOULD FOLLOW THE CONDITIONS MENTIONED BY THE CE, PWD/WRD, CHENNAI REGION, CHEPAUK, CHENNAI-5 IN LETTER NO.DB / T5(3) / F.5954 / MANNIVAKKAM VILLAGE 8555 / 2023 / DATED 26.10.2023. WHICH\nIED BY THE APPLICANT BEFORE ISSUING OF THE LAYOUT APPROVAL BY THE COMPETENT AUTHORITY (LOCAL BODY)\nshould be filled with earth filling with proper compaction to the minimum level of (+)14.700m (i.e.) (+)2.36m above Weir Crest Level of Mannivakkam Periya Eri Tank is (+)12.340m to protect the site from inundation during floods, The process of earth filling\nbe done in layers of not more than 0.30 metre depth to achieve required degree of compaction for the depth from (+)1.760m to (+)1.880m depending upon the existing field levels. Also, the applicants should provide emergency pumping operation for the\nroposed to have basement floor and as well as dewatering arrangements during flood periods. The all round pavement level within the site should not be less than (+)14.700m and the regular habitation should not be below MFL.\nld clearly demarcate the boundary of their land before commencement of any developmental activities in the presence of Revenue, Local body and WRD authorities concerned without fail and should not encroach the Mannivakkam Periya Eri Tank (SF No.244)\ncant site as per FMB and monitored and maintained by the applicant at their own cost. The Government Land should be maintained without encroachments as per Revenue records and the applicants should make necessary periodical arrangements for free flow of\ning Government Land to the downside area along the proposed site.\nted to the applicants, should not be altered / modified / changed to any others. Based on the records submitted by the applicants, the permission is granted, If any documents seem to be fake / manipulated / fabricated, in future the above permission will be cancelled\ndence. Hence, the applicants are solely responsible of genuinety of the documents submitted.\nhould be allowed to inspect the site at any time, during execution and thereafter, if necessary. Advance intimation should be given to the WRD officers concerned before commencement of work.\nld abide by the rules and regulation of the WRD from time to time. The applicants should also abide court of law of both State & Central Government from time to time.\nion only in connection with the inundation aspect and does not deliver any rights to the applicants to encroach the WRD / Government Lands / river. The NOC for this site from the WRD is purely issued on the basis of inundation point of view.\nnot object at any time for the maintenance work / improvements work of the channel which is proposed to be carried out by WRD. The applicant should give an undertaking in writing to the effect that the above proposal will not obstruct in case any maintenance /\npment works as per Revenue records (FMB), which are proposed to be carried out by WRD / Local body in future periodically.\nd not construct any cross masonry across the water body area without obtaining prior permission from WRD. If any damaged to the water body should be restored by the applicant at their own cost.\n:\nld prepare the layout proposal by considering the suitable internal storm water drainage network drain as micro drain ie. Peripheral drain of size not less than 1.20m x 0.90m as well as lateral drain of suitable size as per prevailing site conditions within the site. The\nted to the local drain / channel, rainwater harvesting, roads with road side drain and sewerage treatment and its disposal and garbages / debris and other solid waste management as per norms in existence within the applicants' land according to existing rules in force\npproval from competent authority without fail.\nunhygienic drainage (Treated or Untreated) should not be let into drain / channel / course at any cost and the debris and other materials should not be dumped into the drain / surplus course obstructing free flow of water. The applicants should make drainage network,\ne same is to be connected to natural storm water drainage / channel. There should not be any hindrance to the free flow of internal drain to downstream.\nld provide necessary setback distance not less than 3.00m especially on North and partly on Western side within the site as per site condition as per the norms in existence and as per the rules in force of CMDA (as per the circular issued by the office of the\nn & Country Planning, Chennai-2 vide Roc. No. 4367 / 2019 - BA2 / Dated: 13.03.2019) during development and there should not be any construction activities in the setback areas in future also. The CMDA should issue completion certificate only after obtaining\nNOC from WRD.\nds are seems to be Ryotwari land which would be classified as Wet lands. Hence, these lands are to be converted into other zone from the agricultural zone by the competent authority. The applicants should get clearance certificate for this site from the Revenue\nre that the site is not an encroached property from the water body as well as confirming this proposed site boundaries.\nrom the applicants' land should not let into the drain and for the disposal of the sewage water, suitable arrangements should be made for the same by the applicants, and as well as the construction materials / debris / garbages should not be dumped into the River / Eri\ny cost.\ne / sullage should not be let into River / Eri / Channel / Pond, and the garbages, debris and construction materials should not be dumped into the River / Eri / Channel / Pond restricting the free flow of water.\nocument received from the applicants in respect to the ownership is purely of applicants' responsibility and it is only for reference purpose to this department. The legal validity of this document should be verified by the Development / Revenue authorities. The\nndation are purely issued on technical grounds in respect to the physical location of land.\nith any of the above conditions, WRD reserves rights to withdraw the Technical opinion on inundation point of view to the above proposed site and in event, the applicants shall not be eligible for any compensation whatsoever and as well as legal entity.\nULE NO: 47 (8) IN G.O.(Ms) No.18, MAWS DEPARTMENT DATED 04.02.2019 & AMENDMENTS APPROVED IN G.O.Ms.No.16, MAWS (MAI) DEPARTMENT DATED 31.01.2020 AND PUBLISHED IN TNGG ISSUE No.41.DATED\nLAYOUT AREA EXCLUDING ROAD, ADDITIONALLY, SHALL BE RESERVED FOR \"PUBLIC PURPOSE\". WITHIN THE ABOVE CEILING 0.5% OF AREA SHALL BE TRANSFERRED TO THE LOCAL BODY AND 0.5% OF AREA\nERRED TO THE TANGEDCO OR TO THE LOCAL BODY FREE OF COST THROUGH A REGISTERED GIFT DEED BEFORE THE ACTUAL SANCTION OF THE LAYOUT.\nRULE NO: 47 (11)\nING IMPROVEMENTS TO THE SYSTEMS IN RESPECT OF ROAD, WATER SUPPLY, SEWERAGE, DRAINAGE OR ELECTRIC POWER SUPPLY THAT MAY BE REQUIRED AS ASSESSED BY THE CONCERNED AUTHORITY,\nAL BODY AND TAMIL NADU ELECTRICITY BOARD, SHALL BE BORNE BY THE APPLICANT.\nSHOULD ENSURE COMPLIANCE OF ALL THE CONDITIONS STIPULATED BY PWD IN THEIR LETTER NO.DB / T5(3) / F.5954 / MANNIVAKKAM VILLAGE 8555 / 2023 / DATED 26.10.2023. OBTAIN A LETTER FROM PWD\nCOMPLIANCE OF THE CONDITIONS BEFORE THE SANCTION AND RELEASE OF THE LAYOUT.\nIS RESPONSIBLE FOR THE SHAPE,SIZE & DIMENSIONS OF THE SITE UNDER REFERENCE.\nCE FOR BUILDING LINE TO BE LEFT AS PER THE RULE IN FORCE WHILE TAKING UP DEVELOPMENT\nRY\nD TO LOCAL BODY\nAD\nOSE-1 GIFTED TO LOCAL BODY\nOSE-2 GIFTED TO LOCAL BODY (FOR TANGEDCO) CONDITIONS:\nTHE LAYOUT APPROVED IS VALID SUBJECT\nTO OBTAINING SANCTION FROM THE LOCAL\nBODY CONCERNED.\nP.P.D 77\nNO :\nL.O 2024\nAPPROVED\nThis Planning Permission Issued under New Rule\nTNCDBR.2019 is subject to final outcome of the\nVIDE LETTER NO : LAYOUT-1 / 0361 / 2023\nW.P(MD) No.8948 of 2019 and WMP (MD)\nNos. 6912 & 6913 of 2019.\nDATE : 08 / 04 / 2024\nOFFICE COPY\nFOR CHIEF PLANNER (LAYOUT)\nCHENNAI METROPOLITAN\nDEVELOPMENT AUTHORITY\nLAGE.",
         "True",
         null,
         null,
         null,
         "08 / 04 / 2024",
         null
        ],
        [
         "77",
         "78",
         "78/2024",
         "Poonamallee PU",
         "Vellavedu",
         "https://www.cmdachennai.gov.in/pdfs/layouts/2024/78-2024.pdf",
         "78/2024",
         "2024/78.pdf",
         ": 2350 SQ.M\n: 490 SQ.M\n: 30 SQ.M\n: 18 Nos\nS\nHE LOCAL BODY VIDE GIFT DEED\n:19.03.2024 @ SRO,POONAMALLEE.\nENTIONED BY THE CE, PWD/WRD, CHENNAI REGION, CHEPAUK, CHENNAI-5 IN LETTER NO.DB/T5(3)/F- NOC8316 VELLAVEDU VILLAGE9686 / 2023 / DATED.11.12.2023, WHICH ARE TO BE COMPLIED BY THE APPLICANT BEFORE ISSUING OF THE\nOCAL BODY)\ntion to the minimum level of (+)35.210m i.e.4.60m above the Temporary Bench Mark from the Sill level of Bangaru Channel at Vellavedu Bridge (+)30.610m to protect the site from inundation during floods. The process of earth filling and compaction should be done in layers of not more than 0.30 metre depth to achieve\nn the existing field levels. Also, the applicants should provide emergency pumping operation for the seepage water, if it is proposed to have basement floor and as well as dewatering arrangements during flood periods. The all round pavement level within the site should not be less than (+)35.210m and the regular habitation\ne commencement of any developmental activities in the presence of Revenue, Local body and WRD authorities concerned without fail and should not encroach the of Kumaran kuttai Channel (SF No. 102) on Southern side of applicant site as per FMB and monitored and maintained by the applicant at their own cost. The\nue records and the applicants should make necessary periodical arrangements for free flow of water through the existing Government channel to the downside area along the proposed site.The necessary setback distance should be provided as per the norms in existence and as per the rules in force of CMDA\nchanged to any others. Based on the records submitted by the applicants, the permission is granted. If any documents seem to be fake / manipulated / fabricated, in future the above permission will be cancelled without any correspondence. Hence, the applicants are solely responsible of genuinety of the documents submitted.\nexecution and thereafter, if necessary. Advance intimation should be given to the WRD officers concerned before commencement of work.\nime to time. The applicants should also abide court of law of both State & Central Government from time to time.\noes not deliver any rights to the applicants to encroach the WRD / Government Lands / channel. The NOC for this site from the WRD is purely issued on the basis of inundation point of view.\nprovements work of the channel which is proposed to be carried out by WRD. The applicant should give an undertaking in writing to the effect that the above proposal will not obstruct in case any maintenance / improvements / development works as per Revenue records (FMB), which are proposed to be carried out by WRD /\ndy area without obtaining prior permission from WRD. If any damaged to the water body should be restored by the applicant at their own cost.\nshould be completely desilted and resectioned by constructing retaining wall on either side of the channel as per the FMB at the applicants own cost. The bed level of the above channel should be ascertained and restored before commencing the development activity in the presence of the concerned WRD Executive Engineer.\nong & within the stretch of applicants land should be maintained properly without any change and encroachment at any cost.\n.F.No. 102 should be marked as per FMB and monitored and maintained by the applicant at their own cost. The width of the channel should be maintained without encroachment as per revenue records and the hydraulic parameters of the field channel should be maintained. The applicant should make necessary periodical\nside area within the proposed layout site. Also the applicant should de-silt the channel periodically and remove the obstruction then and there without any hindrance for free flow of water at their own cost within the proposed land, after the completion of project.\nroachment in water course poromboke, since it is violation against prevailing Government orders, Circulars, Hon'ble Supreme Court & High Court, NGT judgments, Tank Protection Act 2007 and G.O.Ms. No.78 / H&UD (UD4(3) D / 04.05.2017 etc. In case of any legal proceedings in respect of the developmental activities in\nitable internal storm water drainage network drain as micro drain of suitable size as per prevailing site conditions within the site. The same should be connected to the local drain / channel, rainwater harvesting, roads with road side drain and sewerage treatment and its disposal and garbages / debris and other solid waste\no existing rules in force and should get proper approval from competent authority without fail.\nt be let into drain/channel/ course at any cost and the debris and other materials should not be dumped into the drain / surplus course obstructing free flow of water. The applicants should make drainage network, at their own cost and the same is to be connected to natural storm water drainage / channel. There should not be any\nouth side within the site as per site condition as per the norms in existence and as per the rules in force of CMDA (as per the circular issued by the office of the Commissioner of Town & Country Planning, Chennai-2 vide Roc. No. 4367/2019 - BA2 / Dated: 13.03.2019) during development and there should not be any\nissue completion certificate only after obtaining completion certificate NOC from WRD.\nssified as Dry lands. Hence, these lands are to be converted into other zone from the agricultural zone by the competent authority. The applicants should get clearance certificate for this site from the Revenue department to make sure that the site is not an encroached property from the water body as well as confirming this\nd for the disposal of the sewage water, suitable arrangements should be made for the same by the applicants, and as well as the construction materials / debris / garbages should not be dumped into the River / Eri / Channel / Pond at any cost\nPond, and the garbages, debris and construction materials should not be dumped into the River/Eri/Channel/ Pond restricting the free flow of water.\nownership is purely of applicants' responsibility and it is only for reference purpose to this department. The legal validity of this document should be verified by the Development / Revenue authorities. The specific remarks on inundation are purely issued on technical grounds in respect to the physical location of land.\nto withdraw the Technical opinion on inundation point of view to the above proposed site and in event, the applicants shall not be eligible for any compensation whatsoever and as well as legal entity.\nEPARTMENT DATED 04.02.2019 & AMENDMENTS APPROVED IN G.O.Ms.No.16, MAWS (MAI) DEPARTMENT DATED 31.01.2020 AND PUBLISHED IN TNGG ISSUE No.41.DATED 31.01.2020\nIONALLY, SHALL BE RESERVED FOR \"PUBLIC PURPOSE\". WITHIN THE ABOVE CEILING 0.5% OF AREA SHALL BE TRANSFERRED TO THE LOCAL BODY AND 0.5% OF AREA SHALL BE TRANSFERRED TO THE TANGEDCO OR TO THE LOCAL BODY FREE OF COST\nSANCTION OF THE LAYOUT.\nRESPECT OF ROAD, WATER SUPPLY, SEWERAGE, DRAINAGE OR ELECTRIC POWER SUPPLY THAT MAY BE REQUIRED AS ASSESSED BY THE CONCERNED AUTHORITY, NAMELY, THE LOCAL BODY AND TAMIL NADU ELECTRICITY BOARD, SHALL BE BORNE BY\nE CONDITIONS STIPULATED BY PWD IN THEIR LETTER NO.DB / T5(3) /F- NOC8316 VELLAVEDU VILLAGE9686 / 2023 / 11.12.2023 OBTAIN A LETTER FROM PWD CONFIRMING THE COMPLIANCE OF THE\nLAYOUT.\nDIMENSIONS OF THE SITE UNDER REFERENCE.\nER THE RULE IN FORCE WHILE TAKING UP DEVELOPMENT IN EVERY PLOT.\nCONDITIONS:\nTHE LAYOUT APPROVED IS VALID SUBJECT\nTO OBTAINING SANCTION FROM THE LOCAL\nBODY CONCERNED.\nEDCO)\nP.P.D 78\nNO :\nL.O 2024\nAPPROVED\nVIDE LETTER NO : LAYOUT-1 / 0402 / 2023\nThis Planning Permission Issued under New Rule\nTNCDBR.2019 is subject to final outcome of the DATE : 08 / 04 / 2024\nW.P(MD) No.8948 of 2019 and WMP (MD)\nNos. 6912 & 6913 of 2019.\nOFFICE COPY\nFOR CHIEF PLANNER (LAYOUT)\nCHENNAI METROPOLITAN\nDEVELOPMENT AUTHORITY",
         "True",
         null,
         null,
         null,
         "08 / 04 / 2024",
         null
        ],
        [
         "103",
         "104",
         "104/2024",
         "Kundrathur PU",
         "Gerugambakkam",
         "https://www.cmdachennai.gov.in/pdfs/layouts/2024/104-2024.pdf",
         "104/2024",
         "2024/104.pdf",
         "FILE NO: LAYOUT-1 / 0005 / 2024\n= 1793SQ.M\nOCUMENT)\n= 505SQ.M\n= 8 Nos.\nD OVER TO THE LOCAL BODY VIDE GIFT DEED\n84 / 2024, DATED: 30.04.2023 @ SRO, PAMMAL\nLOW THE CONDITIONS MENTIONED BY THE EE, WRD., KOSASTHALAIYAR BASIN DIVISION, THIRUVALLUR - 602001. LETTER NO.DB/JDO.2/F.40 NOC/2023/1061M/DATED:22.12.2023 ARE TO BE COMPLIED BY THE APPLICANT BEFORE ISSUING OF THE\nPETENT AUTHORITY (LOCAL BODY)\nto be raised of height from 1.300m to 1.410m with the process of earth filling and compaction should be done in layers of not more than 0.30m depth with hard soil with proper compaction to achieve required degree of compaction and the existing land should be raised to a\nequate dewatering arrangements to bail out the water within the premises and necessary drainage facilities must be provided as per the norms of the Pollution Control Board.\nroper soil test and suitable foundation should be selected depends upon the soil condition and the structural design should be obtained by the Structural Engineer.\nr the Structural stability and soundness of the building proposed by the applicant and WRD recommend only for inundation point of view.\nngement to collect the garbage within the premises and has to be disposed off as per Pollution Control Board norms.\nrrangements should be provided as per Pollution Control Board norms.\nmarcation and fix the boundary stone in the S.No. 578/1A, 1B, 1C, 2A, 2B, 2C & 578/2D of Gerugambakkam Village, Kundrathur Taluk, Kancheepuram District before the commencement of the work.\nland must construct the retaining wall along its boundary on the left side of channel after demarcated the WRD., Land.\nin water harvesting arrangements in the site at applicant own cost.\nto Eri/Channel/thangal. The applicant should not affect the hydraulic particulars of Eri/Channel/thangal.\ndrainage water / sewage directly into the Eri/channel/thangal.\ninage shall be provided with adequate vent size around the site demarcated in the map and it should be connected to the local body storm water drainage way (or) Road drainage network. Ultimately the storm water drainage should be connected to the Road drainage\ndrain storm water from site under reference.\nbular column should be maintained strictly.\nshould not be let in the channel/tank Maintained by WRD and necessary sewage disposal plant should be made by the applicant at applicant own cost. The safe discharge of sewage should be ensured and the action plan should be submitted to the Executive Engineer,\n., Thiruvallur and/or any other competent authority at once after implementation.\nch into adjacent Government lands and should clearly demarcate boundaries of applicant land in presence of Revenue and as well as WRD officials before commencement of construction.\ne adjacent lands and drain and necessary arrangements should be made by the applicant at applicant own cost for treatment of sewage.\nowed to inspect the site at any time during execution.\nrotective measures to avoid entry of storm water from the earmarked in the sketch should be maintained without encroaching as per Revenue Records.\nmarcate the boundary of applicant land and WRD., channel before commencement of any developmental activity in presence of the Revenue and WRD department officials and should not encroach the channel abutting the applicant land.\niven to the WRD officers concerned before the commencement work.\nrules and regulations of the WRD as in force.\nto be revoked. If breach of any of the above terms and conditions and in the event of such revokes the applicant shall not be eligible to any compensation what so ever.\nabove condition, WRD. Reserves rights to withdraw the report on inundation point of view to the above survey number and in the event, the applicant shall not be eligible for any compensation what so ever.\nE COMPLIANCE OF ALL THE CONDITIONS STIPULATE BY WRD, PWD IN THEIR LETTER NO.DB/JDO.2/F.40 NOC/2023/1061M/DATED:22.12.2023, AND SHALL OBTAIN A LETTER FROM WRD CONFIRMING THE COMPLIANCE OF THE CONDITIONS BEFORE\nTHE LAYOUT.\n1)\nMENTS TO THE SYSTEMS IN RESPECT OF ROAD, WATER SUPPLY, SEWERAGE, DRAINAGE OR ELECTRIC POWER SUPPLY THAT MAY BE REQUIRED AS ASSESSED BY THE CONCERNED AUTHORITY, NAMELY, THE LOCAL BODY AND TAMIL NADU\nORNE BY THE APPLICANT.\nBLE FOR THE SHAPE, SIZE & DIMENSIONS OF THE SITE UNDER REFERENCE.\nLDING LINE TO BE LEFT AS PER THE RULE IN FORCE WHILE TAKING UP DEVELOPMENT IN EVERY PLOT.\nBODY CONDITIONS:\nTHE SUB-DIVISION APPROVED IS VALID\nSUBJECT TO OBTAINING SANCTION FROM\nTHE LOCAL BODY CONCERNED.\nP.P.D 104\nNO :\nL.O 2024\nAPPROVED\nVIDE LETTER NO : LAYOUT-1 / 0005 / 2024\nDATE : 14 / 05 / 2024\nThis Planning Permission Issued under New Rule\nTNCDBR.2019 is subject to final outcome of the\nW.P(MD) No.8948 of 2019 and WMP (MD) OFFICE COPY\nNos. 6912 & 6913 of 2019.\nFOR CHIEF PLANNER (LAYOUT)\nCHENNAI METROPOLITAN\nDEVELOPMENT AUTHORITY\nAGE.",
         "True",
         null,
         null,
         null,
         "14 / 05 / 2024",
         "LAYOUT-1"
        ],
        [
         "121",
         "122",
         "122/2024",
         "Tiruvallur PU",
         "Pakkam",
         "https://www.cmdachennai.gov.in/pdfs/layouts/2024/122-2024.pdf",
         "122/2024",
         "2024/122.pdf",
         "ITE EXTENT : 3898 SQ.M FILE NO: LAYOUT-1/0337/2023\n(AS PER DOCUMENT)\nOAD AREA : 1061 SQ.M\nUBLIC PURPOSE PROVIDED (1%) : 52 SQ.M\nP-1 HANDED OVER TO THE LOCAL BODY (0.5%) : 30.0 SQ.M\nP-2 HANDED OVER TO THE TANGEDCO (0.5%) : 22.0 SQ.M\nO. OF PLOTS : 27 Nos\nOTE:\n. SPLAY - 1.5M x 1.5M\n. MEASUREMENTS ARE INDICATED EXCLUDING SPLAY DIMENSIONS\n. ROAD AREA\nP U B L I C P U R P O S E - 1 ( 0 . 5 % ) WERE HANDED OVER TO THE LOCAL BODY VIDE GIFT DEED\nP U B L I C P U R P O S E - 2 ( 0 . 5 % ) DOC.NO: 3907/2024, DATED:19.03.2024 @ SRO, TIRUVALLUR JOINT 1.\n(RESERVED FOR TANGEDCO)\nONDITIONS\nI)THE APPLICANT SHOULD FOLLOW THE CONDITIONS MENTIONED BY THE CE, PWD/WRD, CHENNAI REGION, CHEPAUK, CHENNAI-5 IN LETTER NO.DB/T5(3)/F- NOC0653 PAKKAM VILLAGE 3781 NATHAMEDU / 2024 / DATED.21.05.2024,\nHICH ARE TO BE COMPLIED BY THE APPLICANT BEFORE ISSUING OF THE LAYOUT APPROVAL BY THE COMPETENT AUTHORITY (LOCAL BODY)\n. The applicants' land should be filled with earth filling with proper compaction to the minimum level of (+)35.720m (i.e.,) 2.795m above the crest top level of Pakkam tank as (+ )32. 925 to protect the site from inundation during floods. The process of earth filling and compaction should\ne done in layers of not more than 0.30metre depth to achieve required degree of compaction for the depth from 1.87m to 1.97m depending upon the existing filed levels also the applicants s should provide emergency pumping operation for the seepage water, if in proposed to have\nasement floor and as well as dewatering arrangements during flood periods. The all-roundpavement level within the site should not be less than [+] 35.720 m and the regular habitation.n should not be below MFL.\n. The applicants should clearly demarcate boundary of their land before commencement of any developmental activities in the presence of Revenue, Local body and WRD authorities concerned without fail and should not encroach the Government tank S.F.NO.850 And the same should\ne maintained as it is in the Revenue records.\n. The permission granted to the applicants, should not be altered / modified / changed to any others. Based on the records submitted by the applicants, the permission is granted. If any documents seem to be fake / manipulated / fabricated, in future the above permission will be cancelled\nithout any correspondence. Hence, the applicants are solely responsible of genuinely of the documents submitted.\n. The WRD officers should be allowed to inspect the site at any time, during execution and there after if necessary. Advance intimation should be given to the WRD officers concerned before commencement of work.\n. The applicants should abide by the rules and regulation of the WRD from time to time. The applicants should also abide court of law of both State & Central Government from time to time.\n. WRD is giving opinion only in connection with the inundation aspect and does not deliver any rights to the applicants to encroach the WRD / Government Lands / river. The NOC for this site from the WRD is purely issued on the basis of inundation point of view.\n. The applicant should not object at any time for the maintenance works / improvement works of the eri, which are proposed to be carried out by WRD. The applicant should give an undertaking in writing to the effect that the above proposal will not obstruct in case any maintenance I\nmprovement / development works as per Revenue records [FMB], which are proposed to be carried out by WRD in future periodically.\n. The applicants should not construct any cross masonry across/along the eri, without prior permission of WRD. If any damages occurred to the Government eri, the same should be restored to its Original condition at their own cost.\nechnical Suggestion:\n. The applicants should prepare the layout proposal by considering the suitable internal storm water drainage network drain as micro drains of suitable size within the site as per site condition, since there is patta channel running within the site. The same should be connected to the local\nrain/ channel at his own cost, rainwater harvesting, roads with road side drain and sewerage treatment plant and its disposal and garbage/debris and other solid waste management as per norms in existence within the applicant's land according to existing rules in force and should get\nroper approval from competent authority without fail.\nThe sewage or any unhygienic drainage (Treated or Untreated) should not be let into drain/channel/ course at any cost and the debris and other materials should not be dumped into the drain / surplus course obstructing free flow of water. The applicants should make drainage network, at\nheir own cost and the same is to be connected to natural stom water drainage / channel. There should not be any hindrance to the free flow of internal drain to downstream.\n. The necessary setback distance should be provided with in the site as per site condition as per the norms in existence and as per the rules in force of CMDA (as per the circular issued by the office of the Commissioner of Town & Country Planning. Chennai - 2 vide Roc. No.\n367/2019-BA2/Dated: 13.03.2019) during development and there should not be any construction activities in future also, the CMDA should issue completion certificate only after obtaining compliance certificate NOC from WRD.\n. The applicants should get clearance certificate for this site from the Revenue department to make sure that the site is not an encroached property from the water body as well as confirming this proposed site boundaries.\n. The sewage water from the applicant land should not let into the drain and for the disposal of the sewage water, suitable arrangements should be made for the same by the applicants, and as well as the construction materials/debris/garbage should not be dumped into the\nhannel/river/tank at any cast\nAt any cost, sewage / sullage should not be let into channel/river, and the garbage, debris and construction materials should not be dumped into the channel/river restricting the free flow of water.\nThe owner of the document received from the applicants in respect to the ownership is purely of applicant's responsibility and it is only for reference purpose to this department. The legal validity of this document should be verified by the Development / Revenue authorities. The\npecific remarks on inundation are purely issued on, technical grounds in respect to the physical location of land.\nFailing to comply with any of the above conditions, WRD reserves rights to withdraw the Technical opinion on inundation point of view to the above proposed site and in event, the applicants shall not be eligible for any compensation whatsoever and as well as legal entity.\nII) TNCDBR-2019 RULE NO: 47 (8) IN G.O.(Ms) No.18, MAWS DEPARTMENT DATED 04.02.2019 & AMENDMENTS APPROVED IN G.O.Ms.No.16, MAWS (MAI) DEPARTMENT DATED 31.01.2020 AND PUBLISHED IN TNGG ISSUE No.41.DATED 31.01.2020\nNE PERCENT OF LAYOUT AREA EXCLUDING ROAD, ADDITIONALLY, SHALL BE RESERVED FOR \"PUBLIC PURPOSE\". WITHIN THE ABOVE CEILING 0.5% OF AREA SHALL BE TRANSFERRED TO THE LOCAL BODY AND 0.5% OF AREA SHALL BE\nRANSFERRED TO THE TANGEDCO OR TO THE LOCAL BODY FREE OF COST THROUGH A REGISTERED GIFT DEED BEFORE THE ACTUAL SANCTION OF THE LAYOUT.\nIII) TNCDBR-2019, RULE NO: 47 (11)\nHE COST OF LAYING IMPROVEMENTS TO THE SYSTEMS IN RESPECT OF ROAD, WATER SUPPLY, SEWERAGE, DRAINAGE OR ELECTRIC POWER SUPPLY THAT MAY BE REQUIRED AS ASSESSED BY THE CONCERNED AUTHORITY, NAMELY, THE\nOCAL BODY AND TAMIL NADU ELECTRICITY BOARD, SHALL BE BORNE BY THE APPLICANT.\nIV) LOCAL BODY SHOULD ENSURE COMPLIANCE OF ALL THE CONDITIONS STIPULATED BY PWD IN THEIR LETTER NO.DB / T5(3) /F- NOC0653 PAKKAM VILLAGE 3781 NATHAMEDU / 2024 / 21.05.2024 OBTAIN A LETTER FROM PWD CONFIRMING THE\nOMPLIANCE OF THE CONDITIONS BEFORE THE SANCTION AND RELEASE OF THE LAYOUT.\nV)THE APPLICANT IS RESPONSIBLE FOR THE SHAPE,SIZE & DIMENSIONS OF THE SITE UNDER REFERENCE.\nNECESSARY SPACE FOR BUILDING LINE TO BE LEFT AS PER THE RULE IN FORCE WHILE TAKING UP DEVELOPMENT IN EVERY PLOT.\nEGEND:\nSITE BOUNDARY\nROADS GIFTED TO LOCAL BODY CONDITIONS:\nEXISTING ROAD\nPUBLIC PURPOSE-1 GIFTED TO LOCAL BODY THE LAYOUT APPROVED IS VALID SUBJECT\nPUBLIC PURPOSE-2 GIFTED TO LOCAL BODY (FOR TANGEDCO) TO OBTAINING SANCTION FROM THE LOCAL\nBODY CONCERNED.\nERI\nP.P.D 122\nNO :\nL.O 2024\nAPPROVED\nVIDE LETTER NO : LAYOUT-1 / 0337 / 2023\nThis Planning Permission Issued under New Rule\nTNCDBR.2019 is subject to final outcome of the\nDATE : 07 / 06 / 2024\nW.P(MD) No.8948 of 2019 and WMP (MD)\nNos. 6912 & 6913 of 2019.\nOFFICE COPY\nFOR CHIEF PLANNER (LAYOUT)\nCHENNAI METROPOLITAN\nDEVELOPMENT AUTHORITY\nAGE (NATHAMEDU AS PER PATTA).",
         "True",
         null,
         null,
         null,
         "07 / 06 / 2024",
         "LAYOUT-1/0337/2023"
        ],
        [
         "124",
         "125",
         "125/2024",
         "Poonamallee PU",
         "Palanjur",
         "https://www.cmdachennai.gov.in/pdfs/layouts/2024/125-2024.pdf",
         "125/2024",
         "2024/125.pdf",
         "FILE NO: LAYOUT-1 /0099/ 2024\nSITE EXTENT (AS PER PATTA) : 9760 SQ.M\nPROPOSED ROAD : 2898 SQ.M\nPUBLIC PURPOSE PROVIDED (1%) : 70 SQ.M\nPP-1 HANDED OVER TO THE LOCAL BODY (0.5%) : 34.0 SQ.M\nC\nP\nN\nP\nO\nO\n-2 H\nM\n.\nA\nO\nN\nM\nD\nF\nE\nE\nD\nP\nR\nO\nL\nV\nC\nO\nE\nI\nR\nT\nA\nT\nS\nO\nL\nT\nP\nH E\nL\nT\nO\nA N\nT\nG\nS\nE D C O ( 0 . 5 % ) : 3 6 . 0 S Q .M\n:\n:\n3\n5\n6\nN\nN\no\no\ns\ns\n.\nNOTE:\n1. SPLAY - 1.5M x 1.5M\n2. MEASUREMENTS ARE INDICATED EXCLUDING SPLAY DIMENSIONS\n3. ROAD AREA\nPUBLIC P U R P O S E - 1 WERE HANDED OVER TO THE LOCAL BODY VIDE GIFT DEED\nA N PUBLIC P U R P O S E - 2 DOC.NO: 6095/2024, DATED: 05.06.2024 @ SRO, SRIPERUMPUDUR.\n(RESERVED FOR TANGEDCO)\nSINGLE POLE\nH.T.LINE\nCONDITIONS:\n(I) TNCDBR-2019 RULE NO: 47 (8) IN G.O.(Ms) No.18, MAWS DEPARTMENT DATED 04.02.2019 & AMENDMENTS APPROVED IN G.O.Ms.No.16, MAWS (MAI)\nDEPARTMENT DATED 31.01.2020 AND PUBLISHED IN TNGG ISSUE No.41.DATED 31.01.2020\nONE PERCENT OF LAYOUT AREA EXCLUDING ROAD, ADDITIONALLY, SHALL BE RESERVED FOR \"PUBLIC PURPOSE\". WITHIN THE ABOVE\nCEILING 0.5% OF AREA SHALL BE TRANSFERRED TO THE LOCAL BODY AND 0.5% OF AREA SHALL BE TRANSFERRED TO THE TANGEDCO OR TO\n2\n3 . THE LOCAL BODY FREE OF COST THROUGH A REGISTERED GIFT DEED BEFORE THE ACTUAL SANCTION OF THE LAYOUT.\n0\n1\n(II) TNCDBR-2019, RULE NO: 47 (11)\nS.NO.345/5\nTHE COST OF LAYING IMPROVEMENTS TO THE SYSTEMS IN RESPECT OF ROAD, WATER SUPPLY, SEWERAGE, DRAINAGE OR ELECTRIC POWER\nVACANT LAND\nSUPPLY THAT MAY BE REQUIRED AS ASSESSED BY THE CONCERNED AUTHORITY, NAMELY, THE LOCAL BODY AND TAMIL NADU ELECTRICITY\n4\nBOARD, SHALL BE BORNE BY THE APPLICANT.\n(III)THE APPLICANT IS RESPONSIBLE FOR THE SHAPE,SIZE & DIMENSIONS OF THE SITE UNDER REFERENCE.\n1\nNECESSARY SPACE FOR BUILDING LINE TO BE LEFT AS PER THE RULE IN FORCE WHILE TAKING UP DEVELOPMENT\nLEGEND:\nSITE BOUNDARY\nROADS GIFTED TO LOCAL BODY\nEXISTING ROAD\nPUBLIC PURPOSE-1 GIFTED TO LOCAL BODY\nPUBLIC PURPOSE-2 GIFTED TO TANGEDCO\nCOMMERCIAL\nCONDITION:\nTHE LAYOUT APPROVED IS VALID SUBJECT TO\nOBTAINING SANCTION FROM THE LOCAL BODY\nCONCERNED.\nP.P.D 125\nNO :\nL.O 2024\nAPPROVED\nThis Planning Permission Issued under New Rule\nTNCDBR.2019 is subject to final outcome of the\nW.P(MD) No.8948 of 2019 and WMP (MD) VIDE LETTER NO : LAYOUT-1 / 0099 / 2024\nNos. 6912 & 6913 of 2019.\nDATE : 11 / 06 / 2024\nOFFICE COPY\nFOR MEMBER SECRETARY\nCHENNAI METROPOLITAN\nDEVELOPMENT AUTHORITY\n( CHEMBARAMBAKKAM",
         "True",
         null,
         null,
         null,
         "11 / 06 / 2024",
         "LAYOUT-1"
        ],
        [
         "138",
         "139",
         "139/2024",
         "Poonamallee PU",
         "Pidarithangal",
         "https://www.cmdachennai.gov.in/pdfs/layouts/2024/139-2024.pdf",
         "139/2024",
         "2024/139.pdf",
         "AS PER DOCUMENT) : 4047 SQ.M FILE NO: LAYOUT-1/0374/2023\n: 1264 SQ.M\nPROVIDED (1%) : 34 SQ.M\n4.0 SQ.M\n0.0 SQ.M\n: 28 Nos\nRE INDICATED EXCLUDING SPLAY DIMENSIONS\nA\nWERE HANDED OVER TO THE LOCAL BODY VIDE GIFT DEED\nRPOSE-1 (0.5%)\nDOC.NO:4092/2024, DATED:19.06.2024 @ SRO, POONAMALLEE.\nRPOSE-2 (0.5%)\nS:\nOULD FOLLOW THE CONDITIONS MENTIONED BY THE CE, PWD/WRD, CHENNAI REGION, CHEPAUK, CHENNAI-5 IN LETTER NO.DB / T5(3) / F. NOC0730 PIDARITHANGAL VILLAGE 2031/2024 / DATED 15.03.2024 WHICH\nD BY THE APPLICANT BEFORE ISSUING OF THE LAYOUT APPROVAL BY THE COMPETENT AUTHORITY (LOCAL BODY)\nuld be filled with earth filling with proper compaction to the minimum level of (+)22.830m (i.e..) 0.51m above the Known datum of Sill level of Poonamallee Pidarithangal Tank (+)22.320m. To protect the site from inundation during floods. The process of earth filling\ndone in layers of not more than 0.30metre depth to achieve required degree of compaction for the depth from (+)1.150 to (+)1.180 depending upon the existing field levels. Also, the applicants should provide emergency pumping operation for the seepage water, if it is\nt floor and as well as dewatering arrangements during flood periods. The all round pavement level within the site should not be less than (+)22.830m and the regular habitation should not be below MFL\nlearly demarcate boundary of their land before commencement of any developmental activities in the presence of Revenue, Local body and WRD authorities concerned without fail and should not encroach the Government land and the same should be maintained as it is\nhe applicant should not encroach the Eri in S.F.No.151 and Channel in Patta land bearing in S.F.No.83/3.\nto the applicants, should not be altered / modified / changed to any others. Based on the records submitted by the applicants, the permission is granted. If any documents seem to be fake / manipulated / fabricated, in future the above permission will be cancelled without\ne, the applicants are solely responsible of genuinety of the documents submitted.\nld be allowed to inspect the site at any time, during execution and thereafter, if necessary. Advance intimation should be given to the WRD officers concerned before commencement of work.\nbide by the rules and regulation of the WRD from time to time. The applicants should also abide court of law of both State & Central Government from time to time.\nonly in connection with the inundation aspect and does not deliver any rights to the applicants to encroach the WRD / Government Lands. The NOC for this site from the WRD is purely issued on the basis of inundation point of view.\nrepare the layout proposal by considering the suitable internal storm water drainage network drain as micro drains of suitable size as per prevailing site conditions within the site. The same should be connected to the local drain / channel, rainwater harvesting, roads with\nge treatment plant and its disposal and garbages / debris and other solid waste management as per norms in existence within the applicant's land according to existing rules in force and should get proper approval from competent authority without fail.\nygienic drainage (Treated or Untreated) should not be let into drain/channel/ course at any cost and the debris and other materials should not be dumped into the drain / surplus course obstructing free flow of water. The applicants should make drainage network, at their\no be connected to natural storm water drainage/ channel. There should not be any hindrance to the free flow of internal drain to downstream.\nistance not less than 3m especially on South should be provided within the site as per site condition as per the norms in existence and as per the rules in force of CMDA (as per the circular issued by the office of the Commissioner of Town & Country Planning, Chennai\n9-BA2/ Dated: 13.03.2019) during development and there should not be any construction activities in future also, the CMDA should issue completion certificate only after obtaining compliance certificate NOC from WRD.\net clearance certificate for this site from the Revenue department to make sure that the site is not an encroached property from the water body as well as confirming this proposed site boundaries.\nthe applicant land should not let into the drain and for the disposal of the sewage water, suitable arrangements should be made for the same by the applicants, and as well as the construction materials/debris/garbages should not be dumped into the channel/river/tank at\nullage should not be let into channel/river, and the garbages, debris and construction materials should not be dumped into the channel/river restricting the free flow of water.\nrm a micro drain bearing Survey No.83/3, so as to drain the storm water form S.F.No.83/2 to S.F.No.82. During the construction of micro drain the location of entry and exit of the drain should be fixed as demarcated in the village map, The Patta Channel should be\np and monitored and maintained by the applicant at his own cost. The Patta Channel should be maintained without encroachment as per Village map the Channel should be maintained. The applicant should make necessary periodical arrangements for free flow of water\ndownside area within the proposed layout site. Also the applicant should de-silt the channel periodically and remove the obstruction then and there without any hindrance for free flow of water at his own cost boundary along the proposed land.\nument received from the applicants in respect to the ownership is purely of applicant's responsibility and it is only for reference purpose to this department. The legal validity of this document should be verified by the Development / Revenue authorities. The specific\npurely issued on technical grounds in respect to the physical location of land.\nany of the above conditions, WRD reserves rights to withdraw the Technical opinion on inundation point of view to the above proposed site and in event, the applicants shall not be eligible for any compensation whatsoever and as well as legal entity.\nE NO: 47 (8) IN G.O.(Ms) No.18, MAWS DEPARTMENT DATED 04.02.2019 & AMENDMENTS APPROVED IN G.O.Ms.No.16, MAWS (MAI) DEPARTMENT DATED 31.01.2020 AND PUBLISHED IN TNGG ISSUE No.41.DATED 31.01.2020\nYOUT AREA EXCLUDING ROAD, ADDITIONALLY, SHALL BE RESERVED FOR \"PUBLIC PURPOSE\". WITHIN THE ABOVE CEILING 0.5% OF AREA SHALL BE TRANSFERRED TO THE LOCAL BODY AND 0.5% OF AREA SHALL\nTHE TANGEDCO OR TO THE LOCAL BODY FREE OF COST THROUGH A REGISTERED GIFT DEED BEFORE THE ACTUAL SANCTION OF THE LAYOUT.\nLE NO: 47 (11)\nIMPROVEMENTS TO THE SYSTEMS IN RESPECT OF ROAD, WATER SUPPLY, SEWERAGE, DRAINAGE OR ELECTRIC POWER SUPPLY THAT MAY BE REQUIRED AS ASSESSED BY THE CONCERNED AUTHORITY, NAMELY,\nD TAMIL NADU ELECTRICITY BOARD, SHALL BE BORNE BY THE APPLICANT.\nOULD ENSURE COMPLIANCE OF ALL THE CONDITIONS STIPULATED BY PWD IN THEIR LETTER NO.DB / T5(3) / F.NOC0730 PIDARITHANGAL VILLAGE 2031 / 2024 / DATED. 15.03.2024 OBTAIN A LETTER FROM PWD\nMPLIANCE OF THE CONDITIONS BEFORE THE SANCTION AND RELEASE OF THE LAYOUT.\nRESPONSIBLE FOR THE SHAPE,SIZE & DIMENSIONS OF THE SITE UNDER REFERENCE.\nFOR BUILDING LINE TO BE LEFT AS PER THE RULE IN FORCE WHILE TAKING UP DEVELOPMENT\nARY CONDITIONS:\nD TO LOCAL BODY\nTHE LAYOUT APPROVED IS VALID SUBJECT\nAD TO OBTAINING SANCTION FROM THE LOCAL\nOSE-1 GIFTED TO LOCAL BODY BODY CONCERNED.\nOSE-2 GIFTED TO LOCAL BODY (FOR TANGEDCO)\nP.P.D 139\nNO :\nL.O 2024\nAPPROVED\nVIDE LETTER NO : LAYOUT-1 / 0374 / 2023\nDATE : 28 / 06 / 2024\nThis Planning Permission Issued under New Rule\nTNCDBR.2019 is subject to final outcome of the\nW.P(MD) No.8948 of 2019 and WMP (MD)\nNos. 6912 & 6913 of 2019.\nOFFICE COPY\nFOR CHIEF PLANNER (LAYOUT)\nCHENNAI METROPOLITAN\nDEVELOPMENT AUTHORITY\nVILLAGE",
         "True",
         null,
         null,
         null,
         "28 / 06 / 2024",
         "LAYOUT-1/0374/2023"
        ],
        [
         "143",
         "144",
         "144/2024",
         "St.Thomas Mount PU",
         "Arasankazhani",
         "https://www.cmdachennai.gov.in/pdfs/layouts/2024/144-2024.pdf",
         "144/2024",
         "2024/144.pdf",
         "FILE NO: LAYOUT-1 / 0052 / 2024\n= 7020SQ.M\nPER PATTA)\n= 2366SQ.M\nVIDED = 58 SQ.M\nBODY (0.5% AREA : 33.0SQ.M)\nCO (0.5% AREA : 25.0 SQ.M)\n= 41 Nos.\nCLUDING SPLAY DIMENSIONS\nWERE HANDED OVER TO THE LOCAL BODY VIDE GIFT DEED\nDOC. NO: 7878 / 2024, DATED: 29.06.2024 @ SRO, SELAIYUR\nLLOW THE CONDITIONS MENTIONED BY THE CE, WRD., CHENNAI REGION, CHEPAUK, CHENNAI - 600005. LETTER NO.DB/T5(3) / F-03546 / ARASANKALANI VILLAGE / 2024 / DATED: 16.05.2024 ARE TO BE COMPLIED BY THE APPLICANT BEFORE ISSUING OF THE\nCOMPETENT AUTHORITY (LOCAL BODY)\nhe site should be raised to minimum level of (+)5.00 m (ie.,0.90 m below Top level of the Retaining wall of Ottiyambakkam Odai which is (+) 5.900 m) with filling varies from 0.650 m to 0.720 m with layers of not more than 0.30 metre depth to achieve required degree of compaction to the\no avoid inundation during the heavy rains. The all-round pavement level within site should not be less than (+) 5.00 m. The regular habitation should not be below MFL. Also, the applicant should provide emergency pumping operation for the seepage water, if it is proposed to have\natering arrangements during flood periods.\ndemarcate the boundary of their land especially on Western side before commencement of any developmental activities in the presence of Revenue authorities and WRD authorities. The applicant should also maintain the measurement of the Revenue records without any encroachments\nevenue records (FMB).\ne applicants, should not be altered / modified / changed to any others. Based on the records submitted by the applicants, the permission is granted. If any documents seem to be fake / manipulated / fabricated, in future the above permission will be cancelled without any correspondence.\nsponsible of genuinety of the documents submitted.\nallowed to inspect the site at any time, during execution and thereafter, if necessary. Advance intimation should be given to the WRD officers concerned before commencement of work.\nby the rules and regulation of the WRD from time to time. The applicants should also abide court of law of both State & Central Government from time to time.\nct at any time for the maintenance works / improvement works of the channels which are proposed to be carried out by WRD. The applicant should give an undertaking in writing to the effect that the above proposal will not obstruct in case any maintenance / improvement / development\nB], which are proposed to be carried out by WRD in future periodically.\nstruct any cross masonry across the Channel without prior permission of WRD. If any damages occurred to the Government Channel, the same should be restored to its Original condition at their own cost.\nconnection with the inundation aspect and does not deliver any rights to the applicants to encroach the WRD / Government Lands / river. The NOC for this site from the WRD is purely issued on the basis of inundation point of view.\nthe layout proposal by considering the suitable internal storm water drainage network drain as micro drains ie., Peripheral drain of size not less than 1.00 x 0.90 m having bed level (+) 4.100 m and Lateral drain of suitable size within the site as per site condition. The same should be\nnel, rainwater harvesting, roads with road side drain and sewerage treatment and its disposal and garbages / debris and other solid waste management as per norms in existence within the applicant's land according to existing rules in force and should get proper approval from competent\nic drainage (Treated or Untreated) should not be let into drain / channel / course at any cost and the debris and other materials should not be dumped into the drain / surplus course obstructing free flow of water. The applicants should make drainage network, at their own cost and the\nl storm water drainage / channel. There should not be any hindrance to the free flow of internal drain to downstream.\nce (not less than 3.00 m on Northern side) as per site condition as per the norms in existence and as per the rules in force of CMDA (as per the circular issued by the office of the Commissioner of Town & Country Planning, Chennai - 2 vide Roc.No.4367 / 2019-BA2 / Dated: 13.03.2019)\nuld not be any construction activities in future also, the CMDA should issue completion certificate only after obtaining compliance certificate NOC from WRD.\nms to be Ryotwari land which would be classified as Dry lands. Hence, these lands are to be converted into other zone from the agricultural zone by the competent authority. The applicants should get clearance certificate for this site from the Revenue department to make sure that the\nfrom the water body as well as confirming this proposed site boundaries.\npplicants' land should not let into the drain and for the disposal of the sewage water, suitable arrangements should be made for the same by the applicants, and as well as the construction materials / debris / garbages should not be dumped into the River / Eri / Channel / Pond at any cost.\nshould not be let into River / Eri / Channel / Pond, and the garbages, debris and construction materials should not be dumped into the River / Eri / Channel / Pond restricting the free flow of water.\nreceived from the applicants in respect to the ownership is purely of applicants' responsibility and it is only for reference purpose to this department. The legal validity of this document should be verified by the Development / Revenue authorities. The specific remarks on inundation are\nin respect to the physical location of land.\nthe above conditions, WRD reserves rights to withdraw the Technical opinion on inundation point of view to the above proposed site and in event, the applicants shall not be eligible for any compensation whatsoever and as well as legal entity.\nURE COMPLIANCE OF ALL THE CONDITIONS STIPULATE BY WRD, PWD IN THEIR LETTER NO.DB/T5(3) / F-03546 / ARASANKALANI VILLAGE / 2024 / DATED: 16.05.2024, AND SHALL OBTAIN A LETTER FROM WRD CONFIRMING THE COMPLIANCE OF THE CONDITIONS\nELEASE OF THE LAYOUT.\n(8) IN G.O.(Ms) No.18, MAWS DEPARTMENT DATED 04.02.2019 & AMENDMENTS APPROVED IN G.O.Ms.NO.16, MAWS (MAI) DEPARTMENT DATED 31.01.2020 AND PUBLISHED IN TNGG ISSUE No.41, DATED:31.01.2020:\nEA EXCLUDING ROAD, ADDITIONALLY, SHALL BE RESERVED FOR \"PUBLIC PURPOSE\". WITHIN THE ABOVE CEILING 0.5% OF AREA SHALL BE TRANSFERRED TO THE LOCAL BODY AND 0.5% OF AREA SHALL BE TRANSFERRED TO THE TANGEDCO OR TO THE\nHROUGH A REGISTERED GIFT DEED BEFORE THE ACTUAL SANCTION OF THE LAYOUT.\n(11)\nEMENTS TO THE SYSTEMS IN RESPECT OF ROAD, WATER SUPPLY, SEWERAGE, DRAINAGE OR ELECTRIC POWER SUPPLY THAT MAY BE REQUIRED AS ASSESSED BY THE CONCERNED AUTHORITY, NAMELY, THE LOCAL BODY AND TAMIL NADU ELECTRICITY\nHE APPLICANT.\nSIBLE FOR THE SHAPE, SIZE & DIMENSIONS OF THE SITE UNDER REFERENCE.\nCONDITIONS:\nILDING LINE TO BE LEFT AS PER THE RULE IN FORCE WHILE TAKING UP DEVELOPMENT IN EVERY PLOT.\nTHE LAYOUT APPROVED IS VALID SUBJECT\nTO OBTAINING SANCTION FROM THE LOCAL\nBODY CONCERNED.\nL BODY P.P.D 144\nNO :\nL.O 2024\nIFTED TO LOCAL BODY\nIFTED TO TANGEDCO APPROVED\nVIDE LETTER NO : LAYOUT-1 / 0052/ 2024\nDATE : 4 / 07/ 2024\nThis Planning Permission Issued under New Rule\nTNCDBR.2019 is subject to final outcome of the\nW.P(MD) No.8948 of 2019 and WMP (MD) OFFICE COPY\nNos. 6912 & 6913 of 2019.\nFOR CHIEF PLANNER (LAYOUT)\nCHENNAI METROPOLITAN\nDEVELOPMENT AUTHORITY",
         "True",
         null,
         null,
         null,
         "4 / 07/ 2024",
         "LAYOUT-1"
        ],
        [
         "148",
         "149",
         "149/2024",
         "Avadi Corporation",
         "Thirumullaivoyal",
         "https://www.cmdachennai.gov.in/pdfs/layouts/2024/149-2024.pdf",
         "149/2024",
         "2024/149.pdf",
         ": 2696 SQ.M\nTTA)\n: 963 SQ.M FILE NO.LAYOUT-1/0360/2023\nDED (1%) : 19 SQ.M\n: 10.0 SQ.M\n) : 9.0 SQ.M\n: 17 Nos.\nEXCLUDING SPLAY DIMENSIONS\nWERE HANDED OVER TO THE LOCAL BODY VIDE GIFT DEED\n) DOC.NO: 8580/2024, DATED:03.07.2024 @ SRO, AMBATTUR.\nLOW THE CONDITIONS MENTIONED BY THE CE, PWD/WRD, CHENNAI REGION, CHEPAUK, CHENNAI-5 IN LETTER NO.DB / T5(3) / 003464 / F- NOC (THIRUMULLAIVOYAL) 8053 / 2023 / DATED.\nMPLIED BY THE APPLICANT BEFORE ISSUING OF THE LAYOUT APPROVAL BY THE COMPETENT AUTHORITY (LOCAL BODY)\nith earth filling with proper compaction to the minimum level (+)24.550m (i.e.,)1,420m above the FTL of Ayyaneri tank which is (+) 23.130m. To protect the site from inundation during floods, the process of earth filling and compaction\nn 0.30 metre depth to achieve required degree of compaction for the depth from (+)1.070m to (+)1.190m depending upon the existing field level. Also, the applicants should provide emergency pumping operation for the seepage water, if\nas well as dewatering arrangements during flood periods. The all round pavement level within the site should not be less than (+)24.550m and the regular habitation should not be below MFL\nate the boundary of their land before commencement of any developmental activities in the presence of Revenue, Local body, WRD and especially Forest authorities concerned without fail and should not encroach the Government land /\ntained as it is in the Revenue records.\nnts, should not be altered / modified / changed to any others. Based on the records submitted by the applicants, the permission is granted. If any documents seem to be fake / manipulated / fabricated, in future the above permission will be\nence, the applicants are solely responsible of genuinety of the documents submitted.\nto inspect the site at any time, during execution and thereafter, if necessary. Advance intimation should be given to the WRD officers concerned before commencement of work.\nes and regulation of the WRD from time to time. The applicants should also abide court of law of both State & Central Government from time to time.\nction with the inundation aspect and does not deliver any rights to the applicants to encroach the WRD / Government Lands / river. The NOC for this site from the WRD is purely issued on the basis of inundation point of view.\nout proposal by considering the suitable internal storm water drainage network drain as micro drain of suitable size as per prevailing site conditions within the site. The same should be connected to the local drain / channel, rainwater\nnd sewerage treatment and its disposal and garbages / debris and other solid waste management as per norms in existence within the applicants' land according to existing rules in force and should get proper approval from competent\nage (Treated or Untreated) should not be let into drain / channel / course at any cost and the debris and other materials should not be dumped into the drain / surplus course obstructing free flow of water. The applicants should make\nthe same is to be connected to natural storm water drainage / channel. There should not be any hindrance to the free flow of internal drain to downstream.\nd be provided with in the site as per site condition as per the norms in existence and as per the rules in force of CMDA (as per the circular issued by the office of the Commissioner of Town & Country Planning, Chennai - 2 vide Roc. No.\nuring development and there should not be any construction activities in setback area in future also, the CMDA should issue completion certificate only after obtaining compliance certificate NOC from WRD.\nRyotwari land which would be classified as Dry lands. Hence, these lands are to be converted into other zone from the agricultural zone by the competent authority. The applicants should get clearance certificate for this site from the\ne site is not an encroached property from the water body as well as confirming this proposed site boundaries.\nland should not let into the drain and for the disposal of the sewage water, suitable arrangements should be made for the same by the applicants, and as well as the construction materials/debris/garbages should not be\ny cost.\nt be let into channel/river, and the garbages, debris and construction materials should not be dumped into the channel/river restricting the free flow of water.\nfrom the applicants in respect to the ownership is purely of applicant's responsibility and it is only for reference purpose to this department. The legal validity of this document should be verified by the Development / Revenue authorities.\nurely issued on technical grounds in respect to the physical location of land.\nove conditions, WRD reserves rights to withdraw the Technical opinion on inundation point of view to the above proposed site and in event, the applicants shall not be eligible for any compensation whatsoever and as well as legal entity.\ns) No.18, MAWS DEPARTMENT DATED 04.02.2019 & AMENDMENTS APPROVED IN G.O.Ms.No.16, MAWS (MAI) DEPARTMENT DATED 31.01.2020 AND PUBLISHED IN TNGG ISSUE No.41.DATED 31.01.2020\nING ROAD, ADDITIONALLY, SHALL BE RESERVED FOR \"PUBLIC PURPOSE\". WITHIN THE ABOVE CEILING 0.5% OF AREA SHALL BE TRANSFERRED TO THE LOCAL BODY AND 0.5% OF AREA SHALL BE TRANSFERRED TO THE TANGEDCO OR TO\nGH A REGISTERED GIFT DEED BEFORE THE ACTUAL SANCTION OF THE LAYOUT.\nTO THE SYSTEMS IN RESPECT OF ROAD, WATER SUPPLY, SEWERAGE, DRAINAGE OR ELECTRIC POWER SUPPLY THAT MAY BE REQUIRED AS ASSESSED BY THE CONCERNED AUTHORITY, NAMELY, THE LOCAL BODY AND TAMIL NADU\nY THE APPLICANT.\nLIANCE OF ALL THE CONDITIONS STIPULATED BY PWD IN THEIR LETTER NO.DB / T5(3) / 003464 / F- NOC (THIRUMULLAIVOYAL) 8053 / 2023 / DATED. 09.11.2023. OBTAIN A LETTER FROM PWD CONFIRMING THE COMPLIANCE OF THE CONDITIONS\nTHE LAYOUT.\nTHE SHAPE,SIZE & DIMENSIONS OF THE SITE UNDER REFERENCE.\nCONDITIONS:\nE TO BE LEFT AS PER THE RULE IN FORCE WHILE TAKING UP DEVELOPMENT\nTHE LAYOUT APPROVED IS VALID SUBJECT\nTO OBTAINING SANCTION FROM THE LOCAL\nBODY CONCERNED.\nY\nP.P.D 149\nLOCAL BODY\nNO :\nLOCAL BODY (FOR TANGEDCO) L.O 2024\nAPPROVED\nThis Planning Permission Issued under New Rule VIDE LETTER NO : LAYOUT-1/0360/2023\nTNCDBR.2019 is subject to final outcome of the\nW.P(MD) No.8948 of 2019 and WMP (MD) DATE : 11 / 07 / 2024\nNos. 6912 & 6913 of 2019.\nOFFICE COPY\nFOR CHIEF PLANNER (LAYOUT)\nCHENNAI METROPOLITAN\nDEVELOPMENT AUTHORITY\nARD-D, BLOCK No.40, OF THIRUMULLAIVOYAL VILLAGE.",
         "True",
         null,
         null,
         null,
         "11 / 07 / 2024",
         null
        ],
        [
         "149",
         "150",
         "150/2024",
         "Poonamallee PU",
         "Nemam - B",
         "https://www.cmdachennai.gov.in/pdfs/layouts/2024/150-2024.pdf",
         "150/2024",
         "2024/150.pdf",
         ": 3570 SQ.M FILE NO: LAYOUT-1/0136/2024\nTTA)\n: 1327 SQ.M\nIDED (1%) : 24 SQ.M\nL BODY (0.5%) : 12.0 SQ.M\nEDCO (0.5%) : 12.0 SQ.M\n: 18 Nos\n: 1 No\nEXCLUDING SPLAY DIMENSIONS\n) WERE HANDED OVER TO THE LOCAL BODY VIDE GIFT DEED\n) DOC.NO:9005/2024,DATED:24.06.2024 @ SRO,AVADI.\nS OF PWD VIDE THE CE, WRD, CHENNAI REGION, CHEPAUK, CHENNAI-5, LETTER NO.DB/T5(3) / F. 0661 NEMAM VILLAGE2216 / 2024 / DATED.18.03.2024 ARE TO BE COMPLIED BY THE APPLICANT BEFORE ISSUING OF THE LAYOUT APPROVAL BY\nCAL BODY).\nuld be raised to minimum level of (+)32.550 m (ie.,0.03 m above Crest Level of Korattur Anicut which is (+) 32.520 m), with filling varies from 1.100 m to 1.200 m with layers of not more than 0.30 metre depth to achieve required degree of compaction to the entire area of the applicant land to avoid\nround pavement level within site should not be less than (+)32.550 m. The regular habitation should not be below MFL. Also, the applicant should provide emergency pumping operation for the seepage water, if it is proposed to have basement floor and as well as dewatering arrangernents during flood\nthe boundary of their land especially on Northern side, Southern side and Eastern side before commencement of any developmental activities in the presence of Revenue authorities and WRD authorities. The applicant should also maintain the measurement of the Revenue records without any\ns per Revenue records (FMB).\ns, should not be altered / modified / changed to any others. Based on the records submitted by the applicants, the permission is granted. If any documents seem to be fake / manipulated / fabricated, in future the above permission will be cancelled without any correspondence. Hence, the applicants are\nments submitted.\ninspect the site at any time, during execution and thereafter, if necessary. Advance intimation should be given to the WRD officers concerned before commencement of work.\nand regulation of the WRD from time to time. The applicants should also abide court of law of both State & Central Government from time to time.\nime for the maintenance works / improvement works of the channels which are proposed to be carried out by WRD. The applicant should give an undertaking in writing to the effect that the above proposal will not obstruct in case any maintenance / improvement / development works as per Revenue\narried out by WRD in future periodically.\nross masonry across the Channel without prior permission of WRD. If any damages occurred to the Goverriment Channel, the same should be restored to its Original condition at their own cost.\nstretch abutting the applicant boundary on North - Eastern side should be marked as per FMB and monitored and maintained by the applicant at his own cost. The width of the Channel should be maintained without encroachments as per Revenue records and the hydraulic parameters of the Channel\nd make necessary periodical arrangements for free flow of water through the existing channel to the downside area within the proposed layout site. Also, the applicant should de-silt the Channel periodically and remove the obstruction then and there without any hindrance for free flow of water at his\ne completion of project also.\non with the inundation aspect and does not deliver any rights to the applicants to encroach the WRD / Government Lands / river. The NOC for this site from the WRD is purely issued on the basis of inundation point of view.\nt proposal by considering the suitable internal storm water drainage network drain as micro drains of suitable size within the site as per site condition. The same should be connected to the local drain / channel, rainwater harvesting, roads with road side drain and sewerage treatment and its disposal and\nagement as per norms in existence within the applicant's land according to existing rules in force and should get proper approval from competent authority without fail.\nge (Treated or Untreated) should not be let into drain/channel/ course at any cost and the debris and other materials should not be dumped into the drain / surplus course obstructing free flow of water. The applicants should make drainage network, at their own cost and the same is to be connected to\nere should not be any hindrance to the free flow of internal drain to downstream.\nsite condition as per the norms in existence and as per the rules in force of CMDA (as per the circular issued by the office of the Commissioner of Town & Country Planning, Chennai 2 vide Roc. No. 4367/2019-BA2/Dated: 13.03.2019) during development and there should not be any construction\nissue completion certificate only after obtaining compliance certificate NOC from WRD.\nrtificate for this site from the Revenue department to make sure that the site is not an encroached property from the water body as well as confirming this proposed site boundaries.\nland should not let into the drain and for the disposal of the sewage water, suitable arrangements should be made for the same by the applicants, and as well as the construction materials / debris / garbages should not be dumped into the River / Eri / Channel / Pond at any cost.\not be let into River / Eri / Channel / Pond, and the garbages, debris and construction materials should not be dumped into the River/Eri/Channel/ Pond restricting the free flow of water.\nrom the applicants in respect to the ownership is purely of applicants' responsibility and it is only for reference purpose to this department. The legal validity of this document should be verified by the Development / Revenue authorities. The specific remarks on inundation are purely issued on technical\nof land.\nve conditions, WRD reserves rights to withdraw the Technical opinion on inundation point of view to the above proposed site and in event, the applicants shall not be eligible for any compensation whatsoever and as well as legal entity.\nO.(Ms) No.18, MAWS DEPARTMENT DATED 04.02.2019 & AMENDMENTS APPROVED IN G.O.Ms.No.16, MAWS (MAI) DEPARTMENT DATED 31.01.2020 AND PUBLISHED IN TNGG ISSUE No.41.DATED 31.01.2020\nLUDING ROAD, ADDITIONALLY, SHALL BE RESERVED FOR \"PUBLIC PURPOSE\". WITHIN THE ABOVE CEILING 0.5% OF AREA SHALL BE TRANSFERRED TO THE LOCAL BODY AND 0.5% OF AREA SHALL BE TRANSFERRED TO THE TANGEDCO OR TO THE LOCAL BODY\nED GIFT DEED BEFORE THE ACTUAL SANCTION OF THE LAYOUT.\nTS TO THE SYSTEMS IN RESPECT OF ROAD, WATER SUPPLY, SEWERAGE, DRAINAGE OR ELECTRIC POWER SUPPLY THAT MAY BE REQUIRED AS ASSESSED BY THE CONCERNED AUTHORITY, NAMELY, THE LOCAL BODY AND TAMIL NADU ELECTRICITY BOARD,\n.\nOMPLIANCE OF ALL THE CONDITIONS STIPULATE BY PWD IN THEIR LETTER NO.DB/T5(3) / F. 0661 NEMAM VILLAGE 2216 / 2024 / DATED:18.03.2024 AND SHALL OBTAIN A LETTER FROM PWD CONFIRMING THE COMPLIANCE OF THE CONDITIONS BEFORE THE\nOUT.\nOR THE SHAPE,SIZE & DIMENSIONS OF THE SITE UNDER REFERENCE.\nLINE TO BE LEFT AS PER THE RULE IN FORCE WHILE TAKING UP DEVELOPMENT IN EVERY PLOT. CONDITION:\nTHE LAYOUT APPROVED IS VALID SUBJECT\nTO OBTAINING SANCTION FROM THE LOCAL\nBODY CONCERNED.\nBODY\nP.P.D 150\nNO :\nTO LOCAL BODY\nL.O 2024\nTO LOCAL BODY (FOR TANGEDCO)\nThis Planning Permission Issued under New Rule\nAPPROVED\nTNCDBR.2019 is subject to final outcome of the\nW.P(MD) No.8948 of 2019 and WMP (MD)\nNos. 6912 & 6913 of 2019. VIDE LETTER NO : LAYOUT-1 / 136 / 2024\nDATE : 11 / 07 / 2024\nOFFICE COPY\nFOR CHIEF PLANNER (LAYOUT)\nCHENNAI METROPOLITAN\nDEVELOPMENT AUTHORITY",
         "True",
         null,
         null,
         null,
         "11 / 07 / 2024",
         "LAYOUT-1/0136/2024"
        ],
        [
         "156",
         "157",
         "157/2024",
         "Poonamallee PU",
         "Vayalanallur-A",
         "https://www.cmdachennai.gov.in/pdfs/layouts/2024/157-2024.pdf",
         "157/2024",
         "2024/157.pdf",
         "ITE EXTENT\n(AS PER DOCUMENT)\n: 5949 SQ.M\nOAD AREA : 1907 SQ.M\nUBLIC PURPOSE PROVIDED (1%) : 40 SQ.M\n-1 HANDED OVER TO THE LOCAL BODY (0.5%) : 20.0 SQ.M\n-2 HANDED OVER TO THE TANGEDCO (0.5%) : 20.0 SQ.M\nO. OF PLOTS : 38 Nos\nOTE:\n. SPLAY - 1.5M x 1.5M\n. MEASUREMENTS ARE INDICATED EXCLUDING SPLAY DIMENSIONS\n. ROAD AREA\nPUBLIC P U R P O S E - 1 WERE HANDED OVER TO THE LOCAL BODY VIDE GIFT DEED\nPUBLIC P U R P O S E - 2 DOC.NO:4792/2024, DATED:12.07.2024 @ SRO, POONAMALLEE.\n(RESERVED FOR TANGEDCO)\nCONDITIONS\n(I)THE APPLICANT SHOULD FOLLOW THE CONDITIONS MENTIONED BY THE CE, PWD/WRD, CHENNAI REGION, CHEPAUK, CHENNAI-5 IN LETTER NO.DB/T5(3)/F- NOC7541 VAYALANALLUR A VILLAGE 0906 / 2024 / DATED.28.02.2024, WHICH\nARE TO BE COMPLIED BY THE APPLICANT BEFORE ISSUING OF THE LAYOUT APPROVAL BY THE COMPETENT AUTHORITY (LOCAL BODY)\n(cid:17)(cid:3)(cid:55)(cid:75)(cid:72)(cid:3)(cid:68)(cid:83)(cid:83)(cid:79)(cid:76)(cid:70)(cid:68)(cid:81)(cid:87)(cid:86)(cid:10)(cid:3)(cid:79)(cid:68)(cid:81)(cid:71)(cid:3)(cid:86)(cid:75)(cid:82)(cid:88)(cid:79)(cid:71)(cid:3)(cid:69)(cid:72)(cid:3)(cid:73)(cid:76)(cid:79)(cid:79)(cid:72)(cid:71)(cid:3)(cid:90)(cid:76)(cid:87)(cid:75)(cid:3)(cid:72)(cid:68)(cid:85)(cid:87)(cid:75)(cid:3)(cid:73)(cid:76)(cid:79)(cid:79)(cid:76)(cid:81)(cid:74)(cid:3)(cid:90)(cid:76)(cid:87)(cid:75)(cid:3)(cid:83)(cid:85)(cid:82)(cid:83)(cid:72)(cid:85)(cid:3)(cid:70)(cid:82)(cid:80)(cid:83)(cid:68)(cid:70)(cid:87)(cid:76)(cid:82)(cid:81)(cid:3)(cid:87)(cid:82)(cid:3)(cid:87)(cid:75)(cid:72)(cid:3)(cid:80)(cid:76)(cid:81)(cid:76)(cid:80)(cid:88)(cid:80)(cid:3)(cid:79)(cid:72)(cid:89)(cid:72)(cid:79)(cid:3)(cid:82)(cid:73)(cid:3)(cid:11)(cid:14)(cid:12)24(cid:17)120(cid:80)(cid:3)(cid:11)(cid:76)(cid:17)(cid:72)(cid:17)(cid:15)(cid:12)(cid:3)1(cid:17)02(cid:80)(cid:3)(cid:68)(cid:69)(cid:82)(cid:89)(cid:72)(cid:3)(cid:87)(cid:75)(cid:72)(cid:3)(cid:70)(cid:85)(cid:72)(cid:86)(cid:87)(cid:3)(cid:79)(cid:72)(cid:89)(cid:72)(cid:79)(cid:3)(cid:82)(cid:73)(cid:3)(cid:87)(cid:75)(cid:72)(cid:3)(cid:58)(cid:72)(cid:76)(cid:85)(cid:3)(cid:76)(cid:81)(cid:3)(cid:57)(cid:68)(cid:92)(cid:68)(cid:79)(cid:68)(cid:81)(cid:68)(cid:79)(cid:79)(cid:88)(cid:85)(cid:3)(cid:55)(cid:68)(cid:81)(cid:78)(cid:3)(cid:68)(cid:87)(cid:3)(cid:11)(cid:14)(cid:12)23(cid:17)100(cid:80)(cid:3)(cid:87)(cid:82)(cid:3)(cid:83)(cid:85)(cid:82)(cid:87)(cid:72)(cid:70)(cid:87)(cid:3)(cid:87)(cid:75)(cid:72)(cid:3)(cid:86)(cid:76)(cid:87)(cid:72)(cid:3)(cid:73)(cid:85)(cid:82)(cid:80)(cid:3)(cid:76)(cid:81)(cid:88)(cid:81)(cid:71)(cid:68)(cid:87)(cid:76)(cid:82)(cid:81)(cid:3)(cid:71)(cid:88)(cid:85)(cid:76)(cid:81)(cid:74)(cid:3)(cid:73)(cid:79)(cid:82)(cid:82)(cid:71)(cid:86)(cid:17)(cid:3)(cid:55)(cid:75)(cid:72)(cid:3)(cid:83)(cid:85)(cid:82)(cid:70)(cid:72)(cid:86)(cid:86)(cid:3)(cid:82)(cid:73)(cid:3)(cid:72)(cid:68)(cid:85)(cid:87)(cid:75)(cid:3)(cid:73)(cid:76)(cid:79)(cid:79)(cid:76)(cid:81)(cid:74)(cid:3)(cid:68)(cid:81)(cid:71)(cid:3)(cid:70)(cid:82)(cid:80)(cid:83)(cid:68)(cid:70)(cid:87)(cid:76)(cid:82)(cid:81)\n(cid:86)(cid:75)(cid:82)(cid:88)(cid:79)(cid:71)(cid:3)(cid:69)(cid:72)(cid:3)(cid:71)(cid:82)(cid:81)(cid:72)(cid:3)(cid:76)(cid:81)(cid:3)(cid:79)(cid:68)(cid:92)(cid:72)(cid:85)(cid:86)(cid:3)(cid:82)(cid:73)(cid:3)(cid:81)(cid:82)(cid:87)(cid:3)(cid:80)(cid:82)(cid:85)(cid:72)(cid:3)(cid:87)(cid:75)(cid:68)(cid:81)(cid:3)0(cid:17)30(cid:80)(cid:72)(cid:87)(cid:85)(cid:72)(cid:3)(cid:71)(cid:72)(cid:83)(cid:87)(cid:75)(cid:3)(cid:87)(cid:82)(cid:3)(cid:68)(cid:70)(cid:75)(cid:76)(cid:72)(cid:89)(cid:72)(cid:3)(cid:85)(cid:72)(cid:84)(cid:88)(cid:76)(cid:85)(cid:72)(cid:71)(cid:3)(cid:71)(cid:72)(cid:74)(cid:85)(cid:72)(cid:72)(cid:3)(cid:82)(cid:73)(cid:3)(cid:70)(cid:82)(cid:80)(cid:83)(cid:68)(cid:70)(cid:87)(cid:76)(cid:82)(cid:81)(cid:3)(cid:73)(cid:82)(cid:85)(cid:3)(cid:87)(cid:75)(cid:72)(cid:3)(cid:71)(cid:72)(cid:83)(cid:87)(cid:75)(cid:3)(cid:73)(cid:85)(cid:82)(cid:80)(cid:3)0(cid:17)96(cid:80)(cid:3)(cid:87)(cid:82)(cid:3)1(cid:17)06(cid:80)(cid:3)(cid:71)(cid:72)(cid:83)(cid:72)(cid:81)(cid:71)(cid:76)(cid:81)(cid:74)(cid:3)(cid:88)(cid:83)(cid:82)(cid:81)(cid:3)(cid:87)(cid:75)(cid:72)(cid:3)(cid:72)(cid:91)(cid:76)(cid:86)(cid:87)(cid:76)(cid:81)(cid:74)(cid:3)(cid:73)(cid:76)(cid:72)(cid:79)(cid:71)(cid:3)(cid:79)(cid:72)(cid:89)(cid:72)(cid:79)(cid:86)(cid:17)(cid:3)(cid:36)(cid:79)(cid:86)(cid:82)(cid:15)(cid:3)(cid:87)(cid:75)(cid:72)(cid:3)(cid:68)(cid:83)(cid:83)(cid:79)(cid:76)(cid:70)(cid:68)(cid:81)(cid:87)(cid:86)(cid:3)(cid:86)(cid:75)(cid:82)(cid:88)(cid:79)(cid:71)(cid:3)(cid:83)(cid:85)(cid:82)(cid:89)(cid:76)(cid:71)(cid:72)(cid:3)(cid:72)(cid:80)(cid:72)(cid:85)(cid:74)(cid:72)(cid:81)(cid:70)(cid:92)(cid:3)(cid:83)(cid:88)(cid:80)(cid:83)(cid:76)(cid:81)(cid:74)(cid:3)(cid:82)(cid:83)(cid:72)(cid:85)(cid:68)(cid:87)(cid:76)(cid:82)(cid:81)(cid:3)(cid:73)(cid:82)(cid:85)(cid:3)(cid:87)(cid:75)(cid:72)(cid:3)(cid:86)(cid:72)(cid:72)(cid:83)(cid:68)(cid:74)(cid:72)(cid:3)(cid:90)(cid:68)(cid:87)(cid:72)(cid:85)(cid:15)(cid:3)(cid:76)(cid:73)(cid:3)(cid:76)(cid:87)(cid:3)(cid:76)(cid:86)(cid:3)(cid:83)(cid:85)(cid:82)(cid:83)(cid:82)(cid:86)(cid:72)(cid:71)(cid:3)(cid:87)(cid:82)(cid:3)(cid:75)(cid:68)(cid:89)(cid:72)\n(cid:69)(cid:68)(cid:86)(cid:72)(cid:80)(cid:72)(cid:81)(cid:87)(cid:3)(cid:73)(cid:79)(cid:82)(cid:82)(cid:85)(cid:3)(cid:68)(cid:81)(cid:71)(cid:3)(cid:68)(cid:86)(cid:3)(cid:90)(cid:72)(cid:79)(cid:79)(cid:3)(cid:68)(cid:86)(cid:3)(cid:71)(cid:72)(cid:90)(cid:68)(cid:87)(cid:72)(cid:85)(cid:76)(cid:81)(cid:74)(cid:3)(cid:68)(cid:85)(cid:85)(cid:68)(cid:81)(cid:74)(cid:72)(cid:80)(cid:72)(cid:81)(cid:87)(cid:86)(cid:3)(cid:71)(cid:88)(cid:85)(cid:76)(cid:81)(cid:74)(cid:3)(cid:73)(cid:79)(cid:82)(cid:82)(cid:71)(cid:3)(cid:83)(cid:72)(cid:85)(cid:76)(cid:82)(cid:71)(cid:86)(cid:17)(cid:3)(cid:55)(cid:75)(cid:72)(cid:3)(cid:68)(cid:79)(cid:79)(cid:16)(cid:85)(cid:82)(cid:88)(cid:81)(cid:71)(cid:3)(cid:83)(cid:68)(cid:89)(cid:72)(cid:80)(cid:72)(cid:81)(cid:87)(cid:3)(cid:79)(cid:72)(cid:89)(cid:72)(cid:79)(cid:3)(cid:90)(cid:76)(cid:87)(cid:75)(cid:76)(cid:81)(cid:3)(cid:87)(cid:75)(cid:72)(cid:3)(cid:86)(cid:76)(cid:87)(cid:72)(cid:3)(cid:86)(cid:75)(cid:82)(cid:88)(cid:79)(cid:71)(cid:3)(cid:81)(cid:82)(cid:87)(cid:3)(cid:69)(cid:72)(cid:3)(cid:79)(cid:72)(cid:86)(cid:86)(cid:3)(cid:87)(cid:75)(cid:68)(cid:81)(cid:3)(cid:11)(cid:14)(cid:12)24(cid:17)120(cid:80)(cid:3)(cid:68)(cid:81)(cid:71)(cid:3)(cid:87)(cid:75)(cid:72)(cid:3)(cid:85)(cid:72)(cid:74)(cid:88)(cid:79)(cid:68)(cid:85)(cid:3)(cid:75)(cid:68)(cid:69)(cid:76)(cid:87)(cid:68)(cid:87)(cid:76)(cid:82)(cid:81)(cid:3)(cid:86)(cid:75)(cid:82)(cid:88)(cid:79)(cid:71)(cid:3)(cid:81)(cid:82)(cid:87)(cid:3)(cid:69)(cid:72)(cid:3)(cid:69)(cid:72)(cid:79)(cid:82)(cid:90)(cid:3)(cid:48)(cid:41)(cid:47)(cid:17)\n2(cid:17)(cid:3)(cid:55)(cid:75)(cid:72)(cid:3)(cid:68)(cid:83)(cid:83)(cid:79)(cid:76)(cid:70)(cid:68)(cid:81)(cid:87)(cid:86)(cid:3)(cid:86)(cid:75)(cid:82)(cid:88)(cid:79)(cid:71)(cid:3)(cid:70)(cid:79)(cid:72)(cid:68)(cid:85)(cid:79)(cid:92)(cid:3)(cid:71)(cid:72)(cid:80)(cid:68)(cid:85)(cid:70)(cid:68)(cid:87)(cid:72)(cid:3)(cid:69)(cid:82)(cid:88)(cid:81)(cid:71)(cid:68)(cid:85)(cid:92)(cid:3)(cid:82)(cid:73)(cid:3)(cid:87)(cid:75)(cid:72)(cid:76)(cid:85)(cid:3)(cid:79)(cid:68)(cid:81)(cid:71)(cid:3)(cid:69)(cid:72)(cid:73)(cid:82)(cid:85)(cid:72)(cid:3)(cid:70)(cid:82)(cid:80)(cid:80)(cid:72)(cid:81)(cid:70)(cid:72)(cid:80)(cid:72)(cid:81)(cid:87)(cid:3)(cid:82)(cid:73)(cid:3)(cid:68)(cid:81)(cid:92)(cid:3)(cid:71)(cid:72)(cid:89)(cid:72)(cid:79)(cid:82)(cid:83)(cid:80)(cid:72)(cid:81)(cid:87)(cid:68)(cid:79)(cid:3)(cid:68)(cid:70)(cid:87)(cid:76)(cid:89)(cid:76)(cid:87)(cid:76)(cid:72)(cid:86)(cid:3)(cid:76)(cid:81)(cid:3)(cid:87)(cid:75)(cid:72)(cid:3)(cid:83)(cid:85)(cid:72)(cid:86)(cid:72)(cid:81)(cid:70)(cid:72)(cid:3)(cid:82)(cid:73)(cid:3)(cid:53)(cid:72)(cid:89)(cid:72)(cid:81)(cid:88)(cid:72)(cid:15)(cid:3)(cid:47)(cid:82)(cid:70)(cid:68)(cid:79)(cid:3)(cid:69)(cid:82)(cid:71)(cid:92)(cid:3)(cid:68)(cid:81)(cid:71)(cid:3)(cid:58)(cid:53)(cid:39)(cid:3)(cid:68)(cid:88)(cid:87)(cid:75)(cid:82)(cid:85)(cid:76)(cid:87)(cid:76)(cid:72)(cid:86)(cid:3)(cid:70)(cid:82)(cid:81)(cid:70)(cid:72)(cid:85)(cid:81)(cid:72)(cid:71)(cid:3)(cid:90)(cid:76)(cid:87)(cid:75)(cid:82)(cid:88)(cid:87)(cid:3)(cid:73)(cid:68)(cid:76)(cid:79)(cid:3)(cid:68)(cid:81)(cid:71)(cid:3)(cid:86)(cid:75)(cid:82)(cid:88)(cid:79)(cid:71)(cid:3)(cid:81)(cid:82)(cid:87)(cid:3)(cid:72)(cid:81)(cid:70)(cid:85)(cid:82)(cid:68)(cid:70)(cid:75)(cid:3)(cid:87)(cid:75)(cid:72)(cid:3)(cid:42)(cid:82)(cid:89)(cid:72)(cid:85)(cid:81)(cid:80)(cid:72)(cid:81)(cid:87)(cid:3)(cid:79)(cid:68)(cid:81)(cid:71)(cid:3)(cid:76)(cid:81)(cid:3)(cid:54)(cid:41)(cid:17)(cid:49)(cid:82)(cid:17)298(cid:18)7(cid:3)(cid:9)(cid:3)8(cid:3)(cid:68)(cid:81)(cid:71)(cid:3)(cid:87)(cid:75)(cid:72)(cid:3)(cid:86)(cid:68)(cid:80)(cid:72)(cid:3)(cid:86)(cid:75)(cid:82)(cid:88)(cid:79)(cid:71)\n(cid:69)(cid:72)(cid:3)(cid:80)(cid:68)(cid:76)(cid:81)(cid:87)(cid:68)(cid:76)(cid:81)(cid:72)(cid:71)(cid:3)(cid:68)(cid:86)(cid:3)(cid:76)(cid:87)(cid:3)(cid:76)(cid:86)(cid:3)(cid:76)(cid:81)(cid:3)(cid:87)(cid:75)(cid:72)(cid:3)(cid:53)(cid:72)(cid:89)(cid:72)(cid:81)(cid:88)(cid:72)(cid:3)(cid:85)(cid:72)(cid:70)(cid:82)(cid:85)(cid:71)(cid:86)(cid:17)\n3(cid:17)(cid:3)(cid:55)(cid:75)(cid:72)(cid:3)(cid:83)(cid:72)(cid:85)(cid:80)(cid:76)(cid:86)(cid:86)(cid:76)(cid:82)(cid:81)(cid:3)(cid:74)(cid:85)(cid:68)(cid:81)(cid:87)(cid:72)(cid:71)(cid:3)(cid:87)(cid:82)(cid:3)(cid:87)(cid:75)(cid:72)(cid:3)(cid:68)(cid:83)(cid:83)(cid:79)(cid:76)(cid:70)(cid:68)(cid:81)(cid:87)(cid:86)(cid:15)(cid:3)(cid:86)(cid:75)(cid:82)(cid:88)(cid:79)(cid:71)(cid:3)(cid:81)(cid:82)(cid:87)(cid:3)(cid:69)(cid:72)(cid:3)(cid:68)(cid:79)(cid:87)(cid:72)(cid:85)(cid:72)(cid:71)(cid:3)(cid:18)(cid:3)(cid:80)(cid:82)(cid:71)(cid:76)(cid:73)(cid:76)(cid:72)(cid:71)(cid:3)(cid:18)(cid:3)(cid:70)(cid:75)(cid:68)(cid:81)(cid:74)(cid:72)(cid:71)(cid:3)(cid:87)(cid:82)(cid:3)(cid:68)(cid:81)(cid:92)(cid:3)(cid:82)(cid:87)(cid:75)(cid:72)(cid:85)(cid:86)(cid:17)(cid:3)(cid:37)(cid:68)(cid:86)(cid:72)(cid:71)(cid:3)(cid:82)(cid:81)(cid:3)(cid:87)(cid:75)(cid:72)(cid:3)(cid:85)(cid:72)(cid:70)(cid:82)(cid:85)(cid:71)(cid:86)(cid:3)(cid:86)(cid:88)(cid:69)(cid:80)(cid:76)(cid:87)(cid:87)(cid:72)(cid:71)(cid:3)(cid:69)(cid:92)(cid:3)(cid:87)(cid:75)(cid:72)(cid:3)(cid:68)(cid:83)(cid:83)(cid:79)(cid:76)(cid:70)(cid:68)(cid:81)(cid:87)(cid:86)(cid:15)(cid:3)(cid:87)(cid:75)(cid:72)(cid:3)(cid:83)(cid:72)(cid:85)(cid:80)(cid:76)(cid:86)(cid:86)(cid:76)(cid:82)(cid:81)(cid:3)(cid:76)(cid:86)(cid:3)(cid:74)(cid:85)(cid:68)(cid:81)(cid:87)(cid:72)(cid:71)(cid:17)(cid:3)(cid:44)(cid:73)(cid:3)(cid:68)(cid:81)(cid:92)(cid:3)(cid:71)(cid:82)(cid:70)(cid:88)(cid:80)(cid:72)(cid:81)(cid:87)(cid:86)(cid:3)(cid:86)(cid:72)(cid:72)(cid:80)(cid:3)(cid:87)(cid:82)(cid:3)(cid:69)(cid:72)(cid:3)(cid:73)(cid:68)(cid:78)(cid:72)(cid:3)(cid:18)(cid:3)(cid:80)(cid:68)(cid:81)(cid:76)(cid:83)(cid:88)(cid:79)(cid:68)(cid:87)(cid:72)(cid:71)(cid:18)(cid:73)(cid:68)(cid:69)(cid:85)(cid:76)(cid:70)(cid:68)(cid:87)(cid:72)(cid:71)(cid:15)(cid:3)(cid:76)(cid:81)(cid:3)(cid:73)(cid:88)(cid:87)(cid:88)(cid:85)(cid:72)(cid:3)(cid:87)(cid:75)(cid:72)(cid:3)(cid:68)(cid:69)(cid:82)(cid:89)(cid:72)(cid:3)(cid:83)(cid:72)(cid:85)(cid:80)(cid:76)(cid:86)(cid:86)(cid:76)(cid:82)(cid:81)(cid:3)(cid:90)(cid:76)(cid:79)(cid:79)(cid:3)(cid:69)(cid:72)(cid:3)(cid:70)(cid:68)(cid:81)(cid:70)(cid:72)(cid:79)(cid:79)(cid:72)(cid:71)(cid:3)(cid:90)(cid:76)(cid:87)(cid:75)(cid:82)(cid:88)(cid:87)\n(cid:68)(cid:81)(cid:92)(cid:3)(cid:70)(cid:82)(cid:85)(cid:85)(cid:72)(cid:86)(cid:83)(cid:82)(cid:81)(cid:71)(cid:72)(cid:81)(cid:70)(cid:72)(cid:17)(cid:3)(cid:43)(cid:72)(cid:81)(cid:70)(cid:72)(cid:15)(cid:3)(cid:87)(cid:75)(cid:72)(cid:3)(cid:68)(cid:83)(cid:83)(cid:79)(cid:76)(cid:70)(cid:68)(cid:81)(cid:87)(cid:86)(cid:3)(cid:68)(cid:85)(cid:72)(cid:3)(cid:86)(cid:82)(cid:79)(cid:72)(cid:79)(cid:92)(cid:3)(cid:85)(cid:72)(cid:86)(cid:83)(cid:82)(cid:81)(cid:86)(cid:76)(cid:69)(cid:79)(cid:72)(cid:3)(cid:82)(cid:73)(cid:3)(cid:74)(cid:72)(cid:81)(cid:88)(cid:76)(cid:81)(cid:72)(cid:87)(cid:92)(cid:3)(cid:82)(cid:73)(cid:3)(cid:87)(cid:75)(cid:72)(cid:3)(cid:71)(cid:82)(cid:70)(cid:88)(cid:80)(cid:72)(cid:81)(cid:87)(cid:86)(cid:3)(cid:86)(cid:88)(cid:69)(cid:80)(cid:76)(cid:87)(cid:87)(cid:72)(cid:71)(cid:17)\n4(cid:17)(cid:3)(cid:55)(cid:75)(cid:72)(cid:3)(cid:58)(cid:53)(cid:39)(cid:3)(cid:82)(cid:73)(cid:73)(cid:76)(cid:70)(cid:72)(cid:85)(cid:86)(cid:3)(cid:86)(cid:75)(cid:82)(cid:88)(cid:79)(cid:71)(cid:3)(cid:69)(cid:72)(cid:3)(cid:68)(cid:79)(cid:79)(cid:82)(cid:90)(cid:72)(cid:71)(cid:3)(cid:87)(cid:82)(cid:3)(cid:76)(cid:81)(cid:86)(cid:83)(cid:72)(cid:70)(cid:87)(cid:3)(cid:87)(cid:75)(cid:72)(cid:3)(cid:86)(cid:76)(cid:87)(cid:72)(cid:3)(cid:68)(cid:87)(cid:3)(cid:68)(cid:81)(cid:92)(cid:3)(cid:87)(cid:76)(cid:80)(cid:72)(cid:15)(cid:3)(cid:71)(cid:88)(cid:85)(cid:76)(cid:81)(cid:74)(cid:3)(cid:72)(cid:91)(cid:72)(cid:70)(cid:88)(cid:87)(cid:76)(cid:82)(cid:81)(cid:3)(cid:68)(cid:81)(cid:71)(cid:3)(cid:87)(cid:75)(cid:72)(cid:85)(cid:72)(cid:68)(cid:73)(cid:87)(cid:72)(cid:85)(cid:15)(cid:3)(cid:76)(cid:73)(cid:3)(cid:81)(cid:72)(cid:70)(cid:72)(cid:86)(cid:86)(cid:68)(cid:85)(cid:92)(cid:17)(cid:3)(cid:36)(cid:71)(cid:89)(cid:68)(cid:81)(cid:70)(cid:72)(cid:3)(cid:76)(cid:81)(cid:87)(cid:76)(cid:80)(cid:68)(cid:87)(cid:76)(cid:82)(cid:81)(cid:3)(cid:86)(cid:75)(cid:82)(cid:88)(cid:79)(cid:71)(cid:3)(cid:69)(cid:72)(cid:3)(cid:74)(cid:76)(cid:89)(cid:72)(cid:81)(cid:3)(cid:87)(cid:82)(cid:3)(cid:87)(cid:75)(cid:72)(cid:3)(cid:58)(cid:53)(cid:39)(cid:3)(cid:82)(cid:73)(cid:73)(cid:76)(cid:70)(cid:72)(cid:85)(cid:86)(cid:3)(cid:70)(cid:82)(cid:81)(cid:70)(cid:72)(cid:85)(cid:81)(cid:72)(cid:71)(cid:3)(cid:69)(cid:72)(cid:73)(cid:82)(cid:85)(cid:72)(cid:3)(cid:70)(cid:82)(cid:80)(cid:80)(cid:72)(cid:81)(cid:70)(cid:72)(cid:80)(cid:72)(cid:81)(cid:87)(cid:3)(cid:82)(cid:73)(cid:3)(cid:90)(cid:82)(cid:85)(cid:78)(cid:17)\n5(cid:17)(cid:3)(cid:55)(cid:75)(cid:72)(cid:3)(cid:68)(cid:83)(cid:83)(cid:79)(cid:76)(cid:70)(cid:68)(cid:81)(cid:87)(cid:86)(cid:3)(cid:86)(cid:75)(cid:82)(cid:88)(cid:79)(cid:71)(cid:3)(cid:68)(cid:69)(cid:76)(cid:71)(cid:72)(cid:3)(cid:69)(cid:92)(cid:3)(cid:87)(cid:75)(cid:72)(cid:3)(cid:85)(cid:88)(cid:79)(cid:72)(cid:86)(cid:3)(cid:68)(cid:81)(cid:71)(cid:3)(cid:85)(cid:72)(cid:74)(cid:88)(cid:79)(cid:68)(cid:87)(cid:76)(cid:82)(cid:81)(cid:3)(cid:82)(cid:73)(cid:3)(cid:87)(cid:75)(cid:72)(cid:3)(cid:58)(cid:53)(cid:39)(cid:3)(cid:73)(cid:85)(cid:82)(cid:80)(cid:3)(cid:87)(cid:76)(cid:80)(cid:72)(cid:3)(cid:87)(cid:82)(cid:3)(cid:87)(cid:76)(cid:80)(cid:72)(cid:17)(cid:3)(cid:55)(cid:75)(cid:72)(cid:3)(cid:68)(cid:83)(cid:83)(cid:79)(cid:76)(cid:70)(cid:68)(cid:81)(cid:87)(cid:86)(cid:3)(cid:86)(cid:75)(cid:82)(cid:88)(cid:79)(cid:71)(cid:3)(cid:68)(cid:79)(cid:86)(cid:82)(cid:3)(cid:68)(cid:69)(cid:76)(cid:71)(cid:72)(cid:3)(cid:70)(cid:82)(cid:88)(cid:85)(cid:87)(cid:3)(cid:82)(cid:73)(cid:3)(cid:79)(cid:68)(cid:90)(cid:3)(cid:82)(cid:73)(cid:3)(cid:69)(cid:82)(cid:87)(cid:75)(cid:3)(cid:54)(cid:87)(cid:68)(cid:87)(cid:72)(cid:3)(cid:9)(cid:3)(cid:38)(cid:72)(cid:81)(cid:87)(cid:85)(cid:68)(cid:79)(cid:3)(cid:42)(cid:82)(cid:89)(cid:72)(cid:85)(cid:81)(cid:80)(cid:72)(cid:81)(cid:87)(cid:3)(cid:73)(cid:85)(cid:82)(cid:80)(cid:3)(cid:87)(cid:76)(cid:80)(cid:72)(cid:3)(cid:87)(cid:82)(cid:3)(cid:87)(cid:76)(cid:80)(cid:72)(cid:17)\n6(cid:17)(cid:3)(cid:58)(cid:53)(cid:39)(cid:3)(cid:76)(cid:86)(cid:3)(cid:74)(cid:76)(cid:89)(cid:76)(cid:81)(cid:74)(cid:3)(cid:82)(cid:83)(cid:76)(cid:81)(cid:76)(cid:82)(cid:81)(cid:3)(cid:82)(cid:81)(cid:79)(cid:92)(cid:3)(cid:76)(cid:81)(cid:3)(cid:70)(cid:82)(cid:81)(cid:81)(cid:72)(cid:70)(cid:87)(cid:76)(cid:82)(cid:81)(cid:3)(cid:90)(cid:76)(cid:87)(cid:75)(cid:3)(cid:87)(cid:75)(cid:72)(cid:3)(cid:76)(cid:81)(cid:88)(cid:81)(cid:71)(cid:68)(cid:87)(cid:76)(cid:82)(cid:81)(cid:3)(cid:68)(cid:86)(cid:83)(cid:72)(cid:70)(cid:87)(cid:3)(cid:68)(cid:81)(cid:71)(cid:3)(cid:71)(cid:82)(cid:72)(cid:86)(cid:3)(cid:81)(cid:82)(cid:87)(cid:3)(cid:71)(cid:72)(cid:79)(cid:76)(cid:89)(cid:72)(cid:85)(cid:3)(cid:68)(cid:81)(cid:92)(cid:3)(cid:85)(cid:76)(cid:74)(cid:75)(cid:87)(cid:86)(cid:3)(cid:87)(cid:82)(cid:3)(cid:87)(cid:75)(cid:72)(cid:3)(cid:68)(cid:83)(cid:83)(cid:79)(cid:76)(cid:70)(cid:68)(cid:81)(cid:87)(cid:86)(cid:3)(cid:87)(cid:82)(cid:3)(cid:72)(cid:81)(cid:70)(cid:85)(cid:82)(cid:68)(cid:70)(cid:75)(cid:3)(cid:87)(cid:75)(cid:72)(cid:3)(cid:58)(cid:53)(cid:39)(cid:18)(cid:3)(cid:42)(cid:82)(cid:89)(cid:72)(cid:85)(cid:81)(cid:80)(cid:72)(cid:81)(cid:87)(cid:3)(cid:47)(cid:68)(cid:81)(cid:71)(cid:86)(cid:3)(cid:18)(cid:3)(cid:85)(cid:76)(cid:89)(cid:72)(cid:85)(cid:17)(cid:3)(cid:55)(cid:75)(cid:72)(cid:3)(cid:49)(cid:50)(cid:38)(cid:3)(cid:73)(cid:82)(cid:85)(cid:3)(cid:87)(cid:75)(cid:76)(cid:86)(cid:3)(cid:86)(cid:76)(cid:87)(cid:72)(cid:3)(cid:73)(cid:85)(cid:82)(cid:80)(cid:3)(cid:87)(cid:75)(cid:72)(cid:3)(cid:58)(cid:53)(cid:39)(cid:3)(cid:76)(cid:86)(cid:3)(cid:83)(cid:88)(cid:85)(cid:72)(cid:79)(cid:92)(cid:3)(cid:76)(cid:86)(cid:86)(cid:88)(cid:72)(cid:71)(cid:3)(cid:82)(cid:81)(cid:3)(cid:87)(cid:75)(cid:72)(cid:3)(cid:69)(cid:68)(cid:86)(cid:76)(cid:86)(cid:3)(cid:82)(cid:73)(cid:3)(cid:76)(cid:81)(cid:88)(cid:81)(cid:71)(cid:68)(cid:87)(cid:76)(cid:82)(cid:81)(cid:3)(cid:83)(cid:82)(cid:76)(cid:81)(cid:87)(cid:3)(cid:82)(cid:73)(cid:3)(cid:89)(cid:76)(cid:72)(cid:90)(cid:17)\n7(cid:17)(cid:55)(cid:75)(cid:72)(cid:3)(cid:68)(cid:83)(cid:83)(cid:79)(cid:76)(cid:70)(cid:68)(cid:81)(cid:87)(cid:3)(cid:86)(cid:75)(cid:82)(cid:88)(cid:79)(cid:71)(cid:3)(cid:81)(cid:82)(cid:87)(cid:3)(cid:82)(cid:69)(cid:77)(cid:72)(cid:70)(cid:87)(cid:3)(cid:68)(cid:87)(cid:3)(cid:68)(cid:81)(cid:92)(cid:3)(cid:87)(cid:76)(cid:80)(cid:72)(cid:3)(cid:73)(cid:82)(cid:85)(cid:3)(cid:87)(cid:75)(cid:72)(cid:3)(cid:80)(cid:68)(cid:76)(cid:81)(cid:87)(cid:72)(cid:81)(cid:68)(cid:81)(cid:70)(cid:72)(cid:3)(cid:90)(cid:82)(cid:85)(cid:78)(cid:86)(cid:18)(cid:3)(cid:76)(cid:80)(cid:83)(cid:85)(cid:82)(cid:89)(cid:72)(cid:80)(cid:72)(cid:81)(cid:87)(cid:3)(cid:90)(cid:82)(cid:85)(cid:78)(cid:86)(cid:3)(cid:82)(cid:73)(cid:3)(cid:87)(cid:75)(cid:72)(cid:3)(cid:72)(cid:85)(cid:76)(cid:3)(cid:90)(cid:75)(cid:76)(cid:70)(cid:75)(cid:3)(cid:68)(cid:85)(cid:72)(cid:3)(cid:83)(cid:85)(cid:82)(cid:83)(cid:82)(cid:86)(cid:72)(cid:71)(cid:3)(cid:87)(cid:82)(cid:3)(cid:69)(cid:72)(cid:3)(cid:70)(cid:68)(cid:85)(cid:85)(cid:76)(cid:72)(cid:71)(cid:3)(cid:82)(cid:88)(cid:87)(cid:3)(cid:69)(cid:92)(cid:3)(cid:58)(cid:53)(cid:39)(cid:17)(cid:3)(cid:55)(cid:75)(cid:72)(cid:3)(cid:68)(cid:83)(cid:83)(cid:79)(cid:76)(cid:70)(cid:68)(cid:81)(cid:87)(cid:3)(cid:86)(cid:75)(cid:82)(cid:88)(cid:79)(cid:71)(cid:3)(cid:74)(cid:76)(cid:89)(cid:72)(cid:3)(cid:68)(cid:81)(cid:3)(cid:88)(cid:81)(cid:71)(cid:72)(cid:85)(cid:87)(cid:68)(cid:78)(cid:76)(cid:81)(cid:74)(cid:3)(cid:76)(cid:81)(cid:3)(cid:90)(cid:85)(cid:76)(cid:87)(cid:76)(cid:81)(cid:74)(cid:3)(cid:87)(cid:82)(cid:3)(cid:87)(cid:75)(cid:72)(cid:3)(cid:72)(cid:73)(cid:73)(cid:72)(cid:70)(cid:87)(cid:3)(cid:87)(cid:75)(cid:68)(cid:87)(cid:3)(cid:87)(cid:75)(cid:72)(cid:3)(cid:68)(cid:69)(cid:82)(cid:89)(cid:72)(cid:3)(cid:83)(cid:85)(cid:82)(cid:83)(cid:82)(cid:86)(cid:68)(cid:79)(cid:3)(cid:90)(cid:76)(cid:79)(cid:79)(cid:3)(cid:81)(cid:82)(cid:87)(cid:3)(cid:82)(cid:69)(cid:86)(cid:87)(cid:85)(cid:88)(cid:70)(cid:87)(cid:3)(cid:76)(cid:81)(cid:3)(cid:70)(cid:68)(cid:86)(cid:72)(cid:3)(cid:68)(cid:81)(cid:92)(cid:3)(cid:80)(cid:68)(cid:76)(cid:81)(cid:87)(cid:72)(cid:81)(cid:68)(cid:81)(cid:70)(cid:72)(cid:3)(cid:18)\n(cid:76)(cid:80)(cid:83)(cid:85)(cid:82)(cid:89)(cid:72)(cid:80)(cid:72)(cid:81)(cid:87)(cid:3)(cid:18)(cid:3)(cid:71)(cid:72)(cid:89)(cid:72)(cid:79)(cid:82)(cid:83)(cid:80)(cid:72)(cid:81)(cid:87)(cid:3)(cid:90)(cid:82)(cid:85)(cid:78)(cid:86)(cid:3)(cid:68)(cid:86)(cid:3)(cid:83)(cid:72)(cid:85)(cid:3)(cid:53)(cid:72)(cid:89)(cid:72)(cid:81)(cid:88)(cid:72)(cid:3)(cid:85)(cid:72)(cid:70)(cid:82)(cid:85)(cid:71)(cid:86)(cid:3)(cid:62)(cid:41)(cid:48)(cid:37)(cid:64)(cid:15)(cid:3)(cid:90)(cid:75)(cid:76)(cid:70)(cid:75)(cid:3)(cid:68)(cid:85)(cid:72)(cid:3)(cid:83)(cid:85)(cid:82)(cid:83)(cid:82)(cid:86)(cid:72)(cid:71)(cid:3)(cid:87)(cid:82)(cid:3)(cid:69)(cid:72)(cid:3)(cid:70)(cid:68)(cid:85)(cid:85)(cid:76)(cid:72)(cid:71)(cid:3)(cid:82)(cid:88)(cid:87)(cid:3)(cid:69)(cid:92)(cid:3)(cid:58)(cid:53)(cid:39)(cid:3)(cid:76)(cid:81)(cid:3)(cid:73)(cid:88)(cid:87)(cid:88)(cid:85)(cid:72)(cid:3)(cid:83)(cid:72)(cid:85)(cid:76)(cid:82)(cid:71)(cid:76)(cid:70)(cid:68)(cid:79)(cid:79)(cid:92)(cid:17)\n8(cid:17)(cid:3)(cid:55)(cid:75)(cid:72)(cid:3)(cid:68)(cid:83)(cid:83)(cid:79)(cid:76)(cid:70)(cid:68)(cid:81)(cid:87)(cid:86)(cid:3)(cid:86)(cid:75)(cid:82)(cid:88)(cid:79)(cid:71)(cid:3)(cid:81)(cid:82)(cid:87)(cid:3)(cid:70)(cid:82)(cid:81)(cid:86)(cid:87)(cid:85)(cid:88)(cid:70)(cid:87)(cid:3)(cid:68)(cid:81)(cid:92)(cid:3)(cid:70)(cid:85)(cid:82)(cid:86)(cid:86)(cid:3)(cid:80)(cid:68)(cid:86)(cid:82)(cid:81)(cid:85)(cid:92)(cid:3)(cid:68)(cid:70)(cid:85)(cid:82)(cid:86)(cid:86)(cid:18)(cid:68)(cid:79)(cid:82)(cid:81)(cid:74)(cid:3)(cid:87)(cid:75)(cid:72)(cid:3)(cid:72)(cid:85)(cid:76)(cid:3)(cid:90)(cid:76)(cid:87)(cid:75)(cid:82)(cid:88)(cid:87)(cid:3)(cid:83)(cid:85)(cid:76)(cid:82)(cid:85)(cid:3)(cid:83)(cid:72)(cid:85)(cid:80)(cid:76)(cid:86)(cid:86)(cid:76)(cid:82)(cid:81)(cid:3)(cid:82)(cid:73)(cid:3)(cid:58)(cid:53)(cid:39)(cid:17)(cid:3)(cid:44)(cid:73)(cid:3)(cid:68)(cid:81)(cid:92)(cid:3)(cid:71)(cid:68)(cid:80)(cid:68)(cid:74)(cid:72)(cid:86)(cid:3)(cid:82)(cid:70)(cid:70)(cid:88)(cid:85)(cid:85)(cid:72)(cid:71)(cid:3)(cid:87)(cid:82)(cid:3)(cid:87)(cid:75)(cid:72)(cid:3)(cid:42)(cid:82)(cid:89)(cid:72)(cid:85)(cid:81)(cid:80)(cid:72)(cid:81)(cid:87)(cid:3)(cid:72)(cid:85)(cid:76)(cid:15)(cid:3)(cid:87)(cid:75)(cid:72)(cid:3)(cid:86)(cid:68)(cid:80)(cid:72)(cid:3)(cid:86)(cid:75)(cid:82)(cid:88)(cid:79)(cid:71)(cid:3)(cid:69)(cid:72)(cid:3)(cid:85)(cid:72)(cid:86)(cid:87)(cid:82)(cid:85)(cid:72)(cid:71)(cid:3)(cid:87)(cid:82)(cid:3)(cid:76)(cid:87)(cid:86)(cid:3)(cid:50)(cid:85)(cid:76)(cid:74)(cid:76)(cid:81)(cid:68)(cid:79)(cid:3)(cid:70)(cid:82)(cid:81)(cid:71)(cid:76)(cid:87)(cid:76)(cid:82)(cid:81)(cid:3)(cid:68)(cid:87)(cid:3)(cid:87)(cid:75)(cid:72)(cid:76)(cid:85)(cid:3)(cid:82)(cid:90)(cid:81)(cid:3)(cid:70)(cid:82)(cid:86)(cid:87)(cid:17)\n(cid:55)(cid:72)(cid:70)(cid:75)(cid:81)(cid:76)(cid:70)(cid:68)(cid:79)(cid:3)(cid:54)(cid:88)(cid:74)(cid:74)(cid:72)(cid:86)(cid:87)(cid:76)(cid:82)(cid:81)(cid:29)\n(cid:68)(cid:12)(cid:3)(cid:55)(cid:75)(cid:72)(cid:3)(cid:68)(cid:83)(cid:83)(cid:79)(cid:76)(cid:70)(cid:68)(cid:81)(cid:87)(cid:86)(cid:3)(cid:86)(cid:75)(cid:82)(cid:88)(cid:79)(cid:71)(cid:3)(cid:83)(cid:85)(cid:72)(cid:83)(cid:68)(cid:85)(cid:72)(cid:3)(cid:87)(cid:75)(cid:72)(cid:3)(cid:79)(cid:68)(cid:92)(cid:82)(cid:88)(cid:87)(cid:3)(cid:83)(cid:85)(cid:82)(cid:83)(cid:82)(cid:86)(cid:68)(cid:79)(cid:3)(cid:69)(cid:92)(cid:3)(cid:70)(cid:82)(cid:81)(cid:86)(cid:76)(cid:71)(cid:72)(cid:85)(cid:76)(cid:81)(cid:74)(cid:3)(cid:87)(cid:75)(cid:72)(cid:3)(cid:86)(cid:88)(cid:76)(cid:87)(cid:68)(cid:69)(cid:79)(cid:72)(cid:3)(cid:76)(cid:81)(cid:87)(cid:72)(cid:85)(cid:81)(cid:68)(cid:79)(cid:3)(cid:86)(cid:87)(cid:82)(cid:85)(cid:80)(cid:3)(cid:90)(cid:68)(cid:87)(cid:72)(cid:85)(cid:3)(cid:71)(cid:85)(cid:68)(cid:76)(cid:81)(cid:68)(cid:74)(cid:72)(cid:3)(cid:81)(cid:72)(cid:87)(cid:90)(cid:82)(cid:85)(cid:78)(cid:3)(cid:71)(cid:85)(cid:68)(cid:76)(cid:81)(cid:3)(cid:68)(cid:86)(cid:3)(cid:80)(cid:76)(cid:70)(cid:85)(cid:82)(cid:3)(cid:71)(cid:85)(cid:68)(cid:76)(cid:81)(cid:86)(cid:3)(cid:82)(cid:73)(cid:3)(cid:86)(cid:88)(cid:76)(cid:87)(cid:68)(cid:69)(cid:79)(cid:72)(cid:3)(cid:86)(cid:76)(cid:93)(cid:72)(cid:3)(cid:90)(cid:76)(cid:87)(cid:75)(cid:76)(cid:81)(cid:3)(cid:87)(cid:75)(cid:72)(cid:3)(cid:86)(cid:76)(cid:87)(cid:72)(cid:3)(cid:68)(cid:86)(cid:3)(cid:83)(cid:72)(cid:85)(cid:3)(cid:86)(cid:76)(cid:87)(cid:72)(cid:3)(cid:70)(cid:82)(cid:81)(cid:71)(cid:76)(cid:87)(cid:76)(cid:82)(cid:81)(cid:15)(cid:3)(cid:86)(cid:76)(cid:81)(cid:70)(cid:72)(cid:3)(cid:87)(cid:75)(cid:72)(cid:85)(cid:72)(cid:3)(cid:76)(cid:86)(cid:3)(cid:83)(cid:68)(cid:87)(cid:87)(cid:68)(cid:3)(cid:70)(cid:75)(cid:68)(cid:81)(cid:81)(cid:72)(cid:79)(cid:3)(cid:85)(cid:88)(cid:81)(cid:81)(cid:76)(cid:81)(cid:74)(cid:3)(cid:90)(cid:76)(cid:87)(cid:75)(cid:76)(cid:81)(cid:3)(cid:87)(cid:75)(cid:72)(cid:3)(cid:86)(cid:76)(cid:87)(cid:72)(cid:17)(cid:3)(cid:55)(cid:75)(cid:72)(cid:3)(cid:86)(cid:68)(cid:80)(cid:72)(cid:3)(cid:86)(cid:75)(cid:82)(cid:88)(cid:79)(cid:71)(cid:3)(cid:69)(cid:72)(cid:3)(cid:70)(cid:82)(cid:81)(cid:81)(cid:72)(cid:70)(cid:87)(cid:72)(cid:71)(cid:3)(cid:87)(cid:82)(cid:3)(cid:87)(cid:75)(cid:72)(cid:3)(cid:79)(cid:82)(cid:70)(cid:68)(cid:79)(cid:3)(cid:71)(cid:85)(cid:68)(cid:76)(cid:81)(cid:3)(cid:18)\n(cid:70)(cid:75)(cid:68)(cid:81)(cid:81)(cid:72)(cid:79)(cid:3)(cid:68)(cid:87)(cid:3)(cid:75)(cid:76)(cid:86)(cid:3)(cid:82)(cid:90)(cid:81)(cid:3)(cid:70)(cid:82)(cid:86)(cid:87)(cid:15)(cid:3)(cid:85)(cid:68)(cid:76)(cid:81)(cid:90)(cid:68)(cid:87)(cid:72)(cid:85)(cid:3)(cid:75)(cid:68)(cid:85)(cid:89)(cid:72)(cid:86)(cid:87)(cid:76)(cid:81)(cid:74)(cid:15)(cid:3)(cid:85)(cid:82)(cid:68)(cid:71)(cid:86)(cid:3)(cid:90)(cid:76)(cid:87)(cid:75)(cid:3)(cid:85)(cid:82)(cid:68)(cid:71)(cid:3)(cid:86)(cid:76)(cid:71)(cid:72)(cid:3)(cid:71)(cid:85)(cid:68)(cid:76)(cid:81)(cid:3)(cid:68)(cid:81)(cid:71)(cid:3)(cid:86)(cid:72)(cid:90)(cid:72)(cid:85)(cid:68)(cid:74)(cid:72)(cid:3)(cid:87)(cid:85)(cid:72)(cid:68)(cid:87)(cid:80)(cid:72)(cid:81)(cid:87)(cid:3)(cid:83)(cid:79)(cid:68)(cid:81)(cid:87)(cid:3)(cid:68)(cid:81)(cid:71)(cid:3)(cid:76)(cid:87)(cid:86)(cid:3)(cid:71)(cid:76)(cid:86)(cid:83)(cid:82)(cid:86)(cid:68)(cid:79)(cid:3)(cid:68)(cid:81)(cid:71)(cid:3)(cid:74)(cid:68)(cid:85)(cid:69)(cid:68)(cid:74)(cid:72)(cid:86)(cid:3)(cid:18)(cid:3)(cid:71)(cid:72)(cid:69)(cid:85)(cid:76)(cid:86)(cid:3)(cid:68)(cid:81)(cid:71)(cid:3)(cid:82)(cid:87)(cid:75)(cid:72)(cid:85)(cid:3)(cid:86)(cid:82)(cid:79)(cid:76)(cid:71)(cid:3)(cid:90)(cid:68)(cid:86)(cid:87)(cid:72)(cid:3)(cid:80)(cid:68)(cid:81)(cid:68)(cid:74)(cid:72)(cid:80)(cid:72)(cid:81)(cid:87)(cid:3)(cid:68)(cid:86)(cid:3)(cid:83)(cid:72)(cid:85)(cid:3)(cid:81)(cid:82)(cid:85)(cid:80)(cid:86)(cid:3)(cid:76)(cid:81)(cid:3)(cid:72)(cid:91)(cid:76)(cid:86)(cid:87)(cid:72)(cid:81)(cid:70)(cid:72)(cid:3)(cid:90)(cid:76)(cid:87)(cid:75)(cid:76)(cid:81)(cid:3)(cid:87)(cid:75)(cid:72)(cid:3)(cid:68)(cid:83)(cid:83)(cid:79)(cid:76)(cid:70)(cid:68)(cid:81)(cid:87)(cid:10)(cid:86)(cid:3)(cid:79)(cid:68)(cid:81)(cid:71)(cid:3)(cid:68)(cid:70)(cid:70)(cid:82)(cid:85)(cid:71)(cid:76)(cid:81)(cid:74)(cid:3)(cid:87)(cid:82)(cid:3)(cid:72)(cid:91)(cid:76)(cid:86)(cid:87)(cid:76)(cid:81)(cid:74)(cid:3)(cid:85)(cid:88)(cid:79)(cid:72)(cid:86)(cid:3)(cid:76)(cid:81)(cid:3)(cid:73)(cid:82)(cid:85)(cid:70)(cid:72)(cid:3)(cid:68)(cid:81)(cid:71)(cid:3)(cid:86)(cid:75)(cid:82)(cid:88)(cid:79)(cid:71)(cid:3)(cid:74)(cid:72)(cid:87)(cid:3)(cid:83)(cid:85)(cid:82)(cid:83)(cid:72)(cid:85)(cid:3)(cid:68)(cid:83)(cid:83)(cid:85)(cid:82)(cid:89)(cid:68)(cid:79)\n(cid:73)(cid:85)(cid:82)(cid:80)(cid:3)(cid:70)(cid:82)(cid:80)(cid:83)(cid:72)(cid:87)(cid:72)(cid:81)(cid:87)(cid:3)(cid:68)(cid:88)(cid:87)(cid:75)(cid:82)(cid:85)(cid:76)(cid:87)(cid:92)(cid:3)(cid:90)(cid:76)(cid:87)(cid:75)(cid:82)(cid:88)(cid:87)(cid:3)(cid:73)(cid:68)(cid:76)(cid:79)(cid:17)\n(cid:3)(cid:3)(cid:3)(cid:3)(cid:55)(cid:75)(cid:72)(cid:3)(cid:86)(cid:72)(cid:90)(cid:68)(cid:74)(cid:72)(cid:3)(cid:82)(cid:85)(cid:3)(cid:68)(cid:81)(cid:92)(cid:3)(cid:88)(cid:81)(cid:75)(cid:92)(cid:74)(cid:76)(cid:72)(cid:81)(cid:76)(cid:70)(cid:3)(cid:71)(cid:85)(cid:68)(cid:76)(cid:81)(cid:68)(cid:74)(cid:72)(cid:3)(cid:11)(cid:55)(cid:85)(cid:72)(cid:68)(cid:87)(cid:72)(cid:71)(cid:3)(cid:82)(cid:85)(cid:3)(cid:56)(cid:81)(cid:87)(cid:85)(cid:72)(cid:68)(cid:87)(cid:72)(cid:71)(cid:12)(cid:3)(cid:86)(cid:75)(cid:82)(cid:88)(cid:79)(cid:71)(cid:3)(cid:81)(cid:82)(cid:87)(cid:3)(cid:69)(cid:72)(cid:3)(cid:79)(cid:72)(cid:87)(cid:3)(cid:76)(cid:81)(cid:87)(cid:82)(cid:3)(cid:71)(cid:85)(cid:68)(cid:76)(cid:81)(cid:18)(cid:70)(cid:75)(cid:68)(cid:81)(cid:81)(cid:72)(cid:79)(cid:18)(cid:3)(cid:70)(cid:82)(cid:88)(cid:85)(cid:86)(cid:72)(cid:3)(cid:68)(cid:87)(cid:3)(cid:68)(cid:81)(cid:92)(cid:3)(cid:70)(cid:82)(cid:86)(cid:87)(cid:3)(cid:68)(cid:81)(cid:71)(cid:3)(cid:87)(cid:75)(cid:72)(cid:3)(cid:71)(cid:72)(cid:69)(cid:85)(cid:76)(cid:86)(cid:3)(cid:68)(cid:81)(cid:71)(cid:3)(cid:82)(cid:87)(cid:75)(cid:72)(cid:85)(cid:3)(cid:80)(cid:68)(cid:87)(cid:72)(cid:85)(cid:76)(cid:68)(cid:79)(cid:86)(cid:3)(cid:86)(cid:75)(cid:82)(cid:88)(cid:79)(cid:71)(cid:3)(cid:81)(cid:82)(cid:87)(cid:3)(cid:69)(cid:72)(cid:3)(cid:71)(cid:88)(cid:80)(cid:83)(cid:72)(cid:71)(cid:3)(cid:76)(cid:81)(cid:87)(cid:82)(cid:3)(cid:87)(cid:75)(cid:72)(cid:3)(cid:71)(cid:85)(cid:68)(cid:76)(cid:81)(cid:3)(cid:18)(cid:3)(cid:86)(cid:88)(cid:85)(cid:83)(cid:79)(cid:88)(cid:86)(cid:3)(cid:70)(cid:82)(cid:88)(cid:85)(cid:86)(cid:72)(cid:3)(cid:82)(cid:69)(cid:86)(cid:87)(cid:85)(cid:88)(cid:70)(cid:87)(cid:76)(cid:81)(cid:74)(cid:3)(cid:73)(cid:85)(cid:72)(cid:72)(cid:3)(cid:73)(cid:79)(cid:82)(cid:90)(cid:3)(cid:82)(cid:73)(cid:3)(cid:90)(cid:68)(cid:87)(cid:72)(cid:85)(cid:17)(cid:3)(cid:55)(cid:75)(cid:72)(cid:3)(cid:68)(cid:83)(cid:83)(cid:79)(cid:76)(cid:70)(cid:68)(cid:81)(cid:87)(cid:86)(cid:3)(cid:86)(cid:75)(cid:82)(cid:88)(cid:79)(cid:71)(cid:3)(cid:80)(cid:68)(cid:78)(cid:72)(cid:3)(cid:71)(cid:85)(cid:68)(cid:76)(cid:81)(cid:68)(cid:74)(cid:72)(cid:3)(cid:81)(cid:72)(cid:87)(cid:90)(cid:82)(cid:85)(cid:78)(cid:15)(cid:3)(cid:68)(cid:87)(cid:3)(cid:87)(cid:75)(cid:72)(cid:76)(cid:85)\n(cid:82)(cid:90)(cid:81)(cid:3)(cid:70)(cid:82)(cid:86)(cid:87)(cid:3)(cid:68)(cid:81)(cid:71)(cid:3)(cid:87)(cid:75)(cid:72)(cid:3)(cid:86)(cid:68)(cid:80)(cid:72)(cid:3)(cid:76)(cid:86)(cid:3)(cid:87)(cid:82)(cid:3)(cid:69)(cid:72)(cid:3)(cid:70)(cid:82)(cid:81)(cid:81)(cid:72)(cid:70)(cid:87)(cid:72)(cid:71)(cid:3)(cid:87)(cid:82)(cid:3)(cid:81)(cid:68)(cid:87)(cid:88)(cid:85)(cid:68)(cid:79)(cid:3)(cid:86)(cid:87)(cid:82)(cid:85)(cid:80)(cid:3)(cid:90)(cid:68)(cid:87)(cid:72)(cid:85)(cid:3)(cid:71)(cid:85)(cid:68)(cid:76)(cid:81)(cid:68)(cid:74)(cid:72)(cid:3)(cid:18)(cid:3)(cid:70)(cid:75)(cid:68)(cid:81)(cid:81)(cid:72)(cid:79)(cid:17)(cid:3)(cid:55)(cid:75)(cid:72)(cid:85)(cid:72)(cid:3)(cid:86)(cid:75)(cid:82)(cid:88)(cid:79)(cid:71)(cid:3)(cid:81)(cid:82)(cid:87)(cid:3)(cid:69)(cid:72)(cid:3)(cid:68)(cid:81)(cid:92)(cid:3)(cid:75)(cid:76)(cid:81)(cid:71)(cid:85)(cid:68)(cid:81)(cid:70)(cid:72)(cid:3)(cid:87)(cid:82)(cid:3)(cid:87)(cid:75)(cid:72)(cid:3)(cid:73)(cid:85)(cid:72)(cid:72)(cid:3)(cid:73)(cid:79)(cid:82)(cid:90)(cid:3)(cid:82)(cid:73)(cid:3)(cid:76)(cid:81)(cid:87)(cid:72)(cid:85)(cid:81)(cid:68)(cid:79)(cid:3)(cid:71)(cid:85)(cid:68)(cid:76)(cid:81)(cid:3)(cid:87)(cid:82)(cid:3)(cid:71)(cid:82)(cid:90)(cid:81)(cid:86)(cid:87)(cid:85)(cid:72)(cid:68)(cid:80)(cid:17)\n(cid:69)(cid:12)(cid:3)(cid:55)(cid:75)(cid:72)(cid:3)(cid:81)(cid:72)(cid:70)(cid:72)(cid:86)(cid:86)(cid:68)(cid:85)(cid:92)(cid:3)(cid:86)(cid:72)(cid:87)(cid:69)(cid:68)(cid:70)(cid:78)(cid:3)(cid:71)(cid:76)(cid:86)(cid:87)(cid:68)(cid:81)(cid:70)(cid:72)(cid:3)(cid:86)(cid:75)(cid:82)(cid:88)(cid:79)(cid:71)(cid:3)(cid:69)(cid:72)(cid:3)(cid:83)(cid:85)(cid:82)(cid:89)(cid:76)(cid:71)(cid:72)(cid:71)(cid:3)(cid:90)(cid:76)(cid:87)(cid:75)(cid:3)(cid:76)(cid:81)(cid:3)(cid:87)(cid:75)(cid:72)(cid:3)(cid:86)(cid:76)(cid:87)(cid:72)(cid:3)(cid:68)(cid:86)(cid:3)(cid:83)(cid:72)(cid:85)(cid:3)(cid:86)(cid:76)(cid:87)(cid:72)(cid:3)(cid:70)(cid:82)(cid:81)(cid:71)(cid:76)(cid:87)(cid:76)(cid:82)(cid:81)(cid:3)(cid:68)(cid:86)(cid:3)(cid:83)(cid:72)(cid:85)(cid:3)(cid:87)(cid:75)(cid:72)(cid:3)(cid:81)(cid:82)(cid:85)(cid:80)(cid:86)(cid:3)(cid:76)(cid:81)(cid:3)(cid:72)(cid:91)(cid:76)(cid:86)(cid:87)(cid:72)(cid:81)(cid:70)(cid:72)(cid:3)(cid:68)(cid:81)(cid:71)(cid:3)(cid:68)(cid:86)(cid:3)(cid:83)(cid:72)(cid:85)(cid:3)(cid:87)(cid:75)(cid:72)(cid:3)(cid:85)(cid:88)(cid:79)(cid:72)(cid:86)(cid:3)(cid:76)(cid:81)(cid:3)(cid:73)(cid:82)(cid:85)(cid:70)(cid:72)(cid:3)(cid:82)(cid:73)(cid:3)(cid:38)(cid:48)(cid:39)(cid:36)(cid:3)(cid:11)(cid:68)(cid:86)(cid:3)(cid:83)(cid:72)(cid:85)(cid:3)(cid:87)(cid:75)(cid:72)(cid:3)(cid:70)(cid:76)(cid:85)(cid:70)(cid:88)(cid:79)(cid:68)(cid:85)(cid:3)(cid:76)(cid:86)(cid:86)(cid:88)(cid:72)(cid:71)(cid:3)(cid:69)(cid:92)(cid:3)(cid:87)(cid:75)(cid:72)(cid:3)(cid:82)(cid:73)(cid:73)(cid:76)(cid:70)(cid:72)(cid:3)(cid:82)(cid:73)(cid:3)(cid:87)(cid:75)(cid:72)(cid:3)(cid:38)(cid:82)(cid:80)(cid:80)(cid:76)(cid:86)(cid:86)(cid:76)(cid:82)(cid:81)(cid:72)(cid:85)(cid:3)(cid:82)(cid:73)(cid:3)(cid:55)(cid:82)(cid:90)(cid:81)(cid:3)(cid:9)(cid:3)(cid:38)(cid:82)(cid:88)(cid:81)(cid:87)(cid:85)(cid:92)(cid:3)(cid:51)(cid:79)(cid:68)(cid:81)(cid:81)(cid:76)(cid:81)(cid:74)(cid:15)(cid:3)(cid:38)(cid:75)(cid:72)(cid:81)(cid:81)(cid:68)(cid:76)(cid:3)(cid:16)(cid:3)2(cid:3)(cid:89)(cid:76)(cid:71)(cid:72)(cid:3)(cid:53)(cid:82)(cid:70)(cid:17)(cid:3)(cid:49)(cid:82)(cid:17)\n4367(cid:18)2019(cid:16)(cid:37)(cid:36)2(cid:18)(cid:39)(cid:68)(cid:87)(cid:72)(cid:71)(cid:29)(cid:3)13(cid:17)03(cid:17)2019(cid:12)(cid:3)(cid:71)(cid:88)(cid:85)(cid:76)(cid:81)(cid:74)(cid:3)(cid:71)(cid:72)(cid:89)(cid:72)(cid:79)(cid:82)(cid:83)(cid:80)(cid:72)(cid:81)(cid:87)(cid:3)(cid:68)(cid:81)(cid:71)(cid:3)(cid:87)(cid:75)(cid:72)(cid:85)(cid:72)(cid:3)(cid:86)(cid:75)(cid:82)(cid:88)(cid:79)(cid:71)(cid:3)(cid:81)(cid:82)(cid:87)(cid:3)(cid:69)(cid:72)(cid:3)(cid:68)(cid:81)(cid:92)(cid:3)(cid:70)(cid:82)(cid:81)(cid:86)(cid:87)(cid:85)(cid:88)(cid:70)(cid:87)(cid:76)(cid:82)(cid:81)(cid:3)(cid:68)(cid:70)(cid:87)(cid:76)(cid:89)(cid:76)(cid:87)(cid:76)(cid:72)(cid:86)(cid:3)(cid:76)(cid:81)(cid:3)(cid:73)(cid:88)(cid:87)(cid:88)(cid:85)(cid:72)(cid:3)(cid:68)(cid:79)(cid:86)(cid:82)(cid:15)(cid:3)(cid:87)(cid:75)(cid:72)(cid:3)(cid:38)(cid:48)(cid:39)(cid:36)(cid:3)(cid:86)(cid:75)(cid:82)(cid:88)(cid:79)(cid:71)(cid:3)(cid:76)(cid:86)(cid:86)(cid:88)(cid:72)(cid:3)(cid:70)(cid:82)(cid:80)(cid:83)(cid:79)(cid:72)(cid:87)(cid:76)(cid:82)(cid:81)(cid:3)(cid:70)(cid:72)(cid:85)(cid:87)(cid:76)(cid:73)(cid:76)(cid:70)(cid:68)(cid:87)(cid:72)(cid:3)(cid:82)(cid:81)(cid:79)(cid:92)(cid:3)(cid:68)(cid:73)(cid:87)(cid:72)(cid:85)(cid:3)(cid:82)(cid:69)(cid:87)(cid:68)(cid:76)(cid:81)(cid:76)(cid:81)(cid:74)(cid:3)(cid:70)(cid:82)(cid:80)(cid:83)(cid:79)(cid:76)(cid:68)(cid:81)(cid:70)(cid:72)(cid:3)(cid:70)(cid:72)(cid:85)(cid:87)(cid:76)(cid:73)(cid:76)(cid:70)(cid:68)(cid:87)(cid:72)(cid:3)(cid:49)(cid:50)(cid:38)(cid:3)(cid:73)(cid:85)(cid:82)(cid:80)(cid:3)(cid:58)(cid:53)(cid:39)\n(cid:70)(cid:12)(cid:3)(cid:55)(cid:75)(cid:72)(cid:3)(cid:68)(cid:83)(cid:83)(cid:79)(cid:76)(cid:70)(cid:68)(cid:81)(cid:87)(cid:86)(cid:3)(cid:86)(cid:75)(cid:82)(cid:88)(cid:79)(cid:71)(cid:3)(cid:74)(cid:72)(cid:87)(cid:3)(cid:70)(cid:79)(cid:72)(cid:68)(cid:85)(cid:68)(cid:81)(cid:70)(cid:72)(cid:3)(cid:70)(cid:72)(cid:85)(cid:87)(cid:76)(cid:73)(cid:76)(cid:70)(cid:68)(cid:87)(cid:72)(cid:3)(cid:73)(cid:82)(cid:85)(cid:3)(cid:87)(cid:75)(cid:76)(cid:86)(cid:3)(cid:86)(cid:76)(cid:87)(cid:72)(cid:3)(cid:73)(cid:85)(cid:82)(cid:80)(cid:3)(cid:87)(cid:75)(cid:72)(cid:3)(cid:53)(cid:72)(cid:89)(cid:72)(cid:81)(cid:88)(cid:72)(cid:3)(cid:71)(cid:72)(cid:83)(cid:68)(cid:85)(cid:87)(cid:80)(cid:72)(cid:81)(cid:87)(cid:3)(cid:87)(cid:82)(cid:3)(cid:80)(cid:68)(cid:78)(cid:72)(cid:3)(cid:86)(cid:88)(cid:85)(cid:72)(cid:3)(cid:87)(cid:75)(cid:68)(cid:87)(cid:3)(cid:87)(cid:75)(cid:72)(cid:3)(cid:86)(cid:76)(cid:87)(cid:72)(cid:3)(cid:76)(cid:86)(cid:3)(cid:81)(cid:82)(cid:87)(cid:3)(cid:68)(cid:81)(cid:3)(cid:72)(cid:81)(cid:70)(cid:85)(cid:82)(cid:68)(cid:70)(cid:75)(cid:72)(cid:71)(cid:3)(cid:83)(cid:85)(cid:82)(cid:83)(cid:72)(cid:85)(cid:87)(cid:92)(cid:3)(cid:73)(cid:85)(cid:82)(cid:80)(cid:3)(cid:87)(cid:75)(cid:72)(cid:3)(cid:90)(cid:68)(cid:87)(cid:72)(cid:85)(cid:3)(cid:69)(cid:82)(cid:71)(cid:92)(cid:3)(cid:68)(cid:86)(cid:3)(cid:90)(cid:72)(cid:79)(cid:79)(cid:3)(cid:68)(cid:86)(cid:3)(cid:70)(cid:82)(cid:81)(cid:73)(cid:76)(cid:85)(cid:80)(cid:76)(cid:81)(cid:74)(cid:3)(cid:87)(cid:75)(cid:76)(cid:86)(cid:3)(cid:83)(cid:85)(cid:82)(cid:83)(cid:82)(cid:86)(cid:72)(cid:71)(cid:3)(cid:86)(cid:76)(cid:87)(cid:72)(cid:3)(cid:69)(cid:82)(cid:88)(cid:81)(cid:71)(cid:68)(cid:85)(cid:76)(cid:72)(cid:86)(cid:17)\n(cid:71)(cid:12)(cid:3)(cid:55)(cid:75)(cid:72)(cid:3)(cid:86)(cid:72)(cid:90)(cid:68)(cid:74)(cid:72)(cid:3)(cid:90)(cid:68)(cid:87)(cid:72)(cid:85)(cid:3)(cid:73)(cid:85)(cid:82)(cid:80)(cid:3)(cid:87)(cid:75)(cid:72)(cid:3)(cid:68)(cid:83)(cid:83)(cid:79)(cid:76)(cid:70)(cid:68)(cid:81)(cid:87)(cid:3)(cid:79)(cid:68)(cid:81)(cid:71)(cid:3)(cid:86)(cid:75)(cid:82)(cid:88)(cid:79)(cid:71)(cid:3)(cid:81)(cid:82)(cid:87)(cid:3)(cid:79)(cid:72)(cid:87)(cid:3)(cid:76)(cid:81)(cid:87)(cid:82)(cid:3)(cid:87)(cid:75)(cid:72)(cid:3)(cid:71)(cid:85)(cid:68)(cid:76)(cid:81)(cid:3)(cid:68)(cid:81)(cid:71)(cid:3)(cid:73)(cid:82)(cid:85)(cid:3)(cid:87)(cid:75)(cid:72)(cid:3)(cid:71)(cid:76)(cid:86)(cid:83)(cid:82)(cid:86)(cid:68)(cid:79)(cid:3)(cid:82)(cid:73)(cid:3)(cid:87)(cid:75)(cid:72)(cid:3)(cid:86)(cid:72)(cid:90)(cid:68)(cid:74)(cid:72)(cid:3)(cid:90)(cid:68)(cid:87)(cid:72)(cid:85)(cid:15)(cid:3)(cid:86)(cid:88)(cid:76)(cid:87)(cid:68)(cid:69)(cid:79)(cid:72)(cid:3)(cid:68)(cid:85)(cid:85)(cid:68)(cid:81)(cid:74)(cid:72)(cid:80)(cid:72)(cid:81)(cid:87)(cid:86)(cid:3)(cid:86)(cid:75)(cid:82)(cid:88)(cid:79)(cid:71)(cid:3)(cid:69)(cid:72)(cid:3)(cid:80)(cid:68)(cid:71)(cid:72)(cid:3)(cid:73)(cid:82)(cid:85)(cid:3)(cid:87)(cid:75)(cid:72)(cid:3)(cid:86)(cid:68)(cid:80)(cid:72)(cid:3)(cid:69)(cid:92)(cid:3)(cid:87)(cid:75)(cid:72)(cid:3)(cid:68)(cid:83)(cid:83)(cid:79)(cid:76)(cid:70)(cid:68)(cid:81)(cid:87)(cid:86)(cid:15)(cid:3)(cid:68)(cid:81)(cid:71)(cid:3)(cid:68)(cid:86)(cid:3)(cid:90)(cid:72)(cid:79)(cid:79)(cid:3)(cid:68)(cid:86)(cid:3)(cid:87)(cid:75)(cid:72)(cid:3)(cid:70)(cid:82)(cid:81)(cid:86)(cid:87)(cid:85)(cid:88)(cid:70)(cid:87)(cid:76)(cid:82)(cid:81)(cid:3)(cid:80)(cid:68)(cid:87)(cid:72)(cid:85)(cid:76)(cid:68)(cid:79)(cid:86)(cid:18)(cid:71)(cid:72)(cid:69)(cid:85)(cid:76)(cid:86)(cid:18)(cid:74)(cid:68)(cid:85)(cid:69)(cid:68)(cid:74)(cid:72)(cid:86)(cid:3)(cid:86)(cid:75)(cid:82)(cid:88)(cid:79)(cid:71)(cid:3)(cid:81)(cid:82)(cid:87)(cid:3)(cid:69)(cid:72)(cid:3)(cid:71)(cid:88)(cid:80)(cid:83)(cid:72)(cid:71)(cid:3)(cid:76)(cid:81)(cid:87)(cid:82)(cid:3)(cid:87)(cid:75)(cid:72)(cid:3)(cid:70)(cid:75)(cid:68)(cid:81)(cid:81)(cid:72)(cid:79)(cid:18)(cid:85)(cid:76)(cid:89)(cid:72)(cid:85)(cid:18)(cid:87)(cid:68)(cid:81)(cid:78)(cid:3)(cid:68)(cid:87)\n(cid:68)(cid:81)(cid:92)(cid:3)(cid:70)(cid:82)(cid:86)(cid:87)(cid:17)\n(cid:3)(cid:3)(cid:3)(cid:3)(cid:3)(cid:3)(cid:3)(cid:36)(cid:87)(cid:3)(cid:68)(cid:81)(cid:92)(cid:3)(cid:70)(cid:82)(cid:86)(cid:87)(cid:15)(cid:3)(cid:86)(cid:72)(cid:90)(cid:68)(cid:74)(cid:72)(cid:3)(cid:18)(cid:3)(cid:86)(cid:88)(cid:79)(cid:79)(cid:68)(cid:74)(cid:72)(cid:3)(cid:86)(cid:75)(cid:82)(cid:88)(cid:79)(cid:71)(cid:3)(cid:81)(cid:82)(cid:87)(cid:3)(cid:69)(cid:72)(cid:3)(cid:79)(cid:72)(cid:87)(cid:3)(cid:76)(cid:81)(cid:87)(cid:82)(cid:3)(cid:70)(cid:75)(cid:68)(cid:81)(cid:81)(cid:72)(cid:79)(cid:18)(cid:85)(cid:76)(cid:89)(cid:72)(cid:85)(cid:15)(cid:3)(cid:68)(cid:81)(cid:71)(cid:3)(cid:87)(cid:75)(cid:72)(cid:3)(cid:74)(cid:68)(cid:85)(cid:69)(cid:68)(cid:74)(cid:72)(cid:86)(cid:15)(cid:3)(cid:71)(cid:72)(cid:69)(cid:85)(cid:76)(cid:86)(cid:3)(cid:68)(cid:81)(cid:71)(cid:3)(cid:70)(cid:82)(cid:81)(cid:86)(cid:87)(cid:85)(cid:88)(cid:70)(cid:87)(cid:76)(cid:82)(cid:81)(cid:3)(cid:80)(cid:68)(cid:87)(cid:72)(cid:85)(cid:76)(cid:68)(cid:79)(cid:86)(cid:3)(cid:86)(cid:75)(cid:82)(cid:88)(cid:79)(cid:71)(cid:3)(cid:81)(cid:82)(cid:87)(cid:3)(cid:69)(cid:72)(cid:3)(cid:71)(cid:88)(cid:80)(cid:83)(cid:72)(cid:71)(cid:3)(cid:76)(cid:81)(cid:87)(cid:82)(cid:3)(cid:87)(cid:75)(cid:72)(cid:3)(cid:70)(cid:75)(cid:68)(cid:81)(cid:81)(cid:72)(cid:79)(cid:18)(cid:85)(cid:76)(cid:89)(cid:72)(cid:85)(cid:3)(cid:85)(cid:72)(cid:86)(cid:87)(cid:85)(cid:76)(cid:70)(cid:87)(cid:76)(cid:81)(cid:74)(cid:3)(cid:87)(cid:75)(cid:72)(cid:3)(cid:73)(cid:85)(cid:72)(cid:72)(cid:3)(cid:73)(cid:79)(cid:82)(cid:90)(cid:3)(cid:82)(cid:73)(cid:3)(cid:90)(cid:68)(cid:87)(cid:72)(cid:85)(cid:17)\n(cid:3)(cid:3)(cid:3)(cid:3)(cid:3)(cid:3)(cid:3)(cid:55)(cid:75)(cid:72)(cid:3)(cid:82)(cid:90)(cid:81)(cid:72)(cid:85)(cid:3)(cid:82)(cid:73)(cid:3)(cid:87)(cid:75)(cid:72)(cid:3)(cid:71)(cid:82)(cid:70)(cid:88)(cid:80)(cid:72)(cid:81)(cid:87)(cid:3)(cid:85)(cid:72)(cid:70)(cid:72)(cid:76)(cid:89)(cid:72)(cid:71)(cid:3)(cid:73)(cid:85)(cid:82)(cid:80)(cid:3)(cid:87)(cid:75)(cid:72)(cid:3)(cid:68)(cid:83)(cid:83)(cid:79)(cid:76)(cid:70)(cid:68)(cid:81)(cid:87)(cid:86)(cid:3)(cid:76)(cid:81)(cid:3)(cid:85)(cid:72)(cid:86)(cid:83)(cid:72)(cid:70)(cid:87)(cid:3)(cid:87)(cid:82)(cid:3)(cid:87)(cid:75)(cid:72)(cid:3)(cid:82)(cid:90)(cid:81)(cid:72)(cid:85)(cid:86)(cid:75)(cid:76)(cid:83)(cid:3)(cid:76)(cid:86)(cid:3)(cid:83)(cid:88)(cid:85)(cid:72)(cid:79)(cid:92)(cid:3)(cid:82)(cid:73)(cid:3)(cid:68)(cid:83)(cid:83)(cid:79)(cid:76)(cid:70)(cid:68)(cid:81)(cid:87)(cid:10)(cid:86)(cid:3)(cid:85)(cid:72)(cid:86)(cid:83)(cid:82)(cid:81)(cid:86)(cid:76)(cid:69)(cid:76)(cid:79)(cid:76)(cid:87)(cid:92)(cid:3)(cid:68)(cid:81)(cid:71)(cid:3)(cid:76)(cid:87)(cid:3)(cid:76)(cid:86)(cid:3)(cid:82)(cid:81)(cid:79)(cid:92)(cid:3)(cid:73)(cid:82)(cid:85)(cid:3)(cid:85)(cid:72)(cid:73)(cid:72)(cid:85)(cid:72)(cid:81)(cid:70)(cid:72)(cid:3)(cid:83)(cid:88)(cid:85)(cid:83)(cid:82)(cid:86)(cid:72)(cid:3)(cid:87)(cid:82)(cid:3)(cid:87)(cid:75)(cid:76)(cid:86)(cid:3)(cid:71)(cid:72)(cid:83)(cid:68)(cid:85)(cid:87)(cid:80)(cid:72)(cid:81)(cid:87)(cid:17)(cid:3)(cid:55)(cid:75)(cid:72)(cid:3)(cid:79)(cid:72)(cid:74)(cid:68)(cid:79)(cid:3)(cid:89)(cid:68)(cid:79)(cid:76)(cid:71)(cid:76)(cid:87)(cid:92)(cid:3)(cid:82)(cid:73)(cid:3)(cid:87)(cid:75)(cid:76)(cid:86)(cid:3)(cid:71)(cid:82)(cid:70)(cid:88)(cid:80)(cid:72)(cid:81)(cid:87)(cid:3)(cid:86)(cid:75)(cid:82)(cid:88)(cid:79)(cid:71)(cid:3)(cid:69)(cid:72)(cid:3)(cid:89)(cid:72)(cid:85)(cid:76)(cid:73)(cid:76)(cid:72)(cid:71)(cid:3)(cid:69)(cid:92)(cid:3)(cid:87)(cid:75)(cid:72)(cid:3)(cid:39)(cid:72)(cid:89)(cid:72)(cid:79)(cid:82)(cid:83)(cid:80)(cid:72)(cid:81)(cid:87)(cid:3)(cid:18)(cid:3)(cid:53)(cid:72)(cid:89)(cid:72)(cid:81)(cid:88)(cid:72)(cid:3)(cid:68)(cid:88)(cid:87)(cid:75)(cid:82)(cid:85)(cid:76)(cid:87)(cid:76)(cid:72)(cid:86)(cid:17)(cid:3)(cid:55)(cid:75)(cid:72)(cid:3)(cid:86)(cid:83)(cid:72)(cid:70)(cid:76)(cid:73)(cid:76)(cid:70)\n(cid:85)(cid:72)(cid:80)(cid:68)(cid:85)(cid:78)(cid:86)(cid:3)(cid:82)(cid:81)(cid:3)(cid:76)(cid:81)(cid:88)(cid:81)(cid:71)(cid:68)(cid:87)(cid:76)(cid:82)(cid:81)(cid:3)(cid:68)(cid:85)(cid:72)(cid:3)(cid:83)(cid:88)(cid:85)(cid:72)(cid:79)(cid:92)(cid:3)(cid:76)(cid:86)(cid:86)(cid:88)(cid:72)(cid:71)(cid:3)(cid:82)(cid:81)(cid:3)(cid:87)(cid:72)(cid:70)(cid:75)(cid:81)(cid:76)(cid:70)(cid:68)(cid:79)(cid:3)(cid:74)(cid:85)(cid:82)(cid:88)(cid:81)(cid:71)(cid:86)(cid:3)(cid:76)(cid:81)(cid:3)(cid:85)(cid:72)(cid:86)(cid:83)(cid:72)(cid:70)(cid:87)(cid:3)(cid:87)(cid:82)(cid:3)(cid:87)(cid:75)(cid:72)(cid:3)(cid:83)(cid:75)(cid:92)(cid:86)(cid:76)(cid:70)(cid:68)(cid:79)(cid:3)(cid:79)(cid:82)(cid:70)(cid:68)(cid:87)(cid:76)(cid:82)(cid:81)(cid:3)(cid:82)(cid:73)(cid:3)(cid:79)(cid:68)(cid:81)(cid:71)(cid:17)\n(cid:41)(cid:68)(cid:76)(cid:79)(cid:76)(cid:81)(cid:74)(cid:3)(cid:87)(cid:82)(cid:3)(cid:70)(cid:82)(cid:80)(cid:83)(cid:79)(cid:92)(cid:3)(cid:90)(cid:76)(cid:87)(cid:75)(cid:3)(cid:68)(cid:81)(cid:92)(cid:3)(cid:82)(cid:73)(cid:3)(cid:87)(cid:75)(cid:72)(cid:3)(cid:68)(cid:69)(cid:82)(cid:89)(cid:72)(cid:3)(cid:70)(cid:82)(cid:81)(cid:71)(cid:76)(cid:87)(cid:76)(cid:82)(cid:81)(cid:86)(cid:15)(cid:3)(cid:58)(cid:53)(cid:39)(cid:3)(cid:85)(cid:72)(cid:86)(cid:72)(cid:85)(cid:89)(cid:72)(cid:86)(cid:3)(cid:85)(cid:76)(cid:74)(cid:75)(cid:87)(cid:86)(cid:3)(cid:87)(cid:82)(cid:3)(cid:90)(cid:76)(cid:87)(cid:75)(cid:71)(cid:85)(cid:68)(cid:90)(cid:3)(cid:87)(cid:75)(cid:72)(cid:3)(cid:55)(cid:72)(cid:70)(cid:75)(cid:81)(cid:76)(cid:70)(cid:68)(cid:79)(cid:3)(cid:82)(cid:83)(cid:76)(cid:81)(cid:76)(cid:82)(cid:81)(cid:3)(cid:82)(cid:81)(cid:3)(cid:76)(cid:81)(cid:88)(cid:81)(cid:71)(cid:68)(cid:87)(cid:76)(cid:82)(cid:81)(cid:3)(cid:83)(cid:82)(cid:76)(cid:81)(cid:87)(cid:3)(cid:82)(cid:73)(cid:3)(cid:89)(cid:76)(cid:72)(cid:90)(cid:3)(cid:87)(cid:82)(cid:3)(cid:87)(cid:75)(cid:72)(cid:3)(cid:68)(cid:69)(cid:82)(cid:89)(cid:72)(cid:3)(cid:83)(cid:85)(cid:82)(cid:83)(cid:82)(cid:86)(cid:72)(cid:71)(cid:3)(cid:86)(cid:76)(cid:87)(cid:72)(cid:3)(cid:68)(cid:81)(cid:71)(cid:3)(cid:76)(cid:81)(cid:3)(cid:72)(cid:89)(cid:72)(cid:81)(cid:87)(cid:15)(cid:3)(cid:87)(cid:75)(cid:72)(cid:3)(cid:68)(cid:83)(cid:83)(cid:79)(cid:76)(cid:70)(cid:68)(cid:81)(cid:87)(cid:86)(cid:3)(cid:86)(cid:75)(cid:68)(cid:79)(cid:79)(cid:3)(cid:81)(cid:82)(cid:87)(cid:3)(cid:69)(cid:72)(cid:3)(cid:72)(cid:79)(cid:76)(cid:74)(cid:76)(cid:69)(cid:79)(cid:72)(cid:3)(cid:73)(cid:82)(cid:85)(cid:3)(cid:68)(cid:81)(cid:92)(cid:3)(cid:70)(cid:82)(cid:80)(cid:83)(cid:72)(cid:81)(cid:86)(cid:68)(cid:87)(cid:76)(cid:82)(cid:81)(cid:3)(cid:90)(cid:75)(cid:68)(cid:87)(cid:86)(cid:82)(cid:72)(cid:89)(cid:72)(cid:85)(cid:3)(cid:68)(cid:81)(cid:71)(cid:3)(cid:68)(cid:86)(cid:3)(cid:90)(cid:72)(cid:79)(cid:79)(cid:3)(cid:68)(cid:86)(cid:3)(cid:79)(cid:72)(cid:74)(cid:68)(cid:79)(cid:3)(cid:72)(cid:81)(cid:87)(cid:76)(cid:87)(cid:92)(cid:17)\nII) TNCDBR-2019 RULE NO: 47 (8) IN G.O.(Ms) No.18, MAWS DEPARTMENT DATED 04.02.2019 & AMENDMENTS APPROVED IN G.O.Ms.No.16, MAWS (MAI) DEPARTMENT DATED 31.01.2020 AND PUBLISHED IN TNGG ISSUE No.41.DATED 31.01.2020\nNE PERCENT OF LAYOUT AREA EXCLUDING ROAD, ADDITIONALLY, SHALL BE RESERVED FOR \"PUBLIC PURPOSE\". WITHIN THE ABOVE CEILING 0.5% OF AREA SHALL BE TRANSFERRED TO THE LOCAL BODY AND 0.5% OF AREA SHALL BE TRANSFERRED\nO THE TANGEDCO OR TO THE LOCAL BODY FREE OF COST THROUGH A REGISTERED GIFT DEED BEFORE THE ACTUAL SANCTION OF THE LAYOUT.\nIII) TNCDBR-2019, RULE NO: 47 (11)\nHE COST OF LAYING IMPROVEMENTS TO THE SYSTEMS IN RESPECT OF ROAD, WATER SUPPLY, SEWERAGE, DRAINAGE OR ELECTRIC POWER SUPPLY THAT MAY BE REQUIRED AS ASSESSED BY THE CONCERNED AUTHORITY, NAMELY, THE LOCAL\nODY AND TAMIL NADU ELECTRICITY BOARD, SHALL BE BORNE BY THE APPLICANT.\nIV) LOCAL BODY SHOULD ENSURE COMPLIANCE OF ALL THE CONDITIONS STIPULATED BY PWD IN THEIR LETTER NO.DB / T5(3) /F- NOC7541 VAYALANALLUR - A VILLAGE0906 / 2024 / 28.02.2024 OBTAIN A LETTER FROM PWD CONFIRMING THE\nOMPLIANCE OF THE CONDITIONS BEFORE THE SANCTION AND RELEASE OF THE LAYOUT.\nV)THE APPLICANT IS RESPONSIBLE FOR THE SHAPE,SIZE & DIMENSIONS OF THE SITE UNDER REFERENCE.\nNECESSARY SPACE FOR BUILDING LINE TO BE LEFT AS PER THE RULE IN FORCE WHILE TAKING UP DEVELOPMENT IN EVERY PLOT.\nNOTE:\nTHE RESPECTIVE OWNERS IN THE SITE UNDER REFERENCE SHALL NOT CAUSE ANY DISTURBANCE TO THE BRICK KILN IN THE NEAR BY LOCATION.\nLEGEND:\nSITE BOUNDARY\nROADS GIFTED TO LOCAL BODY\nEXISTING ROAD\nPUBLIC PURPOSE -1 GIFTED TO LOCAL BODY\nPUBLIC PURPOSE-2 GIFTED TO LOCAL BODY (FOR TANGEDCO)\nCONDITIONS:\nTHE LAYOUT APPROVED IS VALID SUBJECT\nTO OBTAINING SANCTION FROM THE LOCAL\nBODY CONCERNED.\nP.P.D 157\nNO :\nL.O 2024\nAPPROVED\nVIDE LETTER NO : LAYOUT-1 / 0105 / 2023\nThis Planning Permission Issued under New Rule\nDATE : 23 / 07 / 2024\nTNCDBR.2019 is subject to final outcome of the\nW.P(MD) No.8948 of 2019 and WMP (MD)\nNos. 6912 & 6913 of 2019.\nOFFICE COPY\nFOR CHIEF PLANNER (LAYOUT)\nCHENNAI METROPOLITAN\nUNION DEVELOPMENT AUTHORITY\nOF VAYALANALLUR - A VILLAGE.",
         "True",
         null,
         null,
         null,
         "23 / 07 / 2024",
         null
        ],
        [
         "159",
         "160",
         "160/2024",
         "Puzhal PU",
         "Vilangadupakkam",
         "https://www.cmdachennai.gov.in/pdfs/layouts/2024/160-2024.pdf",
         "160/2024",
         "2024/160.pdf",
         "FILE NO: LAYOUT-1 / 0358 / 2023\n= 7790SQ.M\nDOCUMENT)\n= 1230SQ.M\n= 8 Nos.\nATED EXCLUDING SPLAY DIMENSIONS\nANDED OVER TO THE LOCAL BODY VIDE GIFT DEED\n4, DATED: 28.06.2024 @ SRO, REDHILLS\nLLOW THE CONDITIONS MENTIONED BY THE EE, WRD., KOSASTHALAIYAR BASIN DIVISION, THIRUVALLUR - 602001. LETTER NO.DB/T5(3)/F.0636 VILANGADUPAKKAM VILLAGE 2484 / 2024 / DATED:02.04.2024 ARE TO BE COMPLIED BY THE APPLICANT BEFORE ISSUING OF THE\nMPETENT AUTHORITY (LOCAL BODY)\nEVEL OF THE SITE SHOULD BE RAISED TO MINIMUM LEVEL OF (+) 7.860M (IE.0.11M BELOW CREST LEVEL OF SENDRAMBAKKAM TANK WEIR WHICH IS (+) 7.970M) WITH FILLING VARIES FROM 1.030M TO 1.070M WITH LAYERS OF NOT MORE THAN 0.30 METRE DEPTH TO\nOF COMPACTION TO THE ENTIRE AREA OF THE APPLICANT LAND TO AVOID INUNDATION DURING THE HEAVY RAINS. THE ALL-ROUND PAVEMENT LEVEL WITHIN SITE SHOULD NOT BE LESS THAN (+)7.860M. THE REGULAR HABITATION SHOULD NOT BE BELOW MFL ALSO, THE\nEMERGENCY PUMPING OPERATION FOR THE SEEPAGE WATER, IF IT IS PROPOSED TO HAVE BASEMENT FLOOR AND AS WELL AS DEWATERING ARRANGEMENTS DURING FLOOD PERIODS.\nCLEARLY DEMARCATE THE BOUNDARY OF THEIR LAND ESPECIALLY ON SOUTHERN SIDE BEFORE COMMENCEMENT OF ANY DEVELOPMENTAL ACTIVITIES IN THE PRESENCE OF REVENUE AUTHORITIES AND WRD AUTHORITIES. THE APPLICANT SHOULD ALSO MAINTAIN THE\nNUE RECORDS WITHOUT ANY ENCROACHMENTS AND SHOULD BE MAINTAINED AS PER REVENUE RECORDS (FMB).\nED TO THE APPLICANTS, SHOULD NOT BE ALTERED/MODIFIED/ CHANGED TO ANY OTHERS. BASED ON THE RECORDS SUBMITTED BY THE APPLICANTS, THE PERMISSION IS GRANTED IF ANY DOCUMENTS SEEM TO BE FAKE / MANIPULATED/FABRICATED, IN FUTURE THE\nCANCELLED WITHOUT ANY CORRESPONDENCE. HENCE, THE APPLICANTS ARE SOLELY RESPONSIBLE OF GENUINETY OF THE DOCUMENTS SUBMITTED.\nULD BE ALLOWED TO INSPECT THE SITE AT ANY TIME, DURING EXECUTION AND THEREAFTER, IF NECESSARY, ADVANCE INTIMATION SHOULD BE GIVEN TO THE WRD OFFICERS CONCERNED BEFORE COMMENCEMENT OF WORK.\nABIDE BY THE RULES AND REGULATION OF THE WRD FROM TIME TO TIME. THE APPLICANTS SHOULD ALSO ABIDE COURT OF LAW OF BOTH STATE & CENTRAL GOVERNMENT FROM TIME TO TIME.\nNOT OBJECT AT ANY TIME FOR THE MAINTENANCE WORKS / IMPROVEMENT WORKS OF THE CHANNELS WHICH ARE PROPOSED TO BE CARRIED OUT BY WRD. THE APPLICANT SHOULD GIVE AN UNDERTAKING IN WRITING TO THE EFFECT THAT THE ABOVE PROPOSAL WILL\nMAINTENANCE / IMPROVEMENT / DEVELOPMENT WORKS AS PER REVENUE RECORDS [FMB), WHICH ARE PROPOSED TO BE CARRIED OUT BY WRD IN FUTURE PERIODICALLY.\nNOT CONSTRUCT ANY CROSS MASONRY ACROSS THE CHANNEL WITHOUT PRIOR PERMISSION OF WRD. IF ANY DAMAGES OCCURRED TO THE GOVERNMENT CHANNEL, THE SAME SHOULD BE RESTORED TO ITS ORIGINAL CONDITION AT THEIR OWN COST.\nEL IN S.F.NO.265 STRETCH ABUTTING THE APPLICANT BOUNDARY ON SOUTHERN SIDE SHOULD BE MARKED AS PER FMB AND MONITORED AND MAINTAINED BY THE APPLICANT AT HIS OWN COST. THE WIDTH OF THE CHANNEL SHOULD BE MAINTAINED WITHOUT\nVENUE RECORDS AND THE HYDRAULIC PARAMETERS OF THE CHANNEL SHOULD BE MAINTAINED. THE APPLICANT SHOULD MAKE NECESSARY PERIODICAL ARRANGEMENTS FOR FREE FLOW OF WATER THROUGH THE EXISTING CHANNEL TO THE DOWNSIDE AREA WITHIN\n. ALSO, THE APPLICANT SHOULD DE-SILT THE CHANNEL PERIODICALLY AND REMOVE THE OBSTRUCTION THEN AND THERE WITHOUT ANY HINDRANCE FOR FREE FLOW OF WATER AT HIS OWN COST WITHIN THE PROPOSED LAND, AFTER THE COMPLETION OF PROJECT\nNEL IN S.F.NO 265 ABUTTING THE APPLICANT LAND SHOULD BE COMPLETELY DESILTED AND RESECTIONED BY CONSTRUCTING RETAINING WALL ON EITHER SIDE OF THE CHANNEL WITH CONCRETE BED AS PER THE FMB UPTO THEIR STRETCH AT THE APPLICANT'S OWN\nABOVE CHANNEL SHOULD BE ASCERTAINED AND RESTORED BEFORE COMMENCING THE DEVELOPMENT ACTIVITY IN THE PRESENCE OF THE CONCERNED WRD EXECUTIVE ENGINEER. MOREOVER, THE WIDTH OF ENTIRE CHANNEL AS PER REVENUE RECORDS (FMB)\nH OF APPLICANT'S LAND SHOULD BE MAINTAINED PROPERLY WITHOUT ANY CHANGE AND WITHOUT ENCROACHMENTS.\nNLY IN CONNECTION WITH THE INUNDATION ASPECT AND DOES NOT DELIVER ANY RIGHTS TO THE APPLICANTS TO ENCROACH THE WRD/GOVERNMENT LANDS/RIVER. THE NOC FOR THIS SITE FROM THE WRD IS PURELY ISSUED ON THE BASIS OF INUNDATION POINT OF\nPREPARE THE LAYOUT PROPOSAL BY CONSIDERING THE SUITABLE INTERNAL STORM WATER DRAINAGE NETWORK DRAIN AS MICRO DRAINS OF SUITABLE SIZE WITHIN THE SITE AS PER SITE CONDITION. THE SAME SHOULD BE CONNECTED TO THE LOCAL DRAIN /\nSTING, ROADS WITH ROAD SIDE DRAIN AND SEWERAGE TREATMENT AND ITS DISPOSAL AND GARBAGES/DEBRIS AND OTHER SOLID WASTE MANAGEMENT AS PER NORMS IN EXISTENCE WITHIN THE APPLICANT'S LAND ACCORDING TO EXISTING RULES IN FORCE AND\nVAL FROM COMPETENT AUTHORITY WITHOUT FAIL THE SEWAGE OR ANY UNHYGIENIC DRAINAGE (TREATED OR UNTREATED) SHOULD NOT BE LET INTO DRAIN/CHARINEL/COURSE AT ANY COST AND THE DEBRIS AND OTHER MATERIALS SHOULD NOT BE SDUMPED INTO\nE OBSTRUCTING FREE FLOW OF WATER, THE APPLICANTS SHOULD MAKE DRAINAGE NETWORK, AT THEIR OWN COST AND THE SAME IS TO BE CONNECTED TO NATURAL STORM WATER DRAINAGE / CHANNEL. THERE SHOULD NOT BE ANY HINDRANCE TO THE FREE FLOW\nSTREAM.\nK DISTANCE AS PER SITE CONDITION AS PER THE NOMS IN EXISTENCE AND AS PER THE RULES IN FORCE OF CMDA (AS PER THE CIRCULAR ISSUED BY THE OFFICE OF THE COMMISSIONER OF TOWN & COUNTRY PLANNING. CHENNAI-2 VIDE ROC. NO.4367/ 2019-BA2/\nVELOPMENT AND THERE SHOULD NOT BE ANY CONSTRUCTION ACTIVITIES IN FUTURE ALSO, THE CMDA SHOULD ISSUE COMPLETION CERTIFICATE ONLY AFTER OBTAINING COMPLIANCE CERTIFICATE NOC FROM WRD.\nGET CLEARANCE CERTIFICATE FOR THIS SITE FROM THE REVENUE DEPARTMENT TO MAKE SURE THAT THE SITE IS NOT AN ENCROACHED PROPERTY FROM THE WATER BODY AS WELL AS CONFIRMING THIS PROPOSED SITE BOUNDARIES.\nM THE APPLICANTS' LAND SHOULD NOT LET INTO THE DRAIN AND FOR THE DISPOSAL OF THE SEWAGE WATER, SUITABLE ARRANGEMENTS SHOULD BE MADE FOR THE SAME BY THE APPLICANTS, AND AS WELL AS THE CONSTRUCTION MATERIALS/DEBRIS/GARBAGES\nO THE RIVER/ERI/CHANNEL/POND AT ANY COST.\nULLAGE SHOULD NOT BE LET INTO RIVER / ERI/CHANNEL/POND, AND THE GARBAGES, DEBRIS AND CONSTRUCTION MATERIALS SHOULD NOT BE DUMPED INTO THE RIVER ERI/CHANNEL/POND RESTRICTING THE FREE FLOW OF WATER.\nUMENT RECEIVED FROM THE APPLICANTS IN RESPECT TO THE OWNERSHIP IS PURELY OF APPLICANTS' RESPONSIBILITY AND IT IS ONLY FOR REFERENCE PURPOSE TO THIS. DEPARTMENT. THE LEGAL VALIDITY OF THIS DOCUMENT SHOULD BE VERIFIED BY THE\nTHORITIES. THE SPECIFIC REMARKS ON INUNDATION ARE PURELY ISSUED ON TECHNICAL GROUNDS IN RESPECT TO THE PHYSICAL LOCATION OF LAND.\nANY OF THE ABOVE CONDITIONS, WRD RESERVES RIGHTS TO WITHDRAW THE TECHNICAL OPINION ON INUNDATION POINT OF VIEW TO THE ABOVE PROPOSED SITE AND IN EVENT, THE APPLICANTS SHALL NOT BE ELIGIBLE FOR ANY COMPENSATION WHATSOEVER AND\nURE COMPLIANCE OF ALL THE CONDITIONS STIPULATE BY WRD, PWD IN THEIR LETTER NO.DB/T5(3)/F.0636 VILANGADUPAKKAM VILLAGE 2484 / 2024 / DATED:02.04.2024, AND SHALL OBTAIN A LETTER FROM WRD CONFIRMING THE COMPLIANCE OF THE CONDITIONS BEFORE\nOF THE LAYOUT.\n(11)\nEMENTS TO THE SYSTEMS IN RESPECT OF ROAD, WATER SUPPLY, SEWERAGE, DRAINAGE OR ELECTRIC POWER SUPPLY THAT MAY BE REQUIRED AS ASSESSED BY THE CONCERNED AUTHORITY, NAMELY, THE LOCAL BODY AND TAMIL NADU ELECTRICITY BOARD, SHALL\n.\nNSIBLE FOR THE SHAPE, SIZE & DIMENSIONS OF THE SITE UNDER REFERENCE.\nUILDING LINE TO BE LEFT AS PER THE RULE IN FORCE WHILE TAKING UP DEVELOPMENT IN EVERY PLOT.\nCONDITIONS:\nTHE SUB-DIVISION APPROVED IS VALID\nSUBJECT TO OBTAINING SANCTION FROM\nTHE LOCAL BODY CONCERNED.\nAL BODY\nP.P.D 160\nNO :\nL.O 2024\nAPPROVED\nVIDE LETTER NO : LAYOUT-1 / 0358 / 2023\nDATE : 24 / 07 / 2024\nThis Planning Permission Issued under New Rule\nTNCDBR.2019 is subject to final outcome of the\nW.P(MD) No.8948 of 2019 and WMP (MD) OFFICE COPY\nNos. 6912 & 6913 of 2019.\nFOR CHIEF PLANNER (LAYOUT)\nCHENNAI METROPOLITAN\nDEVELOPMENT AUTHORITY\nDUPAKKAM VILLAGE.",
         "True",
         null,
         null,
         null,
         "24 / 07 / 2024",
         "LAYOUT-1"
        ],
        [
         "162",
         "163",
         "163/2024",
         "Thiruverkadu MP Limit",
         "Ayanambakkam",
         "https://www.cmdachennai.gov.in/pdfs/layouts/2024/163-2024.pdf",
         "163/2024",
         "2024/163.pdf",
         "TE EXTENT : 8600 SQ.M FILE NO: LAYOUT-1 /0152/ 2024\n(AS PER PATTA )\nOAD AREA : 2684 SQ.M\nBLIC PURPOSE AREA (1%) : 71 SQ.M\n-1 HANDED OVER TO THE LOCAL BODY (0.5%) : 33.0 SQ.M\n-2 HANDED OVER TO THE TANGEDCO (0.5%) : 38.0 SQ.M\nO. OF PLOTS : 59 Nos.\nOTE:\nSPLAY - 1.5M X 1.5M\nMEASUREMENTS ARE INDICATED EXCLUDING SPLAY DIMENSION.\nROAD AREA WERE HANDED OVER TO THE LOCAL BODY VIDE GIFT DEED\nP U B L I C P U R P O S E - 1\nDOCUMENT NO.4711/2024, DATED: 22.07.2024, @ SRO KONNUR.\nPUBLIC PURPOSE -2\n(RESERVED FOR TANGEDCO)\nONDITIONS:\nTHE FOLLOWING CONDITIONS OF PWD VIDE THE CE,WRD,CHENNAI REGION, CHEPAUK , CHENNAI -5. LETTER NO.DB / T5(3) / F- 9041NOC AYANAMBAKKAM VILLAGE 0320 / 2024 / DATED. 30.01.2024, ARE TO BE COMPLIED BY THE APPLICANT BEFORE ISSUING OF THE LAYOUT APPROVAL BY THE\nMPETENT AUTHORITY (LOCAL BODY(cid:12)\n(cid:55)(cid:75)(cid:72)(cid:3)(cid:68)(cid:83)(cid:83)(cid:79)(cid:76)(cid:70)(cid:68)(cid:81)(cid:87)(cid:10)(cid:86)(cid:3)(cid:79)(cid:68)(cid:81)(cid:71)(cid:3)(cid:86)(cid:75)(cid:82)(cid:88)(cid:79)(cid:71)(cid:3)(cid:69)(cid:72)(cid:3)(cid:73)(cid:76)(cid:79)(cid:79)(cid:72)(cid:71)(cid:3)(cid:90)(cid:76)(cid:87)(cid:75)(cid:3)(cid:72)(cid:68)(cid:85)(cid:87)(cid:75)(cid:3)(cid:73)(cid:76)(cid:79)(cid:79)(cid:76)(cid:81)(cid:74)(cid:3)(cid:90)(cid:76)(cid:87)(cid:75)(cid:3)(cid:83)(cid:85)(cid:82)(cid:83)(cid:72)(cid:85)(cid:3)(cid:70)(cid:82)(cid:80)(cid:83)(cid:68)(cid:70)(cid:87)(cid:76)(cid:82)(cid:81)(cid:3)(cid:87)(cid:82)(cid:3)(cid:87)(cid:75)(cid:72)(cid:3)(cid:80)(cid:76)(cid:81)(cid:76)(cid:80)(cid:88)(cid:80)(cid:3)(cid:47)(cid:72)(cid:89)(cid:72)(cid:79)(cid:3)(cid:82)(cid:73)(cid:3)(cid:11)(cid:14)(cid:12)18(cid:17)380(cid:80)(cid:3)(cid:62)(cid:11)(cid:76)(cid:17)(cid:72)(cid:17)(cid:12)(cid:3)1(cid:17)19(cid:80)(cid:3)(cid:68)(cid:69)(cid:82)(cid:89)(cid:72)(cid:3)(cid:38)(cid:85)(cid:72)(cid:86)(cid:87)(cid:3)(cid:79)(cid:72)(cid:89)(cid:72)(cid:79)(cid:3)(cid:82)(cid:73)(cid:3)(cid:36)(cid:92)(cid:68)(cid:81)(cid:68)(cid:80)(cid:69)(cid:68)(cid:78)(cid:78)(cid:68)(cid:80)(cid:3)(cid:55)(cid:68)(cid:81)(cid:78)(cid:3)(cid:11)(cid:14)(cid:12)17(cid:17)190(cid:80)(cid:12)(cid:3)(cid:87)(cid:82)(cid:3)(cid:83)(cid:85)(cid:82)(cid:87)(cid:72)(cid:70)(cid:87)(cid:3)(cid:87)(cid:75)(cid:72)(cid:3)(cid:86)(cid:76)(cid:87)(cid:72)(cid:3)(cid:73)(cid:85)(cid:82)(cid:80)(cid:3)(cid:76)(cid:81)(cid:88)(cid:81)(cid:71)(cid:68)(cid:87)(cid:76)(cid:82)(cid:81)(cid:3)(cid:71)(cid:88)(cid:85)(cid:76)(cid:81)(cid:74)(cid:3)(cid:73)(cid:79)(cid:82)(cid:82)(cid:71)(cid:86)(cid:17)(cid:3)(cid:55)(cid:75)(cid:72)(cid:3)(cid:83)(cid:85)(cid:82)(cid:70)(cid:72)(cid:86)(cid:86)(cid:3)(cid:82)(cid:73)(cid:3)(cid:72)(cid:68)(cid:85)(cid:87)(cid:75)(cid:3)(cid:73)(cid:76)(cid:79)(cid:79)(cid:76)(cid:81)(cid:74)(cid:3)(cid:68)(cid:81)(cid:71)(cid:3)(cid:70)(cid:82)(cid:80)(cid:83)(cid:68)(cid:70)(cid:87)(cid:76)(cid:82)(cid:81)(cid:3)(cid:86)(cid:75)(cid:82)(cid:88)(cid:79)(cid:71)(cid:3)(cid:69)(cid:72)(cid:3)(cid:71)(cid:82)(cid:81)(cid:72)(cid:3)(cid:76)(cid:81)(cid:3)(cid:79)(cid:68)(cid:92)(cid:72)(cid:85)(cid:86)(cid:3)(cid:82)(cid:73)(cid:3)(cid:81)(cid:82)(cid:87)(cid:3)(cid:80)(cid:82)(cid:85)(cid:72)(cid:3)(cid:87)(cid:75)(cid:68)(cid:81)(cid:3)0(cid:17)30(cid:3)(cid:80)(cid:72)(cid:87)(cid:85)(cid:72)(cid:3)(cid:71)(cid:72)(cid:83)(cid:87)(cid:75)(cid:3)(cid:87)(cid:82)(cid:3)(cid:68)(cid:70)(cid:75)(cid:76)(cid:72)(cid:89)(cid:72)(cid:3)(cid:85)(cid:72)(cid:84)(cid:88)(cid:76)(cid:85)(cid:72)(cid:71)(cid:3)(cid:71)(cid:72)(cid:74)(cid:85)(cid:72)(cid:72)(cid:3)(cid:82)(cid:73)(cid:3)(cid:70)(cid:82)(cid:80)(cid:83)(cid:68)(cid:70)(cid:87)(cid:76)(cid:82)(cid:81)(cid:3)(cid:73)(cid:82)(cid:85)(cid:3)(cid:87)(cid:75)(cid:72)(cid:3)(cid:71)(cid:72)(cid:83)(cid:87)(cid:75)(cid:3)(cid:89)(cid:68)(cid:85)(cid:92)(cid:76)(cid:81)(cid:74)(cid:3)(cid:73)(cid:85)(cid:82)(cid:80)\n10(cid:80)(cid:3)(cid:87)(cid:82)(cid:3)1(cid:17)550(cid:80)(cid:3)(cid:71)(cid:72)(cid:83)(cid:72)(cid:81)(cid:71)(cid:76)(cid:81)(cid:74)(cid:3)(cid:88)(cid:83)(cid:82)(cid:81)(cid:3)(cid:87)(cid:75)(cid:72)(cid:3)(cid:72)(cid:91)(cid:76)(cid:86)(cid:87)(cid:76)(cid:81)(cid:74)(cid:3)(cid:73)(cid:76)(cid:72)(cid:79)(cid:71)(cid:3)(cid:79)(cid:72)(cid:89)(cid:72)(cid:79)(cid:86)(cid:17)(cid:3)(cid:36)(cid:79)(cid:86)(cid:82)(cid:15)(cid:3)(cid:87)(cid:75)(cid:72)(cid:3)(cid:68)(cid:83)(cid:83)(cid:79)(cid:76)(cid:70)(cid:68)(cid:81)(cid:87)(cid:3)(cid:86)(cid:75)(cid:82)(cid:88)(cid:79)(cid:71)(cid:3)(cid:83)(cid:85)(cid:82)(cid:89)(cid:76)(cid:71)(cid:72)(cid:3)(cid:72)(cid:80)(cid:72)(cid:85)(cid:74)(cid:72)(cid:81)(cid:70)(cid:92)(cid:3)(cid:83)(cid:88)(cid:80)(cid:83)(cid:76)(cid:81)(cid:74)(cid:3)(cid:82)(cid:83)(cid:72)(cid:85)(cid:68)(cid:87)(cid:76)(cid:82)(cid:81)(cid:3)(cid:73)(cid:82)(cid:85)(cid:3)(cid:87)(cid:75)(cid:72)(cid:3)(cid:86)(cid:72)(cid:72)(cid:83)(cid:68)(cid:74)(cid:72)(cid:3)(cid:90)(cid:68)(cid:87)(cid:72)(cid:85)(cid:15)(cid:3)(cid:76)(cid:73)(cid:3)(cid:76)(cid:87)(cid:3)(cid:76)(cid:86)(cid:3)(cid:83)(cid:85)(cid:82)(cid:83)(cid:82)(cid:86)(cid:72)(cid:71)(cid:3)(cid:87)(cid:82)(cid:3)(cid:75)(cid:68)(cid:89)(cid:72)(cid:3)(cid:69)(cid:68)(cid:86)(cid:72)(cid:80)(cid:72)(cid:81)(cid:87)(cid:3)(cid:73)(cid:79)(cid:82)(cid:82)(cid:85)(cid:3)(cid:68)(cid:81)(cid:71)(cid:3)(cid:68)(cid:86)(cid:3)(cid:90)(cid:72)(cid:79)(cid:79)(cid:3)(cid:68)(cid:86)(cid:3)(cid:71)(cid:72)(cid:90)(cid:68)(cid:87)(cid:72)(cid:85)(cid:76)(cid:81)(cid:74)(cid:3)(cid:68)(cid:85)(cid:85)(cid:68)(cid:81)(cid:74)(cid:72)(cid:80)(cid:72)(cid:81)(cid:87)(cid:86)(cid:3)(cid:71)(cid:88)(cid:85)(cid:76)(cid:81)(cid:74)(cid:3)(cid:73)(cid:79)(cid:82)(cid:82)(cid:71)(cid:3)(cid:83)(cid:72)(cid:85)(cid:76)(cid:82)(cid:71)(cid:86)(cid:17)(cid:3)(cid:55)(cid:75)(cid:72)(cid:3)(cid:68)(cid:79)(cid:79)(cid:3)(cid:85)(cid:82)(cid:88)(cid:81)(cid:71)(cid:3)(cid:83)(cid:68)(cid:89)(cid:72)(cid:80)(cid:72)(cid:81)(cid:87)(cid:3)(cid:79)(cid:72)(cid:89)(cid:72)(cid:79)(cid:3)(cid:90)(cid:76)(cid:87)(cid:75)(cid:76)(cid:81)(cid:3)(cid:87)(cid:75)(cid:72)(cid:3)(cid:86)(cid:76)(cid:87)(cid:72)(cid:3)(cid:86)(cid:75)(cid:82)(cid:88)(cid:79)(cid:71)(cid:3)(cid:69)(cid:72)(cid:3)(cid:79)(cid:72)(cid:86)(cid:86)(cid:3)(cid:87)(cid:75)(cid:68)(cid:81)(cid:3)(cid:11)(cid:14)(cid:12)18(cid:17)380(cid:80)(cid:17)(cid:3)(cid:55)(cid:75)(cid:72)(cid:3)(cid:85)(cid:72)(cid:74)(cid:88)(cid:79)(cid:68)(cid:85)(cid:3)(cid:75)(cid:68)(cid:69)(cid:76)(cid:87)(cid:68)(cid:87)(cid:76)(cid:82)(cid:81)(cid:3)(cid:86)(cid:75)(cid:82)(cid:88)(cid:79)(cid:71)(cid:3)(cid:81)(cid:82)(cid:87)(cid:3)(cid:69)(cid:72)(cid:3)(cid:69)(cid:72)(cid:79)(cid:82)(cid:90)(cid:3)(cid:48)(cid:41)(cid:47)(cid:17)\n(cid:55)(cid:75)(cid:72)(cid:3)(cid:68)(cid:83)(cid:83)(cid:79)(cid:76)(cid:70)(cid:68)(cid:81)(cid:87)(cid:3)(cid:86)(cid:75)(cid:82)(cid:88)(cid:79)(cid:71)(cid:3)(cid:70)(cid:79)(cid:72)(cid:68)(cid:85)(cid:79)(cid:92)(cid:3)(cid:71)(cid:72)(cid:80)(cid:68)(cid:85)(cid:70)(cid:68)(cid:87)(cid:72)(cid:3)(cid:87)(cid:75)(cid:72)(cid:3)(cid:69)(cid:82)(cid:88)(cid:81)(cid:71)(cid:68)(cid:85)(cid:92)(cid:3)(cid:82)(cid:73)(cid:3)(cid:75)(cid:76)(cid:86)(cid:3)(cid:79)(cid:68)(cid:81)(cid:71)(cid:3)(cid:69)(cid:72)(cid:73)(cid:82)(cid:85)(cid:72)(cid:3)(cid:70)(cid:82)(cid:80)(cid:80)(cid:72)(cid:81)(cid:70)(cid:72)(cid:80)(cid:72)(cid:81)(cid:87)(cid:3)(cid:82)(cid:73)(cid:3)(cid:68)(cid:81)(cid:92)(cid:3)(cid:71)(cid:72)(cid:89)(cid:72)(cid:79)(cid:82)(cid:83)(cid:80)(cid:72)(cid:81)(cid:87)(cid:68)(cid:79)(cid:3)(cid:68)(cid:70)(cid:87)(cid:76)(cid:89)(cid:76)(cid:87)(cid:76)(cid:72)(cid:86)(cid:3)(cid:76)(cid:81)(cid:3)(cid:87)(cid:75)(cid:72)(cid:3)(cid:83)(cid:85)(cid:72)(cid:86)(cid:72)(cid:81)(cid:70)(cid:72)(cid:3)(cid:82)(cid:73)(cid:3)(cid:53)(cid:72)(cid:89)(cid:72)(cid:81)(cid:88)(cid:72)(cid:3)(cid:68)(cid:81)(cid:71)(cid:3)(cid:58)(cid:53)(cid:39)(cid:3)(cid:68)(cid:88)(cid:87)(cid:75)(cid:82)(cid:85)(cid:76)(cid:87)(cid:76)(cid:72)(cid:86)(cid:17)(cid:3)(cid:55)(cid:75)(cid:72)(cid:3)(cid:68)(cid:83)(cid:83)(cid:79)(cid:76)(cid:70)(cid:68)(cid:81)(cid:87)(cid:3)(cid:86)(cid:75)(cid:82)(cid:88)(cid:79)(cid:71)(cid:3)(cid:68)(cid:79)(cid:86)(cid:82)(cid:3)(cid:80)(cid:68)(cid:76)(cid:81)(cid:87)(cid:68)(cid:76)(cid:81)(cid:3)(cid:87)(cid:75)(cid:72)(cid:3)(cid:80)(cid:72)(cid:68)(cid:86)(cid:88)(cid:85)(cid:72)(cid:80)(cid:72)(cid:81)(cid:87)(cid:3)(cid:82)(cid:73)(cid:3)(cid:87)(cid:75)(cid:72)(cid:3)(cid:70)(cid:75)(cid:68)(cid:81)(cid:81)(cid:72)(cid:79)(cid:3)(cid:54)(cid:41)(cid:17)(cid:49)(cid:82)(cid:17)539(cid:3)(cid:90)(cid:76)(cid:71)(cid:87)(cid:75)(cid:3)(cid:82)(cid:73)(cid:3)(cid:87)(cid:75)(cid:72)(cid:3)(cid:70)(cid:75)(cid:68)(cid:81)(cid:81)(cid:72)(cid:79)(cid:3)(cid:72)(cid:68)(cid:85)(cid:80)(cid:68)(cid:85)(cid:78)(cid:72)(cid:71)(cid:3)(cid:76)(cid:81)(cid:3)(cid:87)(cid:75)(cid:72)(cid:3)(cid:53)(cid:72)(cid:89)(cid:72)(cid:81)(cid:88)(cid:72)(cid:3)(cid:85)(cid:72)(cid:70)(cid:82)(cid:85)(cid:71)(cid:86)(cid:3)(cid:68)(cid:81)(cid:71)(cid:3)(cid:86)(cid:75)(cid:82)(cid:88)(cid:79)(cid:71)(cid:3)(cid:81)(cid:72)(cid:89)(cid:72)(cid:85)(cid:3)(cid:69)(cid:72)(cid:3)(cid:68)(cid:79)(cid:87)(cid:72)(cid:85)(cid:72)(cid:71)(cid:3)(cid:68)(cid:81)(cid:71)(cid:3)(cid:80)(cid:88)(cid:86)(cid:87)(cid:3)(cid:69)(cid:72)(cid:3)(cid:80)(cid:68)(cid:76)(cid:81)(cid:87)(cid:68)(cid:76)(cid:81)(cid:72)(cid:71)(cid:3)(cid:68)(cid:87)(cid:3)(cid:68)(cid:79)(cid:79)(cid:3)(cid:87)(cid:76)(cid:80)(cid:72)(cid:3)(cid:90)(cid:76)(cid:87)(cid:75)(cid:82)(cid:88)(cid:87)(cid:3)(cid:68)(cid:81)(cid:92)(cid:3)(cid:72)(cid:81)(cid:70)(cid:85)(cid:82)(cid:68)(cid:70)(cid:75)(cid:80)(cid:72)(cid:81)(cid:87)(cid:86)(cid:3)(cid:68)(cid:81)(cid:71)(cid:3)(cid:86)(cid:75)(cid:82)(cid:88)(cid:79)(cid:71)(cid:3)(cid:69)(cid:72)\n(cid:76)(cid:81)(cid:87)(cid:68)(cid:76)(cid:81)(cid:72)(cid:71)(cid:3)(cid:68)(cid:86)(cid:3)(cid:83)(cid:72)(cid:85)(cid:3)(cid:53)(cid:72)(cid:89)(cid:72)(cid:81)(cid:88)(cid:72)(cid:3)(cid:85)(cid:72)(cid:70)(cid:82)(cid:85)(cid:71)(cid:86)(cid:3)(cid:11)(cid:41)(cid:48)(cid:37)(cid:12)(cid:17)\n(cid:55)(cid:75)(cid:72)(cid:3)(cid:83)(cid:72)(cid:85)(cid:80)(cid:76)(cid:86)(cid:86)(cid:76)(cid:82)(cid:81)(cid:3)(cid:74)(cid:85)(cid:68)(cid:81)(cid:87)(cid:72)(cid:71)(cid:3)(cid:87)(cid:82)(cid:3)(cid:87)(cid:75)(cid:72)(cid:3)(cid:68)(cid:83)(cid:83)(cid:79)(cid:76)(cid:70)(cid:68)(cid:81)(cid:87)(cid:15)(cid:3)(cid:86)(cid:75)(cid:82)(cid:88)(cid:79)(cid:71)(cid:3)(cid:81)(cid:82)(cid:87)(cid:3)(cid:69)(cid:72)(cid:3)(cid:68)(cid:79)(cid:87)(cid:72)(cid:85)(cid:72)(cid:71)(cid:3)(cid:18)(cid:3)(cid:80)(cid:82)(cid:71)(cid:76)(cid:73)(cid:76)(cid:72)(cid:71)(cid:3)(cid:18)(cid:3)(cid:70)(cid:75)(cid:68)(cid:81)(cid:74)(cid:72)(cid:71)(cid:3)(cid:87)(cid:82)(cid:3)(cid:68)(cid:81)(cid:92)(cid:3)(cid:82)(cid:87)(cid:75)(cid:72)(cid:85)(cid:86)(cid:17)(cid:3)(cid:37)(cid:68)(cid:86)(cid:72)(cid:71)(cid:3)(cid:82)(cid:81)(cid:3)(cid:87)(cid:75)(cid:72)(cid:3)(cid:85)(cid:72)(cid:70)(cid:82)(cid:85)(cid:71)(cid:86)(cid:3)(cid:86)(cid:88)(cid:69)(cid:80)(cid:76)(cid:87)(cid:87)(cid:72)(cid:71)(cid:3)(cid:69)(cid:92)(cid:3)(cid:87)(cid:75)(cid:72)(cid:3)(cid:68)(cid:83)(cid:83)(cid:79)(cid:76)(cid:70)(cid:68)(cid:81)(cid:87)(cid:15)(cid:3)(cid:87)(cid:75)(cid:72)(cid:3)(cid:83)(cid:72)(cid:85)(cid:80)(cid:76)(cid:86)(cid:86)(cid:76)(cid:82)(cid:81)(cid:3)(cid:76)(cid:86)(cid:3)(cid:74)(cid:85)(cid:68)(cid:81)(cid:87)(cid:72)(cid:71)(cid:17)(cid:3)(cid:44)(cid:73)(cid:3)(cid:68)(cid:81)(cid:92)(cid:3)(cid:71)(cid:82)(cid:70)(cid:88)(cid:80)(cid:72)(cid:81)(cid:87)(cid:86)(cid:3)(cid:86)(cid:72)(cid:72)(cid:80)(cid:3)(cid:87)(cid:82)(cid:3)(cid:69)(cid:72)(cid:3)(cid:73)(cid:68)(cid:78)(cid:72)(cid:3)(cid:18)(cid:3)(cid:80)(cid:68)(cid:81)(cid:76)(cid:83)(cid:88)(cid:79)(cid:68)(cid:87)(cid:72)(cid:71)(cid:3)(cid:18)(cid:3)(cid:73)(cid:68)(cid:69)(cid:85)(cid:76)(cid:70)(cid:68)(cid:87)(cid:72)(cid:71)(cid:15)(cid:3)(cid:76)(cid:81)(cid:3)(cid:73)(cid:88)(cid:87)(cid:88)(cid:85)(cid:72)(cid:3)(cid:87)(cid:75)(cid:72)(cid:3)(cid:68)(cid:69)(cid:82)(cid:89)(cid:72)(cid:3)(cid:83)(cid:72)(cid:85)(cid:80)(cid:76)(cid:86)(cid:86)(cid:76)(cid:82)(cid:81)(cid:3)(cid:90)(cid:76)(cid:79)(cid:79)(cid:3)(cid:69)(cid:72)(cid:3)(cid:70)(cid:68)(cid:81)(cid:70)(cid:72)(cid:79)(cid:79)(cid:72)(cid:71)(cid:3)(cid:90)(cid:76)(cid:87)(cid:75)(cid:82)(cid:88)(cid:87)(cid:3)(cid:68)(cid:81)(cid:92)(cid:3)(cid:70)(cid:82)(cid:85)(cid:85)(cid:72)(cid:86)(cid:83)(cid:82)(cid:81)(cid:71)(cid:72)(cid:81)(cid:70)(cid:72)(cid:3)(cid:68)(cid:81)(cid:71)(cid:3)(cid:71)(cid:72)(cid:83)(cid:82)(cid:86)(cid:76)(cid:87)(cid:72)(cid:71)(cid:3)(cid:68)(cid:80)(cid:82)(cid:88)(cid:81)(cid:87)(cid:3)(cid:73)(cid:82)(cid:85)(cid:3)(cid:70)(cid:68)(cid:88)(cid:87)(cid:76)(cid:82)(cid:81)(cid:3)(cid:71)(cid:72)(cid:83)(cid:82)(cid:86)(cid:76)(cid:87)(cid:3)(cid:9)(cid:3)(cid:79)(cid:72)(cid:68)(cid:86)(cid:72)(cid:3)(cid:85)(cid:72)(cid:81)(cid:87)(cid:3)(cid:90)(cid:76)(cid:79)(cid:79)(cid:3)(cid:81)(cid:82)(cid:87)(cid:3)(cid:69)(cid:72)(cid:3)(cid:85)(cid:72)(cid:73)(cid:88)(cid:81)(cid:71)(cid:72)(cid:71)(cid:17)(cid:3)(cid:43)(cid:72)(cid:81)(cid:70)(cid:72)(cid:15)(cid:3)(cid:87)(cid:75)(cid:72)(cid:3)(cid:68)(cid:83)(cid:83)(cid:79)(cid:76)(cid:70)(cid:68)(cid:81)(cid:87)(cid:3)(cid:76)(cid:86)\n(cid:72)(cid:79)(cid:92)(cid:3)(cid:85)(cid:72)(cid:86)(cid:83)(cid:82)(cid:81)(cid:86)(cid:76)(cid:69)(cid:79)(cid:72)(cid:3)(cid:82)(cid:73)(cid:3)(cid:74)(cid:72)(cid:81)(cid:88)(cid:76)(cid:81)(cid:72)(cid:87)(cid:92)(cid:3)(cid:82)(cid:73)(cid:3)(cid:87)(cid:75)(cid:72)(cid:3)(cid:71)(cid:82)(cid:70)(cid:88)(cid:80)(cid:72)(cid:81)(cid:87)(cid:86)(cid:3)(cid:86)(cid:88)(cid:69)(cid:80)(cid:76)(cid:87)(cid:87)(cid:72)(cid:71)(cid:17)(cid:18)\n(cid:75)(cid:72)(cid:3)(cid:58)(cid:53)(cid:39)(cid:3)(cid:82)(cid:73)(cid:73)(cid:76)(cid:70)(cid:72)(cid:85)(cid:86)(cid:3)(cid:86)(cid:75)(cid:82)(cid:88)(cid:79)(cid:71)(cid:3)(cid:69)(cid:72)(cid:3)(cid:68)(cid:79)(cid:79)(cid:82)(cid:90)(cid:72)(cid:71)(cid:3)(cid:87)(cid:82)(cid:3)(cid:76)(cid:81)(cid:86)(cid:83)(cid:72)(cid:70)(cid:87)(cid:3)(cid:87)(cid:75)(cid:72)(cid:3)(cid:86)(cid:76)(cid:87)(cid:72)(cid:3)(cid:68)(cid:87)(cid:3)(cid:68)(cid:81)(cid:92)(cid:3)(cid:87)(cid:76)(cid:80)(cid:72)(cid:15)(cid:3)(cid:71)(cid:88)(cid:85)(cid:76)(cid:81)(cid:74)(cid:3)(cid:72)(cid:91)(cid:72)(cid:70)(cid:88)(cid:87)(cid:76)(cid:82)(cid:81)(cid:3)(cid:68)(cid:81)(cid:71)(cid:3)(cid:87)(cid:75)(cid:72)(cid:85)(cid:72)(cid:68)(cid:73)(cid:87)(cid:72)(cid:85)(cid:15)(cid:3)(cid:76)(cid:73)(cid:3)(cid:81)(cid:72)(cid:70)(cid:72)(cid:86)(cid:86)(cid:68)(cid:85)(cid:92)(cid:17)(cid:3)(cid:36)(cid:71)(cid:89)(cid:68)(cid:81)(cid:70)(cid:72)(cid:3)(cid:76)(cid:81)(cid:87)(cid:76)(cid:80)(cid:68)(cid:87)(cid:76)(cid:82)(cid:81)(cid:3)(cid:86)(cid:75)(cid:82)(cid:88)(cid:79)(cid:71)(cid:3)(cid:69)(cid:72)(cid:3)(cid:74)(cid:76)(cid:89)(cid:72)(cid:81)(cid:3)(cid:87)(cid:82)(cid:3)(cid:87)(cid:75)(cid:72)(cid:3)(cid:58)(cid:53)(cid:39)(cid:3)(cid:82)(cid:73)(cid:73)(cid:76)(cid:70)(cid:72)(cid:85)(cid:86)(cid:3)(cid:70)(cid:82)(cid:81)(cid:70)(cid:72)(cid:85)(cid:81)(cid:72)(cid:71)(cid:3)(cid:69)(cid:72)(cid:73)(cid:82)(cid:85)(cid:72)(cid:3)(cid:70)(cid:82)(cid:80)(cid:80)(cid:72)(cid:81)(cid:70)(cid:72)(cid:80)(cid:72)(cid:81)(cid:87)(cid:3)(cid:82)(cid:73)(cid:3)(cid:90)(cid:82)(cid:85)(cid:78)(cid:17)\n(cid:55)(cid:75)(cid:72)(cid:3)(cid:68)(cid:83)(cid:83)(cid:79)(cid:76)(cid:70)(cid:68)(cid:81)(cid:87)(cid:3)(cid:86)(cid:75)(cid:82)(cid:88)(cid:79)(cid:71)(cid:3)(cid:68)(cid:69)(cid:76)(cid:71)(cid:72)(cid:3)(cid:69)(cid:92)(cid:3)(cid:87)(cid:75)(cid:72)(cid:3)(cid:85)(cid:88)(cid:79)(cid:72)(cid:86)(cid:3)(cid:68)(cid:81)(cid:71)(cid:3)(cid:85)(cid:72)(cid:74)(cid:88)(cid:79)(cid:68)(cid:87)(cid:76)(cid:82)(cid:81)(cid:3)(cid:82)(cid:73)(cid:3)(cid:87)(cid:75)(cid:72)(cid:3)(cid:58)(cid:53)(cid:39)(cid:3)(cid:73)(cid:85)(cid:82)(cid:80)(cid:3)(cid:87)(cid:76)(cid:80)(cid:72)(cid:3)(cid:87)(cid:82)(cid:3)(cid:87)(cid:76)(cid:80)(cid:72)(cid:17)(cid:3)(cid:55)(cid:75)(cid:72)(cid:3)(cid:68)(cid:83)(cid:83)(cid:79)(cid:76)(cid:70)(cid:68)(cid:81)(cid:87)(cid:3)(cid:86)(cid:75)(cid:82)(cid:88)(cid:79)(cid:71)(cid:3)(cid:68)(cid:79)(cid:86)(cid:82)(cid:3)(cid:68)(cid:69)(cid:76)(cid:71)(cid:72)(cid:3)(cid:70)(cid:82)(cid:88)(cid:85)(cid:87)(cid:3)(cid:82)(cid:73)(cid:3)(cid:79)(cid:68)(cid:90)(cid:3)(cid:82)(cid:73)(cid:3)(cid:69)(cid:82)(cid:87)(cid:75)(cid:3)(cid:54)(cid:87)(cid:68)(cid:87)(cid:72)(cid:3)(cid:9)(cid:3)(cid:38)(cid:72)(cid:81)(cid:87)(cid:85)(cid:68)(cid:79)(cid:3)(cid:42)(cid:82)(cid:89)(cid:72)(cid:85)(cid:81)(cid:80)(cid:72)(cid:81)(cid:87)(cid:3)(cid:73)(cid:85)(cid:82)(cid:80)(cid:3)(cid:87)(cid:76)(cid:80)(cid:72)(cid:3)(cid:87)(cid:82)(cid:3)(cid:87)(cid:76)(cid:80)(cid:72)(cid:17)\n(cid:55)(cid:75)(cid:72)(cid:3)(cid:68)(cid:83)(cid:83)(cid:79)(cid:76)(cid:70)(cid:68)(cid:81)(cid:87)(cid:3)(cid:86)(cid:75)(cid:82)(cid:88)(cid:79)(cid:71)(cid:3)(cid:81)(cid:82)(cid:87)(cid:3)(cid:82)(cid:69)(cid:77)(cid:72)(cid:70)(cid:87)(cid:3)(cid:68)(cid:87)(cid:3)(cid:68)(cid:81)(cid:92)(cid:3)(cid:87)(cid:76)(cid:80)(cid:72)(cid:3)(cid:73)(cid:82)(cid:85)(cid:3)(cid:87)(cid:75)(cid:72)(cid:3)(cid:80)(cid:68)(cid:76)(cid:81)(cid:87)(cid:72)(cid:81)(cid:68)(cid:81)(cid:70)(cid:72)(cid:3)(cid:90)(cid:82)(cid:85)(cid:78)(cid:86)(cid:3)(cid:18)(cid:3)(cid:76)(cid:80)(cid:83)(cid:85)(cid:82)(cid:89)(cid:72)(cid:80)(cid:72)(cid:81)(cid:87)(cid:3)(cid:90)(cid:82)(cid:85)(cid:78)(cid:86)(cid:3)(cid:82)(cid:73)(cid:3)(cid:87)(cid:75)(cid:72)(cid:3)(cid:70)(cid:75)(cid:68)(cid:81)(cid:81)(cid:72)(cid:79)(cid:86)(cid:3)(cid:90)(cid:75)(cid:76)(cid:70)(cid:75)(cid:3)(cid:68)(cid:85)(cid:72)(cid:3)(cid:83)(cid:85)(cid:82)(cid:83)(cid:82)(cid:86)(cid:72)(cid:71)(cid:3)(cid:87)(cid:82)(cid:3)(cid:69)(cid:72)(cid:3)(cid:70)(cid:68)(cid:85)(cid:85)(cid:76)(cid:72)(cid:71)(cid:3)(cid:82)(cid:88)(cid:87)(cid:3)(cid:69)(cid:92)(cid:3)(cid:58)(cid:53)(cid:39)(cid:17)(cid:3)(cid:55)(cid:75)(cid:72)(cid:3)(cid:68)(cid:83)(cid:83)(cid:79)(cid:76)(cid:70)(cid:68)(cid:81)(cid:87)(cid:3)(cid:86)(cid:75)(cid:82)(cid:88)(cid:79)(cid:71)(cid:3)(cid:74)(cid:76)(cid:89)(cid:72)(cid:3)(cid:68)(cid:81)(cid:3)(cid:88)(cid:81)(cid:71)(cid:72)(cid:85)(cid:87)(cid:68)(cid:78)(cid:76)(cid:81)(cid:74)(cid:3)(cid:76)(cid:81)(cid:3)(cid:90)(cid:85)(cid:76)(cid:87)(cid:76)(cid:81)(cid:74)(cid:3)(cid:87)(cid:82)(cid:3)(cid:87)(cid:75)(cid:72)(cid:3)(cid:72)(cid:73)(cid:73)(cid:72)(cid:70)(cid:87)(cid:3)(cid:87)(cid:75)(cid:68)(cid:87)(cid:3)(cid:87)(cid:75)(cid:72)(cid:3)(cid:68)(cid:69)(cid:82)(cid:89)(cid:72)(cid:3)(cid:83)(cid:85)(cid:82)(cid:83)(cid:82)(cid:86)(cid:68)(cid:79)(cid:3)(cid:90)(cid:76)(cid:79)(cid:79)(cid:3)(cid:81)(cid:82)(cid:87)(cid:3)(cid:82)(cid:69)(cid:86)(cid:87)(cid:85)(cid:88)(cid:70)(cid:87)(cid:3)(cid:76)(cid:81)(cid:3)(cid:70)(cid:68)(cid:86)(cid:72)(cid:3)(cid:68)(cid:81)(cid:92)(cid:3)(cid:80)(cid:68)(cid:76)(cid:81)(cid:87)(cid:72)(cid:81)(cid:68)(cid:81)(cid:70)(cid:72)(cid:3)(cid:18)(cid:3)(cid:76)(cid:80)(cid:83)(cid:85)(cid:82)(cid:89)(cid:72)(cid:80)(cid:72)(cid:81)(cid:87)(cid:3)(cid:18)(cid:3)(cid:71)(cid:72)(cid:89)(cid:72)(cid:79)(cid:82)(cid:83)(cid:80)(cid:72)(cid:81)(cid:87)(cid:3)(cid:90)(cid:82)(cid:85)(cid:78)(cid:86)(cid:3)(cid:68)(cid:86)(cid:3)(cid:83)(cid:72)(cid:85)\n(cid:72)(cid:81)(cid:88)(cid:72)(cid:3)(cid:85)(cid:72)(cid:70)(cid:82)(cid:85)(cid:71)(cid:86)(cid:3)(cid:62)(cid:41)(cid:48)(cid:37)(cid:64)(cid:15)(cid:3)(cid:90)(cid:75)(cid:76)(cid:70)(cid:75)(cid:3)(cid:68)(cid:85)(cid:72)(cid:3)(cid:83)(cid:85)(cid:82)(cid:83)(cid:82)(cid:86)(cid:72)(cid:71)(cid:3)(cid:87)(cid:82)(cid:3)(cid:69)(cid:72)(cid:3)(cid:70)(cid:68)(cid:85)(cid:85)(cid:76)(cid:72)(cid:71)(cid:3)(cid:82)(cid:88)(cid:87)(cid:3)(cid:69)(cid:92)(cid:3)(cid:58)(cid:53)(cid:39)(cid:3)(cid:76)(cid:81)(cid:3)(cid:73)(cid:88)(cid:87)(cid:88)(cid:85)(cid:72)(cid:3)(cid:83)(cid:72)(cid:85)(cid:76)(cid:82)(cid:71)(cid:76)(cid:70)(cid:68)(cid:79)(cid:79)(cid:92)(cid:17)\n(cid:58)(cid:53)(cid:39)(cid:3)(cid:76)(cid:86)(cid:3)(cid:74)(cid:76)(cid:89)(cid:76)(cid:81)(cid:74)(cid:3)(cid:82)(cid:83)(cid:76)(cid:81)(cid:76)(cid:82)(cid:81)(cid:3)(cid:82)(cid:81)(cid:79)(cid:92)(cid:3)(cid:76)(cid:81)(cid:3)(cid:70)(cid:82)(cid:81)(cid:81)(cid:72)(cid:70)(cid:87)(cid:76)(cid:82)(cid:81)(cid:3)(cid:90)(cid:76)(cid:87)(cid:75)(cid:3)(cid:87)(cid:75)(cid:72)(cid:3)(cid:76)(cid:81)(cid:88)(cid:81)(cid:71)(cid:68)(cid:87)(cid:76)(cid:82)(cid:81)(cid:3)(cid:68)(cid:86)(cid:83)(cid:72)(cid:70)(cid:87)(cid:3)(cid:68)(cid:81)(cid:71)(cid:3)(cid:71)(cid:82)(cid:72)(cid:86)(cid:3)(cid:81)(cid:82)(cid:87)(cid:3)(cid:71)(cid:72)(cid:79)(cid:76)(cid:89)(cid:72)(cid:85)(cid:3)(cid:68)(cid:81)(cid:92)(cid:3)(cid:85)(cid:76)(cid:74)(cid:75)(cid:87)(cid:86)(cid:3)(cid:87)(cid:82)(cid:3)(cid:87)(cid:75)(cid:72)(cid:3)(cid:68)(cid:83)(cid:83)(cid:79)(cid:76)(cid:70)(cid:68)(cid:81)(cid:87)(cid:3)(cid:87)(cid:82)(cid:3)(cid:72)(cid:81)(cid:70)(cid:85)(cid:82)(cid:68)(cid:70)(cid:75)(cid:3)(cid:87)(cid:75)(cid:72)(cid:3)(cid:58)(cid:53)(cid:39)(cid:18)(cid:42)(cid:82)(cid:89)(cid:72)(cid:85)(cid:81)(cid:80)(cid:72)(cid:81)(cid:87)(cid:3)(cid:47)(cid:68)(cid:81)(cid:71)(cid:86)(cid:18)(cid:85)(cid:76)(cid:89)(cid:72)(cid:85)(cid:17)(cid:3)(cid:55)(cid:75)(cid:72)(cid:3)(cid:49)(cid:50)(cid:38)(cid:3)(cid:73)(cid:82)(cid:85)(cid:3)(cid:87)(cid:75)(cid:76)(cid:86)(cid:3)(cid:86)(cid:76)(cid:87)(cid:72)(cid:3)(cid:73)(cid:85)(cid:82)(cid:80)(cid:3)(cid:87)(cid:75)(cid:72)(cid:3)(cid:58)(cid:53)(cid:39)(cid:3)(cid:76)(cid:86)(cid:3)(cid:83)(cid:88)(cid:85)(cid:72)(cid:79)(cid:92)(cid:3)(cid:76)(cid:86)(cid:86)(cid:88)(cid:72)(cid:71)(cid:3)(cid:82)(cid:81)(cid:3)(cid:87)(cid:75)(cid:72)(cid:3)(cid:69)(cid:68)(cid:86)(cid:76)(cid:86)(cid:3)(cid:82)(cid:73)(cid:3)(cid:76)(cid:81)(cid:88)(cid:81)(cid:71)(cid:68)(cid:87)(cid:76)(cid:82)(cid:81)(cid:3)(cid:83)(cid:82)(cid:76)(cid:81)(cid:87)(cid:3)(cid:82)(cid:73)(cid:3)(cid:89)(cid:76)(cid:72)(cid:90)(cid:17)\n(cid:55)(cid:75)(cid:72)(cid:3)(cid:42)(cid:82)(cid:89)(cid:72)(cid:85)(cid:81)(cid:80)(cid:72)(cid:81)(cid:87)(cid:3)(cid:73)(cid:76)(cid:72)(cid:79)(cid:71)(cid:3)(cid:70)(cid:75)(cid:68)(cid:81)(cid:81)(cid:72)(cid:79)(cid:3)(cid:76)(cid:86)(cid:3)(cid:54)(cid:17)(cid:49)(cid:82)(cid:86)(cid:17)539(cid:3)(cid:90)(cid:76)(cid:87)(cid:75)(cid:76)(cid:81)(cid:3)(cid:87)(cid:75)(cid:72)(cid:3)(cid:68)(cid:83)(cid:83)(cid:79)(cid:76)(cid:70)(cid:68)(cid:81)(cid:87)(cid:3)(cid:79)(cid:68)(cid:81)(cid:71)(cid:3)(cid:86)(cid:87)(cid:85)(cid:72)(cid:87)(cid:70)(cid:75)(cid:3)(cid:86)(cid:75)(cid:82)(cid:88)(cid:79)(cid:71)(cid:3)(cid:69)(cid:72)(cid:3)(cid:70)(cid:82)(cid:80)(cid:83)(cid:79)(cid:72)(cid:87)(cid:72)(cid:79)(cid:92)(cid:3)(cid:71)(cid:72)(cid:86)(cid:76)(cid:79)(cid:87)(cid:72)(cid:71)(cid:3)(cid:68)(cid:81)(cid:71)(cid:3)(cid:85)(cid:72)-(cid:86)(cid:72)(cid:70)(cid:87)(cid:76)(cid:82)(cid:81)(cid:72)(cid:71)(cid:3)(cid:69)(cid:92)(cid:3)(cid:70)(cid:82)(cid:81)(cid:86)(cid:87)(cid:85)(cid:88)(cid:70)(cid:87)(cid:76)(cid:81)(cid:74)(cid:3)(cid:85)(cid:72)(cid:87)(cid:68)(cid:76)(cid:81)(cid:76)(cid:81)(cid:74)(cid:3)(cid:90)(cid:68)(cid:79)(cid:79)(cid:3)(cid:82)(cid:81)(cid:3)(cid:72)(cid:76)(cid:87)(cid:75)(cid:72)(cid:85)(cid:3)(cid:86)(cid:76)(cid:71)(cid:72)(cid:86)(cid:3)(cid:82)(cid:73)(cid:3)(cid:87)(cid:75)(cid:72)(cid:3)(cid:70)(cid:75)(cid:68)(cid:81)(cid:81)(cid:72)(cid:79)(cid:3)(cid:90)(cid:76)(cid:87)(cid:75)(cid:3)(cid:70)(cid:82)(cid:81)(cid:70)(cid:85)(cid:72)(cid:87)(cid:72)(cid:3)(cid:69)(cid:72)(cid:71)(cid:3)(cid:68)(cid:86)(cid:3)(cid:83)(cid:72)(cid:85)(cid:3)(cid:87)(cid:75)(cid:72)(cid:3)(cid:41)(cid:48)(cid:37)(cid:3)(cid:68)(cid:87)(cid:3)(cid:87)(cid:75)(cid:72)(cid:3)(cid:68)(cid:83)(cid:83)(cid:79)(cid:76)(cid:70)(cid:68)(cid:81)(cid:87)(cid:10)(cid:86)(cid:3)(cid:82)(cid:90)(cid:81)(cid:3)(cid:70)(cid:82)(cid:86)(cid:87)(cid:17)(cid:3)(cid:55)(cid:75)(cid:72)(cid:3)(cid:69)(cid:72)(cid:71)(cid:3)(cid:79)(cid:72)(cid:89)(cid:72)(cid:79)(cid:3)(cid:82)(cid:73)(cid:3)(cid:87)(cid:75)(cid:72)(cid:3)(cid:68)(cid:69)(cid:82)(cid:89)(cid:72)(cid:3)(cid:70)(cid:75)(cid:68)(cid:81)(cid:81)(cid:72)(cid:79)(cid:3)(cid:86)(cid:75)(cid:82)(cid:88)(cid:79)(cid:71)(cid:3)(cid:69)(cid:72)(cid:3)(cid:68)(cid:86)(cid:70)(cid:72)(cid:85)(cid:87)(cid:68)(cid:76)(cid:81)(cid:72)(cid:71)(cid:3)(cid:68)(cid:81)(cid:71)(cid:3)(cid:85)(cid:72)(cid:86)(cid:87)(cid:82)(cid:85)(cid:72)(cid:71)(cid:3)(cid:69)(cid:72)(cid:73)(cid:82)(cid:85)(cid:72)(cid:3)(cid:70)(cid:82)(cid:80)(cid:80)(cid:72)(cid:81)(cid:70)(cid:76)(cid:81)(cid:74)(cid:3)(cid:87)(cid:75)(cid:72)(cid:3)(cid:71)(cid:72)(cid:89)(cid:72)(cid:79)(cid:82)(cid:83)(cid:80)(cid:72)(cid:81)(cid:87)(cid:3)(cid:68)(cid:70)(cid:87)(cid:76)(cid:89)(cid:76)(cid:87)(cid:92)(cid:3)(cid:76)(cid:81)(cid:3)(cid:87)(cid:75)(cid:72)(cid:3)(cid:83)(cid:85)(cid:72)(cid:86)(cid:72)(cid:81)(cid:70)(cid:72)(cid:3)(cid:82)(cid:73)(cid:3)(cid:87)(cid:75)(cid:72)(cid:3)(cid:70)(cid:82)(cid:81)(cid:70)(cid:72)(cid:85)(cid:81)(cid:72)(cid:71)(cid:3)(cid:58)(cid:53)(cid:39)(cid:3)(cid:40)(cid:91)(cid:72)(cid:70)(cid:88)(cid:87)(cid:76)(cid:89)(cid:72)\n(cid:76)(cid:81)(cid:72)(cid:72)(cid:85)(cid:17)(cid:3)(cid:48)(cid:82)(cid:85)(cid:72)(cid:82)(cid:89)(cid:72)(cid:85)(cid:15)(cid:3)(cid:87)(cid:75)(cid:72)(cid:3)(cid:90)(cid:76)(cid:71)(cid:87)(cid:75)(cid:3)(cid:82)(cid:73)(cid:3)(cid:72)(cid:81)(cid:87)(cid:76)(cid:85)(cid:72)(cid:3)(cid:70)(cid:75)(cid:68)(cid:81)(cid:81)(cid:72)(cid:79)(cid:3)(cid:68)(cid:86)(cid:3)(cid:83)(cid:72)(cid:85)(cid:3)(cid:53)(cid:72)(cid:89)(cid:72)(cid:81)(cid:88)(cid:72)(cid:3)(cid:85)(cid:72)(cid:70)(cid:82)(cid:85)(cid:71)(cid:86)(cid:3)(cid:11)(cid:41)(cid:48)(cid:37)(cid:12)(cid:3)(cid:68)(cid:79)(cid:82)(cid:81)(cid:74)(cid:3)(cid:9)(cid:3)(cid:90)(cid:76)(cid:87)(cid:75)(cid:76)(cid:81)(cid:3)(cid:87)(cid:75)(cid:72)(cid:3)(cid:86)(cid:87)(cid:85)(cid:72)(cid:87)(cid:70)(cid:75)(cid:3)(cid:82)(cid:73)(cid:3)(cid:68)(cid:83)(cid:83)(cid:79)(cid:76)(cid:70)(cid:68)(cid:81)(cid:87)(cid:10)(cid:86)(cid:3)(cid:79)(cid:68)(cid:81)(cid:71)(cid:3)(cid:86)(cid:75)(cid:82)(cid:88)(cid:79)(cid:71)(cid:3)(cid:69)(cid:72)(cid:3)(cid:80)(cid:68)(cid:76)(cid:81)(cid:87)(cid:68)(cid:76)(cid:81)(cid:72)(cid:71)(cid:3)(cid:83)(cid:85)(cid:82)(cid:83)(cid:72)(cid:85)(cid:79)(cid:92)(cid:3)(cid:90)(cid:76)(cid:87)(cid:75)(cid:82)(cid:88)(cid:87)(cid:3)(cid:68)(cid:81)(cid:92)(cid:3)(cid:70)(cid:75)(cid:68)(cid:81)(cid:74)(cid:72)(cid:3)(cid:68)(cid:81)(cid:71)(cid:3)(cid:90)(cid:76)(cid:87)(cid:75)(cid:82)(cid:88)(cid:87)(cid:3)(cid:72)(cid:81)(cid:70)(cid:85)(cid:82)(cid:68)(cid:70)(cid:75)(cid:80)(cid:72)(cid:81)(cid:87)(cid:86)(cid:17)\n(cid:55)(cid:75)(cid:72)(cid:3)(cid:42)(cid:82)(cid:89)(cid:72)(cid:85)(cid:81)(cid:80)(cid:72)(cid:81)(cid:87)(cid:3)(cid:73)(cid:76)(cid:72)(cid:79)(cid:71)(cid:3)(cid:70)(cid:75)(cid:68)(cid:81)(cid:81)(cid:72)(cid:79)(cid:3)(cid:76)(cid:86)(cid:3)(cid:54)(cid:17)(cid:49)(cid:82)(cid:86)(cid:17)539(cid:3)(cid:90)(cid:76)(cid:87)(cid:75)(cid:76)(cid:81)(cid:3)(cid:87)(cid:75)(cid:72)(cid:3)(cid:68)(cid:83)(cid:83)(cid:79)(cid:76)(cid:70)(cid:68)(cid:81)(cid:87)(cid:3)(cid:79)(cid:68)(cid:81)(cid:71)(cid:3)(cid:86)(cid:87)(cid:85)(cid:72)(cid:87)(cid:70)(cid:75)(cid:3)(cid:68)(cid:69)(cid:88)(cid:87)(cid:87)(cid:76)(cid:81)(cid:74)(cid:3)(cid:87)(cid:75)(cid:72)(cid:3)(cid:68)(cid:83)(cid:83)(cid:79)(cid:76)(cid:70)(cid:68)(cid:81)(cid:87)(cid:3)(cid:69)(cid:82)(cid:88)(cid:81)(cid:71)(cid:68)(cid:85)(cid:92)(cid:3)(cid:86)(cid:75)(cid:82)(cid:88)(cid:79)(cid:71)(cid:3)(cid:69)(cid:72)(cid:3)(cid:80)(cid:68)(cid:85)(cid:78)(cid:72)(cid:71)(cid:3)(cid:68)(cid:86)(cid:3)(cid:83)(cid:72)(cid:85)(cid:3)(cid:41)(cid:48)(cid:37)(cid:3)(cid:68)(cid:81)(cid:71)(cid:3)(cid:80)(cid:82)(cid:81)(cid:76)(cid:87)(cid:82)(cid:85)(cid:72)(cid:71)(cid:3)(cid:68)(cid:81)(cid:71)(cid:3)(cid:80)(cid:68)(cid:76)(cid:81)(cid:87)(cid:68)(cid:76)(cid:81)(cid:72)(cid:71)(cid:3)(cid:69)(cid:92)(cid:3)(cid:87)(cid:75)(cid:72)(cid:3)(cid:68)(cid:83)(cid:83)(cid:79)(cid:76)(cid:70)(cid:68)(cid:81)(cid:87)(cid:3)(cid:68)(cid:87)(cid:3)(cid:75)(cid:76)(cid:86)(cid:3)(cid:82)(cid:90)(cid:81)(cid:3)(cid:70)(cid:82)(cid:86)(cid:87)(cid:17)(cid:3)(cid:55)(cid:75)(cid:72)(cid:3)(cid:90)(cid:76)(cid:71)(cid:87)(cid:75)(cid:3)(cid:82)(cid:73)(cid:3)(cid:87)(cid:75)(cid:72)(cid:3)(cid:70)(cid:75)(cid:68)(cid:81)(cid:81)(cid:72)(cid:79)(cid:3)(cid:86)(cid:75)(cid:82)(cid:88)(cid:79)(cid:71)(cid:3)(cid:69)(cid:72)(cid:3)(cid:80)(cid:68)(cid:76)(cid:81)(cid:87)(cid:68)(cid:76)(cid:81)(cid:72)(cid:71)(cid:3)(cid:90)(cid:76)(cid:87)(cid:75)(cid:82)(cid:88)(cid:87)(cid:3)(cid:72)(cid:81)(cid:70)(cid:85)(cid:82)(cid:68)(cid:70)(cid:75)(cid:80)(cid:72)(cid:81)(cid:87)(cid:86)(cid:3)(cid:68)(cid:86)(cid:3)(cid:83)(cid:72)(cid:85)(cid:3)(cid:53)(cid:72)(cid:89)(cid:72)(cid:81)(cid:88)(cid:72)(cid:3)(cid:85)(cid:72)(cid:70)(cid:82)(cid:85)(cid:71)(cid:86)(cid:3)(cid:68)(cid:81)(cid:71)(cid:3)(cid:87)(cid:75)(cid:72)(cid:3)(cid:75)(cid:92)(cid:71)(cid:85)(cid:68)(cid:88)(cid:79)(cid:76)(cid:70)(cid:3)(cid:83)(cid:68)(cid:85)(cid:68)(cid:80)(cid:72)(cid:87)(cid:72)(cid:85)(cid:86)(cid:3)(cid:82)(cid:73)(cid:3)(cid:87)(cid:75)(cid:72)(cid:3)(cid:73)(cid:76)(cid:72)(cid:79)(cid:71)(cid:3)(cid:70)(cid:75)(cid:68)(cid:81)(cid:81)(cid:72)(cid:79)(cid:3)(cid:86)(cid:75)(cid:82)(cid:88)(cid:79)(cid:71)(cid:3)(cid:69)(cid:72)(cid:3)(cid:80)(cid:68)(cid:76)(cid:81)(cid:87)(cid:68)(cid:76)(cid:81)(cid:72)(cid:71)(cid:17)(cid:3)(cid:55)(cid:75)(cid:72)(cid:3)(cid:68)(cid:83)(cid:83)(cid:79)(cid:76)(cid:70)(cid:68)(cid:81)(cid:87)(cid:3)(cid:86)(cid:75)(cid:82)(cid:88)(cid:79)(cid:71)(cid:3)(cid:80)(cid:68)(cid:78)(cid:72)(cid:3)(cid:81)(cid:72)(cid:70)(cid:72)(cid:86)(cid:86)(cid:68)(cid:85)(cid:92)\n(cid:76)(cid:82)(cid:71)(cid:76)(cid:70)(cid:68)(cid:79)(cid:3)(cid:68)(cid:85)(cid:85)(cid:68)(cid:81)(cid:74)(cid:72)(cid:80)(cid:72)(cid:81)(cid:87)(cid:86)(cid:3)(cid:73)(cid:82)(cid:85)(cid:3)(cid:73)(cid:85)(cid:72)(cid:72)(cid:3)(cid:73)(cid:79)(cid:82)(cid:90)(cid:3)(cid:82)(cid:73)(cid:3)(cid:90)(cid:68)(cid:87)(cid:72)(cid:85)(cid:3)(cid:87)(cid:75)(cid:85)(cid:82)(cid:88)(cid:74)(cid:75)(cid:3)(cid:87)(cid:75)(cid:72)(cid:3)(cid:72)(cid:91)(cid:76)(cid:86)(cid:87)(cid:76)(cid:81)(cid:74)(cid:3)(cid:70)(cid:75)(cid:68)(cid:81)(cid:81)(cid:72)(cid:79)(cid:3)(cid:87)(cid:82)(cid:3)(cid:87)(cid:75)(cid:72)(cid:3)(cid:71)(cid:82)(cid:90)(cid:81)(cid:86)(cid:76)(cid:71)(cid:72)(cid:3)(cid:68)(cid:85)(cid:72)(cid:68)(cid:3)(cid:90)(cid:76)(cid:87)(cid:75)(cid:76)(cid:81)(cid:3)(cid:87)(cid:75)(cid:72)(cid:3)(cid:83)(cid:85)(cid:82)(cid:83)(cid:82)(cid:86)(cid:72)(cid:71)(cid:3)(cid:79)(cid:68)(cid:92)(cid:82)(cid:88)(cid:87)(cid:3)(cid:86)(cid:76)(cid:87)(cid:72)(cid:17)(cid:3)(cid:36)(cid:79)(cid:86)(cid:82)(cid:15)(cid:3)(cid:87)(cid:75)(cid:72)(cid:3)(cid:68)(cid:83)(cid:83)(cid:79)(cid:76)(cid:70)(cid:68)(cid:81)(cid:87)(cid:3)(cid:86)(cid:75)(cid:82)(cid:88)(cid:79)(cid:71)(cid:3)(cid:71)(cid:72)-(cid:86)(cid:76)(cid:79)(cid:87)(cid:3)(cid:87)(cid:75)(cid:72)(cid:3)(cid:70)(cid:75)(cid:68)(cid:81)(cid:81)(cid:72)(cid:79)(cid:3)(cid:83)(cid:72)(cid:85)(cid:76)(cid:82)(cid:71)(cid:76)(cid:70)(cid:68)(cid:79)(cid:79)(cid:92)(cid:3)(cid:68)(cid:81)(cid:71)(cid:3)(cid:85)(cid:72)(cid:80)(cid:82)(cid:89)(cid:72)(cid:3)(cid:87)(cid:75)(cid:72)(cid:3)(cid:82)(cid:69)(cid:86)(cid:87)(cid:85)(cid:88)(cid:70)(cid:87)(cid:76)(cid:82)(cid:81)(cid:3)(cid:87)(cid:75)(cid:72)(cid:81)(cid:3)(cid:68)(cid:81)(cid:71)(cid:3)(cid:87)(cid:75)(cid:72)(cid:85)(cid:72)(cid:3)(cid:90)(cid:76)(cid:87)(cid:75)(cid:82)(cid:88)(cid:87)(cid:3)(cid:68)(cid:81)(cid:92)(cid:3)(cid:75)(cid:76)(cid:81)(cid:71)(cid:85)(cid:68)(cid:81)(cid:70)(cid:72)(cid:3)(cid:73)(cid:82)(cid:85)(cid:3)(cid:73)(cid:85)(cid:72)(cid:72)(cid:3)(cid:73)(cid:79)(cid:82)(cid:90)(cid:3)(cid:82)(cid:73)(cid:3)(cid:90)(cid:68)(cid:87)(cid:72)(cid:85)(cid:3)(cid:68)(cid:87)(cid:3)(cid:75)(cid:76)(cid:86)(cid:3)(cid:82)(cid:90)(cid:81)(cid:3)(cid:70)(cid:82)(cid:86)(cid:87)(cid:3)(cid:90)(cid:76)(cid:87)(cid:75)(cid:76)(cid:81)(cid:3)(cid:87)(cid:75)(cid:72)(cid:3)(cid:83)(cid:85)(cid:82)(cid:83)(cid:82)(cid:86)(cid:72)(cid:71)(cid:3)(cid:79)(cid:68)(cid:81)(cid:71)(cid:15)(cid:3)(cid:68)(cid:73)(cid:87)(cid:72)(cid:85)(cid:3)(cid:87)(cid:75)(cid:72)(cid:3)(cid:70)(cid:82)(cid:80)(cid:83)(cid:79)(cid:72)(cid:87)(cid:76)(cid:82)(cid:81)(cid:3)(cid:82)(cid:73)(cid:3)(cid:83)(cid:85)(cid:82)(cid:77)(cid:72)(cid:70)(cid:87)(cid:3)(cid:68)(cid:79)(cid:86)(cid:82)(cid:17)\n(cid:55)(cid:75)(cid:72)(cid:3)(cid:68)(cid:83)(cid:83)(cid:79)(cid:76)(cid:70)(cid:68)(cid:81)(cid:87)(cid:3)(cid:86)(cid:75)(cid:82)(cid:88)(cid:79)(cid:71)(cid:3)(cid:81)(cid:82)(cid:87)(cid:3)(cid:70)(cid:68)(cid:85)(cid:85)(cid:92)(cid:3)(cid:82)(cid:88)(cid:87)(cid:3)(cid:68)(cid:81)(cid:92)(cid:3)(cid:82)(cid:87)(cid:75)(cid:72)(cid:85)(cid:3)(cid:70)(cid:85)(cid:82)(cid:86)(cid:86)(cid:3)(cid:80)(cid:68)(cid:86)(cid:82)(cid:81)(cid:85)(cid:92)(cid:3)(cid:86)(cid:87)(cid:85)(cid:88)(cid:70)(cid:87)(cid:88)(cid:85)(cid:72)(cid:86)(cid:3)(cid:68)(cid:70)(cid:85)(cid:82)(cid:86)(cid:86)(cid:3)(cid:87)(cid:75)(cid:72)(cid:3)(cid:70)(cid:75)(cid:68)(cid:81)(cid:81)(cid:72)(cid:79)(cid:86)(cid:3)(cid:90)(cid:76)(cid:87)(cid:75)(cid:82)(cid:88)(cid:87)(cid:3)(cid:83)(cid:85)(cid:76)(cid:82)(cid:85)(cid:3)(cid:83)(cid:72)(cid:85)(cid:80)(cid:76)(cid:86)(cid:86)(cid:76)(cid:82)(cid:81)(cid:3)(cid:73)(cid:85)(cid:82)(cid:80)(cid:3)(cid:58)(cid:53)(cid:39)(cid:17)(cid:3)(cid:44)(cid:73)(cid:3)(cid:68)(cid:81)(cid:92)(cid:3)(cid:71)(cid:68)(cid:80)(cid:68)(cid:74)(cid:72)(cid:86)(cid:3)(cid:82)(cid:70)(cid:70)(cid:88)(cid:85)(cid:85)(cid:72)(cid:71)(cid:3)(cid:87)(cid:82)(cid:3)(cid:87)(cid:75)(cid:72)(cid:3)(cid:70)(cid:75)(cid:68)(cid:81)(cid:81)(cid:72)(cid:79)(cid:15)(cid:3)(cid:87)(cid:75)(cid:72)(cid:3)(cid:86)(cid:68)(cid:80)(cid:72)(cid:3)(cid:86)(cid:75)(cid:82)(cid:88)(cid:79)(cid:71)(cid:3)(cid:69)(cid:72)(cid:3)(cid:85)(cid:72)(cid:86)(cid:87)(cid:82)(cid:85)(cid:72)(cid:71)(cid:3)(cid:87)(cid:82)(cid:3)(cid:76)(cid:87)(cid:86)(cid:3)(cid:82)(cid:85)(cid:76)(cid:74)(cid:76)(cid:81)(cid:68)(cid:79)(cid:3)(cid:70)(cid:82)(cid:81)(cid:71)(cid:76)(cid:87)(cid:76)(cid:82)(cid:81)(cid:3)(cid:68)(cid:87)(cid:3)(cid:75)(cid:76)(cid:86)(cid:3)(cid:82)(cid:90)(cid:81)(cid:3)(cid:70)(cid:82)(cid:86)(cid:87)(cid:17)\n(cid:55)(cid:75)(cid:72)(cid:3)(cid:83)(cid:85)(cid:82)(cid:83)(cid:82)(cid:86)(cid:72)(cid:71)(cid:3)(cid:53)(cid:38)(cid:38)(cid:3)(cid:38)(cid:88)(cid:79)(cid:89)(cid:72)(cid:85)(cid:87)(cid:3)(cid:86)(cid:75)(cid:82)(cid:88)(cid:79)(cid:71)(cid:3)(cid:69)(cid:72)(cid:3)(cid:70)(cid:82)(cid:81)(cid:86)(cid:87)(cid:85)(cid:88)(cid:70)(cid:87)(cid:72)(cid:71)(cid:3)(cid:69)(cid:92)(cid:3)(cid:87)(cid:75)(cid:72)(cid:3)(cid:68)(cid:83)(cid:83)(cid:79)(cid:76)(cid:70)(cid:68)(cid:81)(cid:87)(cid:3)(cid:82)(cid:81)(cid:79)(cid:92)(cid:15)(cid:3)(cid:68)(cid:70)(cid:85)(cid:82)(cid:86)(cid:86)(cid:3)(cid:87)(cid:75)(cid:72)(cid:3)(cid:73)(cid:76)(cid:72)(cid:79)(cid:71)(cid:3)(cid:70)(cid:75)(cid:68)(cid:81)(cid:81)(cid:72)(cid:79)(cid:3)(cid:76)(cid:81)(cid:3)(cid:54)(cid:88)(cid:85)(cid:89)(cid:72)(cid:92)(cid:3)(cid:49)(cid:82)(cid:17)539(cid:3)(cid:82)(cid:73)(cid:3)(cid:36)(cid:92)(cid:68)(cid:81)(cid:68)(cid:80)(cid:69)(cid:68)(cid:78)(cid:78)(cid:68)(cid:80)(cid:3)(cid:57)(cid:76)(cid:79)(cid:79)(cid:68)(cid:74)(cid:72)(cid:15)(cid:3)P(cid:82)(cid:82)(cid:81)(cid:68)(cid:80)(cid:68)(cid:79)(cid:79)(cid:72)(cid:72)(cid:3)(cid:55)(cid:68)(cid:79)(cid:88)(cid:78)(cid:15)(cid:3)(cid:55)(cid:75)(cid:76)(cid:85)(cid:88)(cid:89)(cid:68)(cid:79)(cid:79)(cid:88)(cid:85)(cid:3)(cid:39)(cid:76)(cid:86)(cid:87)(cid:85)(cid:76)(cid:70)(cid:87)(cid:3)(cid:68)(cid:86)(cid:3)(cid:72)(cid:68)(cid:85)(cid:80)(cid:68)(cid:85)(cid:78)(cid:72)(cid:71)(cid:3)(cid:76)(cid:81)(cid:3)(cid:87)(cid:75)(cid:72)(cid:3)(cid:86)(cid:78)(cid:72)(cid:87)(cid:70)(cid:75)(cid:3)(cid:68)(cid:81)(cid:71)(cid:3)(cid:87)(cid:75)(cid:72)(cid:3)(cid:68)(cid:83)(cid:83)(cid:79)(cid:76)(cid:70)(cid:68)(cid:81)(cid:87)(cid:3)(cid:86)(cid:75)(cid:82)(cid:88)(cid:79)(cid:71)(cid:3)(cid:86)(cid:87)(cid:85)(cid:76)(cid:70)(cid:87)(cid:79)(cid:92)(cid:3)(cid:68)(cid:71)(cid:75)(cid:72)(cid:85)(cid:72)(cid:3)(cid:87)(cid:82)(cid:3)(cid:80)(cid:68)(cid:76)(cid:81)(cid:87)(cid:68)(cid:76)(cid:81)(cid:3)(cid:87)(cid:75)(cid:72)(cid:3)(cid:68)(cid:69)(cid:82)(cid:89)(cid:72)(cid:3)(cid:75)(cid:92)(cid:71)(cid:85)(cid:68)(cid:88)(cid:79)(cid:76)(cid:70)(cid:3)(cid:83)(cid:68)(cid:85)(cid:87)(cid:76)(cid:70)(cid:88)(cid:79)(cid:68)(cid:85)(cid:86)(cid:3)(cid:82)(cid:73)(cid:3)(cid:87)(cid:75)(cid:72)(cid:3)(cid:70)(cid:75)(cid:68)(cid:81)(cid:81)(cid:72)(cid:79)(cid:17)(cid:3)(cid:55)(cid:75)(cid:72)(cid:3)(cid:68)(cid:83)(cid:83)(cid:79)(cid:76)(cid:70)(cid:68)(cid:81)(cid:87)(cid:3)(cid:86)(cid:75)(cid:82)(cid:88)(cid:79)(cid:71)(cid:3)(cid:70)(cid:82)(cid:81)(cid:86)(cid:87)(cid:85)(cid:88)(cid:70)(cid:87)(cid:3)(cid:87)(cid:75)(cid:72)(cid:3)(cid:53)(cid:38)(cid:38)(cid:3)(cid:38)(cid:88)(cid:79)(cid:89)(cid:72)(cid:85)(cid:87)(cid:3)(cid:90)(cid:76)(cid:87)(cid:75)(cid:3)(cid:86)(cid:76)(cid:93)(cid:72)(cid:3)(cid:68)(cid:86)(cid:3)(cid:80)(cid:72)(cid:81)(cid:87)(cid:76)(cid:82)(cid:81)(cid:72)(cid:71)(cid:3)(cid:76)(cid:81)(cid:3)(cid:87)(cid:75)(cid:72)(cid:3)(cid:87)(cid:68)(cid:69)(cid:79)(cid:72)(cid:3)(cid:69)(cid:72)(cid:79)(cid:82)(cid:90)(cid:3)(cid:68)(cid:86)(cid:3)(cid:72)(cid:68)(cid:85)(cid:80)(cid:68)(cid:85)(cid:78)(cid:72)(cid:71)\n(cid:75)(cid:72)(cid:3)(cid:86)(cid:78)(cid:72)(cid:87)(cid:70)(cid:75)(cid:3)(cid:68)(cid:87)(cid:3)(cid:75)(cid:76)(cid:86)(cid:3)(cid:82)(cid:90)(cid:81)(cid:3)(cid:70)(cid:82)(cid:86)(cid:87)(cid:3)(cid:73)(cid:82)(cid:85)(cid:3)(cid:87)(cid:72)(cid:80)(cid:83)(cid:82)(cid:85)(cid:68)(cid:85)(cid:92)(cid:3)(cid:82)(cid:70)(cid:70)(cid:88)(cid:83)(cid:68)(cid:87)(cid:76)(cid:82)(cid:81)(cid:3)(cid:73)(cid:82)(cid:85)(cid:3)(cid:87)(cid:75)(cid:85)(cid:72)(cid:72)(cid:3)(cid:92)(cid:72)(cid:68)(cid:85)(cid:86)(cid:3)(cid:73)(cid:85)(cid:82)(cid:80)(cid:3)(cid:87)(cid:75)(cid:72)(cid:3)(cid:71)(cid:68)(cid:87)(cid:72)(cid:3)(cid:82)(cid:73)(cid:3)(cid:68)(cid:74)(cid:85)(cid:72)(cid:72)(cid:80)(cid:72)(cid:81)(cid:87)(cid:17)(cid:3)(cid:44)(cid:73)(cid:3)(cid:87)(cid:75)(cid:72)(cid:3)(cid:68)(cid:83)(cid:83)(cid:79)(cid:76)(cid:70)(cid:68)(cid:81)(cid:87)(cid:10)(cid:86)(cid:3)(cid:79)(cid:68)(cid:81)(cid:71)(cid:3)(cid:18)(cid:3)(cid:85)(cid:82)(cid:68)(cid:71)(cid:3)(cid:68)(cid:89)(cid:68)(cid:76)(cid:79)(cid:68)(cid:69)(cid:79)(cid:72)(cid:3)(cid:82)(cid:81)(cid:3)(cid:69)(cid:82)(cid:87)(cid:75)(cid:3)(cid:86)(cid:76)(cid:71)(cid:72)(cid:86)(cid:3)(cid:82)(cid:73)(cid:3)(cid:87)(cid:75)(cid:72)(cid:3)(cid:70)(cid:75)(cid:68)(cid:81)(cid:81)(cid:72)(cid:79)(cid:15)(cid:3)(cid:87)(cid:75)(cid:76)(cid:86)(cid:3)(cid:83)(cid:72)(cid:85)(cid:80)(cid:76)(cid:86)(cid:86)(cid:76)(cid:82)(cid:81)(cid:3)(cid:76)(cid:86)(cid:3)(cid:72)(cid:79)(cid:76)(cid:74)(cid:76)(cid:69)(cid:79)(cid:72)(cid:3)(cid:73)(cid:82)(cid:85)(cid:3)(cid:70)(cid:82)(cid:81)(cid:86)(cid:87)(cid:85)(cid:88)(cid:70)(cid:87)(cid:76)(cid:82)(cid:81)(cid:3)(cid:82)(cid:73)(cid:3)(cid:53)(cid:38)(cid:38)(cid:3)(cid:38)(cid:88)(cid:79)(cid:89)(cid:72)(cid:85)(cid:87)(cid:17)(cid:3)(cid:55)(cid:75)(cid:72)(cid:3)(cid:90)(cid:76)(cid:71)(cid:87)(cid:75)(cid:3)(cid:82)(cid:73)(cid:3)(cid:87)(cid:75)(cid:72)(cid:3)(cid:70)(cid:75)(cid:68)(cid:81)(cid:81)(cid:72)(cid:79)(cid:3)(cid:72)(cid:68)(cid:85)(cid:80)(cid:68)(cid:85)(cid:78)(cid:72)(cid:71)(cid:3)(cid:76)(cid:81)(cid:3)(cid:87)(cid:75)(cid:72)(cid:3)(cid:41)(cid:48)(cid:37)(cid:3)(cid:86)(cid:78)(cid:72)(cid:87)(cid:70)(cid:75)(cid:3)(cid:86)(cid:75)(cid:82)(cid:88)(cid:79)(cid:71)(cid:3)(cid:69)(cid:72)(cid:3)(cid:80)(cid:68)(cid:76)(cid:81)(cid:87)(cid:68)(cid:76)(cid:81)(cid:72)(cid:71)(cid:3)(cid:68)(cid:86)(cid:3)(cid:83)(cid:72)(cid:85)(cid:3)(cid:53)(cid:72)(cid:89)(cid:72)(cid:81)(cid:88)(cid:72)(cid:3)(cid:85)(cid:72)(cid:70)(cid:82)(cid:85)(cid:71)(cid:86)(cid:15)(cid:3)(cid:68)(cid:81)(cid:71)(cid:3)(cid:86)(cid:75)(cid:82)(cid:88)(cid:79)(cid:71)(cid:3)(cid:69)(cid:72)(cid:3)(cid:80)(cid:68)(cid:76)(cid:81)(cid:87)(cid:68)(cid:76)(cid:81)(cid:72)(cid:71)(cid:3)(cid:90)(cid:76)(cid:87)(cid:75)(cid:82)(cid:88)(cid:87)(cid:3)(cid:72)(cid:81)(cid:70)(cid:85)(cid:82)(cid:68)(cid:70)(cid:75)(cid:80)(cid:72)(cid:81)(cid:87)(cid:86)(cid:17)\n(cid:58)(cid:53)(cid:39)(cid:3)(cid:76)(cid:86)(cid:3)(cid:74)(cid:76)(cid:89)(cid:76)(cid:81)(cid:74)(cid:3)(cid:82)(cid:83)(cid:76)(cid:81)(cid:76)(cid:82)(cid:81)(cid:3)(cid:82)(cid:81)(cid:79)(cid:92)(cid:3)(cid:76)(cid:81)(cid:3)(cid:70)(cid:82)(cid:81)(cid:81)(cid:72)(cid:70)(cid:87)(cid:76)(cid:82)(cid:81)(cid:3)(cid:90)(cid:76)(cid:87)(cid:75)(cid:3)(cid:87)(cid:75)(cid:72)(cid:3)(cid:76)(cid:81)(cid:88)(cid:81)(cid:71)(cid:68)(cid:87)(cid:76)(cid:82)(cid:81)(cid:3)(cid:68)(cid:86)(cid:83)(cid:72)(cid:70)(cid:87)(cid:3)(cid:68)(cid:81)(cid:71)(cid:3)(cid:71)(cid:82)(cid:72)(cid:86)(cid:3)(cid:81)(cid:82)(cid:87)(cid:3)(cid:71)(cid:72)(cid:79)(cid:76)(cid:89)(cid:72)(cid:85)(cid:3)(cid:68)(cid:81)(cid:92)(cid:3)(cid:85)(cid:76)(cid:74)(cid:75)(cid:87)(cid:86)(cid:3)(cid:87)(cid:82)(cid:3)(cid:87)(cid:75)(cid:72)(cid:3)(cid:68)(cid:83)(cid:83)(cid:79)(cid:76)(cid:70)(cid:68)(cid:81)(cid:87)(cid:3)(cid:87)(cid:82)(cid:3)(cid:72)(cid:81)(cid:70)(cid:85)(cid:82)(cid:68)(cid:70)(cid:75)(cid:3)(cid:87)(cid:75)(cid:72)(cid:3)(cid:58)(cid:53)(cid:39)(cid:18)(cid:42)(cid:82)(cid:89)(cid:72)(cid:85)(cid:81)(cid:80)(cid:72)(cid:81)(cid:87)(cid:3)(cid:47)(cid:68)(cid:81)(cid:71)(cid:86)(cid:18)(cid:85)(cid:76)(cid:89)(cid:72)(cid:85)(cid:17)(cid:3)(cid:55)(cid:75)(cid:72)(cid:3)(cid:49)(cid:50)(cid:38)(cid:3)(cid:73)(cid:82)(cid:85)(cid:3)(cid:87)(cid:75)(cid:76)(cid:86)(cid:3)(cid:86)(cid:76)(cid:87)(cid:72)(cid:3)(cid:73)(cid:85)(cid:82)(cid:80)(cid:3)(cid:87)(cid:75)(cid:72)(cid:3)(cid:58)(cid:53)(cid:39)(cid:3)(cid:76)(cid:86)(cid:3)(cid:83)(cid:88)(cid:85)(cid:72)(cid:79)(cid:92)(cid:3)(cid:76)(cid:86)(cid:86)(cid:88)(cid:72)(cid:71)(cid:3)(cid:82)(cid:81)(cid:3)(cid:87)(cid:75)(cid:72)(cid:3)(cid:69)(cid:68)(cid:86)(cid:76)(cid:86)(cid:3)(cid:82)(cid:73)(cid:3)(cid:76)(cid:81)(cid:88)(cid:81)(cid:71)(cid:68)(cid:87)(cid:76)(cid:82)(cid:81)(cid:3)(cid:83)(cid:82)(cid:76)(cid:81)(cid:87)(cid:3)(cid:82)(cid:73)(cid:3)(cid:89)(cid:76)(cid:72)(cid:90)(cid:17)\n(cid:55)(cid:75)(cid:72)(cid:3)(cid:42)(cid:82)(cid:89)(cid:72)(cid:85)(cid:81)(cid:80)(cid:72)(cid:81)(cid:87)(cid:3)(cid:73)(cid:76)(cid:72)(cid:79)(cid:71)(cid:3)(cid:70)(cid:75)(cid:68)(cid:81)(cid:81)(cid:72)(cid:79)(cid:3)(cid:76)(cid:86)(cid:3)(cid:54)(cid:17)(cid:49)(cid:82)(cid:86)(cid:17)539(cid:3)(cid:90)(cid:76)(cid:87)(cid:75)(cid:76)(cid:81)(cid:3)(cid:87)(cid:75)(cid:72)(cid:3)(cid:68)(cid:83)(cid:83)(cid:79)(cid:76)(cid:70)(cid:68)(cid:81)(cid:87)(cid:3)(cid:79)(cid:68)(cid:81)(cid:71)(cid:3)(cid:86)(cid:87)(cid:85)(cid:72)(cid:87)(cid:70)(cid:75)(cid:3)(cid:86)(cid:75)(cid:82)(cid:88)(cid:79)(cid:71)(cid:3)(cid:69)(cid:72)(cid:3)(cid:70)(cid:82)(cid:80)(cid:83)(cid:79)(cid:72)(cid:87)(cid:72)(cid:79)(cid:92)(cid:3)(cid:71)(cid:72)(cid:86)(cid:76)(cid:79)(cid:87)(cid:72)(cid:71)(cid:3)(cid:68)(cid:81)(cid:71)(cid:3)(cid:85)(cid:72)-(cid:86)(cid:72)(cid:70)(cid:87)(cid:76)(cid:82)(cid:81)(cid:72)(cid:71)(cid:3)(cid:69)(cid:92)(cid:3)(cid:70)(cid:82)(cid:81)(cid:86)(cid:87)(cid:85)(cid:88)(cid:70)(cid:87)(cid:76)(cid:81)(cid:74)(cid:3)(cid:85)(cid:72)(cid:87)(cid:68)(cid:76)(cid:81)(cid:76)(cid:81)(cid:74)(cid:3)(cid:90)(cid:68)(cid:79)(cid:79)(cid:3)(cid:82)(cid:81)(cid:3)(cid:72)(cid:76)(cid:87)(cid:75)(cid:72)(cid:85)(cid:3)(cid:86)(cid:76)(cid:71)(cid:72)(cid:86)(cid:3)(cid:82)(cid:73)(cid:3)(cid:87)(cid:75)(cid:72)(cid:3)(cid:70)(cid:75)(cid:68)(cid:81)(cid:81)(cid:72)(cid:79)(cid:3)(cid:90)(cid:76)(cid:87)(cid:75)(cid:3)(cid:70)(cid:82)(cid:81)(cid:70)(cid:85)(cid:72)(cid:87)(cid:72)(cid:3)(cid:69)(cid:72)(cid:71)(cid:3)(cid:68)(cid:86)(cid:3)(cid:83)(cid:72)(cid:85)(cid:3)(cid:87)(cid:75)(cid:72)(cid:3)(cid:41)(cid:48)(cid:37)(cid:3)(cid:68)(cid:87)(cid:3)(cid:87)(cid:75)(cid:72)(cid:3)(cid:68)(cid:83)(cid:83)(cid:79)(cid:76)(cid:70)(cid:68)(cid:81)(cid:87)(cid:10)(cid:86)(cid:3)(cid:82)(cid:90)(cid:81)(cid:3)(cid:70)(cid:82)(cid:86)(cid:87)(cid:17)(cid:3)(cid:55)(cid:75)(cid:72)(cid:3)(cid:69)(cid:72)(cid:71)(cid:3)(cid:79)(cid:72)(cid:89)(cid:72)(cid:79)(cid:3)(cid:82)(cid:73)(cid:3)(cid:87)(cid:75)(cid:72)(cid:3)(cid:68)(cid:69)(cid:82)(cid:89)(cid:72)(cid:3)(cid:70)(cid:75)(cid:68)(cid:81)(cid:81)(cid:72)(cid:79)(cid:3)(cid:86)(cid:75)(cid:82)(cid:88)(cid:79)(cid:71)(cid:3)(cid:69)(cid:72)(cid:3)(cid:68)(cid:86)(cid:70)(cid:72)(cid:85)(cid:87)(cid:68)(cid:76)(cid:81)(cid:72)(cid:71)(cid:3)(cid:68)(cid:81)(cid:71)(cid:3)(cid:85)(cid:72)(cid:86)(cid:87)(cid:82)(cid:85)(cid:72)(cid:71)(cid:3)(cid:69)(cid:72)(cid:73)(cid:82)(cid:85)(cid:72)(cid:3)(cid:70)(cid:82)(cid:80)(cid:80)(cid:72)(cid:81)(cid:70)(cid:76)(cid:81)(cid:74)(cid:3)(cid:87)(cid:75)(cid:72)(cid:3)(cid:71)(cid:72)(cid:89)(cid:72)(cid:79)(cid:82)(cid:83)(cid:80)(cid:72)(cid:81)(cid:87)(cid:3)(cid:68)(cid:70)(cid:87)(cid:76)(cid:89)(cid:76)(cid:87)(cid:92)(cid:3)(cid:76)(cid:81)(cid:3)(cid:87)(cid:75)(cid:72)(cid:3)(cid:83)(cid:85)(cid:72)(cid:86)(cid:72)(cid:81)(cid:70)(cid:72)(cid:3)(cid:82)(cid:73)(cid:3)(cid:87)(cid:75)(cid:72)(cid:3)(cid:70)(cid:82)(cid:81)(cid:70)(cid:72)(cid:85)(cid:81)(cid:72)(cid:71)(cid:3)(cid:58)(cid:53)(cid:39)(cid:3)(cid:40)(cid:91)(cid:72)(cid:70)(cid:88)(cid:87)(cid:76)(cid:89)(cid:72)\n(cid:76)(cid:81)(cid:72)(cid:72)(cid:85)(cid:17)(cid:3)(cid:48)(cid:82)(cid:85)(cid:72)(cid:82)(cid:89)(cid:72)(cid:85)(cid:15)(cid:3)(cid:87)(cid:75)(cid:72)(cid:3)(cid:90)(cid:76)(cid:71)(cid:87)(cid:75)(cid:3)(cid:82)(cid:73)(cid:3)(cid:72)(cid:81)(cid:87)(cid:76)(cid:85)(cid:72)(cid:3)(cid:70)(cid:75)(cid:68)(cid:81)(cid:81)(cid:72)(cid:79)(cid:3)(cid:68)(cid:86)(cid:3)(cid:83)(cid:72)(cid:85)(cid:3)(cid:53)(cid:72)(cid:89)(cid:72)(cid:81)(cid:88)(cid:72)(cid:3)(cid:85)(cid:72)(cid:70)(cid:82)(cid:85)(cid:71)(cid:86)(cid:3)(cid:11)(cid:41)(cid:48)(cid:37)(cid:12)(cid:3)(cid:68)(cid:79)(cid:82)(cid:81)(cid:74)(cid:3)(cid:9)(cid:3)(cid:90)(cid:76)(cid:87)(cid:75)(cid:76)(cid:81)(cid:3)(cid:87)(cid:75)(cid:72)(cid:3)(cid:86)(cid:87)(cid:85)(cid:72)(cid:87)(cid:70)(cid:75)(cid:3)(cid:82)(cid:73)(cid:3)(cid:68)(cid:83)(cid:83)(cid:79)(cid:76)(cid:70)(cid:68)(cid:81)(cid:87)(cid:10)(cid:86)(cid:3)(cid:79)(cid:68)(cid:81)(cid:71)(cid:3)(cid:86)(cid:75)(cid:82)(cid:88)(cid:79)(cid:71)(cid:3)(cid:69)(cid:72)(cid:3)(cid:80)(cid:68)(cid:76)(cid:81)(cid:87)(cid:68)(cid:76)(cid:81)(cid:72)(cid:71)(cid:3)(cid:83)(cid:85)(cid:82)(cid:83)(cid:72)(cid:85)(cid:79)(cid:92)(cid:3)(cid:90)(cid:76)(cid:87)(cid:75)(cid:82)(cid:88)(cid:87)(cid:3)(cid:68)(cid:81)(cid:92)(cid:3)(cid:70)(cid:75)(cid:68)(cid:81)(cid:74)(cid:72)(cid:3)(cid:68)(cid:81)(cid:71)(cid:3)(cid:90)(cid:76)(cid:87)(cid:75)(cid:82)(cid:88)(cid:87)(cid:3)(cid:72)(cid:81)(cid:70)(cid:85)(cid:82)(cid:68)(cid:70)(cid:75)(cid:80)(cid:72)(cid:81)(cid:87)(cid:86)(cid:17)\n(cid:55)(cid:75)(cid:72)(cid:3)(cid:42)(cid:82)(cid:89)(cid:72)(cid:85)(cid:81)(cid:80)(cid:72)(cid:81)(cid:87)(cid:3)(cid:73)(cid:76)(cid:72)(cid:79)(cid:71)(cid:3)(cid:70)(cid:75)(cid:68)(cid:81)(cid:81)(cid:72)(cid:79)(cid:3)(cid:76)(cid:86)(cid:3)(cid:54)(cid:17)(cid:49)(cid:82)(cid:86)(cid:17)539(cid:3)(cid:90)(cid:76)(cid:87)(cid:75)(cid:76)(cid:81)(cid:3)(cid:87)(cid:75)(cid:72)(cid:3)(cid:68)(cid:83)(cid:83)(cid:79)(cid:76)(cid:70)(cid:68)(cid:81)(cid:87)(cid:3)(cid:79)(cid:68)(cid:81)(cid:71)(cid:3)(cid:86)(cid:87)(cid:85)(cid:72)(cid:87)(cid:70)(cid:75)(cid:3)(cid:68)(cid:69)(cid:88)(cid:87)(cid:87)(cid:76)(cid:81)(cid:74)(cid:3)(cid:87)(cid:75)(cid:72)(cid:3)(cid:68)(cid:83)(cid:83)(cid:79)(cid:76)(cid:70)(cid:68)(cid:81)(cid:87)(cid:3)(cid:69)(cid:82)(cid:88)(cid:81)(cid:71)(cid:68)(cid:85)(cid:92)(cid:3)(cid:86)(cid:75)(cid:82)(cid:88)(cid:79)(cid:71)(cid:3)(cid:69)(cid:72)(cid:3)(cid:80)(cid:68)(cid:85)(cid:78)(cid:72)(cid:71)(cid:3)(cid:68)(cid:86)(cid:3)(cid:83)(cid:72)(cid:85)(cid:3)(cid:41)(cid:48)(cid:37)(cid:3)(cid:68)(cid:81)(cid:71)(cid:3)(cid:80)(cid:82)(cid:81)(cid:76)(cid:87)(cid:82)(cid:85)(cid:72)(cid:71)(cid:3)(cid:68)(cid:81)(cid:71)(cid:3)(cid:80)(cid:68)(cid:76)(cid:81)(cid:87)(cid:68)(cid:76)(cid:81)(cid:72)(cid:71)(cid:3)(cid:69)(cid:92)(cid:3)(cid:87)(cid:75)(cid:72)(cid:3)(cid:68)(cid:83)(cid:83)(cid:79)(cid:76)(cid:70)(cid:68)(cid:81)(cid:87)(cid:3)(cid:68)(cid:87)(cid:3)(cid:75)(cid:76)(cid:86)(cid:3)(cid:82)(cid:90)(cid:81)(cid:3)(cid:70)(cid:82)(cid:86)(cid:87)(cid:17)(cid:3)(cid:55)(cid:75)(cid:72)(cid:3)(cid:90)(cid:76)(cid:71)(cid:87)(cid:75)(cid:3)(cid:82)(cid:73)(cid:3)(cid:87)(cid:75)(cid:72)(cid:3)(cid:70)(cid:75)(cid:68)(cid:81)(cid:81)(cid:72)(cid:79)(cid:3)(cid:86)(cid:75)(cid:82)(cid:88)(cid:79)(cid:71)(cid:3)(cid:69)(cid:72)(cid:3)(cid:80)(cid:68)(cid:76)(cid:81)(cid:87)(cid:68)(cid:76)(cid:81)(cid:72)(cid:71)(cid:3)(cid:90)(cid:76)(cid:87)(cid:75)(cid:82)(cid:88)(cid:87)(cid:3)(cid:72)(cid:81)(cid:70)(cid:85)(cid:82)(cid:68)(cid:70)(cid:75)(cid:80)(cid:72)(cid:81)(cid:87)(cid:86)(cid:3)(cid:68)(cid:86)(cid:3)(cid:83)(cid:72)(cid:85)(cid:3)(cid:53)(cid:72)(cid:89)(cid:72)(cid:81)(cid:88)(cid:72)(cid:3)(cid:85)(cid:72)(cid:70)(cid:82)(cid:85)(cid:71)(cid:86)(cid:3)(cid:68)(cid:81)(cid:71)(cid:3)(cid:87)(cid:75)(cid:72)(cid:3)(cid:75)(cid:92)(cid:71)(cid:85)(cid:68)(cid:88)(cid:79)(cid:76)(cid:70)(cid:3)(cid:83)(cid:68)(cid:85)(cid:68)(cid:80)(cid:72)(cid:87)(cid:72)(cid:85)(cid:86)(cid:3)(cid:82)(cid:73)(cid:3)(cid:87)(cid:75)(cid:72)(cid:3)(cid:73)(cid:76)(cid:72)(cid:79)(cid:71)(cid:3)(cid:70)(cid:75)(cid:68)(cid:81)(cid:81)(cid:72)(cid:79)(cid:3)(cid:86)(cid:75)(cid:82)(cid:88)(cid:79)(cid:71)(cid:3)(cid:69)(cid:72)(cid:3)(cid:80)(cid:68)(cid:76)(cid:81)(cid:87)(cid:68)(cid:76)(cid:81)(cid:72)(cid:71)(cid:17)(cid:3)(cid:55)(cid:75)(cid:72)(cid:3)(cid:68)(cid:83)(cid:83)(cid:79)(cid:76)(cid:70)(cid:68)(cid:81)(cid:87)(cid:3)(cid:86)(cid:75)(cid:82)(cid:88)(cid:79)(cid:71)(cid:3)(cid:80)(cid:68)(cid:78)(cid:72)(cid:3)(cid:81)(cid:72)(cid:70)(cid:72)(cid:86)(cid:86)(cid:68)(cid:85)(cid:92)\n(cid:76)(cid:82)(cid:71)(cid:76)(cid:70)(cid:68)(cid:79)(cid:3)(cid:68)(cid:85)(cid:85)(cid:68)(cid:81)(cid:74)(cid:72)(cid:80)(cid:72)(cid:81)(cid:87)(cid:86)(cid:3)(cid:73)(cid:82)(cid:85)(cid:3)(cid:73)(cid:85)(cid:72)(cid:72)(cid:3)(cid:73)(cid:79)(cid:82)(cid:90)(cid:3)(cid:82)(cid:73)(cid:3)(cid:90)(cid:68)(cid:87)(cid:72)(cid:85)(cid:3)(cid:87)(cid:75)(cid:85)(cid:82)(cid:88)(cid:74)(cid:75)(cid:3)(cid:87)(cid:75)(cid:72)(cid:3)(cid:72)(cid:91)(cid:76)(cid:86)(cid:87)(cid:76)(cid:81)(cid:74)(cid:3)(cid:70)(cid:75)(cid:68)(cid:81)(cid:81)(cid:72)(cid:79)(cid:3)(cid:87)(cid:82)(cid:3)(cid:87)(cid:75)(cid:72)(cid:3)(cid:71)(cid:82)(cid:90)(cid:81)(cid:86)(cid:76)(cid:71)(cid:72)(cid:3)(cid:68)(cid:85)(cid:72)(cid:68)(cid:3)(cid:90)(cid:76)(cid:87)(cid:75)(cid:76)(cid:81)(cid:3)(cid:87)(cid:75)(cid:72)(cid:3)(cid:83)(cid:85)(cid:82)(cid:83)(cid:82)(cid:86)(cid:72)(cid:71)(cid:3)(cid:79)(cid:68)(cid:92)(cid:82)(cid:88)(cid:87)(cid:3)(cid:86)(cid:76)(cid:87)(cid:72)(cid:17)(cid:3)(cid:36)(cid:79)(cid:86)(cid:82)(cid:15)(cid:3)(cid:87)(cid:75)(cid:72)(cid:3)(cid:68)(cid:83)(cid:83)(cid:79)(cid:76)(cid:70)(cid:68)(cid:81)(cid:87)(cid:3)(cid:86)(cid:75)(cid:82)(cid:88)(cid:79)(cid:71)(cid:3)(cid:71)(cid:72)-(cid:86)(cid:76)(cid:79)(cid:87)(cid:3)(cid:87)(cid:75)(cid:72)(cid:3)(cid:70)(cid:75)(cid:68)(cid:81)(cid:81)(cid:72)(cid:79)(cid:3)(cid:83)(cid:72)(cid:85)(cid:76)(cid:82)(cid:71)(cid:76)(cid:70)(cid:68)(cid:79)(cid:79)(cid:92)(cid:3)(cid:68)(cid:81)(cid:71)(cid:3)(cid:85)(cid:72)(cid:80)(cid:82)(cid:89)(cid:72)(cid:3)(cid:87)(cid:75)(cid:72)(cid:3)(cid:82)(cid:69)(cid:86)(cid:87)(cid:85)(cid:88)(cid:70)(cid:87)(cid:76)(cid:82)(cid:81)(cid:3)(cid:87)(cid:75)(cid:72)(cid:81)(cid:3)(cid:68)(cid:81)(cid:71)(cid:3)(cid:87)(cid:75)(cid:72)(cid:85)(cid:72)(cid:3)(cid:90)(cid:76)(cid:87)(cid:75)(cid:82)(cid:88)(cid:87)(cid:3)(cid:68)(cid:81)(cid:92)(cid:3)(cid:75)(cid:76)(cid:81)(cid:71)(cid:85)(cid:68)(cid:81)(cid:70)(cid:72)(cid:3)(cid:73)(cid:82)(cid:85)(cid:3)(cid:73)(cid:85)(cid:72)(cid:72)(cid:3)(cid:73)(cid:79)(cid:82)(cid:90)(cid:3)(cid:82)(cid:73)(cid:3)(cid:90)(cid:68)(cid:87)(cid:72)(cid:85)(cid:3)(cid:68)(cid:87)(cid:3)(cid:75)(cid:76)(cid:86)(cid:3)(cid:82)(cid:90)(cid:81)(cid:3)(cid:70)(cid:82)(cid:86)(cid:87)(cid:3)(cid:90)(cid:76)(cid:87)(cid:75)(cid:76)(cid:81)(cid:3)(cid:87)(cid:75)(cid:72)(cid:3)(cid:83)(cid:85)(cid:82)(cid:83)(cid:82)(cid:86)(cid:72)(cid:71)(cid:3)(cid:79)(cid:68)(cid:81)(cid:71)(cid:15)(cid:3)(cid:68)(cid:73)(cid:87)(cid:72)(cid:85)(cid:3)(cid:87)(cid:75)(cid:72)(cid:3)(cid:70)(cid:82)(cid:80)(cid:83)(cid:79)(cid:72)(cid:87)(cid:76)(cid:82)(cid:81)(cid:3)(cid:82)(cid:73)(cid:3)(cid:83)(cid:85)(cid:82)(cid:77)(cid:72)(cid:70)(cid:87)(cid:3)(cid:68)(cid:79)(cid:86)(cid:82)(cid:17)(cid:18)\n(cid:55)(cid:75)(cid:72)(cid:3)(cid:68)(cid:83)(cid:83)(cid:79)(cid:76)(cid:70)(cid:68)(cid:81)(cid:87)(cid:3)(cid:86)(cid:75)(cid:82)(cid:88)(cid:79)(cid:71)(cid:3)(cid:81)(cid:82)(cid:87)(cid:3)(cid:70)(cid:68)(cid:85)(cid:85)(cid:92)(cid:3)(cid:82)(cid:88)(cid:87)(cid:3)(cid:68)(cid:81)(cid:92)(cid:3)(cid:82)(cid:87)(cid:75)(cid:72)(cid:85)(cid:3)(cid:70)(cid:85)(cid:82)(cid:86)(cid:86)(cid:3)(cid:80)(cid:68)(cid:86)(cid:82)(cid:81)(cid:85)(cid:92)(cid:3)(cid:86)(cid:87)(cid:85)(cid:88)(cid:70)(cid:87)(cid:88)(cid:85)(cid:72)(cid:86)(cid:3)(cid:68)(cid:70)(cid:85)(cid:82)(cid:86)(cid:86)(cid:3)(cid:87)(cid:75)(cid:72)(cid:3)(cid:70)(cid:75)(cid:68)(cid:81)(cid:81)(cid:72)(cid:79)(cid:86)(cid:3)(cid:90)(cid:76)(cid:87)(cid:75)(cid:82)(cid:88)(cid:87)(cid:3)(cid:83)(cid:85)(cid:76)(cid:82)(cid:85)(cid:3)(cid:83)(cid:72)(cid:85)(cid:80)(cid:76)(cid:86)(cid:86)(cid:76)(cid:82)(cid:81)(cid:3)(cid:73)(cid:85)(cid:82)(cid:80)(cid:3)(cid:58)(cid:53)(cid:39)(cid:17)(cid:3)(cid:44)(cid:73)(cid:3)(cid:68)(cid:81)(cid:92)(cid:3)(cid:71)(cid:68)(cid:80)(cid:68)(cid:74)(cid:72)(cid:86)(cid:3)(cid:82)(cid:70)(cid:70)(cid:88)(cid:85)(cid:85)(cid:72)(cid:71)(cid:3)(cid:87)(cid:82)(cid:3)(cid:87)(cid:75)(cid:72)(cid:3)(cid:70)(cid:75)(cid:68)(cid:81)(cid:81)(cid:72)(cid:79)(cid:15)(cid:3)(cid:87)(cid:75)(cid:72)(cid:3)(cid:86)(cid:68)(cid:80)(cid:72)(cid:3)(cid:86)(cid:75)(cid:82)(cid:88)(cid:79)(cid:71)(cid:3)(cid:69)(cid:72)(cid:3)(cid:85)(cid:72)(cid:86)(cid:87)(cid:82)(cid:85)(cid:72)(cid:71)(cid:3)(cid:87)(cid:82)(cid:3)(cid:76)(cid:87)(cid:86)(cid:3)(cid:82)(cid:85)(cid:76)(cid:74)(cid:76)(cid:81)(cid:68)(cid:79)(cid:3)(cid:70)(cid:82)(cid:81)(cid:71)(cid:76)(cid:87)(cid:76)(cid:82)(cid:81)(cid:3)(cid:68)(cid:87)(cid:3)(cid:75)(cid:76)(cid:86)(cid:3)(cid:82)(cid:90)(cid:81)(cid:3)(cid:70)(cid:82)(cid:86)(cid:87)(cid:17)\n(cid:55)(cid:75)(cid:72)(cid:3)(cid:83)(cid:85)(cid:82)(cid:83)(cid:82)(cid:86)(cid:72)(cid:71)(cid:3)(cid:53)(cid:38)(cid:38)(cid:3)(cid:38)(cid:88)(cid:79)(cid:89)(cid:72)(cid:85)(cid:87)(cid:3)(cid:86)(cid:75)(cid:82)(cid:88)(cid:79)(cid:71)(cid:3)(cid:69)(cid:72)(cid:3)(cid:70)(cid:82)(cid:81)(cid:86)(cid:87)(cid:85)(cid:88)(cid:70)(cid:87)(cid:72)(cid:71)(cid:3)(cid:69)(cid:92)(cid:3)(cid:87)(cid:75)(cid:72)(cid:3)(cid:68)(cid:83)(cid:83)(cid:79)(cid:76)(cid:70)(cid:68)(cid:81)(cid:87)(cid:3)(cid:82)(cid:81)(cid:79)(cid:92)(cid:15)(cid:3)(cid:68)(cid:70)(cid:85)(cid:82)(cid:86)(cid:86)(cid:3)(cid:87)(cid:75)(cid:72)(cid:3)(cid:73)(cid:76)(cid:72)(cid:79)(cid:71)(cid:3)(cid:70)(cid:75)(cid:68)(cid:81)(cid:81)(cid:72)(cid:79)(cid:3)(cid:76)(cid:81)(cid:3)(cid:54)(cid:88)(cid:85)(cid:89)(cid:72)(cid:92)(cid:3)(cid:49)(cid:82)(cid:17)539(cid:3)(cid:82)(cid:73)(cid:3)(cid:36)(cid:92)(cid:68)(cid:81)(cid:68)(cid:80)(cid:69)(cid:68)(cid:78)(cid:78)(cid:68)(cid:80)(cid:3)(cid:57)(cid:76)(cid:79)(cid:79)(cid:68)(cid:74)(cid:72)(cid:15)(cid:3)P(cid:82)(cid:82)(cid:81)(cid:68)(cid:80)(cid:68)(cid:79)(cid:79)(cid:72)(cid:72)(cid:3)(cid:55)(cid:68)(cid:79)(cid:88)(cid:78)(cid:15)(cid:3)(cid:55)(cid:75)(cid:76)(cid:85)(cid:88)(cid:89)(cid:68)(cid:79)(cid:79)(cid:88)(cid:85)(cid:3)(cid:39)(cid:76)(cid:86)(cid:87)(cid:85)(cid:76)(cid:70)(cid:87)(cid:3)(cid:68)(cid:86)(cid:3)(cid:72)(cid:68)(cid:85)(cid:80)(cid:68)(cid:85)(cid:78)(cid:72)(cid:71)(cid:3)(cid:76)(cid:81)(cid:3)(cid:87)(cid:75)(cid:72)(cid:3)(cid:86)(cid:78)(cid:72)(cid:87)(cid:70)(cid:75)(cid:3)(cid:68)(cid:81)(cid:71)(cid:3)(cid:87)(cid:75)(cid:72)(cid:3)(cid:68)(cid:83)(cid:83)(cid:79)(cid:76)(cid:70)(cid:68)(cid:81)(cid:87)(cid:3)(cid:86)(cid:75)(cid:82)(cid:88)(cid:79)(cid:71)(cid:3)(cid:86)(cid:87)(cid:85)(cid:76)(cid:70)(cid:87)(cid:79)(cid:92)(cid:3)(cid:68)(cid:71)(cid:75)(cid:72)(cid:85)(cid:72)(cid:3)(cid:87)(cid:82)(cid:3)(cid:80)(cid:68)(cid:76)(cid:81)(cid:87)(cid:68)(cid:76)(cid:81)(cid:3)(cid:87)(cid:75)(cid:72)(cid:3)(cid:68)(cid:69)(cid:82)(cid:89)(cid:72)(cid:3)(cid:75)(cid:92)(cid:71)(cid:85)(cid:68)(cid:88)(cid:79)(cid:76)(cid:70)(cid:3)(cid:83)(cid:68)(cid:85)(cid:87)(cid:76)(cid:70)(cid:88)(cid:79)(cid:68)(cid:85)(cid:86)(cid:3)(cid:82)(cid:73)(cid:3)(cid:87)(cid:75)(cid:72)(cid:3)(cid:70)(cid:75)(cid:68)(cid:81)(cid:81)(cid:72)(cid:79)(cid:17)(cid:3)(cid:55)(cid:75)(cid:72)(cid:3)(cid:68)(cid:83)(cid:83)(cid:79)(cid:76)(cid:70)(cid:68)(cid:81)(cid:87)(cid:3)(cid:86)(cid:75)(cid:82)(cid:88)(cid:79)(cid:71)(cid:3)(cid:70)(cid:82)(cid:81)(cid:86)(cid:87)(cid:85)(cid:88)(cid:70)(cid:87)(cid:3)(cid:87)(cid:75)(cid:72)(cid:3)(cid:53)(cid:38)(cid:38)(cid:3)(cid:38)(cid:88)(cid:79)(cid:89)(cid:72)(cid:85)(cid:87)(cid:3)(cid:90)(cid:76)(cid:87)(cid:75)(cid:3)(cid:86)(cid:76)(cid:93)(cid:72)(cid:3)(cid:68)(cid:86)(cid:3)(cid:80)(cid:72)(cid:81)(cid:87)(cid:76)(cid:82)(cid:81)(cid:72)(cid:71)(cid:3)(cid:76)(cid:81)(cid:3)(cid:87)(cid:75)(cid:72)(cid:3)(cid:87)(cid:68)(cid:69)(cid:79)(cid:72)(cid:3)(cid:69)(cid:72)(cid:79)(cid:82)(cid:90)(cid:3)(cid:68)(cid:86)(cid:3)(cid:72)(cid:68)(cid:85)(cid:80)(cid:68)(cid:85)(cid:78)(cid:72)(cid:71)\n(cid:75)(cid:72)(cid:3)(cid:86)(cid:78)(cid:72)(cid:87)(cid:70)(cid:75)(cid:3)(cid:68)(cid:87)(cid:3)(cid:75)(cid:76)(cid:86)(cid:3)(cid:82)(cid:90)(cid:81)(cid:3)(cid:70)(cid:82)(cid:86)(cid:87)(cid:3)(cid:73)(cid:82)(cid:85)(cid:3)(cid:87)(cid:72)(cid:80)(cid:83)(cid:82)(cid:85)(cid:68)(cid:85)(cid:92)(cid:3)(cid:82)(cid:70)(cid:70)(cid:88)(cid:83)(cid:68)(cid:87)(cid:76)(cid:82)(cid:81)(cid:3)(cid:73)(cid:82)(cid:85)(cid:3)(cid:87)(cid:75)(cid:85)(cid:72)(cid:72)(cid:3)(cid:92)(cid:72)(cid:68)(cid:85)(cid:86)(cid:3)(cid:73)(cid:85)(cid:82)(cid:80)(cid:3)(cid:87)(cid:75)(cid:72)(cid:3)(cid:71)(cid:68)(cid:87)(cid:72)(cid:3)(cid:82)(cid:73)(cid:3)(cid:68)(cid:74)(cid:85)(cid:72)(cid:72)(cid:80)(cid:72)(cid:81)(cid:87)(cid:17)(cid:3)(cid:44)(cid:73)(cid:3)(cid:87)(cid:75)(cid:72)(cid:3)(cid:68)(cid:83)(cid:83)(cid:79)(cid:76)(cid:70)(cid:68)(cid:81)(cid:87)(cid:10)(cid:86)(cid:3)(cid:79)(cid:68)(cid:81)(cid:71)(cid:3)(cid:18)(cid:3)(cid:85)(cid:82)(cid:68)(cid:71)(cid:3)(cid:68)(cid:89)(cid:68)(cid:76)(cid:79)(cid:68)(cid:69)(cid:79)(cid:72)(cid:3)(cid:82)(cid:81)(cid:3)(cid:69)(cid:82)(cid:87)(cid:75)(cid:3)(cid:86)(cid:76)(cid:71)(cid:72)(cid:86)(cid:3)(cid:82)(cid:73)(cid:3)(cid:87)(cid:75)(cid:72)(cid:3)(cid:70)(cid:75)(cid:68)(cid:81)(cid:81)(cid:72)(cid:79)(cid:15)(cid:3)(cid:87)(cid:75)(cid:76)(cid:86)(cid:3)(cid:83)(cid:72)(cid:85)(cid:80)(cid:76)(cid:86)(cid:86)(cid:76)(cid:82)(cid:81)(cid:3)(cid:76)(cid:86)(cid:3)(cid:72)(cid:79)(cid:76)(cid:74)(cid:76)(cid:69)(cid:79)(cid:72)(cid:3)(cid:73)(cid:82)(cid:85)(cid:3)(cid:70)(cid:82)(cid:81)(cid:86)(cid:87)(cid:85)(cid:88)(cid:70)(cid:87)(cid:76)(cid:82)(cid:81)(cid:3)(cid:82)(cid:73)(cid:3)(cid:53)(cid:38)(cid:38)(cid:3)(cid:38)(cid:88)(cid:79)(cid:89)(cid:72)(cid:85)(cid:87)(cid:17)(cid:3)(cid:55)(cid:75)(cid:72)(cid:3)(cid:90)(cid:76)(cid:71)(cid:87)(cid:75)(cid:3)(cid:82)(cid:73)(cid:3)(cid:87)(cid:75)(cid:72)(cid:3)(cid:70)(cid:75)(cid:68)(cid:81)(cid:81)(cid:72)(cid:79)(cid:3)(cid:72)(cid:68)(cid:85)(cid:80)(cid:68)(cid:85)(cid:78)(cid:72)(cid:71)(cid:3)(cid:76)(cid:81)(cid:3)(cid:87)(cid:75)(cid:72)(cid:3)(cid:41)(cid:48)(cid:37)(cid:3)(cid:86)(cid:78)(cid:72)(cid:87)(cid:70)(cid:75)(cid:3)(cid:86)(cid:75)(cid:82)(cid:88)(cid:79)(cid:71)(cid:3)(cid:69)(cid:72)(cid:3)(cid:80)(cid:68)(cid:76)(cid:81)(cid:87)(cid:68)(cid:76)(cid:81)(cid:72)(cid:71)(cid:3)(cid:68)(cid:86)(cid:3)(cid:83)(cid:72)(cid:85)(cid:3)(cid:53)(cid:72)(cid:89)(cid:72)(cid:81)(cid:88)(cid:72)(cid:3)(cid:85)(cid:72)(cid:70)(cid:82)(cid:85)(cid:71)(cid:86)(cid:15)(cid:3)(cid:68)(cid:81)(cid:71)(cid:3)(cid:86)(cid:75)(cid:82)(cid:88)(cid:79)(cid:71)(cid:3)(cid:69)(cid:72)(cid:3)(cid:80)(cid:68)(cid:76)(cid:81)(cid:87)(cid:68)(cid:76)(cid:81)(cid:72)(cid:71)(cid:3)(cid:90)(cid:76)(cid:87)(cid:75)(cid:82)(cid:88)(cid:87)(cid:3)(cid:72)(cid:81)(cid:70)(cid:85)(cid:82)(cid:68)(cid:70)(cid:75)(cid:80)(cid:72)(cid:81)(cid:87)(cid:86)(cid:17)\n(cid:3)(cid:69)(cid:72)(cid:71)(cid:3)(cid:79)(cid:72)(cid:89)(cid:72)(cid:79)(cid:3)(cid:82)(cid:73)(cid:3)(cid:87)(cid:75)(cid:72)(cid:3)(cid:69)(cid:85)(cid:76)(cid:71)(cid:74)(cid:72)(cid:3)(cid:86)(cid:75)(cid:82)(cid:88)(cid:79)(cid:71)(cid:3)(cid:69)(cid:72)(cid:3)(cid:73)(cid:76)(cid:91)(cid:72)(cid:71)(cid:3)(cid:76)(cid:81)(cid:3)(cid:83)(cid:85)(cid:72)(cid:86)(cid:72)(cid:81)(cid:70)(cid:72)(cid:3)(cid:82)(cid:73)(cid:3)(cid:87)(cid:75)(cid:72)(cid:3)(cid:40)(cid:91)(cid:72)(cid:70)(cid:88)(cid:87)(cid:76)(cid:89)(cid:72)(cid:3)(cid:40)(cid:81)(cid:74)(cid:76)(cid:81)(cid:72)(cid:72)(cid:85)(cid:3)(cid:70)(cid:82)(cid:81)(cid:70)(cid:72)(cid:85)(cid:81)(cid:72)(cid:71)(cid:3)(cid:82)(cid:81)(cid:79)(cid:92)(cid:3)(cid:68)(cid:73)(cid:87)(cid:72)(cid:85)(cid:3)(cid:87)(cid:75)(cid:72)(cid:3)(cid:72)(cid:91)(cid:76)(cid:86)(cid:87)(cid:76)(cid:81)(cid:74)(cid:3)(cid:70)(cid:75)(cid:68)(cid:81)(cid:81)(cid:72)(cid:79)(cid:3)(cid:82)(cid:85)(cid:76)(cid:74)(cid:76)(cid:81)(cid:68)(cid:79)(cid:3)(cid:69)(cid:72)(cid:71)(cid:3)(cid:79)(cid:72)(cid:89)(cid:72)(cid:79)(cid:3)(cid:68)(cid:86)(cid:70)(cid:72)(cid:85)(cid:87)(cid:68)(cid:76)(cid:81)(cid:72)(cid:71)(cid:3)(cid:68)(cid:81)(cid:71)(cid:3)(cid:85)(cid:72)(cid:86)(cid:87)(cid:82)(cid:85)(cid:72)(cid:71)(cid:3)(cid:73)(cid:82)(cid:85)(cid:3)(cid:73)(cid:79)(cid:82)(cid:90)(cid:3)(cid:71)(cid:76)(cid:85)(cid:72)(cid:70)(cid:87)(cid:76)(cid:82)(cid:81)(cid:17)(cid:3)(cid:55)(cid:75)(cid:72)(cid:3)(cid:68)(cid:83)(cid:83)(cid:79)(cid:76)(cid:70)(cid:68)(cid:81)(cid:87)(cid:3)(cid:86)(cid:75)(cid:82)(cid:88)(cid:79)(cid:71)(cid:3)(cid:83)(cid:85)(cid:82)(cid:89)(cid:76)(cid:71)(cid:72)(cid:3)(cid:68)(cid:3)(cid:83)(cid:88)(cid:70)(cid:70)(cid:68)(cid:3)(cid:70)(cid:82)(cid:81)(cid:70)(cid:85)(cid:72)(cid:87)(cid:72)(cid:3)(cid:69)(cid:72)(cid:71)(cid:3)(cid:76)(cid:81)(cid:3)(cid:87)(cid:75)(cid:72)(cid:3)(cid:70)(cid:75)(cid:68)(cid:81)(cid:81)(cid:72)(cid:79)(cid:3)(cid:68)(cid:87)(cid:3)(cid:87)(cid:75)(cid:72)(cid:3)(cid:83)(cid:85)(cid:82)(cid:83)(cid:82)(cid:86)(cid:72)(cid:71)(cid:3)(cid:69)(cid:85)(cid:76)(cid:71)(cid:74)(cid:72)(cid:3)(cid:86)(cid:76)(cid:87)(cid:72)(cid:86)(cid:3)(cid:90)(cid:76)(cid:87)(cid:75)(cid:82)(cid:88)(cid:87)(cid:3)(cid:73)(cid:68)(cid:76)(cid:79)(cid:3)(cid:76)(cid:81)(cid:3)(cid:82)(cid:85)(cid:71)(cid:72)(cid:85)(cid:3)(cid:87)(cid:82)(cid:3)(cid:68)(cid:89)(cid:82)(cid:76)(cid:71)(cid:3)(cid:72)(cid:85)(cid:82)(cid:86)(cid:76)(cid:82)(cid:81)(cid:17)(cid:3)(cid:55)(cid:75)(cid:72)(cid:3)(cid:75)(cid:92)(cid:71)(cid:85)(cid:68)(cid:88)(cid:79)(cid:76)(cid:70)(cid:3)(cid:83)(cid:68)(cid:85)(cid:87)(cid:76)(cid:70)(cid:88)(cid:79)(cid:68)(cid:85)(cid:86)(cid:3)(cid:82)(cid:73)(cid:3)(cid:87)(cid:75)(cid:72)(cid:3)(cid:83)(cid:85)(cid:82)(cid:83)(cid:82)(cid:86)(cid:72)(cid:71)(cid:3)(cid:53)(cid:38)(cid:38)(cid:3)(cid:38)(cid:88)(cid:79)(cid:89)(cid:72)(cid:85)(cid:87)(cid:3)(cid:68)(cid:85)(cid:72)(cid:3)(cid:73)(cid:82)(cid:79)(cid:79)(cid:82)(cid:90)(cid:86)(cid:29)\nMinimum inner width Area of bridge No of\nS.NO. Channel No. S.F. Access to S.F. P le r v o e p l o in se M d B (+ e ) dMFL in M (+) Widt p h e o r f F c M ha B n a n t el as V b e o n t t t o h m ei g le h v t e in l o M f / bri o d f ge in Sqm a v ll e o n w t e s d\nproposed site\nFrom To deck slab in M in M\n1.00 539.00 Approach 509.00 (+)15.720m (+)17.240 6.50 2.66m I (+)18.380 9.00 1No\n58.5 m2\nroad\nTotal\n58.5 m2\nd on the hydraulic particulars mentioned above, the design and drawings of the proposed RCC Culvert should be obtained from the Qualified structural Design Engineer and the same should be submitted to the Executive Engineer, WRD.. Kosasthalaiyar Basin Division, Thiruvallur for getting approval before the commencement of work regarding hydraulic particulars. The work schedule for above proposal should\nformed to the Executive Engineer, WRD., Kosasthalaiyar Basin Division, Thiruvallur for monitoring and also completion of bridge should be reported to the Executive Engineer.\nThe applicant should pay an annual lease rent of Rs.71,000/- (Rupees Seventy one thousand only) for occupation of 58.50 sqm in the shape of Demand Draft drawn in favour of the Executive Engineer, WRD., Kosasthalaiyar Basin Division, Thiruvallur and it should be paid at one lumpsum for three years of Rs.2,13,000/- (Rupees two lakhs and thirteen thousand only) in advance before the commencement of work.\nng execution/ after construction of above culvert, if any deviations are noted in above measurements, accordingly the lease rent also will be revised respectively.\nThe applicant have to pay Service tax, GST etc., separately as per norms in existence and as amended from time to time without fail.\nThe applicant should execute the lease agreement with the Executive Engineer, WRD., Kosasthalalyar Basin Division, Thiruvallur before commencing the work and it should be renewed once in three years for which the applicant voluntarily has to apply within 2 months, before the expiry of the lease period. The lease rent is subjected to revision from time to time as per guideline value / Government orders.\nThe applicant should pay the caution deposit of sum of Rs.2,00,000/- (Rupees two lakh only) in favour of the Executive Engineer, WRD., Kosasthalaiyar Basin Division, Thiruvallur which will be refunded only after completion of six months based on the certificate received from concerned Assistant Executive Engineer of WRD department stating that the construction work (bridge and field channel retaining wall)\ncompleted without any damage to the Government property or the damage caused during execution if any, will be rectified fully by the applicant. If failed, the cost of restoration work will be borne from the caution deposit.\nThe construction of Abutment, Wing wall, Return wall, etc., should be constructed for the above proposed culverts and should also be constructed well within the applicant's land on either side. Moreover, the width of field channel as per Revenue records (FMB) should be maintained properly without any change.\nThe applicant should not claim any privilege on the above leased portion of the land and if the leased portion of the land required for the Government for the benefit of some other large general common public schemes, the applicant should not object to handover the land to this department for which applicant is not entitled for any compensation. Further, the leased portion land to be handed over to this department\niginal condition.\nThe above proposed culverts will be the Government WRD property after the construction. The applicant should not claim any privilege on the above lease portion of Government land (culvert land, culvert, field channel retaining wall abutting the applicant land) and should allow the WRD officials to inspect the channel as and when required and for the periodical inspection.\nThe applicant should do proper soil test, and suitable foundation should be selected depending upon the soil condition and the structural design should be obtained from the approved Structural Engineer for construction of RCC culvert.\nThe WRD will not be held responsible for the Structural Stability, safety and soundness of the culverts proposed by the applicant and WRD specifically recommend only for construction of culvert. The applicant should construct the proposed RCC Culvert at their own cost. The applicant is solely responsible for the structural safety and stability of the proposed culverts and at any cost, WRD will not be held\nonsible of RCC culverts.for design and drawings adopted for proposed construction\nIn case of transfer of the above said lands to the third party / association in future, in such case the lease rent should be paid by the third party / association periodically without fail, otherwise the NOC will be revoked and constructed culvert will also be removed without any correspondence, for which applicant is not entitled for any compensation and as well as legal entity.\nDuring Monsoon periods, the applicant should remove and clear the jungle & weeds, floating materials etc at applicant's own cost. The applicant should not damage the Government property and cause any inconvenience to common public. All safety measures should be taken without fail. Adequate arrangement for the safety of traffic by way of flagman, barricades, caution boards, danger lights (Day & Night) etc.,\nquired, should to be provided. The applicant should engage proper watch and ward so as to avoid any untoward incident upto completion of work.\nThe proposed RCC culvert should be monitored and maintained by the applicant at their own cost. The proposed culvert should be well preserved without any hindrance to facilitate free flow of water. Also by the way of clearing any obstructions in the vent ways such as bushes, weeds, debris and any other obstructions, ensure free flow of water should be ensured periodically at his own cost.\nDuring execution / completion of culvert dumped earth in the channel bed should be removed fully without leaving in the water course area which shall affect the linear water ways. The applicant should maintain the channel as is in condition of Environmental, Ecology, Naturalist and without, encroachments & pollution etc., and should not deviate the Hydraulic particulars of the channel.\nnical Suggestion:\nThe applicant should prepare the layout proposal by considering the suitable internal storm water drainage network as micro drain of suitable sizes, within the site as per site condition and the same should be connected to the local drain / channel, rainwater harvesting roads with road side drain and sewerage treatment and its disposal and garbages / debris and other solid waste management as per norms in\nence within the applicant's land according to existing rules in force and should get proper approval from competent authority without fail.\nsewage or any unhygienic drainage (Treated or Untreated) should not be let into drain /channel/ course at any cost and the debris and other materials should not be dumped into the drain /surplus course obstructing free flow of water. The applicant should make drainage network, at his own cost and the same is to be connected to natural storm water drainage / channel, There should not be any hindrance to the free\nof internal drain to downstream.\nThe applicant should provide necessary setback distance within the site as per the norms in existence and as per the rules in force of CMDA (as per the circular issued by the office of the Commissioner of Town & Country Planning, Chennai - 2 vide Roc. No. 4367/2019-BA2/Dated: 13.03.2019) during development and there should must be construction activities in the specific setback areas in future also. The CMDA\nld issue completion certificate only after obtaining compliance certificate NOC from WRD.\nhe sewage water from the applicant's land should not let into the drain and for the disposal of the sewage water, suitable arrangements should be made for the same by the applicant, and as well as the construction materials / debris / garbages should not be dumped into the channel/river at any cost.\nt any cost, sewage / sullage should not be let into river, and the garbages, debris and construction materials should not be dumped into the channel/river restricting the free flow of water.\nhe applicant should get clearance certificate for this site from the Revenue department to make sure that the site is not an encroached property from the water body as well as confirming this proposed site boundaries.\nowner of the document received from the applicant in respect to the ownership is purely of applicant's responsibility and it is only for reference purpose to this department. The legal validity of this document should be verified by the Development / Revenue authorities. The specific remarks on inundation are purely issued on technical grounds in respect to the physical location of land.\nng to comply with any of the above conditions, WRD reserves rights to withdraw the Technical opinion on inundation point of view as well as temporary permission for the construction of culverts across the channel to the above proposed site and in event, the applicants shall not be eligible for any compensation whatsoever and as well as legal entity.\nOCAL BODY SHOULD ENSURE COMPLIANCE OF ALL THE CONDITIONS STIPULATED BY PWD IN THEIR LETTER NO.DB/T5(3) / F- 9041 NOC AYANAMBAKKAM VILLAGE 0320 / 2024 / DATED: 30.01.2024, AND SHALL OBTAIN A LETTER FROM PWD CONFIRMING THE COMPLIANCE OF THE CONDITIONS BEFORE THE SANCTION AND RELEASE OF THE LAYOUT.\n(cid:3)(cid:55)(cid:49)(cid:38)(cid:39)(cid:37)(cid:53)-2019(cid:15)(cid:3)(cid:53)(cid:56)(cid:47)(cid:40)(cid:3)(cid:49)(cid:50)(cid:29)(cid:3)47(cid:3)(cid:11)11(cid:12)\n(cid:3)(cid:38)(cid:50)(cid:54)(cid:55)(cid:3)(cid:50)(cid:41)(cid:3)(cid:47)(cid:36)(cid:60)(cid:44)(cid:49)(cid:42)(cid:3)(cid:44)(cid:48)P(cid:53)(cid:50)(cid:57)(cid:40)(cid:48)(cid:40)(cid:49)(cid:55)(cid:54)(cid:3)(cid:55)(cid:50)(cid:3)(cid:55)(cid:43)(cid:40)(cid:3)(cid:54)(cid:60)(cid:54)(cid:55)(cid:40)(cid:48)(cid:54)(cid:3)(cid:44)(cid:49)(cid:3)(cid:53)(cid:40)(cid:54)P(cid:40)(cid:38)(cid:55)(cid:3)(cid:50)(cid:41)(cid:3)(cid:53)(cid:50)(cid:36)(cid:39)(cid:15)(cid:3)(cid:58)(cid:36)(cid:55)(cid:40)(cid:53)(cid:3)(cid:54)(cid:56)PP(cid:47)(cid:60)(cid:15)(cid:3)(cid:54)(cid:40)(cid:58)(cid:40)(cid:53)(cid:36)(cid:42)(cid:40)(cid:15)(cid:3)(cid:39)(cid:53)(cid:36)(cid:44)(cid:49)(cid:36)(cid:42)(cid:40)(cid:3)(cid:50)(cid:53)(cid:3)(cid:40)(cid:47)(cid:40)(cid:38)(cid:55)(cid:53)(cid:44)(cid:38)(cid:3)P(cid:50)(cid:58)(cid:40)(cid:53)(cid:3)(cid:54)(cid:56)PP(cid:47)(cid:60)(cid:3)(cid:55)(cid:43)(cid:36)(cid:55)(cid:3)(cid:48)(cid:36)(cid:60)(cid:3)(cid:37)(cid:40)(cid:3)(cid:53)(cid:40)(cid:52)(cid:56)(cid:44)(cid:53)(cid:40)(cid:39)(cid:3)(cid:36)(cid:54)(cid:3)(cid:36)(cid:54)(cid:54)(cid:40)(cid:54)(cid:54)(cid:40)(cid:39)(cid:3)(cid:37)(cid:60)(cid:3)(cid:55)(cid:43)(cid:40)(cid:3)(cid:38)(cid:50)(cid:49)(cid:38)(cid:40)(cid:53)(cid:49)(cid:40)(cid:39)(cid:3)(cid:36)(cid:56)(cid:55)(cid:43)(cid:50)(cid:53)(cid:44)(cid:55)(cid:60)(cid:15)(cid:3)(cid:3)(cid:49)(cid:36)(cid:48)(cid:40)(cid:47)(cid:60)(cid:15)(cid:3)(cid:55)(cid:43)(cid:40)(cid:3)(cid:47)(cid:50)(cid:38)(cid:36)(cid:47)(cid:3)(cid:37)(cid:50)(cid:39)(cid:60)(cid:3)(cid:36)(cid:49)(cid:39)(cid:3)(cid:55)(cid:36)(cid:48)(cid:44)(cid:47)(cid:3)(cid:49)(cid:36)(cid:39)(cid:56)(cid:3)(cid:40)(cid:47)(cid:40)(cid:38)(cid:55)(cid:53)(cid:44)(cid:38)(cid:44)(cid:55)(cid:60)(cid:3)(cid:37)(cid:50)(cid:36)(cid:53)(cid:39)(cid:15)(cid:3)(cid:54)(cid:43)(cid:36)(cid:47)(cid:47)(cid:3)(cid:37)(cid:40)(cid:3)(cid:37)(cid:50)(cid:53)(cid:49)(cid:40)(cid:3)(cid:37)(cid:60)(cid:3)(cid:55)(cid:43)(cid:40)\n(cid:47)(cid:44)(cid:38)(cid:36)(cid:49)(cid:55)(cid:17)\n(cid:55)(cid:43)(cid:40)(cid:3)(cid:36)PP(cid:47)(cid:44)(cid:38)(cid:36)(cid:49)(cid:55)(cid:3)(cid:44)(cid:54)(cid:3)(cid:53)(cid:40)(cid:54)P(cid:50)(cid:49)(cid:54)(cid:44)(cid:37)(cid:47)(cid:40)(cid:3)(cid:41)(cid:50)(cid:53)(cid:3)(cid:55)(cid:43)(cid:40)(cid:3)(cid:54)(cid:43)(cid:36)P(cid:40)(cid:15)(cid:54)(cid:44)(cid:61)(cid:40)(cid:3)(cid:9)(cid:3)(cid:39)(cid:44)(cid:48)(cid:40)(cid:49)(cid:54)(cid:44)(cid:50)(cid:49)(cid:54)(cid:3)(cid:50)(cid:41)(cid:3)(cid:55)(cid:43)(cid:40)(cid:3)(cid:54)(cid:44)(cid:55)(cid:40)(cid:3)(cid:56)(cid:49)(cid:39)(cid:40)(cid:53)(cid:3)(cid:53)(cid:40)(cid:41)(cid:40)(cid:53)(cid:40)(cid:49)(cid:38)(cid:40)(cid:17)\n(cid:40)(cid:38)(cid:40)(cid:54)(cid:54)(cid:36)(cid:53)(cid:60)(cid:3)(cid:54)P(cid:36)(cid:38)(cid:40)(cid:3)(cid:41)(cid:50)(cid:53)(cid:3)(cid:37)(cid:56)(cid:44)(cid:47)(cid:39)(cid:44)(cid:49)(cid:42)(cid:3)(cid:47)(cid:44)(cid:49)(cid:40)(cid:3)(cid:55)(cid:50)(cid:3)(cid:37)(cid:40)(cid:3)(cid:47)(cid:40)(cid:41)(cid:55)(cid:3)(cid:36)(cid:54)(cid:3)P(cid:40)(cid:53)(cid:3)(cid:55)(cid:43)(cid:40)(cid:3)(cid:53)(cid:56)(cid:47)(cid:40)(cid:3)(cid:44)(cid:49)(cid:3)(cid:41)(cid:50)(cid:53)(cid:38)(cid:40)(cid:3)(cid:58)(cid:43)(cid:44)(cid:47)(cid:40)(cid:3)(cid:55)(cid:36)(cid:46)(cid:44)(cid:49)(cid:42)(cid:3)(cid:56)P(cid:3)(cid:39)(cid:40)(cid:57)(cid:40)(cid:47)(cid:50)P(cid:48)(cid:40)(cid:49)(cid:55)(cid:3)(cid:44)(cid:49)(cid:3)(cid:40)(cid:57)(cid:40)(cid:53)(cid:60)(cid:3)P(cid:47)(cid:50)(cid:55)(cid:17)\nEND:\nSITE BOUNDARY (cid:38)(cid:50)(cid:49)(cid:39)(cid:44)(cid:55)(cid:44)(cid:50)(cid:49)(cid:29)\nROADS GIFTED TO LOCAL BODY\nTHE LAYOUT APPROVED IS VALID SUBJECT TO\nEXISTING ROAD\nOBTAINING SANCTION FROM THE LOCAL BODY\nPUBLIC PURPOSE-1 GIFTED TO LOCAL BODY\nCONCERNED.\nPUBLIC PURPOSE-2 GIFTED TO TANGEDCO\nCHANNEL\nP.P.D 163\nNO :\nL.O 2024\nAPPROVED\nVIDE LETTER NO : LAYOUT-1 / 0152 / 2024\nThis Planning Permission Issued under New Rule\nTNCDBR.2019 is subject to final outcome of the\nDATE : 29 / 07 / 2024\nW.P(MD) No.8948 of 2019 and WMP (MD)\nNos. 6912 & 6913 of 2019.\nOFFICE COPY\nFOR MEMBER SECRETARY\nCHENNAI METROPOLITAN\nDEVELOPMENT AUTHORITY\nAM VILLAGE.",
         "True",
         null,
         null,
         null,
         "29 / 07 / 2024",
         "LAYOUT-1"
        ],
        [
         "166",
         "167",
         "167/2024",
         "Tambaram Corporation",
         "Selaiyur",
         "https://www.cmdachennai.gov.in/pdfs/layouts/2024/167-2024.pdf",
         "167/2024",
         "2024/167.pdf",
         "FILE NO: LAYOUT-1 / 0015 / 2024\n: 1577 SQ.M\n(AS PER TSLR)\n: 504 SQ.M\nTS (1 TO 6) : 6 Nos.\n123.0 SQ.M) (7,8) : 2 Nos.\nPLOTS : 8 Nos.\nATED EXCLUDING SPLAY DIMENSIONS\nANDED OVER TO THE LOCAL BODY VIDE GIFT DEED\n79 / 2024, DATED: 10.07.2024 @ SRO SELAIYUR.\nNO: 47 (11)\nIMPROVEMENTS TO THE SYSTEMS IN RESPECT OF ROAD, WATER SUPPLY, SEWERAGE, DRAINAGE OR ELECTRIC POWER SUPPLY THAT MAY BE REQUIRED AS\nNCERNED AUTHORITY, NAMELY, THE LOCAL BODY AND TAMIL NADU ELECTRICITY BOARD, SHALL BE BORNE BY THE APPLICANT.\nE NO: 47 (9) & AMENDMENTS PUBLISHED IN TNGG ISSUE NO.41 DATED 31.01.2020\nLOPER OR PROMOTER SHALL SELL THESE PLOTS ONLY FOR EWS PURPOSE. AMALGAMATION SHALL BE PERMISSIBLE IN THOSE CASES OF ECONOMICALLY WEAKER\nA PERIOD OF THREE YEARS. IN SUCH CASES OF AMALGAMATION, THE PLANNING PARAMETERS FOR ECONOMICALLY WEAKER SECTION AREAS SHALL NOT APPLY.\nRESPONSIBLE FOR THE SHAPE, SIZE & DIMENSIONS OF THE SITE UNDER REFERENCE.\nFOR BUILDING LINE TO BE LEFT AS PER THE RULE IN FORCE WHILE TAKING UP DEVELOPMENT.\nY\nTO LOCAL BODY\nD CONDITION:\nTHE SUB DIVISION APPROVED IS VALID\nSUBJECT TO OBTAINING SANCTION FROM\nTHE LOCAL BODY CONCERNED.\nP.P.D 167\nNO :\nL.O 2024\nAPPROVED\nThis Planning Permission Issued under New Rule VIDE LETTER NO : LAYOUT-1 / 0015 / 2024\nTNCDBR.2019 is subject to final outcome of the\nW.P(MD) No.8948 of 2019 and WMP (MD) DATE : 29 / 07 / 2024\nNos. 6912 & 6913 of 2019.\nOFFICE COPY\nFOR CHEIF PLANNER (LAYOUT)\nCHENNAI METROPOLITAN\nDEVELOPMENT AUTHORITY\nARD-I,",
         "True",
         null,
         null,
         null,
         "29 / 07 / 2024",
         "LAYOUT-1"
        ],
        [
         "167",
         "168",
         "168/2024",
         "Poonamallee PU",
         "Vayalanallur-B",
         "https://www.cmdachennai.gov.in/pdfs/layouts/2024/168-2024.pdf",
         "168/2024",
         "2024/168.pdf",
         "FILE NO: LAYOUT-1 / 0010/ 2024\nPER DOCUMENT) : 6961 SQ.M\n: 3024 SQ.M\nAREA (1%) : 50 SQ.M\nTHE LOCAL BODY 0.5% AREA : 25.0 SQ.M )\nTHE TANGEDCO 0.5% AREA : 25.0 SQ.M )\n: 40 Nos.\nE INDICATED EXCLUDING SPLAY DIMENSIONS\nWERE HANDED OVER TO THE LOCAL BODY VIDE GIFT DEED DOCUMENT NO.\nO S E A R E A - 1 4805/2024, DATED: 13.07.2024, @ SRO POONAMALLEE.\nOSE AREA - 2\nHOULD FOLLOW THE CONDITIONS MENTIONED BY THE CE, PWD., WRD., CHENNAI REGION, CHEPAUK , CHENNAI -5. LETTER NO.DB/T5(3)/F-NOC1659 VAYALANALLUR B VILLAGE(CHOKKANALLUR)3779/2024/DATED:21.05.2024 ARE TO BE COMPLIED BY THE APPLICANT BEFORE ISSUING OF THE LAYOUT\nOMPETENT AUTHORITY (LOCAL BODY)\nshould be filed with earth filling with proper compaction to the minimum level of (+) 23.850m (Le..) 0.75m above the crest level of the Weir in Vayalanallur Tank at (+)23.100m. To protect the site from inundation during floods. The process of earth filling and compaction should be done in layers of not more than 0.30metre depth to achieve required\nr the depth from (+)1.70m to (+)2.36m depending upon the existing field levels. Also, the applicants should provide emergency pumping operation for the seepage water, if it is proposed to have basement floor and as well as dewatering arrangements during flood periods The all round pavement level within the site should not be less than (+) 23.850m\nested not to have regular habitation below MFL, since the existing field levels are below MFL.\nclearly demarcate boundary of their land before commencement of any developmental activities in the presence of Revenue, Local body and WRD authorities' concemed without fail and should not encroach the Government land in SF.No.298/1 & 297/1 and the same should be maintained as it is in the Revenue records.\ned to the applicants, should not be altered / modified / changed to any others. Based on the records submitted by the applicants, the permission is granted. If any documents seem to be fake / manipulated fabricated, in future the above permission will be cancelled without any correspondence. Hence, the applicants are solely responsible of genuinely of\nd.\nuld be allowed to inspect the site at any time, during execution and thereafter, if necessary advance intimation should be given to the WRD officers Concerned before commencement of work.\nabide by the rules and regulation of the WRD from time to time. The applicants should also abide court of law of both State & Central Government from time to time.\nonly in connection with the inundation aspect and does not deliver any rights to the applicants to encroach the WRD/ Government Lands / river. The NOC for this site from the WRD is purely issued on the basis of inundation point of view.\nnot object at any time for the maintenance works / improvement works of the channels which are proposed to be carried out by WRD. The applicant should give an undertaking in writing to the effect that the above proposal will not obstruct in case any maintenance / improvement/ development works as per Revenue records [FMB], which are proposed\nin future periodically.\nnnel in SF.No. 297/1 & 298/1 of Vayalanallur B village abutting on Northern side of the applicant land should be completely de silted and re- sectioned by constructing retaining wall on either sides of the channel with concrete bed as per the FMB at the applicant's own cost. The bed level of the above channel should be ascertained and restored before\npment activity in the presence of the concerned WRD Executive Engineer. Moreover, the width of entire channel as per Revenue records (FMB) along & within the stretch of applicant's land should be maintained properly without any change and without encroachments.\nnnel in SF No.297/1 & 298/1 of Vayalanallur B village stretch on Northern side the applicant boundary should be marked as per FMB and monitored and maintained by the applicant at his own cost. The width of the channel should be maintained without encroachments as per Revenue records and the hydraulic parameters of the field channel should be\nt should make necessary periodical arrangements for free flow of water through the existing channel to the downside area within the proposed layout site. Also, the applicant should de silt the channel periodically and remove the obstruction then and there without any hindrance for free flow of water at his own cost within the proposed land, after the\nso.\nnot construct any cross masonry across the river without prior permission of WRD. If any damages occurred to the Government Channel, the same should be restored to its Original condition at their own cost.\nd prepare the layout proposal by considering the suitable internal storm water drainage network drain as micro drains of suitable size within the site as per site condition. The same should be connected to the local drain/ channel at his own cost, rainwater harvesting, roads with road side drain and sewerage treatment plant and its disposal and\nr solid waste management as per norms in existence within the applicant's land according to existing rules in force and should get proper approval from competent authority without fail.\ngienic drainage (Treated or Untreated) should not be let into drain/channel/ course at any cost and the debris and other materials should not be dumped into the drain / surplus course obstructing free flow of water. The applicants should make drainage network, at their own cost and the same is to be connected to natural stom\\ water drainage /\nt be any hindrance to the free flow of internal drain to downstream.\nk distance should be provided with in the site as per site condition as per the norms in existence and as per the rules in force of CMDA (as per the circular issued by the office of the Commissioner of Town & Country Planning. Chennai - 2 vide Roc. No. 4367/2019-BA2/Dated: 13.03.2019) during development and there should not be any construction\nhe CMDA should issue completion certificate only after obtaining compliance certificate NOC from WRD.\nget clearance certificate for this site from the Revenue department to make sure that the site is not an encroached property from the water body as well as confirming this proposed site boundaries.\nm the applicant land should not let into the drain and for the disposal of the sewage water, suitable arrangements should be made for the same by the applicants, and as well as the construction materials/debris/garbage should not be dumped into the channel/river/tank at any cast\nllage should not be let into channel/river, and the garbage, debris and construction materials should not be dumped into the channel/river restricting the free flow of water.\nent received from the applicants in respect to the ownership is purely of applicant's responsibility and it is only for reference purpose to this department. The legal validity of this document should be verified by the Development / Revenue authorities. The specific remarks on inundation are purely issued on technical grounds in respect to the physical\ny of the above conditions, WRD reserves rights to withdraw the Technical opinion on inundation point of view to the above proposed site and in event, the applicants shall not be eligible for any compensation whatsoever and as well as legal entity.\nULD ENSURE COMPLIANCE OF ALL THE CONDITIONS STIPULATE BY WRD, PWD IN THEIR LETTER NO.DB/T5(3)/F-NOC1659 VAYALANALLUR B VILLAGE(CHOKKANALLUR)3779/2024/DATED:21.05.2024, AND SHALL OBTAIN A LETTER FROM WRD CONFIRMING THE COMPLIANCE OF THE CONDITIONS BEFORE\nRELEASE OF THE LAYOUT.\nLE NO:47 (11)\nG IMPROVEMENTS TO THE SYSTEMS IN RESPECT OF ROAD, WATER SUPPLY, SEWERAGE, DRAINAGE OR ELECTRIC POWER SUPPLY THAT MAY BE REQUIRED AS ASSESSED BY THE CONCERNED AUTHORITY, NAMELY, THE LOCAL BODY AND TAMIL NADU ELECTRICITY BOARD, SHALL BE BORNE BY THE\nRESPONSIBLE FOR THE SHAPE, SIZE & DIMENSIONS OF THE SITE UNDER REFERENCE.\nCE FOR BUILDING LINE TO BE LEFT AS PER THE RULE IN FORCE WHILE TAKING UP DEVELOPMENT IN EVERY PLOT.\nARY\nED TO LOCAL BODY\nOAD\nPOSE-1 GIFTED TO LOCAL BODY\nCONDITION:\nPOSE-2 GIFTED TO LOCAL BODY (FOR TANGEDCO)\nTHE LAYOUT APPROVED IS VALID SUBJECT\nTO OBTAINING SANCTION FROM THE LOCAL\nBODY CONCERNED.\nP.P.D 168\nNO :\nL.O 2024\nAPPROVED\nThis Planning Permission Issued under New Rule\nTNCDBR.2019 is subject to final outcome of the\nW.P(MD) No.8948 of 2019 and WMP (MD) VIDE LETTER NO : LAYOUT-1 / 0010 / 2024\nNos. 6912 & 6913 of 2019.\nDATE : 29 / 07 / 2024\nOFFICE COPY\nFOR MEMBER SECRETARY\nCHENNAI METROPOLITAN\nDEVELOPMENT AUTHORITY\nE (CHOKKANALLUR AS PER SMP).",
         "True",
         null,
         null,
         null,
         "29 / 07 / 2024",
         "LAYOUT-1"
        ],
        [
         "180",
         "181",
         "181/2024",
         "Poonamallee PU",
         "Thiruninravur-B",
         "https://www.cmdachennai.gov.in/pdfs/layouts/2024/181-2024.pdf",
         "181/2024",
         "2024/181.pdf",
         "FILE NO.L1/0047/2024\nEXT E N T ( A S PER DOCUMENT&PATTA) : 1555 SQ.M\nAREA : 330 SQ.M\n.PLOTS : 6 Nos.\n-1.5MX1.5M\nUREMENTS ARE INDICATED EXCLUDING SPLAY DIMENSION\nROAD AREA WAS HANDED OVER TO THE LOCAL BODY VIDE GIFT DEED DOCUMENT No.11200/2024 , DATED: 02.08.2024, @ SRO AVADI.\nITIONS :\nOLLOWING CONDITIONS OF PWD VIDE THE CE, WRD, CHENNAI REGION, CHEPAUK, CHENNAI-5 IN LETTER NO.DB/T5(3)/F-NOC 003099 THIRUNINDRAVUR-B VILLAGE 004991/2024/ DATED:28.06.2024, ARE TO BE\nED BY THE APPLICANT BEFORE ISSUING OF THE LAYOUT APPROVAL BY THE COMPETENT AUTHORITY (LOCAL BODY).\ns:\nplicant land should be filled with earth filling with proper compaction to the minimum level of (+)35.660m (i.e) 2 10m above the Thiruninravur tank FTL as (+)33.560m. To protect the site from inundation during floods. The process of earth filling and\nn should be done in layers of not more than 0.30metre depth to achieve required degree of compaction for the depth from 3.060m depending upon the existing field levels. Also, the applicants should provide emergency pumping operation for the seepage\nt is proposed to have basement floor and as well as dewatering arrangements during flood periods. The all round pavement level within the site should not be less than (+)35.660m and the regular habitation should not be below MFL.\nlicants should clearly demarcate boundary of their land before commencement of any developmental activities in the presence of Revenue, WRD authorities. The applicant should also maintain the measurement of the channel as per the Revenue records\nny encroachments and should be maintained as Revenue records(FMB).\nrmission granted to the applicant, should not be altered / modified / changed to any others. Based on the records submitted by the applicant, the permission is granted. If any documents seem to be fake / manipulated / fabricated, in future the above\nn will be cancelled without any correspondence. Hence, the applicants are solely responsible of genuinety of the documents submitted.\nRD officers should be allowed to inspect the site at any time, during execution and thereafter, if necessary. Advance intimation should be given to the WRD officers concerned before commencement of work.\nplicant should abide by the rules and regulation of the WRD from time to time. The applicants should also abide court of law of both State & Central Government from time to time.\ns giving opinion only in connection with the inundation aspect and does not deliver any rights to the applicants to encroach the WRD / Government Lands. The NOC for this site from the WRD is purely issued on the basis of inundation point of view.\nvernment field Channel in S.F.No.418/6 on East, side of the applicant land should be completely desilted and re-sectioned by constructing retaining wall on either sides of the channel with concrete bed as per the FMB upto their stretch at the applicant's\nThe bed level of the above channel should be ascertained and restored before commencing the development activity in the presence of the concerned WRD Executive Engineer. Moreover, the width of entire channel as per Revenue records (FMB) along &\nstretch of applicant's land should be maintained properly without any change and without encroachments.\nvernment field channel in S.F.No. 418/6 on East, side stretch abutting the applicant boundary should be marked as per FMB and monitored and maintained by the applicant at his own cost. The width of the channel should be maintained without\nents as per Revenue records and the hydraulic parameters of the field channel should be maintained. The applicant should make necessary periodical arrangements for free flow of water through the existing channel to the downside area within the\nlayout site. Also, the applicant should de-silt the channel periodically and remove the obstruction then and there without any hindrance for free flow of water at his own cost within the proposed land, after the completion of project also.\nplicant should not carry out any other cross masonry structures across the channels without prior permission from WRD. If any damages occurred to the channel, the same should be restored to its original condition at his own cost. The applicant/ authorities\nshould restore the channel vide.G.O.78 H&UD(UD4(3)D/04.05.17 if the applicant site abuts the channel without fail.\nplicant should not object at any time for the maintenance works / improvement works of the channels which are proposed to be carried out by WRD. The applicant should give an undertaking in writing to the effect that the above proposal will not obstruct\ny maintenance / improvement / development works as per Revenue records [FMB], which are proposed to be carried out by WRD in future periodically.\nSuggestions:\nlicants should prepare the layout proposal by considering the suitable internal storm water drainage network drain as micro drains of suitable size not less than within the site as per the site conditions and the same should be connected to the local drain /\nainwater harvesting, roads with road side drain and sewerage treatment plant and its disposal and garbages / debris and other solid waste management as per norms in existence within the applicant's land according to existing rules in force and should get\nproval from competent authority without fail.\nge or any unhygienic drainage (Treated or Untreated) should not be let into drain / channel / course at any cost and the debris and other materials should not be dumped into the drain / surplus course obstructing free flow of water. The applicants should\ninage network, at their own cost and the same is to be connected to natural storm water drainage / channel. There should not be any hindrance to the free flow of internal drain to downstream.\nessary setback distance should be provided within the site as per site condition as per the norms in existence and as per the rules in force of CMDA (as per the circular issued by the office of the Commissioner of Town & Country Planning, Chennai - 2\nNo. 4367 / 2019-BA2 / Dated: 13.03.2019) during development and there should not be any construction activities in future also, the CMDA should issue completion certificate only after obtaining compliance certificate NOC from WRD.\nlicants should get clearance certificate for this site from the Revenue department to make sure that the site is not an encroached property from the water body as well as confirming this proposed site boundaries.\nage water from the applicant land should not let into the drain and for the disposal of the sewage water, suitable arrangements should be made for the same by the applicants, and as well as the construction materials / debris / garbages should not be\nnto the channel / river / tank at any cost.\nst, sewage / sullage should not be let into channel / river, and the garbages, debris and construction materials should not be dumped into the channel / river restricting the free flow of water.\nner of the document received from the applicants in respect to the ownership is purely of applicant's responsibility and it is only for reference purpose to this department. The legal validity of this document should be verified by the Development / Revenue\ns. The specific remarks on inundation are purely issued on technical grounds in respect to the physical location of land.\ng to comply with any of the above conditions, WRD reserves rights to withdraw the Technical opinion on inundation point of view to the above proposed site and in event, the applicants shall not be eligible for any compensation whatsoever and as well as\nty.\nBR-2019, RULE NO: 47 (11)\nT OF LAYING IMPROVEMENTS TO THE SYSTEMS IN RESPECT OF ROAD, WATER SUPPLY, SEWERAGE, DRAINAGE OR ELECTRIC POWER SUPPLY THAT MAY BE REQUIRED AS ASSESSED BY THE CONCERNED AUTHORITY,\n, THE LOCAL BODY AND TAMIL NADU ELECTRICITY BOARD, SHALL BE BORNE BY THE APPLICANT.\nL BODY SHOULD ENSURE COMPLIANCE OF ALL THE CONDITIONS STIPULATED BYPWD IN THEIR LETTER NO. DB/T5(3)/F-NOC 003099 THIRUNINDRAVUR-B VILLAGE 004991/2024/ DATED:28.06.2024, AND SHALL OBTAIN A\nING THE COMPLIANCE OF THE CONDITION BEFORE THE SANCTION AND RELEASE OF THE LAYOUT.\nPPLICANT IS RESPONSIBLE FOR THE SHAPE,SIZE & DIMENSIONS OF THE SITE UNDER REFERENCE.\nARY SPACE FOR BUILDING LINE TO BE LEFT AS PER THE RULE IN FORCE WHILE TAKING UP DEVELOPMENT IN EVERY PLOT\n:\nITE BOUNDARY\nOADS GIFTED TO LOCAL BODY\nXISTING ROAD\nHANNEL\nCONDITION:\nTHE SUB DIVISION APPROVED IS VALID SUBJECT\nTO OBTAINING SANCTION FROM THE LOCAL\nBODY CONCERNED.\nP.P.D 181\nNO :\nL.O 2024\nAPPROVED\nVIDE LETTER NO : LAYOUT-1 / 0047 / 2024\nThis Planning Permission Issued under New Rule\nTNCDBR.2019 is subject to final outcome of the\nDATE : 14 / 08 / 2024\nW.P(MD) No.8948 of 2019 and WMP (MD)\nNos. 6912 & 6913 of 2019.\nOFFICE COPY\nFOR CHIEF PLANNER (LAYOUT)\nCHENNAI METROPOLITAN\nDEVELOPMENT AUTHORITY\nIRUNINDRAVUR-\"B\" VILLAGE.",
         "True",
         null,
         null,
         null,
         "14 / 08 / 2024",
         null
        ],
        [
         "181",
         "182",
         "182/2024",
         "Kundrathur MP",
         "Moondramkattalai",
         "https://www.cmdachennai.gov.in/pdfs/layouts/2024/182-2024.pdf",
         "182/2024",
         "2024/182.pdf",
         "FILE NO: LAYOUT-1/0348/2023\nEXTENT : 1203 SQ.M\n(AS PER APPROVED LAYOUT PLAN)\nD AREA : 233 SQ.M\nLIC PURPOSE AREA (1%) : 25 SQ.M\nHANDED OVER TO THE LOCAL BODY 0.5% AREA :13.0 SQ.M\nHANDED OVER TO THE TANGEDCO 0.5% AREA : 12.0 SQ.M\nOF.PLOTS : 11 Nos.\n:\nAY - 1.5M x 1.5M\nASUREMENTS ARE INDICATED EXCLUDING SPLAY DIMENSIONS\nROAD AREA WERE HANDED OVER TO THE LOCAL BODY VIDE GIFT DEED DOCUMENT NO.12382/2024, DATED:18.07.2024 @ SRO KUNDRATHUR.\nPUBLIC PURPOSE-1 (0.5%)\nPUBLIC PURPOSE-2 (0.5%)\n(RESERVED FOR TANGEDCO)\nITIONS :\nDBR-2019, RULE NO: 47 (11)\nOST OF LAYING IMPROVEMENTS TO THE SYSTEMS IN RESPECT OF ROAD, WATER SUPPLY, SEWERAGE, DRAINAGE OR ELECTRIC POWER SUPPLY THAT\nE REQUIRED AS ASSESSED BY THE CONCERNED AUTHORITY, NAMELY, THE LOCAL BODY AND TAMIL NADU ELECTRICITY BOARD, SHALL BE BORNE BY\nPPLICANT.\nE APPLICANT IS RESPONSIBLE FOR THE SHAPE,SIZE & DIMENSIONS OF THE SITE UNDER REFERENCE.\nESSARY SPACE FOR BUILDING LINE TO BE LEFT AS PER THE RULE IN FORCE WHILE TAKING UP DEVELOPMENT IN\nRY PLOT.\nND:\nSITE BOUNDARY\nROADS GIFTED TO THE LOCAL BODY\nEXISTING ROAD\nPUBLIC PURPOSE- 1 GIFTED TO LOCAL BODY\nPUBLIC PURPOSE- 2 GIFTED TO LOCAL BODY (FOR TANGEDCO)\nCONDITION:\nTHE LAYOUT APPROVED IS VALID SUBJECT\nTO OBTAINING SANCTION FROM THE LOCAL\nBODY CONCERNED.\nP.P.D 182\nNO :\nL.O 2024\nAPPROVED\nVIDE LETTER NO : LAYOUT-1 / 0348 / 2023\nThis Planning Permission Issued under New Rule\nTNCDBR.2019 is subject to final outcome of the\nDATE : 21 / 08 / 2024\nW.P(MD) No.8948 of 2019 and WMP (MD)\nNos. 6912 & 6913 of 2019.\nOFFICE COPY\nFOR CHIEF PLANNER (LAYOUT)\nCHENNAI METROPOLITAN\nUT OF HOUSE SITE DEVELOPMENT AUTHORITY\nD LAYOUT P.P.D/L.O\nAI VILLAGE",
         "True",
         null,
         null,
         null,
         "21 / 08 / 2024",
         "LAYOUT-1/0348/2023"
        ],
        [
         "187",
         "188",
         "188/2024",
         "Thiruverkadu MP",
         "Noombal",
         "https://www.cmdachennai.gov.in/pdfs/layouts/2024/188-2024.pdf",
         "188/2024",
         "2024/188.pdf",
         "File No. : LAYOUT-1/0184/2024\nAL EXTENT (AS PER PATTA ) : 2554 SQ.M\nD AREA : 475 SQ.M\nLIC PURPOSE AREA (1%) : 23 SQ.M\nHANDED OVER TO THE LOCAL BODY 0.5% AREA - 11.0 SQ.M)\nHANDED OVER TO THE TANGEDCO 0.5% AREA - 12.0 SQ.M)\nOF PLOTS : 13 Nos.\nE:\nAY - 1.5M X 1.5M\nASUREMENTS ARE INDICATED EXCLUDING SPLAY DIMENSION.\nROAD AREA WERE HANDED OVER TO THE LOCAL BODY VIDE GIFT DEED\nP U B L I C P U R P O S E - 1 DOCUMENT NO.14240/2024, DATED: 21.08.2024, @ SRO KUNDRATHUR.\nPUBLIC PURPOSE -2\n(RESERVED FOR TANGEDCO)\nITIONS:\nDBR-2019, RULE NO: 47 (11)\nST OF LAYING IMPROVEMENTS TO THE SYSTEMS IN RESPECT OF ROAD, WATER SUPPLY, SEWERAGE, DRAINAGE OR ELECTRIC POWER\nTHAT MAY BE REQUIRED AS ASSESSED BY THE CONCERNED AUTHORITY, NAMELY, THE LOCAL BODY AND TAMIL NADU ELECTRICITY\n, SHALL BE BORNE BY THE APPLICANT.\nAPPLICANT IS RESPONSIBLE FOR THE SHAPE,SIZE & DIMENSIONS OF THE SITE UNDER REFERENCE.\nESSARY SPACE FOR BUILDING LINE TO BE LEFT AS PER THE RULE IN FORCE WHILE TAKING UP DEVELOPMENT\nND:\nSITE BOUNDARY\nROADS GIFETD TO LOCAL BODY\nEXISTING ROAD\nPUBLIC PURPOSE-1 GIFTED TO LOCAL BODY\nPUBLIC PURPOSE-2 GIFTED TO LOCAL BODY(FOR TANGEDCO)\nCONDITION:\nTHE LAYOUT APPROVED IS VALID SUBJECT\nTO OBTAINING SANCTION FROM THE LOCAL\nBODY CONCERNED.\nP.P.D 188\nNO :\nL.O 2024\nAPPROVED\nThis Planning Permission Issued under New Rule\nTNCDBR.2019 is subject to final outcome of the\nW.P(MD) No.8948 of 2019 and WMP (MD) VIDE LETTER NO : LAYOUT-1 / 184 / 2024\nNos. 6912 & 6913 of 2019.\nDATE : 30 / 08 / 2024\nOFFICE COPY\nFOR CHIEF PLANNER (LAYOUT)\nCHENNAI METROPOLITAN\nDEVELOPMENT AUTHORITY\n.No. 24/2, 3, 4, 5, 6 ,7) OF",
         "True",
         null,
         null,
         null,
         "30 / 08 / 2024",
         "LAYOUT-1/0184/2024"
        ],
        [
         "197",
         "198",
         "198/2024",
         "Kundrathur PU",
         "Naduveerapattu",
         "https://www.cmdachennai.gov.in/pdfs/layouts/2024/198-2024.pdf",
         "198/2024",
         "2024/198.pdf",
         "LAYOUT-1 / 0048 / 2024\nSSIITTEE EEXXTTEENNTT ( A S P E R A P P R O V E D L A Y O U T P L A N ) : 1 5 0 7 S Q.M\nPUBLIC PURPOSE AREA (1%) : 19 SQ.M\n(P.P-1 HANDED OVER TO THE LOCAL BODY 0.5% AREA : 9.0 SQ.M )\n(P.P-2 HANDED OVER TO THE TANGEDCO 0.5% AREA : 10.0 SQ.M )\nNO.OF.PLOTS (RESIDENTIAL) (93 TO 100) : 8 Nos.\nNOTE :\n1. SPLAY - 1.5M X 1.5M\n2. MEASUREMENTS ARE INDICATED EXCLUDING SPLAY DIMENSIONS\n3. ROAD AREA WERE HANDED OVER TO THE LOCAL BODY VIDE GIFT DEED DOCUMENT NO.7200/2024, DATED:19.08.2024\nPUBLIC PURP O S E A R E A - 1 @ SRO PADAPPAI.\nPUBLIC PURPOSE AREA - 2\nCONDITIONS :\n(II)TNCDBR-2019, RULE NO: 47 (11)\nTHE COST OF LAYING IMPROVEMENTS TO THE SYSTEMS IN RESPECT OF ROAD, WATER SUPPLY, SEWERAGE, DRAINAGE OR ELECTRIC POWER SUPPLY\nTHAT MAY BE REQUIRED AS ASSESSED BY THE CONCERNED AUTHORITY, NAMELY, THE LOCAL BODY AND TAMIL NADU ELECTRICITY BOARD, SHALL BE\nBORNE BY THE APPLICANT.\n(III)THE APPLICANT IS RESPONSIBLE FOR THE SHAPE,SIZE & DIMENSIONS OF THE SITE UNDER REFERENCE.\nNECESSARY SPACE FOR BUILDING LINE TO BE LEFT AS PER THE RULE IN FORCE WHILE TAKING UP DEVELOPMENT\nPLOT NO. 1 TO 92 ALREADY ASSIGNED IN THE APPROVED LAYOUT VIDE P.P.D/L.O.NO.30/2019.\nLEGEND:\nSITE BOUNDARY\nROADS GIFTED TO LOCAL BODY\nEXISTING ROAD\nPUBLIC PURPOSE-1 GIFTED TO LOCAL BODY\nPUBLIC PURPOSE-2 GIFTED TO LOCAL BODY (FOR TANGEDCO) CONDITION:\nTHE SUB DIVISION APPROVED IS VALID\nSUBJECT TO OBTAINING SANCTION FROM\nTHE LOCAL BODY CONCERNED.\nP.P.D 198\nNO :\nL.O 2024\nAPPROVED\nThis Planning Permission Issued under New Rule\nTNCDBR.2019 is subject to final outcome of the VIDE LETTER NO : LAYOUT-1 / 0048 / 2024\nW.P(MD) No.8948 of 2019 and WMP (MD)\nNos. 6912 & 6913 of 2019. DATE : 12 / 09 / 2024\nUNION OFFICE COPY\nPUBLIC PURPOSE\nFOR CHIEF PLANNER (LAYOUT)\nCHENNAI METROPOLITAN\nDEVELOPMENT AUTHORITY\n.P.D/L.O.No.30/2019 IN\nILLAGE .",
         "True",
         null,
         null,
         null,
         "12 / 09 / 2024",
         null
        ],
        [
         "198",
         "199",
         "199/2024",
         "St.Thomas Mount PU",
         "Thiruvancheri",
         "https://www.cmdachennai.gov.in/pdfs/layouts/2024/199-2024.pdf",
         "199/2024",
         "2024/199.pdf",
         "FILE NO: LAYOUT-1/0116/2024\n: 5423 SQ.M\n: 1454 SQ.M\n: 44 SQ.M\nA : 22.0 SQ.M)\n: 22.0 SQ.M)\n: 38 Nos\nDIMENSIONS\nD OVER TO THE LOCAL BODY VIDE GIFT DEED\n2024, DATED:02.09.2024 @ SRO PALLAVARAM.\nHE CE,WRD,CHENNAI REGION, CHEPAUK , CHENNAI -5. LETTER NO.DB / T5(3) / NOC4582 THIRUVANCHERI VILLAGE 3737 / 2024 / DATED. 11.06.2024, ARE TO BE COMPLIED BY THE APPLICANT BEFORE ISSUING OF THE LAYOUT APPROVAL BY THE\nlling with proper compaction to the minimum level of (+) 11.00m (i.e.) 0.210m below the Thiruvencheri Thangal Eri weir Crest level of Weir to protect the site from inundation during floods. The process of earth filling and compaction should be\nto achieve required degree of compaction for the depth from (+)1.390m to (+)1.440m depending upon the existing field levels. Also, the applicants should provide emergency pumping operation for the seepage water, if it is proposed to have\nents during flood periods. The all round pavement level within the site should not be less than (+) 11.000m and the regular habitation should not be below MFL (+)10.440m.\ny of their land before commencement of any developmental activities in the presence of Revenue, Local body and WRD authorities concerned without fail and should not encroach the Government land and the same should be maintained as it is in\nbe maintained without encroachments as per Revenue records and the applicants should make necessary periodical arrangements for free flow of water through the existing Government Land to the downside area along the proposed site.\nnot be altered / modified / changed to any others. Based on the records submitted by the applicants, the permission is granted. If any documents seem to be fake / manipulated/fabricated, in future the above permission will be cancelled without any\nsponsible of genuinety of the documents submitted.\nhe site at any time, during execution and thereafter, if necessary. Advance intimation should be given to the WRD officers concerned before commencement of work.\nlation of the WRD from time to time. The applicants should also abide court of law of both State & Central Government from time to time.\nhe inundation aspect and does not deliver any rights to the applicants to encroach the WRD/Government Lands / river. The NOC for this site from the WRD is purely issued on the basis of inundation point of view.\nthe maintenance work / improvements work of the channel which is proposed to be carried out by WRD. The applicant should give an undertaking in writing to the effect that the above proposal will not obstruct in case any maintenance /\ne records (FMB), which are proposed to be carried out by WRD / Local body in future periodically.\nvillage stretch on Westem side the applicant boundary should be marked as per FMB and monitored and maintained by the applicant at his own cost. The width of the channel should be maintained without encroachments as per Revenue records and\nld be maintained. The applicant should make necessary periodical arrangements for free flow of water through the existing channel to the downside area within the proposed layout site. Also, the applicant should de-silt the channel periodically and\nhindrance for free flow of water at his own cost within the proposed land, after the completion of project also\nsonry across the water body area without obtaining prior permission from WRD. If any damaged to the water body should be restored by the applicant at their own cost.\nng the applicant land should be completely de-silted and re-sectioned by constructing retaining wall on either side of the channel with concrete bed as per the FMB upto their stretch at the applicant's own cost. The bed level of the above channel\ncing the development activity in the presence of the concerned WRD Executive Engineer. Moreover, the width of entire channel as per Revenue records (FMB) along & within the stretch of applicant's land should be maintained properly without\nsal by considering the suitable internal storm water drainage network drain as micro drain ie. peripheral drain of size not less than 0.90 x 0.60m and lateral drain of suitable size as per prevailing site conditions within the site. The same should be\narvesting, roads with road side drain and sewerage treatment and its disposal and garbages/debris and other solid waste management as per norms in existence within the applicants land according to existing rules in force and should get proper\nd or Untreated) should not be let into drain / channel / course at any cost and the debris and other materials should not be dumped into the drain / surplus course obstructing free flow of water. The applicants should make drainage network, at their\nstorm water drainage / channel. There should not be any hindrance to the free flow of internal drain to downstream.\ndistance within the site as per site condition as per the norms in existence and as per the rules in force of GMDA (as per the Country Planning, Chennai-2 vide Roc. No. 4367/2019BA2 / Dated: 13.03.2019) during development and there should not\nfuture also. The CMDA should issue completion certificate only after obtaining completion certificate NOC from WRD.\nor this site from the Revenue department to make sure that the site is not an encroached property from the water body as well as confirming this proposed site boundaries.\nould not let into the drain and for the disposal of the sewage water, suitable arrangements should be made for the same by the applicants, and as well as the construction materials / debris / garbages should not be dumped into the River /\nt into River / Eri/ Channel / Pond, and the garbages, debris and construction materials should not be dumped into the River / Eri/ Channel/Pond restricting the free flow of water.\npplicants in respect to the ownership is purely of applicants' responsibility and it is only for reference purpose to this department. The legal validity of this document should be verified by the Development / Revenue authorities. The specific remarks\ns in respect to the physical location of land.\nons, WRD reserves rights to withdraw the Technical opinion on inundation point of view to the above proposed site and in event, the applicants shall not be eligible for any compensation whatsoever and as well as legal entity.\nSTEMS IN RESPECT OF ROAD, WATER SUPPLY, SEWERAGE, DRAINAGE OR ELECTRIC POWER SUPPLY THAT MAY BE REQUIRED AS ASSESSED BY THE CONCERNED AUTHORITY, NAMELY, THE LOCAL BODY AND TAMIL NADU ELECTRICITY BOARD,\nOF ALL THE CONDITIONS STIPULATED BY PWD IN THEIR LETTER NO.DB/T5(3) / NOC4582 THIRUVANCHERI VILLAGE 3737 / 2024 / DATED:11.06.2024, AND SHALL OBTAIN A LETTER FROM PWD CONFIRMING THE COMPLIANCE OF THE CONDITIONS\nOUT.\nPE,SIZE & DIMENSIONS OF THE SITE UNDER REFERENCE.\nAS PER THE RULE IN FORCE WHILE TAKING UP DEVELOPMENT IN EVERY PLOT.\nCONDITION:\nTHE LAYOUT APPROVED IS VALID SUBJECT\nTO OBTAINING SANCTION FROM THE LOCAL\nFOR TANGEDCO)\nBODY CONCERNED.\nP.P.D 199\nNO :\nL.O 2024\nAPPROVED\nThis Planning Permission Issued under New Rule\nTNCDBR.2019 is subject to final outcome of the\nW.P(MD) No.8948 of 2019 and WMP (MD) VIDE LETTER NO : LAYOUT-1 / 0116 / 2024\nNos. 6912 & 6913 of 2019.\nDATE : 13 / 09 / 2024\nOFFICE COPY\nFOR CHIEF PLANNER (LAYOUT)\nCHENNAI METROPOLITAN\nDEVELOPMENT AUTHORITY\nNCHERI VILLAGE.",
         "True",
         null,
         null,
         null,
         "13 / 09 / 2024",
         "LAYOUT-1/0116/2024"
        ],
        [
         "208",
         "209",
         "209/2024",
         "Kundrathur PU",
         "Naduveerapattu",
         "https://www.cmdachennai.gov.in/pdfs/layouts/2024/209-2024.pdf",
         "209/2024",
         "2024/209.pdf",
         ": 2700 SQ.M\nFILE NO.LAYOUT-1 / 0148/ 2024\n: 1018 SQ.M\n: 22 SQ.M\n: 11.00 SQ.M\n: 11.00 SQ.M\n: 17 Nos.\n: 3 Nos.\n: 20 Nos.\nSPLAY DIMENSION.\nD OVER TO THE LOCAL BODY VIDE GIFT DEED\nO.7961/2024, DATED: 11.09.2024, @ SRO PADAPPAI\nD VIDE CE, WRD, CHENNAI REGION, CHEPAUK, CHENNAI-5, LETTER NO.DB/T5(3)/3324/F-NOC (NADUVEERAPATTU VILLAGE) 1667/2024/ DATED:09.05.2024 ARE TO BE COMPLIED BY THE APPLICANT BEFORE\nfilling with proper compaction to the minimum level of (+)19.840m say 19.850m (i.e.,) 3.71m above the Crest level of the Somangalam regulator across the Somangalam Tributary (+)16.140m. To protect the site from inundation during\nion should be done in layers of not more than 0.30metre depth to achieve required degree of compaction for the depth from (+)1.980m to (+)2.060m depending upon the existing field levels. Also, the applicants should provide\nater, if it is proposed to have basement floor and as well as dewatering arrangements during flood periods. The all round pavement level within the site should not be less than (+)1.9850m and the regular habitation should not be below\ndary of their land before commencement of any developmental activities in the presence of Revenue, Local body and WRD authorities concerned without fail and should not encroach the Government land and the same should be\nuld not be altered / modified / changed to any others. Based on the records submitted by the applicants, the permission is granted. If any documents seem to be fake / manipulated / fabricated, in future the above permission will be\ne applicants are solely responsible of genuinely of the documents submitted.\nt the site at any time, during execution and thereafter, if necessary. Advance intimation should be given to the WRD officers concerned before commencement of work.\negulation of the WRD from time to time. The applicants should also abide court of law of both State & Central Government from time to time.\nhe inundation aspect and does not Liver any rights to the applicants to encroach the WRD / Odai in SF.Nos.123. The NOC for this site from the WRD is purely issued on the basis of inundation point of view.\nross masonry structures across the River / Eri / Channel / Pond without prior permission from WRD If any damages occurred to the Channel / Odai or any water bodies that belong to government, the same should be restored and\ny the. applicant.\nor the maintenance work / improvements work of the odai to be carried out by WRD. The applicant should not dump the garbages / debris in the odai and avoid the sewage Water into the channel, etc,. The applicant should give an\nproposal will not obstruct in case any maintenance / improvement / development works as per Revenue records [FMB] are to be carried out by WRD in future periodically.\nosal by considering the suitable internal storm water drainage network drain as micro drains i.e peripheral drain of suitable size not less than 1.20m x 0.90m & lateral of suitable sizes within the site as per the site condition. The same\nrainwater harvesting, roads with road side drain and sewerage treatment plant and its disposal and garbages / debris and other solid waste management as per norms in existence within the applicant's land according to existing rules\npetent authority without fail.\nted or Untreated) should not be let into drain / channel / course at any cost and the debris and other materials should not be dumped into the drain / surplus course obstructing free flow of water. The applicants should make drainage\nonnected to natural storm water drainage / channel. There should not be any hindrance to the free flow of internal drain to downstream.\n3.00m especially on Southern Side should be provided within the site asper site condition as per the norms in existence and as per the rules in force of CMDA (as per the circular issued by the office of the Commissioner of Town &\n/ 2019-BA2 / Dated: 13.03.2019) during development and there should not be any construction activities in future also, the CMDA should issue completion certificate only after obtaining compliance certificate NOC from WRD.\nfor this site from the Revenue department to make sure that the site is not an encroached property from the water body as well as confirming this proposed site boundaries.\nld not let into the drain and for the disposal of the sewage water, suitable arrangements should be made for the same by the applicants, and as well as the construction materials/debris/garbages should not be dumped into the\no channel/river, and the garbages, debris and construction materials should not be dumped into the channel/river restricting the free flow of water.\napplicants in respect to the ownership is purely of applicant's responsibility and it is only for reference purpose to this department. The legal validity of this document should be verified by the Development / Revenue authorities. The\non technical grounds in respect to the physical location of land.\nions, WRD reserves rights to withdraw the Technical opinion on inundation point of view to the above proposed site and in event, the applicants shall not be eligible for any compensation whatsoever and as well as legal entity.\n8,MAWS DEPARTMENT DATED:04.02.2019 & AMENDMENTS APPROVED IN G.O.Ms.No.16, MAWS (MA1 DEPARTMENT DATED 31.1.2020 AND PUBLISHED IN TNGG ISSUE No.41 DATED:31.01.2020.\nL SELL THE EWS PLOTS ONLY FOR EWS PURPOSE. AMALGAMATION SHALL BE PERMISSIBLE IN THOSE CASES OF ECONOMICALLY WEAKER SECTION PLOTS, AFTER A PERIOD OF THREE YEARS. IN SUCH CASES OF AMALGAMATION, THE\nAKER SECTION AREAS SHALL NOT APPLY.\nSTEMS IN RESPECT OF ROAD, WATER SUPPLY, SEWERAGE, DRAINAGE OR ELECTRIC POWER SUPPLY THAT MAY BE REQUIRED AS ASSESSED BY THE CONCERNED AUTHORITY, NAMELY, THE LOCAL BODY AND TAMIL NADU ELECTRICITY\nOF ALL THE CONDITIONS STIPULATED BY PWD IN THEIR LETTER NO.DB/T5(3)/3324/F-NOC (NADUVEERAPATTU VILLAGE) 1667/2024/ DATED:09.05.2024 AND SHALL OBTAIN A LETTER FROM PWD CONFIRMING THE COMPLIANCE OF THE\nE OF THE LAYOUT.\nPE,SIZE & DIMENSIONS OF THE SITE UNDER REFERENCE.\nEFT AS PER THE RULE IN FORCE WHILE TAKING UP DEVELOPMENT IN EVERY PLOT\nCONDITIONS:\nY\nY (FOR TANGEDCO)\nTHE LAYOUT APPROVED IS VALID SUBJECT TO\nOBTAINING SANCTION FROM THE LOCAL BODY\nCONCERNED.\nP.P.D 209\nNO :\nThis Planning Permission Issued under New Rule\nL.O 2024\nTNCDBR.2019 is subject to final outcome of the\nW.P(MD) No.8948 of 2019 and WMP (MD)\nAPPROVED\nNos. 6912 & 6913 of 2019.\nVIDE LETTER NO : LAYOUT-1 / 0148 / 2024\nDATE : 23 / 09 / 2024\nOFFICE COPY\nFOR CHIEF PLANNER (LAYOUT)\nCHENNAI METROPOLITAN\nDEVELOPMENT AUTHORITY\nNADUVEERAPATTU VILLAGE.",
         "True",
         null,
         null,
         null,
         "23 / 09 / 2024",
         null
        ],
        [
         "210",
         "211",
         "211/2024",
         "Avadi Corporation",
         "Paruthipattu",
         "https://www.cmdachennai.gov.in/pdfs/layouts/2024/211-2024.pdf",
         "211/2024",
         "2024/211.pdf",
         "DOCUMENT ) : 3642 SQ.M\nFILE NO : LAYOUT-1/0127/2024\n: 894 SQ.M\n: 39 SQ.M\n5% AREA : 14 SQ.M\nAREA : 25 SQ.M\n: 28 Nos.\nSPLAY DIMENSIONS\nHANDED OVER TO THE LOCAL BODY VIDE GIFT DEED\nMENT NO.13676 / 2024, DATED: 19.09.2024, @ SRO AVADI\nCE, WRD, CHENNAI REGION, CHEPAUK, CHENNAI-5, LETTER NO.DB/T5(3)NOC 5011PARUTHIPATTU VILLAGE 6325/2024/DATED:01.08.2024 ARE TO BE COMPLIED BY THE APPLICANT BEFORE SANCTION OF THE LAYOUT.\nwith proper compaction to the minimum level of (+)19.820m (i.e.)1.750m above the datum of Ayapakkam Tank at Full Tank Level F.T.L. is (+) 18.070m. to protect the site from inundation during floods. The process of earth filling and compaction should\nachieve required degree of compaction for the depth from (+)0.860m to (+)1.350m depending upon the existing field levels. Also, the applicants should provide emergency pumping operation for the seepage water, if it is proposed to have basement\nod periods. The all round pavement level within the site should not be less than (+)19.820m and the regular habitation should not be below MFL.\nf their land before commencement of any developmental activities in the presence of Revenue, Local body and WRD authorities concerned without fail and should not encroach the Government land and the same should be maintained as it is in the\nt be altered / modified / changed to any others. Based on the records submitted by the applicants, the permission is granted. If any documents seem to be fake / manipulated / fabricated, in future the above permission will be cancelled without any\nonsible of genuinety of the documents submitted.\nte at any time, during execution and thereafter, if necessary. Advance intimation should be given to the WRD officers concerned before commencement of work.\non of the WRD from time to time. The applicants should also abide court of law of both State & Central Government from time to time.\nndation aspect and does not deliver any rights to the applicants to encroach the WRD / Government Lands / river. The NOC for this site from the WRD is purely issued on the basis of inundation point of view.\naintenance work / improvements work of the channel which is proposed to be carried out by WRD. The applicant should give an undertaking in writing to the effect that the above proposal will not obstruct in case any maintenance / improvements /\nich are proposed to be carried out by WRD / Local body in future periodically.\ny considering the suitable internal storm water drainage Network drain as Micro drain of suitable size within the site as per prevailing site conditions. The same should be connected to the local drain / channel, rainwater harvesting, roads with road side\nbages / debris and other solid waste management as per norms in existence within the applicants' land according to existing rules in force and should get proper approval from competent authority without fail. The sewage or any unhygienic drainage\nnnel / course at any cost and the debris and other materials should not be dumped into the drain / surplus course obstructing free flow of water. The applicants should make drainage network, at their own cost and the same is to be connected to natural\ny hindrance to the free flow of internal drain to downstream.\nstance within the site as per site condition as per the norms in existence and as per the rules in force of CMDA (as per the circular here by the office of the Commissioner of Town & Country Planning, Chennai-2 vide Roc. No.4367 / 2019 / BA2 / Dated:\ne any construction activities in the setback areas in future also. The CMDA should issue completion certificate only after obtaining completion certificate NOC from WRD.\nis site from the Revenue department to make sure that the site is not an encroached property from the water body as well as confirming this proposed site boundaries.\nnot let into the drain and for the disposal of the sewage water, suitable arrangements should be made for the same by the applicants, and as well as the construction materials / debris / garbages should not be dumped into the River / Eri / Channel /\ner / Eri / Channel / Pond, and the garbages, debris and construction materials should not be dumped into the River / Eri / Channel / Pond restricting the free flow of water.\nnts in respect to the ownership is purely of applicants' responsibility and it is only for reference purpose to this department. The legal validity of this document should be verified by the Development / Revenue authorities. The specific remarks on\nspect to the physical location of land. Failing to comply with any of the above conditions, WRD reserves rights to withdraw the Technical opinion on inundation point of view to the above proposed site and in event, the applicants shall not be eligible for\nity.\nO THE SYSTEMS IN RESPECT OF ROAD, WATER SUPPLY, SEWERAGE, DRAINAGE OR ELECTRIC POWER SUPPLY THAT MAY BE REQUIRED AS ASSESSED BY THE CONCERNED AUTHORITY,\nADU ELECTRICITY BOARD, SHALL BE BORNE BY THE APPLICANT.\nLIANCE OF ALL THE CONDITIONS STIPULATED BY PWD IN THEIR LETTER NO. DB/T5(3)NOC 5011 PARTHIPATTU VILLAGE 6325/2024/DATED:01.08.2024AND SHALL OBTAIN A LETTER FROM PWD\nONDITIONS BEFORE THE SANCTION AND RELEASE OF THE LAYOUT.\nTHE SHAPE,SIZE & DIMENSIONS OF THE SITE UNDER REFERENCE.\nTO BE LEFT AS PER THE RULE IN FORCE WHILE TAKING UP DEVELOPMENT IN EVERY PLOT\nCONDITIONS:\nTHE LAYOUT APPROVED IS VALID SUBJECT\nTO OBTAINING SANCTION FROM THE LOCAL\nCALBODY BODY CONCERNED.\nCALBODY (FOR TANGEDCO)\nP.P.D 2 1 1\nNO :\nThis Planning Permission Issued under New Rule L.O 2024\nTNCDBR.2019 is subject to final outcome of the\nW.P(MD) No.8948 of 2019 and WMP (MD)\nAPPROVED\nNos. 6912 & 6913 of 2019.\nVIDE LETTER NO : LAYOUT-1 / 0127 / 2024\nDATE : 30 / 09 / 2024\nOFFICE COPY\nFOR CHIEF PLANNER (LAYOUT)\nCHENNAI METROPOLITAN\nDEVELOPMENT AUTHORITY\n, BLOCK NO.85 OF PARUTHIPATTU VILLAGE",
         "True",
         null,
         null,
         null,
         "30 / 09 / 2024",
         "LAYOUT-1/0127/2024"
        ],
        [
         "211",
         "212",
         "212/2024",
         "Poonamallee PU",
         "Vayalanallur-A",
         "https://www.cmdachennai.gov.in/pdfs/layouts/2024/212-2024.pdf",
         "212/2024",
         "2024/212.pdf",
         "FILE NO: LAYOUT-1 / 0050 / 2024\nTE EXTENT : 3035 SQ.M\n(AS PER DOCUMENT)\nAD AREA : 1124 SQ.M\nBLIC PURPOSE AREA (1%) : 21 SQ.M\n1 HANDED OVER TO THE LOCAL BODY 0.5% AREA : 10.0 SQ.M\n2 HANDED OVER TO THE TANGEDCO 0.5% AREA : 11.0 SQ.M\n.OF PLOTS : 19 Nos.\nTE :\nSPLAY - 1.5M X 1.5M\nMEASUREMENTS ARE INDICATED EXCLUDING SPLAY DIMENSIONS\nROAD AREA WERE HANDED OVER TO THE LOCAL BODY VIDE GIFT DEED DOCUMENT NO.5467/2024, DATED:23.8.2024, @ SRO POONAMALLEE.\nPUBLIC PURPOSE AREA - 1\nPUBLIC PURPOSE AREA - 2\nNDITIONS :\nTHE APPLICANT SHOULD FOLLOW THE CONDITIONS MENTIONED BY THE CE, WRD., CHENNAI REGION (FAC), CHEPAUK, CHENNAI - 600005. LETTER NO.DB/T5(3) / F-3143 VAYALANALLUR VILLAGE4209 / 2024 / DATED: 31.05.2024 ARE TO BE COMPLIED BY THE\nAPPLICANT BEFORE ISSUING OF THE LAYOUT APPROVAL BY THE COMPETENT AUTHORITY (LOCAL BODY)\nThe existing ground level of the site should be raised to minimum level of (+) 32.250 m (ie.,0.345 m above TBM of Culvert Parapet Wall Top level which is (+) 31.905 m) with filling varies from 1.180 m to 1.250 m with layers of not more than 0.30 metre depth to achieve required degree\ncompaction to the entire area of the applicant land to avoid inundation during the heavy rains. The all-round pavement level within site should not be less than (+) 32.250 m. The regular habitation should not be below MFL. Also, the applicant should provide emergency pumping operation for\nseepage water, if it is proposed to have basement floor and as well as dewatering arrangements during flood periods.\nThe applicant should clearly demarcate the boundary of their land especially on Northern side before commencement of any developmental activities in the presence of Revenue authorities and WRD authorities. The applicant should also maintain the measurement of the Revenue records without any\ncroachments and should be maintained as per Revenue records (FMB).\nThe permission granted to the applicants, should not be altered / modified changed to any others. Based on the records submitted by the applicants, the permission is granted. If any documents seem to be fake / manipulated / fabricated, in future the above permission will be cancelled without any\nrespondence. Hence, the applicants are solely responsible of genuinety of the documents submitted.\nThe WRD officers should be allowed to inspect the site at any time, during execution and thereafter, if necessary. Advance intimation should be given to the WRD officers concerned before commencement of work.\nThe applicants should abide by the rules and regulation of the WRD from time to time. The applicants should also abide court of law of both State & Central Government from time to time.\nWRD is giving opinion only in connection with the inundation aspect and does not deliver any rights to the applicants to encroach the WRD / Government Lands/ river. The NOC for this site from the WRD is purely issued on the basis of inundation point of view.\nchnical Suggestion:\n. The applicant should prepare the layout proposal by considering the suitable internal storm water drainage network drain as micro drains of suitable size within the site as per site condition. The same should be connected to the local drain /channel, rainwater harvesting, roads with road\ne drain and sewerage treatment and its disposal and garbages / debris and other solid waste management as per norms in existence within the applicant's land according to existing rules in force and should get proper approval from competent authority without fail.\nThe sewage or any unhygienic drainage (Treated or Untreated) should not be let into drain / channel / course at any cost and the debris and other materials should not be dumped into the drain / surplus course obstructing free flow of water. The applicants should make drainage network,\ntheir own cost and the same is to be connected to natural storm water drainage / channel. There should not be any hindrance to the free flow of internal drain to downstream.\n. The necessary setback distance as per site condition as per the norms in existence and as per the rules in force of CMDA (as per the circular issued by the office of the Commissioner of Town & Country Planning, Chennai- 2 vide Roc.No.4367 / 2019-BA2/ Dated: 13.03.2019) during\nvelopment and there should not be any construction activities in future also, the CMDA should issue completion certificate only after obtaining compliance certificate NOC from WRD\n. The applicants should get clearance certificate for this site from the Revenue department to make sure that the site is not an encroached property from the water body as well as confirming this proposed site boundaries.\n. The sewage water from the applicants' land should not let into the drain and for the disposal of the sewage water, suitable arrangements should be made for the same by the applicants, and as well as the construction materials / debris / garbages should not be dumped into the River /\n/ Channel / Pond at any cost.\nAt any cost, sewage / sullage should not be let into River / Eri / Channel / Pond, and the garbages, debris and construction materials should not be dumped into the River / Eri / Channel / Pond restricting the free flow of water.\nThe owner of the document received from the applicants in respect to the ownership is purely of applicants' responsibility and it is only for reference purpose to this department. The legal validity of this document should be verified by the Development / Revenue authorities. The specific\narks on inundation are purely issued on technical grounds in respect to the physical location of land.\nFailing to comply with any of the above conditions, WRD reserves rights to withdraw the Technical opinion on inundation point of view to the above proposed site and in event, the applicants shall not be eligible for any compensation whatsoever and as well as legal entity.\nLOCAL BODY SHOULD ENSURE COMPLIANCE OF ALL THE CONDITIONS STIPULATED BY WRD, PWD IN THEIR LETTER NO.DB/T5(3) / F-3143 VAYALANALLUR VILLAGE4209 / 2024 / DATED: 31.05.2024, AND SHALL OBTAIN A LETTER FROM WRD CONFIRMING THE\nMPLIANCE OF THE CONDITIONS BEFORE THE SANCTION AND RELEASE OF THE LAYOUT.\n) TNCDBR-2019, RULE NO:47 (11)\nE COST OF LAYING IMPROVEMENTS TO THE SYSTEMS IN RESPECT OF ROAD, WATER SUPPLY, SEWERAGE, DRAINAGE OR ELECTRIC POWER SUPPLY THAT MAY BE REQUIRED AS ASSESSED BY THE CONCERNED AUTHORITY, NAMELY, THE LOCAL BODY AND\nMIL NADU ELECTRICITY BOARD, SHALL BE BORNE BY THE APPLICANT.\nTHE APPLICANT IS RESPONSIBLE FOR THE SHAPE, SIZE & DIMENSIONS OF THE SITE UNDER REFERENCE.\nNECESSARY SPACE FOR BUILDING LINE TO BE LEFT AS PER THE RULE IN FORCE WHILE TAKING UP DEVELOPMENT IN EVERY PLOT.\nGEND:\nSITE BOUNDARY\nROADS GIFTED TO LOCAL BODY\nEXISTING ROAD\nCONDITION:\nPUBLIC PURPOSE-1 TO LOCAL BODY\nPUBLIC PURPOSE-2 TO LOCAL BODY ( FOR TANGEDCO)\nTHE LAYOUT APPROVED IS VALID SUBJECT\nTO OBTAINING SANCTION FROM THE LOCAL\nBODY CONCERNED.\nP.P.D 212\nNO :\nL.O 2024\nThis Planning Permission Issued under New Rule\nTNCDBR.2019 is subject to final outcome of the APPROVED\nW.P(MD) No.8948 of 2019 and WMP (MD)\nNos. 6912 & 6913 of 2019.\nVIDE LETTER NO : LAYOUT-1 / 0050 / 2024\nDATE : 30 / 09 / 2024\nOFFICE COPY\nFOR CHIEF PLANNER (LAYOUT)\nCHENNAI METROPOLITAN\nDEVELOPMENT AUTHORITY",
         "True",
         null,
         null,
         null,
         "30 / 09 / 2024",
         "LAYOUT-1"
        ],
        [
         "212",
         "213",
         "213/2024",
         "Kundrathur PU",
         "Varadharajapuram",
         "https://www.cmdachennai.gov.in/pdfs/layouts/2024/213-2024.pdf",
         "213/2024",
         "2024/213.pdf",
         "FILE NO: LAYOUT-1/0347/2023\n: 5666 SQ.M\n(AS PER DOCUMENT)\n: 2028 SQ.M\nSE AREA (1%) : 38 SQ.M\nTO THE LOCAL BODY 0.5% AREA : 19.0 SQ.M )\nTO THE TANGEDCO 0.5% AREA : 19.0 SQ.M )\n: 38 Nos\nE INDICATED EXCLUDING SPLAY DIMENSION\nWERE HANDED OVER TO THE LOCAL BODY VIDE GIFT DEED DOCUMENT NO. 8196/2024 , DATED:16.9.2024, @ SRO PADAPPAI .\nPOSE AREA-1\nPOSE AREA-2\nTANGEDCO)\nCONDITIONS OF PWD VIDE THE CE,WRD,CHENNAI REGION, CHEPAUK , CHENNAI -5. LETTER NO.DB / T5(3) / F- 0904 VARADHARAJAPURAM VILLAGE 5215 / 2024 / DATED. 28.06.2024, ARE TO BE COMPLIED BY THE APPLICANT BEFORE\nOUT APPROVAL BY THE COMPETENT AUTHORITY (LOCAL BODY)\nl of the site should be raised to minimum level of (+)20.000 m (i.e.1.40m above and recorded from the top level of the deck slab (+)18.600 m with filling varies from 1.69 m to 1.73 m with layers of not more than 0.30 metre depth to achieve required degree of compaction to the entire area\noid inundation during the heavy rains. The all-round pavement level within site should not be less than (+) 20.000 m. The regular habitation should not be below MFL. Also, the applicant should provide emergency pumping operation for the seepage water, if it is proposed to have basement\nering arrangements during flood periods.\nlearly demarcate the boundary of their land especially on Western side before commencement of any developmental activities in the presence of Revenue authorities and WRD authorities. The applicant should also maintain the measurement of the Revenue records without any\nbe maintained as per Revenue records (FMB)\nto the applicants, should not be altered / modified / changed to any others. Based on the records submitted by the applicants, the permission is granted. If any documents seem to be fake / manipulated / fabricated, in future the above permission will be cancelled without any correspondence.\nsolely responsible of genuinety of the documents submitted.\nld be allowed to inspect the site at any time, during execution and thereafter, if necessary. Advance intimation should be given to the WRD officers concerned before commencement of work.\nide by the rules and regulation of the WRD from time to time. The applicants should also abide court of law of both State & Central Government from time to time. /\nt object at any time for the maintenance works / improvement works of the channels which are proposed to be carried out by WRD. The applicant should give an undertaking in writing to the effect that the above proposal will not obstruct in case any maintenance / improvement /\nRevenue records [FMB], which are proposed to be carried out by WRD n future periodically.\nt construct any cross masonry across the Channel out prior permission of WRD. If any damages occurred to the Government Channel, the same should be restored to its Original condition at their own cost\nel in S.F.No.39/2A1 abutting on Western side boundaries along the stretch of applicants land should be completely desilted and resectioned by constructing retaining wall on either side of the channel as per the B at the applicants own cost. The bed level of the above channel should be\nefore commencing the development activity in presence the Executive Engineer. Moreover the width of entire field channel as per Revenue Cords (FMB) within the stretch of applicants land should be maintained properly without any change in measurement as per Revenue records at any\nel in S.F.No.39/2A1 abutting on Western side and should be marked as per FMB and monitored and maintained by the applicant at his own cost. The width of the channel should be maintained without encroachment as per Revenue records and the hydraulic parameters of the field channel\napplicant should make necessary periodical arrangements for free ow of water through the existing channel to the downside area within the proposed layout site. Also the applicant should de-silt the channel periodically and remove the obstruction then and there without any hindrance for\nwn cost boundary along the proposed land.\nonly in connection with the inundation aspect and does not deliver any rights to the applicants to encroach the WRD/ Government Lands / river. The NOC for this site from the WRD is purely issued on the basis of inundation point of view.\nare the layout proposal by considering the suitable internal storm water drainage network drain as micro drains is peripheral drain of size not less than 1.20 m x 0.90 m and lateral drain of suitable size within the site as per site condition. The same should be connected to the local drain /\ning, roads with road side drain and sewerage treatment and its disposal and garbages / debris and other solid waste management as per norms in existence within the applicant's land according to existing rules in force and should get proper approval from competent authority without fail.\nenic drainage (Treated or Untreated) should not be let into drain / channel / course at any cost and the debris and other materials should not be dumped into the drain / surplus course obstructing free flow of water. The applicants should make drainage network, at their own cost and the same\nral storm water drainage / channel. There should not be any hindrance to the free flow of internal drain to downstream.\ndistance not less than 3.0 m on Western side as per site condition as per the norms in existence and as per the rules in force of CMDA (as per the circular issued by the office of the Commissioner of Town & Country Planning, Chennai-2 vide Roc. No. 4367/2019-BA2/Dated: 13.03.2019)\nere should not be any construction activities in future also, the CMDA should issue completion certificate only after obtaining compliance certificate NOC from WRD.\nget clearance certificate for this site from the Revenue department to make sure that the site is not an encroached property from the water body as well as confirming this proposed site boundaries.\nthe applicants' land should not let into the drain and for the disposal of the sewage water, suitable arrangements should be made for the same by the applicants, and as well as the construction materials / debris / garbages should not be dumped into the River / Eri/Channel/Pond at any cost.\nge should not be let into River / Eri / Channel / Pond, and the garbages, debris and construction materials should not be dumped into the River/Eri/Channel/Pond restricting the free flow of water.\nnt received from the applicants in respect to the ownership is purely of applicants' responsibility and it is only for reference purpose to this department. The legal validity of this document should be verified by the Development / Revenue authorities. The specific remarks on inundation, are\ngrounds in respect to the physical location of land.\nof the above conditions, WRD reserves rights to withdraw the Technical opinion on inundation point of view to the above proposed site and in event, the applicants shall not be eligible for any compensation whatsoever and as well as legal entity.\n: 47 (11)\nROVEMENTS TO THE SYSTEMS IN RESPECT OF ROAD, WATER SUPPLY, SEWERAGE, DRAINAGE OR ELECTRIC POWER SUPPLY THAT MAY BE REQUIRED AS ASSESSED BY THE CONCERNED AUTHORITY, NAMELY, THE LOCAL BODY AND TAMIL NADU ELECTRICITY BOARD, SHALL BE BORNE\nENSURE COMPLIANCE OF ALL THE CONDITIONS STIPULATED BY PWD IN THEIR LETTER NO.DB/T5(3) / F- 0904 VARADHARAJAPURAM VILLAGE 5215 / 2024 / DATED: 28.06.2024, AND SHALL OBTAIN A LETTER FROM PWD CONFIRMING THE COMPLIANCE OF THE CONDITIONS BEFORE THE\nF THE LAYOUT.\nONSIBLE FOR THE SHAPE,SIZE & DIMENSIONS OF THE SITE UNDER REFERENCE.\nUILDING LINE TO BE LEFT AS PER THE RULE IN FORCE WHILE TAKING UP DEVELOPMENT IN EVERY PLOT\nCONDITION:\nTHE LAYOUT APPROVED IS VALID SUBJECT TO\nRY\nOBTAINING SANCTION FROM THE LOCAL BODY\nTO LOCAL BODY\nCONCERNED.\nD\nSE-1 GIFTED TO LOCAL BODY\nP.P.D 213\nSE-2 GIFTED TO LOCAL BODY (FOR TANGEDCO) NO :\nL.O 2024\nAPPROVED\nVIDE LETTER NO : LAYOUT-1 / 0347 / 2023\nThis Planning Permission Issued under New Rule\nTNCDBR.2019 is subject to final outcome of the\nDATE : 30 / 09 / 2024\nW.P(MD) No.8948 of 2019 and WMP (MD)\nNos. 6912 & 6913 of 2019.\nOFFICE COPY\nFOR CHIEF PLANNER (LAYOUT)\nCHENNAI METROPOLITAN\nDEVELOPMENT AUTHORITY\nJAPURAM VILLAGE.",
         "True",
         null,
         null,
         null,
         "30 / 09 / 2024",
         "LAYOUT-1/0347/2023"
        ],
        [
         "215",
         "216",
         "216/2024",
         "Kundrathur PU",
         "Gerugambakkam",
         "https://www.cmdachennai.gov.in/pdfs/layouts/2024/216-2024.pdf",
         "216/2024",
         "2024/216.pdf",
         "FILE NO: LAYOUT-1 / 0173 / 2024\n: 2070 SQ.M\nS PER PATTA)\n: 507SQ.M\n: 8 Nos.\nAS HANDED OVER TO THE LOCAL BODY VIDE GIFT DEED DOCUMENT NO. 7676/2024, DATED:10.09.2024 @ SRO, PAMMAL.\nULD FOLLOW THE CONDITIONS MENTIONED BY THE EE, PWD/WRD, CHENNAI REGION, CHEPAUK CHENNAI-5, LETTER NO.DB/JDO.2/F.40 NOC/2023/1061M/DATED:22.12.2023 ARE TO BE COMPLIED BY THE APPLICANT BEFORE\nT APPROVAL BY THE COMPETENT AUTHORITY (LOCAL BODY)\nthe land is to be raised of height from 1.300m to 1.410m with the process of earth filling and compaction should be done in layers of not more than 0.30m depth with hard soil with proper compaction to achieve required degree of compaction and the\ned to a level of (+) 15.810m.\nprovide adequate dewatering arrangements to bail out the water within the premises and necessary drainage facilities must be provided as per the norms of the Pollution Control Board.\nbe done proper soil test and suitable foundation should be selected depends upon the soil condition and the structural design should be obtained by the Structural Engineer.\nonsible for the Structural stability and soundness of the building proposed by the applicant and WRD recommend only for inundation point of view.\nmake arrangement to collect the garbage within the premises and has to be disposed off as per Pollution Control Board norms.\natment arrangements should be provided as per Pollution Control Board norms.\nlay the demarcation and fix the boundary stone in the S.No. 578/1A, 1B, 1C, 2A, 2B, 2C & 578/2D of Gerugambakkam Village, Kundrathur Taluk, Kancheepuram District before the commencement of the work.\napplicant land must construct the retaining wall along its boundary on the left side of channel after demarcated the WRD., Land.\nprovide rain water harvesting arrangements in the site at applicant own cost.\nery close to Eri/Channel/thangal. The applicant should not affect the hydraulic particulars of Eri/Channel/thangal.\nnot let the drainage water / sewage directly into the Eri/channel/thangal.\nwater drainage shall be provided with adequate vent size around the site demarcated in the map and it should be connected to the local body storm water drainage way (or) Road drainage network. Ultimately the storm water drainage should be\ninage network/channel/Odai/river so as to drain storm water from site under reference.\nd in the tabular column should be maintained strictly.\nlage water should not be let in the channel/tank Maintained by WRD and necessary sewage disposal plant should be made by the applicant at applicant own cost. The safe discharge of sewage should be ensured and the action plan should be\nEngineer, Kosasthalaiyar Basin Division, WRD., Thiruvallur and/or any other competent authority at once after implementation.\nnot encroach into adjacent Government lands and should clearly demarcate boundaries of applicant land in presence of Revenue and as well as WRD officials before commencement of construction.\nlet into the adjacent lands and drain and necessary arrangements should be made by the applicant at applicant own cost for treatment of sewage.\nuld be allowed to inspect the site at any time during execution.\ncarryout protective measures to avoid entry of storm water from the earmarked in the sketch should be maintained without encroaching as per Revenue Records.\nclearly demarcate the boundary of applicant land and WRD., channel before commencement of any developmental activity in presence of the Revenue and WRD department officials and should not encroach the channel abutting the applicant land.\nould be given to the WRD officers concerned before the commencement work.\nide by the rules and regulations of the WRD as in force.\nd is liable to be revoked. If breach of any of the above terms and conditions and in the event of such revokes the applicant shall not be eligible to any compensation what so ever.\nany of the above condition, WRD. Reserves rights to withdraw the report on inundation point of view to the above survey number and in the event, the applicant shall not be eligible for any compensation what so ever.\nD ENSURE COMPLIANCE OF ALL THE CONDITIONS STIPULATE BY WRD, PWD IN THEIR LETTER NO.DB/JDO.2/F.40 NOC/2023/1061M/DATED:22.12.2023, AND SHALL OBTAIN A LETTER FROM WRD CONFIRMING THE COMPLIANCE OF\nRE THE SANCTION AND RELEASE OF THE LAYOUT.\nNO:47 (11)\nPROVEMENTS TO THE SYSTEMS IN RESPECT OF ROAD, WATER SUPPLY, SEWERAGE, DRAINAGE OR ELECTRIC POWER SUPPLY THAT MAY BE REQUIRED AS ASSESSED BY THE CONCERNED AUTHORITY, NAMELY, THE LOCAL\nELECTRICITY BOARD, SHALL BE BORNE BY THE APPLICANT.\nESPONSIBLE FOR THE SHAPE, SIZE & DIMENSIONS OF THE SITE UNDER REFERENCE.\nFOR BUILDING LINE TO BE LEFT AS PER THE RULE IN FORCE WHILE TAKING UP DEVELOPMENT IN EVERY PLOT.\nCONDITIONS:\nY\nTHE SUBDIVISION APPROVED IS VALID\nO LOCAL BODY\nSUBJECT TO OBTAINING SANCTION FROM\nTHE LOCAL BODY CONCERNED.\nP.P.D 216\nNO :\nThis Planning Permission Issued under New Rule\nL.O 2024\nTNCDBR.2019 is subject to final outcome of the\nW.P(MD) No.8948 of 2019 and WMP (MD)\nAPPROVED\nNos. 6912 & 6913 of 2019.\nVIDE LETTER NO : LAYOUT-1 / 0173 / 2024\nDATE : 30 / 09 / 2024\nOFFICE COPY\nFOR CHIEF PLANNER (LAYOUT)\nCHENNAI METROPOLITAN\nDEVELOPMENT AUTHORITY\nKAM VILLAGE.",
         "True",
         null,
         null,
         null,
         "30 / 09 / 2024",
         "LAYOUT-1"
        ],
        [
         "241",
         "242",
         "242/2024",
         "Kundrathur PU",
         "Kovur",
         "https://www.cmdachennai.gov.in/pdfs/layouts/2024/242-2024.pdf",
         "242/2024",
         "2024/242.pdf",
         "FILE NO.LAYOUT-1 / 0192 / 2024\n(AS PER PATTA) : 1390 SQ.M\n: 386 SQ.M\n: 8 Nos.\nR E A - WAS HANDED OVER TO THE LOCAL BODY VIDE GIFT DEED DOCUMENT NO.17783/2024, DATED:18.10.2024, @ SRO KUNDRATHUR.\nT SHOULD FOLLOW THE CONDITIONS MENTIONED BY THE CE, WRD., CHENNAI REGION, CHEPAUK, CHENNAI-5, LETTER NO.DB/T5(3)/ F.NOC003092 KOVUR VILLAGE 00427 / 2024 / DATED: 11.06.2024, AND\nOMPLIED BY THE APPLICANT BEFORE ISSUING OF THE LAYOUT APPROVAL BY THE COMPETENT AUTHORITY (LOCAL BODY).\nd should be filled with earth filling with proper compaction to the minimum level of (+)19.760m (i.e.,) 1.05m above the Bench mark of Sill level of sluice no.4 of Chembarambakkam Tank is (+)18.710m. To protect the site from\nloods. The process of earth filling and compaction should be done in layers of not more than 0.30metre depth to achieve required degree of compaction for the depth from (+)3.11m to (+)3.26m depending upon the existing field levels.\nshould provide emergency pumping operation for the seepage water, if it is proposed to have basement floor and as well as dewatering arrangements during flood periods. The all-round pavement level within the site should not be less\nd the regular habitation should not be below MFL.\nld clearly demarcate boundary of their land before commencement of any developmental activities in the presence of Revenue, Local body\nes concerned without fail and should not encroach the Government land and the same should be maintained as it is in the Revenue records.\nnted to the applicants, should not be altered/modified/changed to any others. Based on the records submitted by the applicants, the permission is granted. If any documents seem to be fake/manipulated/fabricated, in future the above\ncancelled without any correspondence. Hence, the applicants are solely responsible of genuinety of the documents submitted.\nshould be allowed to inspect the site at any time, during execution and thereafter, if necessary. Advance intimation should be given to the WRD officers concerned before commencement of work.\nld abide by the rules and regulation of the WRD from time to time. The applicants should also abide court of law of both State & Central Government from time to time.\nnion only in connection with the inundation aspect and does not deliver any rights to the applicants to encroach the WRD / Government Channel in SF Nos. 190,191 & 240. The NOC for this site from the WRD is purely issued on the\npoint of view.\nld not carry out any other cross masonry structures across the River /Eri /Channel / Pond without prior permission from WRD. If any damages occurred to the Channel / Odai or any water bodies that belong to government, the same should\nified to its original condition at their own cost by the applicant.\nhannel in S.F.No.191 & 191 on Northern side and S.F.No. 240 on Eastern side boundarys along the stretch of applicant's land should be completely desilted and resectioned by constructing retaining wall on either side of the channel as per\nlicants own cost. The bed level of the above channel should be ascertained and resorted before commencing the development activity in presence of the Executive Engineer. Moreover, the width of entire field channel as per Revenue\nin the stretch of applicant's land should be maintained properly without any change in measurement as per Revenue records at any cost.\nhannel in S.F.No. 191 on Northern side and S.F.No. 240 on Eastern side should be marked as per FMB and monitored and maintained by the applicant at his own cost. The width of the channel should be maintained without encroachment\nords and the hydraulic parameters of the field channel should be maintained. The applicant should make necessary periodical arrangements for free flow of water through the existing channel to the downside area within the proposed\ne applicant should de-silt the channel periodically and remove the obstruction then and there without any hindrance for free flow of water at his own cost boundary along the proposed land.\nuld not object at any time for the maintenance work / improvements work of the odai to be carried out by WRD. The applicant should not dump the garbages / debris in the odai and avoid the sewage water into the channel, etc,. The\ne an undertaking in writing to the effect that the above proposal will not obstruct in case any maintenance / improvement / development works as per Revenue records [FMB] are to be carried out by WRD in future periodically.\nns:\nld prepare the layout proposal by considering the suitable internal storm water drainage network drain as micro drains of suitable sizes within the site as per the site condition. The same should be connected to the local drain / channel,\ng, roads with road side drain and sewerage treatment plant and its disposal and garbages / debris and other solid waste management as per norms in existence within the applicant's land according to existing rules in force and should get\nm competent authority without fail.\nny unhygienic drainage (Treated or Untreated) should not be let into drain / channel / course at any cost and the debris and other materials should not be dumped into the drain / surplus course obstructing free flow of water. The applicants\nge network, at their own cost and the same is to be connected to natural storm water drainage / channel. There should not be any hindrance to the free flow of internal drain to downstream.\nack distance especially on Northern and Eastern Side should be provided within the site as per site condition as per the norms in existence and as per the rules in force of CMDA (as per the circular issued by the office of the Commissioner\ny Planning, Chennai 2 vide Roc. No. 4367 / 2019-BA2 / Dated: 13.03.2019) during development and there should not be any construction activities in future also, the CMDA should issue completion certificate only after obtaining\nate NOC from WRD.\nuld get clearance certificate for this site from the revenue department to make sure that the site is not an encroached property from the water\nnfirming this proposed boundaries\nfrom the applicant land should not let into the drain and for the disposal of the sewage water, suitable arrangements should be made for the same by the applicants and as well as the construction materials / debris / garbages should not\nannel /river /tank at any cost.\nage /sullage should not be let into the channel/river, and the garbages, debris and construction materials should not be dumped into the channel/river restricting the free flow of water.\ne document received from the applicants in respect to the ownership is purely of applicant's responsibility and it is only for reference purpose to this department. The legal validity of this document should be verified by the Development /\n. The specific remarks on inundation are purely issued on technical grounds in respect to the physical location of land.\ny with any of the above conditions, WRD reserves rights to withdraw the Technical opinion on inundation point of view to the above proposed site and in event, the applicants shall not be eligible for any compensation whatsoever and as\nSHOULD ENSURE COMPLIANCE OF ALL THE CONDITIONS STIPULATE BY WRD, PWD IN THEIR LETTER NO.DB/T5(3)/F.NOC F.NOC003092 KOVUR VILLAGE 00427 / 2024 / DATED: 11.06.2024 AND SHALL\nFROM WRD CONFIRMING THE COMPLIANCE OF THE CONDITIONS BEFORE THE SANCTION AND RELEASE OF THE LAYOUT.\nRULE NO:47 (11)\nING IMPROVEMENTS TO THE SYSTEMS IN RESPECT OF ROAD, WATER SUPPLY, SEWERAGE, DRAINAGE OR ELECTRIC POWER SUPPLY THAT MAY BE REQUIRED AS ASSESSED BY THE CONCERNED\nELY, THE LOCAL BODY AND TAMIL NADU ELECTRICITY BOARD, SHALL BE BORNE BY THE APPLICANT.\nNT IS RESPONSIBLE FOR THE SHAPE, SIZE & DIMENSIONS OF THE SITE UNDER REFERENCE.\nACE FOR BUILDING LINE TO BE LEFT AS PER THE RULE IN FORCE WHILE TAKING UP DEVELOPMENT IN EVERY PLOT.\nNDARY\nCONDITIONS:\nFTED TO LOCAL BODY\nROAD THE SUBDIVISION APPROVED IS VALID\nSUBJECT TO OBTAINING SANCTION FROM\nTHE LOCAL BODY CONCERNED.\nP.P.D 242\nNO :\nL.O 2024\nAPPROVED\nThis Planning Permission Issued under New Rule\nTNCDBR.2019 is subject to final outcome of the VIDE LETTER NO : LAYOUT-1 / 0192 / 2024\nW.P(MD) No.8948 of 2019 and WMP (MD)\nNos. 6912 & 6913 of 2019. DATE : 30 / 10 / 2024\nOFFICE COPY\nFOR CHIEF PLANNER (LAYOUT)\nCHENNAI METROPOLITAN\nDEVELOPMENT AUTHORITY\nON\n63/2 OF KOVUR VILLAGE.",
         "True",
         null,
         null,
         null,
         "30 / 10 / 2024",
         null
        ],
        [
         "266",
         "267",
         "267/2024",
         "Sholavaram PU",
         "Sholavaram",
         "https://www.cmdachennai.gov.in/pdfs/layouts/2024/267-2024.pdf",
         "267/2024",
         "2024/267.pdf",
         "FILE NO : LAYOUT-1 / 0130 / 2024\nT : 4087 SQ.M\n( AS PER DOCUMENT)\n: 1299 SQ.M\nOSE AREA (1%) : 30 SQ.M\nTO THE LOCAL BODY 0.5% AREA : 15.0 SQ.M)\nTO THE TANGEDCO 0.5% AREA : 15.0 SQ.M)\n.PLOTS : 35 Nos.\nARE INDICATED EXCLUDING SPLAY DIMENSION\nEA\nWERE HANDED OVER TO THE LOCAL BODY VIDE GIFT DEED\nURPOSE AREA-1\nDOCUMENT NO.14797/2024, DATED: 18.11.2024, @ SRO REDHILLS.\nURPOSE AREA-2\nFOR TANGEDCO)\nG OF CONDITIONS OF PWD VIDE CE, WRD, CHENNAI REGION, CHEPAUK, CHENNAI-5, LETTER NO.DB/T5(3)/F. 5042 SHOLAVARAM VILLAGE 6732/2024/ DATED:05.09.2024 ARE TO BE COMPLIED BY THE APPLICANT BEFORE\nE LAYOUT.\nland should be filled with earth filling with proper compaction to the minimum level of (+)15.190m (i.e.,) 4.77m below the Weir Crest level of Sholavaram Tank is (+)19.960m. To protect the site from inundation during floods. The process of earth\nion should be done in layers of not more than 0.30metre depth to achieve required degree of compaction for the depth from 0.620m to 0.630m depending upon the existing field levels. Also, the applicants should provide emergency pumping\nepage water, if it is proposed to have basement floor and as well as dewatering arrangements during flood periods. The all round pavement level within the site should not be less than (-f)15.190m and the regular habitation should not be below\nhould clearly demarcate boundary of their land before commencement of any developmental activities in the presence of Revenue, Local body and WRD authorities concerned without fail and should not encroach the Government land especially\n531 on West and the same should be maintained as it is in the Revenue records.\ngranted to the applicants, should not be altered / modified / changed to any others. Based on the records submitted by the applicants, the permission is granted. If any documents seem to be fake / manipulated / fabricated, in future the above\nancelled without any correspondence. Hence, the applicants are solely responsible of genuinety of the documents submitted.\nrs should be allowed to inspect the site at any time, during execution and thereafter, if necessary. Advance intimation should be given to the WRD officers concerned before commencement of work.\nhould abide by the rules- and regulation of the WRD from time to time. The applicants should also abide court of law of both State & Central Government from time to time.\npinion only in connection with the inundation aspect and does not deliver any rights to the applicants to encroach the WRD / Government Channel/Tank and River. The NOC for this site from the WRD is purely issued on the, basis of inundation\nould not construct any cross masonry across the Channel without prior permission of WRD. If any damages occurred, to the Government Channel, the same should be restored to its Original condition at their own cost.\nt Channel in S.F.No.531 stretch abutting the applicant boundary on Western side should be marked as per FMB and monitored and maintained by the applicant at his own cost. The width of the Channel should be maintained without\nper Revenue records and the hydraulic parameters of the Channel should be maintained. The applicant should make necessary periodical arrangements for free flow of water through the existing channel to the downside area within the proposed\ne applicant should de-silt the Channel periodically and remove the obstruction then and there without any hindrance for free flow of water at his own cost within the proposed land, after the completion of project also.\nnt Channel in S.F.No 531 abutting the applicant land should be completely desilted and resectioned by constructing retaining wall on either side of the channel with concrete bed as per the FMB upto their stretch at the applicant's own cost. The\nove channel should be ascertained and restored before commencing the development activity in the presence of the concerned WRD Executive Engineer. Moreover, the width of entire channel as per Revenue records (FMB) along & within the\n's land should be maintained properly without any change and without encroachments.\nts should not object at any time for the maintenance work / improvements work of the Channel to be carried out by WRD, The applicant should not dump the garbages/debris in the Channel and avoid the sewage water into the channel, etc,. The\nve an undertaking in writing to the effect that the above proposal will not obstruct in case any maintenance/improvement/ development works as per Revenue records [FMB] are to be carried out by WRD in future periodically.\ngestions:\nshould prepare the layout proposal by considering the suitable internal storm water drainage network drain as micro drains of suitable sizes within the site as per the site condition. The same should be connected to the local drain / channel,\ng, roads with road side drain and sewerage treatment plant and its disposal and garbages / debris and other solid waste management as per norms in existence within the applicant's land according to existing rules in force and should get proper\npetent authority without fail.\nany unhygienic drainage (Treated or Untreated) should not be let into drain / channel / course at any cost and the debris and other materials should not be dumped into the drain / surplus course obstructing free flow of water. The applicants\nge network, at their own cost and the same is to be connected to natural storm water drainage / channel. There should not be any hindrance to the free flow of internal drain to downstream.\nsetback distance especially on Western Side should be provided within the site as per site condition as per the norms in existence and as per the rules in force of CMDA (as per the circular issued by the office of the Commissioner of Town &\nChennai - 2 vide Roc. No. 4367 / 2019-BA2 / Dated: 13.03.2019) during development and there should not be any construction activities in future also, the CMDA should issue completion certificate only after obtaining compliance certificate NOC\nhould get clearance certificate for this site from the Revenue department to make sure that the site is not an encroached property from the water body as well as confirming this proposed site boundaries.\nter from the applicant land should not let into the drain and for the disposal of the sewage water, suitable arrangements should be made for the same by the applicants, and as well as the construction materials/debris/garbages should not be\nannel/river/tank at any cost.\nage / sullage should not be let into channel/river, and the garbages, debris and construction materials should not be dumped into the channel/river restricting the free flow of water.\ne document received from the applicants in respect to the ownership is purely of applicant's responsibility'-and it is only for reference purpose to this department. The legal validity of this document should be verified by the Development / Revenue\necific remarks on inundation are purely issued on technical grounds in respect to the physical location of land.\ny with any of the above conditions, WRD reserves rights to withdraw the Technical opinion on inundation point of view to the above proposed site and in event, the applicants shall not be eligible for any compensation whatsoever and as well as\nLE NO: 47 (11)\nNG IMPROVEMENTS TO THE SYSTEMS IN RESPECT OF ROAD, WATER SUPPLY, SEWERAGE, DRAINAGE OR ELECTRIC POWER SUPPLY THAT MAY BE REQUIRED AS ASSESSED BY THE CONCERNED AUTHORITY,\nL BODY AND TAMIL NADU ELECTRICITY BOARD, SHALL BE BORNE BY THE APPLICANT.\nHOULD ENSURE COMPLIANCE OF ALL THE CONDITIONS STIPULATED BY PWD IN THEIR LETTER NO.DB/T5(3)/F. 5042 SHOLAVARAM VILLAGE 6732/2024/ DATED:05.09.2024 AND SHALL OBTAIN A LETTER FROM\nTHE COMPLIANCE OF THE CONDITIONS BEFORE THE SANCTION AND RELEASE OF THE LAYOUT.\nT IS RESPONSIBLE FOR THE SHAPE,SIZE & DIMENSIONS OF THE SITE UNDER REFERENCE.\nCE FOR BUILDING LINE TO BE LEFT AS PER THE RULE IN FORCE WHILE TAKING UP DEVELOPMENT IN EVERY PLOT\nCONDITIONS:\nNDARY\nFTED TO LOCAL BODY THE LAYOUT APPROVED IS VALID SUBJECT\nROAD TO OBTAINING SANCTION FROM THE LOCAL\nBODY CONCERNED.\nRPOSE-1 GIFTED TO LOCAL BODY\nRPOSE-2 GIFTED TO LOCAL BODY( FOR TANGEDCO)\n267\nNO :\n2024\nAPPROVED\nThis Planning Permission Issued under New Rule\nVIDE LETTER NO : LAYOUT-1 / 0130 / 2024\nTNCDBR.2019 is subject to final outcome of the\nW.P(MD) No.8948 of 2019 and WMP (MD)\nDATE : 25 / 11 / 2024\nNos. 6912 & 6913 of 2019.\nOFFICE COPY\nFOR CHIEF PLANNER (LAYOUT)\nCHENNAI METROPOLITAN\nDEVELOPMENT AUTHORITY\nLAGE.",
         "True",
         null,
         null,
         null,
         "25 / 11 / 2024",
         "LAYOUT-1"
        ],
        [
         "301",
         "302",
         "302/2024",
         "St.Thomas Mount PU",
         "Thiruvanchery",
         "https://www.cmdachennai.gov.in/pdfs/layouts/2024/302-2024.pdf",
         "302/2024",
         "2024/302.pdf",
         "FILE NO: LAYOUT-1 / 0142 / 2024\n: 1110 SQ.M\nTTA)\n: 292 SQ.M\n: 6 Nos.\nUDING SPLAY DIMENSIONS\nER TO THE LOCAL BODY VIDE GIFT DEED DOCUMENT NO.10898/2024, DATED:23.12.2024 @ SRO PALLAVARAM.\nCONDITIONS MENTIONED BY THE CE, WRD., CHENNAI REGION, CHEPAUK, CHENNAI - 5, LETTER NO.DB/T5(3)/F.NOC001444 THIRUVANCHERY VILLAGE 8214 / 2023 / DATED: 08.03.2024 ARE TO BE COMPLIED BY THE APPLICANT BEFORE ISSUING OF THE LAYOUT\nITY (LOCAL BODY)\nLED WITH EARTH FILLING WITH PROPER COMPACTION TO THE MINIMUM LEVEL OF (+)11.140M (I.E.,) 0.070M BELOW THE CREST LEVEL OF WEIR IN THIRUVANCHERI THANGAL TANK (+)11.210M.TO PROTECT THE SITE FROM INUNDATION DURING FLOODS. THE\nCTION SHOULD BE DONE IN LAYERS OF NOT MORE THAN 0.30METRE DEPTH TO ACHIEVE REQUIRED DEGREE OF COMPACTION FOR THE DEPTH FROM (+)1.870M DEPENDING UPON THE EXISTING FIELD LEVELS. ALSO, THE APPLICANTS SHOULD PROVIDE EMERGENCY\nWATER, IF IT IS PROPOSED TO HAVE BASEMENT FLOOR AND AS WELL AS DEWATERING ARRANGEMENTS DURING FLOOD PERIODS. THE ALL ROUND PAVEMENT LEVEL WITH IN THE SITE SHOULD NOT BE LESS THAN (+) 11.140M AND THE REGULAR HABITATION\nMARCATE BOUNDARY OF THEIR LAND BEFORE COMMENCEMENT OF ANY DEVELOPMENTAL ACTIVITIES IN THE PRESENCE OF REVENUE, LOCAL BODY AND WRD AUTHORITIES CONCERNED WITHOUT FAIL AND SHOULD NOT ENCROACH THE GOVERNMENT LAND AND\nIS IN THE REVENUE RECORDS.\nPLICANTS, SHOULD NOT BE ALTERED/MODIFIED/ CHANGED TO ANY OTHERS. BASED ON THE RECORDS SUBMITTED BY THE APPLICANTS, THE PERMISSION IS GRANTED. IF ANY DOCUMENTS SEEM TO BE FAKE / MANIPULATED/FABRICATED, IN FUTURE THE ABOVE\nUT ANY CORRESPONDENCE. HENCE, THE APPLICANTS ARE SOLELY RESPONSIBLE OF GENUINETY OF THE DOCUMENTS SUBMITTED.\nED TO INSPECT THE SITE AT ANY TIME, DURING EXECUTION AND THERE AFTER, IF NECESSARY. ADVANCE INTIMATION SHOULD BE GIVEN TO THE WRD OFFICERS CONCERNED BEFORE COMMENCEMENT OF WORK.\nE RULES AND REGULATION OF THE WRD FROM TIME TO TIME. THE APPLICANTS SHOULD ALSO ABIDE COURT OF LAW OF BOTH STATE & CENTRAL GOVERNMENT FROM TIME TO TIME.\nECTION WITH THE INUNDATION ASPECT AND DOES NOT DELIVER ANY RIGHTS TO THE APPLICANTS TO ENCROACH THE WRD / GOVERNMENT IN SF.NOS.66/1 CHANNEL. THE NOC FOR THIS SITE FROM THE WRD IS PURELY ISSUED ON THE BASIS OF INUNDATION POINT\nUT ANY OTHER CROSS MASONRY STRUCTURES ACROSS THE RIVER / ERI / CHANNEL / POND WITHOUT PRIOR PERMISSION FROM WRD IF ANY DAMAGES OCCURRED TO THE CHANNEL / ODAI OR ANY WATER BODIES THAT BELONG TO GOVERNMENT,THE SAME\nO ITS ORIGINAL CONDITION AT THEIR OWN COST BY THE APPLICANT.\nRN SIDE BOUNDARY ALONG THE STRETCH OF APPLICANTS LAND SHOULD BE COMPLETELY DESILTED AND RESECTIONED BY CONSTRUCTING RETAINING WALL ON EITHER SIDE OF THE CHANNEL AS PER THE FMB AT THE APPLICANTS OWN COST.THE BED LEVEL OF\nTAINED AND RESORTED BEFORE COMMENCING THE DEVELOPMENT ACTIVITY IN PRESENCE OF THE EXECUTIVE ENGINEER. MOREOVER THE WIDTH OF ENTIRE FIELD CHANNEL AS PER REVENUE RECORDS (FMB)\nND SHOULD BE MAINTAINED PROPERLY WITHOUT ANY CHANGE IN MEASUREMENT AS PER REVENUE RECORDS AT ANY COST.\nETCH ABUTTING THE BOUNDARY IN S.F.NO.66/1 ON WESTERN SIDE SHOULD BE MARKED AS PER FMB AND MONITORED AND MAINTAINED BY THE APPLICANT AT HIS OWN COST. THE WIDTH OF THE CHANNEL SHOULD BE MAINTAINED WITHOUT ENCROACHMENT AS\nAULIC PARAMETERS OF THE FIELD CHANNEL SHOULD BE MAINTAINED. THE APPLICANT SHOULD MAKE NECESSARY PERIODICAL ARRANGEMENTS FOR FREE FLOW OF WATER THROUGH THE EXISTING CHANNEL TO THE DOWNSIDE AREA WITHIN THE PROPOSED\nULD DE-SILT THE CHANNEL PERIODICALLY AND REMOVE THE OBSTRUCTION THEN AND THERE WITHOUT ANY HINDRANCE FOR FREE FLOW OF WATER AT HIS OWN COST BOUNDARY ALONG THE PROPOSED LAND.\nAT ANY TIME FOR THE MAINTENANCE WORK / IMPROVEMENTS WORK OF THE ODAI TO BE CARRIED OUT BY WRD. THE APPLICANT SHOULD NOT DUMP THE GARBAGES/DEBRIS IN THE ODAI AND AVOID THE SEWAGE WATER INTO THE CHANNEL, ETC.THE APPLICANT\nNG TO THE EFFECT THAT THE ABOVE PROPOSAL WILL NOT OBSTRUCT IN CASE ANY MAINTENANCE/IMPROVEMENT/ DEVELOPMENT WORKS AS PER REVENUE RECORDS [FMB] ARE TO BE CARRIED OUT BY WRD IN FUTURE PERIODICALLY.\nTHE LAYOUT PROPOSAL BY CONSIDERING THE SUITABLE INTERNAL STORM WATER DRAINAGE NETWORK DRAIN AS MICRO DRAINS I.E PERIPHERAL DRAIN OF SUITABLE SIZE NOT LESS THAN 0.60M X 0.90M & LATERAL OF SUITABLE SIZES WITHIN THE SITE AS PER\nONNECTED TO THE LOCAL DRAIN / CHANNEL, RAINWATER HARVESTING, ROADS WITH ROAD SIDE DRAIN AND SEWERAGE TREATMENT PLANT AND ITS DISPOSAL AND GARBAGES/DEBRIS AND OTHER SOLID WASTE MANAGEMENT AS PER NORMS IN EXISTENCE\nNG TO EXISTING RULES IN FORCE AND SHOULD GET PROPER APPROVAL FROM COMPETENT AUTHORITY WITHOUT FAIL.\nDRAINAGE (TREATED OR UNTREATED) SHOULD NOT BE LET INTO DRAIN/CHANNEL/COURSE AT ANY COST AND THE DEBRIS AND OTHER MATERIALS SHOULD NOT BE DUMPED INTO THE DRAIN / SURPLUS COURSE OBSTRUCTING FREE FLOW OF WATER,\nETWORK, AT THEIR OWN COST AND THE SAME IS TO BE CONNECTED TO NATURAL STORM WATER DRAINAGE / CHANNEL. THERE SHOULD NOT BE ANY HINDRANCE TO THE FREE FLOW OF INTERNAL DRAIN TO DOWNSTREAM.\nSPECICALLY ON WESTERN SIDES SHOULD BE PROVIDED WITH IN THE SITE AS PER SITE CONDITION AS PER THE NORMS IN EXISTENCE AND AS PER THE RULES IN FORCE OF CMDA (AS PER THE CIRCULAR ISSUED BY THE OFFICE OF THE COMMISSIONER OF TOWN\nOC. NO.4367/ 2019-BA2/ DATED: 13.03.2019) DURING DEVELOPMENT AND THERE SHOULD NOT BE ANY CONSTRUCTION ACTIVITIES IN FUTURE ALSO, THE CMDA SHOULD ISSUE COMPLETION CERTIFICATE ONLY AFTER OBTAINING COMPLIANCE CERTIFICATE NOC\nNCE CERTIFICATE FOR THIS SITE FROM THE REVENUE DEPARTMENT TO MAKE SURE THAT THE SITE IS NOT AN ENCROACHED PROPERTY FROM THE WATER BODY AS WELL AS CONFIRMING THIS PROPOSED SITE BOUNDARIES.\nICANT LAND SHOULD NOT LET INTO THE DRAIN AND FOR THE DISPOSAL OF THE SEWAGE WATER, SUITABLE ARRANGEMENTS SHOULD BE MADE FOR THE SAME BY THE APPLICANTS, AND AS WELL AS THE CONSTRUCTION MATERIALS/DEBRIS/GARBAGES SHOULD\nEL/TANK AT ANY COST.\nOULD NOT BE LET INTO CHANNEL/RIVER , AND THE GARBAGES, DEBRIS AND CONSTRUCTION MATERIALS SHOULD NOT BE DUMPED INTO THE CHANNEL/RIVER RESTRICTING THE FREE FLOW OF WATER.\nEIVED FROM THE APPLICANTS IN RESPECT TO THE OWNERSHIP IS PURELY OF APPLICANTS' RESPONSIBILITY AND IT IS ONLY FOR REFERENCE PURPOSE TO THIS DEPARTMENT. THE LEGAL VALIDITY OF THIS DOCUMENT SHOULD BE VERIFIED BY THE\n. THE SPECIFIC REMARKS ON INUNDATION ARE PURELY ISSUED ON TECHNICAL GROUNDS IN RESPECT TO THE PHYSICAL LOCATION OF LAND.\nE ABOVE CONDITIONS, WRD RESERVES RIGHTS TO WITHDRAW THE TECHNICAL OPINION ON INUNDATION POINT OF VIEW TO THE ABOVE PROPOSED SITE AND IN EVENT, THE APPLICANTS SHALL NOT BE ELIGIBLE FOR ANY COMPENSATION WHATSOEVER AND AS\nIANCE OF ALL THE CONDITIONS STIPULATED BY WRD, PWD IN THEIR LETTER NO.DB/T5(3)/F.NOC 001444 THIRUVANCHERY VILLAGE 8214 / 2023 / DATED: 08.03.2024, AND SHALL OBTAIN A LETTER FROM WRD CONFIRMING THE COMPLIANCE OF THE CONDITIONS\nTHE LAYOUT.\nTHE SYSTEMS IN RESPECT OF ROAD, WATER SUPPLY, SEWERAGE, DRAINAGE OR ELECTRIC POWER SUPPLY THAT MAY BE REQUIRED AS ASSESSED BY THE CONCERNED AUTHORITY, NAMELY, THE LOCAL BODY AND TAMIL NADU ELECTRICITY BOARD, SHALL BE\nTHE SHAPE, SIZE & DIMENSIONS OF THE SITE UNDER REFERENCE.\nNE TO BE LEFT AS PER THE RULE IN FORCE WHILE TAKING UP DEVELOPMENT IN EVERY PLOT.\nCONDITION:\nTHE SUB DIVISION APPROVED IS VALID\nSUBJECT TO OBTAINING SANCTION FROM THE\nLOCAL BODY CONCERNED.\nP.P.D 302\nNO :\nL.O 2024\nAPPROVED\nVIDE LETTER NO : LAYOUT-1 / 0142 / 2024\nThis Planning Permission Issued under New Rule\nTNCDBR.2019 is subject to final outcome of the\nDATE : 30 / 12 / 2024\nW.P(MD) No.8948 of 2019 and WMP (MD)\nNos. 6912 & 6913 of 2019.\nOFFICE COPY\nFOR CHIEF PLANNER (LAYOUT)\nCHENNAI METROPOLITAN\nDEVELOPMENT AUTHORITY",
         "True",
         null,
         null,
         null,
         "30 / 12 / 2024",
         "LAYOUT-1"
        ],
        [
         "303",
         "304",
         "304/2024",
         "Greater Chennai Corporation",
         "Pallikaranai",
         "https://www.cmdachennai.gov.in/pdfs/layouts/2024/304-2024.pdf",
         "304/2024",
         "2024/304.pdf",
         "FILE NO.L1-284-2024\nSITE EXTENT : 648 SQ.M\n(AS PER DOCUMENT)\nROAD AREA : 102 SQ.M\nNO. OF PLOT : 1 NO.\nNOTE :\nROAD AREA - WAS HANDED OVER TO THE LOCAL BODY VIDE GIFT DEED DOCUMENT NO. 14955/2024, DATED:24.12.2024 @ SRO, CHENNAI SOUTH JOINT 1.\nCONDITIONS :\n(I) TNCDBR-2019, RULE NO:47 (11)\nTHE COST OF LAYING IMPROVEMENTS TO THE SYSTEMS IN RESPECT OF ROAD, WATER SUPPLY, SEWERAGE, DRAINAGE OR ELECTRIC\nPOWER SUPPLY THAT MAY BE REQUIRED AS ASSESSED BY THE CONCERNED AUTHORITY, NAMELY, THE LOCAL BODY AND TAMIL NADU\nELECTRICITY BOARD, SHALL BE BORNE BY THE APPLICANT.\n(II) THE APPLICANT IS RESPONSIBLE FOR THE SHAPE, SIZE & DIMENSIONS OF THE SITE UNDER REFERENCE.\nNECESSARY SPACE FOR BUILDING LINE TO BE LEFT AS PER THE RULE IN FORCE WHILE TAKING UP DEVELOPMENT IN EVERY PLOT.\nLEGEND:\nSITE BOUNDARY\nROAD GIFTED TO LOCAL BODY\nEXISTING ROAD\nCONDITIONS:\nTHE SUBDIVISION APPROVED IS VALID\nSUBJECT TO OBTAINING SANCTION FROM\nTHE LOCAL BODY CONCERNED.\nP.P.D 304\nNO :\nL.O 2024\nAPPROVED\nThis Planning Permission Issued under New Rule VIDE LETTER NO : LAYOUT-1 / 284 / 2024\nTNCDBR.2019 is subject to final outcome of the\nW.P(MD) No.8948 of 2019 and WMP (MD) DATE : 31 / 12 / 2024\nNos. 6912 & 6913 of 2019.\nOFFICE COPY\nRATION\nFOR CHIEF PLANNER (LAYOUT)\nCHENNAI METROPOLITAN\nDEVELOPMENT AUTHORITY\n671/3, 671/5 OF",
         "True",
         null,
         null,
         null,
         "31 / 12 / 2024",
         null
        ]
       ],
       "shape": {
        "columns": 14,
        "rows": 40
       }
      },
      "text/html": [
       "<div>\n",
       "<style scoped>\n",
       "    .dataframe tbody tr th:only-of-type {\n",
       "        vertical-align: middle;\n",
       "    }\n",
       "\n",
       "    .dataframe tbody tr th {\n",
       "        vertical-align: top;\n",
       "    }\n",
       "\n",
       "    .dataframe thead th {\n",
       "        text-align: right;\n",
       "    }\n",
       "</style>\n",
       "<table border=\"1\" class=\"dataframe\">\n",
       "  <thead>\n",
       "    <tr style=\"text-align: right;\">\n",
       "      <th></th>\n",
       "      <th>SNo.</th>\n",
       "      <th>Approval No. PPD/L.O. No.</th>\n",
       "      <th>Localbody</th>\n",
       "      <th>Village</th>\n",
       "      <th>url</th>\n",
       "      <th>extracted_ppl</th>\n",
       "      <th>pdf_savepath</th>\n",
       "      <th>extracted_text</th>\n",
       "      <th>saved_to_disk</th>\n",
       "      <th>total_no_plots</th>\n",
       "      <th>ews</th>\n",
       "      <th>regular</th>\n",
       "      <th>date</th>\n",
       "      <th>reference_number</th>\n",
       "    </tr>\n",
       "  </thead>\n",
       "  <tbody>\n",
       "    <tr>\n",
       "      <th>35</th>\n",
       "      <td>36</td>\n",
       "      <td>36/2024</td>\n",
       "      <td>Poonamallee PU</td>\n",
       "      <td>Vellavedu</td>\n",
       "      <td>https://www.cmdachennai.gov.in/pdfs/layouts/20...</td>\n",
       "      <td>36/2024</td>\n",
       "      <td>2024/36.pdf</td>\n",
       "      <td>FILE NO: LAYOUT-1 / 0221 / 2023\\nNT = 2347SQ.M...</td>\n",
       "      <td>True</td>\n",
       "      <td>None</td>\n",
       "      <td>None</td>\n",
       "      <td>None</td>\n",
       "      <td>21 / 02 / 2024</td>\n",
       "      <td>LAYOUT-1</td>\n",
       "    </tr>\n",
       "    <tr>\n",
       "      <th>37</th>\n",
       "      <td>38</td>\n",
       "      <td>38/2024</td>\n",
       "      <td>Poonamallee PU</td>\n",
       "      <td>Kannapalayam</td>\n",
       "      <td>https://www.cmdachennai.gov.in/pdfs/layouts/20...</td>\n",
       "      <td>38/2024</td>\n",
       "      <td>2024/38.pdf</td>\n",
       "      <td>: 3075 SQ.M\\n(AS PER PATTA)\\n: 1279 SQ.M\\nOSE ...</td>\n",
       "      <td>True</td>\n",
       "      <td>None</td>\n",
       "      <td>None</td>\n",
       "      <td>None</td>\n",
       "      <td>23 / 02 / 2024</td>\n",
       "      <td>None</td>\n",
       "    </tr>\n",
       "    <tr>\n",
       "      <th>42</th>\n",
       "      <td>43</td>\n",
       "      <td>43/2024</td>\n",
       "      <td>Sholavaram PU</td>\n",
       "      <td>Angadu</td>\n",
       "      <td>https://www.cmdachennai.gov.in/pdfs/layouts/20...</td>\n",
       "      <td>43/2024</td>\n",
       "      <td>2024/43.pdf</td>\n",
       "      <td>= 2300SQ.M FILE NO: LAYOUT-1 / 0230 / 2022\\n= ...</td>\n",
       "      <td>True</td>\n",
       "      <td>None</td>\n",
       "      <td>None</td>\n",
       "      <td>None</td>\n",
       "      <td>28 / 02 / 2024</td>\n",
       "      <td>LAYOUT-1</td>\n",
       "    </tr>\n",
       "    <tr>\n",
       "      <th>49</th>\n",
       "      <td>50</td>\n",
       "      <td>50/2024</td>\n",
       "      <td>Kundrathur PU</td>\n",
       "      <td>Tharapakkam</td>\n",
       "      <td>https://www.cmdachennai.gov.in/pdfs/layouts/20...</td>\n",
       "      <td>50/2024</td>\n",
       "      <td>2024/50.pdf</td>\n",
       "      <td>FILE NO: LAYOUT-1 / 0158 / 2023\\n(cid:54)IT(ci...</td>\n",
       "      <td>True</td>\n",
       "      <td>None</td>\n",
       "      <td>None</td>\n",
       "      <td>None</td>\n",
       "      <td>11 / 03 / 2024</td>\n",
       "      <td>LAYOUT-1</td>\n",
       "    </tr>\n",
       "    <tr>\n",
       "      <th>55</th>\n",
       "      <td>56</td>\n",
       "      <td>56/2024</td>\n",
       "      <td>St.Thomas Mount PU</td>\n",
       "      <td>Thiruvanchery</td>\n",
       "      <td>https://www.cmdachennai.gov.in/pdfs/layouts/20...</td>\n",
       "      <td>56/2024</td>\n",
       "      <td>2024/56.pdf</td>\n",
       "      <td>FILE NO: LAYOUT-1 / 0187 / 2023\\nTENT = 2590SQ...</td>\n",
       "      <td>True</td>\n",
       "      <td>None</td>\n",
       "      <td>None</td>\n",
       "      <td>None</td>\n",
       "      <td>12 / 03 / 2024</td>\n",
       "      <td>LAYOUT-1</td>\n",
       "    </tr>\n",
       "    <tr>\n",
       "      <th>56</th>\n",
       "      <td>57</td>\n",
       "      <td>57/2024</td>\n",
       "      <td>Poonamallee PU</td>\n",
       "      <td>Ayalchari</td>\n",
       "      <td>https://www.cmdachennai.gov.in/pdfs/layouts/20...</td>\n",
       "      <td>57/2024</td>\n",
       "      <td>2024/57.pdf</td>\n",
       "      <td>FILE NO: LAYOUT-1 / 0269 / 2022\\n(cid:54)ITE E...</td>\n",
       "      <td>True</td>\n",
       "      <td>None</td>\n",
       "      <td>None</td>\n",
       "      <td>None</td>\n",
       "      <td>12 / 03 / 2024</td>\n",
       "      <td>LAYOUT-1</td>\n",
       "    </tr>\n",
       "    <tr>\n",
       "      <th>57</th>\n",
       "      <td>58</td>\n",
       "      <td>58/2024</td>\n",
       "      <td>Thirumazhisai TP</td>\n",
       "      <td>Thirumazhisai</td>\n",
       "      <td>https://www.cmdachennai.gov.in/pdfs/layouts/20...</td>\n",
       "      <td>58/2024</td>\n",
       "      <td>2024/58.pdf</td>\n",
       "      <td>= 4694SQ.M FILE NO: LAYOUT-1 / 0134 / 2023\\n= ...</td>\n",
       "      <td>True</td>\n",
       "      <td>None</td>\n",
       "      <td>None</td>\n",
       "      <td>None</td>\n",
       "      <td>14 / 03 / 2024</td>\n",
       "      <td>LAYOUT-1</td>\n",
       "    </tr>\n",
       "    <tr>\n",
       "      <th>61</th>\n",
       "      <td>62</td>\n",
       "      <td>62/2024</td>\n",
       "      <td>Tambaram Corporation</td>\n",
       "      <td>Tambaram</td>\n",
       "      <td>https://www.cmdachennai.gov.in/pdfs/layouts/20...</td>\n",
       "      <td>62/2024</td>\n",
       "      <td>2024/62.pdf</td>\n",
       "      <td>FILE NO.L1/ 249/2023\\nTAL EXTENT (AS PER PATTA...</td>\n",
       "      <td>True</td>\n",
       "      <td>None</td>\n",
       "      <td>None</td>\n",
       "      <td>None</td>\n",
       "      <td>20 / 03 / 2024</td>\n",
       "      <td>None</td>\n",
       "    </tr>\n",
       "    <tr>\n",
       "      <th>66</th>\n",
       "      <td>67</td>\n",
       "      <td>67/2024</td>\n",
       "      <td>Poonamallee PU</td>\n",
       "      <td>Korattur</td>\n",
       "      <td>https://www.cmdachennai.gov.in/pdfs/layouts/20...</td>\n",
       "      <td>67/2024</td>\n",
       "      <td>2024/67.pdf</td>\n",
       "      <td>FILE NO.L1/0306/2023\\nAL EXTENT (AS PER DOCUEN...</td>\n",
       "      <td>True</td>\n",
       "      <td>None</td>\n",
       "      <td>None</td>\n",
       "      <td>None</td>\n",
       "      <td>05 / 04 / 2024</td>\n",
       "      <td>None</td>\n",
       "    </tr>\n",
       "    <tr>\n",
       "      <th>70</th>\n",
       "      <td>71</td>\n",
       "      <td>71/2024</td>\n",
       "      <td>Villivakkam PU</td>\n",
       "      <td>Palavedu</td>\n",
       "      <td>https://www.cmdachennai.gov.in/pdfs/layouts/20...</td>\n",
       "      <td>71/2024</td>\n",
       "      <td>2024/71.pdf</td>\n",
       "      <td>T : 1200 SQ.M\\n(AS PER PATTA)\\n: 32 SQ.M\\nS : ...</td>\n",
       "      <td>True</td>\n",
       "      <td>None</td>\n",
       "      <td>None</td>\n",
       "      <td>None</td>\n",
       "      <td>08 / 04 / 2024</td>\n",
       "      <td>None</td>\n",
       "    </tr>\n",
       "    <tr>\n",
       "      <th>72</th>\n",
       "      <td>73</td>\n",
       "      <td>73/2024</td>\n",
       "      <td>Avadi Corporation</td>\n",
       "      <td>Thirumullaivoyal</td>\n",
       "      <td>https://www.cmdachennai.gov.in/pdfs/layouts/20...</td>\n",
       "      <td>73/2024</td>\n",
       "      <td>2024/73.pdf</td>\n",
       "      <td>FILE NO.L1-0003-2023\\nD\\nA\\nO\\nR TOTAL EXTENT ...</td>\n",
       "      <td>True</td>\n",
       "      <td>None</td>\n",
       "      <td>None</td>\n",
       "      <td>None</td>\n",
       "      <td>08 / 04 / 2024</td>\n",
       "      <td>None</td>\n",
       "    </tr>\n",
       "    <tr>\n",
       "      <th>74</th>\n",
       "      <td>75</td>\n",
       "      <td>75/2024</td>\n",
       "      <td>Kundrathur PU</td>\n",
       "      <td>Kolapakkam</td>\n",
       "      <td>https://www.cmdachennai.gov.in/pdfs/layouts/20...</td>\n",
       "      <td>75/2024</td>\n",
       "      <td>2024/75.pdf</td>\n",
       "      <td>FILE NO: LAYOUT-1 / 0011 / 2024\\n= 2833SQ.M\\n(...</td>\n",
       "      <td>True</td>\n",
       "      <td>None</td>\n",
       "      <td>None</td>\n",
       "      <td>None</td>\n",
       "      <td>08 / 04 / 2024</td>\n",
       "      <td>LAYOUT-1</td>\n",
       "    </tr>\n",
       "    <tr>\n",
       "      <th>76</th>\n",
       "      <td>77</td>\n",
       "      <td>77/2024</td>\n",
       "      <td>Kattankolathur PU</td>\n",
       "      <td>Mannivakkam</td>\n",
       "      <td>https://www.cmdachennai.gov.in/pdfs/layouts/20...</td>\n",
       "      <td>77/2024</td>\n",
       "      <td>2024/77.pdf</td>\n",
       "      <td>T : 4330 SQ.M\\n(AS PER DOCUMENT)\\n: 1586 SQ.M\\...</td>\n",
       "      <td>True</td>\n",
       "      <td>None</td>\n",
       "      <td>None</td>\n",
       "      <td>None</td>\n",
       "      <td>08 / 04 / 2024</td>\n",
       "      <td>None</td>\n",
       "    </tr>\n",
       "    <tr>\n",
       "      <th>77</th>\n",
       "      <td>78</td>\n",
       "      <td>78/2024</td>\n",
       "      <td>Poonamallee PU</td>\n",
       "      <td>Vellavedu</td>\n",
       "      <td>https://www.cmdachennai.gov.in/pdfs/layouts/20...</td>\n",
       "      <td>78/2024</td>\n",
       "      <td>2024/78.pdf</td>\n",
       "      <td>: 2350 SQ.M\\n: 490 SQ.M\\n: 30 SQ.M\\n: 18 Nos\\n...</td>\n",
       "      <td>True</td>\n",
       "      <td>None</td>\n",
       "      <td>None</td>\n",
       "      <td>None</td>\n",
       "      <td>08 / 04 / 2024</td>\n",
       "      <td>None</td>\n",
       "    </tr>\n",
       "    <tr>\n",
       "      <th>103</th>\n",
       "      <td>104</td>\n",
       "      <td>104/2024</td>\n",
       "      <td>Kundrathur PU</td>\n",
       "      <td>Gerugambakkam</td>\n",
       "      <td>https://www.cmdachennai.gov.in/pdfs/layouts/20...</td>\n",
       "      <td>104/2024</td>\n",
       "      <td>2024/104.pdf</td>\n",
       "      <td>FILE NO: LAYOUT-1 / 0005 / 2024\\n= 1793SQ.M\\nO...</td>\n",
       "      <td>True</td>\n",
       "      <td>None</td>\n",
       "      <td>None</td>\n",
       "      <td>None</td>\n",
       "      <td>14 / 05 / 2024</td>\n",
       "      <td>LAYOUT-1</td>\n",
       "    </tr>\n",
       "    <tr>\n",
       "      <th>121</th>\n",
       "      <td>122</td>\n",
       "      <td>122/2024</td>\n",
       "      <td>Tiruvallur PU</td>\n",
       "      <td>Pakkam</td>\n",
       "      <td>https://www.cmdachennai.gov.in/pdfs/layouts/20...</td>\n",
       "      <td>122/2024</td>\n",
       "      <td>2024/122.pdf</td>\n",
       "      <td>ITE EXTENT : 3898 SQ.M FILE NO: LAYOUT-1/0337/...</td>\n",
       "      <td>True</td>\n",
       "      <td>None</td>\n",
       "      <td>None</td>\n",
       "      <td>None</td>\n",
       "      <td>07 / 06 / 2024</td>\n",
       "      <td>LAYOUT-1/0337/2023</td>\n",
       "    </tr>\n",
       "    <tr>\n",
       "      <th>124</th>\n",
       "      <td>125</td>\n",
       "      <td>125/2024</td>\n",
       "      <td>Poonamallee PU</td>\n",
       "      <td>Palanjur</td>\n",
       "      <td>https://www.cmdachennai.gov.in/pdfs/layouts/20...</td>\n",
       "      <td>125/2024</td>\n",
       "      <td>2024/125.pdf</td>\n",
       "      <td>FILE NO: LAYOUT-1 /0099/ 2024\\nSITE EXTENT (AS...</td>\n",
       "      <td>True</td>\n",
       "      <td>None</td>\n",
       "      <td>None</td>\n",
       "      <td>None</td>\n",
       "      <td>11 / 06 / 2024</td>\n",
       "      <td>LAYOUT-1</td>\n",
       "    </tr>\n",
       "    <tr>\n",
       "      <th>138</th>\n",
       "      <td>139</td>\n",
       "      <td>139/2024</td>\n",
       "      <td>Poonamallee PU</td>\n",
       "      <td>Pidarithangal</td>\n",
       "      <td>https://www.cmdachennai.gov.in/pdfs/layouts/20...</td>\n",
       "      <td>139/2024</td>\n",
       "      <td>2024/139.pdf</td>\n",
       "      <td>AS PER DOCUMENT) : 4047 SQ.M FILE NO: LAYOUT-1...</td>\n",
       "      <td>True</td>\n",
       "      <td>None</td>\n",
       "      <td>None</td>\n",
       "      <td>None</td>\n",
       "      <td>28 / 06 / 2024</td>\n",
       "      <td>LAYOUT-1/0374/2023</td>\n",
       "    </tr>\n",
       "    <tr>\n",
       "      <th>143</th>\n",
       "      <td>144</td>\n",
       "      <td>144/2024</td>\n",
       "      <td>St.Thomas Mount PU</td>\n",
       "      <td>Arasankazhani</td>\n",
       "      <td>https://www.cmdachennai.gov.in/pdfs/layouts/20...</td>\n",
       "      <td>144/2024</td>\n",
       "      <td>2024/144.pdf</td>\n",
       "      <td>FILE NO: LAYOUT-1 / 0052 / 2024\\n= 7020SQ.M\\nP...</td>\n",
       "      <td>True</td>\n",
       "      <td>None</td>\n",
       "      <td>None</td>\n",
       "      <td>None</td>\n",
       "      <td>4 / 07/ 2024</td>\n",
       "      <td>LAYOUT-1</td>\n",
       "    </tr>\n",
       "    <tr>\n",
       "      <th>148</th>\n",
       "      <td>149</td>\n",
       "      <td>149/2024</td>\n",
       "      <td>Avadi Corporation</td>\n",
       "      <td>Thirumullaivoyal</td>\n",
       "      <td>https://www.cmdachennai.gov.in/pdfs/layouts/20...</td>\n",
       "      <td>149/2024</td>\n",
       "      <td>2024/149.pdf</td>\n",
       "      <td>: 2696 SQ.M\\nTTA)\\n: 963 SQ.M FILE NO.LAYOUT-1...</td>\n",
       "      <td>True</td>\n",
       "      <td>None</td>\n",
       "      <td>None</td>\n",
       "      <td>None</td>\n",
       "      <td>11 / 07 / 2024</td>\n",
       "      <td>None</td>\n",
       "    </tr>\n",
       "    <tr>\n",
       "      <th>149</th>\n",
       "      <td>150</td>\n",
       "      <td>150/2024</td>\n",
       "      <td>Poonamallee PU</td>\n",
       "      <td>Nemam - B</td>\n",
       "      <td>https://www.cmdachennai.gov.in/pdfs/layouts/20...</td>\n",
       "      <td>150/2024</td>\n",
       "      <td>2024/150.pdf</td>\n",
       "      <td>: 3570 SQ.M FILE NO: LAYOUT-1/0136/2024\\nTTA)\\...</td>\n",
       "      <td>True</td>\n",
       "      <td>None</td>\n",
       "      <td>None</td>\n",
       "      <td>None</td>\n",
       "      <td>11 / 07 / 2024</td>\n",
       "      <td>LAYOUT-1/0136/2024</td>\n",
       "    </tr>\n",
       "    <tr>\n",
       "      <th>156</th>\n",
       "      <td>157</td>\n",
       "      <td>157/2024</td>\n",
       "      <td>Poonamallee PU</td>\n",
       "      <td>Vayalanallur-A</td>\n",
       "      <td>https://www.cmdachennai.gov.in/pdfs/layouts/20...</td>\n",
       "      <td>157/2024</td>\n",
       "      <td>2024/157.pdf</td>\n",
       "      <td>ITE EXTENT\\n(AS PER DOCUMENT)\\n: 5949 SQ.M\\nOA...</td>\n",
       "      <td>True</td>\n",
       "      <td>None</td>\n",
       "      <td>None</td>\n",
       "      <td>None</td>\n",
       "      <td>23 / 07 / 2024</td>\n",
       "      <td>None</td>\n",
       "    </tr>\n",
       "    <tr>\n",
       "      <th>159</th>\n",
       "      <td>160</td>\n",
       "      <td>160/2024</td>\n",
       "      <td>Puzhal PU</td>\n",
       "      <td>Vilangadupakkam</td>\n",
       "      <td>https://www.cmdachennai.gov.in/pdfs/layouts/20...</td>\n",
       "      <td>160/2024</td>\n",
       "      <td>2024/160.pdf</td>\n",
       "      <td>FILE NO: LAYOUT-1 / 0358 / 2023\\n= 7790SQ.M\\nD...</td>\n",
       "      <td>True</td>\n",
       "      <td>None</td>\n",
       "      <td>None</td>\n",
       "      <td>None</td>\n",
       "      <td>24 / 07 / 2024</td>\n",
       "      <td>LAYOUT-1</td>\n",
       "    </tr>\n",
       "    <tr>\n",
       "      <th>162</th>\n",
       "      <td>163</td>\n",
       "      <td>163/2024</td>\n",
       "      <td>Thiruverkadu MP Limit</td>\n",
       "      <td>Ayanambakkam</td>\n",
       "      <td>https://www.cmdachennai.gov.in/pdfs/layouts/20...</td>\n",
       "      <td>163/2024</td>\n",
       "      <td>2024/163.pdf</td>\n",
       "      <td>TE EXTENT : 8600 SQ.M FILE NO: LAYOUT-1 /0152/...</td>\n",
       "      <td>True</td>\n",
       "      <td>None</td>\n",
       "      <td>None</td>\n",
       "      <td>None</td>\n",
       "      <td>29 / 07 / 2024</td>\n",
       "      <td>LAYOUT-1</td>\n",
       "    </tr>\n",
       "    <tr>\n",
       "      <th>166</th>\n",
       "      <td>167</td>\n",
       "      <td>167/2024</td>\n",
       "      <td>Tambaram Corporation</td>\n",
       "      <td>Selaiyur</td>\n",
       "      <td>https://www.cmdachennai.gov.in/pdfs/layouts/20...</td>\n",
       "      <td>167/2024</td>\n",
       "      <td>2024/167.pdf</td>\n",
       "      <td>FILE NO: LAYOUT-1 / 0015 / 2024\\n: 1577 SQ.M\\n...</td>\n",
       "      <td>True</td>\n",
       "      <td>None</td>\n",
       "      <td>None</td>\n",
       "      <td>None</td>\n",
       "      <td>29 / 07 / 2024</td>\n",
       "      <td>LAYOUT-1</td>\n",
       "    </tr>\n",
       "    <tr>\n",
       "      <th>167</th>\n",
       "      <td>168</td>\n",
       "      <td>168/2024</td>\n",
       "      <td>Poonamallee PU</td>\n",
       "      <td>Vayalanallur-B</td>\n",
       "      <td>https://www.cmdachennai.gov.in/pdfs/layouts/20...</td>\n",
       "      <td>168/2024</td>\n",
       "      <td>2024/168.pdf</td>\n",
       "      <td>FILE NO: LAYOUT-1 / 0010/ 2024\\nPER DOCUMENT) ...</td>\n",
       "      <td>True</td>\n",
       "      <td>None</td>\n",
       "      <td>None</td>\n",
       "      <td>None</td>\n",
       "      <td>29 / 07 / 2024</td>\n",
       "      <td>LAYOUT-1</td>\n",
       "    </tr>\n",
       "    <tr>\n",
       "      <th>180</th>\n",
       "      <td>181</td>\n",
       "      <td>181/2024</td>\n",
       "      <td>Poonamallee PU</td>\n",
       "      <td>Thiruninravur-B</td>\n",
       "      <td>https://www.cmdachennai.gov.in/pdfs/layouts/20...</td>\n",
       "      <td>181/2024</td>\n",
       "      <td>2024/181.pdf</td>\n",
       "      <td>FILE NO.L1/0047/2024\\nEXT E N T ( A S PER DOCU...</td>\n",
       "      <td>True</td>\n",
       "      <td>None</td>\n",
       "      <td>None</td>\n",
       "      <td>None</td>\n",
       "      <td>14 / 08 / 2024</td>\n",
       "      <td>None</td>\n",
       "    </tr>\n",
       "    <tr>\n",
       "      <th>181</th>\n",
       "      <td>182</td>\n",
       "      <td>182/2024</td>\n",
       "      <td>Kundrathur MP</td>\n",
       "      <td>Moondramkattalai</td>\n",
       "      <td>https://www.cmdachennai.gov.in/pdfs/layouts/20...</td>\n",
       "      <td>182/2024</td>\n",
       "      <td>2024/182.pdf</td>\n",
       "      <td>FILE NO: LAYOUT-1/0348/2023\\nEXTENT : 1203 SQ....</td>\n",
       "      <td>True</td>\n",
       "      <td>None</td>\n",
       "      <td>None</td>\n",
       "      <td>None</td>\n",
       "      <td>21 / 08 / 2024</td>\n",
       "      <td>LAYOUT-1/0348/2023</td>\n",
       "    </tr>\n",
       "    <tr>\n",
       "      <th>187</th>\n",
       "      <td>188</td>\n",
       "      <td>188/2024</td>\n",
       "      <td>Thiruverkadu MP</td>\n",
       "      <td>Noombal</td>\n",
       "      <td>https://www.cmdachennai.gov.in/pdfs/layouts/20...</td>\n",
       "      <td>188/2024</td>\n",
       "      <td>2024/188.pdf</td>\n",
       "      <td>File No. : LAYOUT-1/0184/2024\\nAL EXTENT (AS P...</td>\n",
       "      <td>True</td>\n",
       "      <td>None</td>\n",
       "      <td>None</td>\n",
       "      <td>None</td>\n",
       "      <td>30 / 08 / 2024</td>\n",
       "      <td>LAYOUT-1/0184/2024</td>\n",
       "    </tr>\n",
       "    <tr>\n",
       "      <th>197</th>\n",
       "      <td>198</td>\n",
       "      <td>198/2024</td>\n",
       "      <td>Kundrathur PU</td>\n",
       "      <td>Naduveerapattu</td>\n",
       "      <td>https://www.cmdachennai.gov.in/pdfs/layouts/20...</td>\n",
       "      <td>198/2024</td>\n",
       "      <td>2024/198.pdf</td>\n",
       "      <td>LAYOUT-1 / 0048 / 2024\\nSSIITTEE EEXXTTEENNTT ...</td>\n",
       "      <td>True</td>\n",
       "      <td>None</td>\n",
       "      <td>None</td>\n",
       "      <td>None</td>\n",
       "      <td>12 / 09 / 2024</td>\n",
       "      <td>None</td>\n",
       "    </tr>\n",
       "    <tr>\n",
       "      <th>198</th>\n",
       "      <td>199</td>\n",
       "      <td>199/2024</td>\n",
       "      <td>St.Thomas Mount PU</td>\n",
       "      <td>Thiruvancheri</td>\n",
       "      <td>https://www.cmdachennai.gov.in/pdfs/layouts/20...</td>\n",
       "      <td>199/2024</td>\n",
       "      <td>2024/199.pdf</td>\n",
       "      <td>FILE NO: LAYOUT-1/0116/2024\\n: 5423 SQ.M\\n: 14...</td>\n",
       "      <td>True</td>\n",
       "      <td>None</td>\n",
       "      <td>None</td>\n",
       "      <td>None</td>\n",
       "      <td>13 / 09 / 2024</td>\n",
       "      <td>LAYOUT-1/0116/2024</td>\n",
       "    </tr>\n",
       "    <tr>\n",
       "      <th>208</th>\n",
       "      <td>209</td>\n",
       "      <td>209/2024</td>\n",
       "      <td>Kundrathur PU</td>\n",
       "      <td>Naduveerapattu</td>\n",
       "      <td>https://www.cmdachennai.gov.in/pdfs/layouts/20...</td>\n",
       "      <td>209/2024</td>\n",
       "      <td>2024/209.pdf</td>\n",
       "      <td>: 2700 SQ.M\\nFILE NO.LAYOUT-1 / 0148/ 2024\\n: ...</td>\n",
       "      <td>True</td>\n",
       "      <td>None</td>\n",
       "      <td>None</td>\n",
       "      <td>None</td>\n",
       "      <td>23 / 09 / 2024</td>\n",
       "      <td>None</td>\n",
       "    </tr>\n",
       "    <tr>\n",
       "      <th>210</th>\n",
       "      <td>211</td>\n",
       "      <td>211/2024</td>\n",
       "      <td>Avadi Corporation</td>\n",
       "      <td>Paruthipattu</td>\n",
       "      <td>https://www.cmdachennai.gov.in/pdfs/layouts/20...</td>\n",
       "      <td>211/2024</td>\n",
       "      <td>2024/211.pdf</td>\n",
       "      <td>DOCUMENT ) : 3642 SQ.M\\nFILE NO : LAYOUT-1/012...</td>\n",
       "      <td>True</td>\n",
       "      <td>None</td>\n",
       "      <td>None</td>\n",
       "      <td>None</td>\n",
       "      <td>30 / 09 / 2024</td>\n",
       "      <td>LAYOUT-1/0127/2024</td>\n",
       "    </tr>\n",
       "    <tr>\n",
       "      <th>211</th>\n",
       "      <td>212</td>\n",
       "      <td>212/2024</td>\n",
       "      <td>Poonamallee PU</td>\n",
       "      <td>Vayalanallur-A</td>\n",
       "      <td>https://www.cmdachennai.gov.in/pdfs/layouts/20...</td>\n",
       "      <td>212/2024</td>\n",
       "      <td>2024/212.pdf</td>\n",
       "      <td>FILE NO: LAYOUT-1 / 0050 / 2024\\nTE EXTENT : 3...</td>\n",
       "      <td>True</td>\n",
       "      <td>None</td>\n",
       "      <td>None</td>\n",
       "      <td>None</td>\n",
       "      <td>30 / 09 / 2024</td>\n",
       "      <td>LAYOUT-1</td>\n",
       "    </tr>\n",
       "    <tr>\n",
       "      <th>212</th>\n",
       "      <td>213</td>\n",
       "      <td>213/2024</td>\n",
       "      <td>Kundrathur PU</td>\n",
       "      <td>Varadharajapuram</td>\n",
       "      <td>https://www.cmdachennai.gov.in/pdfs/layouts/20...</td>\n",
       "      <td>213/2024</td>\n",
       "      <td>2024/213.pdf</td>\n",
       "      <td>FILE NO: LAYOUT-1/0347/2023\\n: 5666 SQ.M\\n(AS ...</td>\n",
       "      <td>True</td>\n",
       "      <td>None</td>\n",
       "      <td>None</td>\n",
       "      <td>None</td>\n",
       "      <td>30 / 09 / 2024</td>\n",
       "      <td>LAYOUT-1/0347/2023</td>\n",
       "    </tr>\n",
       "    <tr>\n",
       "      <th>215</th>\n",
       "      <td>216</td>\n",
       "      <td>216/2024</td>\n",
       "      <td>Kundrathur PU</td>\n",
       "      <td>Gerugambakkam</td>\n",
       "      <td>https://www.cmdachennai.gov.in/pdfs/layouts/20...</td>\n",
       "      <td>216/2024</td>\n",
       "      <td>2024/216.pdf</td>\n",
       "      <td>FILE NO: LAYOUT-1 / 0173 / 2024\\n: 2070 SQ.M\\n...</td>\n",
       "      <td>True</td>\n",
       "      <td>None</td>\n",
       "      <td>None</td>\n",
       "      <td>None</td>\n",
       "      <td>30 / 09 / 2024</td>\n",
       "      <td>LAYOUT-1</td>\n",
       "    </tr>\n",
       "    <tr>\n",
       "      <th>241</th>\n",
       "      <td>242</td>\n",
       "      <td>242/2024</td>\n",
       "      <td>Kundrathur PU</td>\n",
       "      <td>Kovur</td>\n",
       "      <td>https://www.cmdachennai.gov.in/pdfs/layouts/20...</td>\n",
       "      <td>242/2024</td>\n",
       "      <td>2024/242.pdf</td>\n",
       "      <td>FILE NO.LAYOUT-1 / 0192 / 2024\\n(AS PER PATTA)...</td>\n",
       "      <td>True</td>\n",
       "      <td>None</td>\n",
       "      <td>None</td>\n",
       "      <td>None</td>\n",
       "      <td>30 / 10 / 2024</td>\n",
       "      <td>None</td>\n",
       "    </tr>\n",
       "    <tr>\n",
       "      <th>266</th>\n",
       "      <td>267</td>\n",
       "      <td>267/2024</td>\n",
       "      <td>Sholavaram PU</td>\n",
       "      <td>Sholavaram</td>\n",
       "      <td>https://www.cmdachennai.gov.in/pdfs/layouts/20...</td>\n",
       "      <td>267/2024</td>\n",
       "      <td>2024/267.pdf</td>\n",
       "      <td>FILE NO : LAYOUT-1 / 0130 / 2024\\nT : 4087 SQ....</td>\n",
       "      <td>True</td>\n",
       "      <td>None</td>\n",
       "      <td>None</td>\n",
       "      <td>None</td>\n",
       "      <td>25 / 11 / 2024</td>\n",
       "      <td>LAYOUT-1</td>\n",
       "    </tr>\n",
       "    <tr>\n",
       "      <th>301</th>\n",
       "      <td>302</td>\n",
       "      <td>302/2024</td>\n",
       "      <td>St.Thomas Mount PU</td>\n",
       "      <td>Thiruvanchery</td>\n",
       "      <td>https://www.cmdachennai.gov.in/pdfs/layouts/20...</td>\n",
       "      <td>302/2024</td>\n",
       "      <td>2024/302.pdf</td>\n",
       "      <td>FILE NO: LAYOUT-1 / 0142 / 2024\\n: 1110 SQ.M\\n...</td>\n",
       "      <td>True</td>\n",
       "      <td>None</td>\n",
       "      <td>None</td>\n",
       "      <td>None</td>\n",
       "      <td>30 / 12 / 2024</td>\n",
       "      <td>LAYOUT-1</td>\n",
       "    </tr>\n",
       "    <tr>\n",
       "      <th>303</th>\n",
       "      <td>304</td>\n",
       "      <td>304/2024</td>\n",
       "      <td>Greater Chennai Corporation</td>\n",
       "      <td>Pallikaranai</td>\n",
       "      <td>https://www.cmdachennai.gov.in/pdfs/layouts/20...</td>\n",
       "      <td>304/2024</td>\n",
       "      <td>2024/304.pdf</td>\n",
       "      <td>FILE NO.L1-284-2024\\nSITE EXTENT : 648 SQ.M\\n(...</td>\n",
       "      <td>True</td>\n",
       "      <td>None</td>\n",
       "      <td>None</td>\n",
       "      <td>None</td>\n",
       "      <td>31 / 12 / 2024</td>\n",
       "      <td>None</td>\n",
       "    </tr>\n",
       "  </tbody>\n",
       "</table>\n",
       "</div>"
      ],
      "text/plain": [
       "    SNo. Approval No. PPD/L.O. No.                    Localbody  \\\n",
       "35    36                   36/2024               Poonamallee PU   \n",
       "37    38                   38/2024               Poonamallee PU   \n",
       "42    43                   43/2024                Sholavaram PU   \n",
       "49    50                   50/2024                Kundrathur PU   \n",
       "55    56                   56/2024           St.Thomas Mount PU   \n",
       "56    57                   57/2024               Poonamallee PU   \n",
       "57    58                   58/2024             Thirumazhisai TP   \n",
       "61    62                   62/2024         Tambaram Corporation   \n",
       "66    67                   67/2024               Poonamallee PU   \n",
       "70    71                   71/2024               Villivakkam PU   \n",
       "72    73                   73/2024            Avadi Corporation   \n",
       "74    75                   75/2024                Kundrathur PU   \n",
       "76    77                   77/2024            Kattankolathur PU   \n",
       "77    78                   78/2024               Poonamallee PU   \n",
       "103  104                  104/2024                Kundrathur PU   \n",
       "121  122                  122/2024                Tiruvallur PU   \n",
       "124  125                  125/2024               Poonamallee PU   \n",
       "138  139                  139/2024               Poonamallee PU   \n",
       "143  144                  144/2024           St.Thomas Mount PU   \n",
       "148  149                  149/2024            Avadi Corporation   \n",
       "149  150                  150/2024               Poonamallee PU   \n",
       "156  157                  157/2024               Poonamallee PU   \n",
       "159  160                  160/2024                    Puzhal PU   \n",
       "162  163                  163/2024        Thiruverkadu MP Limit   \n",
       "166  167                  167/2024         Tambaram Corporation   \n",
       "167  168                  168/2024               Poonamallee PU   \n",
       "180  181                  181/2024               Poonamallee PU   \n",
       "181  182                  182/2024                Kundrathur MP   \n",
       "187  188                  188/2024              Thiruverkadu MP   \n",
       "197  198                  198/2024                Kundrathur PU   \n",
       "198  199                  199/2024           St.Thomas Mount PU   \n",
       "208  209                  209/2024                Kundrathur PU   \n",
       "210  211                  211/2024            Avadi Corporation   \n",
       "211  212                  212/2024               Poonamallee PU   \n",
       "212  213                  213/2024                Kundrathur PU   \n",
       "215  216                  216/2024                Kundrathur PU   \n",
       "241  242                  242/2024                Kundrathur PU   \n",
       "266  267                  267/2024                Sholavaram PU   \n",
       "301  302                  302/2024           St.Thomas Mount PU   \n",
       "303  304                  304/2024  Greater Chennai Corporation   \n",
       "\n",
       "              Village                                                url  \\\n",
       "35          Vellavedu  https://www.cmdachennai.gov.in/pdfs/layouts/20...   \n",
       "37       Kannapalayam  https://www.cmdachennai.gov.in/pdfs/layouts/20...   \n",
       "42             Angadu  https://www.cmdachennai.gov.in/pdfs/layouts/20...   \n",
       "49        Tharapakkam  https://www.cmdachennai.gov.in/pdfs/layouts/20...   \n",
       "55      Thiruvanchery  https://www.cmdachennai.gov.in/pdfs/layouts/20...   \n",
       "56          Ayalchari  https://www.cmdachennai.gov.in/pdfs/layouts/20...   \n",
       "57      Thirumazhisai  https://www.cmdachennai.gov.in/pdfs/layouts/20...   \n",
       "61           Tambaram  https://www.cmdachennai.gov.in/pdfs/layouts/20...   \n",
       "66           Korattur  https://www.cmdachennai.gov.in/pdfs/layouts/20...   \n",
       "70           Palavedu  https://www.cmdachennai.gov.in/pdfs/layouts/20...   \n",
       "72   Thirumullaivoyal  https://www.cmdachennai.gov.in/pdfs/layouts/20...   \n",
       "74         Kolapakkam  https://www.cmdachennai.gov.in/pdfs/layouts/20...   \n",
       "76        Mannivakkam  https://www.cmdachennai.gov.in/pdfs/layouts/20...   \n",
       "77          Vellavedu  https://www.cmdachennai.gov.in/pdfs/layouts/20...   \n",
       "103     Gerugambakkam  https://www.cmdachennai.gov.in/pdfs/layouts/20...   \n",
       "121            Pakkam  https://www.cmdachennai.gov.in/pdfs/layouts/20...   \n",
       "124          Palanjur  https://www.cmdachennai.gov.in/pdfs/layouts/20...   \n",
       "138     Pidarithangal  https://www.cmdachennai.gov.in/pdfs/layouts/20...   \n",
       "143     Arasankazhani  https://www.cmdachennai.gov.in/pdfs/layouts/20...   \n",
       "148  Thirumullaivoyal  https://www.cmdachennai.gov.in/pdfs/layouts/20...   \n",
       "149         Nemam - B  https://www.cmdachennai.gov.in/pdfs/layouts/20...   \n",
       "156    Vayalanallur-A  https://www.cmdachennai.gov.in/pdfs/layouts/20...   \n",
       "159   Vilangadupakkam  https://www.cmdachennai.gov.in/pdfs/layouts/20...   \n",
       "162      Ayanambakkam  https://www.cmdachennai.gov.in/pdfs/layouts/20...   \n",
       "166          Selaiyur  https://www.cmdachennai.gov.in/pdfs/layouts/20...   \n",
       "167    Vayalanallur-B  https://www.cmdachennai.gov.in/pdfs/layouts/20...   \n",
       "180   Thiruninravur-B  https://www.cmdachennai.gov.in/pdfs/layouts/20...   \n",
       "181  Moondramkattalai  https://www.cmdachennai.gov.in/pdfs/layouts/20...   \n",
       "187           Noombal  https://www.cmdachennai.gov.in/pdfs/layouts/20...   \n",
       "197    Naduveerapattu  https://www.cmdachennai.gov.in/pdfs/layouts/20...   \n",
       "198     Thiruvancheri  https://www.cmdachennai.gov.in/pdfs/layouts/20...   \n",
       "208    Naduveerapattu  https://www.cmdachennai.gov.in/pdfs/layouts/20...   \n",
       "210      Paruthipattu  https://www.cmdachennai.gov.in/pdfs/layouts/20...   \n",
       "211    Vayalanallur-A  https://www.cmdachennai.gov.in/pdfs/layouts/20...   \n",
       "212  Varadharajapuram  https://www.cmdachennai.gov.in/pdfs/layouts/20...   \n",
       "215     Gerugambakkam  https://www.cmdachennai.gov.in/pdfs/layouts/20...   \n",
       "241             Kovur  https://www.cmdachennai.gov.in/pdfs/layouts/20...   \n",
       "266        Sholavaram  https://www.cmdachennai.gov.in/pdfs/layouts/20...   \n",
       "301     Thiruvanchery  https://www.cmdachennai.gov.in/pdfs/layouts/20...   \n",
       "303      Pallikaranai  https://www.cmdachennai.gov.in/pdfs/layouts/20...   \n",
       "\n",
       "    extracted_ppl  pdf_savepath  \\\n",
       "35        36/2024   2024/36.pdf   \n",
       "37        38/2024   2024/38.pdf   \n",
       "42        43/2024   2024/43.pdf   \n",
       "49        50/2024   2024/50.pdf   \n",
       "55        56/2024   2024/56.pdf   \n",
       "56        57/2024   2024/57.pdf   \n",
       "57        58/2024   2024/58.pdf   \n",
       "61        62/2024   2024/62.pdf   \n",
       "66        67/2024   2024/67.pdf   \n",
       "70        71/2024   2024/71.pdf   \n",
       "72        73/2024   2024/73.pdf   \n",
       "74        75/2024   2024/75.pdf   \n",
       "76        77/2024   2024/77.pdf   \n",
       "77        78/2024   2024/78.pdf   \n",
       "103      104/2024  2024/104.pdf   \n",
       "121      122/2024  2024/122.pdf   \n",
       "124      125/2024  2024/125.pdf   \n",
       "138      139/2024  2024/139.pdf   \n",
       "143      144/2024  2024/144.pdf   \n",
       "148      149/2024  2024/149.pdf   \n",
       "149      150/2024  2024/150.pdf   \n",
       "156      157/2024  2024/157.pdf   \n",
       "159      160/2024  2024/160.pdf   \n",
       "162      163/2024  2024/163.pdf   \n",
       "166      167/2024  2024/167.pdf   \n",
       "167      168/2024  2024/168.pdf   \n",
       "180      181/2024  2024/181.pdf   \n",
       "181      182/2024  2024/182.pdf   \n",
       "187      188/2024  2024/188.pdf   \n",
       "197      198/2024  2024/198.pdf   \n",
       "198      199/2024  2024/199.pdf   \n",
       "208      209/2024  2024/209.pdf   \n",
       "210      211/2024  2024/211.pdf   \n",
       "211      212/2024  2024/212.pdf   \n",
       "212      213/2024  2024/213.pdf   \n",
       "215      216/2024  2024/216.pdf   \n",
       "241      242/2024  2024/242.pdf   \n",
       "266      267/2024  2024/267.pdf   \n",
       "301      302/2024  2024/302.pdf   \n",
       "303      304/2024  2024/304.pdf   \n",
       "\n",
       "                                        extracted_text  saved_to_disk  \\\n",
       "35   FILE NO: LAYOUT-1 / 0221 / 2023\\nNT = 2347SQ.M...           True   \n",
       "37   : 3075 SQ.M\\n(AS PER PATTA)\\n: 1279 SQ.M\\nOSE ...           True   \n",
       "42   = 2300SQ.M FILE NO: LAYOUT-1 / 0230 / 2022\\n= ...           True   \n",
       "49   FILE NO: LAYOUT-1 / 0158 / 2023\\n(cid:54)IT(ci...           True   \n",
       "55   FILE NO: LAYOUT-1 / 0187 / 2023\\nTENT = 2590SQ...           True   \n",
       "56   FILE NO: LAYOUT-1 / 0269 / 2022\\n(cid:54)ITE E...           True   \n",
       "57   = 4694SQ.M FILE NO: LAYOUT-1 / 0134 / 2023\\n= ...           True   \n",
       "61   FILE NO.L1/ 249/2023\\nTAL EXTENT (AS PER PATTA...           True   \n",
       "66   FILE NO.L1/0306/2023\\nAL EXTENT (AS PER DOCUEN...           True   \n",
       "70   T : 1200 SQ.M\\n(AS PER PATTA)\\n: 32 SQ.M\\nS : ...           True   \n",
       "72   FILE NO.L1-0003-2023\\nD\\nA\\nO\\nR TOTAL EXTENT ...           True   \n",
       "74   FILE NO: LAYOUT-1 / 0011 / 2024\\n= 2833SQ.M\\n(...           True   \n",
       "76   T : 4330 SQ.M\\n(AS PER DOCUMENT)\\n: 1586 SQ.M\\...           True   \n",
       "77   : 2350 SQ.M\\n: 490 SQ.M\\n: 30 SQ.M\\n: 18 Nos\\n...           True   \n",
       "103  FILE NO: LAYOUT-1 / 0005 / 2024\\n= 1793SQ.M\\nO...           True   \n",
       "121  ITE EXTENT : 3898 SQ.M FILE NO: LAYOUT-1/0337/...           True   \n",
       "124  FILE NO: LAYOUT-1 /0099/ 2024\\nSITE EXTENT (AS...           True   \n",
       "138  AS PER DOCUMENT) : 4047 SQ.M FILE NO: LAYOUT-1...           True   \n",
       "143  FILE NO: LAYOUT-1 / 0052 / 2024\\n= 7020SQ.M\\nP...           True   \n",
       "148  : 2696 SQ.M\\nTTA)\\n: 963 SQ.M FILE NO.LAYOUT-1...           True   \n",
       "149  : 3570 SQ.M FILE NO: LAYOUT-1/0136/2024\\nTTA)\\...           True   \n",
       "156  ITE EXTENT\\n(AS PER DOCUMENT)\\n: 5949 SQ.M\\nOA...           True   \n",
       "159  FILE NO: LAYOUT-1 / 0358 / 2023\\n= 7790SQ.M\\nD...           True   \n",
       "162  TE EXTENT : 8600 SQ.M FILE NO: LAYOUT-1 /0152/...           True   \n",
       "166  FILE NO: LAYOUT-1 / 0015 / 2024\\n: 1577 SQ.M\\n...           True   \n",
       "167  FILE NO: LAYOUT-1 / 0010/ 2024\\nPER DOCUMENT) ...           True   \n",
       "180  FILE NO.L1/0047/2024\\nEXT E N T ( A S PER DOCU...           True   \n",
       "181  FILE NO: LAYOUT-1/0348/2023\\nEXTENT : 1203 SQ....           True   \n",
       "187  File No. : LAYOUT-1/0184/2024\\nAL EXTENT (AS P...           True   \n",
       "197  LAYOUT-1 / 0048 / 2024\\nSSIITTEE EEXXTTEENNTT ...           True   \n",
       "198  FILE NO: LAYOUT-1/0116/2024\\n: 5423 SQ.M\\n: 14...           True   \n",
       "208  : 2700 SQ.M\\nFILE NO.LAYOUT-1 / 0148/ 2024\\n: ...           True   \n",
       "210  DOCUMENT ) : 3642 SQ.M\\nFILE NO : LAYOUT-1/012...           True   \n",
       "211  FILE NO: LAYOUT-1 / 0050 / 2024\\nTE EXTENT : 3...           True   \n",
       "212  FILE NO: LAYOUT-1/0347/2023\\n: 5666 SQ.M\\n(AS ...           True   \n",
       "215  FILE NO: LAYOUT-1 / 0173 / 2024\\n: 2070 SQ.M\\n...           True   \n",
       "241  FILE NO.LAYOUT-1 / 0192 / 2024\\n(AS PER PATTA)...           True   \n",
       "266  FILE NO : LAYOUT-1 / 0130 / 2024\\nT : 4087 SQ....           True   \n",
       "301  FILE NO: LAYOUT-1 / 0142 / 2024\\n: 1110 SQ.M\\n...           True   \n",
       "303  FILE NO.L1-284-2024\\nSITE EXTENT : 648 SQ.M\\n(...           True   \n",
       "\n",
       "    total_no_plots   ews regular            date    reference_number  \n",
       "35            None  None    None  21 / 02 / 2024            LAYOUT-1  \n",
       "37            None  None    None  23 / 02 / 2024                None  \n",
       "42            None  None    None  28 / 02 / 2024            LAYOUT-1  \n",
       "49            None  None    None  11 / 03 / 2024            LAYOUT-1  \n",
       "55            None  None    None  12 / 03 / 2024            LAYOUT-1  \n",
       "56            None  None    None  12 / 03 / 2024            LAYOUT-1  \n",
       "57            None  None    None  14 / 03 / 2024            LAYOUT-1  \n",
       "61            None  None    None  20 / 03 / 2024                None  \n",
       "66            None  None    None  05 / 04 / 2024                None  \n",
       "70            None  None    None  08 / 04 / 2024                None  \n",
       "72            None  None    None  08 / 04 / 2024                None  \n",
       "74            None  None    None  08 / 04 / 2024            LAYOUT-1  \n",
       "76            None  None    None  08 / 04 / 2024                None  \n",
       "77            None  None    None  08 / 04 / 2024                None  \n",
       "103           None  None    None  14 / 05 / 2024            LAYOUT-1  \n",
       "121           None  None    None  07 / 06 / 2024  LAYOUT-1/0337/2023  \n",
       "124           None  None    None  11 / 06 / 2024            LAYOUT-1  \n",
       "138           None  None    None  28 / 06 / 2024  LAYOUT-1/0374/2023  \n",
       "143           None  None    None    4 / 07/ 2024            LAYOUT-1  \n",
       "148           None  None    None  11 / 07 / 2024                None  \n",
       "149           None  None    None  11 / 07 / 2024  LAYOUT-1/0136/2024  \n",
       "156           None  None    None  23 / 07 / 2024                None  \n",
       "159           None  None    None  24 / 07 / 2024            LAYOUT-1  \n",
       "162           None  None    None  29 / 07 / 2024            LAYOUT-1  \n",
       "166           None  None    None  29 / 07 / 2024            LAYOUT-1  \n",
       "167           None  None    None  29 / 07 / 2024            LAYOUT-1  \n",
       "180           None  None    None  14 / 08 / 2024                None  \n",
       "181           None  None    None  21 / 08 / 2024  LAYOUT-1/0348/2023  \n",
       "187           None  None    None  30 / 08 / 2024  LAYOUT-1/0184/2024  \n",
       "197           None  None    None  12 / 09 / 2024                None  \n",
       "198           None  None    None  13 / 09 / 2024  LAYOUT-1/0116/2024  \n",
       "208           None  None    None  23 / 09 / 2024                None  \n",
       "210           None  None    None  30 / 09 / 2024  LAYOUT-1/0127/2024  \n",
       "211           None  None    None  30 / 09 / 2024            LAYOUT-1  \n",
       "212           None  None    None  30 / 09 / 2024  LAYOUT-1/0347/2023  \n",
       "215           None  None    None  30 / 09 / 2024            LAYOUT-1  \n",
       "241           None  None    None  30 / 10 / 2024                None  \n",
       "266           None  None    None  25 / 11 / 2024            LAYOUT-1  \n",
       "301           None  None    None  30 / 12 / 2024            LAYOUT-1  \n",
       "303           None  None    None  31 / 12 / 2024                None  "
      ]
     },
     "execution_count": 4,
     "metadata": {},
     "output_type": "execute_result"
    }
   ],
   "source": [
    "pqdf[pqdf.total_no_plots.isna() & pqdf.saved_to_disk]"
   ]
  },
  {
   "cell_type": "code",
   "execution_count": 8,
   "id": "109a34c3",
   "metadata": {},
   "outputs": [
    {
     "name": "stdout",
     "output_type": "stream",
     "text": [
      "./data/2024/61.pdf\n",
      "./data/2024/113.pdf\n",
      "./data/2024/77.pdf\n",
      "./data/2024/220.pdf\n",
      "./data/2024/213.pdf\n",
      "./data/2024/169.pdf\n",
      "./data/2024/10.pdf\n",
      "./data/2024/74.pdf\n",
      "./data/2024/279.pdf\n",
      "./data/2024/257.pdf\n",
      "./data/2024/28.pdf\n",
      "./data/2024/62.pdf\n",
      "./data/2024/269.pdf\n",
      "./data/2024/64.pdf\n",
      "./data/2024/110.pdf\n",
      "./data/2024/30.pdf\n",
      "./data/2024/87.pdf\n",
      "./data/2024/240.pdf\n",
      "./data/2024/166.pdf\n",
      "./data/2024/164.pdf\n",
      "./data/2024/91.pdf\n",
      "./data/2024/172.pdf\n",
      "./data/2024/141.pdf\n",
      "./data/2024/147.pdf\n",
      "./data/2024/219.pdf\n",
      "./data/2024/249.pdf\n",
      "./data/2024/291.pdf\n",
      "./data/2024/263.pdf\n",
      "./data/2024/242.pdf\n",
      "./data/2024/23.pdf\n",
      "./data/2024/52.pdf\n",
      "./data/2024/163.pdf\n",
      "./data/2024/216.pdf\n",
      "./data/2024/168.pdf\n",
      "./data/2024/140.pdf\n",
      "./data/2024/255.pdf\n",
      "./data/2024/160.pdf\n",
      "./data/2024/262.pdf\n",
      "./data/2024/126.pdf\n",
      "./data/2024/188.pdf\n",
      "./data/2024/105.pdf\n",
      "./data/2024/209.pdf\n",
      "./data/2024/42.pdf\n",
      "./data/2024/115.pdf\n",
      "./data/2024/302.pdf\n",
      "./data/2024/129.pdf\n",
      "./data/2024/238.pdf\n",
      "./data/2024/308.pdf\n",
      "./data/2024/273.pdf\n",
      "./data/2024/144.pdf\n",
      "./data/2024/217.pdf\n",
      "./data/2024/40.pdf\n",
      "./data/2024/252.pdf\n",
      "./data/2024/190.pdf\n",
      "./data/2024/287.pdf\n",
      "./data/2024/111.pdf\n",
      "./data/2024/96.pdf\n",
      "./data/2024/309.pdf\n",
      "./data/2024/223.pdf\n",
      "./data/2024/01.pdf\n",
      "./data/2024/304.pdf\n",
      "./data/2024/189.pdf\n",
      "./data/2024/292.pdf\n",
      "./data/2024/183.pdf\n",
      "./data/2024/86.pdf\n",
      "./data/2024/194.pdf\n",
      "./data/2024/137.pdf\n",
      "./data/2024/41.pdf\n",
      "./data/2024/122.pdf\n",
      "./data/2024/303.pdf\n",
      "./data/2024/185.pdf\n",
      "./data/2024/246.pdf\n",
      "./data/2024/71.pdf\n",
      "./data/2024/152.pdf\n",
      "./data/2024/150.pdf\n",
      "./data/2024/202.pdf\n",
      "./data/2024/211.pdf\n",
      "./data/2024/275.pdf\n",
      "./data/2024/68.pdf\n",
      "./data/2024/04.pdf\n",
      "./data/2024/170.pdf\n",
      "./data/2024/260.pdf\n",
      "./data/2024/45.pdf\n",
      "./data/2024/18.pdf\n",
      "./data/2024/107.pdf\n",
      "./data/2024/06.pdf\n",
      "./data/2024/254.pdf\n",
      "./data/2024/162.pdf\n",
      "./data/2024/84.pdf\n",
      "./data/2024/36.pdf\n",
      "./data/2024/181.pdf\n",
      "./data/2024/03.pdf\n",
      "./data/2024/54.pdf\n",
      "./data/2024/50.pdf\n",
      "./data/2024/250.pdf\n",
      "./data/2024/288.pdf\n",
      "./data/2024/08.pdf\n",
      "./data/2024/266.pdf\n",
      "./data/2024/146.pdf\n",
      "./data/2024/93.pdf\n",
      "./data/2024/215.pdf\n",
      "./data/2024/116.pdf\n",
      "./data/2024/192.pdf\n",
      "./data/2024/138.pdf\n",
      "./data/2024/154.pdf\n",
      "./data/2024/88.pdf\n",
      "./data/2024/39.pdf\n",
      "./data/2024/173.pdf\n",
      "./data/2024/177.pdf\n",
      "./data/2024/16.pdf\n",
      "./data/2024/307.pdf\n",
      "./data/2024/191.pdf\n",
      "./data/2024/11.pdf\n",
      "./data/2024/32.pdf\n",
      "./data/2024/63.pdf\n",
      "./data/2024/158.pdf\n",
      "./data/2024/106.pdf\n",
      "./data/2024/145.pdf\n",
      "./data/2024/251.pdf\n",
      "./data/2024/244.pdf\n",
      "./data/2024/256.pdf\n",
      "./data/2024/51.pdf\n",
      "./data/2024/207.pdf\n",
      "./data/2024/208.pdf\n",
      "./data/2024/178.pdf\n",
      "./data/2024/29.pdf\n",
      "./data/2024/35.pdf\n",
      "./data/2024/286.pdf\n",
      "./data/2024/228.pdf\n",
      "./data/2024/171.pdf\n",
      "./data/2024/60.pdf\n",
      "./data/2024/222.pdf\n",
      "./data/2024/274.pdf\n",
      "./data/2024/123.pdf\n",
      "./data/2024/100.pdf\n",
      "./data/2024/112.pdf\n",
      "./data/2024/301.pdf\n",
      "./data/2024/19.pdf\n",
      "./data/2024/204.pdf\n",
      "./data/2024/182.pdf\n",
      "./data/2024/43.pdf\n",
      "./data/2024/227.pdf\n",
      "./data/2024/153.pdf\n",
      "./data/2024/53.pdf\n",
      "./data/2024/56.pdf\n",
      "./data/2024/49.pdf\n",
      "./data/2024/195.pdf\n",
      "./data/2024/278.pdf\n",
      "./data/2024/193.pdf\n",
      "./data/2024/31.pdf\n",
      "./data/2024/186.pdf\n",
      "./data/2024/47.pdf\n",
      "./data/2024/199.pdf\n",
      "./data/2024/293.pdf\n",
      "./data/2024/83.pdf\n",
      "./data/2024/281.pdf\n",
      "./data/2024/59.pdf\n",
      "./data/2024/98.pdf\n",
      "./data/2024/282.pdf\n",
      "./data/2024/14.pdf\n",
      "./data/2024/214.pdf\n",
      "./data/2024/104.pdf\n",
      "./data/2024/24.pdf\n",
      "./data/2024/72.pdf\n",
      "./data/2024/82.pdf\n",
      "./data/2024/156.pdf\n",
      "./data/2024/79.pdf\n",
      "./data/2024/210.pdf\n",
      "./data/2024/235.pdf\n",
      "./data/2024/300.pdf\n",
      "./data/2024/151.pdf\n",
      "./data/2024/21.pdf\n",
      "./data/2024/245.pdf\n",
      "./data/2024/180.pdf\n",
      "./data/2024/234.pdf\n",
      "./data/2024/38.pdf\n",
      "./data/2024/103.pdf\n",
      "./data/2024/221.pdf\n",
      "./data/2024/33.pdf\n",
      "./data/2024/127.pdf\n",
      "./data/2024/289.pdf\n",
      "./data/2024/67.pdf\n",
      "./data/2024/69.pdf\n",
      "./data/2024/247.pdf\n",
      "./data/2024/120.pdf\n",
      "./data/2024/157.pdf\n",
      "./data/2024/108.pdf\n",
      "./data/2024/75.pdf\n",
      "./data/2024/09.pdf\n",
      "./data/2024/118.pdf\n",
      "./data/2024/212.pdf\n",
      "./data/2024/125.pdf\n",
      "./data/2024/179.pdf\n",
      "./data/2024/90.pdf\n",
      "./data/2024/20.pdf\n",
      "./data/2024/174.pdf\n",
      "./data/2024/237.pdf\n",
      "./data/2024/261.pdf\n",
      "./data/2024/76.pdf\n",
      "./data/2024/58.pdf\n",
      "./data/2024/05.pdf\n",
      "./data/2024/148.pdf\n",
      "./data/2024/121.pdf\n",
      "./data/2024/136.pdf\n",
      "./data/2024/80.pdf\n",
      "./data/2024/225.pdf\n",
      "./data/2024/200.pdf\n",
      "./data/2024/65.pdf\n",
      "./data/2024/25.pdf\n",
      "./data/2024/184.pdf\n",
      "./data/2024/44.pdf\n",
      "./data/2024/295.pdf\n",
      "./data/2024/265.pdf\n",
      "./data/2024/99.pdf\n",
      "./data/2024/248.pdf\n",
      "./data/2024/176.pdf\n",
      "./data/2024/159.pdf\n",
      "./data/2024/229.pdf\n",
      "./data/2024/117.pdf\n",
      "./data/2024/175.pdf\n",
      "./data/2024/02.pdf\n",
      "./data/2024/267.pdf\n",
      "./data/2024/198.pdf\n",
      "./data/2024/101.pdf\n",
      "./data/2024/298.pdf\n",
      "./data/2024/73.pdf\n",
      "./data/2024/232.pdf\n",
      "./data/2024/233.pdf\n",
      "./data/2024/119.pdf\n",
      "./data/2024/12.pdf\n",
      "./data/2024/165.pdf\n",
      "./data/2024/203.pdf\n",
      "./data/2024/46.pdf\n",
      "./data/2024/268.pdf\n",
      "./data/2024/258.pdf\n",
      "./data/2024/201.pdf\n",
      "./data/2024/92.pdf\n",
      "./data/2024/78.pdf\n",
      "./data/2024/22.pdf\n",
      "./data/2024/57.pdf\n",
      "./data/2024/276.pdf\n",
      "./data/2024/259.pdf\n",
      "./data/2024/97.pdf\n",
      "./data/2024/109.pdf\n",
      "./data/2024/231.pdf\n",
      "./data/2024/155.pdf\n",
      "./data/2024/34.pdf\n",
      "./data/2024/253.pdf\n",
      "./data/2024/283.pdf\n",
      "./data/2024/167.pdf\n",
      "./data/2024/89.pdf\n",
      "./data/2024/277.pdf\n",
      "./data/2024/85.pdf\n",
      "./data/2024/241.pdf\n",
      "./data/2024/197.pdf\n",
      "./data/2024/15.pdf\n",
      "./data/2024/26.pdf\n",
      "./data/2024/187.pdf\n",
      "./data/2024/143.pdf\n",
      "./data/2024/114.pdf\n",
      "./data/2024/226.pdf\n",
      "./data/2024/55.pdf\n",
      "./data/2024/48.pdf\n",
      "./data/2024/13.pdf\n",
      "./data/2024/66.pdf\n",
      "./data/2024/270.pdf\n",
      "./data/2024/161.pdf\n",
      "./data/2024/280.pdf\n",
      "./data/2024/27.pdf\n",
      "./data/2024/139.pdf\n",
      "./data/2024/149.pdf\n",
      "./data/2024/264.pdf\n",
      "./data/2024/243.pdf\n",
      "./data/2024/102.pdf\n",
      "./data/2024/124.pdf\n"
     ]
    }
   ],
   "source": [
    "import glob\n",
    "for i in (glob.glob('./data/2024/*.pdf')):\n",
    "    print(i)"
   ]
  },
  {
   "cell_type": "code",
   "execution_count": 3,
   "id": "89b5ae7f",
   "metadata": {},
   "outputs": [
    {
     "name": "stderr",
     "output_type": "stream",
     "text": [
      "CropBox missing from /Page, defaulting to MediaBox\n",
      "CropBox missing from /Page, defaulting to MediaBox\n",
      "CropBox missing from /Page, defaulting to MediaBox\n"
     ]
    },
    {
     "name": "stdout",
     "output_type": "stream",
     "text": [
      "./data/2024/01.pdf, found extent in pdf\n",
      "-----------------\n"
     ]
    },
    {
     "name": "stderr",
     "output_type": "stream",
     "text": [
      "CropBox missing from /Page, defaulting to MediaBox\n",
      "CropBox missing from /Page, defaulting to MediaBox\n",
      "CropBox missing from /Page, defaulting to MediaBox\n",
      "CropBox missing from /Page, defaulting to MediaBox\n"
     ]
    },
    {
     "name": "stdout",
     "output_type": "stream",
     "text": [
      "./data/2024/02.pdf, found extent in pdf\n",
      "-----------------\n",
      "./data/2024/03.pdf, found extent in pdf\n",
      "-----------------\n"
     ]
    },
    {
     "name": "stderr",
     "output_type": "stream",
     "text": [
      "CropBox missing from /Page, defaulting to MediaBox\n",
      "CropBox missing from /Page, defaulting to MediaBox\n",
      "CropBox missing from /Page, defaulting to MediaBox\n",
      "CropBox missing from /Page, defaulting to MediaBox\n"
     ]
    },
    {
     "name": "stdout",
     "output_type": "stream",
     "text": [
      "./data/2024/04.pdf, found extent in pdf\n",
      "-----------------\n",
      "./data/2024/05.pdf, found extent in pdf\n",
      "-----------------\n"
     ]
    },
    {
     "name": "stderr",
     "output_type": "stream",
     "text": [
      "CropBox missing from /Page, defaulting to MediaBox\n",
      "CropBox missing from /Page, defaulting to MediaBox\n"
     ]
    },
    {
     "name": "stdout",
     "output_type": "stream",
     "text": [
      "./data/2024/06.pdf, found extent in pdf\n",
      "-----------------\n"
     ]
    },
    {
     "name": "stderr",
     "output_type": "stream",
     "text": [
      "CropBox missing from /Page, defaulting to MediaBox\n",
      "CropBox missing from /Page, defaulting to MediaBox\n",
      "CropBox missing from /Page, defaulting to MediaBox\n",
      "CropBox missing from /Page, defaulting to MediaBox\n"
     ]
    },
    {
     "name": "stdout",
     "output_type": "stream",
     "text": [
      "./data/2024/08.pdf, found extent in pdf\n",
      "-----------------\n",
      "./data/2024/09.pdf, found extent in pdf\n",
      "-----------------\n"
     ]
    },
    {
     "name": "stderr",
     "output_type": "stream",
     "text": [
      "CropBox missing from /Page, defaulting to MediaBox\n",
      "CropBox missing from /Page, defaulting to MediaBox\n",
      "CropBox missing from /Page, defaulting to MediaBox\n",
      "CropBox missing from /Page, defaulting to MediaBox\n",
      "CropBox missing from /Page, defaulting to MediaBox\n",
      "CropBox missing from /Page, defaulting to MediaBox\n"
     ]
    },
    {
     "name": "stdout",
     "output_type": "stream",
     "text": [
      "./data/2024/10.pdf, found extent in pdf\n",
      "-----------------\n",
      "./data/2024/100.pdf, found extent in pdf\n",
      "-----------------\n",
      "./data/2024/101.pdf, found extent in pdf\n",
      "-----------------\n"
     ]
    },
    {
     "name": "stderr",
     "output_type": "stream",
     "text": [
      "CropBox missing from /Page, defaulting to MediaBox\n",
      "CropBox missing from /Page, defaulting to MediaBox\n"
     ]
    },
    {
     "name": "stdout",
     "output_type": "stream",
     "text": [
      "./data/2024/102.pdf, found extent in pdf\n",
      "-----------------\n"
     ]
    },
    {
     "name": "stderr",
     "output_type": "stream",
     "text": [
      "CropBox missing from /Page, defaulting to MediaBox\n",
      "CropBox missing from /Page, defaulting to MediaBox\n"
     ]
    },
    {
     "name": "stdout",
     "output_type": "stream",
     "text": [
      "./data/2024/103.pdf, found extent in pdf\n",
      "-----------------\n"
     ]
    },
    {
     "name": "stderr",
     "output_type": "stream",
     "text": [
      "CropBox missing from /Page, defaulting to MediaBox\n",
      "CropBox missing from /Page, defaulting to MediaBox\n",
      "CropBox missing from /Page, defaulting to MediaBox\n",
      "CropBox missing from /Page, defaulting to MediaBox\n"
     ]
    },
    {
     "name": "stdout",
     "output_type": "stream",
     "text": [
      "./data/2024/104.pdf, found extent in pdf\n",
      "-----------------\n",
      "./data/2024/105.pdf, found extent in pdf\n",
      "-----------------\n"
     ]
    },
    {
     "name": "stderr",
     "output_type": "stream",
     "text": [
      "CropBox missing from /Page, defaulting to MediaBox\n",
      "CropBox missing from /Page, defaulting to MediaBox\n",
      "CropBox missing from /Page, defaulting to MediaBox\n",
      "CropBox missing from /Page, defaulting to MediaBox\n"
     ]
    },
    {
     "name": "stdout",
     "output_type": "stream",
     "text": [
      "./data/2024/106.pdf, found extent in pdf\n",
      "-----------------\n",
      "./data/2024/107.pdf, found extent in pdf\n",
      "-----------------\n"
     ]
    },
    {
     "name": "stderr",
     "output_type": "stream",
     "text": [
      "CropBox missing from /Page, defaulting to MediaBox\n",
      "CropBox missing from /Page, defaulting to MediaBox\n",
      "CropBox missing from /Page, defaulting to MediaBox\n",
      "CropBox missing from /Page, defaulting to MediaBox\n"
     ]
    },
    {
     "name": "stdout",
     "output_type": "stream",
     "text": [
      "./data/2024/108.pdf, found extent in pdf\n",
      "-----------------\n",
      "./data/2024/109.pdf, found extent in pdf\n",
      "-----------------\n"
     ]
    },
    {
     "name": "stderr",
     "output_type": "stream",
     "text": [
      "CropBox missing from /Page, defaulting to MediaBox\n",
      "CropBox missing from /Page, defaulting to MediaBox\n"
     ]
    },
    {
     "name": "stdout",
     "output_type": "stream",
     "text": [
      "./data/2024/11.pdf, found extent in pdf\n",
      "-----------------\n"
     ]
    },
    {
     "name": "stderr",
     "output_type": "stream",
     "text": [
      "CropBox missing from /Page, defaulting to MediaBox\n",
      "CropBox missing from /Page, defaulting to MediaBox\n",
      "CropBox missing from /Page, defaulting to MediaBox\n",
      "CropBox missing from /Page, defaulting to MediaBox\n"
     ]
    },
    {
     "name": "stdout",
     "output_type": "stream",
     "text": [
      "./data/2024/110.pdf, found extent in pdf\n",
      "-----------------\n",
      "./data/2024/111.pdf, found extent in pdf\n",
      "-----------------\n"
     ]
    },
    {
     "name": "stderr",
     "output_type": "stream",
     "text": [
      "CropBox missing from /Page, defaulting to MediaBox\n",
      "CropBox missing from /Page, defaulting to MediaBox\n"
     ]
    },
    {
     "name": "stdout",
     "output_type": "stream",
     "text": [
      "./data/2024/112.pdf, found extent in pdf\n",
      "-----------------\n"
     ]
    },
    {
     "name": "stderr",
     "output_type": "stream",
     "text": [
      "CropBox missing from /Page, defaulting to MediaBox\n",
      "CropBox missing from /Page, defaulting to MediaBox\n"
     ]
    },
    {
     "name": "stdout",
     "output_type": "stream",
     "text": [
      "./data/2024/113.pdf, found extent in pdf\n",
      "-----------------\n"
     ]
    },
    {
     "name": "stderr",
     "output_type": "stream",
     "text": [
      "CropBox missing from /Page, defaulting to MediaBox\n",
      "CropBox missing from /Page, defaulting to MediaBox\n"
     ]
    },
    {
     "name": "stdout",
     "output_type": "stream",
     "text": [
      "./data/2024/114.pdf, found extent in pdf\n",
      "-----------------\n"
     ]
    },
    {
     "name": "stderr",
     "output_type": "stream",
     "text": [
      "CropBox missing from /Page, defaulting to MediaBox\n",
      "CropBox missing from /Page, defaulting to MediaBox\n",
      "CropBox missing from /Page, defaulting to MediaBox\n",
      "CropBox missing from /Page, defaulting to MediaBox\n"
     ]
    },
    {
     "name": "stdout",
     "output_type": "stream",
     "text": [
      "./data/2024/115.pdf, found extent in pdf\n",
      "-----------------\n",
      "./data/2024/116.pdf, found extent in pdf\n",
      "-----------------\n"
     ]
    },
    {
     "name": "stderr",
     "output_type": "stream",
     "text": [
      "CropBox missing from /Page, defaulting to MediaBox\n",
      "CropBox missing from /Page, defaulting to MediaBox\n",
      "CropBox missing from /Page, defaulting to MediaBox\n",
      "CropBox missing from /Page, defaulting to MediaBox\n"
     ]
    },
    {
     "name": "stdout",
     "output_type": "stream",
     "text": [
      "./data/2024/117.pdf, found extent in pdf\n",
      "-----------------\n",
      "./data/2024/118.pdf, found extent in pdf\n",
      "-----------------\n"
     ]
    },
    {
     "name": "stderr",
     "output_type": "stream",
     "text": [
      "CropBox missing from /Page, defaulting to MediaBox\n",
      "CropBox missing from /Page, defaulting to MediaBox\n"
     ]
    },
    {
     "name": "stdout",
     "output_type": "stream",
     "text": [
      "./data/2024/119.pdf, found extent in pdf\n",
      "-----------------\n"
     ]
    },
    {
     "name": "stderr",
     "output_type": "stream",
     "text": [
      "CropBox missing from /Page, defaulting to MediaBox\n",
      "CropBox missing from /Page, defaulting to MediaBox\n",
      "CropBox missing from /Page, defaulting to MediaBox\n",
      "CropBox missing from /Page, defaulting to MediaBox\n"
     ]
    },
    {
     "name": "stdout",
     "output_type": "stream",
     "text": [
      "./data/2024/12.pdf, found extent in pdf\n",
      "-----------------\n",
      "./data/2024/120.pdf, found extent in pdf\n",
      "-----------------\n"
     ]
    },
    {
     "name": "stderr",
     "output_type": "stream",
     "text": [
      "CropBox missing from /Page, defaulting to MediaBox\n",
      "CropBox missing from /Page, defaulting to MediaBox\n"
     ]
    },
    {
     "name": "stdout",
     "output_type": "stream",
     "text": [
      "./data/2024/121.pdf, found extent in pdf\n",
      "-----------------\n"
     ]
    },
    {
     "name": "stderr",
     "output_type": "stream",
     "text": [
      "CropBox missing from /Page, defaulting to MediaBox\n",
      "CropBox missing from /Page, defaulting to MediaBox\n",
      "CropBox missing from /Page, defaulting to MediaBox\n",
      "CropBox missing from /Page, defaulting to MediaBox\n"
     ]
    },
    {
     "name": "stdout",
     "output_type": "stream",
     "text": [
      "./data/2024/122.pdf, found extent in pdf\n",
      "-----------------\n",
      "./data/2024/123.pdf, found extent in pdf\n",
      "-----------------\n"
     ]
    },
    {
     "name": "stderr",
     "output_type": "stream",
     "text": [
      "CropBox missing from /Page, defaulting to MediaBox\n",
      "CropBox missing from /Page, defaulting to MediaBox\n",
      "CropBox missing from /Page, defaulting to MediaBox\n",
      "CropBox missing from /Page, defaulting to MediaBox\n"
     ]
    },
    {
     "name": "stdout",
     "output_type": "stream",
     "text": [
      "./data/2024/124.pdf, found extent in pdf\n",
      "-----------------\n",
      "./data/2024/125.pdf, found extent in pdf\n",
      "-----------------\n"
     ]
    },
    {
     "name": "stderr",
     "output_type": "stream",
     "text": [
      "CropBox missing from /Page, defaulting to MediaBox\n",
      "CropBox missing from /Page, defaulting to MediaBox\n",
      "CropBox missing from /Page, defaulting to MediaBox\n"
     ]
    },
    {
     "name": "stdout",
     "output_type": "stream",
     "text": [
      "./data/2024/126.pdf, found extent in pdf\n",
      "-----------------\n"
     ]
    },
    {
     "name": "stderr",
     "output_type": "stream",
     "text": [
      "CropBox missing from /Page, defaulting to MediaBox\n",
      "CropBox missing from /Page, defaulting to MediaBox\n",
      "CropBox missing from /Page, defaulting to MediaBox\n"
     ]
    },
    {
     "name": "stdout",
     "output_type": "stream",
     "text": [
      "./data/2024/127.pdf, found extent in pdf\n",
      "-----------------\n",
      "./data/2024/129.pdf, found extent in pdf\n",
      "-----------------\n"
     ]
    },
    {
     "name": "stderr",
     "output_type": "stream",
     "text": [
      "CropBox missing from /Page, defaulting to MediaBox\n",
      "CropBox missing from /Page, defaulting to MediaBox\n",
      "CropBox missing from /Page, defaulting to MediaBox\n",
      "CropBox missing from /Page, defaulting to MediaBox\n"
     ]
    },
    {
     "name": "stdout",
     "output_type": "stream",
     "text": [
      "./data/2024/13.pdf, found extent in pdf\n",
      "-----------------\n",
      "./data/2024/136.pdf, found extent in pdf\n",
      "-----------------\n"
     ]
    },
    {
     "name": "stderr",
     "output_type": "stream",
     "text": [
      "CropBox missing from /Page, defaulting to MediaBox\n",
      "CropBox missing from /Page, defaulting to MediaBox\n",
      "CropBox missing from /Page, defaulting to MediaBox\n",
      "CropBox missing from /Page, defaulting to MediaBox\n"
     ]
    },
    {
     "name": "stdout",
     "output_type": "stream",
     "text": [
      "./data/2024/137.pdf, found extent in pdf\n",
      "-----------------\n",
      "./data/2024/138.pdf, found extent in pdf\n",
      "-----------------\n"
     ]
    },
    {
     "name": "stderr",
     "output_type": "stream",
     "text": [
      "CropBox missing from /Page, defaulting to MediaBox\n",
      "CropBox missing from /Page, defaulting to MediaBox\n"
     ]
    },
    {
     "name": "stdout",
     "output_type": "stream",
     "text": [
      "./data/2024/139.pdf, found extent in pdf\n",
      "-----------------\n"
     ]
    },
    {
     "name": "stderr",
     "output_type": "stream",
     "text": [
      "CropBox missing from /Page, defaulting to MediaBox\n",
      "CropBox missing from /Page, defaulting to MediaBox\n"
     ]
    },
    {
     "name": "stdout",
     "output_type": "stream",
     "text": [
      "./data/2024/14.pdf, NO\n",
      "-----------------\n"
     ]
    },
    {
     "name": "stderr",
     "output_type": "stream",
     "text": [
      "CropBox missing from /Page, defaulting to MediaBox\n",
      "CropBox missing from /Page, defaulting to MediaBox\n",
      "CropBox missing from /Page, defaulting to MediaBox\n",
      "CropBox missing from /Page, defaulting to MediaBox\n"
     ]
    },
    {
     "name": "stdout",
     "output_type": "stream",
     "text": [
      "./data/2024/140.pdf, found extent in pdf\n",
      "-----------------\n",
      "./data/2024/141.pdf, found extent in pdf\n",
      "-----------------\n"
     ]
    },
    {
     "name": "stderr",
     "output_type": "stream",
     "text": [
      "CropBox missing from /Page, defaulting to MediaBox\n",
      "CropBox missing from /Page, defaulting to MediaBox\n"
     ]
    },
    {
     "name": "stdout",
     "output_type": "stream",
     "text": [
      "./data/2024/143.pdf, found extent in pdf\n",
      "-----------------\n"
     ]
    },
    {
     "name": "stderr",
     "output_type": "stream",
     "text": [
      "CropBox missing from /Page, defaulting to MediaBox\n",
      "CropBox missing from /Page, defaulting to MediaBox\n"
     ]
    },
    {
     "name": "stdout",
     "output_type": "stream",
     "text": [
      "./data/2024/144.pdf, found extent in pdf\n",
      "-----------------\n"
     ]
    },
    {
     "name": "stderr",
     "output_type": "stream",
     "text": [
      "CropBox missing from /Page, defaulting to MediaBox\n",
      "CropBox missing from /Page, defaulting to MediaBox\n",
      "CropBox missing from /Page, defaulting to MediaBox\n",
      "CropBox missing from /Page, defaulting to MediaBox\n"
     ]
    },
    {
     "name": "stdout",
     "output_type": "stream",
     "text": [
      "./data/2024/145.pdf, found extent in pdf\n",
      "-----------------\n",
      "./data/2024/146.pdf, found extent in pdf\n",
      "-----------------\n"
     ]
    },
    {
     "name": "stderr",
     "output_type": "stream",
     "text": [
      "CropBox missing from /Page, defaulting to MediaBox\n",
      "CropBox missing from /Page, defaulting to MediaBox\n"
     ]
    },
    {
     "name": "stdout",
     "output_type": "stream",
     "text": [
      "./data/2024/147.pdf, found extent in pdf\n",
      "-----------------\n"
     ]
    },
    {
     "name": "stderr",
     "output_type": "stream",
     "text": [
      "CropBox missing from /Page, defaulting to MediaBox\n",
      "CropBox missing from /Page, defaulting to MediaBox\n"
     ]
    },
    {
     "name": "stdout",
     "output_type": "stream",
     "text": [
      "./data/2024/148.pdf, found extent in pdf\n",
      "-----------------\n"
     ]
    },
    {
     "name": "stderr",
     "output_type": "stream",
     "text": [
      "CropBox missing from /Page, defaulting to MediaBox\n",
      "CropBox missing from /Page, defaulting to MediaBox\n"
     ]
    },
    {
     "name": "stdout",
     "output_type": "stream",
     "text": [
      "./data/2024/149.pdf, found extent in pdf\n",
      "-----------------\n"
     ]
    },
    {
     "name": "stderr",
     "output_type": "stream",
     "text": [
      "CropBox missing from /Page, defaulting to MediaBox\n",
      "CropBox missing from /Page, defaulting to MediaBox\n"
     ]
    },
    {
     "name": "stdout",
     "output_type": "stream",
     "text": [
      "./data/2024/15.pdf, found extent in pdf\n",
      "-----------------\n"
     ]
    },
    {
     "name": "stderr",
     "output_type": "stream",
     "text": [
      "CropBox missing from /Page, defaulting to MediaBox\n",
      "CropBox missing from /Page, defaulting to MediaBox\n",
      "CropBox missing from /Page, defaulting to MediaBox\n",
      "CropBox missing from /Page, defaulting to MediaBox\n"
     ]
    },
    {
     "name": "stdout",
     "output_type": "stream",
     "text": [
      "./data/2024/150.pdf, found extent in pdf\n",
      "-----------------\n",
      "./data/2024/151.pdf, found extent in pdf\n",
      "-----------------\n"
     ]
    },
    {
     "name": "stderr",
     "output_type": "stream",
     "text": [
      "CropBox missing from /Page, defaulting to MediaBox\n",
      "CropBox missing from /Page, defaulting to MediaBox\n",
      "CropBox missing from /Page, defaulting to MediaBox\n",
      "CropBox missing from /Page, defaulting to MediaBox\n"
     ]
    },
    {
     "name": "stdout",
     "output_type": "stream",
     "text": [
      "./data/2024/152.pdf, found extent in pdf\n",
      "-----------------\n",
      "./data/2024/153.pdf, found extent in pdf\n",
      "-----------------\n"
     ]
    },
    {
     "name": "stderr",
     "output_type": "stream",
     "text": [
      "CropBox missing from /Page, defaulting to MediaBox\n",
      "CropBox missing from /Page, defaulting to MediaBox\n",
      "CropBox missing from /Page, defaulting to MediaBox\n",
      "CropBox missing from /Page, defaulting to MediaBox\n"
     ]
    },
    {
     "name": "stdout",
     "output_type": "stream",
     "text": [
      "./data/2024/154.pdf, found extent in pdf\n",
      "-----------------\n",
      "./data/2024/155.pdf, found extent in pdf\n",
      "-----------------\n"
     ]
    },
    {
     "name": "stderr",
     "output_type": "stream",
     "text": [
      "CropBox missing from /Page, defaulting to MediaBox\n",
      "CropBox missing from /Page, defaulting to MediaBox\n"
     ]
    },
    {
     "name": "stdout",
     "output_type": "stream",
     "text": [
      "./data/2024/156.pdf, found extent in pdf\n",
      "-----------------\n"
     ]
    },
    {
     "name": "stderr",
     "output_type": "stream",
     "text": [
      "CropBox missing from /Page, defaulting to MediaBox\n",
      "CropBox missing from /Page, defaulting to MediaBox\n",
      "CropBox missing from /Page, defaulting to MediaBox\n",
      "CropBox missing from /Page, defaulting to MediaBox\n"
     ]
    },
    {
     "name": "stdout",
     "output_type": "stream",
     "text": [
      "./data/2024/157.pdf, found extent in pdf\n",
      "-----------------\n",
      "./data/2024/158.pdf, found extent in pdf\n",
      "-----------------\n"
     ]
    },
    {
     "name": "stderr",
     "output_type": "stream",
     "text": [
      "CropBox missing from /Page, defaulting to MediaBox\n",
      "CropBox missing from /Page, defaulting to MediaBox\n"
     ]
    },
    {
     "name": "stdout",
     "output_type": "stream",
     "text": [
      "./data/2024/159.pdf, found extent in pdf\n",
      "-----------------\n"
     ]
    },
    {
     "name": "stderr",
     "output_type": "stream",
     "text": [
      "CropBox missing from /Page, defaulting to MediaBox\n",
      "CropBox missing from /Page, defaulting to MediaBox\n"
     ]
    },
    {
     "name": "stdout",
     "output_type": "stream",
     "text": [
      "./data/2024/16.pdf, found extent in pdf\n",
      "-----------------\n"
     ]
    },
    {
     "name": "stderr",
     "output_type": "stream",
     "text": [
      "CropBox missing from /Page, defaulting to MediaBox\n",
      "CropBox missing from /Page, defaulting to MediaBox\n"
     ]
    },
    {
     "name": "stdout",
     "output_type": "stream",
     "text": [
      "./data/2024/160.pdf, found extent in pdf\n",
      "-----------------\n"
     ]
    },
    {
     "name": "stderr",
     "output_type": "stream",
     "text": [
      "CropBox missing from /Page, defaulting to MediaBox\n",
      "CropBox missing from /Page, defaulting to MediaBox\n",
      "CropBox missing from /Page, defaulting to MediaBox\n",
      "CropBox missing from /Page, defaulting to MediaBox\n"
     ]
    },
    {
     "name": "stdout",
     "output_type": "stream",
     "text": [
      "./data/2024/161.pdf, found extent in pdf\n",
      "-----------------\n",
      "./data/2024/162.pdf, found extent in pdf\n",
      "-----------------\n"
     ]
    },
    {
     "name": "stderr",
     "output_type": "stream",
     "text": [
      "CropBox missing from /Page, defaulting to MediaBox\n",
      "CropBox missing from /Page, defaulting to MediaBox\n"
     ]
    },
    {
     "name": "stdout",
     "output_type": "stream",
     "text": [
      "./data/2024/163.pdf, found extent in pdf\n",
      "-----------------\n"
     ]
    },
    {
     "name": "stderr",
     "output_type": "stream",
     "text": [
      "CropBox missing from /Page, defaulting to MediaBox\n",
      "CropBox missing from /Page, defaulting to MediaBox\n",
      "CropBox missing from /Page, defaulting to MediaBox\n",
      "CropBox missing from /Page, defaulting to MediaBox\n"
     ]
    },
    {
     "name": "stdout",
     "output_type": "stream",
     "text": [
      "./data/2024/164.pdf, found extent in pdf\n",
      "-----------------\n",
      "./data/2024/165.pdf, found extent in pdf\n",
      "-----------------\n"
     ]
    },
    {
     "name": "stderr",
     "output_type": "stream",
     "text": [
      "CropBox missing from /Page, defaulting to MediaBox\n",
      "CropBox missing from /Page, defaulting to MediaBox\n",
      "CropBox missing from /Page, defaulting to MediaBox\n",
      "CropBox missing from /Page, defaulting to MediaBox\n"
     ]
    },
    {
     "name": "stdout",
     "output_type": "stream",
     "text": [
      "./data/2024/166.pdf, found extent in pdf\n",
      "-----------------\n",
      "./data/2024/167.pdf, found extent in pdf\n",
      "-----------------\n"
     ]
    },
    {
     "name": "stderr",
     "output_type": "stream",
     "text": [
      "CropBox missing from /Page, defaulting to MediaBox\n",
      "CropBox missing from /Page, defaulting to MediaBox\n"
     ]
    },
    {
     "name": "stdout",
     "output_type": "stream",
     "text": [
      "./data/2024/168.pdf, found extent in pdf\n",
      "-----------------\n"
     ]
    },
    {
     "name": "stderr",
     "output_type": "stream",
     "text": [
      "CropBox missing from /Page, defaulting to MediaBox\n",
      "CropBox missing from /Page, defaulting to MediaBox\n"
     ]
    },
    {
     "name": "stdout",
     "output_type": "stream",
     "text": [
      "./data/2024/169.pdf, found extent in pdf\n",
      "-----------------\n"
     ]
    },
    {
     "name": "stderr",
     "output_type": "stream",
     "text": [
      "CropBox missing from /Page, defaulting to MediaBox\n",
      "CropBox missing from /Page, defaulting to MediaBox\n",
      "CropBox missing from /Page, defaulting to MediaBox\n",
      "CropBox missing from /Page, defaulting to MediaBox\n"
     ]
    },
    {
     "name": "stdout",
     "output_type": "stream",
     "text": [
      "./data/2024/170.pdf, found extent in pdf\n",
      "-----------------\n",
      "./data/2024/171.pdf, found extent in pdf\n",
      "-----------------\n"
     ]
    },
    {
     "name": "stderr",
     "output_type": "stream",
     "text": [
      "CropBox missing from /Page, defaulting to MediaBox\n",
      "CropBox missing from /Page, defaulting to MediaBox\n"
     ]
    },
    {
     "name": "stdout",
     "output_type": "stream",
     "text": [
      "./data/2024/172.pdf, found extent in pdf\n",
      "-----------------\n"
     ]
    },
    {
     "name": "stderr",
     "output_type": "stream",
     "text": [
      "CropBox missing from /Page, defaulting to MediaBox\n",
      "CropBox missing from /Page, defaulting to MediaBox\n",
      "CropBox missing from /Page, defaulting to MediaBox\n",
      "CropBox missing from /Page, defaulting to MediaBox\n"
     ]
    },
    {
     "name": "stdout",
     "output_type": "stream",
     "text": [
      "./data/2024/173.pdf, found extent in pdf\n",
      "-----------------\n",
      "./data/2024/174.pdf, found extent in pdf\n",
      "-----------------\n"
     ]
    },
    {
     "name": "stderr",
     "output_type": "stream",
     "text": [
      "CropBox missing from /Page, defaulting to MediaBox\n",
      "CropBox missing from /Page, defaulting to MediaBox\n"
     ]
    },
    {
     "name": "stdout",
     "output_type": "stream",
     "text": [
      "./data/2024/175.pdf, found extent in pdf\n",
      "-----------------\n"
     ]
    },
    {
     "name": "stderr",
     "output_type": "stream",
     "text": [
      "CropBox missing from /Page, defaulting to MediaBox\n",
      "CropBox missing from /Page, defaulting to MediaBox\n",
      "CropBox missing from /Page, defaulting to MediaBox\n",
      "CropBox missing from /Page, defaulting to MediaBox\n"
     ]
    },
    {
     "name": "stdout",
     "output_type": "stream",
     "text": [
      "./data/2024/176.pdf, found extent in pdf\n",
      "-----------------\n",
      "./data/2024/177.pdf, found extent in pdf\n",
      "-----------------\n"
     ]
    },
    {
     "name": "stderr",
     "output_type": "stream",
     "text": [
      "CropBox missing from /Page, defaulting to MediaBox\n",
      "CropBox missing from /Page, defaulting to MediaBox\n",
      "CropBox missing from /Page, defaulting to MediaBox\n",
      "CropBox missing from /Page, defaulting to MediaBox\n"
     ]
    },
    {
     "name": "stdout",
     "output_type": "stream",
     "text": [
      "./data/2024/178.pdf, found extent in pdf\n",
      "-----------------\n",
      "./data/2024/179.pdf, found extent in pdf\n",
      "-----------------\n"
     ]
    },
    {
     "name": "stderr",
     "output_type": "stream",
     "text": [
      "CropBox missing from /Page, defaulting to MediaBox\n",
      "CropBox missing from /Page, defaulting to MediaBox\n"
     ]
    },
    {
     "name": "stdout",
     "output_type": "stream",
     "text": [
      "./data/2024/18.pdf, found extent in pdf\n",
      "-----------------\n"
     ]
    },
    {
     "name": "stderr",
     "output_type": "stream",
     "text": [
      "CropBox missing from /Page, defaulting to MediaBox\n",
      "CropBox missing from /Page, defaulting to MediaBox\n"
     ]
    },
    {
     "name": "stdout",
     "output_type": "stream",
     "text": [
      "./data/2024/180.pdf, found extent in pdf\n",
      "-----------------\n"
     ]
    },
    {
     "name": "stderr",
     "output_type": "stream",
     "text": [
      "CropBox missing from /Page, defaulting to MediaBox\n",
      "CropBox missing from /Page, defaulting to MediaBox\n",
      "CropBox missing from /Page, defaulting to MediaBox\n"
     ]
    },
    {
     "name": "stdout",
     "output_type": "stream",
     "text": [
      "./data/2024/181.pdf, NO\n",
      "-----------------\n"
     ]
    },
    {
     "name": "stderr",
     "output_type": "stream",
     "text": [
      "CropBox missing from /Page, defaulting to MediaBox\n",
      "CropBox missing from /Page, defaulting to MediaBox\n",
      "CropBox missing from /Page, defaulting to MediaBox\n"
     ]
    },
    {
     "name": "stdout",
     "output_type": "stream",
     "text": [
      "./data/2024/182.pdf, found extent in pdf\n",
      "-----------------\n",
      "./data/2024/183.pdf, found extent in pdf\n",
      "-----------------\n"
     ]
    },
    {
     "name": "stderr",
     "output_type": "stream",
     "text": [
      "CropBox missing from /Page, defaulting to MediaBox\n",
      "CropBox missing from /Page, defaulting to MediaBox\n"
     ]
    },
    {
     "name": "stdout",
     "output_type": "stream",
     "text": [
      "./data/2024/184.pdf, found extent in pdf\n",
      "-----------------\n"
     ]
    },
    {
     "name": "stderr",
     "output_type": "stream",
     "text": [
      "CropBox missing from /Page, defaulting to MediaBox\n",
      "CropBox missing from /Page, defaulting to MediaBox\n"
     ]
    },
    {
     "name": "stdout",
     "output_type": "stream",
     "text": [
      "./data/2024/185.pdf, found extent in pdf\n",
      "-----------------\n"
     ]
    },
    {
     "name": "stderr",
     "output_type": "stream",
     "text": [
      "CropBox missing from /Page, defaulting to MediaBox\n",
      "CropBox missing from /Page, defaulting to MediaBox\n"
     ]
    },
    {
     "name": "stdout",
     "output_type": "stream",
     "text": [
      "./data/2024/186.pdf, found extent in pdf\n",
      "-----------------\n"
     ]
    },
    {
     "name": "stderr",
     "output_type": "stream",
     "text": [
      "CropBox missing from /Page, defaulting to MediaBox\n",
      "CropBox missing from /Page, defaulting to MediaBox\n",
      "CropBox missing from /Page, defaulting to MediaBox\n",
      "CropBox missing from /Page, defaulting to MediaBox\n"
     ]
    },
    {
     "name": "stdout",
     "output_type": "stream",
     "text": [
      "./data/2024/187.pdf, found extent in pdf\n",
      "-----------------\n",
      "./data/2024/188.pdf, found extent in pdf\n",
      "-----------------\n"
     ]
    },
    {
     "name": "stderr",
     "output_type": "stream",
     "text": [
      "CropBox missing from /Page, defaulting to MediaBox\n",
      "CropBox missing from /Page, defaulting to MediaBox\n"
     ]
    },
    {
     "name": "stdout",
     "output_type": "stream",
     "text": [
      "./data/2024/189.pdf, found extent in pdf\n",
      "-----------------\n"
     ]
    },
    {
     "name": "stderr",
     "output_type": "stream",
     "text": [
      "CropBox missing from /Page, defaulting to MediaBox\n",
      "CropBox missing from /Page, defaulting to MediaBox\n",
      "CropBox missing from /Page, defaulting to MediaBox\n",
      "CropBox missing from /Page, defaulting to MediaBox\n"
     ]
    },
    {
     "name": "stdout",
     "output_type": "stream",
     "text": [
      "./data/2024/19.pdf, found extent in pdf\n",
      "-----------------\n",
      "./data/2024/190.pdf, found extent in pdf\n",
      "-----------------\n"
     ]
    },
    {
     "name": "stderr",
     "output_type": "stream",
     "text": [
      "CropBox missing from /Page, defaulting to MediaBox\n",
      "CropBox missing from /Page, defaulting to MediaBox\n",
      "CropBox missing from /Page, defaulting to MediaBox\n",
      "CropBox missing from /Page, defaulting to MediaBox\n"
     ]
    },
    {
     "name": "stdout",
     "output_type": "stream",
     "text": [
      "./data/2024/191.pdf, found extent in pdf\n",
      "-----------------\n",
      "./data/2024/192.pdf, found extent in pdf\n",
      "-----------------\n"
     ]
    },
    {
     "name": "stderr",
     "output_type": "stream",
     "text": [
      "CropBox missing from /Page, defaulting to MediaBox\n",
      "CropBox missing from /Page, defaulting to MediaBox\n",
      "CropBox missing from /Page, defaulting to MediaBox\n",
      "CropBox missing from /Page, defaulting to MediaBox\n",
      "CropBox missing from /Page, defaulting to MediaBox\n"
     ]
    },
    {
     "name": "stdout",
     "output_type": "stream",
     "text": [
      "./data/2024/193.pdf, found extent in pdf\n",
      "-----------------\n",
      "./data/2024/194.pdf, found extent in pdf\n",
      "-----------------\n"
     ]
    },
    {
     "name": "stderr",
     "output_type": "stream",
     "text": [
      "CropBox missing from /Page, defaulting to MediaBox\n",
      "CropBox missing from /Page, defaulting to MediaBox\n",
      "CropBox missing from /Page, defaulting to MediaBox\n"
     ]
    },
    {
     "name": "stdout",
     "output_type": "stream",
     "text": [
      "./data/2024/195.pdf, found extent in pdf\n",
      "-----------------\n",
      "./data/2024/197.pdf, found extent in pdf\n",
      "-----------------\n"
     ]
    },
    {
     "name": "stderr",
     "output_type": "stream",
     "text": [
      "CropBox missing from /Page, defaulting to MediaBox\n",
      "CropBox missing from /Page, defaulting to MediaBox\n"
     ]
    },
    {
     "name": "stdout",
     "output_type": "stream",
     "text": [
      "./data/2024/198.pdf, NO\n",
      "-----------------\n"
     ]
    },
    {
     "name": "stderr",
     "output_type": "stream",
     "text": [
      "CropBox missing from /Page, defaulting to MediaBox\n",
      "CropBox missing from /Page, defaulting to MediaBox\n"
     ]
    },
    {
     "name": "stdout",
     "output_type": "stream",
     "text": [
      "./data/2024/199.pdf, found extent in pdf\n",
      "-----------------\n"
     ]
    },
    {
     "name": "stderr",
     "output_type": "stream",
     "text": [
      "CropBox missing from /Page, defaulting to MediaBox\n",
      "CropBox missing from /Page, defaulting to MediaBox\n",
      "CropBox missing from /Page, defaulting to MediaBox\n",
      "CropBox missing from /Page, defaulting to MediaBox\n"
     ]
    },
    {
     "name": "stdout",
     "output_type": "stream",
     "text": [
      "./data/2024/20.pdf, found extent in pdf\n",
      "-----------------\n",
      "./data/2024/200.pdf, found extent in pdf\n",
      "-----------------\n"
     ]
    },
    {
     "name": "stderr",
     "output_type": "stream",
     "text": [
      "CropBox missing from /Page, defaulting to MediaBox\n",
      "CropBox missing from /Page, defaulting to MediaBox\n",
      "CropBox missing from /Page, defaulting to MediaBox\n",
      "CropBox missing from /Page, defaulting to MediaBox\n"
     ]
    },
    {
     "name": "stdout",
     "output_type": "stream",
     "text": [
      "./data/2024/201.pdf, found extent in pdf\n",
      "-----------------\n",
      "./data/2024/202.pdf, found extent in pdf\n",
      "-----------------\n"
     ]
    },
    {
     "name": "stderr",
     "output_type": "stream",
     "text": [
      "CropBox missing from /Page, defaulting to MediaBox\n",
      "CropBox missing from /Page, defaulting to MediaBox\n",
      "CropBox missing from /Page, defaulting to MediaBox\n",
      "CropBox missing from /Page, defaulting to MediaBox\n"
     ]
    },
    {
     "name": "stdout",
     "output_type": "stream",
     "text": [
      "./data/2024/203.pdf, found extent in pdf\n",
      "-----------------\n",
      "./data/2024/204.pdf, found extent in pdf\n",
      "-----------------\n"
     ]
    },
    {
     "name": "stderr",
     "output_type": "stream",
     "text": [
      "CropBox missing from /Page, defaulting to MediaBox\n",
      "CropBox missing from /Page, defaulting to MediaBox\n",
      "CropBox missing from /Page, defaulting to MediaBox\n",
      "CropBox missing from /Page, defaulting to MediaBox\n"
     ]
    },
    {
     "name": "stdout",
     "output_type": "stream",
     "text": [
      "./data/2024/207.pdf, found extent in pdf\n",
      "-----------------\n",
      "./data/2024/208.pdf, found extent in pdf\n",
      "-----------------\n"
     ]
    },
    {
     "name": "stderr",
     "output_type": "stream",
     "text": [
      "CropBox missing from /Page, defaulting to MediaBox\n",
      "CropBox missing from /Page, defaulting to MediaBox\n",
      "CropBox missing from /Page, defaulting to MediaBox\n",
      "CropBox missing from /Page, defaulting to MediaBox\n"
     ]
    },
    {
     "name": "stdout",
     "output_type": "stream",
     "text": [
      "./data/2024/209.pdf, found extent in pdf\n",
      "-----------------\n",
      "./data/2024/21.pdf, found extent in pdf\n",
      "-----------------\n"
     ]
    },
    {
     "name": "stderr",
     "output_type": "stream",
     "text": [
      "CropBox missing from /Page, defaulting to MediaBox\n",
      "CropBox missing from /Page, defaulting to MediaBox\n"
     ]
    },
    {
     "name": "stdout",
     "output_type": "stream",
     "text": [
      "./data/2024/210.pdf, found extent in pdf\n",
      "-----------------\n"
     ]
    },
    {
     "name": "stderr",
     "output_type": "stream",
     "text": [
      "CropBox missing from /Page, defaulting to MediaBox\n",
      "CropBox missing from /Page, defaulting to MediaBox\n"
     ]
    },
    {
     "name": "stdout",
     "output_type": "stream",
     "text": [
      "./data/2024/211.pdf, found extent in pdf\n",
      "-----------------\n"
     ]
    },
    {
     "name": "stderr",
     "output_type": "stream",
     "text": [
      "CropBox missing from /Page, defaulting to MediaBox\n",
      "CropBox missing from /Page, defaulting to MediaBox\n"
     ]
    },
    {
     "name": "stdout",
     "output_type": "stream",
     "text": [
      "./data/2024/212.pdf, found extent in pdf\n",
      "-----------------\n"
     ]
    },
    {
     "name": "stderr",
     "output_type": "stream",
     "text": [
      "CropBox missing from /Page, defaulting to MediaBox\n",
      "CropBox missing from /Page, defaulting to MediaBox\n",
      "CropBox missing from /Page, defaulting to MediaBox\n",
      "CropBox missing from /Page, defaulting to MediaBox\n"
     ]
    },
    {
     "name": "stdout",
     "output_type": "stream",
     "text": [
      "./data/2024/213.pdf, found extent in pdf\n",
      "-----------------\n",
      "./data/2024/214.pdf, found extent in pdf\n",
      "-----------------\n"
     ]
    },
    {
     "name": "stderr",
     "output_type": "stream",
     "text": [
      "CropBox missing from /Page, defaulting to MediaBox\n",
      "CropBox missing from /Page, defaulting to MediaBox\n"
     ]
    },
    {
     "name": "stdout",
     "output_type": "stream",
     "text": [
      "./data/2024/215.pdf, found extent in pdf\n",
      "-----------------\n"
     ]
    },
    {
     "name": "stderr",
     "output_type": "stream",
     "text": [
      "CropBox missing from /Page, defaulting to MediaBox\n",
      "CropBox missing from /Page, defaulting to MediaBox\n",
      "CropBox missing from /Page, defaulting to MediaBox\n",
      "CropBox missing from /Page, defaulting to MediaBox\n"
     ]
    },
    {
     "name": "stdout",
     "output_type": "stream",
     "text": [
      "./data/2024/216.pdf, found extent in pdf\n",
      "-----------------\n",
      "./data/2024/217.pdf, found extent in pdf\n",
      "-----------------\n"
     ]
    },
    {
     "name": "stderr",
     "output_type": "stream",
     "text": [
      "CropBox missing from /Page, defaulting to MediaBox\n",
      "CropBox missing from /Page, defaulting to MediaBox\n"
     ]
    },
    {
     "name": "stdout",
     "output_type": "stream",
     "text": [
      "./data/2024/219.pdf, found extent in pdf\n",
      "-----------------\n"
     ]
    },
    {
     "name": "stderr",
     "output_type": "stream",
     "text": [
      "CropBox missing from /Page, defaulting to MediaBox\n",
      "CropBox missing from /Page, defaulting to MediaBox\n"
     ]
    },
    {
     "name": "stdout",
     "output_type": "stream",
     "text": [
      "./data/2024/22.pdf, found extent in pdf\n",
      "-----------------\n"
     ]
    },
    {
     "name": "stderr",
     "output_type": "stream",
     "text": [
      "CropBox missing from /Page, defaulting to MediaBox\n",
      "CropBox missing from /Page, defaulting to MediaBox\n",
      "CropBox missing from /Page, defaulting to MediaBox\n",
      "CropBox missing from /Page, defaulting to MediaBox\n"
     ]
    },
    {
     "name": "stdout",
     "output_type": "stream",
     "text": [
      "./data/2024/220.pdf, found extent in pdf\n",
      "-----------------\n",
      "./data/2024/221.pdf, found extent in pdf\n",
      "-----------------\n"
     ]
    },
    {
     "name": "stderr",
     "output_type": "stream",
     "text": [
      "CropBox missing from /Page, defaulting to MediaBox\n",
      "CropBox missing from /Page, defaulting to MediaBox\n",
      "CropBox missing from /Page, defaulting to MediaBox\n",
      "CropBox missing from /Page, defaulting to MediaBox\n"
     ]
    },
    {
     "name": "stdout",
     "output_type": "stream",
     "text": [
      "./data/2024/222.pdf, found extent in pdf\n",
      "-----------------\n",
      "./data/2024/223.pdf, found extent in pdf\n",
      "-----------------\n"
     ]
    },
    {
     "name": "stderr",
     "output_type": "stream",
     "text": [
      "CropBox missing from /Page, defaulting to MediaBox\n",
      "CropBox missing from /Page, defaulting to MediaBox\n"
     ]
    },
    {
     "name": "stdout",
     "output_type": "stream",
     "text": [
      "./data/2024/225.pdf, found extent in pdf\n",
      "-----------------\n"
     ]
    },
    {
     "name": "stderr",
     "output_type": "stream",
     "text": [
      "CropBox missing from /Page, defaulting to MediaBox\n",
      "CropBox missing from /Page, defaulting to MediaBox\n"
     ]
    },
    {
     "name": "stdout",
     "output_type": "stream",
     "text": [
      "./data/2024/226.pdf, found extent in pdf\n",
      "-----------------\n"
     ]
    },
    {
     "name": "stderr",
     "output_type": "stream",
     "text": [
      "CropBox missing from /Page, defaulting to MediaBox\n",
      "CropBox missing from /Page, defaulting to MediaBox\n"
     ]
    },
    {
     "name": "stdout",
     "output_type": "stream",
     "text": [
      "./data/2024/227.pdf, found extent in pdf\n",
      "-----------------\n"
     ]
    },
    {
     "name": "stderr",
     "output_type": "stream",
     "text": [
      "CropBox missing from /Page, defaulting to MediaBox\n",
      "CropBox missing from /Page, defaulting to MediaBox\n"
     ]
    },
    {
     "name": "stdout",
     "output_type": "stream",
     "text": [
      "./data/2024/228.pdf, found extent in pdf\n",
      "-----------------\n"
     ]
    },
    {
     "name": "stderr",
     "output_type": "stream",
     "text": [
      "CropBox missing from /Page, defaulting to MediaBox\n",
      "CropBox missing from /Page, defaulting to MediaBox\n",
      "CropBox missing from /Page, defaulting to MediaBox\n",
      "CropBox missing from /Page, defaulting to MediaBox\n"
     ]
    },
    {
     "name": "stdout",
     "output_type": "stream",
     "text": [
      "./data/2024/229.pdf, found extent in pdf\n",
      "-----------------\n",
      "./data/2024/23.pdf, found extent in pdf\n",
      "-----------------\n"
     ]
    },
    {
     "name": "stderr",
     "output_type": "stream",
     "text": [
      "CropBox missing from /Page, defaulting to MediaBox\n",
      "CropBox missing from /Page, defaulting to MediaBox\n"
     ]
    },
    {
     "name": "stdout",
     "output_type": "stream",
     "text": [
      "./data/2024/231.pdf, found extent in pdf\n",
      "-----------------\n"
     ]
    },
    {
     "name": "stderr",
     "output_type": "stream",
     "text": [
      "CropBox missing from /Page, defaulting to MediaBox\n",
      "CropBox missing from /Page, defaulting to MediaBox\n",
      "CropBox missing from /Page, defaulting to MediaBox\n",
      "CropBox missing from /Page, defaulting to MediaBox\n"
     ]
    },
    {
     "name": "stdout",
     "output_type": "stream",
     "text": [
      "./data/2024/232.pdf, found extent in pdf\n",
      "-----------------\n",
      "./data/2024/233.pdf, found extent in pdf\n",
      "-----------------\n"
     ]
    },
    {
     "name": "stderr",
     "output_type": "stream",
     "text": [
      "CropBox missing from /Page, defaulting to MediaBox\n",
      "CropBox missing from /Page, defaulting to MediaBox\n",
      "CropBox missing from /Page, defaulting to MediaBox\n",
      "CropBox missing from /Page, defaulting to MediaBox\n"
     ]
    },
    {
     "name": "stdout",
     "output_type": "stream",
     "text": [
      "./data/2024/234.pdf, found extent in pdf\n",
      "-----------------\n",
      "./data/2024/235.pdf, found extent in pdf\n",
      "-----------------\n"
     ]
    },
    {
     "name": "stderr",
     "output_type": "stream",
     "text": [
      "CropBox missing from /Page, defaulting to MediaBox\n",
      "CropBox missing from /Page, defaulting to MediaBox\n",
      "CropBox missing from /Page, defaulting to MediaBox\n",
      "CropBox missing from /Page, defaulting to MediaBox\n"
     ]
    },
    {
     "name": "stdout",
     "output_type": "stream",
     "text": [
      "./data/2024/237.pdf, found extent in pdf\n",
      "-----------------\n",
      "./data/2024/238.pdf, found extent in pdf\n",
      "-----------------\n"
     ]
    },
    {
     "name": "stderr",
     "output_type": "stream",
     "text": [
      "CropBox missing from /Page, defaulting to MediaBox\n",
      "CropBox missing from /Page, defaulting to MediaBox\n"
     ]
    },
    {
     "name": "stdout",
     "output_type": "stream",
     "text": [
      "./data/2024/24.pdf, found extent in pdf\n",
      "-----------------\n"
     ]
    },
    {
     "name": "stderr",
     "output_type": "stream",
     "text": [
      "CropBox missing from /Page, defaulting to MediaBox\n",
      "CropBox missing from /Page, defaulting to MediaBox\n",
      "CropBox missing from /Page, defaulting to MediaBox\n",
      "CropBox missing from /Page, defaulting to MediaBox\n"
     ]
    },
    {
     "name": "stdout",
     "output_type": "stream",
     "text": [
      "./data/2024/240.pdf, found extent in pdf\n",
      "-----------------\n",
      "./data/2024/241.pdf, found extent in pdf\n",
      "-----------------\n"
     ]
    },
    {
     "name": "stderr",
     "output_type": "stream",
     "text": [
      "CropBox missing from /Page, defaulting to MediaBox\n",
      "CropBox missing from /Page, defaulting to MediaBox\n"
     ]
    },
    {
     "name": "stdout",
     "output_type": "stream",
     "text": [
      "./data/2024/242.pdf, found extent in pdf\n",
      "-----------------\n"
     ]
    },
    {
     "name": "stderr",
     "output_type": "stream",
     "text": [
      "CropBox missing from /Page, defaulting to MediaBox\n",
      "CropBox missing from /Page, defaulting to MediaBox\n"
     ]
    },
    {
     "name": "stdout",
     "output_type": "stream",
     "text": [
      "./data/2024/243.pdf, found extent in pdf\n",
      "-----------------\n"
     ]
    },
    {
     "name": "stderr",
     "output_type": "stream",
     "text": [
      "CropBox missing from /Page, defaulting to MediaBox\n",
      "CropBox missing from /Page, defaulting to MediaBox\n",
      "CropBox missing from /Page, defaulting to MediaBox\n",
      "CropBox missing from /Page, defaulting to MediaBox\n"
     ]
    },
    {
     "name": "stdout",
     "output_type": "stream",
     "text": [
      "./data/2024/244.pdf, found extent in pdf\n",
      "-----------------\n",
      "./data/2024/245.pdf, found extent in pdf\n",
      "-----------------\n"
     ]
    },
    {
     "name": "stderr",
     "output_type": "stream",
     "text": [
      "CropBox missing from /Page, defaulting to MediaBox\n",
      "CropBox missing from /Page, defaulting to MediaBox\n",
      "CropBox missing from /Page, defaulting to MediaBox\n",
      "CropBox missing from /Page, defaulting to MediaBox\n"
     ]
    },
    {
     "name": "stdout",
     "output_type": "stream",
     "text": [
      "./data/2024/246.pdf, found extent in pdf\n",
      "-----------------\n",
      "./data/2024/247.pdf, found extent in pdf\n",
      "-----------------\n"
     ]
    },
    {
     "name": "stderr",
     "output_type": "stream",
     "text": [
      "CropBox missing from /Page, defaulting to MediaBox\n",
      "CropBox missing from /Page, defaulting to MediaBox\n"
     ]
    },
    {
     "name": "stdout",
     "output_type": "stream",
     "text": [
      "./data/2024/248.pdf, found extent in pdf\n",
      "-----------------\n"
     ]
    },
    {
     "name": "stderr",
     "output_type": "stream",
     "text": [
      "CropBox missing from /Page, defaulting to MediaBox\n",
      "CropBox missing from /Page, defaulting to MediaBox\n",
      "CropBox missing from /Page, defaulting to MediaBox\n",
      "CropBox missing from /Page, defaulting to MediaBox\n"
     ]
    },
    {
     "name": "stdout",
     "output_type": "stream",
     "text": [
      "./data/2024/249.pdf, found extent in pdf\n",
      "-----------------\n",
      "./data/2024/25.pdf, found extent in pdf\n",
      "-----------------\n"
     ]
    },
    {
     "name": "stderr",
     "output_type": "stream",
     "text": [
      "CropBox missing from /Page, defaulting to MediaBox\n",
      "CropBox missing from /Page, defaulting to MediaBox\n",
      "CropBox missing from /Page, defaulting to MediaBox\n",
      "CropBox missing from /Page, defaulting to MediaBox\n"
     ]
    },
    {
     "name": "stdout",
     "output_type": "stream",
     "text": [
      "./data/2024/250.pdf, found extent in pdf\n",
      "-----------------\n",
      "./data/2024/251.pdf, found extent in pdf\n",
      "-----------------\n"
     ]
    },
    {
     "name": "stderr",
     "output_type": "stream",
     "text": [
      "CropBox missing from /Page, defaulting to MediaBox\n",
      "CropBox missing from /Page, defaulting to MediaBox\n"
     ]
    },
    {
     "name": "stdout",
     "output_type": "stream",
     "text": [
      "./data/2024/252.pdf, found extent in pdf\n",
      "-----------------\n"
     ]
    },
    {
     "name": "stderr",
     "output_type": "stream",
     "text": [
      "CropBox missing from /Page, defaulting to MediaBox\n",
      "CropBox missing from /Page, defaulting to MediaBox\n",
      "CropBox missing from /Page, defaulting to MediaBox\n",
      "CropBox missing from /Page, defaulting to MediaBox\n"
     ]
    },
    {
     "name": "stdout",
     "output_type": "stream",
     "text": [
      "./data/2024/253.pdf, found extent in pdf\n",
      "-----------------\n",
      "./data/2024/254.pdf, found extent in pdf\n",
      "-----------------\n"
     ]
    },
    {
     "name": "stderr",
     "output_type": "stream",
     "text": [
      "CropBox missing from /Page, defaulting to MediaBox\n",
      "CropBox missing from /Page, defaulting to MediaBox\n",
      "CropBox missing from /Page, defaulting to MediaBox\n",
      "CropBox missing from /Page, defaulting to MediaBox\n"
     ]
    },
    {
     "name": "stdout",
     "output_type": "stream",
     "text": [
      "./data/2024/255.pdf, found extent in pdf\n",
      "-----------------\n",
      "./data/2024/256.pdf, found extent in pdf\n",
      "-----------------\n"
     ]
    },
    {
     "name": "stderr",
     "output_type": "stream",
     "text": [
      "CropBox missing from /Page, defaulting to MediaBox\n",
      "CropBox missing from /Page, defaulting to MediaBox\n",
      "CropBox missing from /Page, defaulting to MediaBox\n",
      "CropBox missing from /Page, defaulting to MediaBox\n"
     ]
    },
    {
     "name": "stdout",
     "output_type": "stream",
     "text": [
      "./data/2024/257.pdf, found extent in pdf\n",
      "-----------------\n",
      "./data/2024/258.pdf, found extent in pdf\n",
      "-----------------\n"
     ]
    },
    {
     "name": "stderr",
     "output_type": "stream",
     "text": [
      "CropBox missing from /Page, defaulting to MediaBox\n",
      "CropBox missing from /Page, defaulting to MediaBox\n"
     ]
    },
    {
     "name": "stdout",
     "output_type": "stream",
     "text": [
      "./data/2024/259.pdf, found extent in pdf\n",
      "-----------------\n"
     ]
    },
    {
     "name": "stderr",
     "output_type": "stream",
     "text": [
      "CropBox missing from /Page, defaulting to MediaBox\n",
      "CropBox missing from /Page, defaulting to MediaBox\n",
      "CropBox missing from /Page, defaulting to MediaBox\n",
      "CropBox missing from /Page, defaulting to MediaBox\n"
     ]
    },
    {
     "name": "stdout",
     "output_type": "stream",
     "text": [
      "./data/2024/26.pdf, found extent in pdf\n",
      "-----------------\n",
      "./data/2024/260.pdf, found extent in pdf\n",
      "-----------------\n"
     ]
    },
    {
     "name": "stderr",
     "output_type": "stream",
     "text": [
      "CropBox missing from /Page, defaulting to MediaBox\n",
      "CropBox missing from /Page, defaulting to MediaBox\n"
     ]
    },
    {
     "name": "stdout",
     "output_type": "stream",
     "text": [
      "./data/2024/261.pdf, found extent in pdf\n",
      "-----------------\n"
     ]
    },
    {
     "name": "stderr",
     "output_type": "stream",
     "text": [
      "CropBox missing from /Page, defaulting to MediaBox\n",
      "CropBox missing from /Page, defaulting to MediaBox\n",
      "CropBox missing from /Page, defaulting to MediaBox\n",
      "CropBox missing from /Page, defaulting to MediaBox\n"
     ]
    },
    {
     "name": "stdout",
     "output_type": "stream",
     "text": [
      "./data/2024/262.pdf, found extent in pdf\n",
      "-----------------\n",
      "./data/2024/263.pdf, found extent in pdf\n",
      "-----------------\n"
     ]
    },
    {
     "name": "stderr",
     "output_type": "stream",
     "text": [
      "CropBox missing from /Page, defaulting to MediaBox\n",
      "CropBox missing from /Page, defaulting to MediaBox\n",
      "CropBox missing from /Page, defaulting to MediaBox\n",
      "CropBox missing from /Page, defaulting to MediaBox\n"
     ]
    },
    {
     "name": "stdout",
     "output_type": "stream",
     "text": [
      "./data/2024/264.pdf, found extent in pdf\n",
      "-----------------\n",
      "./data/2024/265.pdf, found extent in pdf\n",
      "-----------------\n"
     ]
    },
    {
     "name": "stderr",
     "output_type": "stream",
     "text": [
      "CropBox missing from /Page, defaulting to MediaBox\n",
      "CropBox missing from /Page, defaulting to MediaBox\n"
     ]
    },
    {
     "name": "stdout",
     "output_type": "stream",
     "text": [
      "./data/2024/266.pdf, found extent in pdf\n",
      "-----------------\n"
     ]
    },
    {
     "name": "stderr",
     "output_type": "stream",
     "text": [
      "CropBox missing from /Page, defaulting to MediaBox\n",
      "CropBox missing from /Page, defaulting to MediaBox\n",
      "CropBox missing from /Page, defaulting to MediaBox\n",
      "CropBox missing from /Page, defaulting to MediaBox\n"
     ]
    },
    {
     "name": "stdout",
     "output_type": "stream",
     "text": [
      "./data/2024/267.pdf, found extent in pdf\n",
      "-----------------\n",
      "./data/2024/268.pdf, found extent in pdf\n",
      "-----------------\n"
     ]
    },
    {
     "name": "stderr",
     "output_type": "stream",
     "text": [
      "CropBox missing from /Page, defaulting to MediaBox\n",
      "CropBox missing from /Page, defaulting to MediaBox\n",
      "CropBox missing from /Page, defaulting to MediaBox\n",
      "CropBox missing from /Page, defaulting to MediaBox\n"
     ]
    },
    {
     "name": "stdout",
     "output_type": "stream",
     "text": [
      "./data/2024/269.pdf, found extent in pdf\n",
      "-----------------\n",
      "./data/2024/27.pdf, found extent in pdf\n",
      "-----------------\n"
     ]
    },
    {
     "name": "stderr",
     "output_type": "stream",
     "text": [
      "CropBox missing from /Page, defaulting to MediaBox\n",
      "CropBox missing from /Page, defaulting to MediaBox\n",
      "CropBox missing from /Page, defaulting to MediaBox\n",
      "CropBox missing from /Page, defaulting to MediaBox\n"
     ]
    },
    {
     "name": "stdout",
     "output_type": "stream",
     "text": [
      "./data/2024/270.pdf, found extent in pdf\n",
      "-----------------\n",
      "./data/2024/273.pdf, found extent in pdf\n",
      "-----------------\n"
     ]
    },
    {
     "name": "stderr",
     "output_type": "stream",
     "text": [
      "CropBox missing from /Page, defaulting to MediaBox\n",
      "CropBox missing from /Page, defaulting to MediaBox\n"
     ]
    },
    {
     "name": "stdout",
     "output_type": "stream",
     "text": [
      "./data/2024/274.pdf, found extent in pdf\n",
      "-----------------\n"
     ]
    },
    {
     "name": "stderr",
     "output_type": "stream",
     "text": [
      "CropBox missing from /Page, defaulting to MediaBox\n",
      "CropBox missing from /Page, defaulting to MediaBox\n"
     ]
    },
    {
     "name": "stdout",
     "output_type": "stream",
     "text": [
      "./data/2024/275.pdf, found extent in pdf\n",
      "-----------------\n"
     ]
    },
    {
     "name": "stderr",
     "output_type": "stream",
     "text": [
      "CropBox missing from /Page, defaulting to MediaBox\n",
      "CropBox missing from /Page, defaulting to MediaBox\n",
      "CropBox missing from /Page, defaulting to MediaBox\n",
      "CropBox missing from /Page, defaulting to MediaBox\n"
     ]
    },
    {
     "name": "stdout",
     "output_type": "stream",
     "text": [
      "./data/2024/276.pdf, found extent in pdf\n",
      "-----------------\n",
      "./data/2024/277.pdf, found extent in pdf\n",
      "-----------------\n"
     ]
    },
    {
     "name": "stderr",
     "output_type": "stream",
     "text": [
      "CropBox missing from /Page, defaulting to MediaBox\n",
      "CropBox missing from /Page, defaulting to MediaBox\n",
      "CropBox missing from /Page, defaulting to MediaBox\n",
      "CropBox missing from /Page, defaulting to MediaBox\n"
     ]
    },
    {
     "name": "stdout",
     "output_type": "stream",
     "text": [
      "./data/2024/278.pdf, found extent in pdf\n",
      "-----------------\n",
      "./data/2024/279.pdf, found extent in pdf\n",
      "-----------------\n"
     ]
    },
    {
     "name": "stderr",
     "output_type": "stream",
     "text": [
      "CropBox missing from /Page, defaulting to MediaBox\n",
      "CropBox missing from /Page, defaulting to MediaBox\n",
      "CropBox missing from /Page, defaulting to MediaBox\n",
      "CropBox missing from /Page, defaulting to MediaBox\n"
     ]
    },
    {
     "name": "stdout",
     "output_type": "stream",
     "text": [
      "./data/2024/28.pdf, found extent in pdf\n",
      "-----------------\n",
      "./data/2024/280.pdf, found extent in pdf\n",
      "-----------------\n"
     ]
    },
    {
     "name": "stderr",
     "output_type": "stream",
     "text": [
      "CropBox missing from /Page, defaulting to MediaBox\n",
      "CropBox missing from /Page, defaulting to MediaBox\n"
     ]
    },
    {
     "name": "stdout",
     "output_type": "stream",
     "text": [
      "./data/2024/281.pdf, found extent in pdf\n",
      "-----------------\n"
     ]
    },
    {
     "name": "stderr",
     "output_type": "stream",
     "text": [
      "CropBox missing from /Page, defaulting to MediaBox\n",
      "CropBox missing from /Page, defaulting to MediaBox\n"
     ]
    },
    {
     "name": "stdout",
     "output_type": "stream",
     "text": [
      "./data/2024/282.pdf, found extent in pdf\n",
      "-----------------\n"
     ]
    },
    {
     "name": "stderr",
     "output_type": "stream",
     "text": [
      "CropBox missing from /Page, defaulting to MediaBox\n",
      "CropBox missing from /Page, defaulting to MediaBox\n"
     ]
    },
    {
     "name": "stdout",
     "output_type": "stream",
     "text": [
      "./data/2024/283.pdf, found extent in pdf\n",
      "-----------------\n"
     ]
    },
    {
     "name": "stderr",
     "output_type": "stream",
     "text": [
      "CropBox missing from /Page, defaulting to MediaBox\n",
      "CropBox missing from /Page, defaulting to MediaBox\n"
     ]
    },
    {
     "name": "stdout",
     "output_type": "stream",
     "text": [
      "./data/2024/286.pdf, found extent in pdf\n",
      "-----------------\n"
     ]
    },
    {
     "name": "stderr",
     "output_type": "stream",
     "text": [
      "CropBox missing from /Page, defaulting to MediaBox\n",
      "CropBox missing from /Page, defaulting to MediaBox\n"
     ]
    },
    {
     "name": "stdout",
     "output_type": "stream",
     "text": [
      "./data/2024/287.pdf, found extent in pdf\n",
      "-----------------\n"
     ]
    },
    {
     "name": "stderr",
     "output_type": "stream",
     "text": [
      "CropBox missing from /Page, defaulting to MediaBox\n",
      "CropBox missing from /Page, defaulting to MediaBox\n"
     ]
    },
    {
     "name": "stdout",
     "output_type": "stream",
     "text": [
      "./data/2024/288.pdf, found extent in pdf\n",
      "-----------------\n"
     ]
    },
    {
     "name": "stderr",
     "output_type": "stream",
     "text": [
      "CropBox missing from /Page, defaulting to MediaBox\n",
      "CropBox missing from /Page, defaulting to MediaBox\n"
     ]
    },
    {
     "name": "stdout",
     "output_type": "stream",
     "text": [
      "./data/2024/289.pdf, found extent in pdf\n",
      "-----------------\n"
     ]
    },
    {
     "name": "stderr",
     "output_type": "stream",
     "text": [
      "CropBox missing from /Page, defaulting to MediaBox\n",
      "CropBox missing from /Page, defaulting to MediaBox\n"
     ]
    },
    {
     "name": "stdout",
     "output_type": "stream",
     "text": [
      "./data/2024/29.pdf, found extent in pdf\n",
      "-----------------\n"
     ]
    },
    {
     "name": "stderr",
     "output_type": "stream",
     "text": [
      "CropBox missing from /Page, defaulting to MediaBox\n",
      "CropBox missing from /Page, defaulting to MediaBox\n",
      "CropBox missing from /Page, defaulting to MediaBox\n",
      "CropBox missing from /Page, defaulting to MediaBox\n"
     ]
    },
    {
     "name": "stdout",
     "output_type": "stream",
     "text": [
      "./data/2024/291.pdf, found extent in pdf\n",
      "-----------------\n",
      "./data/2024/292.pdf, found extent in pdf\n",
      "-----------------\n"
     ]
    },
    {
     "name": "stderr",
     "output_type": "stream",
     "text": [
      "CropBox missing from /Page, defaulting to MediaBox\n",
      "CropBox missing from /Page, defaulting to MediaBox\n"
     ]
    },
    {
     "name": "stdout",
     "output_type": "stream",
     "text": [
      "./data/2024/293.pdf, found extent in pdf\n",
      "-----------------\n"
     ]
    },
    {
     "name": "stderr",
     "output_type": "stream",
     "text": [
      "CropBox missing from /Page, defaulting to MediaBox\n",
      "CropBox missing from /Page, defaulting to MediaBox\n"
     ]
    },
    {
     "name": "stdout",
     "output_type": "stream",
     "text": [
      "./data/2024/295.pdf, found extent in pdf\n",
      "-----------------\n"
     ]
    },
    {
     "name": "stderr",
     "output_type": "stream",
     "text": [
      "CropBox missing from /Page, defaulting to MediaBox\n",
      "CropBox missing from /Page, defaulting to MediaBox\n"
     ]
    },
    {
     "name": "stdout",
     "output_type": "stream",
     "text": [
      "./data/2024/298.pdf, found extent in pdf\n",
      "-----------------\n"
     ]
    },
    {
     "name": "stderr",
     "output_type": "stream",
     "text": [
      "CropBox missing from /Page, defaulting to MediaBox\n",
      "CropBox missing from /Page, defaulting to MediaBox\n",
      "CropBox missing from /Page, defaulting to MediaBox\n",
      "CropBox missing from /Page, defaulting to MediaBox\n"
     ]
    },
    {
     "name": "stdout",
     "output_type": "stream",
     "text": [
      "./data/2024/30.pdf, found extent in pdf\n",
      "-----------------\n",
      "./data/2024/300.pdf, found extent in pdf\n",
      "-----------------\n"
     ]
    },
    {
     "name": "stderr",
     "output_type": "stream",
     "text": [
      "CropBox missing from /Page, defaulting to MediaBox\n",
      "CropBox missing from /Page, defaulting to MediaBox\n"
     ]
    },
    {
     "name": "stdout",
     "output_type": "stream",
     "text": [
      "./data/2024/301.pdf, found extent in pdf\n",
      "-----------------\n"
     ]
    },
    {
     "name": "stderr",
     "output_type": "stream",
     "text": [
      "CropBox missing from /Page, defaulting to MediaBox\n",
      "CropBox missing from /Page, defaulting to MediaBox\n",
      "CropBox missing from /Page, defaulting to MediaBox\n",
      "CropBox missing from /Page, defaulting to MediaBox\n"
     ]
    },
    {
     "name": "stdout",
     "output_type": "stream",
     "text": [
      "./data/2024/302.pdf, found extent in pdf\n",
      "-----------------\n",
      "./data/2024/303.pdf, found extent in pdf\n",
      "-----------------\n"
     ]
    },
    {
     "name": "stderr",
     "output_type": "stream",
     "text": [
      "CropBox missing from /Page, defaulting to MediaBox\n",
      "CropBox missing from /Page, defaulting to MediaBox\n"
     ]
    },
    {
     "name": "stdout",
     "output_type": "stream",
     "text": [
      "./data/2024/304.pdf, found extent in pdf\n",
      "-----------------\n"
     ]
    },
    {
     "name": "stderr",
     "output_type": "stream",
     "text": [
      "CropBox missing from /Page, defaulting to MediaBox\n",
      "CropBox missing from /Page, defaulting to MediaBox\n",
      "CropBox missing from /Page, defaulting to MediaBox\n",
      "CropBox missing from /Page, defaulting to MediaBox\n"
     ]
    },
    {
     "name": "stdout",
     "output_type": "stream",
     "text": [
      "./data/2024/307.pdf, found extent in pdf\n",
      "-----------------\n",
      "./data/2024/308.pdf, found extent in pdf\n",
      "-----------------\n"
     ]
    },
    {
     "name": "stderr",
     "output_type": "stream",
     "text": [
      "CropBox missing from /Page, defaulting to MediaBox\n",
      "CropBox missing from /Page, defaulting to MediaBox\n",
      "CropBox missing from /Page, defaulting to MediaBox\n"
     ]
    },
    {
     "name": "stdout",
     "output_type": "stream",
     "text": [
      "./data/2024/309.pdf, found extent in pdf\n",
      "-----------------\n",
      "./data/2024/31.pdf, found extent in pdf\n",
      "-----------------\n"
     ]
    },
    {
     "name": "stderr",
     "output_type": "stream",
     "text": [
      "CropBox missing from /Page, defaulting to MediaBox\n",
      "CropBox missing from /Page, defaulting to MediaBox\n",
      "CropBox missing from /Page, defaulting to MediaBox\n",
      "CropBox missing from /Page, defaulting to MediaBox\n",
      "CropBox missing from /Page, defaulting to MediaBox\n"
     ]
    },
    {
     "name": "stdout",
     "output_type": "stream",
     "text": [
      "./data/2024/32.pdf, found extent in pdf\n",
      "-----------------\n",
      "./data/2024/33.pdf, found extent in pdf\n",
      "-----------------\n"
     ]
    },
    {
     "name": "stderr",
     "output_type": "stream",
     "text": [
      "CropBox missing from /Page, defaulting to MediaBox\n",
      "CropBox missing from /Page, defaulting to MediaBox\n"
     ]
    },
    {
     "name": "stdout",
     "output_type": "stream",
     "text": [
      "./data/2024/34.pdf, found extent in pdf\n",
      "-----------------\n"
     ]
    },
    {
     "name": "stderr",
     "output_type": "stream",
     "text": [
      "CropBox missing from /Page, defaulting to MediaBox\n",
      "CropBox missing from /Page, defaulting to MediaBox\n"
     ]
    },
    {
     "name": "stdout",
     "output_type": "stream",
     "text": [
      "./data/2024/35.pdf, found extent in pdf\n",
      "-----------------\n"
     ]
    },
    {
     "name": "stderr",
     "output_type": "stream",
     "text": [
      "CropBox missing from /Page, defaulting to MediaBox\n",
      "CropBox missing from /Page, defaulting to MediaBox\n"
     ]
    },
    {
     "name": "stdout",
     "output_type": "stream",
     "text": [
      "./data/2024/36.pdf, found extent in pdf\n",
      "-----------------\n"
     ]
    },
    {
     "name": "stderr",
     "output_type": "stream",
     "text": [
      "CropBox missing from /Page, defaulting to MediaBox\n",
      "CropBox missing from /Page, defaulting to MediaBox\n"
     ]
    },
    {
     "name": "stdout",
     "output_type": "stream",
     "text": [
      "./data/2024/38.pdf, found extent in pdf\n",
      "-----------------\n"
     ]
    },
    {
     "name": "stderr",
     "output_type": "stream",
     "text": [
      "CropBox missing from /Page, defaulting to MediaBox\n",
      "CropBox missing from /Page, defaulting to MediaBox\n",
      "CropBox missing from /Page, defaulting to MediaBox\n",
      "CropBox missing from /Page, defaulting to MediaBox\n"
     ]
    },
    {
     "name": "stdout",
     "output_type": "stream",
     "text": [
      "./data/2024/39.pdf, found extent in pdf\n",
      "-----------------\n",
      "./data/2024/40.pdf, found extent in pdf\n",
      "-----------------\n"
     ]
    },
    {
     "name": "stderr",
     "output_type": "stream",
     "text": [
      "CropBox missing from /Page, defaulting to MediaBox\n",
      "CropBox missing from /Page, defaulting to MediaBox\n"
     ]
    },
    {
     "name": "stdout",
     "output_type": "stream",
     "text": [
      "./data/2024/41.pdf, found extent in pdf\n",
      "-----------------\n"
     ]
    },
    {
     "name": "stderr",
     "output_type": "stream",
     "text": [
      "CropBox missing from /Page, defaulting to MediaBox\n",
      "CropBox missing from /Page, defaulting to MediaBox\n"
     ]
    },
    {
     "name": "stdout",
     "output_type": "stream",
     "text": [
      "./data/2024/42.pdf, found extent in pdf\n",
      "-----------------\n"
     ]
    },
    {
     "name": "stderr",
     "output_type": "stream",
     "text": [
      "CropBox missing from /Page, defaulting to MediaBox\n",
      "CropBox missing from /Page, defaulting to MediaBox\n"
     ]
    },
    {
     "name": "stdout",
     "output_type": "stream",
     "text": [
      "./data/2024/43.pdf, found extent in pdf\n",
      "-----------------\n"
     ]
    },
    {
     "name": "stderr",
     "output_type": "stream",
     "text": [
      "CropBox missing from /Page, defaulting to MediaBox\n",
      "CropBox missing from /Page, defaulting to MediaBox\n",
      "CropBox missing from /Page, defaulting to MediaBox\n",
      "CropBox missing from /Page, defaulting to MediaBox\n"
     ]
    },
    {
     "name": "stdout",
     "output_type": "stream",
     "text": [
      "./data/2024/44.pdf, found extent in pdf\n",
      "-----------------\n",
      "./data/2024/45.pdf, found extent in pdf\n",
      "-----------------\n"
     ]
    },
    {
     "name": "stderr",
     "output_type": "stream",
     "text": [
      "CropBox missing from /Page, defaulting to MediaBox\n",
      "CropBox missing from /Page, defaulting to MediaBox\n",
      "CropBox missing from /Page, defaulting to MediaBox\n",
      "CropBox missing from /Page, defaulting to MediaBox\n"
     ]
    },
    {
     "name": "stdout",
     "output_type": "stream",
     "text": [
      "./data/2024/46.pdf, found extent in pdf\n",
      "-----------------\n",
      "./data/2024/47.pdf, found extent in pdf\n",
      "-----------------\n"
     ]
    },
    {
     "name": "stderr",
     "output_type": "stream",
     "text": [
      "CropBox missing from /Page, defaulting to MediaBox\n",
      "CropBox missing from /Page, defaulting to MediaBox\n",
      "CropBox missing from /Page, defaulting to MediaBox\n",
      "CropBox missing from /Page, defaulting to MediaBox\n"
     ]
    },
    {
     "name": "stdout",
     "output_type": "stream",
     "text": [
      "./data/2024/48.pdf, found extent in pdf\n",
      "-----------------\n",
      "./data/2024/49.pdf, found extent in pdf\n",
      "-----------------\n"
     ]
    },
    {
     "name": "stderr",
     "output_type": "stream",
     "text": [
      "CropBox missing from /Page, defaulting to MediaBox\n",
      "CropBox missing from /Page, defaulting to MediaBox\n"
     ]
    },
    {
     "name": "stdout",
     "output_type": "stream",
     "text": [
      "./data/2024/50.pdf, NO\n",
      "-----------------\n"
     ]
    },
    {
     "name": "stderr",
     "output_type": "stream",
     "text": [
      "CropBox missing from /Page, defaulting to MediaBox\n",
      "CropBox missing from /Page, defaulting to MediaBox\n"
     ]
    },
    {
     "name": "stdout",
     "output_type": "stream",
     "text": [
      "./data/2024/51.pdf, found extent in pdf\n",
      "-----------------\n"
     ]
    },
    {
     "name": "stderr",
     "output_type": "stream",
     "text": [
      "CropBox missing from /Page, defaulting to MediaBox\n",
      "CropBox missing from /Page, defaulting to MediaBox\n"
     ]
    },
    {
     "name": "stdout",
     "output_type": "stream",
     "text": [
      "./data/2024/52.pdf, found extent in pdf\n",
      "-----------------\n"
     ]
    },
    {
     "name": "stderr",
     "output_type": "stream",
     "text": [
      "CropBox missing from /Page, defaulting to MediaBox\n",
      "CropBox missing from /Page, defaulting to MediaBox\n"
     ]
    },
    {
     "name": "stdout",
     "output_type": "stream",
     "text": [
      "./data/2024/53.pdf, found extent in pdf\n",
      "-----------------\n"
     ]
    },
    {
     "name": "stderr",
     "output_type": "stream",
     "text": [
      "CropBox missing from /Page, defaulting to MediaBox\n",
      "CropBox missing from /Page, defaulting to MediaBox\n"
     ]
    },
    {
     "name": "stdout",
     "output_type": "stream",
     "text": [
      "./data/2024/54.pdf, found extent in pdf\n",
      "-----------------\n"
     ]
    },
    {
     "name": "stderr",
     "output_type": "stream",
     "text": [
      "CropBox missing from /Page, defaulting to MediaBox\n",
      "CropBox missing from /Page, defaulting to MediaBox\n"
     ]
    },
    {
     "name": "stdout",
     "output_type": "stream",
     "text": [
      "./data/2024/55.pdf, found extent in pdf\n",
      "-----------------\n"
     ]
    },
    {
     "name": "stderr",
     "output_type": "stream",
     "text": [
      "CropBox missing from /Page, defaulting to MediaBox\n",
      "CropBox missing from /Page, defaulting to MediaBox\n"
     ]
    },
    {
     "name": "stdout",
     "output_type": "stream",
     "text": [
      "./data/2024/56.pdf, found extent in pdf\n",
      "-----------------\n"
     ]
    },
    {
     "name": "stderr",
     "output_type": "stream",
     "text": [
      "CropBox missing from /Page, defaulting to MediaBox\n",
      "CropBox missing from /Page, defaulting to MediaBox\n"
     ]
    },
    {
     "name": "stdout",
     "output_type": "stream",
     "text": [
      "./data/2024/57.pdf, NO\n",
      "-----------------\n"
     ]
    },
    {
     "name": "stderr",
     "output_type": "stream",
     "text": [
      "CropBox missing from /Page, defaulting to MediaBox\n",
      "CropBox missing from /Page, defaulting to MediaBox\n",
      "CropBox missing from /Page, defaulting to MediaBox\n",
      "CropBox missing from /Page, defaulting to MediaBox\n"
     ]
    },
    {
     "name": "stdout",
     "output_type": "stream",
     "text": [
      "./data/2024/58.pdf, found extent in pdf\n",
      "-----------------\n",
      "./data/2024/59.pdf, found extent in pdf\n",
      "-----------------\n"
     ]
    },
    {
     "name": "stderr",
     "output_type": "stream",
     "text": [
      "CropBox missing from /Page, defaulting to MediaBox\n",
      "CropBox missing from /Page, defaulting to MediaBox\n"
     ]
    },
    {
     "name": "stdout",
     "output_type": "stream",
     "text": [
      "./data/2024/60.pdf, found extent in pdf\n",
      "-----------------\n"
     ]
    },
    {
     "name": "stderr",
     "output_type": "stream",
     "text": [
      "CropBox missing from /Page, defaulting to MediaBox\n",
      "CropBox missing from /Page, defaulting to MediaBox\n"
     ]
    },
    {
     "name": "stdout",
     "output_type": "stream",
     "text": [
      "./data/2024/61.pdf, found extent in pdf\n",
      "-----------------\n"
     ]
    },
    {
     "name": "stderr",
     "output_type": "stream",
     "text": [
      "CropBox missing from /Page, defaulting to MediaBox\n",
      "CropBox missing from /Page, defaulting to MediaBox\n"
     ]
    },
    {
     "name": "stdout",
     "output_type": "stream",
     "text": [
      "./data/2024/62.pdf, found extent in pdf\n",
      "-----------------\n"
     ]
    },
    {
     "name": "stderr",
     "output_type": "stream",
     "text": [
      "CropBox missing from /Page, defaulting to MediaBox\n",
      "CropBox missing from /Page, defaulting to MediaBox\n"
     ]
    },
    {
     "name": "stdout",
     "output_type": "stream",
     "text": [
      "./data/2024/63.pdf, found extent in pdf\n",
      "-----------------\n"
     ]
    },
    {
     "name": "stderr",
     "output_type": "stream",
     "text": [
      "CropBox missing from /Page, defaulting to MediaBox\n",
      "CropBox missing from /Page, defaulting to MediaBox\n"
     ]
    },
    {
     "name": "stdout",
     "output_type": "stream",
     "text": [
      "./data/2024/64.pdf, found extent in pdf\n",
      "-----------------\n"
     ]
    },
    {
     "name": "stderr",
     "output_type": "stream",
     "text": [
      "CropBox missing from /Page, defaulting to MediaBox\n",
      "CropBox missing from /Page, defaulting to MediaBox\n",
      "CropBox missing from /Page, defaulting to MediaBox\n"
     ]
    },
    {
     "name": "stdout",
     "output_type": "stream",
     "text": [
      "./data/2024/65.pdf, found extent in pdf\n",
      "-----------------\n"
     ]
    },
    {
     "name": "stderr",
     "output_type": "stream",
     "text": [
      "CropBox missing from /Page, defaulting to MediaBox\n"
     ]
    },
    {
     "name": "stdout",
     "output_type": "stream",
     "text": [
      "./data/2024/66.pdf, found extent in pdf\n",
      "-----------------\n"
     ]
    },
    {
     "name": "stderr",
     "output_type": "stream",
     "text": [
      "CropBox missing from /Page, defaulting to MediaBox\n",
      "CropBox missing from /Page, defaulting to MediaBox\n"
     ]
    },
    {
     "name": "stdout",
     "output_type": "stream",
     "text": [
      "./data/2024/67.pdf, found extent in pdf\n",
      "-----------------\n"
     ]
    },
    {
     "name": "stderr",
     "output_type": "stream",
     "text": [
      "CropBox missing from /Page, defaulting to MediaBox\n",
      "CropBox missing from /Page, defaulting to MediaBox\n"
     ]
    },
    {
     "name": "stdout",
     "output_type": "stream",
     "text": [
      "./data/2024/68.pdf, found extent in pdf\n",
      "-----------------\n"
     ]
    },
    {
     "name": "stderr",
     "output_type": "stream",
     "text": [
      "CropBox missing from /Page, defaulting to MediaBox\n",
      "CropBox missing from /Page, defaulting to MediaBox\n"
     ]
    },
    {
     "name": "stdout",
     "output_type": "stream",
     "text": [
      "./data/2024/69.pdf, found extent in pdf\n",
      "-----------------\n"
     ]
    },
    {
     "name": "stderr",
     "output_type": "stream",
     "text": [
      "CropBox missing from /Page, defaulting to MediaBox\n",
      "CropBox missing from /Page, defaulting to MediaBox\n"
     ]
    },
    {
     "name": "stdout",
     "output_type": "stream",
     "text": [
      "./data/2024/71.pdf, found extent in pdf\n",
      "-----------------\n"
     ]
    },
    {
     "name": "stderr",
     "output_type": "stream",
     "text": [
      "CropBox missing from /Page, defaulting to MediaBox\n",
      "CropBox missing from /Page, defaulting to MediaBox\n"
     ]
    },
    {
     "name": "stdout",
     "output_type": "stream",
     "text": [
      "./data/2024/72.pdf, found extent in pdf\n",
      "-----------------\n"
     ]
    },
    {
     "name": "stderr",
     "output_type": "stream",
     "text": [
      "CropBox missing from /Page, defaulting to MediaBox\n",
      "CropBox missing from /Page, defaulting to MediaBox\n",
      "CropBox missing from /Page, defaulting to MediaBox\n",
      "CropBox missing from /Page, defaulting to MediaBox\n"
     ]
    },
    {
     "name": "stdout",
     "output_type": "stream",
     "text": [
      "./data/2024/73.pdf, found extent in pdf\n",
      "-----------------\n",
      "./data/2024/74.pdf, found extent in pdf\n",
      "-----------------\n"
     ]
    },
    {
     "name": "stderr",
     "output_type": "stream",
     "text": [
      "CropBox missing from /Page, defaulting to MediaBox\n",
      "CropBox missing from /Page, defaulting to MediaBox\n"
     ]
    },
    {
     "name": "stdout",
     "output_type": "stream",
     "text": [
      "./data/2024/75.pdf, found extent in pdf\n",
      "-----------------\n"
     ]
    },
    {
     "name": "stderr",
     "output_type": "stream",
     "text": [
      "CropBox missing from /Page, defaulting to MediaBox\n",
      "CropBox missing from /Page, defaulting to MediaBox\n"
     ]
    },
    {
     "name": "stdout",
     "output_type": "stream",
     "text": [
      "./data/2024/76.pdf, found extent in pdf\n",
      "-----------------\n"
     ]
    },
    {
     "name": "stderr",
     "output_type": "stream",
     "text": [
      "CropBox missing from /Page, defaulting to MediaBox\n",
      "CropBox missing from /Page, defaulting to MediaBox\n"
     ]
    },
    {
     "name": "stdout",
     "output_type": "stream",
     "text": [
      "./data/2024/77.pdf, found extent in pdf\n",
      "-----------------\n"
     ]
    },
    {
     "name": "stderr",
     "output_type": "stream",
     "text": [
      "CropBox missing from /Page, defaulting to MediaBox\n",
      "CropBox missing from /Page, defaulting to MediaBox\n"
     ]
    },
    {
     "name": "stdout",
     "output_type": "stream",
     "text": [
      "./data/2024/78.pdf, found extent in pdf\n",
      "-----------------\n"
     ]
    },
    {
     "name": "stderr",
     "output_type": "stream",
     "text": [
      "CropBox missing from /Page, defaulting to MediaBox\n",
      "CropBox missing from /Page, defaulting to MediaBox\n"
     ]
    },
    {
     "name": "stdout",
     "output_type": "stream",
     "text": [
      "./data/2024/79.pdf, found extent in pdf\n",
      "-----------------\n"
     ]
    },
    {
     "name": "stderr",
     "output_type": "stream",
     "text": [
      "CropBox missing from /Page, defaulting to MediaBox\n",
      "CropBox missing from /Page, defaulting to MediaBox\n"
     ]
    },
    {
     "name": "stdout",
     "output_type": "stream",
     "text": [
      "./data/2024/80.pdf, found extent in pdf\n",
      "-----------------\n"
     ]
    },
    {
     "name": "stderr",
     "output_type": "stream",
     "text": [
      "CropBox missing from /Page, defaulting to MediaBox\n",
      "CropBox missing from /Page, defaulting to MediaBox\n"
     ]
    },
    {
     "name": "stdout",
     "output_type": "stream",
     "text": [
      "./data/2024/82.pdf, found extent in pdf\n",
      "-----------------\n"
     ]
    },
    {
     "name": "stderr",
     "output_type": "stream",
     "text": [
      "CropBox missing from /Page, defaulting to MediaBox\n",
      "CropBox missing from /Page, defaulting to MediaBox\n"
     ]
    },
    {
     "name": "stdout",
     "output_type": "stream",
     "text": [
      "./data/2024/83.pdf, found extent in pdf\n",
      "-----------------\n"
     ]
    },
    {
     "name": "stderr",
     "output_type": "stream",
     "text": [
      "CropBox missing from /Page, defaulting to MediaBox\n",
      "CropBox missing from /Page, defaulting to MediaBox\n"
     ]
    },
    {
     "name": "stdout",
     "output_type": "stream",
     "text": [
      "./data/2024/84.pdf, found extent in pdf\n",
      "-----------------\n"
     ]
    },
    {
     "name": "stderr",
     "output_type": "stream",
     "text": [
      "CropBox missing from /Page, defaulting to MediaBox\n",
      "CropBox missing from /Page, defaulting to MediaBox\n",
      "CropBox missing from /Page, defaulting to MediaBox\n",
      "CropBox missing from /Page, defaulting to MediaBox\n"
     ]
    },
    {
     "name": "stdout",
     "output_type": "stream",
     "text": [
      "./data/2024/85.pdf, found extent in pdf\n",
      "-----------------\n",
      "./data/2024/86.pdf, found extent in pdf\n",
      "-----------------\n"
     ]
    },
    {
     "name": "stderr",
     "output_type": "stream",
     "text": [
      "CropBox missing from /Page, defaulting to MediaBox\n",
      "CropBox missing from /Page, defaulting to MediaBox\n"
     ]
    },
    {
     "name": "stdout",
     "output_type": "stream",
     "text": [
      "./data/2024/87.pdf, found extent in pdf\n",
      "-----------------\n"
     ]
    },
    {
     "name": "stderr",
     "output_type": "stream",
     "text": [
      "CropBox missing from /Page, defaulting to MediaBox\n",
      "CropBox missing from /Page, defaulting to MediaBox\n",
      "CropBox missing from /Page, defaulting to MediaBox\n",
      "CropBox missing from /Page, defaulting to MediaBox\n"
     ]
    },
    {
     "name": "stdout",
     "output_type": "stream",
     "text": [
      "./data/2024/88.pdf, found extent in pdf\n",
      "-----------------\n",
      "./data/2024/89.pdf, found extent in pdf\n",
      "-----------------\n"
     ]
    },
    {
     "name": "stderr",
     "output_type": "stream",
     "text": [
      "CropBox missing from /Page, defaulting to MediaBox\n",
      "CropBox missing from /Page, defaulting to MediaBox\n"
     ]
    },
    {
     "name": "stdout",
     "output_type": "stream",
     "text": [
      "./data/2024/90.pdf, found extent in pdf\n",
      "-----------------\n"
     ]
    },
    {
     "name": "stderr",
     "output_type": "stream",
     "text": [
      "CropBox missing from /Page, defaulting to MediaBox\n",
      "CropBox missing from /Page, defaulting to MediaBox\n"
     ]
    },
    {
     "name": "stdout",
     "output_type": "stream",
     "text": [
      "./data/2024/91.pdf, found extent in pdf\n",
      "-----------------\n"
     ]
    },
    {
     "name": "stderr",
     "output_type": "stream",
     "text": [
      "CropBox missing from /Page, defaulting to MediaBox\n",
      "CropBox missing from /Page, defaulting to MediaBox\n"
     ]
    },
    {
     "name": "stdout",
     "output_type": "stream",
     "text": [
      "./data/2024/92.pdf, found extent in pdf\n",
      "-----------------\n"
     ]
    },
    {
     "name": "stderr",
     "output_type": "stream",
     "text": [
      "CropBox missing from /Page, defaulting to MediaBox\n",
      "CropBox missing from /Page, defaulting to MediaBox\n"
     ]
    },
    {
     "name": "stdout",
     "output_type": "stream",
     "text": [
      "./data/2024/93.pdf, found extent in pdf\n",
      "-----------------\n"
     ]
    },
    {
     "name": "stderr",
     "output_type": "stream",
     "text": [
      "CropBox missing from /Page, defaulting to MediaBox\n",
      "CropBox missing from /Page, defaulting to MediaBox\n"
     ]
    },
    {
     "name": "stdout",
     "output_type": "stream",
     "text": [
      "./data/2024/96.pdf, found extent in pdf\n",
      "-----------------\n"
     ]
    },
    {
     "name": "stderr",
     "output_type": "stream",
     "text": [
      "CropBox missing from /Page, defaulting to MediaBox\n",
      "CropBox missing from /Page, defaulting to MediaBox\n"
     ]
    },
    {
     "name": "stdout",
     "output_type": "stream",
     "text": [
      "./data/2024/97.pdf, found extent in pdf\n",
      "-----------------\n"
     ]
    },
    {
     "name": "stderr",
     "output_type": "stream",
     "text": [
      "CropBox missing from /Page, defaulting to MediaBox\n",
      "CropBox missing from /Page, defaulting to MediaBox\n",
      "CropBox missing from /Page, defaulting to MediaBox\n"
     ]
    },
    {
     "name": "stdout",
     "output_type": "stream",
     "text": [
      "./data/2024/98.pdf, found extent in pdf\n",
      "-----------------\n",
      "./data/2024/99.pdf, found extent in pdf\n",
      "-----------------\n"
     ]
    }
   ],
   "source": [
    "# adaptive extract \n",
    "import glob\n",
    "# take everything and see how it looks like\n",
    "found, notfound = [], []\n",
    "for path in sorted(glob.glob('./data/2024/*.pdf')):\n",
    "    all_text = []\n",
    "    extentfound=[]\n",
    "    try:\n",
    "        with pdfplumber.open(path) as pdf:\n",
    "            for page in pdf.pages:\n",
    "                width = page.width\n",
    "                height = page.height\n",
    "                \n",
    "                # Dynamically compute the crop box based on width\n",
    "                # Adjust the start ratio (0.4 or 0.5) as needed\n",
    "                words = page.extract_words()\n",
    "                extentfound = [i for i in words if i['text'].lower() == 'extent']\n",
    "\n",
    "                # crop = page.within_bbox((width * 0, 0, width, height))\n",
    "                # text = crop.extract_text()\n",
    "                # if text:\n",
    "                #     all_text.append(text)\n",
    "    except:\n",
    "        pass\n",
    "    finally:\n",
    "        if extentfound:\n",
    "            print(f'{path}, found extent in pdf')\n",
    "            # print(extentfound[0])\n",
    "            print('-----------------')\n",
    "            found.append(path)\n",
    "        else:\n",
    "            print(f'{path}, NO')\n",
    "            # print(extentfound[0])\n",
    "            print('-----------------')\n",
    "            notfound.append(path)\n",
    "\n",
    "# print('/n'.join(all_text))\n"
   ]
  },
  {
   "cell_type": "code",
   "execution_count": 4,
   "id": "9500c55b",
   "metadata": {},
   "outputs": [
    {
     "data": {
      "text/plain": [
       "['./data/2024/14.pdf',\n",
       " './data/2024/181.pdf',\n",
       " './data/2024/198.pdf',\n",
       " './data/2024/50.pdf',\n",
       " './data/2024/57.pdf']"
      ]
     },
     "execution_count": 4,
     "metadata": {},
     "output_type": "execute_result"
    }
   ],
   "source": [
    "notfound"
   ]
  }
 ],
 "metadata": {
  "kernelspec": {
   "display_name": "py3_12",
   "language": "python",
   "name": "python3"
  },
  "language_info": {
   "codemirror_mode": {
    "name": "ipython",
    "version": 3
   },
   "file_extension": ".py",
   "mimetype": "text/x-python",
   "name": "python",
   "nbconvert_exporter": "python",
   "pygments_lexer": "ipython3",
   "version": "3.12.1"
  }
 },
 "nbformat": 4,
 "nbformat_minor": 5
}

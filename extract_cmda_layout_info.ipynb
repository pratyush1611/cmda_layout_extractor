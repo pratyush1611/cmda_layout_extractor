{
 "cells": [
  {
   "cell_type": "code",
   "execution_count": 9,
   "id": "9f5b13e4",
   "metadata": {},
   "outputs": [],
   "source": [
    "import requests\n",
    "import re\n",
    "import pdfplumber\n",
    "import pandas as pd\n",
    "import os\n",
    "import io\n",
    "import asyncio\n",
    "import aiohttp\n",
    "from bs4 import BeautifulSoup"
   ]
  },
  {
   "cell_type": "code",
   "execution_count": 2,
   "id": "05329eaf",
   "metadata": {},
   "outputs": [],
   "source": [
    "# get df with all links\n",
    "year = 2024\n",
    "mainurl = f'https://www.cmdachennai.gov.in/ApprovedLayout/{year}.htm'\n",
    "df = pd.read_html(mainurl)[0]\n",
    "df = df.iloc[:-1,:-1]\n",
    "\n",
    "\n",
    "resp = requests.get(mainurl)\n",
    "resp.raise_for_status()\n",
    "soup = BeautifulSoup(resp.text, 'html.parser')\n",
    "pdflist = soup.find_all('a')\n",
    "pdflist = [i for i in pdflist if i.get('href').endswith('.pdf')]\n",
    "df['bs4'] = pdflist\n",
    "\n",
    "def extractpplfromurl(url):\n",
    "    return url.split('/')[-1][:-4].replace('-','/')\n",
    "\n",
    "df['url'] = df.bs4.apply(lambda x: 'https://www.cmdachennai.gov.in/' + x.get('href'))\n",
    "df['extracted_ppl'] = df.url.apply(extractpplfromurl)\n",
    "df['pdf_savepath'] = df.extracted_ppl.apply(lambda x: x.split('/')[-1] +'/'+ x.split('/')[0] + '.pdf' )\n"
   ]
  },
  {
   "cell_type": "code",
   "execution_count": 7,
   "id": "7a105de2",
   "metadata": {},
   "outputs": [
    {
     "data": {
      "text/plain": [
       "0    True\n",
       "dtype: bool"
      ]
     },
     "execution_count": 7,
     "metadata": {},
     "output_type": "execute_result"
    }
   ],
   "source": [
    "# verify layout numbers match\n",
    "pd.DataFrame(df.iloc[:,1] == df.iloc[:,-2]).all()\n",
    "\n"
   ]
  },
  {
   "cell_type": "code",
   "execution_count": 28,
   "id": "209f778b",
   "metadata": {},
   "outputs": [],
   "source": [
    "async def downlaod_and_extract_pdf(session, df_row, x_start_ratio=0.4):\n",
    "    pdf_url, savepath = df_row['url'], 'data/' + df_row['pdf_savepath']\n",
    "    try:\n",
    "        all_text = []\n",
    "        savedtodisk = False\n",
    "        # Use aiohttp for async HTTP requests\n",
    "        async with session.get(pdf_url, ssl=False) as response:\n",
    "            response.raise_for_status()\n",
    "            content = await response.read()\n",
    "            \n",
    "            # Read PDF\n",
    "            pdf_file = io.BytesIO(content)\n",
    "            # save the pdf file\n",
    "            os.makedirs(os.path.dirname(os.path.abspath(savepath)), exist_ok=True)\n",
    "            with open(savepath, 'wb') as fh:\n",
    "                fh.write(content)\n",
    "                savedtodisk = True\n",
    "                print(f\"Saved PDF to disk: {savepath}\")\n",
    "\n",
    "            with pdfplumber.open(pdf_file) as pdf:\n",
    "                for page in pdf.pages:\n",
    "                    width = page.width\n",
    "                    height = page.height\n",
    "                    \n",
    "                    # Dynamically compute the crop box based on width\n",
    "                    # Adjust the start ratio (0.4 or 0.5) as needed\n",
    "                    crop = page.within_bbox((width * x_start_ratio, 0, width, height))\n",
    "                    text = crop.extract_text()\n",
    "                    if text:\n",
    "                        all_text.append(text)\n",
    "        return \"\\n\".join(all_text), savedtodisk\n",
    "    except Exception as e:\n",
    "        return f\"ERROR: {e}\", False\n",
    "    \n",
    "\n",
    "def extract_multiple_patterns(text: str) -> dict[str|None]:\n",
    "    \"\"\"\n",
    "    Extract multiple patterns from PDF text\n",
    "    \n",
    "    Returns:\n",
    "        Dictionary with pattern matches\n",
    "    \"\"\"\n",
    "    # Define patterns with descriptive keys\n",
    "    patterns = {\n",
    "        'total_no_plots': [\n",
    "            r'NO\\.?\\s*OF\\.?\\s*PLOTS\\s*[=:]\\s*(\\d+)',\n",
    "            r'No\\.?\\s*of\\s*[Pp]lots\\s*[=:]\\s*(\\d+)',\n",
    "            r'TOTAL\\s*PLOTS?\\s*[=:]\\s*(\\d+)'\n",
    "        ],\n",
    "        'ews': [\n",
    "            r'(?i)\\bE\\.?W\\.?S\\.?\\s+(?:Provided|Plots)\\b[^\\n]*[:=]\\s*(\\d+)\\s*Nos\\.?\\b'\n",
    "        ],\n",
    "        'regular':[\n",
    "            r'(?i)REGULAR PLOTS.\\s*[^\\n]*?[:=]\\s*(\\d+)\\s*No'\n",
    "        ],\n",
    "        'date': [\n",
    "            r'DATE\\s*[=:]\\s*(\\d{1,2}\\s?[-\\/]\\s?\\d{2}\\s?[-\\/]\\s?\\d{4})',\n",
    "            r'Date\\s*:\\s*(\\d{1,2}(?:st|nd|rd|th)?\\s+(?:Jan(?:uary)?|Feb(?:ruary)?|Mar(?:ch)?|Apr(?:il)?|May|Jun(?:e)?|Jul(?:y)?|Aug(?:ust)?|Sep(?:tember)?|Oct(?:ober)?|Nov(?:ember)?|Dec(?:ember)?)\\s+\\d{4})',\n",
    "            r'(\\d{4}-\\d{2}-\\d{2})'\n",
    "        ],\n",
    "        'reference_number': [\n",
    "            r'REF(?:ERENCE)?\\s*NO\\.?\\s*[=:]\\s*([A-Z0-9-/]+)',\n",
    "            r'File\\s*No\\.?\\s*[=:]\\s*([A-Z0-9-/]+)',\n",
    "            r'Application\\s*No\\.?\\s*[=:]\\s*([A-Z0-9-/]+)'\n",
    "        ]\n",
    "    }\n",
    "\n",
    "    try:\n",
    "        \n",
    "        # Dictionary to store results\n",
    "        results = {}\n",
    "        \n",
    "        # Search for each pattern category\n",
    "        for category, pattern_list in patterns.items():\n",
    "            results[category] = None\n",
    "            for pattern in pattern_list:\n",
    "                matches = re.findall(pattern, text, re.IGNORECASE)\n",
    "                if matches:\n",
    "                    results[category] = matches[0]\n",
    "                    break\n",
    "        \n",
    "        return results\n",
    "        \n",
    "    except Exception as e:\n",
    "        print(f\"Error processing URL {text}: {str(e)}\")\n",
    "        return {key: None for key in patterns.keys()}, text\n",
    "\n",
    "# Example usage with DataFrame\n",
    "# extract_multiple_patterns(df['url'][2])"
   ]
  },
  {
   "cell_type": "code",
   "execution_count": 32,
   "id": "4e31f46d",
   "metadata": {},
   "outputs": [
    {
     "name": "stderr",
     "output_type": "stream",
     "text": [
      "CropBox missing from /Page, defaulting to MediaBox\n"
     ]
    },
    {
     "name": "stdout",
     "output_type": "stream",
     "text": [
      "Saved PDF to disk: data/2024/97.pdf\n"
     ]
    },
    {
     "name": "stderr",
     "output_type": "stream",
     "text": [
      "CropBox missing from /Page, defaulting to MediaBox\n",
      "CropBox missing from /Page, defaulting to MediaBox\n",
      "CropBox missing from /Page, defaulting to MediaBox\n",
      "CropBox missing from /Page, defaulting to MediaBox\n"
     ]
    },
    {
     "name": "stdout",
     "output_type": "stream",
     "text": [
      "Saved PDF to disk: data/2024/75.pdf\n",
      "Saved PDF to disk: data/2024/47.pdf\n"
     ]
    },
    {
     "name": "stderr",
     "output_type": "stream",
     "text": [
      "CropBox missing from /Page, defaulting to MediaBox\n",
      "CropBox missing from /Page, defaulting to MediaBox\n"
     ]
    },
    {
     "name": "stdout",
     "output_type": "stream",
     "text": [
      "Saved PDF to disk: data/2024/93.pdf\n"
     ]
    },
    {
     "name": "stderr",
     "output_type": "stream",
     "text": [
      "CropBox missing from /Page, defaulting to MediaBox\n",
      "CropBox missing from /Page, defaulting to MediaBox\n",
      "CropBox missing from /Page, defaulting to MediaBox\n",
      "CropBox missing from /Page, defaulting to MediaBox\n"
     ]
    },
    {
     "name": "stdout",
     "output_type": "stream",
     "text": [
      "Saved PDF to disk: data/2024/36.pdf\n",
      "Saved PDF to disk: data/2024/44.pdf\n"
     ]
    },
    {
     "name": "stderr",
     "output_type": "stream",
     "text": [
      "CropBox missing from /Page, defaulting to MediaBox\n",
      "CropBox missing from /Page, defaulting to MediaBox\n",
      "CropBox missing from /Page, defaulting to MediaBox\n",
      "CropBox missing from /Page, defaulting to MediaBox\n"
     ]
    },
    {
     "name": "stdout",
     "output_type": "stream",
     "text": [
      "Saved PDF to disk: data/2024/21.pdf\n",
      "Saved PDF to disk: data/2024/56.pdf\n"
     ]
    },
    {
     "name": "stderr",
     "output_type": "stream",
     "text": [
      "CropBox missing from /Page, defaulting to MediaBox\n",
      "CropBox missing from /Page, defaulting to MediaBox\n"
     ]
    },
    {
     "name": "stdout",
     "output_type": "stream",
     "text": [
      "Saved PDF to disk: data/2024/83.pdf\n"
     ]
    },
    {
     "name": "stderr",
     "output_type": "stream",
     "text": [
      "CropBox missing from /Page, defaulting to MediaBox\n",
      "CropBox missing from /Page, defaulting to MediaBox\n",
      "CropBox missing from /Page, defaulting to MediaBox\n",
      "CropBox missing from /Page, defaulting to MediaBox\n"
     ]
    },
    {
     "name": "stdout",
     "output_type": "stream",
     "text": [
      "Saved PDF to disk: data/2024/87.pdf\n",
      "Saved PDF to disk: data/2024/89.pdf\n"
     ]
    },
    {
     "name": "stderr",
     "output_type": "stream",
     "text": [
      "CropBox missing from /Page, defaulting to MediaBox\n",
      "CropBox missing from /Page, defaulting to MediaBox\n",
      "CropBox missing from /Page, defaulting to MediaBox\n",
      "CropBox missing from /Page, defaulting to MediaBox\n"
     ]
    },
    {
     "name": "stdout",
     "output_type": "stream",
     "text": [
      "Saved PDF to disk: data/2024/74.pdf\n",
      "Saved PDF to disk: data/2024/12.pdf\n"
     ]
    },
    {
     "name": "stderr",
     "output_type": "stream",
     "text": [
      "CropBox missing from /Page, defaulting to MediaBox\n",
      "CropBox missing from /Page, defaulting to MediaBox\n"
     ]
    },
    {
     "name": "stdout",
     "output_type": "stream",
     "text": [
      "Saved PDF to disk: data/2024/20.pdf\n"
     ]
    },
    {
     "name": "stderr",
     "output_type": "stream",
     "text": [
      "CropBox missing from /Page, defaulting to MediaBox\n",
      "CropBox missing from /Page, defaulting to MediaBox\n",
      "CropBox missing from /Page, defaulting to MediaBox\n",
      "CropBox missing from /Page, defaulting to MediaBox\n"
     ]
    },
    {
     "name": "stdout",
     "output_type": "stream",
     "text": [
      "Saved PDF to disk: data/2024/39.pdf\n",
      "Saved PDF to disk: data/2024/27.pdf\n"
     ]
    },
    {
     "name": "stderr",
     "output_type": "stream",
     "text": [
      "CropBox missing from /Page, defaulting to MediaBox\n",
      "CropBox missing from /Page, defaulting to MediaBox\n"
     ]
    },
    {
     "name": "stdout",
     "output_type": "stream",
     "text": [
      "Saved PDF to disk: data/2024/13.pdf\n"
     ]
    },
    {
     "name": "stderr",
     "output_type": "stream",
     "text": [
      "CropBox missing from /Page, defaulting to MediaBox\n",
      "CropBox missing from /Page, defaulting to MediaBox\n",
      "CropBox missing from /Page, defaulting to MediaBox\n",
      "CropBox missing from /Page, defaulting to MediaBox\n"
     ]
    },
    {
     "name": "stdout",
     "output_type": "stream",
     "text": [
      "Saved PDF to disk: data/2024/33.pdf\n",
      "Saved PDF to disk: data/2024/79.pdf\n"
     ]
    },
    {
     "name": "stderr",
     "output_type": "stream",
     "text": [
      "CropBox missing from /Page, defaulting to MediaBox\n",
      "CropBox missing from /Page, defaulting to MediaBox\n",
      "CropBox missing from /Page, defaulting to MediaBox\n",
      "CropBox missing from /Page, defaulting to MediaBox\n"
     ]
    },
    {
     "name": "stdout",
     "output_type": "stream",
     "text": [
      "Saved PDF to disk: data/2024/82.pdf\n",
      "Saved PDF to disk: data/2024/19.pdf\n"
     ]
    },
    {
     "name": "stderr",
     "output_type": "stream",
     "text": [
      "CropBox missing from /Page, defaulting to MediaBox\n",
      "CropBox missing from /Page, defaulting to MediaBox\n"
     ]
    },
    {
     "name": "stdout",
     "output_type": "stream",
     "text": [
      "Saved PDF to disk: data/2024/30.pdf\n"
     ]
    },
    {
     "name": "stderr",
     "output_type": "stream",
     "text": [
      "CropBox missing from /Page, defaulting to MediaBox\n",
      "CropBox missing from /Page, defaulting to MediaBox\n"
     ]
    },
    {
     "name": "stdout",
     "output_type": "stream",
     "text": [
      "Saved PDF to disk: data/2024/58.pdf\n"
     ]
    },
    {
     "name": "stderr",
     "output_type": "stream",
     "text": [
      "CropBox missing from /Page, defaulting to MediaBox\n",
      "CropBox missing from /Page, defaulting to MediaBox\n",
      "CropBox missing from /Page, defaulting to MediaBox\n",
      "CropBox missing from /Page, defaulting to MediaBox\n"
     ]
    },
    {
     "name": "stdout",
     "output_type": "stream",
     "text": [
      "Saved PDF to disk: data/2024/23.pdf\n",
      "Saved PDF to disk: data/2024/41.pdf\n"
     ]
    },
    {
     "name": "stderr",
     "output_type": "stream",
     "text": [
      "CropBox missing from /Page, defaulting to MediaBox\n",
      "CropBox missing from /Page, defaulting to MediaBox\n"
     ]
    },
    {
     "name": "stdout",
     "output_type": "stream",
     "text": [
      "Saved PDF to disk: data/2024/24.pdf\n"
     ]
    },
    {
     "name": "stderr",
     "output_type": "stream",
     "text": [
      "CropBox missing from /Page, defaulting to MediaBox\n",
      "CropBox missing from /Page, defaulting to MediaBox\n"
     ]
    },
    {
     "name": "stdout",
     "output_type": "stream",
     "text": [
      "Saved PDF to disk: data/2024/29.pdf\n"
     ]
    },
    {
     "name": "stderr",
     "output_type": "stream",
     "text": [
      "CropBox missing from /Page, defaulting to MediaBox\n",
      "CropBox missing from /Page, defaulting to MediaBox\n",
      "CropBox missing from /Page, defaulting to MediaBox\n",
      "CropBox missing from /Page, defaulting to MediaBox\n"
     ]
    },
    {
     "name": "stdout",
     "output_type": "stream",
     "text": [
      "Saved PDF to disk: data/2024/102.pdf\n",
      "Saved PDF to disk: data/2024/10.pdf\n"
     ]
    },
    {
     "name": "stderr",
     "output_type": "stream",
     "text": [
      "CropBox missing from /Page, defaulting to MediaBox\n",
      "CropBox missing from /Page, defaulting to MediaBox\n"
     ]
    },
    {
     "name": "stdout",
     "output_type": "stream",
     "text": [
      "Saved PDF to disk: data/2024/78.pdf\n"
     ]
    },
    {
     "name": "stderr",
     "output_type": "stream",
     "text": [
      "CropBox missing from /Page, defaulting to MediaBox\n",
      "CropBox missing from /Page, defaulting to MediaBox\n",
      "CropBox missing from /Page, defaulting to MediaBox\n",
      "CropBox missing from /Page, defaulting to MediaBox\n"
     ]
    },
    {
     "name": "stdout",
     "output_type": "stream",
     "text": [
      "Saved PDF to disk: data/2024/84.pdf\n",
      "Saved PDF to disk: data/2024/40.pdf\n"
     ]
    },
    {
     "name": "stderr",
     "output_type": "stream",
     "text": [
      "CropBox missing from /Page, defaulting to MediaBox\n",
      "CropBox missing from /Page, defaulting to MediaBox\n"
     ]
    },
    {
     "name": "stdout",
     "output_type": "stream",
     "text": [
      "Saved PDF to disk: data/2024/67.pdf\n"
     ]
    },
    {
     "name": "stderr",
     "output_type": "stream",
     "text": [
      "CropBox missing from /Page, defaulting to MediaBox\n",
      "CropBox missing from /Page, defaulting to MediaBox\n"
     ]
    },
    {
     "name": "stdout",
     "output_type": "stream",
     "text": [
      "Saved PDF to disk: data/2024/43.pdf\n"
     ]
    },
    {
     "name": "stderr",
     "output_type": "stream",
     "text": [
      "CropBox missing from /Page, defaulting to MediaBox\n",
      "CropBox missing from /Page, defaulting to MediaBox\n",
      "CropBox missing from /Page, defaulting to MediaBox\n",
      "CropBox missing from /Page, defaulting to MediaBox\n"
     ]
    },
    {
     "name": "stdout",
     "output_type": "stream",
     "text": [
      "Saved PDF to disk: data/2024/31.pdf\n",
      "Saved PDF to disk: data/2024/32.pdf\n"
     ]
    },
    {
     "name": "stderr",
     "output_type": "stream",
     "text": [
      "CropBox missing from /Page, defaulting to MediaBox\n",
      "CropBox missing from /Page, defaulting to MediaBox\n"
     ]
    },
    {
     "name": "stdout",
     "output_type": "stream",
     "text": [
      "Saved PDF to disk: data/2024/77.pdf\n"
     ]
    },
    {
     "name": "stderr",
     "output_type": "stream",
     "text": [
      "CropBox missing from /Page, defaulting to MediaBox\n",
      "CropBox missing from /Page, defaulting to MediaBox\n"
     ]
    },
    {
     "name": "stdout",
     "output_type": "stream",
     "text": [
      "Saved PDF to disk: data/2024/26.pdf\n"
     ]
    },
    {
     "name": "stderr",
     "output_type": "stream",
     "text": [
      "CropBox missing from /Page, defaulting to MediaBox\n",
      "CropBox missing from /Page, defaulting to MediaBox\n"
     ]
    },
    {
     "name": "stdout",
     "output_type": "stream",
     "text": [
      "Saved PDF to disk: data/2024/62.pdf\n"
     ]
    },
    {
     "name": "stderr",
     "output_type": "stream",
     "text": [
      "CropBox missing from /Page, defaulting to MediaBox\n",
      "CropBox missing from /Page, defaulting to MediaBox\n"
     ]
    },
    {
     "name": "stdout",
     "output_type": "stream",
     "text": [
      "Saved PDF to disk: data/2024/14.pdf\n"
     ]
    },
    {
     "name": "stderr",
     "output_type": "stream",
     "text": [
      "CropBox missing from /Page, defaulting to MediaBox\n",
      "CropBox missing from /Page, defaulting to MediaBox\n"
     ]
    },
    {
     "name": "stdout",
     "output_type": "stream",
     "text": [
      "Saved PDF to disk: data/2024/53.pdf\n"
     ]
    },
    {
     "name": "stderr",
     "output_type": "stream",
     "text": [
      "CropBox missing from /Page, defaulting to MediaBox\n",
      "CropBox missing from /Page, defaulting to MediaBox\n"
     ]
    },
    {
     "name": "stdout",
     "output_type": "stream",
     "text": [
      "Saved PDF to disk: data/2024/16.pdf\n"
     ]
    },
    {
     "name": "stderr",
     "output_type": "stream",
     "text": [
      "CropBox missing from /Page, defaulting to MediaBox\n",
      "CropBox missing from /Page, defaulting to MediaBox\n"
     ]
    },
    {
     "name": "stdout",
     "output_type": "stream",
     "text": [
      "Saved PDF to disk: data/2024/90.pdf\n"
     ]
    },
    {
     "name": "stderr",
     "output_type": "stream",
     "text": [
      "CropBox missing from /Page, defaulting to MediaBox\n",
      "CropBox missing from /Page, defaulting to MediaBox\n"
     ]
    },
    {
     "name": "stdout",
     "output_type": "stream",
     "text": [
      "Saved PDF to disk: data/2024/52.pdf\n"
     ]
    },
    {
     "name": "stderr",
     "output_type": "stream",
     "text": [
      "CropBox missing from /Page, defaulting to MediaBox\n",
      "CropBox missing from /Page, defaulting to MediaBox\n",
      "CropBox missing from /Page, defaulting to MediaBox\n",
      "CropBox missing from /Page, defaulting to MediaBox\n"
     ]
    },
    {
     "name": "stdout",
     "output_type": "stream",
     "text": [
      "Saved PDF to disk: data/2024/60.pdf\n",
      "Saved PDF to disk: data/2024/73.pdf\n"
     ]
    },
    {
     "name": "stderr",
     "output_type": "stream",
     "text": [
      "CropBox missing from /Page, defaulting to MediaBox\n",
      "CropBox missing from /Page, defaulting to MediaBox\n",
      "CropBox missing from /Page, defaulting to MediaBox\n",
      "CropBox missing from /Page, defaulting to MediaBox\n"
     ]
    },
    {
     "name": "stdout",
     "output_type": "stream",
     "text": [
      "Saved PDF to disk: data/2024/25.pdf\n",
      "Saved PDF to disk: data/2024/03.pdf\n"
     ]
    },
    {
     "name": "stderr",
     "output_type": "stream",
     "text": [
      "CropBox missing from /Page, defaulting to MediaBox\n",
      "CropBox missing from /Page, defaulting to MediaBox\n",
      "CropBox missing from /Page, defaulting to MediaBox\n",
      "CropBox missing from /Page, defaulting to MediaBox\n"
     ]
    },
    {
     "name": "stdout",
     "output_type": "stream",
     "text": [
      "Saved PDF to disk: data/2024/103.pdf\n",
      "Saved PDF to disk: data/2024/15.pdf\n"
     ]
    },
    {
     "name": "stderr",
     "output_type": "stream",
     "text": [
      "CropBox missing from /Page, defaulting to MediaBox\n",
      "CropBox missing from /Page, defaulting to MediaBox\n",
      "CropBox missing from /Page, defaulting to MediaBox\n",
      "CropBox missing from /Page, defaulting to MediaBox\n"
     ]
    },
    {
     "name": "stdout",
     "output_type": "stream",
     "text": [
      "Saved PDF to disk: data/2024/100.pdf\n",
      "Saved PDF to disk: data/2024/22.pdf\n"
     ]
    },
    {
     "name": "stderr",
     "output_type": "stream",
     "text": [
      "CropBox missing from /Page, defaulting to MediaBox\n",
      "CropBox missing from /Page, defaulting to MediaBox\n",
      "CropBox missing from /Page, defaulting to MediaBox\n",
      "CropBox missing from /Page, defaulting to MediaBox\n"
     ]
    },
    {
     "name": "stdout",
     "output_type": "stream",
     "text": [
      "Saved PDF to disk: data/2024/72.pdf\n",
      "Saved PDF to disk: data/2024/80.pdf\n"
     ]
    },
    {
     "name": "stderr",
     "output_type": "stream",
     "text": [
      "CropBox missing from /Page, defaulting to MediaBox\n",
      "CropBox missing from /Page, defaulting to MediaBox\n",
      "CropBox missing from /Page, defaulting to MediaBox\n",
      "CropBox missing from /Page, defaulting to MediaBox\n"
     ]
    },
    {
     "name": "stdout",
     "output_type": "stream",
     "text": [
      "Saved PDF to disk: data/2024/05.pdf\n",
      "Saved PDF to disk: data/2024/69.pdf\n"
     ]
    },
    {
     "name": "stderr",
     "output_type": "stream",
     "text": [
      "CropBox missing from /Page, defaulting to MediaBox\n",
      "CropBox missing from /Page, defaulting to MediaBox\n"
     ]
    },
    {
     "name": "stdout",
     "output_type": "stream",
     "text": [
      "Saved PDF to disk: data/2024/57.pdf\n"
     ]
    },
    {
     "name": "stderr",
     "output_type": "stream",
     "text": [
      "CropBox missing from /Page, defaulting to MediaBox\n",
      "CropBox missing from /Page, defaulting to MediaBox\n",
      "CropBox missing from /Page, defaulting to MediaBox\n",
      "CropBox missing from /Page, defaulting to MediaBox\n"
     ]
    },
    {
     "name": "stdout",
     "output_type": "stream",
     "text": [
      "Saved PDF to disk: data/2024/99.pdf\n",
      "Saved PDF to disk: data/2024/02.pdf\n"
     ]
    },
    {
     "name": "stderr",
     "output_type": "stream",
     "text": [
      "CropBox missing from /Page, defaulting to MediaBox\n",
      "CropBox missing from /Page, defaulting to MediaBox\n",
      "CropBox missing from /Page, defaulting to MediaBox\n",
      "CropBox missing from /Page, defaulting to MediaBox\n"
     ]
    },
    {
     "name": "stdout",
     "output_type": "stream",
     "text": [
      "Saved PDF to disk: data/2024/46.pdf\n",
      "Saved PDF to disk: data/2024/49.pdf\n"
     ]
    },
    {
     "name": "stderr",
     "output_type": "stream",
     "text": [
      "CropBox missing from /Page, defaulting to MediaBox\n",
      "CropBox missing from /Page, defaulting to MediaBox\n"
     ]
    },
    {
     "name": "stdout",
     "output_type": "stream",
     "text": [
      "Saved PDF to disk: data/2024/34.pdf\n"
     ]
    },
    {
     "name": "stderr",
     "output_type": "stream",
     "text": [
      "CropBox missing from /Page, defaulting to MediaBox\n",
      "CropBox missing from /Page, defaulting to MediaBox\n",
      "CropBox missing from /Page, defaulting to MediaBox\n",
      "CropBox missing from /Page, defaulting to MediaBox\n"
     ]
    },
    {
     "name": "stdout",
     "output_type": "stream",
     "text": [
      "Saved PDF to disk: data/2024/06.pdf\n",
      "Saved PDF to disk: data/2024/51.pdf\n"
     ]
    },
    {
     "name": "stderr",
     "output_type": "stream",
     "text": [
      "CropBox missing from /Page, defaulting to MediaBox\n",
      "CropBox missing from /Page, defaulting to MediaBox\n"
     ]
    },
    {
     "name": "stdout",
     "output_type": "stream",
     "text": [
      "Saved PDF to disk: data/2024/65.pdf\n"
     ]
    },
    {
     "name": "stderr",
     "output_type": "stream",
     "text": [
      "CropBox missing from /Page, defaulting to MediaBox\n",
      "CropBox missing from /Page, defaulting to MediaBox\n",
      "CropBox missing from /Page, defaulting to MediaBox\n",
      "CropBox missing from /Page, defaulting to MediaBox\n"
     ]
    },
    {
     "name": "stdout",
     "output_type": "stream",
     "text": [
      "Saved PDF to disk: data/2024/106.pdf\n",
      "Saved PDF to disk: data/2024/50.pdf\n"
     ]
    },
    {
     "name": "stderr",
     "output_type": "stream",
     "text": [
      "CropBox missing from /Page, defaulting to MediaBox\n",
      "CropBox missing from /Page, defaulting to MediaBox\n",
      "CropBox missing from /Page, defaulting to MediaBox\n",
      "CropBox missing from /Page, defaulting to MediaBox\n"
     ]
    },
    {
     "name": "stdout",
     "output_type": "stream",
     "text": [
      "Saved PDF to disk: data/2024/18.pdf\n",
      "Saved PDF to disk: data/2024/116.pdf\n"
     ]
    },
    {
     "name": "stderr",
     "output_type": "stream",
     "text": [
      "CropBox missing from /Page, defaulting to MediaBox\n",
      "CropBox missing from /Page, defaulting to MediaBox\n"
     ]
    },
    {
     "name": "stdout",
     "output_type": "stream",
     "text": [
      "Saved PDF to disk: data/2024/61.pdf\n"
     ]
    },
    {
     "name": "stderr",
     "output_type": "stream",
     "text": [
      "CropBox missing from /Page, defaulting to MediaBox\n",
      "CropBox missing from /Page, defaulting to MediaBox\n"
     ]
    },
    {
     "name": "stdout",
     "output_type": "stream",
     "text": [
      "Saved PDF to disk: data/2024/88.pdf\n"
     ]
    },
    {
     "name": "stderr",
     "output_type": "stream",
     "text": [
      "CropBox missing from /Page, defaulting to MediaBox\n",
      "CropBox missing from /Page, defaulting to MediaBox\n"
     ]
    },
    {
     "name": "stdout",
     "output_type": "stream",
     "text": [
      "Saved PDF to disk: data/2024/91.pdf\n"
     ]
    },
    {
     "name": "stderr",
     "output_type": "stream",
     "text": [
      "CropBox missing from /Page, defaulting to MediaBox\n",
      "CropBox missing from /Page, defaulting to MediaBox\n",
      "CropBox missing from /Page, defaulting to MediaBox\n",
      "CropBox missing from /Page, defaulting to MediaBox\n"
     ]
    },
    {
     "name": "stdout",
     "output_type": "stream",
     "text": [
      "Saved PDF to disk: data/2024/107.pdf\n",
      "Saved PDF to disk: data/2024/108.pdf\n"
     ]
    },
    {
     "name": "stderr",
     "output_type": "stream",
     "text": [
      "CropBox missing from /Page, defaulting to MediaBox\n",
      "CropBox missing from /Page, defaulting to MediaBox\n",
      "CropBox missing from /Page, defaulting to MediaBox\n",
      "CropBox missing from /Page, defaulting to MediaBox\n"
     ]
    },
    {
     "name": "stdout",
     "output_type": "stream",
     "text": [
      "Saved PDF to disk: data/2024/109.pdf\n",
      "Saved PDF to disk: data/2024/110.pdf\n"
     ]
    },
    {
     "name": "stderr",
     "output_type": "stream",
     "text": [
      "CropBox missing from /Page, defaulting to MediaBox\n",
      "CropBox missing from /Page, defaulting to MediaBox\n",
      "CropBox missing from /Page, defaulting to MediaBox\n",
      "CropBox missing from /Page, defaulting to MediaBox\n"
     ]
    },
    {
     "name": "stdout",
     "output_type": "stream",
     "text": [
      "Saved PDF to disk: data/2024/111.pdf\n",
      "Saved PDF to disk: data/2024/112.pdf\n"
     ]
    },
    {
     "name": "stderr",
     "output_type": "stream",
     "text": [
      "CropBox missing from /Page, defaulting to MediaBox\n",
      "CropBox missing from /Page, defaulting to MediaBox\n"
     ]
    },
    {
     "name": "stdout",
     "output_type": "stream",
     "text": [
      "Saved PDF to disk: data/2024/113.pdf\n"
     ]
    },
    {
     "name": "stderr",
     "output_type": "stream",
     "text": [
      "CropBox missing from /Page, defaulting to MediaBox\n",
      "CropBox missing from /Page, defaulting to MediaBox\n"
     ]
    },
    {
     "name": "stdout",
     "output_type": "stream",
     "text": [
      "Saved PDF to disk: data/2024/114.pdf\n"
     ]
    },
    {
     "name": "stderr",
     "output_type": "stream",
     "text": [
      "CropBox missing from /Page, defaulting to MediaBox\n",
      "CropBox missing from /Page, defaulting to MediaBox\n"
     ]
    },
    {
     "name": "stdout",
     "output_type": "stream",
     "text": [
      "Saved PDF to disk: data/2024/115.pdf\n"
     ]
    },
    {
     "name": "stderr",
     "output_type": "stream",
     "text": [
      "CropBox missing from /Page, defaulting to MediaBox\n",
      "CropBox missing from /Page, defaulting to MediaBox\n",
      "CropBox missing from /Page, defaulting to MediaBox\n",
      "CropBox missing from /Page, defaulting to MediaBox\n"
     ]
    },
    {
     "name": "stdout",
     "output_type": "stream",
     "text": [
      "Saved PDF to disk: data/2024/117.pdf\n",
      "Saved PDF to disk: data/2024/118.pdf\n"
     ]
    },
    {
     "name": "stderr",
     "output_type": "stream",
     "text": [
      "CropBox missing from /Page, defaulting to MediaBox\n",
      "CropBox missing from /Page, defaulting to MediaBox\n",
      "CropBox missing from /Page, defaulting to MediaBox\n",
      "CropBox missing from /Page, defaulting to MediaBox\n"
     ]
    },
    {
     "name": "stdout",
     "output_type": "stream",
     "text": [
      "Saved PDF to disk: data/2024/119.pdf\n",
      "Saved PDF to disk: data/2024/120.pdf\n"
     ]
    },
    {
     "name": "stderr",
     "output_type": "stream",
     "text": [
      "CropBox missing from /Page, defaulting to MediaBox\n",
      "CropBox missing from /Page, defaulting to MediaBox\n"
     ]
    },
    {
     "name": "stdout",
     "output_type": "stream",
     "text": [
      "Saved PDF to disk: data/2024/122.pdf\n"
     ]
    },
    {
     "name": "stderr",
     "output_type": "stream",
     "text": [
      "CropBox missing from /Page, defaulting to MediaBox\n",
      "CropBox missing from /Page, defaulting to MediaBox\n"
     ]
    },
    {
     "name": "stdout",
     "output_type": "stream",
     "text": [
      "Saved PDF to disk: data/2024/35.pdf\n"
     ]
    },
    {
     "name": "stderr",
     "output_type": "stream",
     "text": [
      "CropBox missing from /Page, defaulting to MediaBox\n",
      "CropBox missing from /Page, defaulting to MediaBox\n"
     ]
    },
    {
     "name": "stdout",
     "output_type": "stream",
     "text": [
      "Saved PDF to disk: data/2024/01.pdf\n"
     ]
    },
    {
     "name": "stderr",
     "output_type": "stream",
     "text": [
      "CropBox missing from /Page, defaulting to MediaBox\n",
      "CropBox missing from /Page, defaulting to MediaBox\n"
     ]
    },
    {
     "name": "stdout",
     "output_type": "stream",
     "text": [
      "Saved PDF to disk: data/2024/121.pdf\n"
     ]
    },
    {
     "name": "stderr",
     "output_type": "stream",
     "text": [
      "CropBox missing from /Page, defaulting to MediaBox\n",
      "CropBox missing from /Page, defaulting to MediaBox\n"
     ]
    },
    {
     "name": "stdout",
     "output_type": "stream",
     "text": [
      "Saved PDF to disk: data/2024/38.pdf\n"
     ]
    },
    {
     "name": "stderr",
     "output_type": "stream",
     "text": [
      "CropBox missing from /Page, defaulting to MediaBox\n",
      "CropBox missing from /Page, defaulting to MediaBox\n"
     ]
    },
    {
     "name": "stdout",
     "output_type": "stream",
     "text": [
      "Saved PDF to disk: data/2024/96.pdf\n"
     ]
    },
    {
     "name": "stderr",
     "output_type": "stream",
     "text": [
      "CropBox missing from /Page, defaulting to MediaBox\n",
      "CropBox missing from /Page, defaulting to MediaBox\n"
     ]
    },
    {
     "name": "stdout",
     "output_type": "stream",
     "text": [
      "Saved PDF to disk: data/2024/54.pdf\n"
     ]
    },
    {
     "name": "stderr",
     "output_type": "stream",
     "text": [
      "CropBox missing from /Page, defaulting to MediaBox\n",
      "CropBox missing from /Page, defaulting to MediaBox\n",
      "CropBox missing from /Page, defaulting to MediaBox\n",
      "CropBox missing from /Page, defaulting to MediaBox\n"
     ]
    },
    {
     "name": "stdout",
     "output_type": "stream",
     "text": [
      "Saved PDF to disk: data/2024/101.pdf\n",
      "Saved PDF to disk: data/2024/71.pdf\n"
     ]
    },
    {
     "name": "stderr",
     "output_type": "stream",
     "text": [
      "CropBox missing from /Page, defaulting to MediaBox\n",
      "CropBox missing from /Page, defaulting to MediaBox\n",
      "CropBox missing from /Page, defaulting to MediaBox\n",
      "CropBox missing from /Page, defaulting to MediaBox\n"
     ]
    },
    {
     "name": "stdout",
     "output_type": "stream",
     "text": [
      "Saved PDF to disk: data/2024/04.pdf\n",
      "Saved PDF to disk: data/2024/48.pdf\n"
     ]
    },
    {
     "name": "stderr",
     "output_type": "stream",
     "text": [
      "CropBox missing from /Page, defaulting to MediaBox\n",
      "CropBox missing from /Page, defaulting to MediaBox\n",
      "CropBox missing from /Page, defaulting to MediaBox\n",
      "CropBox missing from /Page, defaulting to MediaBox\n"
     ]
    },
    {
     "name": "stdout",
     "output_type": "stream",
     "text": [
      "Saved PDF to disk: data/2024/123.pdf\n",
      "Saved PDF to disk: data/2024/66.pdf\n"
     ]
    },
    {
     "name": "stderr",
     "output_type": "stream",
     "text": [
      "CropBox missing from /Page, defaulting to MediaBox\n",
      "CropBox missing from /Page, defaulting to MediaBox\n"
     ]
    },
    {
     "name": "stdout",
     "output_type": "stream",
     "text": [
      "Saved PDF to disk: data/2024/104.pdf\n"
     ]
    },
    {
     "name": "stderr",
     "output_type": "stream",
     "text": [
      "CropBox missing from /Page, defaulting to MediaBox\n",
      "CropBox missing from /Page, defaulting to MediaBox\n",
      "CropBox missing from /Page, defaulting to MediaBox\n"
     ]
    },
    {
     "name": "stdout",
     "output_type": "stream",
     "text": [
      "Saved PDF to disk: data/2024/63.pdf\n"
     ]
    },
    {
     "name": "stderr",
     "output_type": "stream",
     "text": [
      "CropBox missing from /Page, defaulting to MediaBox\n"
     ]
    },
    {
     "name": "stdout",
     "output_type": "stream",
     "text": [
      "Saved PDF to disk: data/2024/68.pdf\n"
     ]
    },
    {
     "name": "stderr",
     "output_type": "stream",
     "text": [
      "CropBox missing from /Page, defaulting to MediaBox\n",
      "CropBox missing from /Page, defaulting to MediaBox\n",
      "CropBox missing from /Page, defaulting to MediaBox\n",
      "CropBox missing from /Page, defaulting to MediaBox\n"
     ]
    },
    {
     "name": "stdout",
     "output_type": "stream",
     "text": [
      "Saved PDF to disk: data/2024/11.pdf\n",
      "Saved PDF to disk: data/2024/09.pdf\n"
     ]
    },
    {
     "name": "stderr",
     "output_type": "stream",
     "text": [
      "CropBox missing from /Page, defaulting to MediaBox\n",
      "CropBox missing from /Page, defaulting to MediaBox\n"
     ]
    },
    {
     "name": "stdout",
     "output_type": "stream",
     "text": [
      "Saved PDF to disk: data/2024/92.pdf\n"
     ]
    },
    {
     "name": "stderr",
     "output_type": "stream",
     "text": [
      "CropBox missing from /Page, defaulting to MediaBox\n",
      "CropBox missing from /Page, defaulting to MediaBox\n"
     ]
    },
    {
     "name": "stdout",
     "output_type": "stream",
     "text": [
      "Saved PDF to disk: data/2024/42.pdf\n"
     ]
    },
    {
     "name": "stderr",
     "output_type": "stream",
     "text": [
      "CropBox missing from /Page, defaulting to MediaBox\n",
      "CropBox missing from /Page, defaulting to MediaBox\n"
     ]
    },
    {
     "name": "stdout",
     "output_type": "stream",
     "text": [
      "Saved PDF to disk: data/2024/98.pdf\n"
     ]
    },
    {
     "name": "stderr",
     "output_type": "stream",
     "text": [
      "CropBox missing from /Page, defaulting to MediaBox\n",
      "CropBox missing from /Page, defaulting to MediaBox\n",
      "CropBox missing from /Page, defaulting to MediaBox\n",
      "CropBox missing from /Page, defaulting to MediaBox\n"
     ]
    },
    {
     "name": "stdout",
     "output_type": "stream",
     "text": [
      "Saved PDF to disk: data/2024/105.pdf\n",
      "Saved PDF to disk: data/2024/45.pdf\n"
     ]
    },
    {
     "name": "stderr",
     "output_type": "stream",
     "text": [
      "CropBox missing from /Page, defaulting to MediaBox\n",
      "CropBox missing from /Page, defaulting to MediaBox\n"
     ]
    },
    {
     "name": "stdout",
     "output_type": "stream",
     "text": [
      "Saved PDF to disk: data/2024/28.pdf\n"
     ]
    },
    {
     "name": "stderr",
     "output_type": "stream",
     "text": [
      "CropBox missing from /Page, defaulting to MediaBox\n",
      "CropBox missing from /Page, defaulting to MediaBox\n"
     ]
    },
    {
     "name": "stdout",
     "output_type": "stream",
     "text": [
      "Saved PDF to disk: data/2024/76.pdf\n"
     ]
    },
    {
     "name": "stderr",
     "output_type": "stream",
     "text": [
      "CropBox missing from /Page, defaulting to MediaBox\n",
      "CropBox missing from /Page, defaulting to MediaBox\n"
     ]
    },
    {
     "name": "stdout",
     "output_type": "stream",
     "text": [
      "Saved PDF to disk: data/2024/85.pdf\n"
     ]
    },
    {
     "name": "stderr",
     "output_type": "stream",
     "text": [
      "CropBox missing from /Page, defaulting to MediaBox\n",
      "CropBox missing from /Page, defaulting to MediaBox\n"
     ]
    },
    {
     "name": "stdout",
     "output_type": "stream",
     "text": [
      "Saved PDF to disk: data/2024/08.pdf\n"
     ]
    },
    {
     "name": "stderr",
     "output_type": "stream",
     "text": [
      "CropBox missing from /Page, defaulting to MediaBox\n",
      "CropBox missing from /Page, defaulting to MediaBox\n",
      "CropBox missing from /Page, defaulting to MediaBox\n",
      "CropBox missing from /Page, defaulting to MediaBox\n"
     ]
    },
    {
     "name": "stdout",
     "output_type": "stream",
     "text": [
      "Saved PDF to disk: data/2024/86.pdf\n",
      "Saved PDF to disk: data/2024/59.pdf\n"
     ]
    },
    {
     "name": "stderr",
     "output_type": "stream",
     "text": [
      "CropBox missing from /Page, defaulting to MediaBox\n",
      "CropBox missing from /Page, defaulting to MediaBox\n",
      "CropBox missing from /Page, defaulting to MediaBox\n",
      "CropBox missing from /Page, defaulting to MediaBox\n"
     ]
    },
    {
     "name": "stdout",
     "output_type": "stream",
     "text": [
      "Saved PDF to disk: data/2024/55.pdf\n",
      "Saved PDF to disk: data/2024/64.pdf\n"
     ]
    },
    {
     "name": "stderr",
     "output_type": "stream",
     "text": [
      "CropBox missing from /Page, defaulting to MediaBox\n",
      "CropBox missing from /Page, defaulting to MediaBox\n",
      "CropBox missing from /Page, defaulting to MediaBox\n",
      "CropBox missing from /Page, defaulting to MediaBox\n"
     ]
    },
    {
     "name": "stdout",
     "output_type": "stream",
     "text": [
      "Saved PDF to disk: data/2024/136.pdf\n",
      "Saved PDF to disk: data/2024/138.pdf\n"
     ]
    },
    {
     "name": "stderr",
     "output_type": "stream",
     "text": [
      "CropBox missing from /Page, defaulting to MediaBox\n",
      "CropBox missing from /Page, defaulting to MediaBox\n"
     ]
    },
    {
     "name": "stdout",
     "output_type": "stream",
     "text": [
      "Saved PDF to disk: data/2024/243.pdf\n"
     ]
    },
    {
     "name": "stderr",
     "output_type": "stream",
     "text": [
      "CropBox missing from /Page, defaulting to MediaBox\n",
      "CropBox missing from /Page, defaulting to MediaBox\n",
      "CropBox missing from /Page, defaulting to MediaBox\n",
      "CropBox missing from /Page, defaulting to MediaBox\n"
     ]
    },
    {
     "name": "stdout",
     "output_type": "stream",
     "text": [
      "Saved PDF to disk: data/2024/231.pdf\n",
      "Saved PDF to disk: data/2024/192.pdf\n"
     ]
    },
    {
     "name": "stderr",
     "output_type": "stream",
     "text": [
      "CropBox missing from /Page, defaulting to MediaBox\n",
      "CropBox missing from /Page, defaulting to MediaBox\n"
     ]
    },
    {
     "name": "stdout",
     "output_type": "stream",
     "text": [
      "Saved PDF to disk: data/2024/176.pdf\n"
     ]
    },
    {
     "name": "stderr",
     "output_type": "stream",
     "text": [
      "CropBox missing from /Page, defaulting to MediaBox\n",
      "CropBox missing from /Page, defaulting to MediaBox\n",
      "CropBox missing from /Page, defaulting to MediaBox\n",
      "CropBox missing from /Page, defaulting to MediaBox\n"
     ]
    },
    {
     "name": "stdout",
     "output_type": "stream",
     "text": [
      "Saved PDF to disk: data/2024/198.pdf\n",
      "Saved PDF to disk: data/2024/197.pdf\n"
     ]
    },
    {
     "name": "stderr",
     "output_type": "stream",
     "text": [
      "CropBox missing from /Page, defaulting to MediaBox\n",
      "CropBox missing from /Page, defaulting to MediaBox\n",
      "CropBox missing from /Page, defaulting to MediaBox\n",
      "CropBox missing from /Page, defaulting to MediaBox\n"
     ]
    },
    {
     "name": "stdout",
     "output_type": "stream",
     "text": [
      "Saved PDF to disk: data/2024/214.pdf\n",
      "Saved PDF to disk: data/2024/137.pdf\n"
     ]
    },
    {
     "name": "stderr",
     "output_type": "stream",
     "text": [
      "CropBox missing from /Page, defaulting to MediaBox\n",
      "CropBox missing from /Page, defaulting to MediaBox\n",
      "CropBox missing from /Page, defaulting to MediaBox\n",
      "CropBox missing from /Page, defaulting to MediaBox\n"
     ]
    },
    {
     "name": "stdout",
     "output_type": "stream",
     "text": [
      "Saved PDF to disk: data/2024/177.pdf\n",
      "Saved PDF to disk: data/2024/139.pdf\n"
     ]
    },
    {
     "name": "stderr",
     "output_type": "stream",
     "text": [
      "CropBox missing from /Page, defaulting to MediaBox\n",
      "CropBox missing from /Page, defaulting to MediaBox\n",
      "CropBox missing from /Page, defaulting to MediaBox\n",
      "CropBox missing from /Page, defaulting to MediaBox\n"
     ]
    },
    {
     "name": "stdout",
     "output_type": "stream",
     "text": [
      "Saved PDF to disk: data/2024/147.pdf\n",
      "Saved PDF to disk: data/2024/151.pdf\n"
     ]
    },
    {
     "name": "stderr",
     "output_type": "stream",
     "text": [
      "CropBox missing from /Page, defaulting to MediaBox\n",
      "CropBox missing from /Page, defaulting to MediaBox\n"
     ]
    },
    {
     "name": "stdout",
     "output_type": "stream",
     "text": [
      "Saved PDF to disk: data/2024/179.pdf\n"
     ]
    },
    {
     "name": "stderr",
     "output_type": "stream",
     "text": [
      "CropBox missing from /Page, defaulting to MediaBox\n",
      "CropBox missing from /Page, defaulting to MediaBox\n"
     ]
    },
    {
     "name": "stdout",
     "output_type": "stream",
     "text": [
      "Saved PDF to disk: data/2024/148.pdf\n"
     ]
    },
    {
     "name": "stderr",
     "output_type": "stream",
     "text": [
      "CropBox missing from /Page, defaulting to MediaBox\n",
      "CropBox missing from /Page, defaulting to MediaBox\n",
      "CropBox missing from /Page, defaulting to MediaBox\n",
      "CropBox missing from /Page, defaulting to MediaBox\n"
     ]
    },
    {
     "name": "stdout",
     "output_type": "stream",
     "text": [
      "Saved PDF to disk: data/2024/174.pdf\n",
      "Saved PDF to disk: data/2024/159.pdf\n"
     ]
    },
    {
     "name": "stderr",
     "output_type": "stream",
     "text": [
      "CropBox missing from /Page, defaulting to MediaBox\n",
      "CropBox missing from /Page, defaulting to MediaBox\n"
     ]
    },
    {
     "name": "stdout",
     "output_type": "stream",
     "text": [
      "Saved PDF to disk: data/2024/222.pdf\n"
     ]
    },
    {
     "name": "stderr",
     "output_type": "stream",
     "text": [
      "CropBox missing from /Page, defaulting to MediaBox\n",
      "CropBox missing from /Page, defaulting to MediaBox\n"
     ]
    },
    {
     "name": "stdout",
     "output_type": "stream",
     "text": [
      "Saved PDF to disk: data/2024/191.pdf\n"
     ]
    },
    {
     "name": "stderr",
     "output_type": "stream",
     "text": [
      "CropBox missing from /Page, defaulting to MediaBox\n",
      "CropBox missing from /Page, defaulting to MediaBox\n",
      "CropBox missing from /Page, defaulting to MediaBox\n",
      "CropBox missing from /Page, defaulting to MediaBox\n"
     ]
    },
    {
     "name": "stdout",
     "output_type": "stream",
     "text": [
      "Saved PDF to disk: data/2024/245.pdf\n",
      "Saved PDF to disk: data/2024/190.pdf\n"
     ]
    },
    {
     "name": "stderr",
     "output_type": "stream",
     "text": [
      "CropBox missing from /Page, defaulting to MediaBox\n",
      "CropBox missing from /Page, defaulting to MediaBox\n"
     ]
    },
    {
     "name": "stdout",
     "output_type": "stream",
     "text": [
      "Saved PDF to disk: data/2024/173.pdf\n"
     ]
    },
    {
     "name": "stderr",
     "output_type": "stream",
     "text": [
      "CropBox missing from /Page, defaulting to MediaBox\n",
      "CropBox missing from /Page, defaulting to MediaBox\n"
     ]
    },
    {
     "name": "stdout",
     "output_type": "stream",
     "text": [
      "Saved PDF to disk: data/2024/172.pdf\n"
     ]
    },
    {
     "name": "stderr",
     "output_type": "stream",
     "text": [
      "CropBox missing from /Page, defaulting to MediaBox\n",
      "CropBox missing from /Page, defaulting to MediaBox\n"
     ]
    },
    {
     "name": "stdout",
     "output_type": "stream",
     "text": [
      "Saved PDF to disk: data/2024/145.pdf\n"
     ]
    },
    {
     "name": "stderr",
     "output_type": "stream",
     "text": [
      "CropBox missing from /Page, defaulting to MediaBox\n",
      "CropBox missing from /Page, defaulting to MediaBox\n"
     ]
    },
    {
     "name": "stdout",
     "output_type": "stream",
     "text": [
      "Saved PDF to disk: data/2024/166.pdf\n"
     ]
    },
    {
     "name": "stderr",
     "output_type": "stream",
     "text": [
      "CropBox missing from /Page, defaulting to MediaBox\n",
      "CropBox missing from /Page, defaulting to MediaBox\n"
     ]
    },
    {
     "name": "stdout",
     "output_type": "stream",
     "text": [
      "Saved PDF to disk: data/2024/170.pdf\n"
     ]
    },
    {
     "name": "stderr",
     "output_type": "stream",
     "text": [
      "CropBox missing from /Page, defaulting to MediaBox\n",
      "CropBox missing from /Page, defaulting to MediaBox\n",
      "CropBox missing from /Page, defaulting to MediaBox\n",
      "CropBox missing from /Page, defaulting to MediaBox\n"
     ]
    },
    {
     "name": "stdout",
     "output_type": "stream",
     "text": [
      "Saved PDF to disk: data/2024/184.pdf\n",
      "Saved PDF to disk: data/2024/158.pdf\n"
     ]
    },
    {
     "name": "stderr",
     "output_type": "stream",
     "text": [
      "CropBox missing from /Page, defaulting to MediaBox\n",
      "CropBox missing from /Page, defaulting to MediaBox\n"
     ]
    },
    {
     "name": "stdout",
     "output_type": "stream",
     "text": [
      "Saved PDF to disk: data/2024/163.pdf\n"
     ]
    },
    {
     "name": "stderr",
     "output_type": "stream",
     "text": [
      "CropBox missing from /Page, defaulting to MediaBox\n",
      "CropBox missing from /Page, defaulting to MediaBox\n"
     ]
    },
    {
     "name": "stdout",
     "output_type": "stream",
     "text": [
      "Saved PDF to disk: data/2024/154.pdf\n"
     ]
    },
    {
     "name": "stderr",
     "output_type": "stream",
     "text": [
      "CropBox missing from /Page, defaulting to MediaBox\n",
      "CropBox missing from /Page, defaulting to MediaBox\n"
     ]
    },
    {
     "name": "stdout",
     "output_type": "stream",
     "text": [
      "Saved PDF to disk: data/2024/144.pdf\n"
     ]
    },
    {
     "name": "stderr",
     "output_type": "stream",
     "text": [
      "CropBox missing from /Page, defaulting to MediaBox\n",
      "CropBox missing from /Page, defaulting to MediaBox\n",
      "CropBox missing from /Page, defaulting to MediaBox\n",
      "CropBox missing from /Page, defaulting to MediaBox\n"
     ]
    },
    {
     "name": "stdout",
     "output_type": "stream",
     "text": [
      "Saved PDF to disk: data/2024/164.pdf\n",
      "Saved PDF to disk: data/2024/153.pdf\n"
     ]
    },
    {
     "name": "stderr",
     "output_type": "stream",
     "text": [
      "CropBox missing from /Page, defaulting to MediaBox\n",
      "CropBox missing from /Page, defaulting to MediaBox\n"
     ]
    },
    {
     "name": "stdout",
     "output_type": "stream",
     "text": [
      "Saved PDF to disk: data/2024/175.pdf\n"
     ]
    },
    {
     "name": "stderr",
     "output_type": "stream",
     "text": [
      "CropBox missing from /Page, defaulting to MediaBox\n",
      "CropBox missing from /Page, defaulting to MediaBox\n",
      "CropBox missing from /Page, defaulting to MediaBox\n",
      "CropBox missing from /Page, defaulting to MediaBox\n"
     ]
    },
    {
     "name": "stdout",
     "output_type": "stream",
     "text": [
      "Saved PDF to disk: data/2024/182.pdf\n",
      "Saved PDF to disk: data/2024/160.pdf\n"
     ]
    },
    {
     "name": "stderr",
     "output_type": "stream",
     "text": [
      "CropBox missing from /Page, defaulting to MediaBox\n",
      "CropBox missing from /Page, defaulting to MediaBox\n",
      "CropBox missing from /Page, defaulting to MediaBox\n"
     ]
    },
    {
     "name": "stdout",
     "output_type": "stream",
     "text": [
      "Saved PDF to disk: data/2024/152.pdf\n"
     ]
    },
    {
     "name": "stderr",
     "output_type": "stream",
     "text": [
      "CropBox missing from /Page, defaulting to MediaBox\n",
      "CropBox missing from /Page, defaulting to MediaBox\n",
      "CropBox missing from /Page, defaulting to MediaBox\n"
     ]
    },
    {
     "name": "stdout",
     "output_type": "stream",
     "text": [
      "Saved PDF to disk: data/2024/235.pdf\n",
      "Saved PDF to disk: data/2024/187.pdf\n"
     ]
    },
    {
     "name": "stderr",
     "output_type": "stream",
     "text": [
      "CropBox missing from /Page, defaulting to MediaBox\n",
      "CropBox missing from /Page, defaulting to MediaBox\n"
     ]
    },
    {
     "name": "stdout",
     "output_type": "stream",
     "text": [
      "Saved PDF to disk: data/2024/155.pdf\n"
     ]
    },
    {
     "name": "stderr",
     "output_type": "stream",
     "text": [
      "CropBox missing from /Page, defaulting to MediaBox\n",
      "CropBox missing from /Page, defaulting to MediaBox\n"
     ]
    },
    {
     "name": "stdout",
     "output_type": "stream",
     "text": [
      "Saved PDF to disk: data/2024/180.pdf\n"
     ]
    },
    {
     "name": "stderr",
     "output_type": "stream",
     "text": [
      "CropBox missing from /Page, defaulting to MediaBox\n",
      "CropBox missing from /Page, defaulting to MediaBox\n"
     ]
    },
    {
     "name": "stdout",
     "output_type": "stream",
     "text": [
      "Saved PDF to disk: data/2024/186.pdf\n"
     ]
    },
    {
     "name": "stderr",
     "output_type": "stream",
     "text": [
      "CropBox missing from /Page, defaulting to MediaBox\n",
      "CropBox missing from /Page, defaulting to MediaBox\n"
     ]
    },
    {
     "name": "stdout",
     "output_type": "stream",
     "text": [
      "Saved PDF to disk: data/2024/228.pdf\n"
     ]
    },
    {
     "name": "stderr",
     "output_type": "stream",
     "text": [
      "CropBox missing from /Page, defaulting to MediaBox\n",
      "CropBox missing from /Page, defaulting to MediaBox\n"
     ]
    },
    {
     "name": "stdout",
     "output_type": "stream",
     "text": [
      "Saved PDF to disk: data/2024/207.pdf\n"
     ]
    },
    {
     "name": "stderr",
     "output_type": "stream",
     "text": [
      "CropBox missing from /Page, defaulting to MediaBox\n",
      "CropBox missing from /Page, defaulting to MediaBox\n",
      "CropBox missing from /Page, defaulting to MediaBox\n",
      "CropBox missing from /Page, defaulting to MediaBox\n"
     ]
    },
    {
     "name": "stdout",
     "output_type": "stream",
     "text": [
      "Saved PDF to disk: data/2024/195.pdf\n",
      "Saved PDF to disk: data/2024/223.pdf\n"
     ]
    },
    {
     "name": "stderr",
     "output_type": "stream",
     "text": [
      "CropBox missing from /Page, defaulting to MediaBox\n",
      "CropBox missing from /Page, defaulting to MediaBox\n"
     ]
    },
    {
     "name": "stdout",
     "output_type": "stream",
     "text": [
      "Saved PDF to disk: data/2024/157.pdf\n"
     ]
    },
    {
     "name": "stderr",
     "output_type": "stream",
     "text": [
      "CropBox missing from /Page, defaulting to MediaBox\n",
      "CropBox missing from /Page, defaulting to MediaBox\n"
     ]
    },
    {
     "name": "stdout",
     "output_type": "stream",
     "text": [
      "Saved PDF to disk: data/2024/149.pdf\n"
     ]
    },
    {
     "name": "stderr",
     "output_type": "stream",
     "text": [
      "CropBox missing from /Page, defaulting to MediaBox\n",
      "CropBox missing from /Page, defaulting to MediaBox\n"
     ]
    },
    {
     "name": "stdout",
     "output_type": "stream",
     "text": [
      "Saved PDF to disk: data/2024/165.pdf\n"
     ]
    },
    {
     "name": "stderr",
     "output_type": "stream",
     "text": [
      "CropBox missing from /Page, defaulting to MediaBox\n",
      "CropBox missing from /Page, defaulting to MediaBox\n"
     ]
    },
    {
     "name": "stdout",
     "output_type": "stream",
     "text": [
      "Saved PDF to disk: data/2024/203.pdf\n"
     ]
    },
    {
     "name": "stderr",
     "output_type": "stream",
     "text": [
      "CropBox missing from /Page, defaulting to MediaBox\n",
      "CropBox missing from /Page, defaulting to MediaBox\n",
      "CropBox missing from /Page, defaulting to MediaBox\n",
      "CropBox missing from /Page, defaulting to MediaBox\n"
     ]
    },
    {
     "name": "stdout",
     "output_type": "stream",
     "text": [
      "Saved PDF to disk: data/2024/188.pdf\n",
      "Saved PDF to disk: data/2024/189.pdf\n"
     ]
    },
    {
     "name": "stderr",
     "output_type": "stream",
     "text": [
      "CropBox missing from /Page, defaulting to MediaBox\n",
      "CropBox missing from /Page, defaulting to MediaBox\n",
      "CropBox missing from /Page, defaulting to MediaBox\n",
      "CropBox missing from /Page, defaulting to MediaBox\n"
     ]
    },
    {
     "name": "stdout",
     "output_type": "stream",
     "text": [
      "Saved PDF to disk: data/2024/171.pdf\n",
      "Saved PDF to disk: data/2024/208.pdf\n"
     ]
    },
    {
     "name": "stderr",
     "output_type": "stream",
     "text": [
      "CropBox missing from /Page, defaulting to MediaBox\n",
      "CropBox missing from /Page, defaulting to MediaBox\n"
     ]
    },
    {
     "name": "stdout",
     "output_type": "stream",
     "text": [
      "Saved PDF to disk: data/2024/226.pdf\n"
     ]
    },
    {
     "name": "stderr",
     "output_type": "stream",
     "text": [
      "CropBox missing from /Page, defaulting to MediaBox\n",
      "CropBox missing from /Page, defaulting to MediaBox\n"
     ]
    },
    {
     "name": "stdout",
     "output_type": "stream",
     "text": [
      "Saved PDF to disk: data/2024/220.pdf\n"
     ]
    },
    {
     "name": "stderr",
     "output_type": "stream",
     "text": [
      "CropBox missing from /Page, defaulting to MediaBox\n",
      "CropBox missing from /Page, defaulting to MediaBox\n"
     ]
    },
    {
     "name": "stdout",
     "output_type": "stream",
     "text": [
      "Saved PDF to disk: data/2024/140.pdf\n"
     ]
    },
    {
     "name": "stderr",
     "output_type": "stream",
     "text": [
      "CropBox missing from /Page, defaulting to MediaBox\n",
      "CropBox missing from /Page, defaulting to MediaBox\n",
      "CropBox missing from /Page, defaulting to MediaBox\n",
      "CropBox missing from /Page, defaulting to MediaBox\n"
     ]
    },
    {
     "name": "stdout",
     "output_type": "stream",
     "text": [
      "Saved PDF to disk: data/2024/143.pdf\n",
      "Saved PDF to disk: data/2024/141.pdf\n"
     ]
    },
    {
     "name": "stderr",
     "output_type": "stream",
     "text": [
      "CropBox missing from /Page, defaulting to MediaBox\n",
      "CropBox missing from /Page, defaulting to MediaBox\n"
     ]
    },
    {
     "name": "stdout",
     "output_type": "stream",
     "text": [
      "Saved PDF to disk: data/2024/150.pdf\n"
     ]
    },
    {
     "name": "stderr",
     "output_type": "stream",
     "text": [
      "CropBox missing from /Page, defaulting to MediaBox\n",
      "CropBox missing from /Page, defaulting to MediaBox\n",
      "CropBox missing from /Page, defaulting to MediaBox\n",
      "CropBox missing from /Page, defaulting to MediaBox\n"
     ]
    },
    {
     "name": "stdout",
     "output_type": "stream",
     "text": [
      "Saved PDF to disk: data/2024/194.pdf\n",
      "Saved PDF to disk: data/2024/161.pdf\n"
     ]
    },
    {
     "name": "stderr",
     "output_type": "stream",
     "text": [
      "CropBox missing from /Page, defaulting to MediaBox\n",
      "CropBox missing from /Page, defaulting to MediaBox\n"
     ]
    },
    {
     "name": "stdout",
     "output_type": "stream",
     "text": [
      "Saved PDF to disk: data/2024/156.pdf\n"
     ]
    },
    {
     "name": "stderr",
     "output_type": "stream",
     "text": [
      "CropBox missing from /Page, defaulting to MediaBox\n",
      "CropBox missing from /Page, defaulting to MediaBox\n",
      "CropBox missing from /Page, defaulting to MediaBox\n",
      "CropBox missing from /Page, defaulting to MediaBox\n"
     ]
    },
    {
     "name": "stdout",
     "output_type": "stream",
     "text": [
      "Saved PDF to disk: data/2024/183.pdf\n",
      "Saved PDF to disk: data/2024/247.pdf\n"
     ]
    },
    {
     "name": "stderr",
     "output_type": "stream",
     "text": [
      "CropBox missing from /Page, defaulting to MediaBox\n",
      "CropBox missing from /Page, defaulting to MediaBox\n",
      "CropBox missing from /Page, defaulting to MediaBox\n",
      "CropBox missing from /Page, defaulting to MediaBox\n"
     ]
    },
    {
     "name": "stdout",
     "output_type": "stream",
     "text": [
      "Saved PDF to disk: data/2024/221.pdf\n",
      "Saved PDF to disk: data/2024/202.pdf\n"
     ]
    },
    {
     "name": "stderr",
     "output_type": "stream",
     "text": [
      "CropBox missing from /Page, defaulting to MediaBox\n",
      "CropBox missing from /Page, defaulting to MediaBox\n"
     ]
    },
    {
     "name": "stdout",
     "output_type": "stream",
     "text": [
      "Saved PDF to disk: data/2024/146.pdf\n"
     ]
    },
    {
     "name": "stderr",
     "output_type": "stream",
     "text": [
      "CropBox missing from /Page, defaulting to MediaBox\n",
      "CropBox missing from /Page, defaulting to MediaBox\n",
      "CropBox missing from /Page, defaulting to MediaBox\n",
      "CropBox missing from /Page, defaulting to MediaBox\n"
     ]
    },
    {
     "name": "stdout",
     "output_type": "stream",
     "text": [
      "Saved PDF to disk: data/2024/248.pdf\n",
      "Saved PDF to disk: data/2024/249.pdf\n"
     ]
    },
    {
     "name": "stderr",
     "output_type": "stream",
     "text": [
      "CropBox missing from /Page, defaulting to MediaBox\n",
      "CropBox missing from /Page, defaulting to MediaBox\n",
      "CropBox missing from /Page, defaulting to MediaBox\n",
      "CropBox missing from /Page, defaulting to MediaBox\n"
     ]
    },
    {
     "name": "stdout",
     "output_type": "stream",
     "text": [
      "Saved PDF to disk: data/2024/250.pdf\n",
      "Saved PDF to disk: data/2024/251.pdf\n"
     ]
    },
    {
     "name": "stderr",
     "output_type": "stream",
     "text": [
      "CropBox missing from /Page, defaulting to MediaBox\n",
      "CropBox missing from /Page, defaulting to MediaBox\n",
      "CropBox missing from /Page, defaulting to MediaBox\n",
      "CropBox missing from /Page, defaulting to MediaBox\n"
     ]
    },
    {
     "name": "stdout",
     "output_type": "stream",
     "text": [
      "Saved PDF to disk: data/2024/252.pdf\n",
      "Saved PDF to disk: data/2024/253.pdf\n"
     ]
    },
    {
     "name": "stderr",
     "output_type": "stream",
     "text": [
      "CropBox missing from /Page, defaulting to MediaBox\n",
      "CropBox missing from /Page, defaulting to MediaBox\n"
     ]
    },
    {
     "name": "stdout",
     "output_type": "stream",
     "text": [
      "Saved PDF to disk: data/2024/255.pdf\n"
     ]
    },
    {
     "name": "stderr",
     "output_type": "stream",
     "text": [
      "CropBox missing from /Page, defaulting to MediaBox\n",
      "CropBox missing from /Page, defaulting to MediaBox\n"
     ]
    },
    {
     "name": "stdout",
     "output_type": "stream",
     "text": [
      "Saved PDF to disk: data/2024/257.pdf\n"
     ]
    },
    {
     "name": "stderr",
     "output_type": "stream",
     "text": [
      "CropBox missing from /Page, defaulting to MediaBox\n",
      "CropBox missing from /Page, defaulting to MediaBox\n",
      "CropBox missing from /Page, defaulting to MediaBox\n",
      "CropBox missing from /Page, defaulting to MediaBox\n"
     ]
    },
    {
     "name": "stdout",
     "output_type": "stream",
     "text": [
      "Saved PDF to disk: data/2024/258.pdf\n",
      "Saved PDF to disk: data/2024/256.pdf\n"
     ]
    },
    {
     "name": "stderr",
     "output_type": "stream",
     "text": [
      "CropBox missing from /Page, defaulting to MediaBox\n",
      "CropBox missing from /Page, defaulting to MediaBox\n",
      "CropBox missing from /Page, defaulting to MediaBox\n",
      "CropBox missing from /Page, defaulting to MediaBox\n"
     ]
    },
    {
     "name": "stdout",
     "output_type": "stream",
     "text": [
      "Saved PDF to disk: data/2024/259.pdf\n",
      "Saved PDF to disk: data/2024/260.pdf\n"
     ]
    },
    {
     "name": "stderr",
     "output_type": "stream",
     "text": [
      "CropBox missing from /Page, defaulting to MediaBox\n",
      "CropBox missing from /Page, defaulting to MediaBox\n"
     ]
    },
    {
     "name": "stdout",
     "output_type": "stream",
     "text": [
      "Saved PDF to disk: data/2024/262.pdf\n"
     ]
    },
    {
     "name": "stderr",
     "output_type": "stream",
     "text": [
      "CropBox missing from /Page, defaulting to MediaBox\n",
      "CropBox missing from /Page, defaulting to MediaBox\n"
     ]
    },
    {
     "name": "stdout",
     "output_type": "stream",
     "text": [
      "Saved PDF to disk: data/2024/185.pdf\n"
     ]
    },
    {
     "name": "stderr",
     "output_type": "stream",
     "text": [
      "CropBox missing from /Page, defaulting to MediaBox\n",
      "CropBox missing from /Page, defaulting to MediaBox\n"
     ]
    },
    {
     "name": "stdout",
     "output_type": "stream",
     "text": [
      "Saved PDF to disk: data/2024/168.pdf\n"
     ]
    },
    {
     "name": "stderr",
     "output_type": "stream",
     "text": [
      "CropBox missing from /Page, defaulting to MediaBox\n",
      "CropBox missing from /Page, defaulting to MediaBox\n"
     ]
    },
    {
     "name": "stdout",
     "output_type": "stream",
     "text": [
      "Saved PDF to disk: data/2024/234.pdf\n"
     ]
    },
    {
     "name": "stderr",
     "output_type": "stream",
     "text": [
      "CropBox missing from /Page, defaulting to MediaBox\n",
      "CropBox missing from /Page, defaulting to MediaBox\n",
      "CropBox missing from /Page, defaulting to MediaBox\n",
      "CropBox missing from /Page, defaulting to MediaBox\n"
     ]
    },
    {
     "name": "stdout",
     "output_type": "stream",
     "text": [
      "Saved PDF to disk: data/2024/254.pdf\n",
      "Saved PDF to disk: data/2024/261.pdf\n"
     ]
    },
    {
     "name": "stderr",
     "output_type": "stream",
     "text": [
      "CropBox missing from /Page, defaulting to MediaBox\n",
      "CropBox missing from /Page, defaulting to MediaBox\n",
      "CropBox missing from /Page, defaulting to MediaBox\n",
      "CropBox missing from /Page, defaulting to MediaBox\n"
     ]
    },
    {
     "name": "stdout",
     "output_type": "stream",
     "text": [
      "Saved PDF to disk: data/2024/263.pdf\n",
      "Saved PDF to disk: data/2024/264.pdf\n"
     ]
    },
    {
     "name": "stderr",
     "output_type": "stream",
     "text": [
      "CropBox missing from /Page, defaulting to MediaBox\n",
      "CropBox missing from /Page, defaulting to MediaBox\n",
      "CropBox missing from /Page, defaulting to MediaBox\n",
      "CropBox missing from /Page, defaulting to MediaBox\n"
     ]
    },
    {
     "name": "stdout",
     "output_type": "stream",
     "text": [
      "Saved PDF to disk: data/2024/265.pdf\n",
      "Saved PDF to disk: data/2024/266.pdf\n"
     ]
    },
    {
     "name": "stderr",
     "output_type": "stream",
     "text": [
      "CropBox missing from /Page, defaulting to MediaBox\n",
      "CropBox missing from /Page, defaulting to MediaBox\n"
     ]
    },
    {
     "name": "stdout",
     "output_type": "stream",
     "text": [
      "Saved PDF to disk: data/2024/242.pdf\n"
     ]
    },
    {
     "name": "stderr",
     "output_type": "stream",
     "text": [
      "CropBox missing from /Page, defaulting to MediaBox\n",
      "CropBox missing from /Page, defaulting to MediaBox\n",
      "CropBox missing from /Page, defaulting to MediaBox\n",
      "CropBox missing from /Page, defaulting to MediaBox\n"
     ]
    },
    {
     "name": "stdout",
     "output_type": "stream",
     "text": [
      "Saved PDF to disk: data/2024/241.pdf\n",
      "Saved PDF to disk: data/2024/240.pdf\n"
     ]
    },
    {
     "name": "stderr",
     "output_type": "stream",
     "text": [
      "CropBox missing from /Page, defaulting to MediaBox\n",
      "CropBox missing from /Page, defaulting to MediaBox\n"
     ]
    },
    {
     "name": "stdout",
     "output_type": "stream",
     "text": [
      "Saved PDF to disk: data/2024/237.pdf\n"
     ]
    },
    {
     "name": "stderr",
     "output_type": "stream",
     "text": [
      "CropBox missing from /Page, defaulting to MediaBox\n",
      "CropBox missing from /Page, defaulting to MediaBox\n",
      "CropBox missing from /Page, defaulting to MediaBox\n",
      "CropBox missing from /Page, defaulting to MediaBox\n"
     ]
    },
    {
     "name": "stdout",
     "output_type": "stream",
     "text": [
      "Saved PDF to disk: data/2024/217.pdf\n",
      "Saved PDF to disk: data/2024/204.pdf\n"
     ]
    },
    {
     "name": "stderr",
     "output_type": "stream",
     "text": [
      "CropBox missing from /Page, defaulting to MediaBox\n",
      "CropBox missing from /Page, defaulting to MediaBox\n"
     ]
    },
    {
     "name": "stdout",
     "output_type": "stream",
     "text": [
      "Saved PDF to disk: data/2024/210.pdf\n"
     ]
    },
    {
     "name": "stderr",
     "output_type": "stream",
     "text": [
      "CropBox missing from /Page, defaulting to MediaBox\n",
      "CropBox missing from /Page, defaulting to MediaBox\n"
     ]
    },
    {
     "name": "stdout",
     "output_type": "stream",
     "text": [
      "Saved PDF to disk: data/2024/211.pdf\n"
     ]
    },
    {
     "name": "stderr",
     "output_type": "stream",
     "text": [
      "CropBox missing from /Page, defaulting to MediaBox\n",
      "CropBox missing from /Page, defaulting to MediaBox\n",
      "CropBox missing from /Page, defaulting to MediaBox\n",
      "CropBox missing from /Page, defaulting to MediaBox\n"
     ]
    },
    {
     "name": "stdout",
     "output_type": "stream",
     "text": [
      "Saved PDF to disk: data/2024/238.pdf\n",
      "Saved PDF to disk: data/2024/216.pdf\n"
     ]
    },
    {
     "name": "stderr",
     "output_type": "stream",
     "text": [
      "CropBox missing from /Page, defaulting to MediaBox\n",
      "CropBox missing from /Page, defaulting to MediaBox\n",
      "CropBox missing from /Page, defaulting to MediaBox\n",
      "CropBox missing from /Page, defaulting to MediaBox\n"
     ]
    },
    {
     "name": "stdout",
     "output_type": "stream",
     "text": [
      "Saved PDF to disk: data/2024/200.pdf\n",
      "Saved PDF to disk: data/2024/232.pdf\n"
     ]
    },
    {
     "name": "stderr",
     "output_type": "stream",
     "text": [
      "CropBox missing from /Page, defaulting to MediaBox\n",
      "CropBox missing from /Page, defaulting to MediaBox\n"
     ]
    },
    {
     "name": "stdout",
     "output_type": "stream",
     "text": [
      "Saved PDF to disk: data/2024/199.pdf\n"
     ]
    },
    {
     "name": "stderr",
     "output_type": "stream",
     "text": [
      "CropBox missing from /Page, defaulting to MediaBox\n",
      "CropBox missing from /Page, defaulting to MediaBox\n"
     ]
    },
    {
     "name": "stdout",
     "output_type": "stream",
     "text": [
      "Saved PDF to disk: data/2024/215.pdf\n"
     ]
    },
    {
     "name": "stderr",
     "output_type": "stream",
     "text": [
      "CropBox missing from /Page, defaulting to MediaBox\n",
      "CropBox missing from /Page, defaulting to MediaBox\n"
     ]
    },
    {
     "name": "stdout",
     "output_type": "stream",
     "text": [
      "Saved PDF to disk: data/2024/212.pdf\n"
     ]
    },
    {
     "name": "stderr",
     "output_type": "stream",
     "text": [
      "CropBox missing from /Page, defaulting to MediaBox\n",
      "CropBox missing from /Page, defaulting to MediaBox\n"
     ]
    },
    {
     "name": "stdout",
     "output_type": "stream",
     "text": [
      "Saved PDF to disk: data/2024/219.pdf\n"
     ]
    },
    {
     "name": "stderr",
     "output_type": "stream",
     "text": [
      "CropBox missing from /Page, defaulting to MediaBox\n",
      "CropBox missing from /Page, defaulting to MediaBox\n"
     ]
    },
    {
     "name": "stdout",
     "output_type": "stream",
     "text": [
      "Saved PDF to disk: data/2024/213.pdf\n"
     ]
    },
    {
     "name": "stderr",
     "output_type": "stream",
     "text": [
      "CropBox missing from /Page, defaulting to MediaBox\n",
      "CropBox missing from /Page, defaulting to MediaBox\n"
     ]
    },
    {
     "name": "stdout",
     "output_type": "stream",
     "text": [
      "Saved PDF to disk: data/2024/209.pdf\n"
     ]
    },
    {
     "name": "stderr",
     "output_type": "stream",
     "text": [
      "CropBox missing from /Page, defaulting to MediaBox\n",
      "CropBox missing from /Page, defaulting to MediaBox\n",
      "CropBox missing from /Page, defaulting to MediaBox\n",
      "CropBox missing from /Page, defaulting to MediaBox\n"
     ]
    },
    {
     "name": "stdout",
     "output_type": "stream",
     "text": [
      "Saved PDF to disk: data/2024/233.pdf\n",
      "Saved PDF to disk: data/2024/201.pdf\n"
     ]
    },
    {
     "name": "stderr",
     "output_type": "stream",
     "text": [
      "CropBox missing from /Page, defaulting to MediaBox\n",
      "CropBox missing from /Page, defaulting to MediaBox\n"
     ]
    },
    {
     "name": "stdout",
     "output_type": "stream",
     "text": [
      "Saved PDF to disk: data/2024/229.pdf\n"
     ]
    },
    {
     "name": "stderr",
     "output_type": "stream",
     "text": [
      "CropBox missing from /Page, defaulting to MediaBox\n",
      "CropBox missing from /Page, defaulting to MediaBox\n"
     ]
    },
    {
     "name": "stdout",
     "output_type": "stream",
     "text": [
      "Saved PDF to disk: data/2024/227.pdf\n"
     ]
    },
    {
     "name": "stderr",
     "output_type": "stream",
     "text": [
      "CropBox missing from /Page, defaulting to MediaBox\n",
      "CropBox missing from /Page, defaulting to MediaBox\n"
     ]
    },
    {
     "name": "stdout",
     "output_type": "stream",
     "text": [
      "Saved PDF to disk: data/2024/225.pdf\n"
     ]
    },
    {
     "name": "stderr",
     "output_type": "stream",
     "text": [
      "CropBox missing from /Page, defaulting to MediaBox\n",
      "CropBox missing from /Page, defaulting to MediaBox\n"
     ]
    },
    {
     "name": "stdout",
     "output_type": "stream",
     "text": [
      "Saved PDF to disk: data/2024/244.pdf\n"
     ]
    },
    {
     "name": "stderr",
     "output_type": "stream",
     "text": [
      "CropBox missing from /Page, defaulting to MediaBox\n",
      "CropBox missing from /Page, defaulting to MediaBox\n",
      "CropBox missing from /Page, defaulting to MediaBox\n"
     ]
    },
    {
     "name": "stdout",
     "output_type": "stream",
     "text": [
      "Saved PDF to disk: data/2024/246.pdf\n"
     ]
    },
    {
     "name": "stderr",
     "output_type": "stream",
     "text": [
      "CropBox missing from /Page, defaulting to MediaBox\n",
      "CropBox missing from /Page, defaulting to MediaBox\n",
      "CropBox missing from /Page, defaulting to MediaBox\n"
     ]
    },
    {
     "name": "stdout",
     "output_type": "stream",
     "text": [
      "Saved PDF to disk: data/2024/293.pdf\n",
      "Saved PDF to disk: data/2024/129.pdf\n"
     ]
    },
    {
     "name": "stderr",
     "output_type": "stream",
     "text": [
      "CropBox missing from /Page, defaulting to MediaBox\n",
      "CropBox missing from /Page, defaulting to MediaBox\n"
     ]
    },
    {
     "name": "stdout",
     "output_type": "stream",
     "text": [
      "Saved PDF to disk: data/2024/126.pdf\n"
     ]
    },
    {
     "name": "stderr",
     "output_type": "stream",
     "text": [
      "CropBox missing from /Page, defaulting to MediaBox\n",
      "CropBox missing from /Page, defaulting to MediaBox\n",
      "CropBox missing from /Page, defaulting to MediaBox\n",
      "CropBox missing from /Page, defaulting to MediaBox\n"
     ]
    },
    {
     "name": "stdout",
     "output_type": "stream",
     "text": [
      "Saved PDF to disk: data/2024/308.pdf\n",
      "Saved PDF to disk: data/2024/287.pdf\n"
     ]
    },
    {
     "name": "stderr",
     "output_type": "stream",
     "text": [
      "CropBox missing from /Page, defaulting to MediaBox\n",
      "CropBox missing from /Page, defaulting to MediaBox\n",
      "CropBox missing from /Page, defaulting to MediaBox\n",
      "CropBox missing from /Page, defaulting to MediaBox\n"
     ]
    },
    {
     "name": "stdout",
     "output_type": "stream",
     "text": [
      "Saved PDF to disk: data/2024/277.pdf\n",
      "Saved PDF to disk: data/2024/274.pdf\n"
     ]
    },
    {
     "name": "stderr",
     "output_type": "stream",
     "text": [
      "CropBox missing from /Page, defaulting to MediaBox\n",
      "CropBox missing from /Page, defaulting to MediaBox\n",
      "CropBox missing from /Page, defaulting to MediaBox\n"
     ]
    },
    {
     "name": "stdout",
     "output_type": "stream",
     "text": [
      "Saved PDF to disk: data/2024/304.pdf\n"
     ]
    },
    {
     "name": "stderr",
     "output_type": "stream",
     "text": [
      "CropBox missing from /Page, defaulting to MediaBox\n"
     ]
    },
    {
     "name": "stdout",
     "output_type": "stream",
     "text": [
      "Saved PDF to disk: data/2024/127.pdf\n"
     ]
    },
    {
     "name": "stderr",
     "output_type": "stream",
     "text": [
      "CropBox missing from /Page, defaulting to MediaBox\n",
      "CropBox missing from /Page, defaulting to MediaBox\n"
     ]
    },
    {
     "name": "stdout",
     "output_type": "stream",
     "text": [
      "Saved PDF to disk: data/2024/278.pdf\n"
     ]
    },
    {
     "name": "stderr",
     "output_type": "stream",
     "text": [
      "CropBox missing from /Page, defaulting to MediaBox\n",
      "CropBox missing from /Page, defaulting to MediaBox\n"
     ]
    },
    {
     "name": "stdout",
     "output_type": "stream",
     "text": [
      "Saved PDF to disk: data/2024/283.pdf\n"
     ]
    },
    {
     "name": "stderr",
     "output_type": "stream",
     "text": [
      "CropBox missing from /Page, defaulting to MediaBox\n",
      "CropBox missing from /Page, defaulting to MediaBox\n"
     ]
    },
    {
     "name": "stdout",
     "output_type": "stream",
     "text": [
      "Saved PDF to disk: data/2024/282.pdf\n"
     ]
    },
    {
     "name": "stderr",
     "output_type": "stream",
     "text": [
      "CropBox missing from /Page, defaulting to MediaBox\n",
      "CropBox missing from /Page, defaulting to MediaBox\n"
     ]
    },
    {
     "name": "stdout",
     "output_type": "stream",
     "text": [
      "Saved PDF to disk: data/2024/267.pdf\n"
     ]
    },
    {
     "name": "stderr",
     "output_type": "stream",
     "text": [
      "CropBox missing from /Page, defaulting to MediaBox\n",
      "CropBox missing from /Page, defaulting to MediaBox\n"
     ]
    },
    {
     "name": "stdout",
     "output_type": "stream",
     "text": [
      "Saved PDF to disk: data/2024/300.pdf\n"
     ]
    },
    {
     "name": "stderr",
     "output_type": "stream",
     "text": [
      "CropBox missing from /Page, defaulting to MediaBox\n",
      "CropBox missing from /Page, defaulting to MediaBox\n",
      "CropBox missing from /Page, defaulting to MediaBox\n",
      "CropBox missing from /Page, defaulting to MediaBox\n"
     ]
    },
    {
     "name": "stdout",
     "output_type": "stream",
     "text": [
      "Saved PDF to disk: data/2024/309.pdf\n",
      "Saved PDF to disk: data/2024/270.pdf\n"
     ]
    },
    {
     "name": "stderr",
     "output_type": "stream",
     "text": [
      "CropBox missing from /Page, defaulting to MediaBox\n",
      "CropBox missing from /Page, defaulting to MediaBox\n",
      "CropBox missing from /Page, defaulting to MediaBox\n",
      "CropBox missing from /Page, defaulting to MediaBox\n"
     ]
    },
    {
     "name": "stdout",
     "output_type": "stream",
     "text": [
      "Saved PDF to disk: data/2024/295.pdf\n",
      "Saved PDF to disk: data/2024/280.pdf\n"
     ]
    },
    {
     "name": "stderr",
     "output_type": "stream",
     "text": [
      "CropBox missing from /Page, defaulting to MediaBox\n",
      "CropBox missing from /Page, defaulting to MediaBox\n",
      "CropBox missing from /Page, defaulting to MediaBox\n",
      "CropBox missing from /Page, defaulting to MediaBox\n",
      "CropBox missing from /Page, defaulting to MediaBox\n",
      "CropBox missing from /Page, defaulting to MediaBox\n"
     ]
    },
    {
     "name": "stdout",
     "output_type": "stream",
     "text": [
      "Saved PDF to disk: data/2024/307.pdf\n",
      "Saved PDF to disk: data/2024/279.pdf\n",
      "Saved PDF to disk: data/2024/298.pdf\n"
     ]
    },
    {
     "name": "stderr",
     "output_type": "stream",
     "text": [
      "CropBox missing from /Page, defaulting to MediaBox\n",
      "CropBox missing from /Page, defaulting to MediaBox\n"
     ]
    },
    {
     "name": "stdout",
     "output_type": "stream",
     "text": [
      "Saved PDF to disk: data/2024/275.pdf\n"
     ]
    },
    {
     "name": "stderr",
     "output_type": "stream",
     "text": [
      "CropBox missing from /Page, defaulting to MediaBox\n",
      "CropBox missing from /Page, defaulting to MediaBox\n",
      "CropBox missing from /Page, defaulting to MediaBox\n",
      "CropBox missing from /Page, defaulting to MediaBox\n"
     ]
    },
    {
     "name": "stdout",
     "output_type": "stream",
     "text": [
      "Saved PDF to disk: data/2024/125.pdf\n",
      "Saved PDF to disk: data/2024/286.pdf\n"
     ]
    },
    {
     "name": "stderr",
     "output_type": "stream",
     "text": [
      "CropBox missing from /Page, defaulting to MediaBox\n",
      "CropBox missing from /Page, defaulting to MediaBox\n"
     ]
    },
    {
     "name": "stdout",
     "output_type": "stream",
     "text": [
      "Saved PDF to disk: data/2024/291.pdf\n"
     ]
    },
    {
     "name": "stderr",
     "output_type": "stream",
     "text": [
      "CropBox missing from /Page, defaulting to MediaBox\n",
      "CropBox missing from /Page, defaulting to MediaBox\n",
      "CropBox missing from /Page, defaulting to MediaBox\n",
      "CropBox missing from /Page, defaulting to MediaBox\n"
     ]
    },
    {
     "name": "stdout",
     "output_type": "stream",
     "text": [
      "Saved PDF to disk: data/2024/124.pdf\n",
      "Saved PDF to disk: data/2024/268.pdf\n"
     ]
    },
    {
     "name": "stderr",
     "output_type": "stream",
     "text": [
      "CropBox missing from /Page, defaulting to MediaBox\n",
      "CropBox missing from /Page, defaulting to MediaBox\n",
      "CropBox missing from /Page, defaulting to MediaBox\n",
      "CropBox missing from /Page, defaulting to MediaBox\n"
     ]
    },
    {
     "name": "stdout",
     "output_type": "stream",
     "text": [
      "Saved PDF to disk: data/2024/292.pdf\n",
      "Saved PDF to disk: data/2024/303.pdf\n"
     ]
    },
    {
     "name": "stderr",
     "output_type": "stream",
     "text": [
      "CropBox missing from /Page, defaulting to MediaBox\n",
      "CropBox missing from /Page, defaulting to MediaBox\n"
     ]
    },
    {
     "name": "stdout",
     "output_type": "stream",
     "text": [
      "Saved PDF to disk: data/2024/301.pdf\n"
     ]
    },
    {
     "name": "stderr",
     "output_type": "stream",
     "text": [
      "CropBox missing from /Page, defaulting to MediaBox\n",
      "CropBox missing from /Page, defaulting to MediaBox\n",
      "CropBox missing from /Page, defaulting to MediaBox\n",
      "CropBox missing from /Page, defaulting to MediaBox\n"
     ]
    },
    {
     "name": "stdout",
     "output_type": "stream",
     "text": [
      "Saved PDF to disk: data/2024/281.pdf\n",
      "Saved PDF to disk: data/2024/162.pdf\n"
     ]
    },
    {
     "name": "stderr",
     "output_type": "stream",
     "text": [
      "CropBox missing from /Page, defaulting to MediaBox\n",
      "CropBox missing from /Page, defaulting to MediaBox\n"
     ]
    },
    {
     "name": "stdout",
     "output_type": "stream",
     "text": [
      "Saved PDF to disk: data/2024/289.pdf\n"
     ]
    },
    {
     "name": "stderr",
     "output_type": "stream",
     "text": [
      "CropBox missing from /Page, defaulting to MediaBox\n",
      "CropBox missing from /Page, defaulting to MediaBox\n"
     ]
    },
    {
     "name": "stdout",
     "output_type": "stream",
     "text": [
      "Saved PDF to disk: data/2024/269.pdf\n"
     ]
    },
    {
     "name": "stderr",
     "output_type": "stream",
     "text": [
      "CropBox missing from /Page, defaulting to MediaBox\n",
      "CropBox missing from /Page, defaulting to MediaBox\n",
      "CropBox missing from /Page, defaulting to MediaBox\n",
      "CropBox missing from /Page, defaulting to MediaBox\n"
     ]
    },
    {
     "name": "stdout",
     "output_type": "stream",
     "text": [
      "Saved PDF to disk: data/2024/273.pdf\n",
      "Saved PDF to disk: data/2024/288.pdf\n"
     ]
    },
    {
     "name": "stderr",
     "output_type": "stream",
     "text": [
      "CropBox missing from /Page, defaulting to MediaBox\n",
      "CropBox missing from /Page, defaulting to MediaBox\n"
     ]
    },
    {
     "name": "stdout",
     "output_type": "stream",
     "text": [
      "Saved PDF to disk: data/2024/302.pdf\n"
     ]
    },
    {
     "name": "stderr",
     "output_type": "stream",
     "text": [
      "CropBox missing from /Page, defaulting to MediaBox\n",
      "CropBox missing from /Page, defaulting to MediaBox\n",
      "CropBox missing from /Page, defaulting to MediaBox\n",
      "CropBox missing from /Page, defaulting to MediaBox\n"
     ]
    },
    {
     "name": "stdout",
     "output_type": "stream",
     "text": [
      "Saved PDF to disk: data/2024/193.pdf\n",
      "Saved PDF to disk: data/2024/167.pdf\n"
     ]
    },
    {
     "name": "stderr",
     "output_type": "stream",
     "text": [
      "CropBox missing from /Page, defaulting to MediaBox\n",
      "CropBox missing from /Page, defaulting to MediaBox\n"
     ]
    },
    {
     "name": "stdout",
     "output_type": "stream",
     "text": [
      "Saved PDF to disk: data/2024/169.pdf\n"
     ]
    },
    {
     "name": "stderr",
     "output_type": "stream",
     "text": [
      "CropBox missing from /Page, defaulting to MediaBox\n",
      "CropBox missing from /Page, defaulting to MediaBox\n"
     ]
    },
    {
     "name": "stdout",
     "output_type": "stream",
     "text": [
      "Saved PDF to disk: data/2024/181.pdf\n"
     ]
    },
    {
     "name": "stderr",
     "output_type": "stream",
     "text": [
      "CropBox missing from /Page, defaulting to MediaBox\n",
      "CropBox missing from /Page, defaulting to MediaBox\n"
     ]
    },
    {
     "name": "stdout",
     "output_type": "stream",
     "text": [
      "Saved PDF to disk: data/2024/276.pdf\n"
     ]
    },
    {
     "name": "stderr",
     "output_type": "stream",
     "text": [
      "CropBox missing from /Page, defaulting to MediaBox\n",
      "CropBox missing from /Page, defaulting to MediaBox\n",
      "CropBox missing from /Page, defaulting to MediaBox\n"
     ]
    },
    {
     "name": "stdout",
     "output_type": "stream",
     "text": [
      "Saved PDF to disk: data/2024/178.pdf\n",
      "Successfully saved 275 of 309 PDFs\n"
     ]
    }
   ],
   "source": [
    "# Now populate the columns from the extracted patterns\n",
    "def extract_and_expand(text):\n",
    "    if text and not isinstance(text, str) or (isinstance(text, str) and not text.startswith(\"ERROR:\")):\n",
    "        patterns = extract_multiple_patterns(text)\n",
    "        return patterns\n",
    "    return {key: None for key in ['total_no_plots', 'ews', 'regular', 'date', 'reference_number']}\n",
    "\n",
    "# Usage with asyncio\n",
    "async def process_df(df):\n",
    "    results_text = []\n",
    "    results_saved = []\n",
    "    async with aiohttp.ClientSession() as session:\n",
    "        tasks = [downlaod_and_extract_pdf(session, row) for _, row in df.iterrows()]\n",
    "        batch_results = await asyncio.gather(*tasks)\n",
    "        \n",
    "        # Unpack results\n",
    "        batch_text, batch_saved = zip(*batch_results)\n",
    "        results_text.extend(batch_text)\n",
    "        results_saved.extend(batch_saved)\n",
    "        \n",
    "    result_df = df.copy()\n",
    "    result_df['extracted_text'] = results_text\n",
    "    result_df['saved_to_disk'] = results_saved\n",
    "    return result_df\n",
    "\n",
    "\n",
    "async def main():\n",
    "    # Process first 20 rows as an example\n",
    "    result_df = await process_df(df)\n",
    "    \n",
    "    # Now you can use the DataFrame as usual\n",
    "    print(f\"Successfully saved {result_df['saved_to_disk'].sum()} of {len(result_df)} PDFs\")\n",
    "    \n",
    "    # Apply pattern extraction to the extracted text and expand into separate columns\n",
    "    for key in ['total_no_plots', 'ews', 'regular', 'date', 'reference_number']:\n",
    "        result_df[key] = None  # Initialize columns\n",
    "\n",
    "\n",
    "    # Apply the extraction function\n",
    "    pattern_dicts = result_df['extracted_text'].apply(extract_and_expand)\n",
    "\n",
    "    # Expand the dictionaries into separate columns\n",
    "    for key in ['total_no_plots', 'ews', 'regular', 'date', 'reference_number']:\n",
    "        result_df[key] = pattern_dicts.apply(lambda x: x.get(key))\n",
    "    \n",
    "    return result_df\n",
    "\n",
    "# Run the async function\n",
    "result_df = await main()"
   ]
  },
  {
   "cell_type": "code",
   "execution_count": 35,
   "id": "b4d1e975",
   "metadata": {},
   "outputs": [],
   "source": [
    "pqdf = result_df.drop(columns='bs4')\n",
    "pqdf.to_parquet('./2024extract.parquet')"
   ]
  },
  {
   "cell_type": "code",
   "execution_count": 37,
   "id": "461a6659",
   "metadata": {},
   "outputs": [
    {
     "data": {
      "application/vnd.microsoft.datawrangler.viewer.v0+json": {
       "columns": [
        {
         "name": "index",
         "rawType": "int64",
         "type": "integer"
        },
        {
         "name": "SNo.",
         "rawType": "object",
         "type": "string"
        },
        {
         "name": "Approval No. PPD/L.O. No.",
         "rawType": "object",
         "type": "string"
        },
        {
         "name": "Localbody",
         "rawType": "object",
         "type": "string"
        },
        {
         "name": "Village",
         "rawType": "object",
         "type": "string"
        },
        {
         "name": "url",
         "rawType": "object",
         "type": "string"
        },
        {
         "name": "extracted_ppl",
         "rawType": "object",
         "type": "string"
        },
        {
         "name": "pdf_savepath",
         "rawType": "object",
         "type": "string"
        },
        {
         "name": "extracted_text",
         "rawType": "object",
         "type": "string"
        },
        {
         "name": "saved_to_disk",
         "rawType": "bool",
         "type": "boolean"
        },
        {
         "name": "total_no_plots",
         "rawType": "object",
         "type": "unknown"
        },
        {
         "name": "ews",
         "rawType": "object",
         "type": "unknown"
        },
        {
         "name": "regular",
         "rawType": "object",
         "type": "unknown"
        },
        {
         "name": "date",
         "rawType": "object",
         "type": "unknown"
        },
        {
         "name": "reference_number",
         "rawType": "object",
         "type": "unknown"
        }
       ],
       "conversionMethod": "pd.DataFrame",
       "ref": "0ea99775-8090-4fb7-8106-0abc0f8aac2e",
       "rows": [
        [
         "6",
         "7",
         "07/2024",
         "Thiruverkadu MP",
         "Noombal",
         "https://www.cmdachennai.gov.in/pdfs/layouts/2024/07-2024.pdf",
         "07/2024",
         "2024/07.pdf",
         "ERROR: 503, message='Service Unavailable', url='https://www.cmdachennai.gov.in/pdfs/layouts/2024/07-2024.pdf'",
         "False",
         null,
         null,
         null,
         null,
         null
        ],
        [
         "16",
         "17",
         "17/2024",
         "Sholavaram PU",
         "Nayar II",
         "https://www.cmdachennai.gov.in/pdfs/layouts/2024/17-2024.pdf",
         "17/2024",
         "2024/17.pdf",
         "ERROR: 503, message='Service Unavailable', url='https://www.cmdachennai.gov.in/pdfs/layouts/2024/17-2024.pdf'",
         "False",
         null,
         null,
         null,
         null,
         null
        ],
        [
         "36",
         "37",
         "37/2024",
         "St.Thomas Mount PU",
         "Kaspapuram",
         "https://www.cmdachennai.gov.in/pdfs/layouts/2024/37-2024.pdf",
         "37/2024",
         "2024/37.pdf",
         "ERROR: 503, message='Service Unavailable', url='https://www.cmdachennai.gov.in/pdfs/layouts/2024/37-2024.pdf'",
         "False",
         null,
         null,
         null,
         null,
         null
        ],
        [
         "69",
         "70",
         "70/2024",
         "Kundrathur PU",
         "Kulathuvancheri",
         "https://www.cmdachennai.gov.in/pdfs/layouts/2024/70-2024.pdf",
         "70/2024",
         "2024/70.pdf",
         "ERROR: 503, message='Service Unavailable', url='https://www.cmdachennai.gov.in/pdfs/layouts/2024/70-2024.pdf'",
         "False",
         null,
         null,
         null,
         null,
         null
        ],
        [
         "80",
         "81",
         "81/2024",
         "Kundrathur PU",
         "Kovur",
         "https://www.cmdachennai.gov.in/pdfs/layouts/2024/81-2024.pdf",
         "81/2024",
         "2024/81.pdf",
         "ERROR: 503, message='Service Unavailable', url='https://www.cmdachennai.gov.in/pdfs/layouts/2024/81-2024.pdf'",
         "False",
         null,
         null,
         null,
         null,
         null
        ],
        [
         "93",
         "94",
         "94/2024",
         "Poonamallee PU",
         "Sithukkadu,",
         "https://www.cmdachennai.gov.in/pdfs/layouts/2024/94-2024.pdf",
         "94/2024",
         "2024/94.pdf",
         "ERROR: 503, message='Service Unavailable', url='https://www.cmdachennai.gov.in/pdfs/layouts/2024/94-2024.pdf'",
         "False",
         null,
         null,
         null,
         null,
         null
        ],
        [
         "94",
         "95",
         "95/2024",
         "St.Thomas Mount PU",
         "Agaramthen",
         "https://www.cmdachennai.gov.in/pdfs/layouts/2024/95-2024.pdf",
         "95/2024",
         "2024/95.pdf",
         "ERROR: 503, message='Service Unavailable', url='https://www.cmdachennai.gov.in/pdfs/layouts/2024/95-2024.pdf'",
         "False",
         null,
         null,
         null,
         null,
         null
        ],
        [
         "127",
         "128",
         "128/2024",
         "St.Thomas Mount PU",
         "Vengambakkam",
         "https://www.cmdachennai.gov.in/pdfs/layouts/2024/128-2024.pdf",
         "128/2024",
         "2024/128.pdf",
         "ERROR: 503, message='Service Unavailable', url='https://www.cmdachennai.gov.in/pdfs/layouts/2024/128-2024.pdf'",
         "False",
         null,
         null,
         null,
         null,
         null
        ],
        [
         "129",
         "130",
         "130/2024",
         "Puzhal PU",
         "Vilangadupakkam",
         "https://www.cmdachennai.gov.in/pdfs/layouts/2024/130-2024.pdf",
         "130/2024",
         "2024/130.pdf",
         "ERROR: 503, message='Service Unavailable', url='https://www.cmdachennai.gov.in/pdfs/layouts/2024/130-2024.pdf'",
         "False",
         null,
         null,
         null,
         null,
         null
        ],
        [
         "130",
         "131",
         "131/2024",
         "St.Thomas Mount PU",
         "Arasankazhani",
         "https://www.cmdachennai.gov.in/pdfs/layouts/2024/131-2024.pdf",
         "131/2024",
         "2024/131.pdf",
         "ERROR: 503, message='Service Unavailable', url='https://www.cmdachennai.gov.in/pdfs/layouts/2024/131-2024.pdf'",
         "False",
         null,
         null,
         null,
         null,
         null
        ],
        [
         "131",
         "132",
         "132/2024",
         "Tambaram Corporation",
         "Selaiyur",
         "https://www.cmdachennai.gov.in/pdfs/layouts/2024/132-2024.pdf",
         "132/2024",
         "2024/132.pdf",
         "ERROR: Connection timeout to host https://www.cmdachennai.gov.in/pdfs/layouts/2024/132-2024.pdf",
         "False",
         null,
         null,
         null,
         null,
         null
        ],
        [
         "132",
         "133",
         "133/2024",
         "Kundrathur PU",
         "Gerugambakkam",
         "https://www.cmdachennai.gov.in/pdfs/layouts/2024/133-2024.pdf",
         "133/2024",
         "2024/133.pdf",
         "ERROR: Connection timeout to host https://www.cmdachennai.gov.in/pdfs/layouts/2024/133-2024.pdf",
         "False",
         null,
         null,
         null,
         null,
         null
        ],
        [
         "133",
         "134",
         "134/2024",
         "Poonamallee PU",
         "Nemam-B",
         "https://www.cmdachennai.gov.in/pdfs/layouts/2024/134-2024.pdf",
         "134/2024",
         "2024/134.pdf",
         "ERROR: Connection timeout to host https://www.cmdachennai.gov.in/pdfs/layouts/2024/134-2024.pdf",
         "False",
         null,
         null,
         null,
         null,
         null
        ],
        [
         "134",
         "135",
         "135/2024",
         "Tambaram Corporation",
         "Anakaputhur",
         "https://www.cmdachennai.gov.in/pdfs/layouts/2024/135-2024.pdf",
         "135/2024",
         "2024/135.pdf",
         "ERROR: Connection timeout to host https://www.cmdachennai.gov.in/pdfs/layouts/2024/135-2024.pdf",
         "False",
         null,
         null,
         null,
         null,
         null
        ],
        [
         "141",
         "142",
         "142/2024",
         "Kattankolathur PU",
         "Nedungundram",
         "https://www.cmdachennai.gov.in/pdfs/layouts/2024/142-2024.pdf",
         "142/2024",
         "2024/142.pdf",
         "ERROR: 503, message='Service Unavailable', url='https://www.cmdachennai.gov.in/pdfs/layouts/2024/142-2024.pdf'",
         "False",
         null,
         null,
         null,
         null,
         null
        ],
        [
         "195",
         "196",
         "196/2024",
         "Sholavaram PU",
         "Mafuskhanpet",
         "https://www.cmdachennai.gov.in/pdfs/layouts/2024/196-2024.pdf",
         "196/2024",
         "2024/196.pdf",
         "ERROR: 503, message='Service Unavailable', url='https://www.cmdachennai.gov.in/pdfs/layouts/2024/196-2024.pdf'",
         "False",
         null,
         null,
         null,
         null,
         null
        ],
        [
         "204",
         "205",
         "205/2024",
         "Villivakkam PU",
         "Ayapakkam",
         "https://www.cmdachennai.gov.in/pdfs/layouts/2024/205-2024.pdf",
         "205/2024",
         "2024/205.pdf",
         "ERROR: 503, message='Service Unavailable', url='https://www.cmdachennai.gov.in/pdfs/layouts/2024/205-2024.pdf'",
         "False",
         null,
         null,
         null,
         null,
         null
        ],
        [
         "205",
         "206",
         "206/2024",
         "St.Thomas Mount PU",
         "Arasankazhani",
         "https://www.cmdachennai.gov.in/pdfs/layouts/2024/206-2024.pdf",
         "206/2024",
         "2024/206.pdf",
         "ERROR: 503, message='Service Unavailable', url='https://www.cmdachennai.gov.in/pdfs/layouts/2024/206-2024.pdf'",
         "False",
         null,
         null,
         null,
         null,
         null
        ],
        [
         "217",
         "218",
         "218/2024",
         "Kundrathur PU",
         "Varadharajapuram",
         "https://www.cmdachennai.gov.in/pdfs/layouts/2024/218-2024.pdf",
         "218/2024",
         "2024/218.pdf",
         "ERROR: 503, message='Service Unavailable', url='https://www.cmdachennai.gov.in/pdfs/layouts/2024/218-2024.pdf'",
         "False",
         null,
         null,
         null,
         null,
         null
        ],
        [
         "223",
         "224",
         "224/2024",
         "Tambaram Corporation",
         "Tambaram",
         "https://www.cmdachennai.gov.in/pdfs/layouts/2024/224-2024.pdf",
         "224/2024",
         "2024/224.pdf",
         "ERROR: 503, message='Service Unavailable', url='https://www.cmdachennai.gov.in/pdfs/layouts/2024/224-2024.pdf'",
         "False",
         null,
         null,
         null,
         null,
         null
        ],
        [
         "229",
         "230",
         "230/2024",
         "Tiruvallur PU",
         "Pakkam",
         "https://www.cmdachennai.gov.in/pdfs/layouts/2024/230-2024.pdf",
         "230/2024",
         "2024/230.pdf",
         "ERROR: 503, message='Service Unavailable', url='https://www.cmdachennai.gov.in/pdfs/layouts/2024/230-2024.pdf'",
         "False",
         null,
         null,
         null,
         null,
         null
        ],
        [
         "235",
         "236",
         "236/2024",
         "Poonamallee PU",
         "Sorancheri - A",
         "https://www.cmdachennai.gov.in/pdfs/layouts/2024/236-2024.pdf",
         "236/2024",
         "2024/236.pdf",
         "ERROR: 503, message='Service Unavailable', url='https://www.cmdachennai.gov.in/pdfs/layouts/2024/236-2024.pdf'",
         "False",
         null,
         null,
         null,
         null,
         null
        ],
        [
         "238",
         "239",
         "239/2024",
         "Kattankolathur PU",
         "Puthur",
         "https://www.cmdachennai.gov.in/pdfs/layouts/2024/239-2024.pdf",
         "239/2024",
         "2024/239.pdf",
         "ERROR: 503, message='Service Unavailable', url='https://www.cmdachennai.gov.in/pdfs/layouts/2024/239-2024.pdf'",
         "False",
         null,
         null,
         null,
         null,
         null
        ],
        [
         "270",
         "271",
         "271/2024",
         "Poonamallee PU",
         "Kilmanambedu",
         "https://www.cmdachennai.gov.in/pdfs/layouts/2024/271-2024.pdf",
         "271/2024",
         "2024/271.pdf",
         "ERROR: 503, message='Service Unavailable', url='https://www.cmdachennai.gov.in/pdfs/layouts/2024/271-2024.pdf'",
         "False",
         null,
         null,
         null,
         null,
         null
        ],
        [
         "271",
         "272",
         "272/2024",
         "St.Thomas Mount PU",
         "Kaspapuram",
         "https://www.cmdachennai.gov.in/pdfs/layouts/2024/272-2024.pdf",
         "272/2024",
         "2024/272.pdf",
         "ERROR: 503, message='Service Unavailable', url='https://www.cmdachennai.gov.in/pdfs/layouts/2024/272-2024.pdf'",
         "False",
         null,
         null,
         null,
         null,
         null
        ],
        [
         "283",
         "284",
         "284/2024",
         "St.Thomas Mount PU",
         "Medavakkam",
         "https://www.cmdachennai.gov.in/pdfs/layouts/2024/284-2024.pdf",
         "284/2024",
         "2024/284.pdf",
         "ERROR: 503, message='Service Unavailable', url='https://www.cmdachennai.gov.in/pdfs/layouts/2024/284-2024.pdf'",
         "False",
         null,
         null,
         null,
         null,
         null
        ],
        [
         "284",
         "285",
         "285/2024",
         "Kundrathur PU",
         "Malayambakkam",
         "https://www.cmdachennai.gov.in/pdfs/layouts/2024/285-2024.pdf",
         "285/2024",
         "2024/285.pdf",
         "ERROR: 503, message='Service Unavailable', url='https://www.cmdachennai.gov.in/pdfs/layouts/2024/285-2024.pdf'",
         "False",
         null,
         null,
         null,
         null,
         null
        ],
        [
         "289",
         "290",
         "290/2024",
         "Tambaram Corporation",
         "Madambakkam",
         "https://www.cmdachennai.gov.in/pdfs/layouts/2024/290-2024.pdf",
         "290/2024",
         "2024/290.pdf",
         "ERROR: 503, message='Service Unavailable', url='https://www.cmdachennai.gov.in/pdfs/layouts/2024/290-2024.pdf'",
         "False",
         null,
         null,
         null,
         null,
         null
        ],
        [
         "293",
         "294",
         "294/2024",
         "Minjur TP",
         "Minjur",
         "https://www.cmdachennai.gov.in/pdfs/layouts/2024/294-2024.pdf",
         "294/2024",
         "2024/294.pdf",
         "ERROR: 503, message='Service Unavailable', url='https://www.cmdachennai.gov.in/pdfs/layouts/2024/294-2024.pdf'",
         "False",
         null,
         null,
         null,
         null,
         null
        ],
        [
         "295",
         "296",
         "296/2024",
         "Minjur TP",
         "Minjur",
         "https://www.cmdachennai.gov.in/pdfs/layouts/2024/296-2024.pdf",
         "296/2024",
         "2024/296.pdf",
         "ERROR: 503, message='Service Unavailable', url='https://www.cmdachennai.gov.in/pdfs/layouts/2024/296-2024.pdf'",
         "False",
         null,
         null,
         null,
         null,
         null
        ],
        [
         "296",
         "297",
         "297/2024",
         "Poonamallee PU",
         "Kuthambakkam",
         "https://www.cmdachennai.gov.in/pdfs/layouts/2024/297-2024.pdf",
         "297/2024",
         "2024/297.pdf",
         "ERROR: 503, message='Service Unavailable', url='https://www.cmdachennai.gov.in/pdfs/layouts/2024/297-2024.pdf'",
         "False",
         null,
         null,
         null,
         null,
         null
        ],
        [
         "298",
         "299",
         "299/2024",
         "Poonamallee PU",
         "Kannapalayam",
         "https://www.cmdachennai.gov.in/pdfs/layouts/2024/299-2024.pdf",
         "299/2024",
         "2024/299.pdf",
         "ERROR: 503, message='Service Unavailable', url='https://www.cmdachennai.gov.in/pdfs/layouts/2024/299-2024.pdf'",
         "False",
         null,
         null,
         null,
         null,
         null
        ],
        [
         "304",
         "305",
         "305/2024",
         "Poonamallee PU",
         "Parivakkam",
         "https://www.cmdachennai.gov.in/pdfs/layouts/2024/305-2024.pdf",
         "305/2024",
         "2024/305.pdf",
         "ERROR: 503, message='Service Unavailable', url='https://www.cmdachennai.gov.in/pdfs/layouts/2024/305-2024.pdf'",
         "False",
         null,
         null,
         null,
         null,
         null
        ],
        [
         "305",
         "306",
         "306/2024",
         "Poonamallee PU",
         "Chokkanallur",
         "https://www.cmdachennai.gov.in/pdfs/layouts/2024/306-2024.pdf",
         "306/2024",
         "2024/306.pdf",
         "ERROR: 503, message='Service Unavailable', url='https://www.cmdachennai.gov.in/pdfs/layouts/2024/306-2024.pdf'",
         "False",
         null,
         null,
         null,
         null,
         null
        ]
       ],
       "shape": {
        "columns": 14,
        "rows": 34
       }
      },
      "text/html": [
       "<div>\n",
       "<style scoped>\n",
       "    .dataframe tbody tr th:only-of-type {\n",
       "        vertical-align: middle;\n",
       "    }\n",
       "\n",
       "    .dataframe tbody tr th {\n",
       "        vertical-align: top;\n",
       "    }\n",
       "\n",
       "    .dataframe thead th {\n",
       "        text-align: right;\n",
       "    }\n",
       "</style>\n",
       "<table border=\"1\" class=\"dataframe\">\n",
       "  <thead>\n",
       "    <tr style=\"text-align: right;\">\n",
       "      <th></th>\n",
       "      <th>SNo.</th>\n",
       "      <th>Approval No. PPD/L.O. No.</th>\n",
       "      <th>Localbody</th>\n",
       "      <th>Village</th>\n",
       "      <th>url</th>\n",
       "      <th>extracted_ppl</th>\n",
       "      <th>pdf_savepath</th>\n",
       "      <th>extracted_text</th>\n",
       "      <th>saved_to_disk</th>\n",
       "      <th>total_no_plots</th>\n",
       "      <th>ews</th>\n",
       "      <th>regular</th>\n",
       "      <th>date</th>\n",
       "      <th>reference_number</th>\n",
       "    </tr>\n",
       "  </thead>\n",
       "  <tbody>\n",
       "    <tr>\n",
       "      <th>6</th>\n",
       "      <td>7</td>\n",
       "      <td>07/2024</td>\n",
       "      <td>Thiruverkadu MP</td>\n",
       "      <td>Noombal</td>\n",
       "      <td>https://www.cmdachennai.gov.in/pdfs/layouts/20...</td>\n",
       "      <td>07/2024</td>\n",
       "      <td>2024/07.pdf</td>\n",
       "      <td>ERROR: 503, message='Service Unavailable', url...</td>\n",
       "      <td>False</td>\n",
       "      <td>None</td>\n",
       "      <td>None</td>\n",
       "      <td>None</td>\n",
       "      <td>None</td>\n",
       "      <td>None</td>\n",
       "    </tr>\n",
       "    <tr>\n",
       "      <th>16</th>\n",
       "      <td>17</td>\n",
       "      <td>17/2024</td>\n",
       "      <td>Sholavaram PU</td>\n",
       "      <td>Nayar II</td>\n",
       "      <td>https://www.cmdachennai.gov.in/pdfs/layouts/20...</td>\n",
       "      <td>17/2024</td>\n",
       "      <td>2024/17.pdf</td>\n",
       "      <td>ERROR: 503, message='Service Unavailable', url...</td>\n",
       "      <td>False</td>\n",
       "      <td>None</td>\n",
       "      <td>None</td>\n",
       "      <td>None</td>\n",
       "      <td>None</td>\n",
       "      <td>None</td>\n",
       "    </tr>\n",
       "    <tr>\n",
       "      <th>36</th>\n",
       "      <td>37</td>\n",
       "      <td>37/2024</td>\n",
       "      <td>St.Thomas Mount PU</td>\n",
       "      <td>Kaspapuram</td>\n",
       "      <td>https://www.cmdachennai.gov.in/pdfs/layouts/20...</td>\n",
       "      <td>37/2024</td>\n",
       "      <td>2024/37.pdf</td>\n",
       "      <td>ERROR: 503, message='Service Unavailable', url...</td>\n",
       "      <td>False</td>\n",
       "      <td>None</td>\n",
       "      <td>None</td>\n",
       "      <td>None</td>\n",
       "      <td>None</td>\n",
       "      <td>None</td>\n",
       "    </tr>\n",
       "    <tr>\n",
       "      <th>69</th>\n",
       "      <td>70</td>\n",
       "      <td>70/2024</td>\n",
       "      <td>Kundrathur PU</td>\n",
       "      <td>Kulathuvancheri</td>\n",
       "      <td>https://www.cmdachennai.gov.in/pdfs/layouts/20...</td>\n",
       "      <td>70/2024</td>\n",
       "      <td>2024/70.pdf</td>\n",
       "      <td>ERROR: 503, message='Service Unavailable', url...</td>\n",
       "      <td>False</td>\n",
       "      <td>None</td>\n",
       "      <td>None</td>\n",
       "      <td>None</td>\n",
       "      <td>None</td>\n",
       "      <td>None</td>\n",
       "    </tr>\n",
       "    <tr>\n",
       "      <th>80</th>\n",
       "      <td>81</td>\n",
       "      <td>81/2024</td>\n",
       "      <td>Kundrathur PU</td>\n",
       "      <td>Kovur</td>\n",
       "      <td>https://www.cmdachennai.gov.in/pdfs/layouts/20...</td>\n",
       "      <td>81/2024</td>\n",
       "      <td>2024/81.pdf</td>\n",
       "      <td>ERROR: 503, message='Service Unavailable', url...</td>\n",
       "      <td>False</td>\n",
       "      <td>None</td>\n",
       "      <td>None</td>\n",
       "      <td>None</td>\n",
       "      <td>None</td>\n",
       "      <td>None</td>\n",
       "    </tr>\n",
       "    <tr>\n",
       "      <th>93</th>\n",
       "      <td>94</td>\n",
       "      <td>94/2024</td>\n",
       "      <td>Poonamallee PU</td>\n",
       "      <td>Sithukkadu,</td>\n",
       "      <td>https://www.cmdachennai.gov.in/pdfs/layouts/20...</td>\n",
       "      <td>94/2024</td>\n",
       "      <td>2024/94.pdf</td>\n",
       "      <td>ERROR: 503, message='Service Unavailable', url...</td>\n",
       "      <td>False</td>\n",
       "      <td>None</td>\n",
       "      <td>None</td>\n",
       "      <td>None</td>\n",
       "      <td>None</td>\n",
       "      <td>None</td>\n",
       "    </tr>\n",
       "    <tr>\n",
       "      <th>94</th>\n",
       "      <td>95</td>\n",
       "      <td>95/2024</td>\n",
       "      <td>St.Thomas Mount PU</td>\n",
       "      <td>Agaramthen</td>\n",
       "      <td>https://www.cmdachennai.gov.in/pdfs/layouts/20...</td>\n",
       "      <td>95/2024</td>\n",
       "      <td>2024/95.pdf</td>\n",
       "      <td>ERROR: 503, message='Service Unavailable', url...</td>\n",
       "      <td>False</td>\n",
       "      <td>None</td>\n",
       "      <td>None</td>\n",
       "      <td>None</td>\n",
       "      <td>None</td>\n",
       "      <td>None</td>\n",
       "    </tr>\n",
       "    <tr>\n",
       "      <th>127</th>\n",
       "      <td>128</td>\n",
       "      <td>128/2024</td>\n",
       "      <td>St.Thomas Mount PU</td>\n",
       "      <td>Vengambakkam</td>\n",
       "      <td>https://www.cmdachennai.gov.in/pdfs/layouts/20...</td>\n",
       "      <td>128/2024</td>\n",
       "      <td>2024/128.pdf</td>\n",
       "      <td>ERROR: 503, message='Service Unavailable', url...</td>\n",
       "      <td>False</td>\n",
       "      <td>None</td>\n",
       "      <td>None</td>\n",
       "      <td>None</td>\n",
       "      <td>None</td>\n",
       "      <td>None</td>\n",
       "    </tr>\n",
       "    <tr>\n",
       "      <th>129</th>\n",
       "      <td>130</td>\n",
       "      <td>130/2024</td>\n",
       "      <td>Puzhal PU</td>\n",
       "      <td>Vilangadupakkam</td>\n",
       "      <td>https://www.cmdachennai.gov.in/pdfs/layouts/20...</td>\n",
       "      <td>130/2024</td>\n",
       "      <td>2024/130.pdf</td>\n",
       "      <td>ERROR: 503, message='Service Unavailable', url...</td>\n",
       "      <td>False</td>\n",
       "      <td>None</td>\n",
       "      <td>None</td>\n",
       "      <td>None</td>\n",
       "      <td>None</td>\n",
       "      <td>None</td>\n",
       "    </tr>\n",
       "    <tr>\n",
       "      <th>130</th>\n",
       "      <td>131</td>\n",
       "      <td>131/2024</td>\n",
       "      <td>St.Thomas Mount PU</td>\n",
       "      <td>Arasankazhani</td>\n",
       "      <td>https://www.cmdachennai.gov.in/pdfs/layouts/20...</td>\n",
       "      <td>131/2024</td>\n",
       "      <td>2024/131.pdf</td>\n",
       "      <td>ERROR: 503, message='Service Unavailable', url...</td>\n",
       "      <td>False</td>\n",
       "      <td>None</td>\n",
       "      <td>None</td>\n",
       "      <td>None</td>\n",
       "      <td>None</td>\n",
       "      <td>None</td>\n",
       "    </tr>\n",
       "    <tr>\n",
       "      <th>131</th>\n",
       "      <td>132</td>\n",
       "      <td>132/2024</td>\n",
       "      <td>Tambaram Corporation</td>\n",
       "      <td>Selaiyur</td>\n",
       "      <td>https://www.cmdachennai.gov.in/pdfs/layouts/20...</td>\n",
       "      <td>132/2024</td>\n",
       "      <td>2024/132.pdf</td>\n",
       "      <td>ERROR: Connection timeout to host https://www....</td>\n",
       "      <td>False</td>\n",
       "      <td>None</td>\n",
       "      <td>None</td>\n",
       "      <td>None</td>\n",
       "      <td>None</td>\n",
       "      <td>None</td>\n",
       "    </tr>\n",
       "    <tr>\n",
       "      <th>132</th>\n",
       "      <td>133</td>\n",
       "      <td>133/2024</td>\n",
       "      <td>Kundrathur PU</td>\n",
       "      <td>Gerugambakkam</td>\n",
       "      <td>https://www.cmdachennai.gov.in/pdfs/layouts/20...</td>\n",
       "      <td>133/2024</td>\n",
       "      <td>2024/133.pdf</td>\n",
       "      <td>ERROR: Connection timeout to host https://www....</td>\n",
       "      <td>False</td>\n",
       "      <td>None</td>\n",
       "      <td>None</td>\n",
       "      <td>None</td>\n",
       "      <td>None</td>\n",
       "      <td>None</td>\n",
       "    </tr>\n",
       "    <tr>\n",
       "      <th>133</th>\n",
       "      <td>134</td>\n",
       "      <td>134/2024</td>\n",
       "      <td>Poonamallee PU</td>\n",
       "      <td>Nemam-B</td>\n",
       "      <td>https://www.cmdachennai.gov.in/pdfs/layouts/20...</td>\n",
       "      <td>134/2024</td>\n",
       "      <td>2024/134.pdf</td>\n",
       "      <td>ERROR: Connection timeout to host https://www....</td>\n",
       "      <td>False</td>\n",
       "      <td>None</td>\n",
       "      <td>None</td>\n",
       "      <td>None</td>\n",
       "      <td>None</td>\n",
       "      <td>None</td>\n",
       "    </tr>\n",
       "    <tr>\n",
       "      <th>134</th>\n",
       "      <td>135</td>\n",
       "      <td>135/2024</td>\n",
       "      <td>Tambaram Corporation</td>\n",
       "      <td>Anakaputhur</td>\n",
       "      <td>https://www.cmdachennai.gov.in/pdfs/layouts/20...</td>\n",
       "      <td>135/2024</td>\n",
       "      <td>2024/135.pdf</td>\n",
       "      <td>ERROR: Connection timeout to host https://www....</td>\n",
       "      <td>False</td>\n",
       "      <td>None</td>\n",
       "      <td>None</td>\n",
       "      <td>None</td>\n",
       "      <td>None</td>\n",
       "      <td>None</td>\n",
       "    </tr>\n",
       "    <tr>\n",
       "      <th>141</th>\n",
       "      <td>142</td>\n",
       "      <td>142/2024</td>\n",
       "      <td>Kattankolathur PU</td>\n",
       "      <td>Nedungundram</td>\n",
       "      <td>https://www.cmdachennai.gov.in/pdfs/layouts/20...</td>\n",
       "      <td>142/2024</td>\n",
       "      <td>2024/142.pdf</td>\n",
       "      <td>ERROR: 503, message='Service Unavailable', url...</td>\n",
       "      <td>False</td>\n",
       "      <td>None</td>\n",
       "      <td>None</td>\n",
       "      <td>None</td>\n",
       "      <td>None</td>\n",
       "      <td>None</td>\n",
       "    </tr>\n",
       "    <tr>\n",
       "      <th>195</th>\n",
       "      <td>196</td>\n",
       "      <td>196/2024</td>\n",
       "      <td>Sholavaram PU</td>\n",
       "      <td>Mafuskhanpet</td>\n",
       "      <td>https://www.cmdachennai.gov.in/pdfs/layouts/20...</td>\n",
       "      <td>196/2024</td>\n",
       "      <td>2024/196.pdf</td>\n",
       "      <td>ERROR: 503, message='Service Unavailable', url...</td>\n",
       "      <td>False</td>\n",
       "      <td>None</td>\n",
       "      <td>None</td>\n",
       "      <td>None</td>\n",
       "      <td>None</td>\n",
       "      <td>None</td>\n",
       "    </tr>\n",
       "    <tr>\n",
       "      <th>204</th>\n",
       "      <td>205</td>\n",
       "      <td>205/2024</td>\n",
       "      <td>Villivakkam PU</td>\n",
       "      <td>Ayapakkam</td>\n",
       "      <td>https://www.cmdachennai.gov.in/pdfs/layouts/20...</td>\n",
       "      <td>205/2024</td>\n",
       "      <td>2024/205.pdf</td>\n",
       "      <td>ERROR: 503, message='Service Unavailable', url...</td>\n",
       "      <td>False</td>\n",
       "      <td>None</td>\n",
       "      <td>None</td>\n",
       "      <td>None</td>\n",
       "      <td>None</td>\n",
       "      <td>None</td>\n",
       "    </tr>\n",
       "    <tr>\n",
       "      <th>205</th>\n",
       "      <td>206</td>\n",
       "      <td>206/2024</td>\n",
       "      <td>St.Thomas Mount PU</td>\n",
       "      <td>Arasankazhani</td>\n",
       "      <td>https://www.cmdachennai.gov.in/pdfs/layouts/20...</td>\n",
       "      <td>206/2024</td>\n",
       "      <td>2024/206.pdf</td>\n",
       "      <td>ERROR: 503, message='Service Unavailable', url...</td>\n",
       "      <td>False</td>\n",
       "      <td>None</td>\n",
       "      <td>None</td>\n",
       "      <td>None</td>\n",
       "      <td>None</td>\n",
       "      <td>None</td>\n",
       "    </tr>\n",
       "    <tr>\n",
       "      <th>217</th>\n",
       "      <td>218</td>\n",
       "      <td>218/2024</td>\n",
       "      <td>Kundrathur PU</td>\n",
       "      <td>Varadharajapuram</td>\n",
       "      <td>https://www.cmdachennai.gov.in/pdfs/layouts/20...</td>\n",
       "      <td>218/2024</td>\n",
       "      <td>2024/218.pdf</td>\n",
       "      <td>ERROR: 503, message='Service Unavailable', url...</td>\n",
       "      <td>False</td>\n",
       "      <td>None</td>\n",
       "      <td>None</td>\n",
       "      <td>None</td>\n",
       "      <td>None</td>\n",
       "      <td>None</td>\n",
       "    </tr>\n",
       "    <tr>\n",
       "      <th>223</th>\n",
       "      <td>224</td>\n",
       "      <td>224/2024</td>\n",
       "      <td>Tambaram Corporation</td>\n",
       "      <td>Tambaram</td>\n",
       "      <td>https://www.cmdachennai.gov.in/pdfs/layouts/20...</td>\n",
       "      <td>224/2024</td>\n",
       "      <td>2024/224.pdf</td>\n",
       "      <td>ERROR: 503, message='Service Unavailable', url...</td>\n",
       "      <td>False</td>\n",
       "      <td>None</td>\n",
       "      <td>None</td>\n",
       "      <td>None</td>\n",
       "      <td>None</td>\n",
       "      <td>None</td>\n",
       "    </tr>\n",
       "    <tr>\n",
       "      <th>229</th>\n",
       "      <td>230</td>\n",
       "      <td>230/2024</td>\n",
       "      <td>Tiruvallur PU</td>\n",
       "      <td>Pakkam</td>\n",
       "      <td>https://www.cmdachennai.gov.in/pdfs/layouts/20...</td>\n",
       "      <td>230/2024</td>\n",
       "      <td>2024/230.pdf</td>\n",
       "      <td>ERROR: 503, message='Service Unavailable', url...</td>\n",
       "      <td>False</td>\n",
       "      <td>None</td>\n",
       "      <td>None</td>\n",
       "      <td>None</td>\n",
       "      <td>None</td>\n",
       "      <td>None</td>\n",
       "    </tr>\n",
       "    <tr>\n",
       "      <th>235</th>\n",
       "      <td>236</td>\n",
       "      <td>236/2024</td>\n",
       "      <td>Poonamallee PU</td>\n",
       "      <td>Sorancheri - A</td>\n",
       "      <td>https://www.cmdachennai.gov.in/pdfs/layouts/20...</td>\n",
       "      <td>236/2024</td>\n",
       "      <td>2024/236.pdf</td>\n",
       "      <td>ERROR: 503, message='Service Unavailable', url...</td>\n",
       "      <td>False</td>\n",
       "      <td>None</td>\n",
       "      <td>None</td>\n",
       "      <td>None</td>\n",
       "      <td>None</td>\n",
       "      <td>None</td>\n",
       "    </tr>\n",
       "    <tr>\n",
       "      <th>238</th>\n",
       "      <td>239</td>\n",
       "      <td>239/2024</td>\n",
       "      <td>Kattankolathur PU</td>\n",
       "      <td>Puthur</td>\n",
       "      <td>https://www.cmdachennai.gov.in/pdfs/layouts/20...</td>\n",
       "      <td>239/2024</td>\n",
       "      <td>2024/239.pdf</td>\n",
       "      <td>ERROR: 503, message='Service Unavailable', url...</td>\n",
       "      <td>False</td>\n",
       "      <td>None</td>\n",
       "      <td>None</td>\n",
       "      <td>None</td>\n",
       "      <td>None</td>\n",
       "      <td>None</td>\n",
       "    </tr>\n",
       "    <tr>\n",
       "      <th>270</th>\n",
       "      <td>271</td>\n",
       "      <td>271/2024</td>\n",
       "      <td>Poonamallee PU</td>\n",
       "      <td>Kilmanambedu</td>\n",
       "      <td>https://www.cmdachennai.gov.in/pdfs/layouts/20...</td>\n",
       "      <td>271/2024</td>\n",
       "      <td>2024/271.pdf</td>\n",
       "      <td>ERROR: 503, message='Service Unavailable', url...</td>\n",
       "      <td>False</td>\n",
       "      <td>None</td>\n",
       "      <td>None</td>\n",
       "      <td>None</td>\n",
       "      <td>None</td>\n",
       "      <td>None</td>\n",
       "    </tr>\n",
       "    <tr>\n",
       "      <th>271</th>\n",
       "      <td>272</td>\n",
       "      <td>272/2024</td>\n",
       "      <td>St.Thomas Mount PU</td>\n",
       "      <td>Kaspapuram</td>\n",
       "      <td>https://www.cmdachennai.gov.in/pdfs/layouts/20...</td>\n",
       "      <td>272/2024</td>\n",
       "      <td>2024/272.pdf</td>\n",
       "      <td>ERROR: 503, message='Service Unavailable', url...</td>\n",
       "      <td>False</td>\n",
       "      <td>None</td>\n",
       "      <td>None</td>\n",
       "      <td>None</td>\n",
       "      <td>None</td>\n",
       "      <td>None</td>\n",
       "    </tr>\n",
       "    <tr>\n",
       "      <th>283</th>\n",
       "      <td>284</td>\n",
       "      <td>284/2024</td>\n",
       "      <td>St.Thomas Mount PU</td>\n",
       "      <td>Medavakkam</td>\n",
       "      <td>https://www.cmdachennai.gov.in/pdfs/layouts/20...</td>\n",
       "      <td>284/2024</td>\n",
       "      <td>2024/284.pdf</td>\n",
       "      <td>ERROR: 503, message='Service Unavailable', url...</td>\n",
       "      <td>False</td>\n",
       "      <td>None</td>\n",
       "      <td>None</td>\n",
       "      <td>None</td>\n",
       "      <td>None</td>\n",
       "      <td>None</td>\n",
       "    </tr>\n",
       "    <tr>\n",
       "      <th>284</th>\n",
       "      <td>285</td>\n",
       "      <td>285/2024</td>\n",
       "      <td>Kundrathur PU</td>\n",
       "      <td>Malayambakkam</td>\n",
       "      <td>https://www.cmdachennai.gov.in/pdfs/layouts/20...</td>\n",
       "      <td>285/2024</td>\n",
       "      <td>2024/285.pdf</td>\n",
       "      <td>ERROR: 503, message='Service Unavailable', url...</td>\n",
       "      <td>False</td>\n",
       "      <td>None</td>\n",
       "      <td>None</td>\n",
       "      <td>None</td>\n",
       "      <td>None</td>\n",
       "      <td>None</td>\n",
       "    </tr>\n",
       "    <tr>\n",
       "      <th>289</th>\n",
       "      <td>290</td>\n",
       "      <td>290/2024</td>\n",
       "      <td>Tambaram Corporation</td>\n",
       "      <td>Madambakkam</td>\n",
       "      <td>https://www.cmdachennai.gov.in/pdfs/layouts/20...</td>\n",
       "      <td>290/2024</td>\n",
       "      <td>2024/290.pdf</td>\n",
       "      <td>ERROR: 503, message='Service Unavailable', url...</td>\n",
       "      <td>False</td>\n",
       "      <td>None</td>\n",
       "      <td>None</td>\n",
       "      <td>None</td>\n",
       "      <td>None</td>\n",
       "      <td>None</td>\n",
       "    </tr>\n",
       "    <tr>\n",
       "      <th>293</th>\n",
       "      <td>294</td>\n",
       "      <td>294/2024</td>\n",
       "      <td>Minjur TP</td>\n",
       "      <td>Minjur</td>\n",
       "      <td>https://www.cmdachennai.gov.in/pdfs/layouts/20...</td>\n",
       "      <td>294/2024</td>\n",
       "      <td>2024/294.pdf</td>\n",
       "      <td>ERROR: 503, message='Service Unavailable', url...</td>\n",
       "      <td>False</td>\n",
       "      <td>None</td>\n",
       "      <td>None</td>\n",
       "      <td>None</td>\n",
       "      <td>None</td>\n",
       "      <td>None</td>\n",
       "    </tr>\n",
       "    <tr>\n",
       "      <th>295</th>\n",
       "      <td>296</td>\n",
       "      <td>296/2024</td>\n",
       "      <td>Minjur TP</td>\n",
       "      <td>Minjur</td>\n",
       "      <td>https://www.cmdachennai.gov.in/pdfs/layouts/20...</td>\n",
       "      <td>296/2024</td>\n",
       "      <td>2024/296.pdf</td>\n",
       "      <td>ERROR: 503, message='Service Unavailable', url...</td>\n",
       "      <td>False</td>\n",
       "      <td>None</td>\n",
       "      <td>None</td>\n",
       "      <td>None</td>\n",
       "      <td>None</td>\n",
       "      <td>None</td>\n",
       "    </tr>\n",
       "    <tr>\n",
       "      <th>296</th>\n",
       "      <td>297</td>\n",
       "      <td>297/2024</td>\n",
       "      <td>Poonamallee PU</td>\n",
       "      <td>Kuthambakkam</td>\n",
       "      <td>https://www.cmdachennai.gov.in/pdfs/layouts/20...</td>\n",
       "      <td>297/2024</td>\n",
       "      <td>2024/297.pdf</td>\n",
       "      <td>ERROR: 503, message='Service Unavailable', url...</td>\n",
       "      <td>False</td>\n",
       "      <td>None</td>\n",
       "      <td>None</td>\n",
       "      <td>None</td>\n",
       "      <td>None</td>\n",
       "      <td>None</td>\n",
       "    </tr>\n",
       "    <tr>\n",
       "      <th>298</th>\n",
       "      <td>299</td>\n",
       "      <td>299/2024</td>\n",
       "      <td>Poonamallee PU</td>\n",
       "      <td>Kannapalayam</td>\n",
       "      <td>https://www.cmdachennai.gov.in/pdfs/layouts/20...</td>\n",
       "      <td>299/2024</td>\n",
       "      <td>2024/299.pdf</td>\n",
       "      <td>ERROR: 503, message='Service Unavailable', url...</td>\n",
       "      <td>False</td>\n",
       "      <td>None</td>\n",
       "      <td>None</td>\n",
       "      <td>None</td>\n",
       "      <td>None</td>\n",
       "      <td>None</td>\n",
       "    </tr>\n",
       "    <tr>\n",
       "      <th>304</th>\n",
       "      <td>305</td>\n",
       "      <td>305/2024</td>\n",
       "      <td>Poonamallee PU</td>\n",
       "      <td>Parivakkam</td>\n",
       "      <td>https://www.cmdachennai.gov.in/pdfs/layouts/20...</td>\n",
       "      <td>305/2024</td>\n",
       "      <td>2024/305.pdf</td>\n",
       "      <td>ERROR: 503, message='Service Unavailable', url...</td>\n",
       "      <td>False</td>\n",
       "      <td>None</td>\n",
       "      <td>None</td>\n",
       "      <td>None</td>\n",
       "      <td>None</td>\n",
       "      <td>None</td>\n",
       "    </tr>\n",
       "    <tr>\n",
       "      <th>305</th>\n",
       "      <td>306</td>\n",
       "      <td>306/2024</td>\n",
       "      <td>Poonamallee PU</td>\n",
       "      <td>Chokkanallur</td>\n",
       "      <td>https://www.cmdachennai.gov.in/pdfs/layouts/20...</td>\n",
       "      <td>306/2024</td>\n",
       "      <td>2024/306.pdf</td>\n",
       "      <td>ERROR: 503, message='Service Unavailable', url...</td>\n",
       "      <td>False</td>\n",
       "      <td>None</td>\n",
       "      <td>None</td>\n",
       "      <td>None</td>\n",
       "      <td>None</td>\n",
       "      <td>None</td>\n",
       "    </tr>\n",
       "  </tbody>\n",
       "</table>\n",
       "</div>"
      ],
      "text/plain": [
       "    SNo. Approval No. PPD/L.O. No.             Localbody           Village  \\\n",
       "6      7                   07/2024       Thiruverkadu MP           Noombal   \n",
       "16    17                   17/2024         Sholavaram PU          Nayar II   \n",
       "36    37                   37/2024    St.Thomas Mount PU        Kaspapuram   \n",
       "69    70                   70/2024         Kundrathur PU   Kulathuvancheri   \n",
       "80    81                   81/2024         Kundrathur PU             Kovur   \n",
       "93    94                   94/2024        Poonamallee PU       Sithukkadu,   \n",
       "94    95                   95/2024    St.Thomas Mount PU        Agaramthen   \n",
       "127  128                  128/2024    St.Thomas Mount PU      Vengambakkam   \n",
       "129  130                  130/2024             Puzhal PU   Vilangadupakkam   \n",
       "130  131                  131/2024    St.Thomas Mount PU     Arasankazhani   \n",
       "131  132                  132/2024  Tambaram Corporation          Selaiyur   \n",
       "132  133                  133/2024         Kundrathur PU     Gerugambakkam   \n",
       "133  134                  134/2024        Poonamallee PU           Nemam-B   \n",
       "134  135                  135/2024  Tambaram Corporation       Anakaputhur   \n",
       "141  142                  142/2024     Kattankolathur PU      Nedungundram   \n",
       "195  196                  196/2024         Sholavaram PU      Mafuskhanpet   \n",
       "204  205                  205/2024        Villivakkam PU         Ayapakkam   \n",
       "205  206                  206/2024    St.Thomas Mount PU     Arasankazhani   \n",
       "217  218                  218/2024         Kundrathur PU  Varadharajapuram   \n",
       "223  224                  224/2024  Tambaram Corporation          Tambaram   \n",
       "229  230                  230/2024         Tiruvallur PU            Pakkam   \n",
       "235  236                  236/2024        Poonamallee PU    Sorancheri - A   \n",
       "238  239                  239/2024     Kattankolathur PU            Puthur   \n",
       "270  271                  271/2024        Poonamallee PU      Kilmanambedu   \n",
       "271  272                  272/2024    St.Thomas Mount PU        Kaspapuram   \n",
       "283  284                  284/2024    St.Thomas Mount PU        Medavakkam   \n",
       "284  285                  285/2024         Kundrathur PU     Malayambakkam   \n",
       "289  290                  290/2024  Tambaram Corporation       Madambakkam   \n",
       "293  294                  294/2024             Minjur TP            Minjur   \n",
       "295  296                  296/2024             Minjur TP            Minjur   \n",
       "296  297                  297/2024        Poonamallee PU      Kuthambakkam   \n",
       "298  299                  299/2024        Poonamallee PU      Kannapalayam   \n",
       "304  305                  305/2024        Poonamallee PU        Parivakkam   \n",
       "305  306                  306/2024        Poonamallee PU      Chokkanallur   \n",
       "\n",
       "                                                   url extracted_ppl  \\\n",
       "6    https://www.cmdachennai.gov.in/pdfs/layouts/20...       07/2024   \n",
       "16   https://www.cmdachennai.gov.in/pdfs/layouts/20...       17/2024   \n",
       "36   https://www.cmdachennai.gov.in/pdfs/layouts/20...       37/2024   \n",
       "69   https://www.cmdachennai.gov.in/pdfs/layouts/20...       70/2024   \n",
       "80   https://www.cmdachennai.gov.in/pdfs/layouts/20...       81/2024   \n",
       "93   https://www.cmdachennai.gov.in/pdfs/layouts/20...       94/2024   \n",
       "94   https://www.cmdachennai.gov.in/pdfs/layouts/20...       95/2024   \n",
       "127  https://www.cmdachennai.gov.in/pdfs/layouts/20...      128/2024   \n",
       "129  https://www.cmdachennai.gov.in/pdfs/layouts/20...      130/2024   \n",
       "130  https://www.cmdachennai.gov.in/pdfs/layouts/20...      131/2024   \n",
       "131  https://www.cmdachennai.gov.in/pdfs/layouts/20...      132/2024   \n",
       "132  https://www.cmdachennai.gov.in/pdfs/layouts/20...      133/2024   \n",
       "133  https://www.cmdachennai.gov.in/pdfs/layouts/20...      134/2024   \n",
       "134  https://www.cmdachennai.gov.in/pdfs/layouts/20...      135/2024   \n",
       "141  https://www.cmdachennai.gov.in/pdfs/layouts/20...      142/2024   \n",
       "195  https://www.cmdachennai.gov.in/pdfs/layouts/20...      196/2024   \n",
       "204  https://www.cmdachennai.gov.in/pdfs/layouts/20...      205/2024   \n",
       "205  https://www.cmdachennai.gov.in/pdfs/layouts/20...      206/2024   \n",
       "217  https://www.cmdachennai.gov.in/pdfs/layouts/20...      218/2024   \n",
       "223  https://www.cmdachennai.gov.in/pdfs/layouts/20...      224/2024   \n",
       "229  https://www.cmdachennai.gov.in/pdfs/layouts/20...      230/2024   \n",
       "235  https://www.cmdachennai.gov.in/pdfs/layouts/20...      236/2024   \n",
       "238  https://www.cmdachennai.gov.in/pdfs/layouts/20...      239/2024   \n",
       "270  https://www.cmdachennai.gov.in/pdfs/layouts/20...      271/2024   \n",
       "271  https://www.cmdachennai.gov.in/pdfs/layouts/20...      272/2024   \n",
       "283  https://www.cmdachennai.gov.in/pdfs/layouts/20...      284/2024   \n",
       "284  https://www.cmdachennai.gov.in/pdfs/layouts/20...      285/2024   \n",
       "289  https://www.cmdachennai.gov.in/pdfs/layouts/20...      290/2024   \n",
       "293  https://www.cmdachennai.gov.in/pdfs/layouts/20...      294/2024   \n",
       "295  https://www.cmdachennai.gov.in/pdfs/layouts/20...      296/2024   \n",
       "296  https://www.cmdachennai.gov.in/pdfs/layouts/20...      297/2024   \n",
       "298  https://www.cmdachennai.gov.in/pdfs/layouts/20...      299/2024   \n",
       "304  https://www.cmdachennai.gov.in/pdfs/layouts/20...      305/2024   \n",
       "305  https://www.cmdachennai.gov.in/pdfs/layouts/20...      306/2024   \n",
       "\n",
       "     pdf_savepath                                     extracted_text  \\\n",
       "6     2024/07.pdf  ERROR: 503, message='Service Unavailable', url...   \n",
       "16    2024/17.pdf  ERROR: 503, message='Service Unavailable', url...   \n",
       "36    2024/37.pdf  ERROR: 503, message='Service Unavailable', url...   \n",
       "69    2024/70.pdf  ERROR: 503, message='Service Unavailable', url...   \n",
       "80    2024/81.pdf  ERROR: 503, message='Service Unavailable', url...   \n",
       "93    2024/94.pdf  ERROR: 503, message='Service Unavailable', url...   \n",
       "94    2024/95.pdf  ERROR: 503, message='Service Unavailable', url...   \n",
       "127  2024/128.pdf  ERROR: 503, message='Service Unavailable', url...   \n",
       "129  2024/130.pdf  ERROR: 503, message='Service Unavailable', url...   \n",
       "130  2024/131.pdf  ERROR: 503, message='Service Unavailable', url...   \n",
       "131  2024/132.pdf  ERROR: Connection timeout to host https://www....   \n",
       "132  2024/133.pdf  ERROR: Connection timeout to host https://www....   \n",
       "133  2024/134.pdf  ERROR: Connection timeout to host https://www....   \n",
       "134  2024/135.pdf  ERROR: Connection timeout to host https://www....   \n",
       "141  2024/142.pdf  ERROR: 503, message='Service Unavailable', url...   \n",
       "195  2024/196.pdf  ERROR: 503, message='Service Unavailable', url...   \n",
       "204  2024/205.pdf  ERROR: 503, message='Service Unavailable', url...   \n",
       "205  2024/206.pdf  ERROR: 503, message='Service Unavailable', url...   \n",
       "217  2024/218.pdf  ERROR: 503, message='Service Unavailable', url...   \n",
       "223  2024/224.pdf  ERROR: 503, message='Service Unavailable', url...   \n",
       "229  2024/230.pdf  ERROR: 503, message='Service Unavailable', url...   \n",
       "235  2024/236.pdf  ERROR: 503, message='Service Unavailable', url...   \n",
       "238  2024/239.pdf  ERROR: 503, message='Service Unavailable', url...   \n",
       "270  2024/271.pdf  ERROR: 503, message='Service Unavailable', url...   \n",
       "271  2024/272.pdf  ERROR: 503, message='Service Unavailable', url...   \n",
       "283  2024/284.pdf  ERROR: 503, message='Service Unavailable', url...   \n",
       "284  2024/285.pdf  ERROR: 503, message='Service Unavailable', url...   \n",
       "289  2024/290.pdf  ERROR: 503, message='Service Unavailable', url...   \n",
       "293  2024/294.pdf  ERROR: 503, message='Service Unavailable', url...   \n",
       "295  2024/296.pdf  ERROR: 503, message='Service Unavailable', url...   \n",
       "296  2024/297.pdf  ERROR: 503, message='Service Unavailable', url...   \n",
       "298  2024/299.pdf  ERROR: 503, message='Service Unavailable', url...   \n",
       "304  2024/305.pdf  ERROR: 503, message='Service Unavailable', url...   \n",
       "305  2024/306.pdf  ERROR: 503, message='Service Unavailable', url...   \n",
       "\n",
       "     saved_to_disk total_no_plots   ews regular  date reference_number  \n",
       "6            False           None  None    None  None             None  \n",
       "16           False           None  None    None  None             None  \n",
       "36           False           None  None    None  None             None  \n",
       "69           False           None  None    None  None             None  \n",
       "80           False           None  None    None  None             None  \n",
       "93           False           None  None    None  None             None  \n",
       "94           False           None  None    None  None             None  \n",
       "127          False           None  None    None  None             None  \n",
       "129          False           None  None    None  None             None  \n",
       "130          False           None  None    None  None             None  \n",
       "131          False           None  None    None  None             None  \n",
       "132          False           None  None    None  None             None  \n",
       "133          False           None  None    None  None             None  \n",
       "134          False           None  None    None  None             None  \n",
       "141          False           None  None    None  None             None  \n",
       "195          False           None  None    None  None             None  \n",
       "204          False           None  None    None  None             None  \n",
       "205          False           None  None    None  None             None  \n",
       "217          False           None  None    None  None             None  \n",
       "223          False           None  None    None  None             None  \n",
       "229          False           None  None    None  None             None  \n",
       "235          False           None  None    None  None             None  \n",
       "238          False           None  None    None  None             None  \n",
       "270          False           None  None    None  None             None  \n",
       "271          False           None  None    None  None             None  \n",
       "283          False           None  None    None  None             None  \n",
       "284          False           None  None    None  None             None  \n",
       "289          False           None  None    None  None             None  \n",
       "293          False           None  None    None  None             None  \n",
       "295          False           None  None    None  None             None  \n",
       "296          False           None  None    None  None             None  \n",
       "298          False           None  None    None  None             None  \n",
       "304          False           None  None    None  None             None  \n",
       "305          False           None  None    None  None             None  "
      ]
     },
     "execution_count": 37,
     "metadata": {},
     "output_type": "execute_result"
    }
   ],
   "source": [
    "pqdf[pqdf.extracted_text.str.startswith(\"ERROR\")]"
   ]
  }
 ],
 "metadata": {
  "kernelspec": {
   "display_name": "py3_12",
   "language": "python",
   "name": "python3"
  },
  "language_info": {
   "codemirror_mode": {
    "name": "ipython",
    "version": 3
   },
   "file_extension": ".py",
   "mimetype": "text/x-python",
   "name": "python",
   "nbconvert_exporter": "python",
   "pygments_lexer": "ipython3",
   "version": "3.12.1"
  }
 },
 "nbformat": 4,
 "nbformat_minor": 5
}
